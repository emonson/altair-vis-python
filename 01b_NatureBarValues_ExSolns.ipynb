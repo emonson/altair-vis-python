{
 "cells": [
  {
   "cell_type": "markdown",
   "metadata": {},
   "source": [
    "# 01_NatureBarValues Exercise Solutions\n",
    "\n",
    "Solutions for exercises scattered through\n",
    "[01_NatureBarValues](01_NatureBarValues.ipynb) notebook."
   ]
  },
  {
   "cell_type": "code",
   "execution_count": 1,
   "metadata": {},
   "outputs": [],
   "source": [
    "import pandas as pd\n",
    "import altair as alt"
   ]
  },
  {
   "cell_type": "code",
   "execution_count": 3,
   "metadata": {},
   "outputs": [
    {
     "data": {
      "text/html": [
       "<div>\n",
       "<style scoped>\n",
       "    .dataframe tbody tr th:only-of-type {\n",
       "        vertical-align: middle;\n",
       "    }\n",
       "\n",
       "    .dataframe tbody tr th {\n",
       "        vertical-align: top;\n",
       "    }\n",
       "\n",
       "    .dataframe thead th {\n",
       "        text-align: right;\n",
       "    }\n",
       "</style>\n",
       "<table border=\"1\" class=\"dataframe\">\n",
       "  <thead>\n",
       "    <tr style=\"text-align: right;\">\n",
       "      <th></th>\n",
       "      <th>Item</th>\n",
       "      <th>Category</th>\n",
       "      <th>value</th>\n",
       "    </tr>\n",
       "  </thead>\n",
       "  <tbody>\n",
       "    <tr>\n",
       "      <td>0</td>\n",
       "      <td>Item 1</td>\n",
       "      <td>Category 1</td>\n",
       "      <td>6</td>\n",
       "    </tr>\n",
       "    <tr>\n",
       "      <td>1</td>\n",
       "      <td>Item 2</td>\n",
       "      <td>Category 1</td>\n",
       "      <td>8</td>\n",
       "    </tr>\n",
       "    <tr>\n",
       "      <td>2</td>\n",
       "      <td>Item 3</td>\n",
       "      <td>Category 1</td>\n",
       "      <td>10</td>\n",
       "    </tr>\n",
       "    <tr>\n",
       "      <td>3</td>\n",
       "      <td>Item 4</td>\n",
       "      <td>Category 1</td>\n",
       "      <td>20</td>\n",
       "    </tr>\n",
       "    <tr>\n",
       "      <td>4</td>\n",
       "      <td>Item 5</td>\n",
       "      <td>Category 1</td>\n",
       "      <td>23</td>\n",
       "    </tr>\n",
       "    <tr>\n",
       "      <td>5</td>\n",
       "      <td>Item 1</td>\n",
       "      <td>Category 2</td>\n",
       "      <td>29</td>\n",
       "    </tr>\n",
       "    <tr>\n",
       "      <td>6</td>\n",
       "      <td>Item 2</td>\n",
       "      <td>Category 2</td>\n",
       "      <td>27</td>\n",
       "    </tr>\n",
       "  </tbody>\n",
       "</table>\n",
       "</div>"
      ],
      "text/plain": [
       "     Item    Category  value\n",
       "0  Item 1  Category 1      6\n",
       "1  Item 2  Category 1      8\n",
       "2  Item 3  Category 1     10\n",
       "3  Item 4  Category 1     20\n",
       "4  Item 5  Category 1     23\n",
       "5  Item 1  Category 2     29\n",
       "6  Item 2  Category 2     27"
      ]
     },
     "execution_count": 3,
     "metadata": {},
     "output_type": "execute_result"
    }
   ],
   "source": [
    "df_orig = pd.read_csv('data/NatureBarValues.csv')\n",
    "df = df_orig.melt(id_vars=[\"Item\"], var_name=\"Category\")\n",
    "df.head(7)"
   ]
  },
  {
   "cell_type": "markdown",
   "metadata": {},
   "source": [
    "---\n",
    "\n",
    "## EXERCISE 1\n",
    "\n",
    "Before we proceed, try making a similar stacked bar chart, but this time with \n",
    "\n",
    "- a bar for each category (along the bottom), \n",
    "- each bar representing the sum of the values within the category, and \n",
    "- a differnt color for each item."
   ]
  },
  {
   "cell_type": "code",
   "execution_count": 14,
   "metadata": {},
   "outputs": [
    {
     "data": {
      "application/vnd.vegalite.v3+json": {
       "$schema": "https://vega.github.io/schema/vega-lite/v3.4.0.json",
       "config": {
        "mark": {
         "tooltip": null
        },
        "view": {
         "height": 300,
         "width": 400
        }
       },
       "data": {
        "format": {
         "type": "json"
        },
        "url": "altair-data-734e125f330dd2d43ae418168a63d485.json"
       },
       "encoding": {
        "color": {
         "field": "Item",
         "type": "nominal"
        },
        "x": {
         "field": "Category",
         "type": "nominal"
        },
        "y": {
         "aggregate": "sum",
         "field": "value",
         "type": "quantitative"
        }
       },
       "mark": "bar"
      },
      "image/png": "[encoded data removed]",
      "text/plain": [
       "<VegaLite 3 object>\n",
       "\n",
       "If you see this message, it means the renderer has not been properly enabled\n",
       "for the frontend that you are using. For more information, see\n",
       "https://altair-viz.github.io/user_guide/troubleshooting.html\n"
      ]
     },
     "execution_count": 14,
     "metadata": {},
     "output_type": "execute_result"
    }
   ],
   "source": [
    "alt.Chart(df).mark_bar().encode(\n",
    "    x = 'Category:N',\n",
    "    y = 'sum(value):Q',\n",
    "    color = 'Item:N'\n",
    ")"
   ]
  },
  {
   "cell_type": "markdown",
   "metadata": {},
   "source": [
    "---\n",
    "\n",
    "## EXERCISE 2\n",
    "\n",
    "Layer (superimpose) two visualizations:\n",
    "\n",
    "1. Vertical bar chart showing\n",
    "    - Categories across the horizontal (bottom) axis\n",
    "    - mean value (across all the Items) going up the vertical axis (bar height)\n",
    "    - `color = alt.value('lightgray')`\n",
    "1. Point plot of all individual values\n",
    "    - Categories again along the horizontal axis\n",
    "    - values up the vertical axis\n",
    "    - color by Category\n",
    "    \n",
    "*Point plot should be on top of the bar chart!*"
   ]
  },
  {
   "cell_type": "code",
   "execution_count": 11,
   "metadata": {},
   "outputs": [
    {
     "data": {
      "application/vnd.vegalite.v3+json": {
       "$schema": "https://vega.github.io/schema/vega-lite/v3.4.0.json",
       "config": {
        "mark": {
         "tooltip": null
        },
        "view": {
         "height": 300,
         "width": 400
        }
       },
       "data": {
        "name": "data-dcc63c1bd6179d79fcae39778c52b169"
       },
       "datasets": {
        "data-dcc63c1bd6179d79fcae39778c52b169": [
         {
          "Category": "Category 1",
          "Item": "Item 1",
          "value": 6
         },
         {
          "Category": "Category 1",
          "Item": "Item 2",
          "value": 8
         },
         {
          "Category": "Category 1",
          "Item": "Item 3",
          "value": 10
         },
         {
          "Category": "Category 1",
          "Item": "Item 4",
          "value": 20
         },
         {
          "Category": "Category 1",
          "Item": "Item 5",
          "value": 23
         },
         {
          "Category": "Category 2",
          "Item": "Item 1",
          "value": 29
         },
         {
          "Category": "Category 2",
          "Item": "Item 2",
          "value": 27
         },
         {
          "Category": "Category 2",
          "Item": "Item 3",
          "value": 21
         },
         {
          "Category": "Category 2",
          "Item": "Item 4",
          "value": 17
         },
         {
          "Category": "Category 2",
          "Item": "Item 5",
          "value": 5
         },
         {
          "Category": "Category 3",
          "Item": "Item 1",
          "value": 18
         },
         {
          "Category": "Category 3",
          "Item": "Item 2",
          "value": 17
         },
         {
          "Category": "Category 3",
          "Item": "Item 3",
          "value": 16
         },
         {
          "Category": "Category 3",
          "Item": "Item 4",
          "value": 16
         },
         {
          "Category": "Category 3",
          "Item": "Item 5",
          "value": 15
         },
         {
          "Category": "Category 4",
          "Item": "Item 1",
          "value": 30
         },
         {
          "Category": "Category 4",
          "Item": "Item 2",
          "value": 13
         },
         {
          "Category": "Category 4",
          "Item": "Item 3",
          "value": 4
         },
         {
          "Category": "Category 4",
          "Item": "Item 4",
          "value": 9
         },
         {
          "Category": "Category 4",
          "Item": "Item 5",
          "value": 19
         },
         {
          "Category": "Category 5",
          "Item": "Item 1",
          "value": 7
         },
         {
          "Category": "Category 5",
          "Item": "Item 2",
          "value": 11
         },
         {
          "Category": "Category 5",
          "Item": "Item 3",
          "value": 19
         },
         {
          "Category": "Category 5",
          "Item": "Item 4",
          "value": 7
         },
         {
          "Category": "Category 5",
          "Item": "Item 5",
          "value": 2
         }
        ]
       },
       "layer": [
        {
         "encoding": {
          "color": {
           "value": "lightgray"
          },
          "x": {
           "field": "Category",
           "type": "nominal"
          },
          "y": {
           "aggregate": "mean",
           "field": "value",
           "type": "quantitative"
          }
         },
         "height": 200,
         "mark": "bar",
         "width": 200
        },
        {
         "encoding": {
          "color": {
           "field": "Category",
           "type": "nominal"
          },
          "x": {
           "field": "Category",
           "type": "nominal"
          },
          "y": {
           "field": "value",
           "type": "quantitative"
          }
         },
         "height": 200,
         "mark": "point",
         "width": 200
        }
       ]
      },
      "image/png": "[encoded data removed]",
      "text/plain": [
       "<VegaLite 3 object>\n",
       "\n",
       "If you see this message, it means the renderer has not been properly enabled\n",
       "for the frontend that you are using. For more information, see\n",
       "https://altair-viz.github.io/user_guide/troubleshooting.html\n"
      ]
     },
     "execution_count": 11,
     "metadata": {},
     "output_type": "execute_result"
    }
   ],
   "source": [
    "base_plot = alt.Chart(df).encode(\n",
    "    x = 'Category:N'\n",
    ").properties(\n",
    "    width = 200,\n",
    "    height = 200\n",
    ")\n",
    "\n",
    "point = base_plot.mark_point().encode(\n",
    "    y = 'value:Q',\n",
    "    color = 'Category:N'\n",
    ")\n",
    "\n",
    "bar = base_plot.mark_bar().encode(\n",
    "    y = 'mean(value):Q',\n",
    "    color = alt.value('lightgray')\n",
    ")\n",
    "\n",
    "bar + point"
   ]
  },
  {
   "cell_type": "code",
   "execution_count": null,
   "metadata": {},
   "outputs": [],
   "source": []
  }
 ],
 "metadata": {
  "kernelspec": {
   "display_name": "Python 3",
   "language": "python",
   "name": "python3"
  },
  "language_info": {
   "codemirror_mode": {
    "name": "ipython",
    "version": 3
   },
   "file_extension": ".py",
   "mimetype": "text/x-python",
   "name": "python",
   "nbconvert_exporter": "python",
   "pygments_lexer": "ipython3",
   "version": "3.7.3"
  }
 },
 "nbformat": 4,
 "nbformat_minor": 4
}
