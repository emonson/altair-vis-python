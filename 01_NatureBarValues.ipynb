{
 "cells": [
  {
   "cell_type": "markdown",
   "metadata": {},
   "source": [
    "## Altair with simple, sample data\n",
    "\n",
    "- **[Altair documentation](https://altair-viz.github.io/index.html)**\n",
    "\n",
    "\n",
    "- [Vega-Lite site](https://vega.github.io/vega-lite/)\n",
    "- [Vega-Lite documentation](https://vega.github.io/vega-lite/docs/)\n",
    "- [Vega-Lite 2.0 Medium article](https://medium.com/@uwdata/introducing-vega-lite-2-0-de6661c12d58)\n",
    "- [Vega-Lite 2.0 OpenVisConf 2017 talk](https://www.youtube.com/watch?v=9uaHRWj04D4)\n",
    "- [About the Vega project](https://vega.github.io/vega/about/)\n",
    "\n",
    "This is just a made-up data set inspired by a [Nature Methods article](https://www.nature.com/articles/nmeth.2807)"
   ]
  },
  {
   "cell_type": "code",
   "execution_count": null,
   "metadata": {},
   "outputs": [],
   "source": [
    "import pandas as pd\n",
    "import altair as alt"
   ]
  },
  {
   "cell_type": "markdown",
   "metadata": {},
   "source": [
    "### Load in sample data\n",
    "\n",
    "We'll load all data into a Panda DataFrame. A DataFrame is just a special data structure that is meant for \"tablular data\", which is like a spreadsheet. DataFrames also have build-in functions that can modify and display the data.\n",
    "\n",
    "This pretend data set has values for five items in five categories. It gives us a chance to play around with various visual representations. **The best choice depends on which comparisons are most important to the story you're trying to tell!**"
   ]
  },
  {
   "cell_type": "code",
   "execution_count": null,
   "metadata": {},
   "outputs": [],
   "source": [
    "df_orig = pd.read_csv('data/NatureBarValues.csv')"
   ]
  },
  {
   "cell_type": "markdown",
   "metadata": {},
   "source": [
    "#### Preview the data\n",
    "\n",
    "You can just type the name of the dataframe to get a printout of the contents"
   ]
  },
  {
   "cell_type": "code",
   "execution_count": null,
   "metadata": {},
   "outputs": [],
   "source": [
    "df_orig"
   ]
  },
  {
   "cell_type": "markdown",
   "metadata": {},
   "source": [
    "### Make data \"tidy\"\n",
    "\n",
    "The data isn't in the right form for visualization in Altair (or Tableau or ggplot2). Right now it's \"wide\" and it needs to be \"tall\". Once we \"tidy\" the data, each column will have only one type of information, and the same types of data won't be spread across multiple columns.\n",
    "\n",
    "See my previous *Tidy Data in Python with JupyterLab*\n",
    "[repository](https://github.com/emonson/tidy-data-python) and [video](https://library.capture.duke.edu/Panopto/Pages/Viewer.aspx?id=d8a3efe2-48d7-4505-acd3-a943013c2442)\n",
    "\n",
    "In Pandas we do this by using the `melt()` function. We specify a list of columns that won't be pivoted using the `id_vars=` argument (here the list only has one item in it), and all other columns will be pivoted. We also here specify a name for the column that used to be the column headers. The `head()` method lets you view the first set of rows."
   ]
  },
  {
   "cell_type": "code",
   "execution_count": null,
   "metadata": {},
   "outputs": [],
   "source": [
    "df = df_orig.melt(id_vars=[\"Item\"],var_name=\"Category\")\n",
    "df.head(10)"
   ]
  },
  {
   "cell_type": "markdown",
   "metadata": {},
   "source": [
    "### Heatmap\n",
    "\n",
    "A heatmap is a very compact visual representation of the data, where rectangles are colored by the values in each cell. We're not really good at quantitatively comparing color values, though, so this isn't a great representation if you want people to accurately detect the numerical patterns. Also, note that Category 3 values aren't distinguishable.\n"
   ]
  },
  {
   "cell_type": "code",
   "execution_count": null,
   "metadata": {},
   "outputs": [],
   "source": [
    "alt.Chart(df).mark_rect().encode(\n",
    "    x = 'Category',\n",
    "    y = 'Item',\n",
    "    color = 'value'\n",
    ")"
   ]
  },
  {
   "cell_type": "markdown",
   "metadata": {},
   "source": [
    "### Vega-Lite specification\n",
    "\n",
    "What Altair really produces is a Vega-Lite JSON declarative specification for building the visualization, and JupyterLab has Vega and Vega-Lite built in for rendering. This is a nice separation of concerns, where Altair just needs to know how to make JSON, and the renderer knows how to actually create the visuals!\n",
    "\n",
    "We can see the specification behind each visualization by using `.to_json()` or `.to_dict()`. Here we'll use the latter, because the printout is more compact, but feel free to try the former.\n",
    "\n",
    "**Note that all of the data is included in the JSON!!**\n",
    "\n",
    "- [Medium article on Vega-Lite adoption](https://medium.com/@robin.linacre/why-im-backing-vega-lite-as-our-default-tool-for-data-visualisation-51c20970df39)"
   ]
  },
  {
   "cell_type": "code",
   "execution_count": null,
   "metadata": {},
   "outputs": [],
   "source": [
    "heatmap = alt.Chart(df).mark_rect().encode(\n",
    "    x = 'Category',\n",
    "    y = 'Item',\n",
    "    color = 'value'\n",
    ")\n",
    "heatmap.to_dict()"
   ]
  },
  {
   "cell_type": "markdown",
   "metadata": {},
   "source": [
    "### All data still included, even with a filter applied\n",
    "\n",
    "One limitation of Altair is that **all of the data is included in the JSON, even if you're filtering down to a subset, or not using part of it!**\n",
    "\n",
    "Here we'll filter down to just a single value of data..."
   ]
  },
  {
   "cell_type": "code",
   "execution_count": null,
   "metadata": {},
   "outputs": [],
   "source": [
    "alt.Chart(df).mark_rect().encode(\n",
    "    x = 'Category'\n",
    ").transform_filter(\n",
    "    \"datum.Category == 'Category 1'\"\n",
    ")"
   ]
  },
  {
   "cell_type": "markdown",
   "metadata": {},
   "source": [
    "...but all the data is still included in the JSON"
   ]
  },
  {
   "cell_type": "code",
   "execution_count": null,
   "metadata": {},
   "outputs": [],
   "source": [
    "heatmap = alt.Chart(df).mark_rect().encode(\n",
    "    x = 'Category'\n",
    ").transform_filter(\n",
    "    \"datum.Category == 'Category 1'\"\n",
    ")\n",
    "heatmap.to_dict()"
   ]
  },
  {
   "cell_type": "markdown",
   "metadata": {},
   "source": [
    "## MaxRowsError\n",
    "\n",
    "Having all the data embedded in every visualization will not only bog down your notebook, it will eventually give you an error called the MaxRowsError. You can take off limit for number of rows, but that's not a great idea because you end up with huge notebooks!\n",
    "\n",
    "Instead, we can specify that the outputs should just refer to a JSON file on your local drive and load in the data from there for each plot. This JSON file will be created automatically, it'll get reused within a session, and you'll never have to pay attention to it's name. \n",
    "\n",
    "See the [Altair tutorial notebook](https://github.com/altair-viz/altair-tutorial/blob/master/notebooks/03-Binning-and-aggregation.ipynb) `03-Binning-and-aggregation` for more details."
   ]
  },
  {
   "cell_type": "code",
   "execution_count": null,
   "metadata": {},
   "outputs": [],
   "source": [
    "alt.data_transformers.enable('json')"
   ]
  },
  {
   "cell_type": "markdown",
   "metadata": {},
   "source": [
    "### Now data is just referenced from JSON in Vega-Lite specification"
   ]
  },
  {
   "cell_type": "code",
   "execution_count": null,
   "metadata": {},
   "outputs": [],
   "source": [
    "heatmap.to_dict()"
   ]
  },
  {
   "cell_type": "markdown",
   "metadata": {},
   "source": [
    "## Other visual encodings\n",
    "\n",
    "Let's get back to generating other alternative visual encodings for the data that will be better suited for particular comparisons we're trying to make easy for the audience.\n",
    "\n",
    "### Rect with size variation\n",
    "\n",
    "*Note that now we're specifying the variable types*, in this case so Altair will give us a categorical (nominal) color scheme instead of ordinal.\n",
    "\n",
    "[Encoding data types](https://altair-viz.github.io/user_guide/encoding.html#encoding-data-types)\n",
    "\n",
    "|Data Type|Shorthand Code|Description\n",
    "|---|---|---\n",
    "|quantitative|Q|a continuous real-valued quantity\n",
    "|ordinal|O|a discrete ordered quantity\n",
    "|nominal|N|a discrete unordered category\n",
    "|temporal|T|a time or date value\n",
    "\n",
    "Try switching the variable type for the color and see what difference it makes."
   ]
  },
  {
   "cell_type": "code",
   "execution_count": null,
   "metadata": {},
   "outputs": [],
   "source": [
    "alt.Chart(df).mark_square().encode(\n",
    "    x = 'Category:O',\n",
    "    y = 'Item:O',\n",
    "    color = 'Category:N',\n",
    "    size = 'value:Q'\n",
    ").properties(\n",
    "    width = 200,\n",
    "    height = 200\n",
    ")"
   ]
  },
  {
   "cell_type": "markdown",
   "metadata": {},
   "source": [
    "### Comparing summed levels with Stacked bar\n",
    "\n",
    "Stacked bars can help if part of the main story is the overall sums within Items"
   ]
  },
  {
   "cell_type": "code",
   "execution_count": null,
   "metadata": {},
   "outputs": [],
   "source": [
    "alt.Chart(df).mark_bar().encode(\n",
    "    x = 'sum(value):Q',\n",
    "    y = 'Item:O',\n",
    "    color = 'Category:N'\n",
    ")"
   ]
  },
  {
   "cell_type": "markdown",
   "metadata": {},
   "source": [
    "### Comparing within item bars\n",
    "\n",
    "If we want people to be able to make comparisons across categories within each item, say whether Category 2 or 4 is larger in Item 1, we need to give them a common baseline.\n",
    "\n",
    "*Note that we could alternatively specified `row = 'Item:O'` right within the encoding instead of needing the `.facet()` section.*"
   ]
  },
  {
   "cell_type": "code",
   "execution_count": null,
   "metadata": {},
   "outputs": [],
   "source": [
    "alt.Chart(df).mark_bar().encode(\n",
    "    x = 'Category:O',\n",
    "    y = 'sum(value):Q',\n",
    "    color = 'Category:N'\n",
    ").properties(\n",
    "    width = 160,\n",
    "    height = 80\n",
    ").facet(\n",
    "    row='Item:O'\n",
    ")"
   ]
  },
  {
   "cell_type": "markdown",
   "metadata": {},
   "source": [
    "### Dot plot for the same comparison\n",
    "\n",
    "Another way to give the categories within an item a common baseline is to make a dot plot. This works well as long as there isn't too much value overlap.\n",
    "\n",
    "*Note: Default is grid lines on continuous scale axes and not on nominal or ordinal, but I want lines along each item to help guide the eye. [Top-level configuration docs](https://altair-viz.github.io/user_guide/configuration.html). We also could have specified the circle size in the `encode()` section with `size = alt.value(150)`.*"
   ]
  },
  {
   "cell_type": "code",
   "execution_count": null,
   "metadata": {},
   "outputs": [],
   "source": [
    "alt.Chart(df).mark_circle(size=150).encode(\n",
    "    x = 'value:Q',\n",
    "    y = 'Item:O',\n",
    "    color = 'Category:N'\n",
    ").configure_axisY(grid=True).configure_axisX(grid=False)"
   ]
  },
  {
   "cell_type": "markdown",
   "metadata": {},
   "source": [
    "### Back to the stacked bar\n",
    "\n",
    "What if we wanted to compare the lengths within a category? We're bad at comparing bar sizes that don't have common baselines.\n",
    "\n",
    "*Note that the bar color stacking puts the first legend item furthest right, so here we've added an \"order\" (and a tooltip for fun).*"
   ]
  },
  {
   "cell_type": "code",
   "execution_count": null,
   "metadata": {},
   "outputs": [],
   "source": [
    "alt.Chart(df).mark_bar().encode(\n",
    "    x = 'sum(value):Q',\n",
    "    y = 'Item:O',\n",
    "    color = 'Category:N',\n",
    "    order = alt.Order('Category:O', sort='ascending'),\n",
    "    tooltip=['Item','Category','sum(value)']\n",
    ")"
   ]
  },
  {
   "cell_type": "markdown",
   "metadata": {},
   "source": [
    "### Comparing within category bars\n",
    "\n",
    "The common baseline again gives us easy comparisons within a category"
   ]
  },
  {
   "cell_type": "code",
   "execution_count": null,
   "metadata": {},
   "outputs": [],
   "source": [
    "alt.Chart(df).mark_bar().encode(\n",
    "    x = 'sum(value):Q',\n",
    "    y = 'Item:O',\n",
    "    color = 'Category:N'\n",
    ").properties(\n",
    "    width = 100,\n",
    "    height = 120\n",
    ").facet(\n",
    "    column='Category:O'\n",
    ")"
   ]
  },
  {
   "cell_type": "markdown",
   "metadata": {},
   "source": [
    "#### Equivalent faceting by putting row or column in encode()"
   ]
  },
  {
   "cell_type": "code",
   "execution_count": null,
   "metadata": {},
   "outputs": [],
   "source": [
    "alt.Chart(df).mark_bar().encode(\n",
    "    x = 'sum(value):Q',\n",
    "    y = 'Item:O',\n",
    "    color = 'Category:N',\n",
    "    column = 'Category:O'\n",
    ").properties(\n",
    "    width = 100,\n",
    "    height = 120\n",
    ")"
   ]
  },
  {
   "cell_type": "markdown",
   "metadata": {},
   "source": [
    "## Saving to files\n",
    "\n",
    "It's easy to save out an HTML file for the visualization, or the JSON specification. These will get saved in the same directory as JupyterLab is running."
   ]
  },
  {
   "cell_type": "code",
   "execution_count": null,
   "metadata": {},
   "outputs": [],
   "source": [
    "bars = alt.Chart(df).mark_bar().encode(\n",
    "    x = 'sum(value):Q',\n",
    "    y = 'Item:O',\n",
    "    color = 'Category:N'\n",
    ")"
   ]
  },
  {
   "cell_type": "code",
   "execution_count": null,
   "metadata": {},
   "outputs": [],
   "source": [
    "bars.save('stacked_bars.html')\n",
    "bars.save('stacked_bars.json')"
   ]
  },
  {
   "cell_type": "markdown",
   "metadata": {},
   "source": [
    "### SVG and PNG require Selenium\n",
    "\n",
    "You can always render your visualization in the notebook and use the button to render to SVG or PNG. This method uses the web browswer you're using for your notebook to render to the file. You can also do the same from the HTML you generated in the previous step.\n",
    "\n",
    "If you want to render an SVG or PNG as an image from a command, without displaying it in a notebook or web page first, you need to have the Python module selenium installed. Selenium is a \"headless\" browser, which is like creating a web page in code with no visual display.\n",
    "\n",
    "*This will probably give you an error on these machines.*"
   ]
  },
  {
   "cell_type": "code",
   "execution_count": null,
   "metadata": {},
   "outputs": [],
   "source": [
    "bars.save('stacked_bars.svg')\n",
    "bars.save('stacked_bars.png')"
   ]
  }
 ],
 "metadata": {
  "kernelspec": {
   "display_name": "Python 3",
   "language": "python",
   "name": "python3"
  },
  "language_info": {
   "codemirror_mode": {
    "name": "ipython",
    "version": 3
   },
   "file_extension": ".py",
   "mimetype": "text/x-python",
   "name": "python",
   "nbconvert_exporter": "python",
   "pygments_lexer": "ipython3",
   "version": "3.7.3"
  }
 },
 "nbformat": 4,
 "nbformat_minor": 4
}
