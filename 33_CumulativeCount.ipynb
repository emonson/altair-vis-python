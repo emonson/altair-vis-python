{
 "cells": [
  {
   "cell_type": "markdown",
   "metadata": {},
   "source": [
    "# Hurricane tracts\n",
    "\n",
    "This is a dataset I typically use for my Intro to Tableau workshop. I wanted to show how you could do the same visualizations in Altair that I cover there."
   ]
  },
  {
   "cell_type": "code",
   "execution_count": 12,
   "metadata": {},
   "outputs": [],
   "source": [
    "import pandas as pd\n",
    "import altair as alt\n",
    "from numpy import float64"
   ]
  },
  {
   "cell_type": "markdown",
   "metadata": {},
   "source": [
    "## Read in hurricane tracts data\n",
    "\n",
    "Specify that Season shouldn't be parsed as a number, even though it looks like that – keep as string"
   ]
  },
  {
   "cell_type": "code",
   "execution_count": 13,
   "metadata": {},
   "outputs": [],
   "source": [
    "df = pd.read_csv('data/hurricane_tracts.csv', \n",
    "                       dtype={'Season':object, 'Wind in knots':float64})"
   ]
  },
  {
   "cell_type": "markdown",
   "metadata": {},
   "source": [
    "## Change ISO_time to a true date and time data type\n",
    "\n",
    "and then check the types again"
   ]
  },
  {
   "cell_type": "code",
   "execution_count": 14,
   "metadata": {},
   "outputs": [
    {
     "data": {
      "text/plain": [
       "Longitude                       float64\n",
       "Latitude                        float64\n",
       "Serial_Num                       object\n",
       "Season                           object\n",
       "Num                               int64\n",
       "Basin                            object\n",
       "Sub_basin                        object\n",
       "Hurricane Name                   object\n",
       "ISO_time                 datetime64[ns]\n",
       "Nature                           object\n",
       "Wind in knots                   float64\n",
       "Pressure in millibars           float64\n",
       "Wind Percentile                 float64\n",
       "Pressure Percentile             float64\n",
       "Track_type                       object\n",
       "State                            object\n",
       "SubRegion                        object\n",
       "Region                           object\n",
       "Country                          object\n",
       "dtype: object"
      ]
     },
     "execution_count": 14,
     "metadata": {},
     "output_type": "execute_result"
    }
   ],
   "source": [
    "df['ISO_time'] = pd.to_datetime(df.ISO_time)\n",
    "df.dtypes"
   ]
  },
  {
   "cell_type": "markdown",
   "metadata": {},
   "source": [
    "### Summary of the data statistics"
   ]
  },
  {
   "cell_type": "markdown",
   "metadata": {},
   "source": [
    "## MaxRowsError\n",
    "\n",
    "Can take off limit for number of rows, but that's not a great idea because the notebook will have a Vega-Lite JSON specification (text) embedded for every output pane, which also includes the data, so you end up with huge notebooks!\n",
    "\n",
    "Instead, we can specify that the outputs should just refer to a JSON file on your local drive and load in the data from there for each plot.\n",
    "\n",
    "See the Altair tutorial notebook `03-Binning-and-aggregation` for more details."
   ]
  },
  {
   "cell_type": "code",
   "execution_count": 4,
   "metadata": {},
   "outputs": [
    {
     "data": {
      "text/plain": [
       "DataTransformerRegistry.enable('json')"
      ]
     },
     "execution_count": 4,
     "metadata": {},
     "output_type": "execute_result"
    }
   ],
   "source": [
    "alt.data_transformers.enable('json')"
   ]
  },
  {
   "cell_type": "markdown",
   "metadata": {},
   "source": [
    "## Cumulative count of records per hurricane season"
   ]
  },
  {
   "cell_type": "code",
   "execution_count": 20,
   "metadata": {},
   "outputs": [
    {
     "data": {
      "application/vnd.vegalite.v2+json": {
       "$schema": "https://vega.github.io/schema/vega-lite/v2.6.0.json",
       "config": {
        "view": {
         "height": 300,
         "width": 400
        }
       },
       "data": {
        "format": {
         "type": "json"
        },
        "url": "altair-data-983812e7894136877ba094708288e7ec.json"
       },
       "encoding": {
        "x": {
         "field": "Season",
         "type": "quantitative"
        },
        "y": {
         "field": "cumulative_count",
         "type": "quantitative"
        }
       },
       "mark": "line",
       "transform": [
        {
         "aggregate": [
          {
           "as": "count",
           "op": "count"
          }
         ],
         "groupby": [
          "Season"
         ]
        },
        {
         "frame": [
          null,
          0
         ],
         "window": [
          {
           "as": "cumulative_count",
           "field": "count",
           "op": "sum"
          }
         ]
        }
       ]
      },
      "image/png": "[encoded data removed]",
      "text/plain": [
       "<VegaLite 2 object>\n",
       "\n",
       "If you see this message, it means the renderer has not been properly enabled\n",
       "for the frontend that you are using. For more information, see\n",
       "https://altair-viz.github.io/user_guide/troubleshooting.html\n"
      ]
     },
     "execution_count": 20,
     "metadata": {},
     "output_type": "execute_result"
    }
   ],
   "source": [
    "# Season is just a column of strings denoting in which hurricane season\n",
    "# the current row's measurement was taken. \n",
    "# Feeding only the data needed speeds things up quite a bit in this case.\n",
    "\n",
    "season_records = df[['Season']]\n",
    "\n",
    "# frame is number of records [preceding,following] offset from current data object\n",
    "# None indicates all, so default [None, 0] indicates all preceding and zero following\n",
    "\n",
    "alt.Chart(season_records).mark_line().encode(\n",
    "    y='cumulative_count:Q',\n",
    "    x='Season:Q'\n",
    ").transform_aggregate(\n",
    "    count='count()',\n",
    "    groupby=['Season']\n",
    ").transform_window(\n",
    "    cumulative_count='sum(count)',\n",
    "    frame=[None, 0]\n",
    ")"
   ]
  },
  {
   "cell_type": "code",
   "execution_count": null,
   "metadata": {},
   "outputs": [],
   "source": []
  }
 ],
 "metadata": {
  "kernelspec": {
   "display_name": "Python 3",
   "language": "python",
   "name": "python3"
  },
  "language_info": {
   "codemirror_mode": {
    "name": "ipython",
    "version": 3
   },
   "file_extension": ".py",
   "mimetype": "text/x-python",
   "name": "python",
   "nbconvert_exporter": "python",
   "pygments_lexer": "ipython3",
   "version": "3.7.1"
  }
 },
 "nbformat": 4,
 "nbformat_minor": 2
}
