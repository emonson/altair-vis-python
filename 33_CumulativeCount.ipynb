{
 "cells": [
  {
   "cell_type": "markdown",
   "metadata": {},
   "source": [
    "# Hurricane tracts\n",
    "\n",
    "This is a dataset I typically use for my Intro to Tableau workshop. I wanted to show how you could do the same visualizations in Altair that I cover there."
   ]
  },
  {
   "cell_type": "code",
   "execution_count": 2,
   "metadata": {},
   "outputs": [
    {
     "data": {
      "text/plain": [
       "vegafusion.enable(mimetype='html', row_limit=10000, embed_options=None)"
      ]
     },
     "execution_count": 2,
     "metadata": {},
     "output_type": "execute_result"
    }
   ],
   "source": [
    "import pandas as pd\n",
    "import altair as alt\n",
    "from numpy import float64\n",
    "\n",
    "# Avoid MaxRowsError\n",
    "import vegafusion as vf\n",
    "vf.enable()"
   ]
  },
  {
   "cell_type": "markdown",
   "metadata": {},
   "source": [
    "## Read in hurricane tracts data\n",
    "\n",
    "Specify that Season shouldn't be parsed as a number, even though it looks like that – keep as string"
   ]
  },
  {
   "cell_type": "code",
   "execution_count": 4,
   "metadata": {},
   "outputs": [],
   "source": [
    "df = pd.read_csv('data/hurricane_tracts.tsv', \n",
    "                    sep='\\t',\n",
    "                    dtype={'Season':object, 'Wind in knots':float64},\n",
    "                    parse_dates=['ISO_time'])"
   ]
  },
  {
   "cell_type": "markdown",
   "metadata": {},
   "source": [
    "## Change ISO_time to a true date and time data type\n",
    "\n",
    "and then check the types again"
   ]
  },
  {
   "cell_type": "code",
   "execution_count": 5,
   "metadata": {},
   "outputs": [
    {
     "data": {
      "text/plain": [
       "Longitude                       float64\n",
       "Latitude                        float64\n",
       "Serial_Num                       object\n",
       "Season                           object\n",
       "Num                               int64\n",
       "Basin                            object\n",
       "Sub_basin                        object\n",
       "Hurricane Name                   object\n",
       "ISO_time                 datetime64[ns]\n",
       "Nature                           object\n",
       "Wind in knots                   float64\n",
       "Pressure in millibars           float64\n",
       "Wind Percentile                 float64\n",
       "Pressure Percentile             float64\n",
       "Track_type                       object\n",
       "State                            object\n",
       "SubRegion                        object\n",
       "Region                           object\n",
       "Country                          object\n",
       "dtype: object"
      ]
     },
     "execution_count": 5,
     "metadata": {},
     "output_type": "execute_result"
    }
   ],
   "source": [
    "df.dtypes"
   ]
  },
  {
   "cell_type": "markdown",
   "metadata": {},
   "source": [
    "## Cumulative count of records per hurricane season"
   ]
  },
  {
   "cell_type": "code",
   "execution_count": 12,
   "metadata": {},
   "outputs": [
    {
     "data": {
      "text/html": [
       "\n",
       "<style>\n",
       "  #altair-viz-2fd84843836d494894f0e66eaea5ccbb.vega-embed {\n",
       "    width: 100%;\n",
       "    display: flex;\n",
       "  }\n",
       "\n",
       "  #altair-viz-2fd84843836d494894f0e66eaea5ccbb.vega-embed details,\n",
       "  #altair-viz-2fd84843836d494894f0e66eaea5ccbb.vega-embed details summary {\n",
       "    position: relative;\n",
       "  }\n",
       "</style>\n",
       "<div id=\"altair-viz-2fd84843836d494894f0e66eaea5ccbb\"></div>\n",
       "<script type=\"text/javascript\">\n",
       "  var VEGA_DEBUG = (typeof VEGA_DEBUG == \"undefined\") ? {} : VEGA_DEBUG;\n",
       "  (function(spec, embedOpt){\n",
       "    let outputDiv = document.currentScript.previousElementSibling;\n",
       "    if (outputDiv.id !== \"altair-viz-2fd84843836d494894f0e66eaea5ccbb\") {\n",
       "      outputDiv = document.getElementById(\"altair-viz-2fd84843836d494894f0e66eaea5ccbb\");\n",
       "    }\n",
       "    const paths = {\n",
       "      \"vega\": \"https://cdn.jsdelivr.net/npm/vega@5?noext\",\n",
       "      \"vega-lib\": \"https://cdn.jsdelivr.net/npm/vega-lib?noext\",\n",
       "      \"vega-lite\": \"https://cdn.jsdelivr.net/npm/vega-lite@5.8.0?noext\",\n",
       "      \"vega-embed\": \"https://cdn.jsdelivr.net/npm/vega-embed@6?noext\",\n",
       "    };\n",
       "\n",
       "    function maybeLoadScript(lib, version) {\n",
       "      var key = `${lib.replace(\"-\", \"\")}_version`;\n",
       "      return (VEGA_DEBUG[key] == version) ?\n",
       "        Promise.resolve(paths[lib]) :\n",
       "        new Promise(function(resolve, reject) {\n",
       "          var s = document.createElement('script');\n",
       "          document.getElementsByTagName(\"head\")[0].appendChild(s);\n",
       "          s.async = true;\n",
       "          s.onload = () => {\n",
       "            VEGA_DEBUG[key] = version;\n",
       "            return resolve(paths[lib]);\n",
       "          };\n",
       "          s.onerror = () => reject(`Error loading script: ${paths[lib]}`);\n",
       "          s.src = paths[lib];\n",
       "        });\n",
       "    }\n",
       "\n",
       "    function showError(err) {\n",
       "      outputDiv.innerHTML = `<div class=\"error\" style=\"color:red;\">${err}</div>`;\n",
       "      throw err;\n",
       "    }\n",
       "\n",
       "    function displayChart(vegaEmbed) {\n",
       "      vegaEmbed(outputDiv, spec, embedOpt)\n",
       "        .catch(err => showError(`Javascript Error: ${err.message}<br>This usually means there's a typo in your chart specification. See the javascript console for the full traceback.`));\n",
       "    }\n",
       "\n",
       "    if(typeof define === \"function\" && define.amd) {\n",
       "      requirejs.config({paths});\n",
       "      require([\"vega-embed\"], displayChart, err => showError(`Error loading script: ${err.message}`));\n",
       "    } else {\n",
       "      maybeLoadScript(\"vega\", \"5\")\n",
       "        .then(() => maybeLoadScript(\"vega-lite\", \"5.8.0\"))\n",
       "        .then(() => maybeLoadScript(\"vega-embed\", \"6\"))\n",
       "        .catch(showError)\n",
       "        .then(() => displayChart(vegaEmbed));\n",
       "    }\n",
       "  })({\"$schema\": \"https://vega.github.io/schema/vega/v5.json\", \"data\": [{\"name\": \"source_0\", \"values\": [{\"Season\": \"1851\", \"cumulative_count\": 98}, {\"Season\": \"1852\", \"cumulative_count\": 232}, {\"Season\": \"1853\", \"cumulative_count\": 332}, {\"Season\": \"1854\", \"cumulative_count\": 392}, {\"Season\": \"1855\", \"cumulative_count\": 426}, {\"Season\": \"1856\", \"cumulative_count\": 521}, {\"Season\": \"1857\", \"cumulative_count\": 625}, {\"Season\": \"1858\", \"cumulative_count\": 711}, {\"Season\": \"1859\", \"cumulative_count\": 808}, {\"Season\": \"1860\", \"cumulative_count\": 930}, {\"Season\": \"1861\", \"cumulative_count\": 1040}, {\"Season\": \"1862\", \"cumulative_count\": 1128}, {\"Season\": \"1863\", \"cumulative_count\": 1239}, {\"Season\": \"1864\", \"cumulative_count\": 1306}, {\"Season\": \"1865\", \"cumulative_count\": 1402}, {\"Season\": \"1866\", \"cumulative_count\": 1525}, {\"Season\": \"1867\", \"cumulative_count\": 1644}, {\"Season\": \"1868\", \"cumulative_count\": 1715}, {\"Season\": \"1869\", \"cumulative_count\": 1805}, {\"Season\": \"1870\", \"cumulative_count\": 1968}, {\"Season\": \"1871\", \"cumulative_count\": 2180}, {\"Season\": \"1872\", \"cumulative_count\": 2362}, {\"Season\": \"1873\", \"cumulative_count\": 2519}, {\"Season\": \"1874\", \"cumulative_count\": 2683}, {\"Season\": \"1875\", \"cumulative_count\": 2838}, {\"Season\": \"1876\", \"cumulative_count\": 2970}, {\"Season\": \"1877\", \"cumulative_count\": 3190}, {\"Season\": \"1878\", \"cumulative_count\": 3581}, {\"Season\": \"1879\", \"cumulative_count\": 3770}, {\"Season\": \"1880\", \"cumulative_count\": 4077}, {\"Season\": \"1881\", \"cumulative_count\": 4249}, {\"Season\": \"1882\", \"cumulative_count\": 4392}, {\"Season\": \"1883\", \"cumulative_count\": 4543}, {\"Season\": \"1884\", \"cumulative_count\": 4712}, {\"Season\": \"1885\", \"cumulative_count\": 4908}, {\"Season\": \"1886\", \"cumulative_count\": 5276}, {\"Season\": \"1887\", \"cumulative_count\": 5785}, {\"Season\": \"1888\", \"cumulative_count\": 6046}, {\"Season\": \"1889\", \"cumulative_count\": 6370}, {\"Season\": \"1890\", \"cumulative_count\": 6460}, {\"Season\": \"1891\", \"cumulative_count\": 6788}, {\"Season\": \"1892\", \"cumulative_count\": 7125}, {\"Season\": \"1893\", \"cumulative_count\": 7593}, {\"Season\": \"1894\", \"cumulative_count\": 7860}, {\"Season\": \"1895\", \"cumulative_count\": 8052}, {\"Season\": \"1896\", \"cumulative_count\": 8327}, {\"Season\": \"1897\", \"cumulative_count\": 8521}, {\"Season\": \"1898\", \"cumulative_count\": 8854}, {\"Season\": \"1899\", \"cumulative_count\": 9227}, {\"Season\": \"1900\", \"cumulative_count\": 9531}, {\"Season\": \"1901\", \"cumulative_count\": 10000}, {\"Season\": \"1902\", \"cumulative_count\": 10123}, {\"Season\": \"1903\", \"cumulative_count\": 10425}, {\"Season\": \"1904\", \"cumulative_count\": 10598}, {\"Season\": \"1905\", \"cumulative_count\": 10737}, {\"Season\": \"1906\", \"cumulative_count\": 11171}, {\"Season\": \"1907\", \"cumulative_count\": 11274}, {\"Season\": \"1908\", \"cumulative_count\": 11567}, {\"Season\": \"1909\", \"cumulative_count\": 11880}, {\"Season\": \"1910\", \"cumulative_count\": 12055}, {\"Season\": \"1911\", \"cumulative_count\": 12232}, {\"Season\": \"1912\", \"cumulative_count\": 12437}, {\"Season\": \"1913\", \"cumulative_count\": 12618}, {\"Season\": \"1914\", \"cumulative_count\": 12637}, {\"Season\": \"1915\", \"cumulative_count\": 12878}, {\"Season\": \"1916\", \"cumulative_count\": 13302}, {\"Season\": \"1917\", \"cumulative_count\": 13437}, {\"Season\": \"1918\", \"cumulative_count\": 13571}, {\"Season\": \"1919\", \"cumulative_count\": 13697}, {\"Season\": \"1920\", \"cumulative_count\": 13827}, {\"Season\": \"1921\", \"cumulative_count\": 14069}, {\"Season\": \"1922\", \"cumulative_count\": 14248}, {\"Season\": \"1923\", \"cumulative_count\": 14450}, {\"Season\": \"1924\", \"cumulative_count\": 14774}, {\"Season\": \"1925\", \"cumulative_count\": 14843}, {\"Season\": \"1926\", \"cumulative_count\": 15278}, {\"Season\": \"1927\", \"cumulative_count\": 15489}, {\"Season\": \"1928\", \"cumulative_count\": 15709}, {\"Season\": \"1929\", \"cumulative_count\": 15848}, {\"Season\": \"1930\", \"cumulative_count\": 15991}, {\"Season\": \"1931\", \"cumulative_count\": 16276}, {\"Season\": \"1932\", \"cumulative_count\": 16750}, {\"Season\": \"1933\", \"cumulative_count\": 17446}, {\"Season\": \"1934\", \"cumulative_count\": 17788}, {\"Season\": \"1935\", \"cumulative_count\": 18074}, {\"Season\": \"1936\", \"cumulative_count\": 18490}, {\"Season\": \"1937\", \"cumulative_count\": 18749}, {\"Season\": \"1938\", \"cumulative_count\": 18966}, {\"Season\": \"1939\", \"cumulative_count\": 19156}, {\"Season\": \"1940\", \"cumulative_count\": 19436}, {\"Season\": \"1941\", \"cumulative_count\": 19633}, {\"Season\": \"1942\", \"cumulative_count\": 19904}, {\"Season\": \"1943\", \"cumulative_count\": 20134}, {\"Season\": \"1944\", \"cumulative_count\": 20447}, {\"Season\": \"1945\", \"cumulative_count\": 20699}, {\"Season\": \"1946\", \"cumulative_count\": 20815}, {\"Season\": \"1947\", \"cumulative_count\": 21054}, {\"Season\": \"1948\", \"cumulative_count\": 21310}, {\"Season\": \"1949\", \"cumulative_count\": 21570}, {\"Season\": \"1950\", \"cumulative_count\": 22035}, {\"Season\": \"1951\", \"cumulative_count\": 22351}, {\"Season\": \"1952\", \"cumulative_count\": 22575}, {\"Season\": \"1953\", \"cumulative_count\": 22942}, {\"Season\": \"1954\", \"cumulative_count\": 23238}, {\"Season\": \"1955\", \"cumulative_count\": 23650}, {\"Season\": \"1956\", \"cumulative_count\": 23834}, {\"Season\": \"1957\", \"cumulative_count\": 24054}, {\"Season\": \"1958\", \"cumulative_count\": 24363}, {\"Season\": \"1959\", \"cumulative_count\": 24620}, {\"Season\": \"1960\", \"cumulative_count\": 24822}, {\"Season\": \"1961\", \"cumulative_count\": 25193}, {\"Season\": \"1962\", \"cumulative_count\": 25363}, {\"Season\": \"1963\", \"cumulative_count\": 25666}, {\"Season\": \"1964\", \"cumulative_count\": 26097}, {\"Season\": \"1965\", \"cumulative_count\": 26301}, {\"Season\": \"1966\", \"cumulative_count\": 26688}, {\"Season\": \"1967\", \"cumulative_count\": 27273}, {\"Season\": \"1968\", \"cumulative_count\": 27636}, {\"Season\": \"1969\", \"cumulative_count\": 28317}, {\"Season\": \"1970\", \"cumulative_count\": 28778}, {\"Season\": \"1971\", \"cumulative_count\": 29419}, {\"Season\": \"1972\", \"cumulative_count\": 29798}, {\"Season\": \"1973\", \"cumulative_count\": 30127}, {\"Season\": \"1974\", \"cumulative_count\": 30531}, {\"Season\": \"1975\", \"cumulative_count\": 30989}, {\"Season\": \"1976\", \"cumulative_count\": 31432}, {\"Season\": \"1977\", \"cumulative_count\": 31606}, {\"Season\": \"1978\", \"cumulative_count\": 32058}, {\"Season\": \"1979\", \"cumulative_count\": 32607}, {\"Season\": \"1980\", \"cumulative_count\": 33066}, {\"Season\": \"1981\", \"cumulative_count\": 33541}, {\"Season\": \"1982\", \"cumulative_count\": 33694}, {\"Season\": \"1983\", \"cumulative_count\": 33826}, {\"Season\": \"1984\", \"cumulative_count\": 34261}, {\"Season\": \"1985\", \"cumulative_count\": 34625}, {\"Season\": \"1986\", \"cumulative_count\": 34855}, {\"Season\": \"1987\", \"cumulative_count\": 35222}, {\"Season\": \"1988\", \"cumulative_count\": 35589}, {\"Season\": \"1989\", \"cumulative_count\": 36032}, {\"Season\": \"1990\", \"cumulative_count\": 36533}, {\"Season\": \"1991\", \"cumulative_count\": 36772}, {\"Season\": \"1992\", \"cumulative_count\": 37045}, {\"Season\": \"1993\", \"cumulative_count\": 37286}, {\"Season\": \"1994\", \"cumulative_count\": 37519}, {\"Season\": \"1995\", \"cumulative_count\": 38285}, {\"Season\": \"1996\", \"cumulative_count\": 38829}, {\"Season\": \"1997\", \"cumulative_count\": 39033}, {\"Season\": \"1998\", \"cumulative_count\": 39567}, {\"Season\": \"1999\", \"cumulative_count\": 40020}, {\"Season\": \"2000\", \"cumulative_count\": 40480}, {\"Season\": \"2001\", \"cumulative_count\": 40969}, {\"Season\": \"2002\", \"cumulative_count\": 41368}, {\"Season\": \"2003\", \"cumulative_count\": 41961}, {\"Season\": \"2004\", \"cumulative_count\": 42572}, {\"Season\": \"2005\", \"cumulative_count\": 43506}, {\"Season\": \"2006\", \"cumulative_count\": 43876}, {\"Season\": \"2007\", \"cumulative_count\": 44280}, {\"Season\": \"2008\", \"cumulative_count\": 44824}, {\"Season\": \"2009\", \"cumulative_count\": 45087}, {\"Season\": \"2010\", \"cumulative_count\": 45727}, {\"Season\": \"2011\", \"cumulative_count\": 46279}, {\"Season\": \"2012\", \"cumulative_count\": 46933}]}, {\"name\": \"source_0_x_domain_Season\", \"values\": [{\"min\": 1851.0, \"max\": 2012.0}]}, {\"name\": \"source_0_y_domain_cumulative_count\", \"values\": [{\"min\": 98, \"max\": 46933}]}], \"marks\": [{\"type\": \"line\", \"name\": \"marks\", \"from\": {\"data\": \"source_0\"}, \"sort\": {\"field\": \"datum[\\\"Season\\\"]\"}, \"encode\": {\"update\": {\"stroke\": {\"value\": \"#4c78a8\"}, \"defined\": {\"signal\": \"isValid(datum[\\\"Season\\\"]) && isFinite(+datum[\\\"Season\\\"]) && isValid(datum[\\\"cumulative_count\\\"]) && isFinite(+datum[\\\"cumulative_count\\\"])\"}, \"x\": {\"field\": \"Season\", \"scale\": \"x\"}, \"description\": {\"signal\": \"\\\"Season: \\\" + (format(datum[\\\"Season\\\"], \\\"\\\")) + \\\"; cumulative_count: \\\" + (format(datum[\\\"cumulative_count\\\"], \\\"\\\"))\"}, \"y\": {\"field\": \"cumulative_count\", \"scale\": \"y\"}}}, \"style\": [\"line\"]}], \"scales\": [{\"name\": \"x\", \"type\": \"linear\", \"domain\": [{\"signal\": \"(data(\\\"source_0_x_domain_Season\\\")[0] || {}).min\"}, {\"signal\": \"(data(\\\"source_0_x_domain_Season\\\")[0] || {}).max\"}], \"range\": [0, {\"signal\": \"width\"}], \"zero\": false, \"nice\": true}, {\"name\": \"y\", \"type\": \"linear\", \"domain\": [{\"signal\": \"(data(\\\"source_0_y_domain_cumulative_count\\\")[0] || {}).min\"}, {\"signal\": \"(data(\\\"source_0_y_domain_cumulative_count\\\")[0] || {}).max\"}], \"range\": [{\"signal\": \"height\"}, 0], \"nice\": true, \"zero\": true}], \"axes\": [{\"scale\": \"x\", \"orient\": \"bottom\", \"gridScale\": \"y\", \"domain\": false, \"maxExtent\": 0, \"ticks\": false, \"grid\": true, \"aria\": false, \"zindex\": 0, \"minExtent\": 0, \"tickCount\": {\"signal\": \"ceil(width/40)\"}, \"labels\": false}, {\"scale\": \"y\", \"orient\": \"left\", \"gridScale\": \"x\", \"grid\": true, \"tickCount\": {\"signal\": \"ceil(height/40)\"}, \"maxExtent\": 0, \"ticks\": false, \"zindex\": 0, \"minExtent\": 0, \"domain\": false, \"aria\": false, \"labels\": false}, {\"scale\": \"x\", \"grid\": false, \"orient\": \"bottom\", \"title\": \"Season\", \"labelOverlap\": true, \"labelFlush\": true, \"tickCount\": {\"signal\": \"ceil(width/40)\"}, \"zindex\": 0}, {\"scale\": \"y\", \"tickCount\": {\"signal\": \"ceil(height/40)\"}, \"orient\": \"left\", \"title\": \"cumulative_count\", \"grid\": false, \"labelOverlap\": true, \"zindex\": 0}], \"style\": \"cell\", \"background\": \"white\", \"height\": 300, \"width\": 300, \"padding\": 5}, {\"mode\": \"vega\"});\n",
       "</script>"
      ],
      "text/plain": [
       "alt.Chart(...)"
      ]
     },
     "execution_count": 12,
     "metadata": {},
     "output_type": "execute_result"
    }
   ],
   "source": [
    "# Season is just a column of strings denoting in which hurricane season\n",
    "# the current row's measurement was taken. \n",
    "# Feeding only the data needed speeds things up quite a bit in this case.\n",
    "\n",
    "season_records = df[['Season']]\n",
    "\n",
    "# frame is number of records [preceding,following] offset from current data object\n",
    "# None indicates all, so default [None, 0] indicates all preceding and zero following\n",
    "# Doesn't seem to change anything if I add sorting by changing to: \n",
    "# ).transform_window(\n",
    "#     sort=[{'field': 'Season'}],\n",
    "#     frame=[None, 0],\n",
    "#     cumulative_count='sum(count)',\n",
    "# )\n",
    "\n",
    "alt.Chart(season_records).mark_line().encode(\n",
    "    y='cumulative_count:Q',\n",
    "    x='Season:Q'\n",
    ").transform_aggregate(\n",
    "    count='count()',\n",
    "    groupby=['Season']\n",
    ").transform_window(\n",
    "    cumulative_count='sum(count)',\n",
    "    frame=[None, 0]\n",
    ")"
   ]
  },
  {
   "cell_type": "code",
   "execution_count": null,
   "metadata": {},
   "outputs": [],
   "source": []
  }
 ],
 "metadata": {
  "kernelspec": {
   "display_name": "Python 3 (ipykernel)",
   "language": "python",
   "name": "python3"
  },
  "language_info": {
   "codemirror_mode": {
    "name": "ipython",
    "version": 3
   },
   "file_extension": ".py",
   "mimetype": "text/x-python",
   "name": "python",
   "nbconvert_exporter": "python",
   "pygments_lexer": "ipython3",
   "version": "3.9.12"
  }
 },
 "nbformat": 4,
 "nbformat_minor": 4
}
