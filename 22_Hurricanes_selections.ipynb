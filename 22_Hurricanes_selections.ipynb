{
 "cells": [
  {
   "cell_type": "code",
   "execution_count": 1,
   "metadata": {},
   "outputs": [
    {
     "data": {
      "text/plain": [
       "vegafusion.enable_widget()"
      ]
     },
     "execution_count": 1,
     "metadata": {},
     "output_type": "execute_result"
    }
   ],
   "source": [
    "import pandas as pd\n",
    "import altair as alt\n",
    "from altair import datum\n",
    "\n",
    "# Get rid of MaxRowsError\n",
    "import vegafusion as vf\n",
    "vf.enable_widget()"
   ]
  },
  {
   "cell_type": "markdown",
   "metadata": {},
   "source": [
    "## Read in hurricane tracts data\n",
    "\n",
    "Specify that Season shouldn't be parsed as a number, even though it looks like that – keep as string\n",
    "\n",
    "Change ISO_time to a true date and time data type"
   ]
  },
  {
   "cell_type": "code",
   "execution_count": 2,
   "metadata": {},
   "outputs": [],
   "source": [
    "tracts = pd.read_csv('data/hurricane_tracts.tsv', sep='\\t',\n",
    "                       dtype={'Season':object},\n",
    "                        parse_dates=['ISO_time'])"
   ]
  },
  {
   "cell_type": "code",
   "execution_count": 3,
   "metadata": {},
   "outputs": [
    {
     "data": {
      "text/html": [
       "<div>\n",
       "<style scoped>\n",
       "    .dataframe tbody tr th:only-of-type {\n",
       "        vertical-align: middle;\n",
       "    }\n",
       "\n",
       "    .dataframe tbody tr th {\n",
       "        vertical-align: top;\n",
       "    }\n",
       "\n",
       "    .dataframe thead th {\n",
       "        text-align: right;\n",
       "    }\n",
       "</style>\n",
       "<table border=\"1\" class=\"dataframe\">\n",
       "  <thead>\n",
       "    <tr style=\"text-align: right;\">\n",
       "      <th></th>\n",
       "      <th>Longitude</th>\n",
       "      <th>Latitude</th>\n",
       "      <th>Serial_Num</th>\n",
       "      <th>Season</th>\n",
       "      <th>Num</th>\n",
       "      <th>Basin</th>\n",
       "      <th>Sub_basin</th>\n",
       "      <th>Hurricane Name</th>\n",
       "      <th>ISO_time</th>\n",
       "      <th>Nature</th>\n",
       "      <th>Wind in knots</th>\n",
       "      <th>Pressure in millibars</th>\n",
       "      <th>Wind Percentile</th>\n",
       "      <th>Pressure Percentile</th>\n",
       "      <th>Track_type</th>\n",
       "      <th>State</th>\n",
       "      <th>SubRegion</th>\n",
       "      <th>Region</th>\n",
       "      <th>Country</th>\n",
       "    </tr>\n",
       "  </thead>\n",
       "  <tbody>\n",
       "    <tr>\n",
       "      <th>0</th>\n",
       "      <td>-94.8</td>\n",
       "      <td>28.0</td>\n",
       "      <td>1851176N28265</td>\n",
       "      <td>1851</td>\n",
       "      <td>1</td>\n",
       "      <td>NaN</td>\n",
       "      <td>MM</td>\n",
       "      <td>1851176N28265</td>\n",
       "      <td>1851-06-25 00:00:00</td>\n",
       "      <td>TS</td>\n",
       "      <td>80</td>\n",
       "      <td>NaN</td>\n",
       "      <td>84.767</td>\n",
       "      <td>NaN</td>\n",
       "      <td>main</td>\n",
       "      <td>NaN</td>\n",
       "      <td>NaN</td>\n",
       "      <td>NaN</td>\n",
       "      <td>NaN</td>\n",
       "    </tr>\n",
       "    <tr>\n",
       "      <th>1</th>\n",
       "      <td>-95.4</td>\n",
       "      <td>28.0</td>\n",
       "      <td>1851176N28265</td>\n",
       "      <td>1851</td>\n",
       "      <td>1</td>\n",
       "      <td>NaN</td>\n",
       "      <td>MM</td>\n",
       "      <td>1851176N28265</td>\n",
       "      <td>1851-06-25 06:00:00</td>\n",
       "      <td>TS</td>\n",
       "      <td>80</td>\n",
       "      <td>NaN</td>\n",
       "      <td>84.767</td>\n",
       "      <td>NaN</td>\n",
       "      <td>main</td>\n",
       "      <td>NaN</td>\n",
       "      <td>NaN</td>\n",
       "      <td>NaN</td>\n",
       "      <td>NaN</td>\n",
       "    </tr>\n",
       "    <tr>\n",
       "      <th>2</th>\n",
       "      <td>-96.0</td>\n",
       "      <td>28.0</td>\n",
       "      <td>1851176N28265</td>\n",
       "      <td>1851</td>\n",
       "      <td>1</td>\n",
       "      <td>NaN</td>\n",
       "      <td>MM</td>\n",
       "      <td>1851176N28265</td>\n",
       "      <td>1851-06-25 12:00:00</td>\n",
       "      <td>TS</td>\n",
       "      <td>80</td>\n",
       "      <td>NaN</td>\n",
       "      <td>84.767</td>\n",
       "      <td>NaN</td>\n",
       "      <td>main</td>\n",
       "      <td>NaN</td>\n",
       "      <td>NaN</td>\n",
       "      <td>NaN</td>\n",
       "      <td>NaN</td>\n",
       "    </tr>\n",
       "    <tr>\n",
       "      <th>3</th>\n",
       "      <td>-96.5</td>\n",
       "      <td>28.1</td>\n",
       "      <td>1851176N28265</td>\n",
       "      <td>1851</td>\n",
       "      <td>1</td>\n",
       "      <td>NaN</td>\n",
       "      <td>MM</td>\n",
       "      <td>1851176N28265</td>\n",
       "      <td>1851-06-25 18:00:00</td>\n",
       "      <td>TS</td>\n",
       "      <td>80</td>\n",
       "      <td>NaN</td>\n",
       "      <td>84.767</td>\n",
       "      <td>NaN</td>\n",
       "      <td>main</td>\n",
       "      <td>NaN</td>\n",
       "      <td>NaN</td>\n",
       "      <td>NaN</td>\n",
       "      <td>NaN</td>\n",
       "    </tr>\n",
       "    <tr>\n",
       "      <th>4</th>\n",
       "      <td>-96.8</td>\n",
       "      <td>28.2</td>\n",
       "      <td>1851176N28265</td>\n",
       "      <td>1851</td>\n",
       "      <td>1</td>\n",
       "      <td>NaN</td>\n",
       "      <td>MM</td>\n",
       "      <td>1851176N28265</td>\n",
       "      <td>1851-06-25 21:00:00</td>\n",
       "      <td>TS</td>\n",
       "      <td>80</td>\n",
       "      <td>NaN</td>\n",
       "      <td>84.767</td>\n",
       "      <td>NaN</td>\n",
       "      <td>main</td>\n",
       "      <td>NaN</td>\n",
       "      <td>NaN</td>\n",
       "      <td>NaN</td>\n",
       "      <td>NaN</td>\n",
       "    </tr>\n",
       "  </tbody>\n",
       "</table>\n",
       "</div>"
      ],
      "text/plain": [
       "   Longitude  Latitude     Serial_Num Season  Num Basin Sub_basin  \\\n",
       "0      -94.8      28.0  1851176N28265   1851    1   NaN        MM   \n",
       "1      -95.4      28.0  1851176N28265   1851    1   NaN        MM   \n",
       "2      -96.0      28.0  1851176N28265   1851    1   NaN        MM   \n",
       "3      -96.5      28.1  1851176N28265   1851    1   NaN        MM   \n",
       "4      -96.8      28.2  1851176N28265   1851    1   NaN        MM   \n",
       "\n",
       "  Hurricane Name            ISO_time Nature  Wind in knots  \\\n",
       "0  1851176N28265 1851-06-25 00:00:00     TS             80   \n",
       "1  1851176N28265 1851-06-25 06:00:00     TS             80   \n",
       "2  1851176N28265 1851-06-25 12:00:00     TS             80   \n",
       "3  1851176N28265 1851-06-25 18:00:00     TS             80   \n",
       "4  1851176N28265 1851-06-25 21:00:00     TS             80   \n",
       "\n",
       "   Pressure in millibars  Wind Percentile  Pressure Percentile Track_type  \\\n",
       "0                    NaN           84.767                  NaN       main   \n",
       "1                    NaN           84.767                  NaN       main   \n",
       "2                    NaN           84.767                  NaN       main   \n",
       "3                    NaN           84.767                  NaN       main   \n",
       "4                    NaN           84.767                  NaN       main   \n",
       "\n",
       "  State SubRegion Region Country  \n",
       "0   NaN       NaN    NaN     NaN  \n",
       "1   NaN       NaN    NaN     NaN  \n",
       "2   NaN       NaN    NaN     NaN  \n",
       "3   NaN       NaN    NaN     NaN  \n",
       "4   NaN       NaN    NaN     NaN  "
      ]
     },
     "execution_count": 3,
     "metadata": {},
     "output_type": "execute_result"
    }
   ],
   "source": [
    "tracts.head()"
   ]
  },
  {
   "cell_type": "markdown",
   "metadata": {},
   "source": [
    "## Selection linking\n",
    "\n",
    "This particular interactive visualization combination taught me something new about this hurricane tracts data that I'd been using for years! \n",
    "\n",
    "**Notice the pressure and wind speed range for older measurements vs more modern ones!**"
   ]
  },
  {
   "cell_type": "code",
   "execution_count": 14,
   "metadata": {},
   "outputs": [
    {
     "data": {
      "application/vnd.jupyter.widget-view+json": {
       "model_id": "f5e9f49dd0564da19617b13cec321cba",
       "version_major": 2,
       "version_minor": 0
      },
      "text/plain": [
       "VegaFusionWidget(spec='{\\n  \"config\": {\\n    \"view\": {\\n      \"continuousWidth\": 300,\\n      \"continuousHeight…"
      ]
     },
     "metadata": {},
     "output_type": "display_data"
    },
    {
     "data": {
      "text/plain": []
     },
     "execution_count": 14,
     "metadata": {},
     "output_type": "execute_result"
    }
   ],
   "source": [
    "interval = alt.selection_interval(encodings=['x'])\n",
    "\n",
    "timeline = alt.Chart(tracts).mark_line().encode(\n",
    "    x='year(ISO_time):T',\n",
    "    y='distinct(Serial_Num):Q'\n",
    ").add_params(\n",
    "    interval\n",
    ").properties(\n",
    "    width=300,\n",
    "    height=200\n",
    ")\n",
    "\n",
    "scatter = alt.Chart(tracts).mark_circle(opacity=0.3).encode(\n",
    "    x=alt.X('mean_wind:Q', scale=alt.Scale(domain=(0,120))),\n",
    "    y=alt.Y('mean_pressure:Q', scale=alt.Scale(domain=(900,1040))),\n",
    "    color=alt.Color('Nature:N', scale=alt.Scale(domain=('TS','SS','DS','ET','NR')))\n",
    ").transform_filter(\n",
    "    interval\n",
    ").transform_aggregate(\n",
    "    mean_wind='mean(Wind in knots)',\n",
    "    mean_pressure='mean(Pressure in millibars)',\n",
    "    groupby=['Serial_Num','Nature']\n",
    ").properties(\n",
    "    width=300,\n",
    "    height=200\n",
    ")\n",
    "\n",
    "timeline | scatter"
   ]
  },
  {
   "cell_type": "code",
   "execution_count": 7,
   "metadata": {},
   "outputs": [],
   "source": [
    "# If you have vega_datasets installed\n",
    "\n",
    "# from vega_datasets import data\n",
    "# states = alt.topo_feature(data.us_10m.url, feature='states')\n"
   ]
  },
  {
   "cell_type": "markdown",
   "metadata": {},
   "source": [
    "## Hurricane tracts (2005)\n",
    "\n",
    "Pre-filtering this in Pandas since data is so large that don't want to do year 2005 filtering in Altair.\n",
    "\n",
    "**Interval selection in time bar chart.**"
   ]
  },
  {
   "cell_type": "code",
   "execution_count": 34,
   "metadata": {},
   "outputs": [
    {
     "data": {
      "application/vnd.jupyter.widget-view+json": {
       "model_id": "a4e7be7b69684528924f3612f90c1c69",
       "version_major": 2,
       "version_minor": 0
      },
      "text/plain": [
       "VegaFusionWidget(spec='{\\n  \"config\": {\\n    \"view\": {\\n      \"continuousWidth\": 300,\\n      \"continuousHeight…"
      ]
     },
     "metadata": {},
     "output_type": "display_data"
    },
    {
     "data": {
      "text/plain": []
     },
     "execution_count": 34,
     "metadata": {},
     "output_type": "execute_result"
    }
   ],
   "source": [
    "tracts_2005 = tracts.loc[tracts['Season']=='2005',:]\n",
    "\n",
    "states = alt.topo_feature('https://vega.github.io/vega-datasets/data/us-10m.json', 'states')\n",
    "\n",
    "interval = alt.selection_interval(encodings=['x'])\n",
    "\n",
    "timeline = alt.Chart(tracts_2005).mark_line().encode(\n",
    "    x=alt.X('ISO_time:T', timeUnit='yearmonthdate'),\n",
    "    y='count():Q'\n",
    ").add_params(\n",
    "    interval\n",
    ").properties(\n",
    "    width=200,\n",
    "    height=120\n",
    ")\n",
    "\n",
    "background = alt.Chart(states).mark_geoshape(\n",
    "    fill='lightgray',\n",
    "    stroke='white'\n",
    ").project('albersUsa').properties(\n",
    "    width=500,\n",
    "    height=400\n",
    ")\n",
    "\n",
    "points = alt.Chart(tracts_2005).mark_circle().encode(\n",
    "    longitude='Longitude:Q',\n",
    "    latitude='Latitude:Q',\n",
    "    size= alt.Size('Wind in knots:Q').scale(domain=[0,120]),\n",
    "    tooltip=['Hurricane Name','Longitude','Latitude']\n",
    ").transform_filter(\n",
    "    interval\n",
    ").project(\n",
    "    \"albersUsa\"\n",
    ").properties(\n",
    "    width=500,\n",
    "    height=400\n",
    ")\n",
    "\n",
    "timeline | (background + points)"
   ]
  },
  {
   "cell_type": "code",
   "execution_count": 21,
   "metadata": {},
   "outputs": [
    {
     "data": {
      "text/html": [
       "<div>\n",
       "<style scoped>\n",
       "    .dataframe tbody tr th:only-of-type {\n",
       "        vertical-align: middle;\n",
       "    }\n",
       "\n",
       "    .dataframe tbody tr th {\n",
       "        vertical-align: top;\n",
       "    }\n",
       "\n",
       "    .dataframe thead th {\n",
       "        text-align: right;\n",
       "    }\n",
       "</style>\n",
       "<table border=\"1\" class=\"dataframe\">\n",
       "  <thead>\n",
       "    <tr style=\"text-align: right;\">\n",
       "      <th></th>\n",
       "      <th>Longitude</th>\n",
       "      <th>Latitude</th>\n",
       "      <th>Serial_Num</th>\n",
       "      <th>Season</th>\n",
       "      <th>Num</th>\n",
       "      <th>Basin</th>\n",
       "      <th>Sub_basin</th>\n",
       "      <th>Hurricane Name</th>\n",
       "      <th>ISO_time</th>\n",
       "      <th>Nature</th>\n",
       "      <th>Wind in knots</th>\n",
       "      <th>Pressure in millibars</th>\n",
       "      <th>Wind Percentile</th>\n",
       "      <th>Pressure Percentile</th>\n",
       "      <th>Track_type</th>\n",
       "      <th>State</th>\n",
       "      <th>SubRegion</th>\n",
       "      <th>Region</th>\n",
       "      <th>Country</th>\n",
       "    </tr>\n",
       "  </thead>\n",
       "  <tbody>\n",
       "  </tbody>\n",
       "</table>\n",
       "</div>"
      ],
      "text/plain": [
       "Empty DataFrame\n",
       "Columns: [Longitude, Latitude, Serial_Num, Season, Num, Basin, Sub_basin, Hurricane Name, ISO_time, Nature, Wind in knots, Pressure in millibars, Wind Percentile, Pressure Percentile, Track_type, State, SubRegion, Region, Country]\n",
       "Index: []"
      ]
     },
     "execution_count": 21,
     "metadata": {},
     "output_type": "execute_result"
    }
   ],
   "source": [
    "tracts_2005"
   ]
  },
  {
   "cell_type": "code",
   "execution_count": null,
   "metadata": {},
   "outputs": [],
   "source": []
  }
 ],
 "metadata": {
  "kernelspec": {
   "display_name": "Python 3 (ipykernel)",
   "language": "python",
   "name": "python3"
  },
  "language_info": {
   "codemirror_mode": {
    "name": "ipython",
    "version": 3
   },
   "file_extension": ".py",
   "mimetype": "text/x-python",
   "name": "python",
   "nbconvert_exporter": "python",
   "pygments_lexer": "ipython3",
   "version": "3.9.12"
  }
 },
 "nbformat": 4,
 "nbformat_minor": 4
}
