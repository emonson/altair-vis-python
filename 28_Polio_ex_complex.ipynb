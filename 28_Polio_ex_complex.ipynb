{
 "cells": [
  {
   "cell_type": "markdown",
   "metadata": {},
   "source": [
    "# Fill in the blank exercises\n",
    "\n",
    "Read the instructions and try to create the visualizations by filling in the ---- blank sections."
   ]
  },
  {
   "cell_type": "code",
   "execution_count": null,
   "metadata": {},
   "outputs": [],
   "source": [
    "import pandas as pd\n",
    "import altair as alt\n",
    "from altair import datum"
   ]
  },
  {
   "cell_type": "code",
   "execution_count": null,
   "metadata": {},
   "outputs": [],
   "source": [
    "alt.data_transformers.enable('json')"
   ]
  },
  {
   "cell_type": "markdown",
   "metadata": {},
   "source": [
    "# Polio cases by state from 1928-1969\n",
    "\n",
    "**Note: Data is normalized cases per 100,000 people for each state**\n",
    "\n",
    "- [Downloaded from visdatasets](https://visdatasets.github.io/)\n",
    "- Original Retrieved from [Project Tycho](https://www.tycho.pitt.edu/); aggregated into yearly values.\n",
    "- [Good article on visualizations of this data](http://www.randalolson.com/2016/03/04/revisiting-the-vaccine-visualizations/)\n",
    "\n",
    "For this example we'll load data from an Excel file. If you have more than one sheet, you need to specify the sheet name."
   ]
  },
  {
   "cell_type": "code",
   "execution_count": null,
   "metadata": {},
   "outputs": [],
   "source": [
    "polio = pd.read_excel('data/polio_incidence_rates_united_states.xlsx', \n",
    "                      sheet_name='polio_incidence_rates')\n",
    "polio.head()"
   ]
  },
  {
   "cell_type": "markdown",
   "metadata": {},
   "source": [
    "## Timeline of total incidence per year (summed over all states)\n",
    "\n",
    "Start exploring by making a line chart that plots the sum of all the polio cases per year."
   ]
  },
  {
   "cell_type": "code",
   "execution_count": null,
   "metadata": {},
   "outputs": [],
   "source": [
    "alt.Chart(----).mark_----().encode(\n",
    "    x = '----:-',\n",
    "    y = '----:-'\n",
    ").properties(\n",
    "    width = 600\n",
    ")"
   ]
  },
  {
   "cell_type": "markdown",
   "metadata": {},
   "source": [
    "## Timeline overlaying (detail) all states\n",
    "\n",
    "We can add `detail=` to the encoding to split the data according to some categorical variable. This will make a mark for each unique entry in that category, adding a finer level of detail, without tying that variable to any other visual property like color or symbol type.\n",
    "\n",
    "Add a `detail=` section to the previous encoding to create more detail – one line for each state."
   ]
  },
  {
   "cell_type": "code",
   "execution_count": null,
   "metadata": {},
   "outputs": [],
   "source": [
    "alt.Chart(----).mark_----(opacity=0.3).encode(\n",
    "    x = '----:-',\n",
    "    y = '----:-',\n",
    "    detail = '----:-'\n",
    ").properties(\n",
    "    width = 600\n",
    ")"
   ]
  },
  {
   "cell_type": "markdown",
   "metadata": {},
   "source": [
    "## Making a simple DataFrame to hold the year of the polio vaccine introduction\n",
    "\n",
    "We'll use this DataFrame for a rule to annotate some charts"
   ]
  },
  {
   "cell_type": "code",
   "execution_count": null,
   "metadata": {},
   "outputs": [],
   "source": [
    "vacc = pd.DataFrame([{\"Introduction\": 1955}])"
   ]
  },
  {
   "cell_type": "markdown",
   "metadata": {},
   "source": [
    "## Timeline of all states overlayed with mean cases across states\n",
    "\n",
    "Now we'll practice layering up multiple charts using the `+` operator.\n",
    "\n",
    "- Make the bottom layer just like your previous plot, with one line per state.\n",
    "- Put over that a single line showing the **mean** number of cases per year (across all states)\n",
    "- Also add rule at 1955 introduction of vaccine\n",
    "\n",
    "**Note that we can layer charts using data from different DataFrames!**"
   ]
  },
  {
   "cell_type": "code",
   "execution_count": null,
   "metadata": {},
   "outputs": [],
   "source": [
    "state_lines = alt.Chart(----).----\n",
    "\n",
    "mean_line = alt.Chart(----).mark_line(strokeWidth=3).encode(----)\n",
    "\n",
    "rule = alt.Chart(vacc).mark_rule().encode(\n",
    "    x='Introduction:O'\n",
    ")\n",
    "\n",
    "state_lines + mean_line + rule"
   ]
  },
  {
   "cell_type": "markdown",
   "metadata": {},
   "source": [
    "## Median line with upper and lower quartile boundaries\n",
    "\n",
    "Often data patterns are more clear if you don't show as much detail. We can use an area plot to show upper and lower quartile bounds around a (layered) median line\n",
    "\n",
    "- The `mark_area()` has both y and y2 encoding channels\n",
    "- these will be the lower and upper bounds of the area plotted\n",
    "- `q1()` and `q3()` are aggregation functions which calculate the lower and upper quartile, respectively"
   ]
  },
  {
   "cell_type": "code",
   "execution_count": null,
   "metadata": {},
   "outputs": [],
   "source": [
    "base = alt.Chart(polio).properties(width=500)\n",
    "\n",
    "line = base.mark_line().encode(----)\n",
    "\n",
    "confidence_interval = base.mark_area(opacity=0.3).encode(\n",
    "    x ='----:-',\n",
    "    y = 'q1(----)',\n",
    "    y2 = 'q3(----)'\n",
    ")\n",
    "\n",
    "rule = alt.Chart(----).----\n",
    "\n",
    "confidence_interval + line + rule"
   ]
  },
  {
   "cell_type": "markdown",
   "metadata": {},
   "source": [
    "## Mean line with 95% confidence intervals\n",
    "\n",
    "Now try to do the same thing, but with the line showing the `mean` number of cases per state, and the area showing the upper and lower 95% confidence intervals. \n",
    "\n",
    "- Instead of using `q1()` and `q3()` for the upper and lower quantiles from the last exercise, now use `ci0()` and `ci1()` for the confidence interval aggregation functions in the `y=` and `y2=` arguments for the `encoding()`."
   ]
  },
  {
   "cell_type": "code",
   "execution_count": null,
   "metadata": {},
   "outputs": [],
   "source": [
    "base = alt.Chart(----)\n",
    "\n",
    "line = base.----\n",
    "\n",
    "confidence_interval = base.----\n",
    "\n",
    "rule = alt.Chart(----).-----\n",
    "\n",
    "----"
   ]
  },
  {
   "cell_type": "markdown",
   "metadata": {},
   "source": [
    "## Bar chart of sum of incidents by state (over all time)\n",
    "\n",
    "Now create a simple **horizontal** bar chart showing the total number of cases per state\n",
    "\n",
    "- Try to put the state names and the bars running horizontally so it's easier to read the state names.\n",
    "- By default the states will be listed alphabetically. Notice how it's hard to see the data pattern."
   ]
  },
  {
   "cell_type": "code",
   "execution_count": null,
   "metadata": {},
   "outputs": [],
   "source": [
    "alt.Chart(---).----"
   ]
  },
  {
   "cell_type": "markdown",
   "metadata": {},
   "source": [
    "## Sorted bar chart of sum of incidents by state (over all time)\n",
    "\n",
    "It's better practice to sort the bars (descending) by their length. To do that we need to change the specification for the y-axis to sort the categorical variable."
   ]
  },
  {
   "cell_type": "code",
   "execution_count": null,
   "metadata": {},
   "outputs": [],
   "source": [
    "alt.Chart(polio).mark_bar().encode(\n",
    "    x = '----:-',\n",
    "    y = alt.Y('----:-',\n",
    "            sort=alt.EncodingSortField(\n",
    "                field=\"----\",\n",
    "                op=\"sum\",\n",
    "                order=\"descending\"))\n",
    ")"
   ]
  },
  {
   "cell_type": "markdown",
   "metadata": {},
   "source": [
    "## Top 10 bar chart of summed cases per state, sorted (descending) by number of cases\n",
    "\n",
    "`transform_window()` is currently very poorly documented in Altair. It's purpose is to do things like running averages and rank calculations. In Tableau, these are usually \"table calculations\".\n",
    "\n",
    "- Here I [pulled from this example](https://github.com/altair-viz/altair/blob/master/altair/examples/top_k_letters.py) to calculate the top 10 states\n",
    "- Note that since I needed to use the sum of cases in multiple places I put it in a `transform_aggregate()` section"
   ]
  },
  {
   "cell_type": "code",
   "execution_count": null,
   "metadata": {},
   "outputs": [],
   "source": [
    "alt.Chart(polio).mark_bar().encode(\n",
    "    x = 'sum_cases:Q',\n",
    "    y = alt.Y('state:N',\n",
    "            sort=alt.EncodingSortField(\n",
    "                field=\"sum_cases\",\n",
    "                op=\"sum\",\n",
    "                order=\"descending\")\n",
    "    )\n",
    ").transform_aggregate(\n",
    "    sum_cases='sum(cases)',\n",
    "    groupby=['state']\n",
    ").transform_window(\n",
    "    rank = 'rank(sum_cases)',\n",
    "    sort=[alt.SortField('sum_cases', order='descending')]\n",
    ").transform_filter(\n",
    "    alt.datum.rank < 10\n",
    ")"
   ]
  },
  {
   "cell_type": "markdown",
   "metadata": {},
   "source": [
    "## Heatmap of cases by state and year\n",
    "\n",
    "Use rectangle marks, and show cases in color, states on the left and years on the bottom.\n",
    "\n",
    "[Vega-Lite color schemes](https://vega.github.io/vega/docs/schemes/)\n",
    "\n",
    "*(Note: To see the trend more clearly, limit the color scale domain from 0-50.)*"
   ]
  },
  {
   "cell_type": "code",
   "execution_count": null,
   "metadata": {},
   "outputs": [],
   "source": [
    "alt.Chart(----).mark_----().encode(\n",
    "    x = '----:-',\n",
    "    y = '----:-',\n",
    "    color = alt.Color('----:-', scale=alt.Scale(scheme='reds', domain=[0,50]))\n",
    ").properties(\n",
    "    width = 500,\n",
    "    height = 500\n",
    ")"
   ]
  },
  {
   "cell_type": "markdown",
   "metadata": {},
   "source": [
    "## Heatmap with states sorted by sum of cases\n",
    "\n",
    "Now again \n",
    "\n",
    "- sort the states by the sum of the number of cases (over all years)\n",
    "- add a rule at the year when the vaccine was introduced"
   ]
  },
  {
   "cell_type": "code",
   "execution_count": null,
   "metadata": {},
   "outputs": [],
   "source": [
    "heatmap = alt.Chart(----).----\n",
    "\n",
    "rule = alt.Chart(----).----\n",
    "\n",
    "---- - ----"
   ]
  },
  {
   "cell_type": "markdown",
   "metadata": {},
   "source": [
    "## US States Symbol Map\n",
    "\n",
    "US map with a circle for each state showing the total number of cases over the years for that state."
   ]
  },
  {
   "cell_type": "code",
   "execution_count": null,
   "metadata": {},
   "outputs": [],
   "source": [
    "state_locs = pd.read_excel('data/polio_incidence_rates_united_states.xlsx', sheet_name='state_locations')\n",
    "state_locs.head()"
   ]
  },
  {
   "cell_type": "code",
   "execution_count": null,
   "metadata": {},
   "outputs": [],
   "source": [
    "states = alt.topo_feature('https://vega.github.io/vega-datasets/data/us-10m.json', 'states')\n",
    "proj_type = 'albersUsa'\n",
    "width = 600\n",
    "height = 400\n",
    "\n",
    "background = alt.Chart(states).mark_geoshape(\n",
    "    fill='#e5d8bd',\n",
    "    stroke='white',\n",
    "    opacity=0.5\n",
    ").project(\n",
    "    type = proj_type\n",
    ").properties(\n",
    "    width = width,\n",
    "    height = height\n",
    ")\n",
    "\n",
    "points = alt.Chart(----).mark_circle().encode(\n",
    "    longitude = '----:Q',\n",
    "    latitude = '----:Q',\n",
    "    size = '----:Q',\n",
    "    tooltip = ['----:N','----:Q']\n",
    ").transform_aggregate(\n",
    "    sum_cases = 'sum(----)',\n",
    "    groupby = ['state']\n",
    ").transform_lookup(\n",
    "    lookup = \"state\",\n",
    "    from_ = alt.LookupData(data=state_locs, key='state', fields=['latitude','longitude'])\n",
    ").project(\n",
    "    type = proj_type\n",
    ").properties(\n",
    "    width = width,\n",
    "    height = height\n",
    ")\n",
    "\n",
    "background + points"
   ]
  }
 ],
 "metadata": {
  "kernelspec": {
   "display_name": "Python 3",
   "language": "python",
   "name": "python3"
  },
  "language_info": {
   "codemirror_mode": {
    "name": "ipython",
    "version": 3
   },
   "file_extension": ".py",
   "mimetype": "text/x-python",
   "name": "python",
   "nbconvert_exporter": "python",
   "pygments_lexer": "ipython3",
   "version": "3.7.3"
  }
 },
 "nbformat": 4,
 "nbformat_minor": 4
}
