{
 "cells": [
  {
   "cell_type": "markdown",
   "metadata": {},
   "source": [
    "## Altair with simple, sample data\n",
    "\n",
    "- **[Altair documentation](https://altair-viz.github.io/index.html)**\n",
    "\n",
    "\n",
    "- [Vega-Lite site](https://vega.github.io/vega-lite/)\n",
    "- [Vega-Lite documentation](https://vega.github.io/vega-lite/docs/)\n",
    "- [Vega-Lite 2.0 Medium article](https://medium.com/@uwdata/introducing-vega-lite-2-0-de6661c12d58)\n",
    "- [Vega-Lite 2.0 OpenVisConf 2017 talk](https://www.youtube.com/watch?v=9uaHRWj04D4)\n",
    "- [About the Vega project](https://vega.github.io/vega/about/)\n",
    "\n",
    "This is just a made-up data set inspired by a [Nature Methods article](https://www.nature.com/articles/nmeth.2807)"
   ]
  },
  {
   "cell_type": "code",
   "execution_count": 1,
   "metadata": {},
   "outputs": [],
   "source": [
    "import pandas as pd\n",
    "import altair as alt"
   ]
  },
  {
   "cell_type": "markdown",
   "metadata": {},
   "source": [
    "### Load in sample data\n",
    "\n",
    "We'll load all data into a Panda DataFrame. A DataFrame is just a special data structure that is meant for \"tablular data\", which is like a spreadsheet. DataFrames also have build-in functions that can modify and display the data.\n",
    "\n",
    "This pretend data set has values for five items in five categories. It gives us a chance to play around with various visual representations. **The best choice depends on which comparisons are most important to the story you're trying to tell!**"
   ]
  },
  {
   "cell_type": "code",
   "execution_count": 2,
   "metadata": {},
   "outputs": [],
   "source": [
    "df_orig = pd.read_csv('data/NatureBarValues.csv')"
   ]
  },
  {
   "cell_type": "markdown",
   "metadata": {},
   "source": [
    "#### Preview the data\n",
    "\n",
    "You can just type the name of the dataframe to get a printout of the contents"
   ]
  },
  {
   "cell_type": "code",
   "execution_count": 3,
   "metadata": {},
   "outputs": [
    {
     "data": {
      "text/html": [
       "<div>\n",
       "<style scoped>\n",
       "    .dataframe tbody tr th:only-of-type {\n",
       "        vertical-align: middle;\n",
       "    }\n",
       "\n",
       "    .dataframe tbody tr th {\n",
       "        vertical-align: top;\n",
       "    }\n",
       "\n",
       "    .dataframe thead th {\n",
       "        text-align: right;\n",
       "    }\n",
       "</style>\n",
       "<table border=\"1\" class=\"dataframe\">\n",
       "  <thead>\n",
       "    <tr style=\"text-align: right;\">\n",
       "      <th></th>\n",
       "      <th>Item</th>\n",
       "      <th>Category 1</th>\n",
       "      <th>Category 2</th>\n",
       "      <th>Category 3</th>\n",
       "      <th>Category 4</th>\n",
       "      <th>Category 5</th>\n",
       "    </tr>\n",
       "  </thead>\n",
       "  <tbody>\n",
       "    <tr>\n",
       "      <td>0</td>\n",
       "      <td>Item 1</td>\n",
       "      <td>6</td>\n",
       "      <td>29</td>\n",
       "      <td>18</td>\n",
       "      <td>30</td>\n",
       "      <td>7</td>\n",
       "    </tr>\n",
       "    <tr>\n",
       "      <td>1</td>\n",
       "      <td>Item 2</td>\n",
       "      <td>8</td>\n",
       "      <td>27</td>\n",
       "      <td>17</td>\n",
       "      <td>13</td>\n",
       "      <td>11</td>\n",
       "    </tr>\n",
       "    <tr>\n",
       "      <td>2</td>\n",
       "      <td>Item 3</td>\n",
       "      <td>10</td>\n",
       "      <td>21</td>\n",
       "      <td>16</td>\n",
       "      <td>4</td>\n",
       "      <td>19</td>\n",
       "    </tr>\n",
       "    <tr>\n",
       "      <td>3</td>\n",
       "      <td>Item 4</td>\n",
       "      <td>20</td>\n",
       "      <td>17</td>\n",
       "      <td>16</td>\n",
       "      <td>9</td>\n",
       "      <td>7</td>\n",
       "    </tr>\n",
       "    <tr>\n",
       "      <td>4</td>\n",
       "      <td>Item 5</td>\n",
       "      <td>23</td>\n",
       "      <td>5</td>\n",
       "      <td>15</td>\n",
       "      <td>19</td>\n",
       "      <td>2</td>\n",
       "    </tr>\n",
       "  </tbody>\n",
       "</table>\n",
       "</div>"
      ],
      "text/plain": [
       "     Item  Category 1  Category 2  Category 3  Category 4  Category 5\n",
       "0  Item 1           6          29          18          30           7\n",
       "1  Item 2           8          27          17          13          11\n",
       "2  Item 3          10          21          16           4          19\n",
       "3  Item 4          20          17          16           9           7\n",
       "4  Item 5          23           5          15          19           2"
      ]
     },
     "execution_count": 3,
     "metadata": {},
     "output_type": "execute_result"
    }
   ],
   "source": [
    "df_orig"
   ]
  },
  {
   "cell_type": "markdown",
   "metadata": {},
   "source": [
    "### Make data \"tidy\"\n",
    "\n",
    "The data isn't in the right form for visualization in Altair (or Tableau or ggplot2). Right now it's \"wide\" and it needs to be \"tall\". Once we \"tidy\" the data, each column will have only one type of information, and the same types of data won't be spread across multiple columns.\n",
    "\n",
    "See my previous *Tidy Data in Python with JupyterLab*\n",
    "[repository](https://github.com/emonson/tidy-data-python) and [video](https://library.capture.duke.edu/Panopto/Pages/Viewer.aspx?id=d8a3efe2-48d7-4505-acd3-a943013c2442)\n",
    "\n",
    "In Pandas we do this by using the `melt()` function. We specify a list of columns that won't be pivoted using the `id_vars=` argument (here the list only has one item in it), and all other columns will be pivoted. We also here specify a name for the column that used to be the column headers. The `head()` method lets you view the first set of rows."
   ]
  },
  {
   "cell_type": "code",
   "execution_count": 4,
   "metadata": {},
   "outputs": [
    {
     "data": {
      "text/html": [
       "<div>\n",
       "<style scoped>\n",
       "    .dataframe tbody tr th:only-of-type {\n",
       "        vertical-align: middle;\n",
       "    }\n",
       "\n",
       "    .dataframe tbody tr th {\n",
       "        vertical-align: top;\n",
       "    }\n",
       "\n",
       "    .dataframe thead th {\n",
       "        text-align: right;\n",
       "    }\n",
       "</style>\n",
       "<table border=\"1\" class=\"dataframe\">\n",
       "  <thead>\n",
       "    <tr style=\"text-align: right;\">\n",
       "      <th></th>\n",
       "      <th>Item</th>\n",
       "      <th>Category</th>\n",
       "      <th>value</th>\n",
       "    </tr>\n",
       "  </thead>\n",
       "  <tbody>\n",
       "    <tr>\n",
       "      <td>0</td>\n",
       "      <td>Item 1</td>\n",
       "      <td>Category 1</td>\n",
       "      <td>6</td>\n",
       "    </tr>\n",
       "    <tr>\n",
       "      <td>1</td>\n",
       "      <td>Item 2</td>\n",
       "      <td>Category 1</td>\n",
       "      <td>8</td>\n",
       "    </tr>\n",
       "    <tr>\n",
       "      <td>2</td>\n",
       "      <td>Item 3</td>\n",
       "      <td>Category 1</td>\n",
       "      <td>10</td>\n",
       "    </tr>\n",
       "    <tr>\n",
       "      <td>3</td>\n",
       "      <td>Item 4</td>\n",
       "      <td>Category 1</td>\n",
       "      <td>20</td>\n",
       "    </tr>\n",
       "    <tr>\n",
       "      <td>4</td>\n",
       "      <td>Item 5</td>\n",
       "      <td>Category 1</td>\n",
       "      <td>23</td>\n",
       "    </tr>\n",
       "    <tr>\n",
       "      <td>5</td>\n",
       "      <td>Item 1</td>\n",
       "      <td>Category 2</td>\n",
       "      <td>29</td>\n",
       "    </tr>\n",
       "    <tr>\n",
       "      <td>6</td>\n",
       "      <td>Item 2</td>\n",
       "      <td>Category 2</td>\n",
       "      <td>27</td>\n",
       "    </tr>\n",
       "    <tr>\n",
       "      <td>7</td>\n",
       "      <td>Item 3</td>\n",
       "      <td>Category 2</td>\n",
       "      <td>21</td>\n",
       "    </tr>\n",
       "    <tr>\n",
       "      <td>8</td>\n",
       "      <td>Item 4</td>\n",
       "      <td>Category 2</td>\n",
       "      <td>17</td>\n",
       "    </tr>\n",
       "    <tr>\n",
       "      <td>9</td>\n",
       "      <td>Item 5</td>\n",
       "      <td>Category 2</td>\n",
       "      <td>5</td>\n",
       "    </tr>\n",
       "  </tbody>\n",
       "</table>\n",
       "</div>"
      ],
      "text/plain": [
       "     Item    Category  value\n",
       "0  Item 1  Category 1      6\n",
       "1  Item 2  Category 1      8\n",
       "2  Item 3  Category 1     10\n",
       "3  Item 4  Category 1     20\n",
       "4  Item 5  Category 1     23\n",
       "5  Item 1  Category 2     29\n",
       "6  Item 2  Category 2     27\n",
       "7  Item 3  Category 2     21\n",
       "8  Item 4  Category 2     17\n",
       "9  Item 5  Category 2      5"
      ]
     },
     "execution_count": 4,
     "metadata": {},
     "output_type": "execute_result"
    }
   ],
   "source": [
    "df = df_orig.melt(id_vars=[\"Item\"],var_name=\"Category\")\n",
    "df.head(10)"
   ]
  },
  {
   "cell_type": "markdown",
   "metadata": {},
   "source": [
    "### Heatmap\n",
    "\n",
    "A heatmap is a very compact visual representation of the data, where rectangles are colored by the values in each cell. We're not really good at quantitatively comparing color values, though, so this isn't a great representation if you want people to accurately detect the numerical patterns. Also, note that Category 3 values aren't distinguishable.\n"
   ]
  },
  {
   "cell_type": "code",
   "execution_count": 5,
   "metadata": {},
   "outputs": [
    {
     "data": {
      "application/vnd.vegalite.v3+json": {
       "$schema": "https://vega.github.io/schema/vega-lite/v3.4.0.json",
       "config": {
        "mark": {
         "tooltip": null
        },
        "view": {
         "height": 300,
         "width": 400
        }
       },
       "data": {
        "name": "data-dcc63c1bd6179d79fcae39778c52b169"
       },
       "datasets": {
        "data-dcc63c1bd6179d79fcae39778c52b169": [
         {
          "Category": "Category 1",
          "Item": "Item 1",
          "value": 6
         },
         {
          "Category": "Category 1",
          "Item": "Item 2",
          "value": 8
         },
         {
          "Category": "Category 1",
          "Item": "Item 3",
          "value": 10
         },
         {
          "Category": "Category 1",
          "Item": "Item 4",
          "value": 20
         },
         {
          "Category": "Category 1",
          "Item": "Item 5",
          "value": 23
         },
         {
          "Category": "Category 2",
          "Item": "Item 1",
          "value": 29
         },
         {
          "Category": "Category 2",
          "Item": "Item 2",
          "value": 27
         },
         {
          "Category": "Category 2",
          "Item": "Item 3",
          "value": 21
         },
         {
          "Category": "Category 2",
          "Item": "Item 4",
          "value": 17
         },
         {
          "Category": "Category 2",
          "Item": "Item 5",
          "value": 5
         },
         {
          "Category": "Category 3",
          "Item": "Item 1",
          "value": 18
         },
         {
          "Category": "Category 3",
          "Item": "Item 2",
          "value": 17
         },
         {
          "Category": "Category 3",
          "Item": "Item 3",
          "value": 16
         },
         {
          "Category": "Category 3",
          "Item": "Item 4",
          "value": 16
         },
         {
          "Category": "Category 3",
          "Item": "Item 5",
          "value": 15
         },
         {
          "Category": "Category 4",
          "Item": "Item 1",
          "value": 30
         },
         {
          "Category": "Category 4",
          "Item": "Item 2",
          "value": 13
         },
         {
          "Category": "Category 4",
          "Item": "Item 3",
          "value": 4
         },
         {
          "Category": "Category 4",
          "Item": "Item 4",
          "value": 9
         },
         {
          "Category": "Category 4",
          "Item": "Item 5",
          "value": 19
         },
         {
          "Category": "Category 5",
          "Item": "Item 1",
          "value": 7
         },
         {
          "Category": "Category 5",
          "Item": "Item 2",
          "value": 11
         },
         {
          "Category": "Category 5",
          "Item": "Item 3",
          "value": 19
         },
         {
          "Category": "Category 5",
          "Item": "Item 4",
          "value": 7
         },
         {
          "Category": "Category 5",
          "Item": "Item 5",
          "value": 2
         }
        ]
       },
       "encoding": {
        "color": {
         "field": "value",
         "type": "quantitative"
        },
        "x": {
         "field": "Category",
         "type": "nominal"
        },
        "y": {
         "field": "Item",
         "type": "nominal"
        }
       },
       "mark": "rect"
      },
      "image/png": "[encoded data removed]",
      "text/plain": [
       "<VegaLite 3 object>\n",
       "\n",
       "If you see this message, it means the renderer has not been properly enabled\n",
       "for the frontend that you are using. For more information, see\n",
       "https://altair-viz.github.io/user_guide/troubleshooting.html\n"
      ]
     },
     "execution_count": 5,
     "metadata": {},
     "output_type": "execute_result"
    }
   ],
   "source": [
    "alt.Chart(df).mark_rect().encode(\n",
    "    x = 'Category',\n",
    "    y = 'Item',\n",
    "    color = 'value'\n",
    ")"
   ]
  },
  {
   "cell_type": "markdown",
   "metadata": {},
   "source": [
    "### Vega-Lite specification\n",
    "\n",
    "What Altair really produces is a Vega-Lite JSON declarative specification for building the visualization, and JupyterLab has Vega and Vega-Lite built in for rendering. This is a nice separation of concerns, where Altair just needs to know how to make JSON, and the renderer knows how to actually create the visuals!\n",
    "\n",
    "We can see the specification behind each visualization by using `.to_json()` or `.to_dict()`. Here we'll use the latter, because the printout is more compact, but feel free to try the former.\n",
    "\n",
    "**Note that all of the data is included in the JSON!!**\n",
    "\n",
    "- [Medium article on Vega-Lite adoption](https://medium.com/@robin.linacre/why-im-backing-vega-lite-as-our-default-tool-for-data-visualisation-51c20970df39)"
   ]
  },
  {
   "cell_type": "code",
   "execution_count": 6,
   "metadata": {},
   "outputs": [
    {
     "data": {
      "text/plain": [
       "{'config': {'view': {'width': 400, 'height': 300}, 'mark': {'tooltip': None}},\n",
       " 'data': {'name': 'data-dcc63c1bd6179d79fcae39778c52b169'},\n",
       " 'mark': 'rect',\n",
       " 'encoding': {'color': {'type': 'quantitative', 'field': 'value'},\n",
       "  'x': {'type': 'nominal', 'field': 'Category'},\n",
       "  'y': {'type': 'nominal', 'field': 'Item'}},\n",
       " '$schema': 'https://vega.github.io/schema/vega-lite/v3.4.0.json',\n",
       " 'datasets': {'data-dcc63c1bd6179d79fcae39778c52b169': [{'Item': 'Item 1',\n",
       "    'Category': 'Category 1',\n",
       "    'value': 6},\n",
       "   {'Item': 'Item 2', 'Category': 'Category 1', 'value': 8},\n",
       "   {'Item': 'Item 3', 'Category': 'Category 1', 'value': 10},\n",
       "   {'Item': 'Item 4', 'Category': 'Category 1', 'value': 20},\n",
       "   {'Item': 'Item 5', 'Category': 'Category 1', 'value': 23},\n",
       "   {'Item': 'Item 1', 'Category': 'Category 2', 'value': 29},\n",
       "   {'Item': 'Item 2', 'Category': 'Category 2', 'value': 27},\n",
       "   {'Item': 'Item 3', 'Category': 'Category 2', 'value': 21},\n",
       "   {'Item': 'Item 4', 'Category': 'Category 2', 'value': 17},\n",
       "   {'Item': 'Item 5', 'Category': 'Category 2', 'value': 5},\n",
       "   {'Item': 'Item 1', 'Category': 'Category 3', 'value': 18},\n",
       "   {'Item': 'Item 2', 'Category': 'Category 3', 'value': 17},\n",
       "   {'Item': 'Item 3', 'Category': 'Category 3', 'value': 16},\n",
       "   {'Item': 'Item 4', 'Category': 'Category 3', 'value': 16},\n",
       "   {'Item': 'Item 5', 'Category': 'Category 3', 'value': 15},\n",
       "   {'Item': 'Item 1', 'Category': 'Category 4', 'value': 30},\n",
       "   {'Item': 'Item 2', 'Category': 'Category 4', 'value': 13},\n",
       "   {'Item': 'Item 3', 'Category': 'Category 4', 'value': 4},\n",
       "   {'Item': 'Item 4', 'Category': 'Category 4', 'value': 9},\n",
       "   {'Item': 'Item 5', 'Category': 'Category 4', 'value': 19},\n",
       "   {'Item': 'Item 1', 'Category': 'Category 5', 'value': 7},\n",
       "   {'Item': 'Item 2', 'Category': 'Category 5', 'value': 11},\n",
       "   {'Item': 'Item 3', 'Category': 'Category 5', 'value': 19},\n",
       "   {'Item': 'Item 4', 'Category': 'Category 5', 'value': 7},\n",
       "   {'Item': 'Item 5', 'Category': 'Category 5', 'value': 2}]}}"
      ]
     },
     "execution_count": 6,
     "metadata": {},
     "output_type": "execute_result"
    }
   ],
   "source": [
    "heatmap = alt.Chart(df).mark_rect().encode(\n",
    "    x = 'Category',\n",
    "    y = 'Item',\n",
    "    color = 'value'\n",
    ")\n",
    "heatmap.to_dict()"
   ]
  },
  {
   "cell_type": "markdown",
   "metadata": {},
   "source": [
    "### All data still included, even with a filter applied\n",
    "\n",
    "One limitation of Altair is that **all of the data is included in the JSON, even if you're filtering down to a subset, or not using part of it!**\n",
    "\n",
    "Here we'll filter down to just a single value of data..."
   ]
  },
  {
   "cell_type": "code",
   "execution_count": 7,
   "metadata": {},
   "outputs": [
    {
     "data": {
      "application/vnd.vegalite.v3+json": {
       "$schema": "https://vega.github.io/schema/vega-lite/v3.4.0.json",
       "config": {
        "mark": {
         "tooltip": null
        },
        "view": {
         "height": 300,
         "width": 400
        }
       },
       "data": {
        "name": "data-dcc63c1bd6179d79fcae39778c52b169"
       },
       "datasets": {
        "data-dcc63c1bd6179d79fcae39778c52b169": [
         {
          "Category": "Category 1",
          "Item": "Item 1",
          "value": 6
         },
         {
          "Category": "Category 1",
          "Item": "Item 2",
          "value": 8
         },
         {
          "Category": "Category 1",
          "Item": "Item 3",
          "value": 10
         },
         {
          "Category": "Category 1",
          "Item": "Item 4",
          "value": 20
         },
         {
          "Category": "Category 1",
          "Item": "Item 5",
          "value": 23
         },
         {
          "Category": "Category 2",
          "Item": "Item 1",
          "value": 29
         },
         {
          "Category": "Category 2",
          "Item": "Item 2",
          "value": 27
         },
         {
          "Category": "Category 2",
          "Item": "Item 3",
          "value": 21
         },
         {
          "Category": "Category 2",
          "Item": "Item 4",
          "value": 17
         },
         {
          "Category": "Category 2",
          "Item": "Item 5",
          "value": 5
         },
         {
          "Category": "Category 3",
          "Item": "Item 1",
          "value": 18
         },
         {
          "Category": "Category 3",
          "Item": "Item 2",
          "value": 17
         },
         {
          "Category": "Category 3",
          "Item": "Item 3",
          "value": 16
         },
         {
          "Category": "Category 3",
          "Item": "Item 4",
          "value": 16
         },
         {
          "Category": "Category 3",
          "Item": "Item 5",
          "value": 15
         },
         {
          "Category": "Category 4",
          "Item": "Item 1",
          "value": 30
         },
         {
          "Category": "Category 4",
          "Item": "Item 2",
          "value": 13
         },
         {
          "Category": "Category 4",
          "Item": "Item 3",
          "value": 4
         },
         {
          "Category": "Category 4",
          "Item": "Item 4",
          "value": 9
         },
         {
          "Category": "Category 4",
          "Item": "Item 5",
          "value": 19
         },
         {
          "Category": "Category 5",
          "Item": "Item 1",
          "value": 7
         },
         {
          "Category": "Category 5",
          "Item": "Item 2",
          "value": 11
         },
         {
          "Category": "Category 5",
          "Item": "Item 3",
          "value": 19
         },
         {
          "Category": "Category 5",
          "Item": "Item 4",
          "value": 7
         },
         {
          "Category": "Category 5",
          "Item": "Item 5",
          "value": 2
         }
        ]
       },
       "encoding": {
        "x": {
         "field": "Category",
         "type": "nominal"
        }
       },
       "mark": "rect",
       "transform": [
        {
         "filter": "datum.Category == 'Category 1'"
        }
       ]
      },
      "image/png": "[encoded data removed]",
      "text/plain": [
       "<VegaLite 3 object>\n",
       "\n",
       "If you see this message, it means the renderer has not been properly enabled\n",
       "for the frontend that you are using. For more information, see\n",
       "https://altair-viz.github.io/user_guide/troubleshooting.html\n"
      ]
     },
     "execution_count": 7,
     "metadata": {},
     "output_type": "execute_result"
    }
   ],
   "source": [
    "alt.Chart(df).mark_rect().encode(\n",
    "    x = 'Category'\n",
    ").transform_filter(\n",
    "    \"datum.Category == 'Category 1'\"\n",
    ")"
   ]
  },
  {
   "cell_type": "markdown",
   "metadata": {},
   "source": [
    "...but all the data is still included in the JSON"
   ]
  },
  {
   "cell_type": "code",
   "execution_count": 8,
   "metadata": {},
   "outputs": [
    {
     "data": {
      "text/plain": [
       "{'config': {'view': {'width': 400, 'height': 300}, 'mark': {'tooltip': None}},\n",
       " 'data': {'name': 'data-dcc63c1bd6179d79fcae39778c52b169'},\n",
       " 'mark': 'rect',\n",
       " 'encoding': {'x': {'type': 'nominal', 'field': 'Category'}},\n",
       " 'transform': [{'filter': \"datum.Category == 'Category 1'\"}],\n",
       " '$schema': 'https://vega.github.io/schema/vega-lite/v3.4.0.json',\n",
       " 'datasets': {'data-dcc63c1bd6179d79fcae39778c52b169': [{'Item': 'Item 1',\n",
       "    'Category': 'Category 1',\n",
       "    'value': 6},\n",
       "   {'Item': 'Item 2', 'Category': 'Category 1', 'value': 8},\n",
       "   {'Item': 'Item 3', 'Category': 'Category 1', 'value': 10},\n",
       "   {'Item': 'Item 4', 'Category': 'Category 1', 'value': 20},\n",
       "   {'Item': 'Item 5', 'Category': 'Category 1', 'value': 23},\n",
       "   {'Item': 'Item 1', 'Category': 'Category 2', 'value': 29},\n",
       "   {'Item': 'Item 2', 'Category': 'Category 2', 'value': 27},\n",
       "   {'Item': 'Item 3', 'Category': 'Category 2', 'value': 21},\n",
       "   {'Item': 'Item 4', 'Category': 'Category 2', 'value': 17},\n",
       "   {'Item': 'Item 5', 'Category': 'Category 2', 'value': 5},\n",
       "   {'Item': 'Item 1', 'Category': 'Category 3', 'value': 18},\n",
       "   {'Item': 'Item 2', 'Category': 'Category 3', 'value': 17},\n",
       "   {'Item': 'Item 3', 'Category': 'Category 3', 'value': 16},\n",
       "   {'Item': 'Item 4', 'Category': 'Category 3', 'value': 16},\n",
       "   {'Item': 'Item 5', 'Category': 'Category 3', 'value': 15},\n",
       "   {'Item': 'Item 1', 'Category': 'Category 4', 'value': 30},\n",
       "   {'Item': 'Item 2', 'Category': 'Category 4', 'value': 13},\n",
       "   {'Item': 'Item 3', 'Category': 'Category 4', 'value': 4},\n",
       "   {'Item': 'Item 4', 'Category': 'Category 4', 'value': 9},\n",
       "   {'Item': 'Item 5', 'Category': 'Category 4', 'value': 19},\n",
       "   {'Item': 'Item 1', 'Category': 'Category 5', 'value': 7},\n",
       "   {'Item': 'Item 2', 'Category': 'Category 5', 'value': 11},\n",
       "   {'Item': 'Item 3', 'Category': 'Category 5', 'value': 19},\n",
       "   {'Item': 'Item 4', 'Category': 'Category 5', 'value': 7},\n",
       "   {'Item': 'Item 5', 'Category': 'Category 5', 'value': 2}]}}"
      ]
     },
     "execution_count": 8,
     "metadata": {},
     "output_type": "execute_result"
    }
   ],
   "source": [
    "heatmap = alt.Chart(df).mark_rect().encode(\n",
    "    x = 'Category'\n",
    ").transform_filter(\n",
    "    \"datum.Category == 'Category 1'\"\n",
    ")\n",
    "heatmap.to_dict()"
   ]
  },
  {
   "cell_type": "markdown",
   "metadata": {},
   "source": [
    "## MaxRowsError\n",
    "\n",
    "Having all the data embedded in every visualization will not only bog down your notebook, it will eventually give you an error called the MaxRowsError. You can take off limit for number of rows, but that's not a great idea because you end up with huge notebooks!\n",
    "\n",
    "Instead, we can specify that the outputs should just refer to a JSON file on your local drive and load in the data from there for each plot. This JSON file will be created automatically, it'll get reused within a session, and you'll never have to pay attention to it's name. \n",
    "\n",
    "See the [Altair tutorial notebook](https://github.com/altair-viz/altair-tutorial/blob/master/notebooks/03-Binning-and-aggregation.ipynb) `03-Binning-and-aggregation` for more details."
   ]
  },
  {
   "cell_type": "code",
   "execution_count": 9,
   "metadata": {},
   "outputs": [
    {
     "data": {
      "text/plain": [
       "DataTransformerRegistry.enable('json')"
      ]
     },
     "execution_count": 9,
     "metadata": {},
     "output_type": "execute_result"
    }
   ],
   "source": [
    "alt.data_transformers.enable('json')\n",
    "\n",
    "# url = 'data/nature_bar_values_tidy.json'\n",
    "# df.to_json(url, orient='records')"
   ]
  },
  {
   "cell_type": "markdown",
   "metadata": {},
   "source": [
    "### Now data is just referenced from JSON in Vega-Lite specification"
   ]
  },
  {
   "cell_type": "code",
   "execution_count": 10,
   "metadata": {},
   "outputs": [
    {
     "data": {
      "text/plain": [
       "{'config': {'view': {'width': 400, 'height': 300}, 'mark': {'tooltip': None}},\n",
       " 'data': {'url': 'altair-data-734e125f330dd2d43ae418168a63d485.json',\n",
       "  'format': {'type': 'json'}},\n",
       " 'mark': 'rect',\n",
       " 'encoding': {'x': {'type': 'ordinal', 'field': 'Category'}},\n",
       " 'transform': [{'filter': \"datum.Category == 'Category 1'\"}],\n",
       " '$schema': 'https://vega.github.io/schema/vega-lite/v3.4.0.json'}"
      ]
     },
     "execution_count": 10,
     "metadata": {},
     "output_type": "execute_result"
    }
   ],
   "source": [
    "heatmap = alt.Chart(df).mark_rect().encode(\n",
    "    x = 'Category:O'\n",
    ").transform_filter(\n",
    "    \"datum.Category == 'Category 1'\"\n",
    ")\n",
    "\n",
    "heatmap.to_dict()"
   ]
  },
  {
   "cell_type": "markdown",
   "metadata": {},
   "source": [
    "## Other visual encodings\n",
    "\n",
    "Let's get back to generating other alternative visual encodings for the data that will be better suited for particular comparisons we're trying to make easy for the audience.\n",
    "\n",
    "### Rect with size variation\n",
    "\n",
    "*Note that now we're specifying the variable types*, in this case so Altair will give us a categorical (nominal) color scheme instead of ordinal.\n",
    "\n",
    "[Encoding data types](https://altair-viz.github.io/user_guide/encoding.html#encoding-data-types)\n",
    "\n",
    "|Data Type|Shorthand Code|Description\n",
    "|---|---|---\n",
    "|quantitative|Q|a continuous real-valued quantity\n",
    "|ordinal|O|a discrete ordered quantity\n",
    "|nominal|N|a discrete unordered category\n",
    "|temporal|T|a time or date value\n",
    "\n",
    "Try switching the variable type for the color and see what difference it makes."
   ]
  },
  {
   "cell_type": "code",
   "execution_count": 11,
   "metadata": {},
   "outputs": [
    {
     "data": {
      "application/vnd.vegalite.v3+json": {
       "$schema": "https://vega.github.io/schema/vega-lite/v3.4.0.json",
       "config": {
        "mark": {
         "tooltip": null
        },
        "view": {
         "height": 300,
         "width": 400
        }
       },
       "data": {
        "format": {
         "type": "json"
        },
        "url": "altair-data-734e125f330dd2d43ae418168a63d485.json"
       },
       "encoding": {
        "color": {
         "field": "Category",
         "type": "ordinal"
        },
        "size": {
         "field": "value",
         "type": "quantitative"
        },
        "x": {
         "field": "Category",
         "type": "ordinal"
        },
        "y": {
         "field": "Item",
         "type": "ordinal"
        }
       },
       "height": 200,
       "mark": "square",
       "width": 200
      },
      "image/png": "[encoded data removed]",
      "text/plain": [
       "<VegaLite 3 object>\n",
       "\n",
       "If you see this message, it means the renderer has not been properly enabled\n",
       "for the frontend that you are using. For more information, see\n",
       "https://altair-viz.github.io/user_guide/troubleshooting.html\n"
      ]
     },
     "execution_count": 11,
     "metadata": {},
     "output_type": "execute_result"
    }
   ],
   "source": [
    "alt.Chart(df).mark_square().encode(\n",
    "    x = 'Category:O',\n",
    "    y = 'Item:O',\n",
    "    color = 'Category:O',\n",
    "    size = 'value:Q'\n",
    ").properties(\n",
    "    width = 200,\n",
    "    height = 200\n",
    ")"
   ]
  },
  {
   "cell_type": "markdown",
   "metadata": {},
   "source": [
    "### Comparing summed levels with Stacked bar\n",
    "\n",
    "Stacked bars can help if part of the main story is the overall sums within Items"
   ]
  },
  {
   "cell_type": "code",
   "execution_count": 12,
   "metadata": {},
   "outputs": [
    {
     "data": {
      "application/vnd.vegalite.v3+json": {
       "$schema": "https://vega.github.io/schema/vega-lite/v3.4.0.json",
       "config": {
        "mark": {
         "tooltip": null
        },
        "view": {
         "height": 300,
         "width": 400
        }
       },
       "data": {
        "format": {
         "type": "json"
        },
        "url": "altair-data-734e125f330dd2d43ae418168a63d485.json"
       },
       "encoding": {
        "color": {
         "field": "Category",
         "type": "nominal"
        },
        "x": {
         "aggregate": "sum",
         "field": "value",
         "type": "quantitative"
        },
        "y": {
         "field": "Item",
         "type": "ordinal"
        }
       },
       "mark": "bar"
      },
      "image/png": "[encoded data removed]",
      "text/plain": [
       "<VegaLite 3 object>\n",
       "\n",
       "If you see this message, it means the renderer has not been properly enabled\n",
       "for the frontend that you are using. For more information, see\n",
       "https://altair-viz.github.io/user_guide/troubleshooting.html\n"
      ]
     },
     "execution_count": 12,
     "metadata": {},
     "output_type": "execute_result"
    }
   ],
   "source": [
    "alt.Chart(df).mark_bar().encode(\n",
    "    x = 'sum(value):Q',\n",
    "    y = 'Item:O',\n",
    "    color = 'Category:N'\n",
    ")"
   ]
  },
  {
   "cell_type": "markdown",
   "metadata": {},
   "source": [
    "### Comparing within item bars\n",
    "\n",
    "If we want people to be able to make comparisons across categories within each item, say whether Category 2 or 4 is larger in Item 1, we need to give them a common baseline.\n",
    "\n",
    "*Note that we could alternatively specified `row = 'Item:O'` right within the encoding instead of needing the `.facet()` section.*"
   ]
  },
  {
   "cell_type": "code",
   "execution_count": 13,
   "metadata": {},
   "outputs": [
    {
     "data": {
      "application/vnd.vegalite.v3+json": {
       "$schema": "https://vega.github.io/schema/vega-lite/v3.4.0.json",
       "config": {
        "mark": {
         "tooltip": null
        },
        "view": {
         "height": 300,
         "width": 400
        }
       },
       "data": {
        "format": {
         "type": "json"
        },
        "url": "altair-data-734e125f330dd2d43ae418168a63d485.json"
       },
       "facet": {
        "row": {
         "field": "Item",
         "type": "ordinal"
        }
       },
       "spec": {
        "encoding": {
         "color": {
          "field": "Category",
          "type": "nominal"
         },
         "x": {
          "field": "Category",
          "type": "ordinal"
         },
         "y": {
          "aggregate": "sum",
          "field": "value",
          "type": "quantitative"
         }
        },
        "height": 80,
        "mark": "bar",
        "width": 160
       }
      },
      "image/png": "[encoded data removed]",
      "text/plain": [
       "<VegaLite 3 object>\n",
       "\n",
       "If you see this message, it means the renderer has not been properly enabled\n",
       "for the frontend that you are using. For more information, see\n",
       "https://altair-viz.github.io/user_guide/troubleshooting.html\n"
      ]
     },
     "execution_count": 13,
     "metadata": {},
     "output_type": "execute_result"
    }
   ],
   "source": [
    "alt.Chart(df).mark_bar().encode(\n",
    "    x = 'Category:O',\n",
    "    y = 'sum(value):Q',\n",
    "    color = 'Category:N'\n",
    ").properties(\n",
    "    width = 160,\n",
    "    height = 80\n",
    ").facet(\n",
    "    row='Item:O'\n",
    ")"
   ]
  },
  {
   "cell_type": "markdown",
   "metadata": {},
   "source": [
    "### Horizontally-grouped bars don't work as well\n",
    "\n",
    "Within an item is just fine, but the vertically-stacked small multiples (row facets) make it possible to still do some (non-common baseline) comparisons down wtihin a category, but visually it's harder to do that when groups are horizontal, as is a common default."
   ]
  },
  {
   "cell_type": "code",
   "execution_count": 23,
   "metadata": {},
   "outputs": [
    {
     "data": {
      "application/vnd.vegalite.v3+json": {
       "$schema": "https://vega.github.io/schema/vega-lite/v3.4.0.json",
       "config": {
        "mark": {
         "tooltip": null
        },
        "view": {
         "height": 300,
         "width": 400
        }
       },
       "data": {
        "format": {
         "type": "json"
        },
        "url": "altair-data-734e125f330dd2d43ae418168a63d485.json"
       },
       "facet": {
        "column": {
         "field": "Item",
         "type": "ordinal"
        }
       },
       "spec": {
        "encoding": {
         "color": {
          "field": "Category",
          "type": "nominal"
         },
         "x": {
          "field": "Category",
          "type": "ordinal"
         },
         "y": {
          "aggregate": "sum",
          "field": "value",
          "type": "quantitative"
         }
        },
        "height": 140,
        "mark": "bar",
        "width": 120
       }
      },
      "image/png": "[encoded data removed]",
      "text/plain": [
       "<VegaLite 3 object>\n",
       "\n",
       "If you see this message, it means the renderer has not been properly enabled\n",
       "for the frontend that you are using. For more information, see\n",
       "https://altair-viz.github.io/user_guide/troubleshooting.html\n"
      ]
     },
     "execution_count": 23,
     "metadata": {},
     "output_type": "execute_result"
    }
   ],
   "source": [
    "alt.Chart(df).mark_bar().encode(\n",
    "    x = 'Category:O',\n",
    "    y = 'sum(value):Q',\n",
    "    color = 'Category:N'\n",
    ").properties(\n",
    "    width = 120,\n",
    "    height = 140\n",
    ").facet(\n",
    "    column='Item:O'\n",
    ")"
   ]
  },
  {
   "cell_type": "markdown",
   "metadata": {},
   "source": [
    "### Dot plot for the same comparison\n",
    "\n",
    "Another way to give the categories within an item a common baseline is to make a dot plot. This works well as long as there isn't too much value overlap.\n",
    "\n",
    "*Note: Default is grid lines on continuous scale axes and not on nominal or ordinal, but I want lines along each item to help guide the eye. [Top-level configuration docs](https://altair-viz.github.io/user_guide/configuration.html). We also could have specified the circle size in the `encode()` section with `size = alt.value(150)`.*"
   ]
  },
  {
   "cell_type": "code",
   "execution_count": 14,
   "metadata": {},
   "outputs": [
    {
     "data": {
      "application/vnd.vegalite.v3+json": {
       "$schema": "https://vega.github.io/schema/vega-lite/v3.4.0.json",
       "config": {
        "axisX": {
         "grid": false
        },
        "axisY": {
         "grid": true
        },
        "mark": {
         "tooltip": null
        },
        "view": {
         "height": 300,
         "width": 400
        }
       },
       "data": {
        "format": {
         "type": "json"
        },
        "url": "altair-data-734e125f330dd2d43ae418168a63d485.json"
       },
       "encoding": {
        "color": {
         "field": "Category",
         "type": "nominal"
        },
        "x": {
         "field": "value",
         "type": "quantitative"
        },
        "y": {
         "field": "Item",
         "type": "ordinal"
        }
       },
       "mark": {
        "size": 150,
        "type": "circle"
       }
      },
      "image/png": "[encoded data removed]",
      "text/plain": [
       "<VegaLite 3 object>\n",
       "\n",
       "If you see this message, it means the renderer has not been properly enabled\n",
       "for the frontend that you are using. For more information, see\n",
       "https://altair-viz.github.io/user_guide/troubleshooting.html\n"
      ]
     },
     "execution_count": 14,
     "metadata": {},
     "output_type": "execute_result"
    }
   ],
   "source": [
    "alt.Chart(df).mark_circle(size=150).encode(\n",
    "    x = 'value:Q',\n",
    "    y = 'Item:O',\n",
    "    color = 'Category:N'\n",
    ").configure_axisY(grid=True).configure_axisX(grid=False)"
   ]
  },
  {
   "cell_type": "markdown",
   "metadata": {},
   "source": [
    "### Back to the stacked bar\n",
    "\n",
    "What if we wanted to compare the lengths within a category? We're bad at comparing bar sizes that don't have common baselines.\n",
    "\n",
    "*Note that the bar color stacking puts the first legend item furthest right, so here we've added an \"order\" (and a tooltip for fun).*"
   ]
  },
  {
   "cell_type": "code",
   "execution_count": 15,
   "metadata": {},
   "outputs": [
    {
     "data": {
      "application/vnd.vegalite.v3+json": {
       "$schema": "https://vega.github.io/schema/vega-lite/v3.4.0.json",
       "config": {
        "mark": {
         "tooltip": null
        },
        "view": {
         "height": 300,
         "width": 400
        }
       },
       "data": {
        "format": {
         "type": "json"
        },
        "url": "altair-data-734e125f330dd2d43ae418168a63d485.json"
       },
       "encoding": {
        "color": {
         "field": "Category",
         "type": "nominal"
        },
        "order": {
         "field": "Category",
         "sort": "ascending",
         "type": "ordinal"
        },
        "tooltip": [
         {
          "field": "Item",
          "type": "nominal"
         },
         {
          "field": "Category",
          "type": "nominal"
         },
         {
          "aggregate": "sum",
          "field": "value",
          "type": "quantitative"
         }
        ],
        "x": {
         "aggregate": "sum",
         "field": "value",
         "type": "quantitative"
        },
        "y": {
         "field": "Item",
         "type": "ordinal"
        }
       },
       "mark": "bar"
      },
      "image/png": "[encoded data removed]",
      "text/plain": [
       "<VegaLite 3 object>\n",
       "\n",
       "If you see this message, it means the renderer has not been properly enabled\n",
       "for the frontend that you are using. For more information, see\n",
       "https://altair-viz.github.io/user_guide/troubleshooting.html\n"
      ]
     },
     "execution_count": 15,
     "metadata": {},
     "output_type": "execute_result"
    }
   ],
   "source": [
    "alt.Chart(df).mark_bar().encode(\n",
    "    x = 'sum(value):Q',\n",
    "    y = 'Item:O',\n",
    "    color = 'Category:N',\n",
    "    order = alt.Order('Category:O', sort='ascending'),\n",
    "    tooltip=['Item','Category','sum(value)']\n",
    ")"
   ]
  },
  {
   "cell_type": "markdown",
   "metadata": {},
   "source": [
    "### Comparing within category bars\n",
    "\n",
    "The common baseline again gives us easy comparisons within a category"
   ]
  },
  {
   "cell_type": "code",
   "execution_count": 16,
   "metadata": {},
   "outputs": [
    {
     "data": {
      "application/vnd.vegalite.v3+json": {
       "$schema": "https://vega.github.io/schema/vega-lite/v3.4.0.json",
       "config": {
        "mark": {
         "tooltip": null
        },
        "view": {
         "height": 300,
         "width": 400
        }
       },
       "data": {
        "format": {
         "type": "json"
        },
        "url": "altair-data-734e125f330dd2d43ae418168a63d485.json"
       },
       "facet": {
        "column": {
         "field": "Category",
         "type": "ordinal"
        }
       },
       "spec": {
        "encoding": {
         "color": {
          "field": "Category",
          "type": "nominal"
         },
         "x": {
          "aggregate": "sum",
          "field": "value",
          "type": "quantitative"
         },
         "y": {
          "field": "Item",
          "type": "ordinal"
         }
        },
        "height": 120,
        "mark": "bar",
        "width": 100
       }
      },
      "image/png": "[encoded data removed]",
      "text/plain": [
       "<VegaLite 3 object>\n",
       "\n",
       "If you see this message, it means the renderer has not been properly enabled\n",
       "for the frontend that you are using. For more information, see\n",
       "https://altair-viz.github.io/user_guide/troubleshooting.html\n"
      ]
     },
     "execution_count": 16,
     "metadata": {},
     "output_type": "execute_result"
    }
   ],
   "source": [
    "alt.Chart(df).mark_bar().encode(\n",
    "    x = 'sum(value):Q',\n",
    "    y = 'Item:O',\n",
    "    color = 'Category:N'\n",
    ").properties(\n",
    "    width = 100,\n",
    "    height = 120\n",
    ").facet(\n",
    "    column='Category:O'\n",
    ")"
   ]
  },
  {
   "cell_type": "markdown",
   "metadata": {},
   "source": [
    "#### Equivalent faceting by putting row or column in encode()"
   ]
  },
  {
   "cell_type": "code",
   "execution_count": 17,
   "metadata": {},
   "outputs": [
    {
     "data": {
      "application/vnd.vegalite.v3+json": {
       "$schema": "https://vega.github.io/schema/vega-lite/v3.4.0.json",
       "config": {
        "mark": {
         "tooltip": null
        },
        "view": {
         "height": 300,
         "width": 400
        }
       },
       "data": {
        "format": {
         "type": "json"
        },
        "url": "altair-data-734e125f330dd2d43ae418168a63d485.json"
       },
       "encoding": {
        "color": {
         "field": "Category",
         "type": "nominal"
        },
        "column": {
         "field": "Category",
         "type": "ordinal"
        },
        "x": {
         "aggregate": "sum",
         "field": "value",
         "type": "quantitative"
        },
        "y": {
         "field": "Item",
         "type": "ordinal"
        }
       },
       "height": 120,
       "mark": "bar",
       "width": 100
      },
      "image/png": "[encoded data removed]",
      "text/plain": [
       "<VegaLite 3 object>\n",
       "\n",
       "If you see this message, it means the renderer has not been properly enabled\n",
       "for the frontend that you are using. For more information, see\n",
       "https://altair-viz.github.io/user_guide/troubleshooting.html\n"
      ]
     },
     "execution_count": 17,
     "metadata": {},
     "output_type": "execute_result"
    }
   ],
   "source": [
    "alt.Chart(df).mark_bar().encode(\n",
    "    x = 'sum(value):Q',\n",
    "    y = 'Item:O',\n",
    "    color = 'Category:N',\n",
    "    column = 'Category:O'\n",
    ").properties(\n",
    "    width = 100,\n",
    "    height = 120\n",
    ")"
   ]
  },
  {
   "cell_type": "markdown",
   "metadata": {},
   "source": [
    "## Saving to files\n",
    "\n",
    "It's easy to save out an HTML file for the visualization, or the JSON specification. These will get saved in the same directory as JupyterLab is running."
   ]
  },
  {
   "cell_type": "code",
   "execution_count": 18,
   "metadata": {},
   "outputs": [],
   "source": [
    "bars = alt.Chart(df).mark_bar().encode(\n",
    "    x = 'sum(value):Q',\n",
    "    y = 'Item:O',\n",
    "    color = 'Category:N'\n",
    ")"
   ]
  },
  {
   "cell_type": "code",
   "execution_count": 19,
   "metadata": {},
   "outputs": [],
   "source": [
    "bars.save('stacked_bars.html')\n",
    "bars.save('stacked_bars.json')"
   ]
  }
 ],
 "metadata": {
  "kernelspec": {
   "display_name": "Python 3",
   "language": "python",
   "name": "python3"
  },
  "language_info": {
   "codemirror_mode": {
    "name": "ipython",
    "version": 3
   },
   "file_extension": ".py",
   "mimetype": "text/x-python",
   "name": "python",
   "nbconvert_exporter": "python",
   "pygments_lexer": "ipython3",
   "version": "3.7.3"
  }
 },
 "nbformat": 4,
 "nbformat_minor": 4
}
