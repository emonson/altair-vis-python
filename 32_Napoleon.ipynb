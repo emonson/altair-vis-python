{
 "cells": [
  {
   "cell_type": "markdown",
   "metadata": {},
   "source": [
    "## Reproducing Napoleon's March visualization\n",
    "\n",
    "Following and using data from Hadley Wickham's *Layered Grammar of Graphics*\n",
    "- [publication with data in supplemental material](https://www.tandfonline.com/doi/abs/10.1198/jcgs.2009.07098)\n",
    "- [downloadable prepring article](http://vita.had.co.nz/papers/layered-grammar.html)"
   ]
  },
  {
   "cell_type": "code",
   "execution_count": 1,
   "metadata": {},
   "outputs": [],
   "source": [
    "import pandas as pd\n",
    "import altair as alt"
   ]
  },
  {
   "cell_type": "code",
   "execution_count": 2,
   "metadata": {},
   "outputs": [
    {
     "data": {
      "text/html": [
       "<div>\n",
       "<style scoped>\n",
       "    .dataframe tbody tr th:only-of-type {\n",
       "        vertical-align: middle;\n",
       "    }\n",
       "\n",
       "    .dataframe tbody tr th {\n",
       "        vertical-align: top;\n",
       "    }\n",
       "\n",
       "    .dataframe thead th {\n",
       "        text-align: right;\n",
       "    }\n",
       "</style>\n",
       "<table border=\"1\" class=\"dataframe\">\n",
       "  <thead>\n",
       "    <tr style=\"text-align: right;\">\n",
       "      <th></th>\n",
       "      <th>long</th>\n",
       "      <th>lat</th>\n",
       "      <th>survivors</th>\n",
       "      <th>direction</th>\n",
       "      <th>group</th>\n",
       "    </tr>\n",
       "  </thead>\n",
       "  <tbody>\n",
       "    <tr>\n",
       "      <td>0</td>\n",
       "      <td>24.0</td>\n",
       "      <td>54.9</td>\n",
       "      <td>340000</td>\n",
       "      <td>A</td>\n",
       "      <td>1</td>\n",
       "    </tr>\n",
       "    <tr>\n",
       "      <td>1</td>\n",
       "      <td>24.5</td>\n",
       "      <td>55.0</td>\n",
       "      <td>340000</td>\n",
       "      <td>A</td>\n",
       "      <td>1</td>\n",
       "    </tr>\n",
       "    <tr>\n",
       "      <td>2</td>\n",
       "      <td>25.5</td>\n",
       "      <td>54.5</td>\n",
       "      <td>340000</td>\n",
       "      <td>A</td>\n",
       "      <td>1</td>\n",
       "    </tr>\n",
       "    <tr>\n",
       "      <td>3</td>\n",
       "      <td>26.0</td>\n",
       "      <td>54.7</td>\n",
       "      <td>320000</td>\n",
       "      <td>A</td>\n",
       "      <td>1</td>\n",
       "    </tr>\n",
       "    <tr>\n",
       "      <td>4</td>\n",
       "      <td>27.0</td>\n",
       "      <td>54.8</td>\n",
       "      <td>300000</td>\n",
       "      <td>A</td>\n",
       "      <td>1</td>\n",
       "    </tr>\n",
       "  </tbody>\n",
       "</table>\n",
       "</div>"
      ],
      "text/plain": [
       "   long   lat  survivors direction  group\n",
       "0  24.0  54.9     340000         A      1\n",
       "1  24.5  55.0     340000         A      1\n",
       "2  25.5  54.5     340000         A      1\n",
       "3  26.0  54.7     320000         A      1\n",
       "4  27.0  54.8     300000         A      1"
      ]
     },
     "execution_count": 2,
     "metadata": {},
     "output_type": "execute_result"
    }
   ],
   "source": [
    "troops = pd.read_csv('data/LayeredGrammarOfGraphics/minard-troops.txt', delim_whitespace=True)\n",
    "troops.head()"
   ]
  },
  {
   "cell_type": "code",
   "execution_count": 3,
   "metadata": {},
   "outputs": [
    {
     "data": {
      "text/html": [
       "<div>\n",
       "<style scoped>\n",
       "    .dataframe tbody tr th:only-of-type {\n",
       "        vertical-align: middle;\n",
       "    }\n",
       "\n",
       "    .dataframe tbody tr th {\n",
       "        vertical-align: top;\n",
       "    }\n",
       "\n",
       "    .dataframe thead th {\n",
       "        text-align: right;\n",
       "    }\n",
       "</style>\n",
       "<table border=\"1\" class=\"dataframe\">\n",
       "  <thead>\n",
       "    <tr style=\"text-align: right;\">\n",
       "      <th></th>\n",
       "      <th>long</th>\n",
       "      <th>lat</th>\n",
       "      <th>city</th>\n",
       "    </tr>\n",
       "  </thead>\n",
       "  <tbody>\n",
       "    <tr>\n",
       "      <td>0</td>\n",
       "      <td>24.0</td>\n",
       "      <td>55.0</td>\n",
       "      <td>Kowno</td>\n",
       "    </tr>\n",
       "    <tr>\n",
       "      <td>1</td>\n",
       "      <td>25.3</td>\n",
       "      <td>54.7</td>\n",
       "      <td>Wilna</td>\n",
       "    </tr>\n",
       "    <tr>\n",
       "      <td>2</td>\n",
       "      <td>26.4</td>\n",
       "      <td>54.4</td>\n",
       "      <td>Smorgoni</td>\n",
       "    </tr>\n",
       "    <tr>\n",
       "      <td>3</td>\n",
       "      <td>26.8</td>\n",
       "      <td>54.3</td>\n",
       "      <td>Moiodexno</td>\n",
       "    </tr>\n",
       "    <tr>\n",
       "      <td>4</td>\n",
       "      <td>27.7</td>\n",
       "      <td>55.2</td>\n",
       "      <td>Gloubokoe</td>\n",
       "    </tr>\n",
       "  </tbody>\n",
       "</table>\n",
       "</div>"
      ],
      "text/plain": [
       "   long   lat       city\n",
       "0  24.0  55.0      Kowno\n",
       "1  25.3  54.7      Wilna\n",
       "2  26.4  54.4   Smorgoni\n",
       "3  26.8  54.3  Moiodexno\n",
       "4  27.7  55.2  Gloubokoe"
      ]
     },
     "execution_count": 3,
     "metadata": {},
     "output_type": "execute_result"
    }
   ],
   "source": [
    "cities = pd.read_csv('data/LayeredGrammarOfGraphics/minard-cities.txt', delim_whitespace=True)\n",
    "cities.head()"
   ]
  },
  {
   "cell_type": "code",
   "execution_count": 4,
   "metadata": {},
   "outputs": [
    {
     "data": {
      "application/vnd.vegalite.v3+json": {
       "$schema": "https://vega.github.io/schema/vega-lite/v3.4.0.json",
       "config": {
        "mark": {
         "tooltip": null
        },
        "view": {
         "height": 300,
         "width": 400
        }
       },
       "datasets": {
        "data-56af38f370621560624276220716fba8": [
         {
          "direction": "A",
          "group": 1,
          "lat": 54.9,
          "long": 24,
          "survivors": 340000
         },
         {
          "direction": "A",
          "group": 1,
          "lat": 55,
          "long": 24.5,
          "survivors": 340000
         },
         {
          "direction": "A",
          "group": 1,
          "lat": 54.5,
          "long": 25.5,
          "survivors": 340000
         },
         {
          "direction": "A",
          "group": 1,
          "lat": 54.7,
          "long": 26,
          "survivors": 320000
         },
         {
          "direction": "A",
          "group": 1,
          "lat": 54.8,
          "long": 27,
          "survivors": 300000
         },
         {
          "direction": "A",
          "group": 1,
          "lat": 54.9,
          "long": 28,
          "survivors": 280000
         },
         {
          "direction": "A",
          "group": 1,
          "lat": 55,
          "long": 28.5,
          "survivors": 240000
         },
         {
          "direction": "A",
          "group": 1,
          "lat": 55.1,
          "long": 29,
          "survivors": 210000
         },
         {
          "direction": "A",
          "group": 1,
          "lat": 55.2,
          "long": 30,
          "survivors": 180000
         },
         {
          "direction": "A",
          "group": 1,
          "lat": 55.3,
          "long": 30.3,
          "survivors": 175000
         },
         {
          "direction": "A",
          "group": 1,
          "lat": 54.8,
          "long": 32,
          "survivors": 145000
         },
         {
          "direction": "A",
          "group": 1,
          "lat": 54.9,
          "long": 33.2,
          "survivors": 140000
         },
         {
          "direction": "A",
          "group": 1,
          "lat": 55.5,
          "long": 34.4,
          "survivors": 127100
         },
         {
          "direction": "A",
          "group": 1,
          "lat": 55.4,
          "long": 35.5,
          "survivors": 100000
         },
         {
          "direction": "A",
          "group": 1,
          "lat": 55.5,
          "long": 36,
          "survivors": 100000
         },
         {
          "direction": "A",
          "group": 1,
          "lat": 55.8,
          "long": 37.6,
          "survivors": 100000
         },
         {
          "direction": "R",
          "group": 1,
          "lat": 55.7,
          "long": 37.7,
          "survivors": 100000
         },
         {
          "direction": "R",
          "group": 1,
          "lat": 55.7,
          "long": 37.5,
          "survivors": 98000
         },
         {
          "direction": "R",
          "group": 1,
          "lat": 55,
          "long": 37,
          "survivors": 97000
         },
         {
          "direction": "R",
          "group": 1,
          "lat": 55,
          "long": 36.8,
          "survivors": 96000
         },
         {
          "direction": "R",
          "group": 1,
          "lat": 55.3,
          "long": 35.4,
          "survivors": 87000
         },
         {
          "direction": "R",
          "group": 1,
          "lat": 55.2,
          "long": 34.3,
          "survivors": 55000
         },
         {
          "direction": "R",
          "group": 1,
          "lat": 54.8,
          "long": 33.3,
          "survivors": 37000
         },
         {
          "direction": "R",
          "group": 1,
          "lat": 54.6,
          "long": 32,
          "survivors": 24000
         },
         {
          "direction": "R",
          "group": 1,
          "lat": 54.4,
          "long": 30.4,
          "survivors": 20000
         },
         {
          "direction": "R",
          "group": 1,
          "lat": 54.3,
          "long": 29.2,
          "survivors": 20000
         },
         {
          "direction": "R",
          "group": 1,
          "lat": 54.2,
          "long": 28.5,
          "survivors": 20000
         },
         {
          "direction": "R",
          "group": 1,
          "lat": 54.3,
          "long": 28.3,
          "survivors": 20000
         },
         {
          "direction": "R",
          "group": 1,
          "lat": 54.5,
          "long": 27.5,
          "survivors": 20000
         },
         {
          "direction": "R",
          "group": 1,
          "lat": 54.3,
          "long": 26.8,
          "survivors": 12000
         },
         {
          "direction": "R",
          "group": 1,
          "lat": 54.4,
          "long": 26.4,
          "survivors": 14000
         },
         {
          "direction": "R",
          "group": 1,
          "lat": 54.4,
          "long": 25,
          "survivors": 8000
         },
         {
          "direction": "R",
          "group": 1,
          "lat": 54.4,
          "long": 24.4,
          "survivors": 4000
         },
         {
          "direction": "R",
          "group": 1,
          "lat": 54.4,
          "long": 24.2,
          "survivors": 4000
         },
         {
          "direction": "R",
          "group": 1,
          "lat": 54.4,
          "long": 24.1,
          "survivors": 4000
         },
         {
          "direction": "A",
          "group": 2,
          "lat": 55.1,
          "long": 24,
          "survivors": 60000
         },
         {
          "direction": "A",
          "group": 2,
          "lat": 55.2,
          "long": 24.5,
          "survivors": 60000
         },
         {
          "direction": "A",
          "group": 2,
          "lat": 54.7,
          "long": 25.5,
          "survivors": 60000
         },
         {
          "direction": "A",
          "group": 2,
          "lat": 55.7,
          "long": 26.6,
          "survivors": 40000
         },
         {
          "direction": "A",
          "group": 2,
          "lat": 55.6,
          "long": 27.4,
          "survivors": 33000
         },
         {
          "direction": "A",
          "group": 2,
          "lat": 55.5,
          "long": 28.7,
          "survivors": 33000
         },
         {
          "direction": "R",
          "group": 2,
          "lat": 55.5,
          "long": 28.7,
          "survivors": 33000
         },
         {
          "direction": "R",
          "group": 2,
          "lat": 54.2,
          "long": 29.2,
          "survivors": 30000
         },
         {
          "direction": "R",
          "group": 2,
          "lat": 54.1,
          "long": 28.5,
          "survivors": 30000
         },
         {
          "direction": "R",
          "group": 2,
          "lat": 54.2,
          "long": 28.3,
          "survivors": 28000
         },
         {
          "direction": "A",
          "group": 3,
          "lat": 55.2,
          "long": 24,
          "survivors": 22000
         },
         {
          "direction": "A",
          "group": 3,
          "lat": 55.3,
          "long": 24.5,
          "survivors": 22000
         },
         {
          "direction": "A",
          "group": 3,
          "lat": 55.8,
          "long": 24.6,
          "survivors": 6000
         },
         {
          "direction": "R",
          "group": 3,
          "lat": 55.8,
          "long": 24.6,
          "survivors": 6000
         },
         {
          "direction": "R",
          "group": 3,
          "lat": 54.4,
          "long": 24.2,
          "survivors": 6000
         },
         {
          "direction": "R",
          "group": 3,
          "lat": 54.4,
          "long": 24.1,
          "survivors": 6000
         }
        ],
        "data-b40ad95d03717c8464b78bdbccd6fbb8": [
         {
          "city": "Kowno",
          "lat": 55,
          "long": 24
         },
         {
          "city": "Wilna",
          "lat": 54.7,
          "long": 25.3
         },
         {
          "city": "Smorgoni",
          "lat": 54.4,
          "long": 26.4
         },
         {
          "city": "Moiodexno",
          "lat": 54.3,
          "long": 26.8
         },
         {
          "city": "Gloubokoe",
          "lat": 55.2,
          "long": 27.7
         },
         {
          "city": "Minsk",
          "lat": 53.9,
          "long": 27.6
         },
         {
          "city": "Studienska",
          "lat": 54.3,
          "long": 28.5
         },
         {
          "city": "Polotzk",
          "lat": 55.5,
          "long": 28.7
         },
         {
          "city": "Bobr",
          "lat": 54.4,
          "long": 29.2
         },
         {
          "city": "Witebsk",
          "lat": 55.3,
          "long": 30.2
         },
         {
          "city": "Orscha",
          "lat": 54.5,
          "long": 30.4
         },
         {
          "city": "Mohilow",
          "lat": 53.9,
          "long": 30.4
         },
         {
          "city": "Smolensk",
          "lat": 54.8,
          "long": 32
         },
         {
          "city": "Dorogobouge",
          "lat": 54.9,
          "long": 33.2
         },
         {
          "city": "Wixma",
          "lat": 55.2,
          "long": 34.3
         },
         {
          "city": "Chjat",
          "lat": 55.5,
          "long": 34.4
         },
         {
          "city": "Mojaisk",
          "lat": 55.5,
          "long": 36
         },
         {
          "city": "Moscou",
          "lat": 55.8,
          "long": 37.6
         },
         {
          "city": "Tarantino",
          "lat": 55.3,
          "long": 36.6
         },
         {
          "city": "Malo-Jarosewii",
          "lat": 55,
          "long": 36.5
         }
        ]
       },
       "layer": [
        {
         "data": {
          "name": "data-56af38f370621560624276220716fba8"
         },
         "encoding": {
          "color": {
           "field": "direction",
           "scale": {
            "domain": [
             "A",
             "R"
            ],
            "range": [
             "#E3CBAB",
             "#606060"
            ]
           },
           "type": "nominal"
          },
          "detail": {
           "field": "group",
           "type": "nominal"
          },
          "size": {
           "field": "survivors",
           "scale": {
            "domain": [
             50000,
             300000
            ],
            "range": [
             7,
             35
            ]
           },
           "type": "quantitative"
          },
          "x": {
           "field": "long",
           "scale": {
            "domain": [
             23,
             38
            ],
            "zero": false
           },
           "type": "quantitative"
          },
          "y": {
           "field": "lat",
           "scale": {
            "domain": [
             53.8,
             56
            ],
            "zero": false
           },
           "type": "quantitative"
          }
         },
         "height": 200,
         "mark": "trail",
         "width": 600
        },
        {
         "data": {
          "name": "data-b40ad95d03717c8464b78bdbccd6fbb8"
         },
         "encoding": {
          "text": {
           "field": "city",
           "type": "nominal"
          },
          "x": {
           "field": "long",
           "scale": {
            "zero": false
           },
           "type": "quantitative"
          },
          "y": {
           "field": "lat",
           "scale": {
            "zero": false
           },
           "type": "quantitative"
          }
         },
         "height": 200,
         "mark": "text",
         "width": 600
        }
       ]
      },
      "image/png": "[encoded data removed]",
      "text/plain": [
       "<VegaLite 3 object>\n",
       "\n",
       "If you see this message, it means the renderer has not been properly enabled\n",
       "for the frontend that you are using. For more information, see\n",
       "https://altair-viz.github.io/user_guide/troubleshooting.html\n"
      ]
     },
     "execution_count": 4,
     "metadata": {},
     "output_type": "execute_result"
    }
   ],
   "source": [
    "width = 600\n",
    "height = 200\n",
    "\n",
    "labels = alt.Chart(cities).mark_text().encode(\n",
    "    x = alt.X('long:Q', scale=alt.Scale(zero=False)),\n",
    "    y = alt.Y('lat:Q', scale=alt.Scale(zero=False)),\n",
    "    text = 'city:N'\n",
    ").properties(\n",
    "    width = width,\n",
    "    height = height\n",
    ")\n",
    "\n",
    "dir_domain = ['A', 'R']\n",
    "dir_rng = ['#E3CBAB', '#606060']\n",
    "\n",
    "path = alt.Chart(troops).mark_trail().encode(\n",
    "    x = alt.X('long:Q', scale=alt.Scale(domain=[23,38], zero=False)),\n",
    "    y = alt.Y('lat:Q', scale=alt.Scale(domain=[53.8,56], zero=False)),\n",
    "    size = alt.Size('survivors:Q', scale=alt.Scale(domain=[50000,300000], range=[7,35])),\n",
    "    color = alt.Color('direction:N', scale=alt.Scale(domain=dir_domain, range=dir_rng)),\n",
    "    detail = 'group:N'\n",
    ").properties(\n",
    "    width = width,\n",
    "    height = height\n",
    ")\n",
    "\n",
    "path + labels"
   ]
  },
  {
   "cell_type": "code",
   "execution_count": null,
   "metadata": {},
   "outputs": [],
   "source": []
  }
 ],
 "metadata": {
  "kernelspec": {
   "display_name": "Python 3",
   "language": "python",
   "name": "python3"
  },
  "language_info": {
   "codemirror_mode": {
    "name": "ipython",
    "version": 3
   },
   "file_extension": ".py",
   "mimetype": "text/x-python",
   "name": "python",
   "nbconvert_exporter": "python",
   "pygments_lexer": "ipython3",
   "version": "3.7.3"
  }
 },
 "nbformat": 4,
 "nbformat_minor": 4
}
