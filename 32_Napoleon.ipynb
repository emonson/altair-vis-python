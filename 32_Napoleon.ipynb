{
 "cells": [
  {
   "cell_type": "markdown",
   "metadata": {},
   "source": [
    "## Reproducing Napoleon's March visualization\n",
    "\n",
    "Following and using data from Hadley Wickham's *Layered Grammar of Graphics*\n",
    "- [publication with data in supplemental material](https://www.tandfonline.com/doi/abs/10.1198/jcgs.2009.07098)\n",
    "- [downloadable prepring article](http://vita.had.co.nz/papers/layered-grammar.html)"
   ]
  },
  {
   "cell_type": "code",
   "execution_count": 1,
   "metadata": {},
   "outputs": [],
   "source": [
    "import pandas as pd\n",
    "import altair as alt"
   ]
  },
  {
   "cell_type": "code",
   "execution_count": 2,
   "metadata": {},
   "outputs": [
    {
     "data": {
      "text/html": [
       "<div>\n",
       "<style scoped>\n",
       "    .dataframe tbody tr th:only-of-type {\n",
       "        vertical-align: middle;\n",
       "    }\n",
       "\n",
       "    .dataframe tbody tr th {\n",
       "        vertical-align: top;\n",
       "    }\n",
       "\n",
       "    .dataframe thead th {\n",
       "        text-align: right;\n",
       "    }\n",
       "</style>\n",
       "<table border=\"1\" class=\"dataframe\">\n",
       "  <thead>\n",
       "    <tr style=\"text-align: right;\">\n",
       "      <th></th>\n",
       "      <th>long</th>\n",
       "      <th>lat</th>\n",
       "      <th>survivors</th>\n",
       "      <th>direction</th>\n",
       "      <th>group</th>\n",
       "    </tr>\n",
       "  </thead>\n",
       "  <tbody>\n",
       "    <tr>\n",
       "      <th>0</th>\n",
       "      <td>24.0</td>\n",
       "      <td>54.9</td>\n",
       "      <td>340000</td>\n",
       "      <td>A</td>\n",
       "      <td>1</td>\n",
       "    </tr>\n",
       "    <tr>\n",
       "      <th>1</th>\n",
       "      <td>24.5</td>\n",
       "      <td>55.0</td>\n",
       "      <td>340000</td>\n",
       "      <td>A</td>\n",
       "      <td>1</td>\n",
       "    </tr>\n",
       "    <tr>\n",
       "      <th>2</th>\n",
       "      <td>25.5</td>\n",
       "      <td>54.5</td>\n",
       "      <td>340000</td>\n",
       "      <td>A</td>\n",
       "      <td>1</td>\n",
       "    </tr>\n",
       "    <tr>\n",
       "      <th>3</th>\n",
       "      <td>26.0</td>\n",
       "      <td>54.7</td>\n",
       "      <td>320000</td>\n",
       "      <td>A</td>\n",
       "      <td>1</td>\n",
       "    </tr>\n",
       "    <tr>\n",
       "      <th>4</th>\n",
       "      <td>27.0</td>\n",
       "      <td>54.8</td>\n",
       "      <td>300000</td>\n",
       "      <td>A</td>\n",
       "      <td>1</td>\n",
       "    </tr>\n",
       "  </tbody>\n",
       "</table>\n",
       "</div>"
      ],
      "text/plain": [
       "   long   lat  survivors direction  group\n",
       "0  24.0  54.9     340000         A      1\n",
       "1  24.5  55.0     340000         A      1\n",
       "2  25.5  54.5     340000         A      1\n",
       "3  26.0  54.7     320000         A      1\n",
       "4  27.0  54.8     300000         A      1"
      ]
     },
     "execution_count": 2,
     "metadata": {},
     "output_type": "execute_result"
    }
   ],
   "source": [
    "troops = pd.read_csv('data/LayeredGrammarOfGraphics/minard-troops.txt', delim_whitespace=True)\n",
    "troops.head()"
   ]
  },
  {
   "cell_type": "code",
   "execution_count": 3,
   "metadata": {},
   "outputs": [
    {
     "data": {
      "text/html": [
       "<div>\n",
       "<style scoped>\n",
       "    .dataframe tbody tr th:only-of-type {\n",
       "        vertical-align: middle;\n",
       "    }\n",
       "\n",
       "    .dataframe tbody tr th {\n",
       "        vertical-align: top;\n",
       "    }\n",
       "\n",
       "    .dataframe thead th {\n",
       "        text-align: right;\n",
       "    }\n",
       "</style>\n",
       "<table border=\"1\" class=\"dataframe\">\n",
       "  <thead>\n",
       "    <tr style=\"text-align: right;\">\n",
       "      <th></th>\n",
       "      <th>long</th>\n",
       "      <th>lat</th>\n",
       "      <th>city</th>\n",
       "    </tr>\n",
       "  </thead>\n",
       "  <tbody>\n",
       "    <tr>\n",
       "      <th>0</th>\n",
       "      <td>24.0</td>\n",
       "      <td>55.0</td>\n",
       "      <td>Kowno</td>\n",
       "    </tr>\n",
       "    <tr>\n",
       "      <th>1</th>\n",
       "      <td>25.3</td>\n",
       "      <td>54.7</td>\n",
       "      <td>Wilna</td>\n",
       "    </tr>\n",
       "    <tr>\n",
       "      <th>2</th>\n",
       "      <td>26.4</td>\n",
       "      <td>54.4</td>\n",
       "      <td>Smorgoni</td>\n",
       "    </tr>\n",
       "    <tr>\n",
       "      <th>3</th>\n",
       "      <td>26.8</td>\n",
       "      <td>54.3</td>\n",
       "      <td>Moiodexno</td>\n",
       "    </tr>\n",
       "    <tr>\n",
       "      <th>4</th>\n",
       "      <td>27.7</td>\n",
       "      <td>55.2</td>\n",
       "      <td>Gloubokoe</td>\n",
       "    </tr>\n",
       "  </tbody>\n",
       "</table>\n",
       "</div>"
      ],
      "text/plain": [
       "   long   lat       city\n",
       "0  24.0  55.0      Kowno\n",
       "1  25.3  54.7      Wilna\n",
       "2  26.4  54.4   Smorgoni\n",
       "3  26.8  54.3  Moiodexno\n",
       "4  27.7  55.2  Gloubokoe"
      ]
     },
     "execution_count": 3,
     "metadata": {},
     "output_type": "execute_result"
    }
   ],
   "source": [
    "cities = pd.read_csv('data/LayeredGrammarOfGraphics/minard-cities.txt', delim_whitespace=True)\n",
    "cities.head()"
   ]
  },
  {
   "cell_type": "code",
   "execution_count": 17,
   "metadata": {},
   "outputs": [
    {
     "data": {
      "text/html": [
       "\n",
       "<div id=\"altair-viz-7160a36df6aa42c6aba4f72528916a00\"></div>\n",
       "<script type=\"text/javascript\">\n",
       "  (function(spec, embedOpt){\n",
       "    let outputDiv = document.currentScript.previousElementSibling;\n",
       "    if (outputDiv.id !== \"altair-viz-7160a36df6aa42c6aba4f72528916a00\") {\n",
       "      outputDiv = document.getElementById(\"altair-viz-7160a36df6aa42c6aba4f72528916a00\");\n",
       "    }\n",
       "    const paths = {\n",
       "      \"vega\": \"https://cdn.jsdelivr.net/npm//vega@5?noext\",\n",
       "      \"vega-lib\": \"https://cdn.jsdelivr.net/npm//vega-lib?noext\",\n",
       "      \"vega-lite\": \"https://cdn.jsdelivr.net/npm//vega-lite@4.8.1?noext\",\n",
       "      \"vega-embed\": \"https://cdn.jsdelivr.net/npm//vega-embed@6?noext\",\n",
       "    };\n",
       "\n",
       "    function loadScript(lib) {\n",
       "      return new Promise(function(resolve, reject) {\n",
       "        var s = document.createElement('script');\n",
       "        s.src = paths[lib];\n",
       "        s.async = true;\n",
       "        s.onload = () => resolve(paths[lib]);\n",
       "        s.onerror = () => reject(`Error loading script: ${paths[lib]}`);\n",
       "        document.getElementsByTagName(\"head\")[0].appendChild(s);\n",
       "      });\n",
       "    }\n",
       "\n",
       "    function showError(err) {\n",
       "      outputDiv.innerHTML = `<div class=\"error\" style=\"color:red;\">${err}</div>`;\n",
       "      throw err;\n",
       "    }\n",
       "\n",
       "    function displayChart(vegaEmbed) {\n",
       "      vegaEmbed(outputDiv, spec, embedOpt)\n",
       "        .catch(err => showError(`Javascript Error: ${err.message}<br>This usually means there's a typo in your chart specification. See the javascript console for the full traceback.`));\n",
       "    }\n",
       "\n",
       "    if(typeof define === \"function\" && define.amd) {\n",
       "      requirejs.config({paths});\n",
       "      require([\"vega-embed\"], displayChart, err => showError(`Error loading script: ${err.message}`));\n",
       "    } else if (typeof vegaEmbed === \"function\") {\n",
       "      displayChart(vegaEmbed);\n",
       "    } else {\n",
       "      loadScript(\"vega\")\n",
       "        .then(() => loadScript(\"vega-lite\"))\n",
       "        .then(() => loadScript(\"vega-embed\"))\n",
       "        .catch(showError)\n",
       "        .then(() => displayChart(vegaEmbed));\n",
       "    }\n",
       "  })({\"config\": {\"view\": {\"continuousWidth\": 400, \"continuousHeight\": 300}}, \"layer\": [{\"data\": {\"name\": \"data-56af38f370621560624276220716fba8\"}, \"mark\": \"trail\", \"encoding\": {\"color\": {\"type\": \"nominal\", \"field\": \"direction\", \"scale\": {\"domain\": [\"A\", \"R\"], \"range\": [\"#E3CBAB\", \"#606060\"]}}, \"detail\": {\"type\": \"nominal\", \"field\": \"group\"}, \"size\": {\"type\": \"quantitative\", \"field\": \"survivors\", \"scale\": {\"domain\": [50000, 300000], \"range\": [7, 35]}}, \"x\": {\"type\": \"quantitative\", \"field\": \"long\", \"scale\": {\"domain\": [23, 38], \"zero\": false}}, \"y\": {\"type\": \"quantitative\", \"field\": \"lat\", \"scale\": {\"domain\": [53.8, 56], \"zero\": false}}}, \"height\": 200, \"width\": 600}, {\"data\": {\"name\": \"data-b40ad95d03717c8464b78bdbccd6fbb8\"}, \"mark\": \"text\", \"encoding\": {\"text\": {\"type\": \"nominal\", \"field\": \"city\"}, \"x\": {\"type\": \"quantitative\", \"field\": \"long\", \"scale\": {\"zero\": false}}, \"y\": {\"type\": \"quantitative\", \"field\": \"lat\", \"scale\": {\"zero\": false}}}, \"height\": 200, \"width\": 600}], \"$schema\": \"https://vega.github.io/schema/vega-lite/v4.8.1.json\", \"datasets\": {\"data-56af38f370621560624276220716fba8\": [{\"long\": 24.0, \"lat\": 54.9, \"survivors\": 340000, \"direction\": \"A\", \"group\": 1}, {\"long\": 24.5, \"lat\": 55.0, \"survivors\": 340000, \"direction\": \"A\", \"group\": 1}, {\"long\": 25.5, \"lat\": 54.5, \"survivors\": 340000, \"direction\": \"A\", \"group\": 1}, {\"long\": 26.0, \"lat\": 54.7, \"survivors\": 320000, \"direction\": \"A\", \"group\": 1}, {\"long\": 27.0, \"lat\": 54.8, \"survivors\": 300000, \"direction\": \"A\", \"group\": 1}, {\"long\": 28.0, \"lat\": 54.9, \"survivors\": 280000, \"direction\": \"A\", \"group\": 1}, {\"long\": 28.5, \"lat\": 55.0, \"survivors\": 240000, \"direction\": \"A\", \"group\": 1}, {\"long\": 29.0, \"lat\": 55.1, \"survivors\": 210000, \"direction\": \"A\", \"group\": 1}, {\"long\": 30.0, \"lat\": 55.2, \"survivors\": 180000, \"direction\": \"A\", \"group\": 1}, {\"long\": 30.3, \"lat\": 55.3, \"survivors\": 175000, \"direction\": \"A\", \"group\": 1}, {\"long\": 32.0, \"lat\": 54.8, \"survivors\": 145000, \"direction\": \"A\", \"group\": 1}, {\"long\": 33.2, \"lat\": 54.9, \"survivors\": 140000, \"direction\": \"A\", \"group\": 1}, {\"long\": 34.4, \"lat\": 55.5, \"survivors\": 127100, \"direction\": \"A\", \"group\": 1}, {\"long\": 35.5, \"lat\": 55.4, \"survivors\": 100000, \"direction\": \"A\", \"group\": 1}, {\"long\": 36.0, \"lat\": 55.5, \"survivors\": 100000, \"direction\": \"A\", \"group\": 1}, {\"long\": 37.6, \"lat\": 55.8, \"survivors\": 100000, \"direction\": \"A\", \"group\": 1}, {\"long\": 37.7, \"lat\": 55.7, \"survivors\": 100000, \"direction\": \"R\", \"group\": 1}, {\"long\": 37.5, \"lat\": 55.7, \"survivors\": 98000, \"direction\": \"R\", \"group\": 1}, {\"long\": 37.0, \"lat\": 55.0, \"survivors\": 97000, \"direction\": \"R\", \"group\": 1}, {\"long\": 36.8, \"lat\": 55.0, \"survivors\": 96000, \"direction\": \"R\", \"group\": 1}, {\"long\": 35.4, \"lat\": 55.3, \"survivors\": 87000, \"direction\": \"R\", \"group\": 1}, {\"long\": 34.3, \"lat\": 55.2, \"survivors\": 55000, \"direction\": \"R\", \"group\": 1}, {\"long\": 33.3, \"lat\": 54.8, \"survivors\": 37000, \"direction\": \"R\", \"group\": 1}, {\"long\": 32.0, \"lat\": 54.6, \"survivors\": 24000, \"direction\": \"R\", \"group\": 1}, {\"long\": 30.4, \"lat\": 54.4, \"survivors\": 20000, \"direction\": \"R\", \"group\": 1}, {\"long\": 29.2, \"lat\": 54.3, \"survivors\": 20000, \"direction\": \"R\", \"group\": 1}, {\"long\": 28.5, \"lat\": 54.2, \"survivors\": 20000, \"direction\": \"R\", \"group\": 1}, {\"long\": 28.3, \"lat\": 54.3, \"survivors\": 20000, \"direction\": \"R\", \"group\": 1}, {\"long\": 27.5, \"lat\": 54.5, \"survivors\": 20000, \"direction\": \"R\", \"group\": 1}, {\"long\": 26.8, \"lat\": 54.3, \"survivors\": 12000, \"direction\": \"R\", \"group\": 1}, {\"long\": 26.4, \"lat\": 54.4, \"survivors\": 14000, \"direction\": \"R\", \"group\": 1}, {\"long\": 25.0, \"lat\": 54.4, \"survivors\": 8000, \"direction\": \"R\", \"group\": 1}, {\"long\": 24.4, \"lat\": 54.4, \"survivors\": 4000, \"direction\": \"R\", \"group\": 1}, {\"long\": 24.2, \"lat\": 54.4, \"survivors\": 4000, \"direction\": \"R\", \"group\": 1}, {\"long\": 24.1, \"lat\": 54.4, \"survivors\": 4000, \"direction\": \"R\", \"group\": 1}, {\"long\": 24.0, \"lat\": 55.1, \"survivors\": 60000, \"direction\": \"A\", \"group\": 2}, {\"long\": 24.5, \"lat\": 55.2, \"survivors\": 60000, \"direction\": \"A\", \"group\": 2}, {\"long\": 25.5, \"lat\": 54.7, \"survivors\": 60000, \"direction\": \"A\", \"group\": 2}, {\"long\": 26.6, \"lat\": 55.7, \"survivors\": 40000, \"direction\": \"A\", \"group\": 2}, {\"long\": 27.4, \"lat\": 55.6, \"survivors\": 33000, \"direction\": \"A\", \"group\": 2}, {\"long\": 28.7, \"lat\": 55.5, \"survivors\": 33000, \"direction\": \"A\", \"group\": 2}, {\"long\": 28.7, \"lat\": 55.5, \"survivors\": 33000, \"direction\": \"R\", \"group\": 2}, {\"long\": 29.2, \"lat\": 54.2, \"survivors\": 30000, \"direction\": \"R\", \"group\": 2}, {\"long\": 28.5, \"lat\": 54.1, \"survivors\": 30000, \"direction\": \"R\", \"group\": 2}, {\"long\": 28.3, \"lat\": 54.2, \"survivors\": 28000, \"direction\": \"R\", \"group\": 2}, {\"long\": 24.0, \"lat\": 55.2, \"survivors\": 22000, \"direction\": \"A\", \"group\": 3}, {\"long\": 24.5, \"lat\": 55.3, \"survivors\": 22000, \"direction\": \"A\", \"group\": 3}, {\"long\": 24.6, \"lat\": 55.8, \"survivors\": 6000, \"direction\": \"A\", \"group\": 3}, {\"long\": 24.6, \"lat\": 55.8, \"survivors\": 6000, \"direction\": \"R\", \"group\": 3}, {\"long\": 24.2, \"lat\": 54.4, \"survivors\": 6000, \"direction\": \"R\", \"group\": 3}, {\"long\": 24.1, \"lat\": 54.4, \"survivors\": 6000, \"direction\": \"R\", \"group\": 3}], \"data-b40ad95d03717c8464b78bdbccd6fbb8\": [{\"long\": 24.0, \"lat\": 55.0, \"city\": \"Kowno\"}, {\"long\": 25.3, \"lat\": 54.7, \"city\": \"Wilna\"}, {\"long\": 26.4, \"lat\": 54.4, \"city\": \"Smorgoni\"}, {\"long\": 26.8, \"lat\": 54.3, \"city\": \"Moiodexno\"}, {\"long\": 27.7, \"lat\": 55.2, \"city\": \"Gloubokoe\"}, {\"long\": 27.6, \"lat\": 53.9, \"city\": \"Minsk\"}, {\"long\": 28.5, \"lat\": 54.3, \"city\": \"Studienska\"}, {\"long\": 28.7, \"lat\": 55.5, \"city\": \"Polotzk\"}, {\"long\": 29.2, \"lat\": 54.4, \"city\": \"Bobr\"}, {\"long\": 30.2, \"lat\": 55.3, \"city\": \"Witebsk\"}, {\"long\": 30.4, \"lat\": 54.5, \"city\": \"Orscha\"}, {\"long\": 30.4, \"lat\": 53.9, \"city\": \"Mohilow\"}, {\"long\": 32.0, \"lat\": 54.8, \"city\": \"Smolensk\"}, {\"long\": 33.2, \"lat\": 54.9, \"city\": \"Dorogobouge\"}, {\"long\": 34.3, \"lat\": 55.2, \"city\": \"Wixma\"}, {\"long\": 34.4, \"lat\": 55.5, \"city\": \"Chjat\"}, {\"long\": 36.0, \"lat\": 55.5, \"city\": \"Mojaisk\"}, {\"long\": 37.6, \"lat\": 55.8, \"city\": \"Moscou\"}, {\"long\": 36.6, \"lat\": 55.3, \"city\": \"Tarantino\"}, {\"long\": 36.5, \"lat\": 55.0, \"city\": \"Malo-Jarosewii\"}]}}, {\"mode\": \"vega-lite\"});\n",
       "</script>"
      ],
      "text/plain": [
       "alt.LayerChart(...)"
      ]
     },
     "execution_count": 17,
     "metadata": {},
     "output_type": "execute_result"
    }
   ],
   "source": [
    "width = 600\n",
    "height = 200\n",
    "\n",
    "labels = alt.Chart(cities).mark_text().encode(\n",
    "    x = alt.X('long:Q', scale=alt.Scale(zero=False)),\n",
    "    y = alt.Y('lat:Q', scale=alt.Scale(zero=False)),\n",
    "    text = 'city:N'\n",
    ").properties(\n",
    "    width = width,\n",
    "    height = height\n",
    ")\n",
    "\n",
    "dir_domain = ['A', 'R']\n",
    "dir_rng = ['#E3CBAB', '#606060']\n",
    "\n",
    "path = alt.Chart(troops).mark_trail().encode(\n",
    "    x = alt.X('long:Q', scale=alt.Scale(domain=[23,38], zero=False)),\n",
    "    y = alt.Y('lat:Q', scale=alt.Scale(domain=[53.8,56], zero=False)),\n",
    "    size = alt.Size('survivors:Q', scale=alt.Scale(domain=[50000,300000], range=[7,35])),\n",
    "    color = alt.Color('direction:N', scale=alt.Scale(domain=dir_domain, range=dir_rng)),\n",
    "    detail = 'group:N'\n",
    ").properties(\n",
    "    width = width,\n",
    "    height = height\n",
    ")\n",
    "\n",
    "path + labels"
   ]
  },
  {
   "cell_type": "raw",
   "metadata": {},
   "source": [
    "(path + labels).save('NapoleonMarch.html')"
   ]
  },
  {
   "cell_type": "code",
   "execution_count": null,
   "metadata": {},
   "outputs": [],
   "source": []
  }
 ],
 "metadata": {
  "kernelspec": {
   "display_name": "Python 3",
   "language": "python",
   "name": "python3"
  },
  "language_info": {
   "codemirror_mode": {
    "name": "ipython",
    "version": 3
   },
   "file_extension": ".py",
   "mimetype": "text/x-python",
   "name": "python",
   "nbconvert_exporter": "python",
   "pygments_lexer": "ipython3",
   "version": "3.8.5"
  }
 },
 "nbformat": 4,
 "nbformat_minor": 4
}
