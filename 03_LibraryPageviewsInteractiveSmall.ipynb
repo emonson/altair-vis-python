{
 "cells": [
  {
   "cell_type": "markdown",
   "metadata": {},
   "source": [
    "# Library page views interactive\n",
    "\n",
    "This is another look at the small libraries pageview data, but this time combining multiple visualizations linked by interactive selections!\n",
    "\n",
    "This is just a taste – there are many more examples and ideas in \n",
    "\n",
    "- [Bindings, Selections, Conditions: Making Charts Interactive](https://altair-viz.github.io/user_guide/interactions.html) documentation\n",
    "- [Interactive Charts section](https://altair-viz.github.io/gallery/index.html#interactive-charts) of the example gallery"
   ]
  },
  {
   "cell_type": "code",
   "execution_count": 1,
   "metadata": {},
   "outputs": [
    {
     "data": {
      "text/plain": [
       "DataTransformerRegistry.enable('json')"
      ]
     },
     "execution_count": 1,
     "metadata": {},
     "output_type": "execute_result"
    }
   ],
   "source": [
    "import pandas as pd\n",
    "import altair as alt\n",
    "from altair import datum\n",
    "\n",
    "# avoid MaxRowsError\n",
    "alt.data_transformers.enable('json', urlpath='files')"
   ]
  },
  {
   "cell_type": "markdown",
   "metadata": {},
   "source": [
    "## Read in library web site page views data\n",
    "\n",
    "and change the timestamp column to `datetime` type"
   ]
  },
  {
   "cell_type": "code",
   "execution_count": 2,
   "metadata": {},
   "outputs": [
    {
     "data": {
      "text/html": [
       "<div>\n",
       "<style scoped>\n",
       "    .dataframe tbody tr th:only-of-type {\n",
       "        vertical-align: middle;\n",
       "    }\n",
       "\n",
       "    .dataframe tbody tr th {\n",
       "        vertical-align: top;\n",
       "    }\n",
       "\n",
       "    .dataframe thead th {\n",
       "        text-align: right;\n",
       "    }\n",
       "</style>\n",
       "<table border=\"1\" class=\"dataframe\">\n",
       "  <thead>\n",
       "    <tr style=\"text-align: right;\">\n",
       "      <th></th>\n",
       "      <th>timestamp</th>\n",
       "      <th>visitors</th>\n",
       "      <th>city</th>\n",
       "      <th>region</th>\n",
       "      <th>country</th>\n",
       "      <th>longitude</th>\n",
       "      <th>latitude</th>\n",
       "      <th>lcc_description</th>\n",
       "    </tr>\n",
       "  </thead>\n",
       "  <tbody>\n",
       "    <tr>\n",
       "      <th>0</th>\n",
       "      <td>2012-01-01 16:00:00</td>\n",
       "      <td>1</td>\n",
       "      <td>Montreal</td>\n",
       "      <td>Quebec</td>\n",
       "      <td>Canada</td>\n",
       "      <td>-73.5542</td>\n",
       "      <td>45.5089</td>\n",
       "      <td>Military Science</td>\n",
       "    </tr>\n",
       "    <tr>\n",
       "      <th>1</th>\n",
       "      <td>2012-01-01 13:00:00</td>\n",
       "      <td>1</td>\n",
       "      <td>Durham</td>\n",
       "      <td>North Carolina</td>\n",
       "      <td>United States</td>\n",
       "      <td>-78.8986</td>\n",
       "      <td>35.9940</td>\n",
       "      <td>History Of The Americas</td>\n",
       "    </tr>\n",
       "    <tr>\n",
       "      <th>2</th>\n",
       "      <td>2012-01-01 10:00:00</td>\n",
       "      <td>1</td>\n",
       "      <td>Edinburgh</td>\n",
       "      <td>Scotland</td>\n",
       "      <td>United Kingdom</td>\n",
       "      <td>-3.1875</td>\n",
       "      <td>55.9502</td>\n",
       "      <td>Social Sciences</td>\n",
       "    </tr>\n",
       "    <tr>\n",
       "      <th>3</th>\n",
       "      <td>2012-01-01 18:00:00</td>\n",
       "      <td>1</td>\n",
       "      <td>Plymouth</td>\n",
       "      <td>England</td>\n",
       "      <td>United Kingdom</td>\n",
       "      <td>-4.1427</td>\n",
       "      <td>50.3704</td>\n",
       "      <td>NaN</td>\n",
       "    </tr>\n",
       "    <tr>\n",
       "      <th>4</th>\n",
       "      <td>2012-01-01 09:00:00</td>\n",
       "      <td>1</td>\n",
       "      <td>Edinburgh</td>\n",
       "      <td>Scotland</td>\n",
       "      <td>United Kingdom</td>\n",
       "      <td>-3.1875</td>\n",
       "      <td>55.9502</td>\n",
       "      <td>Social Sciences</td>\n",
       "    </tr>\n",
       "  </tbody>\n",
       "</table>\n",
       "</div>"
      ],
      "text/plain": [
       "            timestamp  visitors       city          region         country  \\\n",
       "0 2012-01-01 16:00:00         1   Montreal          Quebec          Canada   \n",
       "1 2012-01-01 13:00:00         1     Durham  North Carolina   United States   \n",
       "2 2012-01-01 10:00:00         1  Edinburgh        Scotland  United Kingdom   \n",
       "3 2012-01-01 18:00:00         1   Plymouth         England  United Kingdom   \n",
       "4 2012-01-01 09:00:00         1  Edinburgh        Scotland  United Kingdom   \n",
       "\n",
       "   longitude  latitude          lcc_description  \n",
       "0   -73.5542   45.5089         Military Science  \n",
       "1   -78.8986   35.9940  History Of The Americas  \n",
       "2    -3.1875   55.9502          Social Sciences  \n",
       "3    -4.1427   50.3704                      NaN  \n",
       "4    -3.1875   55.9502          Social Sciences  "
      ]
     },
     "execution_count": 2,
     "metadata": {},
     "output_type": "execute_result"
    }
   ],
   "source": [
    "pageviews = pd.read_csv('data/pageviews_2012_small.csv')\n",
    "pageviews['timestamp'] = pd.to_datetime(pageviews['timestamp'])\n",
    "\n",
    "pageviews.head()"
   ]
  },
  {
   "cell_type": "markdown",
   "metadata": {},
   "source": [
    "## Simple interactive version of any plot\n",
    "\n",
    "**Finish any visualization with `.interactive()`**\n",
    "\n",
    "- Simple zooming with scroll wheel\n",
    "- Click and drag to pan\n",
    "- Double-tap to reset zoom range"
   ]
  },
  {
   "cell_type": "code",
   "execution_count": 3,
   "metadata": {},
   "outputs": [
    {
     "data": {
      "text/html": [
       "\n",
       "<div id=\"altair-viz-7d197ff19686405c98177220b049cd53\"></div>\n",
       "<script type=\"text/javascript\">\n",
       "  (function(spec, embedOpt){\n",
       "    let outputDiv = document.currentScript.previousElementSibling;\n",
       "    if (outputDiv.id !== \"altair-viz-7d197ff19686405c98177220b049cd53\") {\n",
       "      outputDiv = document.getElementById(\"altair-viz-7d197ff19686405c98177220b049cd53\");\n",
       "    }\n",
       "    const paths = {\n",
       "      \"vega\": \"https://cdn.jsdelivr.net/npm//vega@5?noext\",\n",
       "      \"vega-lib\": \"https://cdn.jsdelivr.net/npm//vega-lib?noext\",\n",
       "      \"vega-lite\": \"https://cdn.jsdelivr.net/npm//vega-lite@4.8.1?noext\",\n",
       "      \"vega-embed\": \"https://cdn.jsdelivr.net/npm//vega-embed@6?noext\",\n",
       "    };\n",
       "\n",
       "    function loadScript(lib) {\n",
       "      return new Promise(function(resolve, reject) {\n",
       "        var s = document.createElement('script');\n",
       "        s.src = paths[lib];\n",
       "        s.async = true;\n",
       "        s.onload = () => resolve(paths[lib]);\n",
       "        s.onerror = () => reject(`Error loading script: ${paths[lib]}`);\n",
       "        document.getElementsByTagName(\"head\")[0].appendChild(s);\n",
       "      });\n",
       "    }\n",
       "\n",
       "    function showError(err) {\n",
       "      outputDiv.innerHTML = `<div class=\"error\" style=\"color:red;\">${err}</div>`;\n",
       "      throw err;\n",
       "    }\n",
       "\n",
       "    function displayChart(vegaEmbed) {\n",
       "      vegaEmbed(outputDiv, spec, embedOpt)\n",
       "        .catch(err => showError(`Javascript Error: ${err.message}<br>This usually means there's a typo in your chart specification. See the javascript console for the full traceback.`));\n",
       "    }\n",
       "\n",
       "    if(typeof define === \"function\" && define.amd) {\n",
       "      requirejs.config({paths});\n",
       "      require([\"vega-embed\"], displayChart, err => showError(`Error loading script: ${err.message}`));\n",
       "    } else if (typeof vegaEmbed === \"function\") {\n",
       "      displayChart(vegaEmbed);\n",
       "    } else {\n",
       "      loadScript(\"vega\")\n",
       "        .then(() => loadScript(\"vega-lite\"))\n",
       "        .then(() => loadScript(\"vega-embed\"))\n",
       "        .catch(showError)\n",
       "        .then(() => displayChart(vegaEmbed));\n",
       "    }\n",
       "  })({\"config\": {\"view\": {\"continuousWidth\": 400, \"continuousHeight\": 300}}, \"data\": {\"url\": \"files/altair-data-de6ed7b840f8523b83a19a0516667781.json\", \"format\": {\"type\": \"json\"}}, \"mark\": \"line\", \"encoding\": {\"x\": {\"type\": \"temporal\", \"field\": \"timestamp\", \"timeUnit\": \"yearmonthdate\"}, \"y\": {\"type\": \"quantitative\", \"aggregate\": \"sum\", \"field\": \"visitors\"}}, \"height\": 150, \"selection\": {\"selector001\": {\"type\": \"interval\", \"bind\": \"scales\", \"encodings\": [\"x\", \"y\"]}}, \"width\": 600, \"$schema\": \"https://vega.github.io/schema/vega-lite/v4.8.1.json\"}, {\"mode\": \"vega-lite\"});\n",
       "</script>"
      ],
      "text/plain": [
       "alt.Chart(...)"
      ]
     },
     "execution_count": 3,
     "metadata": {},
     "output_type": "execute_result"
    }
   ],
   "source": [
    "alt.Chart(pageviews).mark_line().encode(\n",
    "    x = 'yearmonthdate(timestamp):T',\n",
    "    y = 'sum(visitors):Q'\n",
    ").properties(\n",
    "    width=600,\n",
    "    height=150\n",
    ").interactive()"
   ]
  },
  {
   "cell_type": "markdown",
   "metadata": {},
   "source": [
    "## Filtering bar chart with time interval selection\n",
    "\n",
    "**The most exciting part of interactivity comes with defining selections that get shared between multiple plots.** \n",
    "\n",
    "Here we create an \"interval\" selection that only goes in the X direction. \n",
    "\n",
    "- The selection is active in the line plot\n",
    "- It's used as a filter in the bar chart"
   ]
  },
  {
   "cell_type": "code",
   "execution_count": 4,
   "metadata": {},
   "outputs": [
    {
     "data": {
      "text/html": [
       "\n",
       "<div id=\"altair-viz-94fe144fe05944829db3352087ad4c8d\"></div>\n",
       "<script type=\"text/javascript\">\n",
       "  (function(spec, embedOpt){\n",
       "    let outputDiv = document.currentScript.previousElementSibling;\n",
       "    if (outputDiv.id !== \"altair-viz-94fe144fe05944829db3352087ad4c8d\") {\n",
       "      outputDiv = document.getElementById(\"altair-viz-94fe144fe05944829db3352087ad4c8d\");\n",
       "    }\n",
       "    const paths = {\n",
       "      \"vega\": \"https://cdn.jsdelivr.net/npm//vega@5?noext\",\n",
       "      \"vega-lib\": \"https://cdn.jsdelivr.net/npm//vega-lib?noext\",\n",
       "      \"vega-lite\": \"https://cdn.jsdelivr.net/npm//vega-lite@4.8.1?noext\",\n",
       "      \"vega-embed\": \"https://cdn.jsdelivr.net/npm//vega-embed@6?noext\",\n",
       "    };\n",
       "\n",
       "    function loadScript(lib) {\n",
       "      return new Promise(function(resolve, reject) {\n",
       "        var s = document.createElement('script');\n",
       "        s.src = paths[lib];\n",
       "        s.async = true;\n",
       "        s.onload = () => resolve(paths[lib]);\n",
       "        s.onerror = () => reject(`Error loading script: ${paths[lib]}`);\n",
       "        document.getElementsByTagName(\"head\")[0].appendChild(s);\n",
       "      });\n",
       "    }\n",
       "\n",
       "    function showError(err) {\n",
       "      outputDiv.innerHTML = `<div class=\"error\" style=\"color:red;\">${err}</div>`;\n",
       "      throw err;\n",
       "    }\n",
       "\n",
       "    function displayChart(vegaEmbed) {\n",
       "      vegaEmbed(outputDiv, spec, embedOpt)\n",
       "        .catch(err => showError(`Javascript Error: ${err.message}<br>This usually means there's a typo in your chart specification. See the javascript console for the full traceback.`));\n",
       "    }\n",
       "\n",
       "    if(typeof define === \"function\" && define.amd) {\n",
       "      requirejs.config({paths});\n",
       "      require([\"vega-embed\"], displayChart, err => showError(`Error loading script: ${err.message}`));\n",
       "    } else if (typeof vegaEmbed === \"function\") {\n",
       "      displayChart(vegaEmbed);\n",
       "    } else {\n",
       "      loadScript(\"vega\")\n",
       "        .then(() => loadScript(\"vega-lite\"))\n",
       "        .then(() => loadScript(\"vega-embed\"))\n",
       "        .catch(showError)\n",
       "        .then(() => displayChart(vegaEmbed));\n",
       "    }\n",
       "  })({\"config\": {\"view\": {\"continuousWidth\": 400, \"continuousHeight\": 300}}, \"vconcat\": [{\"mark\": \"line\", \"encoding\": {\"color\": {\"value\": \"darkgray\"}, \"x\": {\"type\": \"temporal\", \"field\": \"timestamp\", \"timeUnit\": \"yearmonthdate\"}, \"y\": {\"type\": \"quantitative\", \"aggregate\": \"sum\", \"field\": \"visitors\"}}, \"height\": 100, \"selection\": {\"selector002\": {\"type\": \"interval\", \"encodings\": [\"x\"]}}}, {\"mark\": \"bar\", \"encoding\": {\"x\": {\"type\": \"quantitative\", \"aggregate\": \"sum\", \"field\": \"visitors\"}, \"y\": {\"type\": \"nominal\", \"field\": \"country\"}}, \"transform\": [{\"filter\": {\"selection\": \"selector002\"}}]}], \"data\": {\"url\": \"files/altair-data-de6ed7b840f8523b83a19a0516667781.json\", \"format\": {\"type\": \"json\"}}, \"$schema\": \"https://vega.github.io/schema/vega-lite/v4.8.1.json\"}, {\"mode\": \"vega-lite\"});\n",
       "</script>"
      ],
      "text/plain": [
       "alt.VConcatChart(...)"
      ]
     },
     "execution_count": 4,
     "metadata": {},
     "output_type": "execute_result"
    }
   ],
   "source": [
    "interval = alt.selection(type='interval', encodings=['x'])\n",
    "\n",
    "timeline = alt.Chart(pageviews).mark_line().encode(\n",
    "    x = alt.X('timestamp:T', timeUnit='yearmonthdate'),\n",
    "    y = 'sum(visitors):Q',\n",
    "    color = alt.value(\"darkgray\")\n",
    ").properties(\n",
    "    height = 100\n",
    ").add_selection(\n",
    "    interval\n",
    ")\n",
    "\n",
    "bar = alt.Chart(pageviews).mark_bar().encode(\n",
    "    x = 'sum(visitors):Q',\n",
    "    y = 'country:N'\n",
    ").transform_filter(\n",
    "    interval\n",
    ")\n",
    "\n",
    "timeline & bar"
   ]
  },
  {
   "cell_type": "markdown",
   "metadata": {},
   "source": [
    "## Bars filter timeline with multi-selection\n",
    "\n",
    "With selection `type='single'` you can select a single bar (or point, or whatever you're using) and use it to filter the other plot.\n",
    "\n",
    "With `type='multi'` you can hold down shift and select multiple bars and use the combination to filter the timeline.\n",
    "\n",
    "**Note that we've included conditional color on the bar chart. There is a bug in vega-lite that doesn't allow the same conditional color on the time axis above. There are workarounds, though, like in the [Altair area selection example](https://altair-viz.github.io/gallery/select_mark_area.html)** \n",
    "\n",
    "*Notice how different subject areas have different peak times of year for views!*"
   ]
  },
  {
   "cell_type": "code",
   "execution_count": 5,
   "metadata": {},
   "outputs": [
    {
     "data": {
      "text/html": [
       "\n",
       "<div id=\"altair-viz-57b3cfe4fd9149d1804e99bf216b38a0\"></div>\n",
       "<script type=\"text/javascript\">\n",
       "  (function(spec, embedOpt){\n",
       "    let outputDiv = document.currentScript.previousElementSibling;\n",
       "    if (outputDiv.id !== \"altair-viz-57b3cfe4fd9149d1804e99bf216b38a0\") {\n",
       "      outputDiv = document.getElementById(\"altair-viz-57b3cfe4fd9149d1804e99bf216b38a0\");\n",
       "    }\n",
       "    const paths = {\n",
       "      \"vega\": \"https://cdn.jsdelivr.net/npm//vega@5?noext\",\n",
       "      \"vega-lib\": \"https://cdn.jsdelivr.net/npm//vega-lib?noext\",\n",
       "      \"vega-lite\": \"https://cdn.jsdelivr.net/npm//vega-lite@4.8.1?noext\",\n",
       "      \"vega-embed\": \"https://cdn.jsdelivr.net/npm//vega-embed@6?noext\",\n",
       "    };\n",
       "\n",
       "    function loadScript(lib) {\n",
       "      return new Promise(function(resolve, reject) {\n",
       "        var s = document.createElement('script');\n",
       "        s.src = paths[lib];\n",
       "        s.async = true;\n",
       "        s.onload = () => resolve(paths[lib]);\n",
       "        s.onerror = () => reject(`Error loading script: ${paths[lib]}`);\n",
       "        document.getElementsByTagName(\"head\")[0].appendChild(s);\n",
       "      });\n",
       "    }\n",
       "\n",
       "    function showError(err) {\n",
       "      outputDiv.innerHTML = `<div class=\"error\" style=\"color:red;\">${err}</div>`;\n",
       "      throw err;\n",
       "    }\n",
       "\n",
       "    function displayChart(vegaEmbed) {\n",
       "      vegaEmbed(outputDiv, spec, embedOpt)\n",
       "        .catch(err => showError(`Javascript Error: ${err.message}<br>This usually means there's a typo in your chart specification. See the javascript console for the full traceback.`));\n",
       "    }\n",
       "\n",
       "    if(typeof define === \"function\" && define.amd) {\n",
       "      requirejs.config({paths});\n",
       "      require([\"vega-embed\"], displayChart, err => showError(`Error loading script: ${err.message}`));\n",
       "    } else if (typeof vegaEmbed === \"function\") {\n",
       "      displayChart(vegaEmbed);\n",
       "    } else {\n",
       "      loadScript(\"vega\")\n",
       "        .then(() => loadScript(\"vega-lite\"))\n",
       "        .then(() => loadScript(\"vega-embed\"))\n",
       "        .catch(showError)\n",
       "        .then(() => displayChart(vegaEmbed));\n",
       "    }\n",
       "  })({\"config\": {\"view\": {\"continuousWidth\": 400, \"continuousHeight\": 300}}, \"vconcat\": [{\"mark\": \"bar\", \"encoding\": {\"color\": {\"condition\": {\"value\": \"steelblue\", \"selection\": \"selector003\"}, \"value\": \"lightgray\"}, \"x\": {\"type\": \"quantitative\", \"aggregate\": \"sum\", \"field\": \"visitors\"}, \"y\": {\"type\": \"nominal\", \"field\": \"lcc_description\", \"sort\": {\"field\": \"visitors\", \"op\": \"sum\", \"order\": \"descending\"}}}, \"height\": 300, \"selection\": {\"selector003\": {\"type\": \"multi\", \"empty\": \"all\", \"fields\": [\"lcc_description\"]}}}, {\"mark\": \"line\", \"encoding\": {\"x\": {\"type\": \"temporal\", \"field\": \"timestamp\", \"timeUnit\": \"yearmonthdate\"}, \"y\": {\"type\": \"quantitative\", \"aggregate\": \"sum\", \"field\": \"visitors\"}}, \"height\": 100, \"transform\": [{\"filter\": {\"selection\": \"selector003\"}}]}], \"data\": {\"url\": \"files/altair-data-de6ed7b840f8523b83a19a0516667781.json\", \"format\": {\"type\": \"json\"}}, \"$schema\": \"https://vega.github.io/schema/vega-lite/v4.8.1.json\"}, {\"mode\": \"vega-lite\"});\n",
       "</script>"
      ],
      "text/plain": [
       "alt.VConcatChart(...)"
      ]
     },
     "execution_count": 5,
     "metadata": {},
     "output_type": "execute_result"
    }
   ],
   "source": [
    "bar_select = alt.selection(type='multi', empty='all', fields=['lcc_description'])\n",
    "\n",
    "bar = alt.Chart(pageviews).mark_bar().encode(\n",
    "    x = 'sum(visitors)',\n",
    "    y = alt.Y('lcc_description',\n",
    "            sort=alt.EncodingSortField(\n",
    "                field=\"visitors\",\n",
    "                op=\"sum\",\n",
    "                order=\"descending\")\n",
    "    ),\n",
    "    color=alt.condition(bar_select, alt.value(\"steelblue\"), alt.value(\"lightgray\"))\n",
    ").properties(\n",
    "    height = 300\n",
    ").add_selection(\n",
    "    bar_select\n",
    ")\n",
    "\n",
    "timeline = alt.Chart(pageviews).mark_line().encode(\n",
    "    x = alt.X('timestamp:T', timeUnit='yearmonthdate'),\n",
    "    y = 'sum(visitors):Q'\n",
    ").transform_filter(\n",
    "    bar_select\n",
    ").properties(\n",
    "    height = 100\n",
    ")\n",
    "\n",
    "bar & timeline"
   ]
  },
  {
   "cell_type": "code",
   "execution_count": null,
   "metadata": {},
   "outputs": [],
   "source": []
  }
 ],
 "metadata": {
  "kernelspec": {
   "display_name": "Python 3",
   "language": "python",
   "name": "python3"
  },
  "language_info": {
   "codemirror_mode": {
    "name": "ipython",
    "version": 3
   },
   "file_extension": ".py",
   "mimetype": "text/x-python",
   "name": "python",
   "nbconvert_exporter": "python",
   "pygments_lexer": "ipython3",
   "version": "3.8.5"
  }
 },
 "nbformat": 4,
 "nbformat_minor": 4
}
