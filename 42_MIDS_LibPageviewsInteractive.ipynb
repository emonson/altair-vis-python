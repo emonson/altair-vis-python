{
 "cells": [
  {
   "cell_type": "markdown",
   "metadata": {},
   "source": [
    "# Library page views – interaction for exploration\n",
    "\n",
    "This is another look at the small libraries pageview data, but this time combining multiple visualizations linked by interactive selections!\n",
    "\n",
    "This is just a taste – there are many more examples and ideas in \n",
    "\n",
    "- [Interactive Charts documentation](https://altair-viz.github.io/user_guide/interactions.html)\n",
    "- [Interactive Charts section](https://altair-viz.github.io/gallery/index.html#interactive-charts) of the example gallery"
   ]
  },
  {
   "cell_type": "markdown",
   "metadata": {},
   "source": [
    "---\n",
    "\n",
    "*To preserve the mystery, select from the notebook menus*\n",
    "\n",
    "`Edit -> Clear All Outputs`\n",
    "\n",
    "---"
   ]
  },
  {
   "cell_type": "markdown",
   "metadata": {},
   "source": [
    "## Interactive version of VegaFusion renderer\n",
    "\n",
    "The output won't get saved along with the notebook"
   ]
  },
  {
   "cell_type": "code",
   "execution_count": 1,
   "metadata": {},
   "outputs": [
    {
     "data": {
      "text/plain": [
       "vegafusion.enable_widget()"
      ]
     },
     "execution_count": 1,
     "metadata": {},
     "output_type": "execute_result"
    }
   ],
   "source": [
    "import pandas as pd\n",
    "import altair as alt\n",
    "from altair import datum\n",
    "\n",
    "# avoid MaxRowsError with interactive version\n",
    "import vegafusion as vf\n",
    "vf.enable_widget()"
   ]
  },
  {
   "cell_type": "markdown",
   "metadata": {},
   "source": [
    "## Read in library web site page views data\n",
    "\n",
    "and change the timestamp column to `datetime` type"
   ]
  },
  {
   "cell_type": "code",
   "execution_count": 2,
   "metadata": {},
   "outputs": [
    {
     "data": {
      "text/html": [
       "<div>\n",
       "<style scoped>\n",
       "    .dataframe tbody tr th:only-of-type {\n",
       "        vertical-align: middle;\n",
       "    }\n",
       "\n",
       "    .dataframe tbody tr th {\n",
       "        vertical-align: top;\n",
       "    }\n",
       "\n",
       "    .dataframe thead th {\n",
       "        text-align: right;\n",
       "    }\n",
       "</style>\n",
       "<table border=\"1\" class=\"dataframe\">\n",
       "  <thead>\n",
       "    <tr style=\"text-align: right;\">\n",
       "      <th></th>\n",
       "      <th>timestamp</th>\n",
       "      <th>visitors</th>\n",
       "      <th>city</th>\n",
       "      <th>region</th>\n",
       "      <th>country</th>\n",
       "      <th>longitude</th>\n",
       "      <th>latitude</th>\n",
       "      <th>lcc_description</th>\n",
       "    </tr>\n",
       "  </thead>\n",
       "  <tbody>\n",
       "    <tr>\n",
       "      <th>0</th>\n",
       "      <td>2012-01-01 16:00:00</td>\n",
       "      <td>1</td>\n",
       "      <td>Montreal</td>\n",
       "      <td>Quebec</td>\n",
       "      <td>Canada</td>\n",
       "      <td>-73.5542</td>\n",
       "      <td>45.5089</td>\n",
       "      <td>Military Science</td>\n",
       "    </tr>\n",
       "    <tr>\n",
       "      <th>1</th>\n",
       "      <td>2012-01-01 13:00:00</td>\n",
       "      <td>1</td>\n",
       "      <td>Durham</td>\n",
       "      <td>North Carolina</td>\n",
       "      <td>United States</td>\n",
       "      <td>-78.8986</td>\n",
       "      <td>35.9940</td>\n",
       "      <td>History Of The Americas</td>\n",
       "    </tr>\n",
       "    <tr>\n",
       "      <th>2</th>\n",
       "      <td>2012-01-01 10:00:00</td>\n",
       "      <td>1</td>\n",
       "      <td>Edinburgh</td>\n",
       "      <td>Scotland</td>\n",
       "      <td>United Kingdom</td>\n",
       "      <td>-3.1875</td>\n",
       "      <td>55.9502</td>\n",
       "      <td>Social Sciences</td>\n",
       "    </tr>\n",
       "    <tr>\n",
       "      <th>3</th>\n",
       "      <td>2012-01-01 18:00:00</td>\n",
       "      <td>1</td>\n",
       "      <td>Plymouth</td>\n",
       "      <td>England</td>\n",
       "      <td>United Kingdom</td>\n",
       "      <td>-4.1427</td>\n",
       "      <td>50.3704</td>\n",
       "      <td>NaN</td>\n",
       "    </tr>\n",
       "    <tr>\n",
       "      <th>4</th>\n",
       "      <td>2012-01-01 09:00:00</td>\n",
       "      <td>1</td>\n",
       "      <td>Edinburgh</td>\n",
       "      <td>Scotland</td>\n",
       "      <td>United Kingdom</td>\n",
       "      <td>-3.1875</td>\n",
       "      <td>55.9502</td>\n",
       "      <td>Social Sciences</td>\n",
       "    </tr>\n",
       "  </tbody>\n",
       "</table>\n",
       "</div>"
      ],
      "text/plain": [
       "            timestamp  visitors       city          region         country  \\\n",
       "0 2012-01-01 16:00:00         1   Montreal          Quebec          Canada   \n",
       "1 2012-01-01 13:00:00         1     Durham  North Carolina   United States   \n",
       "2 2012-01-01 10:00:00         1  Edinburgh        Scotland  United Kingdom   \n",
       "3 2012-01-01 18:00:00         1   Plymouth         England  United Kingdom   \n",
       "4 2012-01-01 09:00:00         1  Edinburgh        Scotland  United Kingdom   \n",
       "\n",
       "   longitude  latitude          lcc_description  \n",
       "0   -73.5542   45.5089         Military Science  \n",
       "1   -78.8986   35.9940  History Of The Americas  \n",
       "2    -3.1875   55.9502          Social Sciences  \n",
       "3    -4.1427   50.3704                      NaN  \n",
       "4    -3.1875   55.9502          Social Sciences  "
      ]
     },
     "execution_count": 2,
     "metadata": {},
     "output_type": "execute_result"
    }
   ],
   "source": [
    "pageviews = pd.read_csv('data/pageviews_2012_small.csv',\n",
    "                       parse_dates=['timestamp'])\n",
    "\n",
    "pageviews.head()"
   ]
  },
  {
   "cell_type": "markdown",
   "metadata": {},
   "source": [
    "## Simple interactive version of any plot\n",
    "\n",
    "**Finish any visualization with `.interactive()`**\n",
    "\n",
    "- Simple zooming with scroll wheel\n",
    "- Click and drag to pan\n",
    "- Double-tap to reset zoom range"
   ]
  },
  {
   "cell_type": "code",
   "execution_count": 3,
   "metadata": {},
   "outputs": [
    {
     "data": {
      "application/vnd.jupyter.widget-view+json": {
       "model_id": "584c02925f504cce826b5054436fb19b",
       "version_major": 2,
       "version_minor": 0
      },
      "text/plain": [
       "VegaFusionWidget(spec='{\\n  \"config\": {\\n    \"view\": {\\n      \"continuousWidth\": 300,\\n      \"continuousHeight…"
      ]
     },
     "metadata": {},
     "output_type": "display_data"
    },
    {
     "data": {
      "text/plain": []
     },
     "execution_count": 3,
     "metadata": {},
     "output_type": "execute_result"
    }
   ],
   "source": [
    "alt.Chart(pageviews).mark_line().encode(\n",
    "    x = 'yearmonthdate(timestamp):T',\n",
    "    y = 'sum(visitors):Q'\n",
    ").properties(\n",
    "    width=600,\n",
    "    height=150\n",
    ").interactive()"
   ]
  },
  {
   "cell_type": "markdown",
   "metadata": {},
   "source": [
    "---\n",
    "\n",
    "## Parameters & Interactive Charts\n",
    "\n",
    "Documentation: [Parameters & Interactive Charts in Altair](https://altair-viz.github.io/user_guide/interactions.html)\n",
    "\n",
    "**Look at the documentation to see examples of interactive widgets like sliders linked to parameters!**\n",
    "\n",
    "---"
   ]
  },
  {
   "cell_type": "markdown",
   "metadata": {
    "tags": []
   },
   "source": [
    "## Filtering bar chart with time interval selection\n",
    "\n",
    "**The most exciting part of interactivity comes with defining selections that get shared between multiple plots.** \n",
    "\n",
    "Here we create an \"interval\" selection that only goes in the X direction. \n",
    "\n",
    "- The selection is active in the line plot\n",
    "- It's used as a filter in the bar chart\n",
    "\n",
    "Reference for \"named\" colors: [HTML color names](https://www.w3schools.com/tags/ref_colornames.asp)"
   ]
  },
  {
   "cell_type": "code",
   "execution_count": 4,
   "metadata": {},
   "outputs": [
    {
     "data": {
      "application/vnd.jupyter.widget-view+json": {
       "model_id": "f4a04803adcd45c0a2e33d411ff0e508",
       "version_major": 2,
       "version_minor": 0
      },
      "text/plain": [
       "VegaFusionWidget(spec='{\\n  \"config\": {\\n    \"view\": {\\n      \"continuousWidth\": 300,\\n      \"continuousHeight…"
      ]
     },
     "metadata": {},
     "output_type": "display_data"
    },
    {
     "data": {
      "text/plain": []
     },
     "execution_count": 4,
     "metadata": {},
     "output_type": "execute_result"
    }
   ],
   "source": [
    "interval = alt.selection_interval(encodings=['x'])\n",
    "\n",
    "timeline = alt.Chart(pageviews).mark_line().encode(\n",
    "    x = alt.X('timestamp:T', timeUnit='yearmonthdate'),\n",
    "    y = 'sum(visitors):Q',\n",
    "    color = alt.value(\"darkslategray\")\n",
    ").properties(\n",
    "    height = 100,\n",
    "    width = 500\n",
    ").add_params(\n",
    "    interval\n",
    ")\n",
    "\n",
    "bar = alt.Chart(pageviews).mark_bar().encode(\n",
    "    alt.X('sum(visitors):Q'),\n",
    "    alt.Y('country:N').sort('descending'),\n",
    "    alt.Color('country:N').legend(None)\n",
    ").transform_filter(\n",
    "    interval\n",
    ")\n",
    "\n",
    "# Vertical concatenation\n",
    "timeline & bar"
   ]
  },
  {
   "cell_type": "markdown",
   "metadata": {},
   "source": [
    "### This interval selection not constrained to x-direction\n",
    "\n",
    "Conditional color shows which parts of the heatmap have been selected"
   ]
  },
  {
   "cell_type": "code",
   "execution_count": 5,
   "metadata": {},
   "outputs": [
    {
     "data": {
      "application/vnd.jupyter.widget-view+json": {
       "model_id": "c436af69806947e8856805cbfc1bcce5",
       "version_major": 2,
       "version_minor": 0
      },
      "text/plain": [
       "VegaFusionWidget(spec='{\\n  \"config\": {\\n    \"view\": {\\n      \"continuousWidth\": 300,\\n      \"continuousHeight…"
      ]
     },
     "metadata": {},
     "output_type": "display_data"
    },
    {
     "data": {
      "text/plain": []
     },
     "execution_count": 5,
     "metadata": {},
     "output_type": "execute_result"
    }
   ],
   "source": [
    "interval = alt.selection_interval()\n",
    "\n",
    "heatmap = alt.Chart(pageviews).mark_rect().encode(\n",
    "    x = 'hours(timestamp):O',\n",
    "    y = 'day(timestamp):O',\n",
    "    color=alt.condition(interval, 'sum(visitors)', alt.value('lightgray'))\n",
    ").add_params(\n",
    "    interval\n",
    ")\n",
    "\n",
    "bar = alt.Chart(pageviews).mark_bar().encode(\n",
    "    x = 'sum(visitors):Q',\n",
    "    y = alt.Y('country:N').sort('descending'),\n",
    "    color = 'country:N'\n",
    ").transform_filter(\n",
    "    interval\n",
    ")\n",
    "\n",
    "heatmap & bar"
   ]
  },
  {
   "cell_type": "markdown",
   "metadata": {},
   "source": [
    "## Bars filter timeline with multi-selection\n",
    "\n",
    "Click on a bar to select. You can hold down shift and select multiple bars and use the combination to filter the timeline.\n",
    "\n",
    "**Note that we've included conditional color on the bar chart. There is a bug in vega-lite that doesn't allow the same conditional color on the time axis above. There are workarounds, though, like in the [Altair area selection example](https://altair-viz.github.io/gallery/select_mark_area.html)** \n",
    "\n",
    "*Notice how different subject areas have different peak times of year for views!*"
   ]
  },
  {
   "cell_type": "code",
   "execution_count": 6,
   "metadata": {},
   "outputs": [
    {
     "data": {
      "application/vnd.jupyter.widget-view+json": {
       "model_id": "0db3f54b811c4341a043b07361faedab",
       "version_major": 2,
       "version_minor": 0
      },
      "text/plain": [
       "VegaFusionWidget(spec='{\\n  \"config\": {\\n    \"view\": {\\n      \"continuousWidth\": 300,\\n      \"continuousHeight…"
      ]
     },
     "metadata": {},
     "output_type": "display_data"
    },
    {
     "data": {
      "text/plain": []
     },
     "execution_count": 6,
     "metadata": {},
     "output_type": "execute_result"
    }
   ],
   "source": [
    "bar_select = alt.selection_point(empty=True, fields=['lcc_description'])\n",
    "\n",
    "bar = alt.Chart(pageviews).mark_bar().encode(\n",
    "    x = 'sum(visitors)',\n",
    "    y = alt.Y('lcc_description', sort='-x'),\n",
    "    color=alt.condition(bar_select, alt.value(\"steelblue\"), alt.value(\"lightgray\"))\n",
    ").properties(\n",
    "    height = 300\n",
    ").add_params(\n",
    "    bar_select\n",
    ")\n",
    "\n",
    "timeline = alt.Chart(pageviews).mark_line().encode(\n",
    "    x = alt.X('timestamp:T', timeUnit='yearmonthdate'),\n",
    "    y = 'sum(visitors):Q',\n",
    "    color = alt.value('darkslategray')\n",
    ").transform_filter(\n",
    "    bar_select\n",
    ").properties(\n",
    "    height = 80\n",
    ")\n",
    "\n",
    "bar & timeline"
   ]
  },
  {
   "cell_type": "markdown",
   "metadata": {},
   "source": [
    "### Selected portion of timeline different color\n",
    "\n",
    "Requires layering up two timeline plots, one filtered down to just the selected range – that one is colored!"
   ]
  },
  {
   "cell_type": "code",
   "execution_count": 12,
   "metadata": {},
   "outputs": [
    {
     "data": {
      "application/vnd.jupyter.widget-view+json": {
       "model_id": "17224b7c5f3e4beca899d00e6b130294",
       "version_major": 2,
       "version_minor": 0
      },
      "text/plain": [
       "VegaFusionWidget(spec='{\\n  \"config\": {\\n    \"view\": {\\n      \"continuousWidth\": 300,\\n      \"continuousHeight…"
      ]
     },
     "metadata": {},
     "output_type": "display_data"
    },
    {
     "data": {
      "text/plain": []
     },
     "execution_count": 12,
     "metadata": {},
     "output_type": "execute_result"
    }
   ],
   "source": [
    "interval = alt.selection_interval(encodings=['x'])\n",
    "\n",
    "timeline_base = alt.Chart(pageviews).mark_line(\n",
    "    color = 'gray',\n",
    "    opacity = 0.3\n",
    ").encode(\n",
    "    x = alt.X('timestamp:T', timeUnit='yearmonthdate'),\n",
    "    y = 'sum(visitors):Q',\n",
    ").properties(\n",
    "    height = 80,\n",
    "    width = 400\n",
    ").add_params(\n",
    "    interval\n",
    ")\n",
    "\n",
    "timeline_selected = timeline_base.mark_line(color='goldenrod').transform_filter(interval)\n",
    "\n",
    "bar = alt.Chart(pageviews).mark_bar().encode(\n",
    "    x = 'sum(visitors)',\n",
    "    y = alt.Y('lcc_description', sort='-x'),\n",
    ").properties(\n",
    "    height = 300,\n",
    "    width = 400\n",
    ").transform_filter(\n",
    "    interval\n",
    ")\n",
    "\n",
    "((timeline_base + timeline_selected) & bar).configure_axis(labelLimit=500)"
   ]
  },
  {
   "cell_type": "markdown",
   "metadata": {},
   "source": [
    "### Keep consistent ordering of LCC categories so more easily see variations over selection\n",
    "\n",
    "Maybe there's a way to do this `rank()` calculation in Altair with a `.transform_window()`, but it was easier for me to just pre-calculate it in Pandas."
   ]
  },
  {
   "cell_type": "code",
   "execution_count": 13,
   "metadata": {},
   "outputs": [
    {
     "data": {
      "application/vnd.jupyter.widget-view+json": {
       "model_id": "de4c211fb35b47539ed4e009e2910327",
       "version_major": 2,
       "version_minor": 0
      },
      "text/plain": [
       "VegaFusionWidget(spec='{\\n  \"config\": {\\n    \"view\": {\\n      \"continuousWidth\": 300,\\n      \"continuousHeight…"
      ]
     },
     "metadata": {},
     "output_type": "display_data"
    },
    {
     "data": {
      "text/plain": []
     },
     "execution_count": 13,
     "metadata": {},
     "output_type": "execute_result"
    }
   ],
   "source": [
    "pageviews['lcc_rank'] = (pageviews.groupby('lcc_description')['visitors']\n",
    "                         .transform('sum')\n",
    "                         .rank(ascending=False, method='dense')\n",
    "                        )\n",
    "\n",
    "interval = alt.selection_interval(encodings=['x'])\n",
    "\n",
    "timeline_base = alt.Chart(pageviews).mark_line(\n",
    "    color = 'gray',\n",
    "    opacity = 0.3\n",
    ").encode(\n",
    "    x = alt.X('timestamp:T', timeUnit='yearmonthdate'),\n",
    "    y = 'sum(visitors):Q',\n",
    ").properties(\n",
    "    height = 80,\n",
    "    width = 400\n",
    ").add_params(\n",
    "    interval\n",
    ")\n",
    "\n",
    "timeline_selected = timeline_base.mark_line(color='goldenrod').transform_filter(interval)\n",
    "\n",
    "bar = alt.Chart(pageviews).mark_bar().encode(\n",
    "    x = 'sum(visitors)',\n",
    "    y = alt.Y('lcc_description').sort(alt.SortField('lcc_rank')),\n",
    ").properties(\n",
    "    height = 300,\n",
    "    width = 400\n",
    ").transform_filter(\n",
    "    interval\n",
    ")\n",
    "\n",
    "((timeline_base + timeline_selected) & bar).configure_axis(labelLimit=500)"
   ]
  },
  {
   "cell_type": "code",
   "execution_count": null,
   "metadata": {},
   "outputs": [],
   "source": []
  }
 ],
 "metadata": {
  "kernelspec": {
   "display_name": "Python 3 (ipykernel)",
   "language": "python",
   "name": "python3"
  },
  "language_info": {
   "codemirror_mode": {
    "name": "ipython",
    "version": 3
   },
   "file_extension": ".py",
   "mimetype": "text/x-python",
   "name": "python",
   "nbconvert_exporter": "python",
   "pygments_lexer": "ipython3",
   "version": "3.9.12"
  }
 },
 "nbformat": 4,
 "nbformat_minor": 4
}
