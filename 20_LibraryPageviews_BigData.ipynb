{
 "cells": [
  {
   "cell_type": "markdown",
   "metadata": {},
   "source": [
    "# Larger library pageviews with Pandas alternatives\n",
    "\n",
    "This is the still subsampled from the original, but 20x number of rows, data on library item web page views from 2012 Google Analytics. Here you can see how slow and bogged down Altair gets when doing filtering and aggregation, even when only eventually viewing a small subset of the data rows.\n",
    "\n",
    "Because of this, I played around with alternative filtering, aggregation and data join (lookup) methods within Pandas before feeding the data to Altair."
   ]
  },
  {
   "cell_type": "code",
   "execution_count": 1,
   "metadata": {},
   "outputs": [],
   "source": [
    "import pandas as pd\n",
    "import altair as alt\n",
    "from altair import datum"
   ]
  },
  {
   "cell_type": "markdown",
   "metadata": {},
   "source": [
    "## Read in library web site page views data\n"
   ]
  },
  {
   "cell_type": "code",
   "execution_count": 2,
   "metadata": {},
   "outputs": [
    {
     "data": {
      "text/html": [
       "<div>\n",
       "<style scoped>\n",
       "    .dataframe tbody tr th:only-of-type {\n",
       "        vertical-align: middle;\n",
       "    }\n",
       "\n",
       "    .dataframe tbody tr th {\n",
       "        vertical-align: top;\n",
       "    }\n",
       "\n",
       "    .dataframe thead th {\n",
       "        text-align: right;\n",
       "    }\n",
       "</style>\n",
       "<table border=\"1\" class=\"dataframe\">\n",
       "  <thead>\n",
       "    <tr style=\"text-align: right;\">\n",
       "      <th></th>\n",
       "      <th>timestamp</th>\n",
       "      <th>lcc_first_letter</th>\n",
       "      <th>lcc_category</th>\n",
       "      <th>visitors</th>\n",
       "      <th>city</th>\n",
       "      <th>region</th>\n",
       "      <th>country</th>\n",
       "      <th>longitude</th>\n",
       "      <th>latitude</th>\n",
       "    </tr>\n",
       "  </thead>\n",
       "  <tbody>\n",
       "    <tr>\n",
       "      <th>0</th>\n",
       "      <td>2012-01-01 17:00:00</td>\n",
       "      <td>P</td>\n",
       "      <td>PN</td>\n",
       "      <td>1</td>\n",
       "      <td>Pleasanton</td>\n",
       "      <td>California</td>\n",
       "      <td>United States</td>\n",
       "      <td>-121.8747</td>\n",
       "      <td>37.6624</td>\n",
       "    </tr>\n",
       "    <tr>\n",
       "      <th>1</th>\n",
       "      <td>2012-01-01 17:00:00</td>\n",
       "      <td>P</td>\n",
       "      <td>PN</td>\n",
       "      <td>1</td>\n",
       "      <td>Oklahoma City</td>\n",
       "      <td>Oklahoma</td>\n",
       "      <td>United States</td>\n",
       "      <td>-97.5164</td>\n",
       "      <td>35.4676</td>\n",
       "    </tr>\n",
       "    <tr>\n",
       "      <th>2</th>\n",
       "      <td>2012-01-01 11:00:00</td>\n",
       "      <td>P</td>\n",
       "      <td>PN</td>\n",
       "      <td>1</td>\n",
       "      <td>Durham</td>\n",
       "      <td>North Carolina</td>\n",
       "      <td>United States</td>\n",
       "      <td>-78.8986</td>\n",
       "      <td>35.9940</td>\n",
       "    </tr>\n",
       "    <tr>\n",
       "      <th>3</th>\n",
       "      <td>2012-01-01 11:00:00</td>\n",
       "      <td>E</td>\n",
       "      <td>E</td>\n",
       "      <td>1</td>\n",
       "      <td>Durham</td>\n",
       "      <td>North Carolina</td>\n",
       "      <td>United States</td>\n",
       "      <td>-78.8986</td>\n",
       "      <td>35.9940</td>\n",
       "    </tr>\n",
       "    <tr>\n",
       "      <th>4</th>\n",
       "      <td>2012-01-01 13:00:00</td>\n",
       "      <td>F</td>\n",
       "      <td>F</td>\n",
       "      <td>1</td>\n",
       "      <td>Durham</td>\n",
       "      <td>North Carolina</td>\n",
       "      <td>United States</td>\n",
       "      <td>-78.8986</td>\n",
       "      <td>35.9940</td>\n",
       "    </tr>\n",
       "  </tbody>\n",
       "</table>\n",
       "</div>"
      ],
      "text/plain": [
       "             timestamp lcc_first_letter lcc_category  visitors           city  \\\n",
       "0  2012-01-01 17:00:00                P           PN         1     Pleasanton   \n",
       "1  2012-01-01 17:00:00                P           PN         1  Oklahoma City   \n",
       "2  2012-01-01 11:00:00                P           PN         1         Durham   \n",
       "3  2012-01-01 11:00:00                E            E         1         Durham   \n",
       "4  2012-01-01 13:00:00                F            F         1         Durham   \n",
       "\n",
       "           region        country  longitude  latitude  \n",
       "0      California  United States  -121.8747   37.6624  \n",
       "1        Oklahoma  United States   -97.5164   35.4676  \n",
       "2  North Carolina  United States   -78.8986   35.9940  \n",
       "3  North Carolina  United States   -78.8986   35.9940  \n",
       "4  North Carolina  United States   -78.8986   35.9940  "
      ]
     },
     "execution_count": 2,
     "metadata": {},
     "output_type": "execute_result"
    }
   ],
   "source": [
    "pageviews = pd.read_csv('data/pageviews_2012_ncsubset_wlatlon.csv')\n",
    "pageviews.head()"
   ]
  },
  {
   "cell_type": "markdown",
   "metadata": {},
   "source": [
    "#### You can see this set is close to 200k rows!"
   ]
  },
  {
   "cell_type": "code",
   "execution_count": 3,
   "metadata": {},
   "outputs": [
    {
     "data": {
      "text/plain": [
       "196667"
      ]
     },
     "execution_count": 3,
     "metadata": {},
     "output_type": "execute_result"
    }
   ],
   "source": [
    "len(pageviews)"
   ]
  },
  {
   "cell_type": "code",
   "execution_count": 4,
   "metadata": {},
   "outputs": [
    {
     "data": {
      "text/plain": [
       "timestamp            object\n",
       "lcc_first_letter     object\n",
       "lcc_category         object\n",
       "visitors              int64\n",
       "city                 object\n",
       "region               object\n",
       "country              object\n",
       "longitude           float64\n",
       "latitude            float64\n",
       "dtype: object"
      ]
     },
     "execution_count": 4,
     "metadata": {},
     "output_type": "execute_result"
    }
   ],
   "source": [
    "pageviews.dtypes"
   ]
  },
  {
   "cell_type": "markdown",
   "metadata": {},
   "source": [
    "## Change ISO_time to a true date and time data type"
   ]
  },
  {
   "cell_type": "code",
   "execution_count": 5,
   "metadata": {},
   "outputs": [
    {
     "data": {
      "text/plain": [
       "timestamp           datetime64[ns]\n",
       "lcc_first_letter            object\n",
       "lcc_category                object\n",
       "visitors                     int64\n",
       "city                        object\n",
       "region                      object\n",
       "country                     object\n",
       "longitude                  float64\n",
       "latitude                   float64\n",
       "dtype: object"
      ]
     },
     "execution_count": 5,
     "metadata": {},
     "output_type": "execute_result"
    }
   ],
   "source": [
    "pageviews['timestamp'] = pd.to_datetime(pageviews.timestamp)\n",
    "pageviews.dtypes"
   ]
  },
  {
   "cell_type": "markdown",
   "metadata": {},
   "source": [
    "## MaxRowsError\n",
    "\n",
    "Can take off limit for number of rows, but that's not a great idea because the notebook will have a Vega-Lite JSON specification (text) embedded for every output pane, which also includes the data, so you end up with huge notebooks!\n",
    "\n",
    "Instead, we can specify that the outputs should just refer to a JSON file on your local drive and load in the data from there for each plot.\n",
    "\n",
    "See the Altair tutorial notebook `03-Binning-and-aggregation` for more details."
   ]
  },
  {
   "cell_type": "code",
   "execution_count": 6,
   "metadata": {},
   "outputs": [
    {
     "data": {
      "text/plain": [
       "DataTransformerRegistry.enable('json')"
      ]
     },
     "execution_count": 6,
     "metadata": {},
     "output_type": "execute_result"
    }
   ],
   "source": [
    "alt.data_transformers.enable('json', urlpath='files')"
   ]
  },
  {
   "cell_type": "markdown",
   "metadata": {},
   "source": [
    "## Visitors continuous time line\n",
    "\n",
    "#### A sum of visitors per day shows some weekly and seasonal detail\n",
    "\n",
    "[timeunit valid entries](https://altair-viz.github.io/user_guide/transform.html#timeunit-transform) are listed within a type of data transform called a **TimeUnit Transform**"
   ]
  },
  {
   "cell_type": "code",
   "execution_count": 7,
   "metadata": {},
   "outputs": [
    {
     "data": {
      "text/html": [
       "\n",
       "<div id=\"altair-viz-89532d69668f46a59dbef7675bb3babd\"></div>\n",
       "<script type=\"text/javascript\">\n",
       "  (function(spec, embedOpt){\n",
       "    let outputDiv = document.currentScript.previousElementSibling;\n",
       "    if (outputDiv.id !== \"altair-viz-89532d69668f46a59dbef7675bb3babd\") {\n",
       "      outputDiv = document.getElementById(\"altair-viz-89532d69668f46a59dbef7675bb3babd\");\n",
       "    }\n",
       "    const paths = {\n",
       "      \"vega\": \"https://cdn.jsdelivr.net/npm//vega@5?noext\",\n",
       "      \"vega-lib\": \"https://cdn.jsdelivr.net/npm//vega-lib?noext\",\n",
       "      \"vega-lite\": \"https://cdn.jsdelivr.net/npm//vega-lite@4.8.1?noext\",\n",
       "      \"vega-embed\": \"https://cdn.jsdelivr.net/npm//vega-embed@6?noext\",\n",
       "    };\n",
       "\n",
       "    function loadScript(lib) {\n",
       "      return new Promise(function(resolve, reject) {\n",
       "        var s = document.createElement('script');\n",
       "        s.src = paths[lib];\n",
       "        s.async = true;\n",
       "        s.onload = () => resolve(paths[lib]);\n",
       "        s.onerror = () => reject(`Error loading script: ${paths[lib]}`);\n",
       "        document.getElementsByTagName(\"head\")[0].appendChild(s);\n",
       "      });\n",
       "    }\n",
       "\n",
       "    function showError(err) {\n",
       "      outputDiv.innerHTML = `<div class=\"error\" style=\"color:red;\">${err}</div>`;\n",
       "      throw err;\n",
       "    }\n",
       "\n",
       "    function displayChart(vegaEmbed) {\n",
       "      vegaEmbed(outputDiv, spec, embedOpt)\n",
       "        .catch(err => showError(`Javascript Error: ${err.message}<br>This usually means there's a typo in your chart specification. See the javascript console for the full traceback.`));\n",
       "    }\n",
       "\n",
       "    if(typeof define === \"function\" && define.amd) {\n",
       "      requirejs.config({paths});\n",
       "      require([\"vega-embed\"], displayChart, err => showError(`Error loading script: ${err.message}`));\n",
       "    } else if (typeof vegaEmbed === \"function\") {\n",
       "      displayChart(vegaEmbed);\n",
       "    } else {\n",
       "      loadScript(\"vega\")\n",
       "        .then(() => loadScript(\"vega-lite\"))\n",
       "        .then(() => loadScript(\"vega-embed\"))\n",
       "        .catch(showError)\n",
       "        .then(() => displayChart(vegaEmbed));\n",
       "    }\n",
       "  })({\"config\": {\"view\": {\"continuousWidth\": 400, \"continuousHeight\": 300}}, \"data\": {\"url\": \"files/altair-data-b892b0b01a83cd49fd193923c7786854.json\", \"format\": {\"type\": \"json\"}}, \"mark\": \"line\", \"encoding\": {\"tooltip\": {\"type\": \"temporal\", \"field\": \"timestamp\", \"timeUnit\": \"yearmonthdate\"}, \"x\": {\"type\": \"temporal\", \"field\": \"timestamp\", \"timeUnit\": \"yearmonthdate\"}, \"y\": {\"type\": \"quantitative\", \"aggregate\": \"sum\", \"field\": \"visitors\"}}, \"height\": 150, \"width\": 600, \"$schema\": \"https://vega.github.io/schema/vega-lite/v4.8.1.json\"}, {\"mode\": \"vega-lite\"});\n",
       "</script>"
      ],
      "text/plain": [
       "alt.Chart(...)"
      ]
     },
     "execution_count": 7,
     "metadata": {},
     "output_type": "execute_result"
    }
   ],
   "source": [
    "alt.Chart(pageviews).mark_line().encode(\n",
    "    x = 'yearmonthdate(timestamp):T',\n",
    "    y = 'sum(visitors):Q',\n",
    "    tooltip = 'yearmonthdate(timestamp):T'\n",
    ").properties(\n",
    "    width=600,\n",
    "    height=150\n",
    ")"
   ]
  },
  {
   "cell_type": "markdown",
   "metadata": {},
   "source": [
    "#### You can see view drops during the school holidays clearly in the Durham pageviews"
   ]
  },
  {
   "cell_type": "code",
   "execution_count": 25,
   "metadata": {},
   "outputs": [
    {
     "data": {
      "text/html": [
       "\n",
       "<div id=\"altair-viz-0ed3077c8c1e479eaff10679c91e8fd1\"></div>\n",
       "<script type=\"text/javascript\">\n",
       "  (function(spec, embedOpt){\n",
       "    let outputDiv = document.currentScript.previousElementSibling;\n",
       "    if (outputDiv.id !== \"altair-viz-0ed3077c8c1e479eaff10679c91e8fd1\") {\n",
       "      outputDiv = document.getElementById(\"altair-viz-0ed3077c8c1e479eaff10679c91e8fd1\");\n",
       "    }\n",
       "    const paths = {\n",
       "      \"vega\": \"https://cdn.jsdelivr.net/npm//vega@5?noext\",\n",
       "      \"vega-lib\": \"https://cdn.jsdelivr.net/npm//vega-lib?noext\",\n",
       "      \"vega-lite\": \"https://cdn.jsdelivr.net/npm//vega-lite@4.8.1?noext\",\n",
       "      \"vega-embed\": \"https://cdn.jsdelivr.net/npm//vega-embed@6?noext\",\n",
       "    };\n",
       "\n",
       "    function loadScript(lib) {\n",
       "      return new Promise(function(resolve, reject) {\n",
       "        var s = document.createElement('script');\n",
       "        s.src = paths[lib];\n",
       "        s.async = true;\n",
       "        s.onload = () => resolve(paths[lib]);\n",
       "        s.onerror = () => reject(`Error loading script: ${paths[lib]}`);\n",
       "        document.getElementsByTagName(\"head\")[0].appendChild(s);\n",
       "      });\n",
       "    }\n",
       "\n",
       "    function showError(err) {\n",
       "      outputDiv.innerHTML = `<div class=\"error\" style=\"color:red;\">${err}</div>`;\n",
       "      throw err;\n",
       "    }\n",
       "\n",
       "    function displayChart(vegaEmbed) {\n",
       "      vegaEmbed(outputDiv, spec, embedOpt)\n",
       "        .catch(err => showError(`Javascript Error: ${err.message}<br>This usually means there's a typo in your chart specification. See the javascript console for the full traceback.`));\n",
       "    }\n",
       "\n",
       "    if(typeof define === \"function\" && define.amd) {\n",
       "      requirejs.config({paths});\n",
       "      require([\"vega-embed\"], displayChart, err => showError(`Error loading script: ${err.message}`));\n",
       "    } else if (typeof vegaEmbed === \"function\") {\n",
       "      displayChart(vegaEmbed);\n",
       "    } else {\n",
       "      loadScript(\"vega\")\n",
       "        .then(() => loadScript(\"vega-lite\"))\n",
       "        .then(() => loadScript(\"vega-embed\"))\n",
       "        .catch(showError)\n",
       "        .then(() => displayChart(vegaEmbed));\n",
       "    }\n",
       "  })({\"config\": {\"view\": {\"continuousWidth\": 400, \"continuousHeight\": 300}}, \"data\": {\"url\": \"files/altair-data-b892b0b01a83cd49fd193923c7786854.json\", \"format\": {\"type\": \"json\"}}, \"mark\": \"line\", \"encoding\": {\"tooltip\": {\"type\": \"temporal\", \"field\": \"timestamp\", \"timeUnit\": \"yearmonthdate\"}, \"x\": {\"type\": \"temporal\", \"field\": \"timestamp\", \"timeUnit\": \"yearmonthdate\"}, \"y\": {\"type\": \"quantitative\", \"aggregate\": \"sum\", \"field\": \"visitors\"}}, \"height\": 150, \"transform\": [{\"filter\": \"(datum.city === 'Durham')\"}], \"width\": 600, \"$schema\": \"https://vega.github.io/schema/vega-lite/v4.8.1.json\"}, {\"mode\": \"vega-lite\"});\n",
       "</script>"
      ],
      "text/plain": [
       "alt.Chart(...)"
      ]
     },
     "execution_count": 25,
     "metadata": {},
     "output_type": "execute_result"
    }
   ],
   "source": [
    "alt.Chart(pageviews).mark_line().encode(\n",
    "    x = 'yearmonthdate(timestamp):T',\n",
    "    y = 'sum(visitors):Q',\n",
    "    tooltip = 'yearmonthdate(timestamp):T'\n",
    ").transform_filter(\n",
    "    datum.city == 'Durham'\n",
    ").properties(\n",
    "    width=600,\n",
    "    height=150\n",
    ")"
   ]
  },
  {
   "cell_type": "markdown",
   "metadata": {},
   "source": [
    "#### Doing filtering with Pandas and only feeding Altair relevant columns\n",
    "\n",
    "On my development machine this takes only about 1/3 or 1/4 of the time"
   ]
  },
  {
   "cell_type": "code",
   "execution_count": 26,
   "metadata": {},
   "outputs": [
    {
     "data": {
      "text/html": [
       "\n",
       "<div id=\"altair-viz-ce0c37ae546247eaa849e56a23cef551\"></div>\n",
       "<script type=\"text/javascript\">\n",
       "  (function(spec, embedOpt){\n",
       "    let outputDiv = document.currentScript.previousElementSibling;\n",
       "    if (outputDiv.id !== \"altair-viz-ce0c37ae546247eaa849e56a23cef551\") {\n",
       "      outputDiv = document.getElementById(\"altair-viz-ce0c37ae546247eaa849e56a23cef551\");\n",
       "    }\n",
       "    const paths = {\n",
       "      \"vega\": \"https://cdn.jsdelivr.net/npm//vega@5?noext\",\n",
       "      \"vega-lib\": \"https://cdn.jsdelivr.net/npm//vega-lib?noext\",\n",
       "      \"vega-lite\": \"https://cdn.jsdelivr.net/npm//vega-lite@4.8.1?noext\",\n",
       "      \"vega-embed\": \"https://cdn.jsdelivr.net/npm//vega-embed@6?noext\",\n",
       "    };\n",
       "\n",
       "    function loadScript(lib) {\n",
       "      return new Promise(function(resolve, reject) {\n",
       "        var s = document.createElement('script');\n",
       "        s.src = paths[lib];\n",
       "        s.async = true;\n",
       "        s.onload = () => resolve(paths[lib]);\n",
       "        s.onerror = () => reject(`Error loading script: ${paths[lib]}`);\n",
       "        document.getElementsByTagName(\"head\")[0].appendChild(s);\n",
       "      });\n",
       "    }\n",
       "\n",
       "    function showError(err) {\n",
       "      outputDiv.innerHTML = `<div class=\"error\" style=\"color:red;\">${err}</div>`;\n",
       "      throw err;\n",
       "    }\n",
       "\n",
       "    function displayChart(vegaEmbed) {\n",
       "      vegaEmbed(outputDiv, spec, embedOpt)\n",
       "        .catch(err => showError(`Javascript Error: ${err.message}<br>This usually means there's a typo in your chart specification. See the javascript console for the full traceback.`));\n",
       "    }\n",
       "\n",
       "    if(typeof define === \"function\" && define.amd) {\n",
       "      requirejs.config({paths});\n",
       "      require([\"vega-embed\"], displayChart, err => showError(`Error loading script: ${err.message}`));\n",
       "    } else if (typeof vegaEmbed === \"function\") {\n",
       "      displayChart(vegaEmbed);\n",
       "    } else {\n",
       "      loadScript(\"vega\")\n",
       "        .then(() => loadScript(\"vega-lite\"))\n",
       "        .then(() => loadScript(\"vega-embed\"))\n",
       "        .catch(showError)\n",
       "        .then(() => displayChart(vegaEmbed));\n",
       "    }\n",
       "  })({\"config\": {\"view\": {\"continuousWidth\": 400, \"continuousHeight\": 300}}, \"data\": {\"url\": \"files/altair-data-3ae4a47ef90ea06a944bc9124b32f97c.json\", \"format\": {\"type\": \"json\"}}, \"mark\": \"line\", \"encoding\": {\"tooltip\": {\"type\": \"temporal\", \"field\": \"timestamp\", \"timeUnit\": \"yearmonthdate\"}, \"x\": {\"type\": \"temporal\", \"field\": \"timestamp\", \"timeUnit\": \"yearmonthdate\"}, \"y\": {\"type\": \"quantitative\", \"aggregate\": \"sum\", \"field\": \"visitors\"}}, \"height\": 150, \"width\": 600, \"$schema\": \"https://vega.github.io/schema/vega-lite/v4.8.1.json\"}, {\"mode\": \"vega-lite\"});\n",
       "</script>"
      ],
      "text/plain": [
       "alt.Chart(...)"
      ]
     },
     "execution_count": 26,
     "metadata": {},
     "output_type": "execute_result"
    }
   ],
   "source": [
    "durham_views = pageviews.loc[pageviews.city == \"Durham\"]\n",
    "\n",
    "alt.Chart(durham_views[['timestamp','visitors']]).mark_line().encode(\n",
    "    x = 'yearmonthdate(timestamp):T',\n",
    "    y = 'sum(visitors):Q',\n",
    "    tooltip = 'yearmonthdate(timestamp):T'\n",
    ").properties(\n",
    "    width=600,\n",
    "    height=150\n",
    ")"
   ]
  },
  {
   "cell_type": "markdown",
   "metadata": {},
   "source": [
    "## Visitors by hour of day\n",
    "\n",
    "[timeunit valid entries](https://altair-viz.github.io/user_guide/transform.html#timeunit-transform)"
   ]
  },
  {
   "cell_type": "code",
   "execution_count": 10,
   "metadata": {},
   "outputs": [
    {
     "data": {
      "text/html": [
       "\n",
       "<div id=\"altair-viz-20e4afdb826145a6b271e49d75e9e637\"></div>\n",
       "<script type=\"text/javascript\">\n",
       "  (function(spec, embedOpt){\n",
       "    let outputDiv = document.currentScript.previousElementSibling;\n",
       "    if (outputDiv.id !== \"altair-viz-20e4afdb826145a6b271e49d75e9e637\") {\n",
       "      outputDiv = document.getElementById(\"altair-viz-20e4afdb826145a6b271e49d75e9e637\");\n",
       "    }\n",
       "    const paths = {\n",
       "      \"vega\": \"https://cdn.jsdelivr.net/npm//vega@5?noext\",\n",
       "      \"vega-lib\": \"https://cdn.jsdelivr.net/npm//vega-lib?noext\",\n",
       "      \"vega-lite\": \"https://cdn.jsdelivr.net/npm//vega-lite@4.8.1?noext\",\n",
       "      \"vega-embed\": \"https://cdn.jsdelivr.net/npm//vega-embed@6?noext\",\n",
       "    };\n",
       "\n",
       "    function loadScript(lib) {\n",
       "      return new Promise(function(resolve, reject) {\n",
       "        var s = document.createElement('script');\n",
       "        s.src = paths[lib];\n",
       "        s.async = true;\n",
       "        s.onload = () => resolve(paths[lib]);\n",
       "        s.onerror = () => reject(`Error loading script: ${paths[lib]}`);\n",
       "        document.getElementsByTagName(\"head\")[0].appendChild(s);\n",
       "      });\n",
       "    }\n",
       "\n",
       "    function showError(err) {\n",
       "      outputDiv.innerHTML = `<div class=\"error\" style=\"color:red;\">${err}</div>`;\n",
       "      throw err;\n",
       "    }\n",
       "\n",
       "    function displayChart(vegaEmbed) {\n",
       "      vegaEmbed(outputDiv, spec, embedOpt)\n",
       "        .catch(err => showError(`Javascript Error: ${err.message}<br>This usually means there's a typo in your chart specification. See the javascript console for the full traceback.`));\n",
       "    }\n",
       "\n",
       "    if(typeof define === \"function\" && define.amd) {\n",
       "      requirejs.config({paths});\n",
       "      require([\"vega-embed\"], displayChart, err => showError(`Error loading script: ${err.message}`));\n",
       "    } else if (typeof vegaEmbed === \"function\") {\n",
       "      displayChart(vegaEmbed);\n",
       "    } else {\n",
       "      loadScript(\"vega\")\n",
       "        .then(() => loadScript(\"vega-lite\"))\n",
       "        .then(() => loadScript(\"vega-embed\"))\n",
       "        .catch(showError)\n",
       "        .then(() => displayChart(vegaEmbed));\n",
       "    }\n",
       "  })({\"config\": {\"view\": {\"continuousWidth\": 400, \"continuousHeight\": 300}}, \"data\": {\"url\": \"files/altair-data-b892b0b01a83cd49fd193923c7786854.json\", \"format\": {\"type\": \"json\"}}, \"mark\": \"line\", \"encoding\": {\"x\": {\"type\": \"temporal\", \"field\": \"timestamp\", \"timeUnit\": \"hours\"}, \"y\": {\"type\": \"quantitative\", \"aggregate\": \"sum\", \"field\": \"visitors\"}}, \"$schema\": \"https://vega.github.io/schema/vega-lite/v4.8.1.json\"}, {\"mode\": \"vega-lite\"});\n",
       "</script>"
      ],
      "text/plain": [
       "alt.Chart(...)"
      ]
     },
     "execution_count": 10,
     "metadata": {},
     "output_type": "execute_result"
    }
   ],
   "source": [
    "alt.Chart(pageviews).mark_line().encode(\n",
    "    x= 'hours(timestamp):T',\n",
    "    y = 'sum(visitors):Q'\n",
    ")"
   ]
  },
  {
   "cell_type": "markdown",
   "metadata": {},
   "source": [
    "#### Doing aggregation using Pandas instead"
   ]
  },
  {
   "cell_type": "code",
   "execution_count": 11,
   "metadata": {},
   "outputs": [
    {
     "data": {
      "text/html": [
       "\n",
       "<div id=\"altair-viz-cdb010c5f1484aa397eb8549d6e5f799\"></div>\n",
       "<script type=\"text/javascript\">\n",
       "  (function(spec, embedOpt){\n",
       "    let outputDiv = document.currentScript.previousElementSibling;\n",
       "    if (outputDiv.id !== \"altair-viz-cdb010c5f1484aa397eb8549d6e5f799\") {\n",
       "      outputDiv = document.getElementById(\"altair-viz-cdb010c5f1484aa397eb8549d6e5f799\");\n",
       "    }\n",
       "    const paths = {\n",
       "      \"vega\": \"https://cdn.jsdelivr.net/npm//vega@5?noext\",\n",
       "      \"vega-lib\": \"https://cdn.jsdelivr.net/npm//vega-lib?noext\",\n",
       "      \"vega-lite\": \"https://cdn.jsdelivr.net/npm//vega-lite@4.8.1?noext\",\n",
       "      \"vega-embed\": \"https://cdn.jsdelivr.net/npm//vega-embed@6?noext\",\n",
       "    };\n",
       "\n",
       "    function loadScript(lib) {\n",
       "      return new Promise(function(resolve, reject) {\n",
       "        var s = document.createElement('script');\n",
       "        s.src = paths[lib];\n",
       "        s.async = true;\n",
       "        s.onload = () => resolve(paths[lib]);\n",
       "        s.onerror = () => reject(`Error loading script: ${paths[lib]}`);\n",
       "        document.getElementsByTagName(\"head\")[0].appendChild(s);\n",
       "      });\n",
       "    }\n",
       "\n",
       "    function showError(err) {\n",
       "      outputDiv.innerHTML = `<div class=\"error\" style=\"color:red;\">${err}</div>`;\n",
       "      throw err;\n",
       "    }\n",
       "\n",
       "    function displayChart(vegaEmbed) {\n",
       "      vegaEmbed(outputDiv, spec, embedOpt)\n",
       "        .catch(err => showError(`Javascript Error: ${err.message}<br>This usually means there's a typo in your chart specification. See the javascript console for the full traceback.`));\n",
       "    }\n",
       "\n",
       "    if(typeof define === \"function\" && define.amd) {\n",
       "      requirejs.config({paths});\n",
       "      require([\"vega-embed\"], displayChart, err => showError(`Error loading script: ${err.message}`));\n",
       "    } else if (typeof vegaEmbed === \"function\") {\n",
       "      displayChart(vegaEmbed);\n",
       "    } else {\n",
       "      loadScript(\"vega\")\n",
       "        .then(() => loadScript(\"vega-lite\"))\n",
       "        .then(() => loadScript(\"vega-embed\"))\n",
       "        .catch(showError)\n",
       "        .then(() => displayChart(vegaEmbed));\n",
       "    }\n",
       "  })({\"config\": {\"view\": {\"continuousWidth\": 400, \"continuousHeight\": 300}}, \"data\": {\"url\": \"files/altair-data-4a800e8958ab04914aadb37f0265e3d0.json\", \"format\": {\"type\": \"json\"}}, \"mark\": \"line\", \"encoding\": {\"x\": {\"type\": \"quantitative\", \"field\": \"timestamp\"}, \"y\": {\"type\": \"quantitative\", \"field\": \"visitors\"}}, \"$schema\": \"https://vega.github.io/schema/vega-lite/v4.8.1.json\"}, {\"mode\": \"vega-lite\"});\n",
       "</script>"
      ],
      "text/plain": [
       "alt.Chart(...)"
      ]
     },
     "execution_count": 11,
     "metadata": {},
     "output_type": "execute_result"
    }
   ],
   "source": [
    "per_hour_of_day = pageviews.groupby(pageviews.timestamp.dt.hour).sum().reset_index()\n",
    "\n",
    "alt.Chart(per_hour_of_day).mark_line().encode(\n",
    "    x= 'timestamp:Q',\n",
    "    y = 'visitors:Q'\n",
    ")"
   ]
  },
  {
   "cell_type": "markdown",
   "metadata": {},
   "source": [
    "## Weekday vs hour of day heatmap\n",
    "\n",
    "*Notice here that we change from a Time data type to Ordinal to get discreet marks*"
   ]
  },
  {
   "cell_type": "code",
   "execution_count": 12,
   "metadata": {},
   "outputs": [
    {
     "data": {
      "text/html": [
       "\n",
       "<div id=\"altair-viz-d38c772a9c174a19a4dbed1ffab7fe78\"></div>\n",
       "<script type=\"text/javascript\">\n",
       "  (function(spec, embedOpt){\n",
       "    let outputDiv = document.currentScript.previousElementSibling;\n",
       "    if (outputDiv.id !== \"altair-viz-d38c772a9c174a19a4dbed1ffab7fe78\") {\n",
       "      outputDiv = document.getElementById(\"altair-viz-d38c772a9c174a19a4dbed1ffab7fe78\");\n",
       "    }\n",
       "    const paths = {\n",
       "      \"vega\": \"https://cdn.jsdelivr.net/npm//vega@5?noext\",\n",
       "      \"vega-lib\": \"https://cdn.jsdelivr.net/npm//vega-lib?noext\",\n",
       "      \"vega-lite\": \"https://cdn.jsdelivr.net/npm//vega-lite@4.8.1?noext\",\n",
       "      \"vega-embed\": \"https://cdn.jsdelivr.net/npm//vega-embed@6?noext\",\n",
       "    };\n",
       "\n",
       "    function loadScript(lib) {\n",
       "      return new Promise(function(resolve, reject) {\n",
       "        var s = document.createElement('script');\n",
       "        s.src = paths[lib];\n",
       "        s.async = true;\n",
       "        s.onload = () => resolve(paths[lib]);\n",
       "        s.onerror = () => reject(`Error loading script: ${paths[lib]}`);\n",
       "        document.getElementsByTagName(\"head\")[0].appendChild(s);\n",
       "      });\n",
       "    }\n",
       "\n",
       "    function showError(err) {\n",
       "      outputDiv.innerHTML = `<div class=\"error\" style=\"color:red;\">${err}</div>`;\n",
       "      throw err;\n",
       "    }\n",
       "\n",
       "    function displayChart(vegaEmbed) {\n",
       "      vegaEmbed(outputDiv, spec, embedOpt)\n",
       "        .catch(err => showError(`Javascript Error: ${err.message}<br>This usually means there's a typo in your chart specification. See the javascript console for the full traceback.`));\n",
       "    }\n",
       "\n",
       "    if(typeof define === \"function\" && define.amd) {\n",
       "      requirejs.config({paths});\n",
       "      require([\"vega-embed\"], displayChart, err => showError(`Error loading script: ${err.message}`));\n",
       "    } else if (typeof vegaEmbed === \"function\") {\n",
       "      displayChart(vegaEmbed);\n",
       "    } else {\n",
       "      loadScript(\"vega\")\n",
       "        .then(() => loadScript(\"vega-lite\"))\n",
       "        .then(() => loadScript(\"vega-embed\"))\n",
       "        .catch(showError)\n",
       "        .then(() => displayChart(vegaEmbed));\n",
       "    }\n",
       "  })({\"config\": {\"view\": {\"continuousWidth\": 400, \"continuousHeight\": 300}}, \"data\": {\"url\": \"files/altair-data-b892b0b01a83cd49fd193923c7786854.json\", \"format\": {\"type\": \"json\"}}, \"mark\": \"rect\", \"encoding\": {\"color\": {\"type\": \"quantitative\", \"aggregate\": \"sum\", \"field\": \"visitors\"}, \"x\": {\"type\": \"ordinal\", \"field\": \"timestamp\", \"timeUnit\": \"hours\"}, \"y\": {\"type\": \"ordinal\", \"field\": \"timestamp\", \"timeUnit\": \"day\"}}, \"$schema\": \"https://vega.github.io/schema/vega-lite/v4.8.1.json\"}, {\"mode\": \"vega-lite\"});\n",
       "</script>"
      ],
      "text/plain": [
       "alt.Chart(...)"
      ]
     },
     "execution_count": 12,
     "metadata": {},
     "output_type": "execute_result"
    }
   ],
   "source": [
    "alt.Chart(pageviews).mark_rect().encode(\n",
    "    x= 'hours(timestamp):O',\n",
    "    y= 'day(timestamp):O',\n",
    "    color='sum(visitors)'\n",
    ")"
   ]
  },
  {
   "cell_type": "markdown",
   "metadata": {},
   "source": [
    "## Canada, UK China time shift\n",
    "\n",
    "### with Altair doing the filtering"
   ]
  },
  {
   "cell_type": "code",
   "execution_count": 13,
   "metadata": {},
   "outputs": [
    {
     "data": {
      "text/html": [
       "\n",
       "<div id=\"altair-viz-39f7f24a616446709946d366db7eb185\"></div>\n",
       "<script type=\"text/javascript\">\n",
       "  (function(spec, embedOpt){\n",
       "    let outputDiv = document.currentScript.previousElementSibling;\n",
       "    if (outputDiv.id !== \"altair-viz-39f7f24a616446709946d366db7eb185\") {\n",
       "      outputDiv = document.getElementById(\"altair-viz-39f7f24a616446709946d366db7eb185\");\n",
       "    }\n",
       "    const paths = {\n",
       "      \"vega\": \"https://cdn.jsdelivr.net/npm//vega@5?noext\",\n",
       "      \"vega-lib\": \"https://cdn.jsdelivr.net/npm//vega-lib?noext\",\n",
       "      \"vega-lite\": \"https://cdn.jsdelivr.net/npm//vega-lite@4.8.1?noext\",\n",
       "      \"vega-embed\": \"https://cdn.jsdelivr.net/npm//vega-embed@6?noext\",\n",
       "    };\n",
       "\n",
       "    function loadScript(lib) {\n",
       "      return new Promise(function(resolve, reject) {\n",
       "        var s = document.createElement('script');\n",
       "        s.src = paths[lib];\n",
       "        s.async = true;\n",
       "        s.onload = () => resolve(paths[lib]);\n",
       "        s.onerror = () => reject(`Error loading script: ${paths[lib]}`);\n",
       "        document.getElementsByTagName(\"head\")[0].appendChild(s);\n",
       "      });\n",
       "    }\n",
       "\n",
       "    function showError(err) {\n",
       "      outputDiv.innerHTML = `<div class=\"error\" style=\"color:red;\">${err}</div>`;\n",
       "      throw err;\n",
       "    }\n",
       "\n",
       "    function displayChart(vegaEmbed) {\n",
       "      vegaEmbed(outputDiv, spec, embedOpt)\n",
       "        .catch(err => showError(`Javascript Error: ${err.message}<br>This usually means there's a typo in your chart specification. See the javascript console for the full traceback.`));\n",
       "    }\n",
       "\n",
       "    if(typeof define === \"function\" && define.amd) {\n",
       "      requirejs.config({paths});\n",
       "      require([\"vega-embed\"], displayChart, err => showError(`Error loading script: ${err.message}`));\n",
       "    } else if (typeof vegaEmbed === \"function\") {\n",
       "      displayChart(vegaEmbed);\n",
       "    } else {\n",
       "      loadScript(\"vega\")\n",
       "        .then(() => loadScript(\"vega-lite\"))\n",
       "        .then(() => loadScript(\"vega-embed\"))\n",
       "        .catch(showError)\n",
       "        .then(() => displayChart(vegaEmbed));\n",
       "    }\n",
       "  })({\"config\": {\"view\": {\"continuousWidth\": 400, \"continuousHeight\": 300}}, \"data\": {\"url\": \"files/altair-data-b892b0b01a83cd49fd193923c7786854.json\", \"format\": {\"type\": \"json\"}}, \"mark\": \"line\", \"encoding\": {\"color\": {\"type\": \"nominal\", \"field\": \"country\"}, \"x\": {\"type\": \"temporal\", \"field\": \"timestamp\", \"timeUnit\": \"hours\"}, \"y\": {\"type\": \"quantitative\", \"aggregate\": \"sum\", \"field\": \"visitors\"}}, \"transform\": [{\"filter\": \"(((datum.country === 'Canada') || (datum.country === 'United Kingdom')) || (datum.country === 'China'))\"}], \"$schema\": \"https://vega.github.io/schema/vega-lite/v4.8.1.json\"}, {\"mode\": \"vega-lite\"});\n",
       "</script>"
      ],
      "text/plain": [
       "alt.Chart(...)"
      ]
     },
     "execution_count": 13,
     "metadata": {},
     "output_type": "execute_result"
    }
   ],
   "source": [
    "alt.Chart(pageviews).mark_line().encode(\n",
    "    x = 'hours(timestamp):T',\n",
    "    y = 'sum(visitors):Q',\n",
    "    color = 'country'\n",
    ").transform_filter(\n",
    "    (datum.country == 'Canada') | \\\n",
    "    (datum.country == 'United Kingdom') | \\\n",
    "    (datum.country == 'China')\n",
    ")"
   ]
  },
  {
   "cell_type": "markdown",
   "metadata": {},
   "source": [
    "### with Pandas doing the filtering"
   ]
  },
  {
   "cell_type": "code",
   "execution_count": 14,
   "metadata": {},
   "outputs": [
    {
     "data": {
      "text/html": [
       "\n",
       "<div id=\"altair-viz-769208c585dc4d3ebaad938de18b5cb7\"></div>\n",
       "<script type=\"text/javascript\">\n",
       "  (function(spec, embedOpt){\n",
       "    let outputDiv = document.currentScript.previousElementSibling;\n",
       "    if (outputDiv.id !== \"altair-viz-769208c585dc4d3ebaad938de18b5cb7\") {\n",
       "      outputDiv = document.getElementById(\"altair-viz-769208c585dc4d3ebaad938de18b5cb7\");\n",
       "    }\n",
       "    const paths = {\n",
       "      \"vega\": \"https://cdn.jsdelivr.net/npm//vega@5?noext\",\n",
       "      \"vega-lib\": \"https://cdn.jsdelivr.net/npm//vega-lib?noext\",\n",
       "      \"vega-lite\": \"https://cdn.jsdelivr.net/npm//vega-lite@4.8.1?noext\",\n",
       "      \"vega-embed\": \"https://cdn.jsdelivr.net/npm//vega-embed@6?noext\",\n",
       "    };\n",
       "\n",
       "    function loadScript(lib) {\n",
       "      return new Promise(function(resolve, reject) {\n",
       "        var s = document.createElement('script');\n",
       "        s.src = paths[lib];\n",
       "        s.async = true;\n",
       "        s.onload = () => resolve(paths[lib]);\n",
       "        s.onerror = () => reject(`Error loading script: ${paths[lib]}`);\n",
       "        document.getElementsByTagName(\"head\")[0].appendChild(s);\n",
       "      });\n",
       "    }\n",
       "\n",
       "    function showError(err) {\n",
       "      outputDiv.innerHTML = `<div class=\"error\" style=\"color:red;\">${err}</div>`;\n",
       "      throw err;\n",
       "    }\n",
       "\n",
       "    function displayChart(vegaEmbed) {\n",
       "      vegaEmbed(outputDiv, spec, embedOpt)\n",
       "        .catch(err => showError(`Javascript Error: ${err.message}<br>This usually means there's a typo in your chart specification. See the javascript console for the full traceback.`));\n",
       "    }\n",
       "\n",
       "    if(typeof define === \"function\" && define.amd) {\n",
       "      requirejs.config({paths});\n",
       "      require([\"vega-embed\"], displayChart, err => showError(`Error loading script: ${err.message}`));\n",
       "    } else if (typeof vegaEmbed === \"function\") {\n",
       "      displayChart(vegaEmbed);\n",
       "    } else {\n",
       "      loadScript(\"vega\")\n",
       "        .then(() => loadScript(\"vega-lite\"))\n",
       "        .then(() => loadScript(\"vega-embed\"))\n",
       "        .catch(showError)\n",
       "        .then(() => displayChart(vegaEmbed));\n",
       "    }\n",
       "  })({\"config\": {\"view\": {\"continuousWidth\": 400, \"continuousHeight\": 300}}, \"data\": {\"url\": \"files/altair-data-1f1ec5dc0cbbec452209019a57446db6.json\", \"format\": {\"type\": \"json\"}}, \"mark\": \"line\", \"encoding\": {\"color\": {\"type\": \"nominal\", \"field\": \"country\"}, \"x\": {\"type\": \"temporal\", \"field\": \"timestamp\", \"timeUnit\": \"hours\"}, \"y\": {\"type\": \"quantitative\", \"aggregate\": \"sum\", \"field\": \"visitors\"}}, \"$schema\": \"https://vega.github.io/schema/vega-lite/v4.8.1.json\"}, {\"mode\": \"vega-lite\"});\n",
       "</script>"
      ],
      "text/plain": [
       "alt.Chart(...)"
      ]
     },
     "execution_count": 14,
     "metadata": {},
     "output_type": "execute_result"
    }
   ],
   "source": [
    "cauk = pageviews.loc[pageviews.country.isin(['Canada','United Kingdom','China'])]\n",
    "\n",
    "alt.Chart(cauk).mark_line().encode(\n",
    "    x = 'hours(timestamp):T',\n",
    "    y = 'sum(visitors):Q',\n",
    "    color = 'country'\n",
    ")"
   ]
  },
  {
   "cell_type": "markdown",
   "metadata": {},
   "source": [
    "## Map visitors per country without NC results"
   ]
  },
  {
   "cell_type": "code",
   "execution_count": 15,
   "metadata": {},
   "outputs": [
    {
     "data": {
      "text/html": [
       "<div>\n",
       "<style scoped>\n",
       "    .dataframe tbody tr th:only-of-type {\n",
       "        vertical-align: middle;\n",
       "    }\n",
       "\n",
       "    .dataframe tbody tr th {\n",
       "        vertical-align: top;\n",
       "    }\n",
       "\n",
       "    .dataframe thead th {\n",
       "        text-align: right;\n",
       "    }\n",
       "</style>\n",
       "<table border=\"1\" class=\"dataframe\">\n",
       "  <thead>\n",
       "    <tr style=\"text-align: right;\">\n",
       "      <th></th>\n",
       "      <th>ISO 3166 Country Code</th>\n",
       "      <th>Country</th>\n",
       "      <th>Latitude</th>\n",
       "      <th>Longitude</th>\n",
       "    </tr>\n",
       "  </thead>\n",
       "  <tbody>\n",
       "    <tr>\n",
       "      <th>0</th>\n",
       "      <td>AD</td>\n",
       "      <td>Andorra</td>\n",
       "      <td>42.50</td>\n",
       "      <td>1.50</td>\n",
       "    </tr>\n",
       "    <tr>\n",
       "      <th>1</th>\n",
       "      <td>AE</td>\n",
       "      <td>United Arab Emirates</td>\n",
       "      <td>24.00</td>\n",
       "      <td>54.00</td>\n",
       "    </tr>\n",
       "    <tr>\n",
       "      <th>2</th>\n",
       "      <td>AF</td>\n",
       "      <td>Afghanistan</td>\n",
       "      <td>33.00</td>\n",
       "      <td>65.00</td>\n",
       "    </tr>\n",
       "    <tr>\n",
       "      <th>3</th>\n",
       "      <td>AG</td>\n",
       "      <td>Antigua and Barbuda</td>\n",
       "      <td>17.05</td>\n",
       "      <td>-61.80</td>\n",
       "    </tr>\n",
       "    <tr>\n",
       "      <th>4</th>\n",
       "      <td>AI</td>\n",
       "      <td>Anguilla</td>\n",
       "      <td>18.25</td>\n",
       "      <td>-63.17</td>\n",
       "    </tr>\n",
       "  </tbody>\n",
       "</table>\n",
       "</div>"
      ],
      "text/plain": [
       "  ISO 3166 Country Code               Country  Latitude  Longitude\n",
       "0                    AD               Andorra     42.50       1.50\n",
       "1                    AE  United Arab Emirates     24.00      54.00\n",
       "2                    AF           Afghanistan     33.00      65.00\n",
       "3                    AG   Antigua and Barbuda     17.05     -61.80\n",
       "4                    AI              Anguilla     18.25     -63.17"
      ]
     },
     "execution_count": 15,
     "metadata": {},
     "output_type": "execute_result"
    }
   ],
   "source": [
    "# from vega_datasets import data\n",
    "# countries = alt.topo_feature(data.world_110m.url, feature='countries')\n",
    "\n",
    "countries = alt.topo_feature('https://vega.github.io/vega-datasets/data/world-110m.json', \n",
    "                             feature='countries')\n",
    "latlon = pd.read_csv('data/average-latitude-longitude-countries.csv')\n",
    "latlon.head()"
   ]
  },
  {
   "cell_type": "markdown",
   "metadata": {},
   "source": [
    "## Visitors per country (excluding US) symbol map\n",
    "\n",
    "### Doing aggregation, filtering and data join within Altair\n",
    "\n",
    "For some data sources (e.g. data available at a URL, or data that is streaming), it is desirable to have a means of joining data without having to download it for pre-processing in Pandas."
   ]
  },
  {
   "cell_type": "code",
   "execution_count": 16,
   "metadata": {},
   "outputs": [
    {
     "data": {
      "text/html": [
       "\n",
       "<div id=\"altair-viz-e2a8f6c450524140aa704a9333f0b9fb\"></div>\n",
       "<script type=\"text/javascript\">\n",
       "  (function(spec, embedOpt){\n",
       "    let outputDiv = document.currentScript.previousElementSibling;\n",
       "    if (outputDiv.id !== \"altair-viz-e2a8f6c450524140aa704a9333f0b9fb\") {\n",
       "      outputDiv = document.getElementById(\"altair-viz-e2a8f6c450524140aa704a9333f0b9fb\");\n",
       "    }\n",
       "    const paths = {\n",
       "      \"vega\": \"https://cdn.jsdelivr.net/npm//vega@5?noext\",\n",
       "      \"vega-lib\": \"https://cdn.jsdelivr.net/npm//vega-lib?noext\",\n",
       "      \"vega-lite\": \"https://cdn.jsdelivr.net/npm//vega-lite@4.8.1?noext\",\n",
       "      \"vega-embed\": \"https://cdn.jsdelivr.net/npm//vega-embed@6?noext\",\n",
       "    };\n",
       "\n",
       "    function loadScript(lib) {\n",
       "      return new Promise(function(resolve, reject) {\n",
       "        var s = document.createElement('script');\n",
       "        s.src = paths[lib];\n",
       "        s.async = true;\n",
       "        s.onload = () => resolve(paths[lib]);\n",
       "        s.onerror = () => reject(`Error loading script: ${paths[lib]}`);\n",
       "        document.getElementsByTagName(\"head\")[0].appendChild(s);\n",
       "      });\n",
       "    }\n",
       "\n",
       "    function showError(err) {\n",
       "      outputDiv.innerHTML = `<div class=\"error\" style=\"color:red;\">${err}</div>`;\n",
       "      throw err;\n",
       "    }\n",
       "\n",
       "    function displayChart(vegaEmbed) {\n",
       "      vegaEmbed(outputDiv, spec, embedOpt)\n",
       "        .catch(err => showError(`Javascript Error: ${err.message}<br>This usually means there's a typo in your chart specification. See the javascript console for the full traceback.`));\n",
       "    }\n",
       "\n",
       "    if(typeof define === \"function\" && define.amd) {\n",
       "      requirejs.config({paths});\n",
       "      require([\"vega-embed\"], displayChart, err => showError(`Error loading script: ${err.message}`));\n",
       "    } else if (typeof vegaEmbed === \"function\") {\n",
       "      displayChart(vegaEmbed);\n",
       "    } else {\n",
       "      loadScript(\"vega\")\n",
       "        .then(() => loadScript(\"vega-lite\"))\n",
       "        .then(() => loadScript(\"vega-embed\"))\n",
       "        .catch(showError)\n",
       "        .then(() => displayChart(vegaEmbed));\n",
       "    }\n",
       "  })({\"config\": {\"view\": {\"continuousWidth\": 400, \"continuousHeight\": 300}}, \"layer\": [{\"data\": {\"url\": \"https://vega.github.io/vega-datasets/data/world-110m.json\", \"format\": {\"feature\": \"countries\", \"type\": \"topojson\"}}, \"mark\": {\"type\": \"geoshape\", \"fill\": \"lightgray\", \"stroke\": \"white\"}, \"height\": 500, \"projection\": {\"clipExtent\": [[0, 37.5], [600, 400.0]], \"type\": \"mercator\"}, \"width\": 600}, {\"data\": {\"url\": \"files/altair-data-b892b0b01a83cd49fd193923c7786854.json\", \"format\": {\"type\": \"json\"}}, \"mark\": \"circle\", \"encoding\": {\"latitude\": {\"field\": \"Latitude\", \"type\": \"quantitative\"}, \"longitude\": {\"field\": \"Longitude\", \"type\": \"quantitative\"}, \"size\": {\"type\": \"quantitative\", \"field\": \"sum_visitors\"}, \"tooltip\": {\"type\": \"nominal\", \"field\": \"country\"}}, \"height\": 500, \"projection\": {\"clipExtent\": [[0, 37.5], [600, 400.0]], \"type\": \"mercator\"}, \"transform\": [{\"filter\": \"(datum.country !== 'United States')\"}, {\"aggregate\": [{\"op\": \"sum\", \"field\": \"visitors\", \"as\": \"sum_visitors\"}], \"groupby\": [\"country\"]}, {\"lookup\": \"country\", \"from\": {\"data\": {\"url\": \"files/altair-data-ce11a53a78598a93514d7eef3ec040db.json\", \"format\": {\"type\": \"json\"}}, \"key\": \"Country\", \"fields\": [\"Latitude\", \"Longitude\"]}}], \"width\": 600}], \"$schema\": \"https://vega.github.io/schema/vega-lite/v4.8.1.json\"}, {\"mode\": \"vega-lite\"});\n",
       "</script>"
      ],
      "text/plain": [
       "alt.LayerChart(...)"
      ]
     },
     "execution_count": 16,
     "metadata": {},
     "output_type": "execute_result"
    }
   ],
   "source": [
    "proj_type = 'mercator'\n",
    "width = 600\n",
    "height = 500\n",
    "clip_extent = [[0,0.075*height],[width,0.8*height]]\n",
    "\n",
    "background = alt.Chart(countries).mark_geoshape(\n",
    "    fill='lightgray',\n",
    "    stroke='white'\n",
    ").project(\n",
    "    type=proj_type,\n",
    "    clipExtent=clip_extent\n",
    ").properties(\n",
    "    width=width,\n",
    "    height=height\n",
    ")\n",
    "\n",
    "points = alt.Chart(pageviews).mark_circle().encode(\n",
    "    longitude = 'Longitude:Q',\n",
    "    latitude = 'Latitude:Q',\n",
    "    size = 'sum_visitors:Q',\n",
    "    tooltip = 'country'\n",
    ").transform_filter(\n",
    "    datum.country != 'United States'\n",
    ").transform_aggregate(\n",
    "    sum_visitors='sum(visitors)',\n",
    "    groupby=['country']\n",
    ").transform_lookup(\n",
    "    lookup = \"country\",\n",
    "    from_ = alt.LookupData(data=latlon, key='Country', fields=['Latitude','Longitude'])\n",
    ").project(\n",
    "    type=proj_type,\n",
    "    clipExtent=clip_extent\n",
    ").properties(\n",
    "    width=width,\n",
    "    height=height\n",
    ")\n",
    "\n",
    "background + points"
   ]
  },
  {
   "cell_type": "markdown",
   "metadata": {},
   "source": [
    "## Map after Pandas aggregation and merge with Lat/Lon"
   ]
  },
  {
   "cell_type": "code",
   "execution_count": 17,
   "metadata": {},
   "outputs": [],
   "source": [
    "no_us = pageviews.loc[pageviews.country != 'United States']\n"
   ]
  },
  {
   "cell_type": "markdown",
   "metadata": {},
   "source": [
    "### If you wanted to aggregate in Pandas\n",
    "\n",
    "- Sum of visitors\n",
    "- Mean of latitude and longitude of visitors"
   ]
  },
  {
   "cell_type": "code",
   "execution_count": 18,
   "metadata": {},
   "outputs": [
    {
     "data": {
      "text/html": [
       "<div>\n",
       "<style scoped>\n",
       "    .dataframe tbody tr th:only-of-type {\n",
       "        vertical-align: middle;\n",
       "    }\n",
       "\n",
       "    .dataframe tbody tr th {\n",
       "        vertical-align: top;\n",
       "    }\n",
       "\n",
       "    .dataframe thead th {\n",
       "        text-align: right;\n",
       "    }\n",
       "</style>\n",
       "<table border=\"1\" class=\"dataframe\">\n",
       "  <thead>\n",
       "    <tr style=\"text-align: right;\">\n",
       "      <th></th>\n",
       "      <th>country</th>\n",
       "      <th>visitors</th>\n",
       "      <th>longitude</th>\n",
       "      <th>latitude</th>\n",
       "    </tr>\n",
       "  </thead>\n",
       "  <tbody>\n",
       "    <tr>\n",
       "      <th>0</th>\n",
       "      <td>(not set)</td>\n",
       "      <td>818</td>\n",
       "      <td>0.000000</td>\n",
       "      <td>0.000000</td>\n",
       "    </tr>\n",
       "    <tr>\n",
       "      <th>1</th>\n",
       "      <td>Afghanistan</td>\n",
       "      <td>13</td>\n",
       "      <td>69.171700</td>\n",
       "      <td>34.528500</td>\n",
       "    </tr>\n",
       "    <tr>\n",
       "      <th>2</th>\n",
       "      <td>Albania</td>\n",
       "      <td>14</td>\n",
       "      <td>19.831800</td>\n",
       "      <td>41.331600</td>\n",
       "    </tr>\n",
       "    <tr>\n",
       "      <th>3</th>\n",
       "      <td>Algeria</td>\n",
       "      <td>37</td>\n",
       "      <td>3.374911</td>\n",
       "      <td>36.108903</td>\n",
       "    </tr>\n",
       "    <tr>\n",
       "      <th>4</th>\n",
       "      <td>Angola</td>\n",
       "      <td>1</td>\n",
       "      <td>13.237500</td>\n",
       "      <td>-8.813500</td>\n",
       "    </tr>\n",
       "  </tbody>\n",
       "</table>\n",
       "</div>"
      ],
      "text/plain": [
       "       country  visitors  longitude   latitude\n",
       "0    (not set)       818   0.000000   0.000000\n",
       "1  Afghanistan        13  69.171700  34.528500\n",
       "2      Albania        14  19.831800  41.331600\n",
       "3      Algeria        37   3.374911  36.108903\n",
       "4       Angola         1  13.237500  -8.813500"
      ]
     },
     "execution_count": 18,
     "metadata": {},
     "output_type": "execute_result"
    }
   ],
   "source": [
    "no_us_country = no_us.groupby('country').agg({'visitors':'sum', \n",
    "                         'longitude':'mean', \n",
    "                         'latitude':'mean'}).reset_index()\n",
    "no_us_country.head()"
   ]
  },
  {
   "cell_type": "markdown",
   "metadata": {},
   "source": [
    "### If you wanted to get the Latitude and Longitude through a JOIN (merge)\n",
    "\n",
    "We imported the `latlon` DataFrame earlier from a file, and now we'll do a LEFT JOIN using the country columns as the key field to get the Latitude and Longitude columns."
   ]
  },
  {
   "cell_type": "code",
   "execution_count": 19,
   "metadata": {},
   "outputs": [
    {
     "data": {
      "text/html": [
       "<div>\n",
       "<style scoped>\n",
       "    .dataframe tbody tr th:only-of-type {\n",
       "        vertical-align: middle;\n",
       "    }\n",
       "\n",
       "    .dataframe tbody tr th {\n",
       "        vertical-align: top;\n",
       "    }\n",
       "\n",
       "    .dataframe thead th {\n",
       "        text-align: right;\n",
       "    }\n",
       "</style>\n",
       "<table border=\"1\" class=\"dataframe\">\n",
       "  <thead>\n",
       "    <tr style=\"text-align: right;\">\n",
       "      <th></th>\n",
       "      <th>country</th>\n",
       "      <th>visitors</th>\n",
       "      <th>longitude</th>\n",
       "      <th>latitude</th>\n",
       "      <th>ISO 3166 Country Code</th>\n",
       "      <th>Country</th>\n",
       "      <th>Latitude</th>\n",
       "      <th>Longitude</th>\n",
       "    </tr>\n",
       "  </thead>\n",
       "  <tbody>\n",
       "    <tr>\n",
       "      <th>0</th>\n",
       "      <td>(not set)</td>\n",
       "      <td>818</td>\n",
       "      <td>0.000000</td>\n",
       "      <td>0.000000</td>\n",
       "      <td>NaN</td>\n",
       "      <td>NaN</td>\n",
       "      <td>NaN</td>\n",
       "      <td>NaN</td>\n",
       "    </tr>\n",
       "    <tr>\n",
       "      <th>1</th>\n",
       "      <td>Afghanistan</td>\n",
       "      <td>13</td>\n",
       "      <td>69.171700</td>\n",
       "      <td>34.528500</td>\n",
       "      <td>AF</td>\n",
       "      <td>Afghanistan</td>\n",
       "      <td>33.0</td>\n",
       "      <td>65.0</td>\n",
       "    </tr>\n",
       "    <tr>\n",
       "      <th>2</th>\n",
       "      <td>Albania</td>\n",
       "      <td>14</td>\n",
       "      <td>19.831800</td>\n",
       "      <td>41.331600</td>\n",
       "      <td>AL</td>\n",
       "      <td>Albania</td>\n",
       "      <td>41.0</td>\n",
       "      <td>20.0</td>\n",
       "    </tr>\n",
       "    <tr>\n",
       "      <th>3</th>\n",
       "      <td>Algeria</td>\n",
       "      <td>37</td>\n",
       "      <td>3.374911</td>\n",
       "      <td>36.108903</td>\n",
       "      <td>DZ</td>\n",
       "      <td>Algeria</td>\n",
       "      <td>28.0</td>\n",
       "      <td>3.0</td>\n",
       "    </tr>\n",
       "    <tr>\n",
       "      <th>4</th>\n",
       "      <td>Angola</td>\n",
       "      <td>1</td>\n",
       "      <td>13.237500</td>\n",
       "      <td>-8.813500</td>\n",
       "      <td>AO</td>\n",
       "      <td>Angola</td>\n",
       "      <td>-12.5</td>\n",
       "      <td>18.5</td>\n",
       "    </tr>\n",
       "  </tbody>\n",
       "</table>\n",
       "</div>"
      ],
      "text/plain": [
       "       country  visitors  longitude   latitude ISO 3166 Country Code  \\\n",
       "0    (not set)       818   0.000000   0.000000                   NaN   \n",
       "1  Afghanistan        13  69.171700  34.528500                    AF   \n",
       "2      Albania        14  19.831800  41.331600                    AL   \n",
       "3      Algeria        37   3.374911  36.108903                    DZ   \n",
       "4       Angola         1  13.237500  -8.813500                    AO   \n",
       "\n",
       "       Country  Latitude  Longitude  \n",
       "0          NaN       NaN        NaN  \n",
       "1  Afghanistan      33.0       65.0  \n",
       "2      Albania      41.0       20.0  \n",
       "3      Algeria      28.0        3.0  \n",
       "4       Angola     -12.5       18.5  "
      ]
     },
     "execution_count": 19,
     "metadata": {},
     "output_type": "execute_result"
    }
   ],
   "source": [
    "no_us_country_latlon = pd.merge(no_us_country, latlon, how='left',\n",
    "                               left_on='country', right_on='Country')\n",
    "no_us_country_latlon.head()"
   ]
  },
  {
   "cell_type": "markdown",
   "metadata": {},
   "source": [
    "### Version using Lat/Lon looked up through JOIN (merge) with file"
   ]
  },
  {
   "cell_type": "code",
   "execution_count": 20,
   "metadata": {},
   "outputs": [
    {
     "data": {
      "text/html": [
       "\n",
       "<div id=\"altair-viz-6f7e4016b6de4089bceb3e780d7045b3\"></div>\n",
       "<script type=\"text/javascript\">\n",
       "  (function(spec, embedOpt){\n",
       "    let outputDiv = document.currentScript.previousElementSibling;\n",
       "    if (outputDiv.id !== \"altair-viz-6f7e4016b6de4089bceb3e780d7045b3\") {\n",
       "      outputDiv = document.getElementById(\"altair-viz-6f7e4016b6de4089bceb3e780d7045b3\");\n",
       "    }\n",
       "    const paths = {\n",
       "      \"vega\": \"https://cdn.jsdelivr.net/npm//vega@5?noext\",\n",
       "      \"vega-lib\": \"https://cdn.jsdelivr.net/npm//vega-lib?noext\",\n",
       "      \"vega-lite\": \"https://cdn.jsdelivr.net/npm//vega-lite@4.8.1?noext\",\n",
       "      \"vega-embed\": \"https://cdn.jsdelivr.net/npm//vega-embed@6?noext\",\n",
       "    };\n",
       "\n",
       "    function loadScript(lib) {\n",
       "      return new Promise(function(resolve, reject) {\n",
       "        var s = document.createElement('script');\n",
       "        s.src = paths[lib];\n",
       "        s.async = true;\n",
       "        s.onload = () => resolve(paths[lib]);\n",
       "        s.onerror = () => reject(`Error loading script: ${paths[lib]}`);\n",
       "        document.getElementsByTagName(\"head\")[0].appendChild(s);\n",
       "      });\n",
       "    }\n",
       "\n",
       "    function showError(err) {\n",
       "      outputDiv.innerHTML = `<div class=\"error\" style=\"color:red;\">${err}</div>`;\n",
       "      throw err;\n",
       "    }\n",
       "\n",
       "    function displayChart(vegaEmbed) {\n",
       "      vegaEmbed(outputDiv, spec, embedOpt)\n",
       "        .catch(err => showError(`Javascript Error: ${err.message}<br>This usually means there's a typo in your chart specification. See the javascript console for the full traceback.`));\n",
       "    }\n",
       "\n",
       "    if(typeof define === \"function\" && define.amd) {\n",
       "      requirejs.config({paths});\n",
       "      require([\"vega-embed\"], displayChart, err => showError(`Error loading script: ${err.message}`));\n",
       "    } else if (typeof vegaEmbed === \"function\") {\n",
       "      displayChart(vegaEmbed);\n",
       "    } else {\n",
       "      loadScript(\"vega\")\n",
       "        .then(() => loadScript(\"vega-lite\"))\n",
       "        .then(() => loadScript(\"vega-embed\"))\n",
       "        .catch(showError)\n",
       "        .then(() => displayChart(vegaEmbed));\n",
       "    }\n",
       "  })({\"config\": {\"view\": {\"continuousWidth\": 400, \"continuousHeight\": 300}}, \"layer\": [{\"data\": {\"url\": \"https://vega.github.io/vega-datasets/data/world-110m.json\", \"format\": {\"feature\": \"countries\", \"type\": \"topojson\"}}, \"mark\": {\"type\": \"geoshape\", \"fill\": \"lightgray\", \"stroke\": \"white\"}, \"height\": 500, \"projection\": {\"clipExtent\": [[0, 37.5], [600, 400.0]], \"type\": \"mercator\"}, \"width\": 600}, {\"data\": {\"url\": \"files/altair-data-ccf1874a65983bf1a5c7711769170e6f.json\", \"format\": {\"type\": \"json\"}}, \"mark\": \"circle\", \"encoding\": {\"latitude\": {\"field\": \"Latitude\", \"type\": \"quantitative\"}, \"longitude\": {\"field\": \"Longitude\", \"type\": \"quantitative\"}, \"size\": {\"type\": \"quantitative\", \"field\": \"visitors\"}, \"tooltip\": [{\"type\": \"ordinal\", \"field\": \"country\"}, {\"type\": \"quantitative\", \"field\": \"visitors\"}]}, \"height\": 500, \"projection\": {\"clipExtent\": [[0, 37.5], [600, 400.0]], \"type\": \"mercator\"}, \"width\": 600}], \"$schema\": \"https://vega.github.io/schema/vega-lite/v4.8.1.json\"}, {\"mode\": \"vega-lite\"});\n",
       "</script>"
      ],
      "text/plain": [
       "alt.LayerChart(...)"
      ]
     },
     "execution_count": 20,
     "metadata": {},
     "output_type": "execute_result"
    }
   ],
   "source": [
    "proj_type = 'mercator'\n",
    "width = 600\n",
    "height = 500\n",
    "clip_extent = [[0,0.075*height],[width,0.8*height]]\n",
    "\n",
    "background = alt.Chart(countries).mark_geoshape(\n",
    "    fill='lightgray',\n",
    "    stroke='white'\n",
    ").project(type = proj_type, \n",
    "          clipExtent = clip_extent\n",
    ").properties(\n",
    "    width = width,\n",
    "    height = height\n",
    ")\n",
    "\n",
    "points = alt.Chart(no_us_country_latlon).mark_circle().encode(\n",
    "    longitude='Longitude:Q',\n",
    "    latitude='Latitude:Q',\n",
    "    size='visitors:Q',\n",
    "    tooltip=alt.Tooltip(['country:O', 'visitors:Q'])\n",
    ").project(\n",
    "    type = proj_type, \n",
    "    clipExtent= clip_extent\n",
    ").properties(\n",
    "    width = width,\n",
    "    height = height\n",
    ")\n",
    "\n",
    "background + points"
   ]
  },
  {
   "cell_type": "code",
   "execution_count": 21,
   "metadata": {},
   "outputs": [
    {
     "data": {
      "text/html": [
       "\n",
       "<div id=\"altair-viz-67e663ccf9c84427871a61120fb0c824\"></div>\n",
       "<script type=\"text/javascript\">\n",
       "  (function(spec, embedOpt){\n",
       "    let outputDiv = document.currentScript.previousElementSibling;\n",
       "    if (outputDiv.id !== \"altair-viz-67e663ccf9c84427871a61120fb0c824\") {\n",
       "      outputDiv = document.getElementById(\"altair-viz-67e663ccf9c84427871a61120fb0c824\");\n",
       "    }\n",
       "    const paths = {\n",
       "      \"vega\": \"https://cdn.jsdelivr.net/npm//vega@5?noext\",\n",
       "      \"vega-lib\": \"https://cdn.jsdelivr.net/npm//vega-lib?noext\",\n",
       "      \"vega-lite\": \"https://cdn.jsdelivr.net/npm//vega-lite@4.8.1?noext\",\n",
       "      \"vega-embed\": \"https://cdn.jsdelivr.net/npm//vega-embed@6?noext\",\n",
       "    };\n",
       "\n",
       "    function loadScript(lib) {\n",
       "      return new Promise(function(resolve, reject) {\n",
       "        var s = document.createElement('script');\n",
       "        s.src = paths[lib];\n",
       "        s.async = true;\n",
       "        s.onload = () => resolve(paths[lib]);\n",
       "        s.onerror = () => reject(`Error loading script: ${paths[lib]}`);\n",
       "        document.getElementsByTagName(\"head\")[0].appendChild(s);\n",
       "      });\n",
       "    }\n",
       "\n",
       "    function showError(err) {\n",
       "      outputDiv.innerHTML = `<div class=\"error\" style=\"color:red;\">${err}</div>`;\n",
       "      throw err;\n",
       "    }\n",
       "\n",
       "    function displayChart(vegaEmbed) {\n",
       "      vegaEmbed(outputDiv, spec, embedOpt)\n",
       "        .catch(err => showError(`Javascript Error: ${err.message}<br>This usually means there's a typo in your chart specification. See the javascript console for the full traceback.`));\n",
       "    }\n",
       "\n",
       "    if(typeof define === \"function\" && define.amd) {\n",
       "      requirejs.config({paths});\n",
       "      require([\"vega-embed\"], displayChart, err => showError(`Error loading script: ${err.message}`));\n",
       "    } else if (typeof vegaEmbed === \"function\") {\n",
       "      displayChart(vegaEmbed);\n",
       "    } else {\n",
       "      loadScript(\"vega\")\n",
       "        .then(() => loadScript(\"vega-lite\"))\n",
       "        .then(() => loadScript(\"vega-embed\"))\n",
       "        .catch(showError)\n",
       "        .then(() => displayChart(vegaEmbed));\n",
       "    }\n",
       "  })({\"config\": {\"view\": {\"continuousWidth\": 400, \"continuousHeight\": 300}}, \"layer\": [{\"data\": {\"url\": \"https://vega.github.io/vega-datasets/data/world-110m.json\", \"format\": {\"feature\": \"countries\", \"type\": \"topojson\"}}, \"mark\": {\"type\": \"geoshape\", \"fill\": \"lightgray\", \"stroke\": \"white\"}, \"height\": 500, \"projection\": {\"clipExtent\": [[0, 37.5], [600, 400.0]], \"type\": \"mercator\"}, \"width\": 600}, {\"data\": {\"url\": \"files/altair-data-ccf1874a65983bf1a5c7711769170e6f.json\", \"format\": {\"type\": \"json\"}}, \"mark\": \"circle\", \"encoding\": {\"latitude\": {\"field\": \"latitude\", \"type\": \"quantitative\"}, \"longitude\": {\"field\": \"longitude\", \"type\": \"quantitative\"}, \"size\": {\"type\": \"quantitative\", \"field\": \"visitors\"}, \"tooltip\": [{\"type\": \"ordinal\", \"field\": \"country\"}, {\"type\": \"quantitative\", \"field\": \"visitors\"}]}, \"height\": 500, \"projection\": {\"clipExtent\": [[0, 37.5], [600, 400.0]], \"type\": \"mercator\"}, \"width\": 600}], \"$schema\": \"https://vega.github.io/schema/vega-lite/v4.8.1.json\"}, {\"mode\": \"vega-lite\"});\n",
       "</script>"
      ],
      "text/plain": [
       "alt.LayerChart(...)"
      ]
     },
     "execution_count": 21,
     "metadata": {},
     "output_type": "execute_result"
    }
   ],
   "source": [
    "proj_type = 'mercator'\n",
    "width = 600\n",
    "height = 500\n",
    "clip_extent = [[0,0.075*height],[width,0.8*height]]\n",
    "\n",
    "background = alt.Chart(countries).mark_geoshape(\n",
    "    fill='lightgray',\n",
    "    stroke='white'\n",
    ").project(type = proj_type, \n",
    "          clipExtent = clip_extent\n",
    ").properties(\n",
    "    width = width,\n",
    "    height = height\n",
    ")\n",
    "\n",
    "points = alt.Chart(no_us_country_latlon).mark_circle().encode(\n",
    "    longitude='longitude:Q',\n",
    "    latitude='latitude:Q',\n",
    "    size='visitors:Q',\n",
    "    tooltip=alt.Tooltip(['country:O', 'visitors:Q'])\n",
    ").project(\n",
    "    type = proj_type, \n",
    "    clipExtent= clip_extent\n",
    ").properties(\n",
    "    width = width,\n",
    "    height = height\n",
    ")\n",
    "\n",
    "background + points"
   ]
  },
  {
   "cell_type": "markdown",
   "metadata": {},
   "source": [
    "### Map of non-NC world cities\n",
    "\n",
    "Aggregation and filtering in Pandas"
   ]
  },
  {
   "cell_type": "code",
   "execution_count": 22,
   "metadata": {},
   "outputs": [
    {
     "data": {
      "text/html": [
       "\n",
       "<div id=\"altair-viz-b7653d0638b249878386835caaac1101\"></div>\n",
       "<script type=\"text/javascript\">\n",
       "  (function(spec, embedOpt){\n",
       "    let outputDiv = document.currentScript.previousElementSibling;\n",
       "    if (outputDiv.id !== \"altair-viz-b7653d0638b249878386835caaac1101\") {\n",
       "      outputDiv = document.getElementById(\"altair-viz-b7653d0638b249878386835caaac1101\");\n",
       "    }\n",
       "    const paths = {\n",
       "      \"vega\": \"https://cdn.jsdelivr.net/npm//vega@5?noext\",\n",
       "      \"vega-lib\": \"https://cdn.jsdelivr.net/npm//vega-lib?noext\",\n",
       "      \"vega-lite\": \"https://cdn.jsdelivr.net/npm//vega-lite@4.8.1?noext\",\n",
       "      \"vega-embed\": \"https://cdn.jsdelivr.net/npm//vega-embed@6?noext\",\n",
       "    };\n",
       "\n",
       "    function loadScript(lib) {\n",
       "      return new Promise(function(resolve, reject) {\n",
       "        var s = document.createElement('script');\n",
       "        s.src = paths[lib];\n",
       "        s.async = true;\n",
       "        s.onload = () => resolve(paths[lib]);\n",
       "        s.onerror = () => reject(`Error loading script: ${paths[lib]}`);\n",
       "        document.getElementsByTagName(\"head\")[0].appendChild(s);\n",
       "      });\n",
       "    }\n",
       "\n",
       "    function showError(err) {\n",
       "      outputDiv.innerHTML = `<div class=\"error\" style=\"color:red;\">${err}</div>`;\n",
       "      throw err;\n",
       "    }\n",
       "\n",
       "    function displayChart(vegaEmbed) {\n",
       "      vegaEmbed(outputDiv, spec, embedOpt)\n",
       "        .catch(err => showError(`Javascript Error: ${err.message}<br>This usually means there's a typo in your chart specification. See the javascript console for the full traceback.`));\n",
       "    }\n",
       "\n",
       "    if(typeof define === \"function\" && define.amd) {\n",
       "      requirejs.config({paths});\n",
       "      require([\"vega-embed\"], displayChart, err => showError(`Error loading script: ${err.message}`));\n",
       "    } else if (typeof vegaEmbed === \"function\") {\n",
       "      displayChart(vegaEmbed);\n",
       "    } else {\n",
       "      loadScript(\"vega\")\n",
       "        .then(() => loadScript(\"vega-lite\"))\n",
       "        .then(() => loadScript(\"vega-embed\"))\n",
       "        .catch(showError)\n",
       "        .then(() => displayChart(vegaEmbed));\n",
       "    }\n",
       "  })({\"config\": {\"view\": {\"continuousWidth\": 400, \"continuousHeight\": 300}}, \"layer\": [{\"data\": {\"url\": \"https://vega.github.io/vega-datasets/data/world-110m.json\", \"format\": {\"feature\": \"countries\", \"type\": \"topojson\"}}, \"mark\": {\"type\": \"geoshape\", \"fill\": \"#e5d8bd\", \"opacity\": 0.5, \"stroke\": \"white\"}, \"height\": 500, \"projection\": {\"clipExtent\": [[0, 37.5], [600, 400.0]], \"type\": \"mercator\"}, \"width\": 600}, {\"data\": {\"url\": \"files/altair-data-9c89cb6b86bac50fc6e144a0eea80e86.json\", \"format\": {\"type\": \"json\"}}, \"mark\": {\"type\": \"circle\", \"color\": \"#7570b3\", \"opacity\": 0.5}, \"encoding\": {\"latitude\": {\"field\": \"latitude\", \"type\": \"quantitative\"}, \"longitude\": {\"field\": \"longitude\", \"type\": \"quantitative\"}, \"size\": {\"type\": \"quantitative\", \"field\": \"visitors\"}, \"tooltip\": [{\"type\": \"nominal\", \"field\": \"country\"}, {\"type\": \"nominal\", \"field\": \"region\"}, {\"type\": \"nominal\", \"field\": \"city\"}, {\"type\": \"quantitative\", \"field\": \"visitors\"}]}, \"height\": 500, \"projection\": {\"clipExtent\": [[0, 37.5], [600, 400.0]], \"type\": \"mercator\"}, \"width\": 600}], \"$schema\": \"https://vega.github.io/schema/vega-lite/v4.8.1.json\"}, {\"mode\": \"vega-lite\"});\n",
       "</script>"
      ],
      "text/plain": [
       "alt.LayerChart(...)"
      ]
     },
     "execution_count": 22,
     "metadata": {},
     "output_type": "execute_result"
    }
   ],
   "source": [
    "no_nc = pageviews.loc[pageviews.region != 'North Carolina']\n",
    "\n",
    "no_nc_city = no_nc.groupby(['country','region','city']).agg({'visitors':'sum', \n",
    "                         'longitude':'mean', \n",
    "                         'latitude':'mean'}).reset_index()\n",
    "\n",
    "proj_type = 'mercator'\n",
    "width = 600\n",
    "height = 500\n",
    "clip_extent = [[0,0.075*height],[width,0.8*height]]\n",
    "\n",
    "background = alt.Chart(countries).mark_geoshape(\n",
    "    fill='#e5d8bd',\n",
    "    stroke='white',\n",
    "    opacity=0.5\n",
    ").project(type = proj_type, \n",
    "          clipExtent = clip_extent\n",
    ").properties(\n",
    "    width = width,\n",
    "    height = height\n",
    ")\n",
    "\n",
    "points = alt.Chart(no_nc_city).mark_circle(\n",
    "    opacity = 0.5,\n",
    "    color = '#7570b3'\n",
    ").encode(\n",
    "    longitude='longitude:Q',\n",
    "    latitude='latitude:Q',\n",
    "    size='visitors:Q',\n",
    "    tooltip=alt.Tooltip(['country:N', 'region:N', 'city:N', 'visitors:Q']),\n",
    ").project(\n",
    "    type = proj_type, \n",
    "    clipExtent= clip_extent\n",
    ").properties(\n",
    "    width = width,\n",
    "    height = height\n",
    ")\n",
    "\n",
    "background + points"
   ]
  },
  {
   "cell_type": "markdown",
   "metadata": {},
   "source": [
    "### Map of non-NC US cities\n",
    "\n",
    "Aggregation and filtering in Altair\n",
    "\n",
    "*Note that with groupby you need to do all of your aggregation in the transform_aggregate() section!*"
   ]
  },
  {
   "cell_type": "code",
   "execution_count": 23,
   "metadata": {},
   "outputs": [
    {
     "data": {
      "text/html": [
       "\n",
       "<div id=\"altair-viz-f20bb3349ddb49e2876a8c45b4329d31\"></div>\n",
       "<script type=\"text/javascript\">\n",
       "  (function(spec, embedOpt){\n",
       "    let outputDiv = document.currentScript.previousElementSibling;\n",
       "    if (outputDiv.id !== \"altair-viz-f20bb3349ddb49e2876a8c45b4329d31\") {\n",
       "      outputDiv = document.getElementById(\"altair-viz-f20bb3349ddb49e2876a8c45b4329d31\");\n",
       "    }\n",
       "    const paths = {\n",
       "      \"vega\": \"https://cdn.jsdelivr.net/npm//vega@5?noext\",\n",
       "      \"vega-lib\": \"https://cdn.jsdelivr.net/npm//vega-lib?noext\",\n",
       "      \"vega-lite\": \"https://cdn.jsdelivr.net/npm//vega-lite@4.8.1?noext\",\n",
       "      \"vega-embed\": \"https://cdn.jsdelivr.net/npm//vega-embed@6?noext\",\n",
       "    };\n",
       "\n",
       "    function loadScript(lib) {\n",
       "      return new Promise(function(resolve, reject) {\n",
       "        var s = document.createElement('script');\n",
       "        s.src = paths[lib];\n",
       "        s.async = true;\n",
       "        s.onload = () => resolve(paths[lib]);\n",
       "        s.onerror = () => reject(`Error loading script: ${paths[lib]}`);\n",
       "        document.getElementsByTagName(\"head\")[0].appendChild(s);\n",
       "      });\n",
       "    }\n",
       "\n",
       "    function showError(err) {\n",
       "      outputDiv.innerHTML = `<div class=\"error\" style=\"color:red;\">${err}</div>`;\n",
       "      throw err;\n",
       "    }\n",
       "\n",
       "    function displayChart(vegaEmbed) {\n",
       "      vegaEmbed(outputDiv, spec, embedOpt)\n",
       "        .catch(err => showError(`Javascript Error: ${err.message}<br>This usually means there's a typo in your chart specification. See the javascript console for the full traceback.`));\n",
       "    }\n",
       "\n",
       "    if(typeof define === \"function\" && define.amd) {\n",
       "      requirejs.config({paths});\n",
       "      require([\"vega-embed\"], displayChart, err => showError(`Error loading script: ${err.message}`));\n",
       "    } else if (typeof vegaEmbed === \"function\") {\n",
       "      displayChart(vegaEmbed);\n",
       "    } else {\n",
       "      loadScript(\"vega\")\n",
       "        .then(() => loadScript(\"vega-lite\"))\n",
       "        .then(() => loadScript(\"vega-embed\"))\n",
       "        .catch(showError)\n",
       "        .then(() => displayChart(vegaEmbed));\n",
       "    }\n",
       "  })({\"config\": {\"view\": {\"continuousWidth\": 400, \"continuousHeight\": 300}}, \"layer\": [{\"data\": {\"url\": \"https://vega.github.io/vega-datasets/data/us-10m.json\", \"format\": {\"feature\": \"states\", \"type\": \"topojson\"}}, \"mark\": {\"type\": \"geoshape\", \"fill\": \"#e5d8bd\", \"opacity\": 0.5, \"stroke\": \"white\"}, \"height\": 400, \"projection\": {\"type\": \"albersUsa\"}, \"width\": 600}, {\"data\": {\"url\": \"files/altair-data-b892b0b01a83cd49fd193923c7786854.json\", \"format\": {\"type\": \"json\"}}, \"mark\": {\"type\": \"circle\", \"color\": \"#7570b3\", \"opacity\": 0.5}, \"encoding\": {\"latitude\": {\"field\": \"mean_latitude\", \"type\": \"quantitative\"}, \"longitude\": {\"field\": \"mean_longitude\", \"type\": \"quantitative\"}, \"size\": {\"type\": \"quantitative\", \"field\": \"sum_visitors\"}, \"tooltip\": [{\"type\": \"nominal\", \"field\": \"region\"}, {\"type\": \"nominal\", \"field\": \"city\"}, {\"type\": \"quantitative\", \"field\": \"sum_visitors\"}]}, \"height\": 400, \"projection\": {\"type\": \"albersUsa\"}, \"transform\": [{\"filter\": \"((datum.country === 'United States') && (datum.region !== 'North Carolina'))\"}, {\"aggregate\": [{\"op\": \"sum\", \"field\": \"visitors\", \"as\": \"sum_visitors\"}, {\"op\": \"mean\", \"field\": \"longitude\", \"as\": \"mean_longitude\"}, {\"op\": \"mean\", \"field\": \"latitude\", \"as\": \"mean_latitude\"}], \"groupby\": [\"country\", \"region\", \"city\"]}], \"width\": 600}], \"$schema\": \"https://vega.github.io/schema/vega-lite/v4.8.1.json\"}, {\"mode\": \"vega-lite\"});\n",
       "</script>"
      ],
      "text/plain": [
       "alt.LayerChart(...)"
      ]
     },
     "execution_count": 23,
     "metadata": {},
     "output_type": "execute_result"
    }
   ],
   "source": [
    "# If you had done before\n",
    "# from vega_datasets import data\n",
    "# states = alt.topo_feature(data.us_10m.url, 'states')\n",
    "\n",
    "states = alt.topo_feature('https://vega.github.io/vega-datasets/data/us-10m.json', 'states')\n",
    "proj_type = 'albersUsa'\n",
    "width = 600\n",
    "height = 400\n",
    "\n",
    "background = alt.Chart(states).mark_geoshape(\n",
    "    fill='#e5d8bd',\n",
    "    stroke='white',\n",
    "    opacity=0.5\n",
    ").project(\n",
    "    type = proj_type\n",
    ").properties(\n",
    "    width = width,\n",
    "    height = height\n",
    ")\n",
    "\n",
    "points = alt.Chart(pageviews).mark_circle(\n",
    "    opacity = 0.5,\n",
    "    color = '#7570b3'\n",
    ").encode(\n",
    "    longitude = 'mean_longitude:Q',\n",
    "    latitude = 'mean_latitude:Q',\n",
    "    size = 'sum_visitors:Q',\n",
    "    tooltip=alt.Tooltip(['region:N', 'city:N', 'sum_visitors:Q']),\n",
    ").transform_filter(\n",
    "    (datum.country == 'United States') & (datum.region != 'North Carolina')\n",
    ").transform_aggregate(\n",
    "    sum_visitors = 'sum(visitors)',\n",
    "    mean_longitude = 'mean(longitude)',\n",
    "    mean_latitude = 'mean(latitude)',\n",
    "    groupby=['country','region','city']\n",
    ").project(\n",
    "    type = proj_type\n",
    ").properties(\n",
    "    width = width,\n",
    "    height = height\n",
    ")\n",
    "\n",
    "background + points"
   ]
  },
  {
   "cell_type": "markdown",
   "metadata": {},
   "source": [
    "### Map of non-NC US cities\n",
    "\n",
    "Aggregation and filtering in Pandas"
   ]
  },
  {
   "cell_type": "code",
   "execution_count": 24,
   "metadata": {},
   "outputs": [
    {
     "data": {
      "text/html": [
       "\n",
       "<div id=\"altair-viz-f791e900cdba438aa83d6b53c178bb34\"></div>\n",
       "<script type=\"text/javascript\">\n",
       "  (function(spec, embedOpt){\n",
       "    let outputDiv = document.currentScript.previousElementSibling;\n",
       "    if (outputDiv.id !== \"altair-viz-f791e900cdba438aa83d6b53c178bb34\") {\n",
       "      outputDiv = document.getElementById(\"altair-viz-f791e900cdba438aa83d6b53c178bb34\");\n",
       "    }\n",
       "    const paths = {\n",
       "      \"vega\": \"https://cdn.jsdelivr.net/npm//vega@5?noext\",\n",
       "      \"vega-lib\": \"https://cdn.jsdelivr.net/npm//vega-lib?noext\",\n",
       "      \"vega-lite\": \"https://cdn.jsdelivr.net/npm//vega-lite@4.8.1?noext\",\n",
       "      \"vega-embed\": \"https://cdn.jsdelivr.net/npm//vega-embed@6?noext\",\n",
       "    };\n",
       "\n",
       "    function loadScript(lib) {\n",
       "      return new Promise(function(resolve, reject) {\n",
       "        var s = document.createElement('script');\n",
       "        s.src = paths[lib];\n",
       "        s.async = true;\n",
       "        s.onload = () => resolve(paths[lib]);\n",
       "        s.onerror = () => reject(`Error loading script: ${paths[lib]}`);\n",
       "        document.getElementsByTagName(\"head\")[0].appendChild(s);\n",
       "      });\n",
       "    }\n",
       "\n",
       "    function showError(err) {\n",
       "      outputDiv.innerHTML = `<div class=\"error\" style=\"color:red;\">${err}</div>`;\n",
       "      throw err;\n",
       "    }\n",
       "\n",
       "    function displayChart(vegaEmbed) {\n",
       "      vegaEmbed(outputDiv, spec, embedOpt)\n",
       "        .catch(err => showError(`Javascript Error: ${err.message}<br>This usually means there's a typo in your chart specification. See the javascript console for the full traceback.`));\n",
       "    }\n",
       "\n",
       "    if(typeof define === \"function\" && define.amd) {\n",
       "      requirejs.config({paths});\n",
       "      require([\"vega-embed\"], displayChart, err => showError(`Error loading script: ${err.message}`));\n",
       "    } else if (typeof vegaEmbed === \"function\") {\n",
       "      displayChart(vegaEmbed);\n",
       "    } else {\n",
       "      loadScript(\"vega\")\n",
       "        .then(() => loadScript(\"vega-lite\"))\n",
       "        .then(() => loadScript(\"vega-embed\"))\n",
       "        .catch(showError)\n",
       "        .then(() => displayChart(vegaEmbed));\n",
       "    }\n",
       "  })({\"config\": {\"view\": {\"continuousWidth\": 400, \"continuousHeight\": 300}}, \"layer\": [{\"data\": {\"url\": \"https://vega.github.io/vega-datasets/data/us-10m.json\", \"format\": {\"feature\": \"states\", \"type\": \"topojson\"}}, \"mark\": {\"type\": \"geoshape\", \"fill\": \"#e5d8bd\", \"opacity\": 0.5, \"stroke\": \"white\"}, \"height\": 400, \"projection\": {\"type\": \"albersUsa\"}, \"width\": 600}, {\"data\": {\"url\": \"files/altair-data-7c3bc6a6ac0b75cbb2f3b89d2a5a1da2.json\", \"format\": {\"type\": \"json\"}}, \"mark\": {\"type\": \"circle\", \"color\": \"#7570b3\", \"opacity\": 0.5}, \"encoding\": {\"latitude\": {\"field\": \"latitude\", \"type\": \"quantitative\"}, \"longitude\": {\"field\": \"longitude\", \"type\": \"quantitative\"}, \"size\": {\"type\": \"quantitative\", \"field\": \"visitors\"}, \"tooltip\": [{\"type\": \"nominal\", \"field\": \"region\"}, {\"type\": \"nominal\", \"field\": \"city\"}, {\"type\": \"quantitative\", \"field\": \"visitors\"}]}, \"height\": 400, \"projection\": {\"type\": \"albersUsa\"}, \"width\": 600}], \"$schema\": \"https://vega.github.io/schema/vega-lite/v4.8.1.json\"}, {\"mode\": \"vega-lite\"});\n",
       "</script>"
      ],
      "text/plain": [
       "alt.LayerChart(...)"
      ]
     },
     "execution_count": 24,
     "metadata": {},
     "output_type": "execute_result"
    }
   ],
   "source": [
    "states = alt.topo_feature('https://vega.github.io/vega-datasets/data/us-10m.json', 'states')\n",
    "proj_type = 'albersUsa'\n",
    "width = 600\n",
    "height = 400\n",
    "\n",
    "background = alt.Chart(states).mark_geoshape(\n",
    "    fill='#e5d8bd',\n",
    "    stroke='white',\n",
    "    opacity=0.5\n",
    ").project(\n",
    "    type = proj_type\n",
    ").properties(\n",
    "    width = width,\n",
    "    height = height\n",
    ")\n",
    "\n",
    "no_nc_usa_city = no_nc_city.loc[no_nc_city.country == 'United States']\n",
    "\n",
    "points = alt.Chart(no_nc_usa_city).mark_circle(\n",
    "    opacity = 0.5,\n",
    "    color = '#7570b3'\n",
    ").encode(\n",
    "    longitude='longitude:Q',\n",
    "    latitude='latitude:Q',\n",
    "    size='visitors:Q',\n",
    "    tooltip=alt.Tooltip(['region:N', 'city:N', 'visitors:Q']),\n",
    ").project(\n",
    "    type = proj_type\n",
    ").properties(\n",
    "    width = width,\n",
    "    height = height\n",
    ")\n",
    "\n",
    "background + points"
   ]
  }
 ],
 "metadata": {
  "kernelspec": {
   "display_name": "Python 3",
   "language": "python",
   "name": "python3"
  },
  "language_info": {
   "codemirror_mode": {
    "name": "ipython",
    "version": 3
   },
   "file_extension": ".py",
   "mimetype": "text/x-python",
   "name": "python",
   "nbconvert_exporter": "python",
   "pygments_lexer": "ipython3",
   "version": "3.8.5"
  }
 },
 "nbformat": 4,
 "nbformat_minor": 4
}
