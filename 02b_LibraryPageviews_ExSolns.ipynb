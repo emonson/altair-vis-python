{
 "cells": [
  {
   "cell_type": "markdown",
   "metadata": {},
   "source": [
    "# Library pageviews data\n",
    "\n",
    "This is data from Google Analytics on a subset of library item web page views from 2012.\n",
    "\n",
    "It has been severely reduced in size so that we can learn more about how to explore using Altair. You can see a version that deals with about a 20x larger subset in the `20_LibraryPageviews.ipynb` in this same repository."
   ]
  },
  {
   "cell_type": "code",
   "execution_count": 1,
   "metadata": {},
   "outputs": [],
   "source": [
    "import pandas as pd\n",
    "import altair as alt\n",
    "from altair import datum"
   ]
  },
  {
   "cell_type": "code",
   "execution_count": 2,
   "metadata": {},
   "outputs": [
    {
     "data": {
      "text/html": [
       "<div>\n",
       "<style scoped>\n",
       "    .dataframe tbody tr th:only-of-type {\n",
       "        vertical-align: middle;\n",
       "    }\n",
       "\n",
       "    .dataframe tbody tr th {\n",
       "        vertical-align: top;\n",
       "    }\n",
       "\n",
       "    .dataframe thead th {\n",
       "        text-align: right;\n",
       "    }\n",
       "</style>\n",
       "<table border=\"1\" class=\"dataframe\">\n",
       "  <thead>\n",
       "    <tr style=\"text-align: right;\">\n",
       "      <th></th>\n",
       "      <th>timestamp</th>\n",
       "      <th>visitors</th>\n",
       "      <th>city</th>\n",
       "      <th>region</th>\n",
       "      <th>country</th>\n",
       "      <th>longitude</th>\n",
       "      <th>latitude</th>\n",
       "      <th>lcc_description</th>\n",
       "    </tr>\n",
       "  </thead>\n",
       "  <tbody>\n",
       "    <tr>\n",
       "      <th>0</th>\n",
       "      <td>2012-01-01 16:00:00</td>\n",
       "      <td>1</td>\n",
       "      <td>Montreal</td>\n",
       "      <td>Quebec</td>\n",
       "      <td>Canada</td>\n",
       "      <td>-73.5542</td>\n",
       "      <td>45.5089</td>\n",
       "      <td>Military Science</td>\n",
       "    </tr>\n",
       "    <tr>\n",
       "      <th>1</th>\n",
       "      <td>2012-01-01 13:00:00</td>\n",
       "      <td>1</td>\n",
       "      <td>Durham</td>\n",
       "      <td>North Carolina</td>\n",
       "      <td>United States</td>\n",
       "      <td>-78.8986</td>\n",
       "      <td>35.9940</td>\n",
       "      <td>History Of The Americas</td>\n",
       "    </tr>\n",
       "    <tr>\n",
       "      <th>2</th>\n",
       "      <td>2012-01-01 10:00:00</td>\n",
       "      <td>1</td>\n",
       "      <td>Edinburgh</td>\n",
       "      <td>Scotland</td>\n",
       "      <td>United Kingdom</td>\n",
       "      <td>-3.1875</td>\n",
       "      <td>55.9502</td>\n",
       "      <td>Social Sciences</td>\n",
       "    </tr>\n",
       "    <tr>\n",
       "      <th>3</th>\n",
       "      <td>2012-01-01 18:00:00</td>\n",
       "      <td>1</td>\n",
       "      <td>Plymouth</td>\n",
       "      <td>England</td>\n",
       "      <td>United Kingdom</td>\n",
       "      <td>-4.1427</td>\n",
       "      <td>50.3704</td>\n",
       "      <td>NaN</td>\n",
       "    </tr>\n",
       "    <tr>\n",
       "      <th>4</th>\n",
       "      <td>2012-01-01 09:00:00</td>\n",
       "      <td>1</td>\n",
       "      <td>Edinburgh</td>\n",
       "      <td>Scotland</td>\n",
       "      <td>United Kingdom</td>\n",
       "      <td>-3.1875</td>\n",
       "      <td>55.9502</td>\n",
       "      <td>Social Sciences</td>\n",
       "    </tr>\n",
       "  </tbody>\n",
       "</table>\n",
       "</div>"
      ],
      "text/plain": [
       "            timestamp  visitors       city          region         country  \\\n",
       "0 2012-01-01 16:00:00         1   Montreal          Quebec          Canada   \n",
       "1 2012-01-01 13:00:00         1     Durham  North Carolina   United States   \n",
       "2 2012-01-01 10:00:00         1  Edinburgh        Scotland  United Kingdom   \n",
       "3 2012-01-01 18:00:00         1   Plymouth         England  United Kingdom   \n",
       "4 2012-01-01 09:00:00         1  Edinburgh        Scotland  United Kingdom   \n",
       "\n",
       "   longitude  latitude          lcc_description  \n",
       "0   -73.5542   45.5089         Military Science  \n",
       "1   -78.8986   35.9940  History Of The Americas  \n",
       "2    -3.1875   55.9502          Social Sciences  \n",
       "3    -4.1427   50.3704                      NaN  \n",
       "4    -3.1875   55.9502          Social Sciences  "
      ]
     },
     "execution_count": 2,
     "metadata": {},
     "output_type": "execute_result"
    }
   ],
   "source": [
    "pageviews = pd.read_csv('data/pageviews_2012_small.csv')\n",
    "pageviews['timestamp'] = pd.to_datetime(pageviews.timestamp)\n",
    "pageviews.head()"
   ]
  },
  {
   "cell_type": "markdown",
   "metadata": {},
   "source": [
    "### Using VegaFusion to get around MaxRowsError"
   ]
  },
  {
   "cell_type": "code",
   "execution_count": 3,
   "metadata": {},
   "outputs": [
    {
     "data": {
      "text/plain": [
       "vegafusion.enable(mimetype='html', row_limit=10000, embed_options=None)"
      ]
     },
     "execution_count": 3,
     "metadata": {},
     "output_type": "execute_result"
    }
   ],
   "source": [
    "import vegafusion as vf\n",
    "vf.enable()"
   ]
  },
  {
   "cell_type": "markdown",
   "metadata": {},
   "source": [
    "---\n",
    "\n",
    "## EXERCISE 1: Horizontal bars of visitors per country\n",
    "\n",
    "Make a bar chart of \n",
    "- *sum of the number of visitors over all the data* – horizontal (bottom) axis\n",
    "- *per country* – vertical axis\n",
    "\n",
    "```\n",
    "alt.Chart(----).mark_----().encode(\n",
    "    x = ----,\n",
    "    y = ----\n",
    ")\n",
    "```\n",
    "\n",
    "- **Copy the code chunk above,** \n",
    "- **paste it into the cell below, then** \n",
    "- **replace the dashes with correct code.**"
   ]
  },
  {
   "cell_type": "code",
   "execution_count": 4,
   "metadata": {},
   "outputs": [
    {
     "data": {
      "text/html": [
       "\n",
       "<style>\n",
       "  #altair-viz-373b09671c7c47f88742367e2ecb30c5.vega-embed {\n",
       "    width: 100%;\n",
       "    display: flex;\n",
       "  }\n",
       "\n",
       "  #altair-viz-373b09671c7c47f88742367e2ecb30c5.vega-embed details,\n",
       "  #altair-viz-373b09671c7c47f88742367e2ecb30c5.vega-embed details summary {\n",
       "    position: relative;\n",
       "  }\n",
       "</style>\n",
       "<div id=\"altair-viz-373b09671c7c47f88742367e2ecb30c5\"></div>\n",
       "<script type=\"text/javascript\">\n",
       "  var VEGA_DEBUG = (typeof VEGA_DEBUG == \"undefined\") ? {} : VEGA_DEBUG;\n",
       "  (function(spec, embedOpt){\n",
       "    let outputDiv = document.currentScript.previousElementSibling;\n",
       "    if (outputDiv.id !== \"altair-viz-373b09671c7c47f88742367e2ecb30c5\") {\n",
       "      outputDiv = document.getElementById(\"altair-viz-373b09671c7c47f88742367e2ecb30c5\");\n",
       "    }\n",
       "    const paths = {\n",
       "      \"vega\": \"https://cdn.jsdelivr.net/npm/vega@5?noext\",\n",
       "      \"vega-lib\": \"https://cdn.jsdelivr.net/npm/vega-lib?noext\",\n",
       "      \"vega-lite\": \"https://cdn.jsdelivr.net/npm/vega-lite@5.8.0?noext\",\n",
       "      \"vega-embed\": \"https://cdn.jsdelivr.net/npm/vega-embed@6?noext\",\n",
       "    };\n",
       "\n",
       "    function maybeLoadScript(lib, version) {\n",
       "      var key = `${lib.replace(\"-\", \"\")}_version`;\n",
       "      return (VEGA_DEBUG[key] == version) ?\n",
       "        Promise.resolve(paths[lib]) :\n",
       "        new Promise(function(resolve, reject) {\n",
       "          var s = document.createElement('script');\n",
       "          document.getElementsByTagName(\"head\")[0].appendChild(s);\n",
       "          s.async = true;\n",
       "          s.onload = () => {\n",
       "            VEGA_DEBUG[key] = version;\n",
       "            return resolve(paths[lib]);\n",
       "          };\n",
       "          s.onerror = () => reject(`Error loading script: ${paths[lib]}`);\n",
       "          s.src = paths[lib];\n",
       "        });\n",
       "    }\n",
       "\n",
       "    function showError(err) {\n",
       "      outputDiv.innerHTML = `<div class=\"error\" style=\"color:red;\">${err}</div>`;\n",
       "      throw err;\n",
       "    }\n",
       "\n",
       "    function displayChart(vegaEmbed) {\n",
       "      vegaEmbed(outputDiv, spec, embedOpt)\n",
       "        .catch(err => showError(`Javascript Error: ${err.message}<br>This usually means there's a typo in your chart specification. See the javascript console for the full traceback.`));\n",
       "    }\n",
       "\n",
       "    if(typeof define === \"function\" && define.amd) {\n",
       "      requirejs.config({paths});\n",
       "      require([\"vega-embed\"], displayChart, err => showError(`Error loading script: ${err.message}`));\n",
       "    } else {\n",
       "      maybeLoadScript(\"vega\", \"5\")\n",
       "        .then(() => maybeLoadScript(\"vega-lite\", \"5.8.0\"))\n",
       "        .then(() => maybeLoadScript(\"vega-embed\", \"6\"))\n",
       "        .catch(showError)\n",
       "        .then(() => displayChart(vegaEmbed));\n",
       "    }\n",
       "  })({\"$schema\": \"https://vega.github.io/schema/vega/v5.json\", \"data\": [{\"name\": \"source_0\", \"values\": [{\"country\": \"Canada\", \"sum_visitors\": 2718}, {\"country\": \"United States\", \"sum_visitors\": 5241}, {\"country\": \"United Kingdom\", \"sum_visitors\": 2428}]}, {\"name\": \"source_0_x_domain_sum_visitors\", \"values\": [{\"min\": 2428, \"max\": 5241}]}, {\"name\": \"source_0_y_domain_country\", \"values\": [{\"country\": \"Canada\"}, {\"country\": \"United States\"}, {\"country\": \"United Kingdom\"}]}], \"signals\": [{\"name\": \"y_step\", \"value\": 20}, {\"name\": \"height\", \"update\": \"bandspace(domain('y').length, 0.1, 0.05) * y_step\"}], \"marks\": [{\"type\": \"rect\", \"name\": \"marks\", \"from\": {\"data\": \"source_0\"}, \"encode\": {\"update\": {\"x2\": {\"value\": 0, \"scale\": \"x\"}, \"fill\": {\"value\": \"#4c78a8\"}, \"description\": {\"signal\": \"\\\"Sum of visitors: \\\" + (format(datum[\\\"sum_visitors\\\"], \\\"\\\")) + \\\"; country: \\\" + (isValid(datum[\\\"country\\\"]) ? datum[\\\"country\\\"] : \\\"\\\"+datum[\\\"country\\\"])\"}, \"ariaRoleDescription\": {\"value\": \"bar\"}, \"y\": {\"field\": \"country\", \"scale\": \"y\"}, \"height\": {\"signal\": \"max(0.25, bandwidth('y'))\"}, \"x\": {\"field\": \"sum_visitors\", \"scale\": \"x\"}}}, \"style\": [\"bar\"]}], \"scales\": [{\"name\": \"x\", \"type\": \"linear\", \"domain\": [{\"signal\": \"(data(\\\"source_0_x_domain_sum_visitors\\\")[0] || {}).min\"}, {\"signal\": \"(data(\\\"source_0_x_domain_sum_visitors\\\")[0] || {}).max\"}], \"range\": [0, {\"signal\": \"width\"}], \"nice\": true, \"zero\": true}, {\"name\": \"y\", \"type\": \"band\", \"domain\": {\"data\": \"source_0_y_domain_country\", \"field\": \"country\", \"sort\": true}, \"range\": {\"step\": {\"signal\": \"y_step\"}}, \"paddingInner\": 0.1, \"paddingOuter\": 0.05}], \"axes\": [{\"scale\": \"x\", \"orient\": \"bottom\", \"tickCount\": {\"signal\": \"ceil(width/40)\"}, \"maxExtent\": 0, \"labels\": false, \"zindex\": 0, \"aria\": false, \"gridScale\": \"y\", \"ticks\": false, \"grid\": true, \"domain\": false, \"minExtent\": 0}, {\"scale\": \"x\", \"orient\": \"bottom\", \"tickCount\": {\"signal\": \"ceil(width/40)\"}, \"labelOverlap\": true, \"zindex\": 0, \"labelFlush\": true, \"grid\": false, \"title\": \"Sum of visitors\"}, {\"scale\": \"y\", \"grid\": false, \"zindex\": 0, \"title\": \"country\", \"orient\": \"left\"}], \"background\": \"white\", \"style\": \"cell\", \"padding\": 5, \"width\": 300}, {\"mode\": \"vega\"});\n",
       "</script>"
      ],
      "text/plain": [
       "alt.Chart(...)"
      ]
     },
     "execution_count": 4,
     "metadata": {},
     "output_type": "execute_result"
    }
   ],
   "source": [
    "alt.Chart(pageviews).mark_bar().encode(\n",
    "    x = 'sum(visitors)',\n",
    "    y = 'country'\n",
    ")"
   ]
  },
  {
   "cell_type": "markdown",
   "metadata": {},
   "source": [
    "---\n",
    "\n",
    "## EXERCISE 2: Weekday vs hour of day heatmap\n",
    "\n",
    "A heatmap is a compact way to view typical patterns throughout the day, and how that varies by weekday.\n",
    "\n",
    "Now, put together the earlier examples to create the visualization below. Days of the week are on the vertical axis, hours of the day are on the horizontal, and color is the number of visitors. *(I've removed some of the axis labels to hide hints from you.)*\n",
    "\n",
    "*Hint: you need to change from a Time data type to Ordinal to get discreet marks*"
   ]
  },
  {
   "cell_type": "code",
   "execution_count": 5,
   "metadata": {},
   "outputs": [
    {
     "data": {
      "text/html": [
       "\n",
       "<style>\n",
       "  #altair-viz-49677890f4484723a9be38e90ec49d4c.vega-embed {\n",
       "    width: 100%;\n",
       "    display: flex;\n",
       "  }\n",
       "\n",
       "  #altair-viz-49677890f4484723a9be38e90ec49d4c.vega-embed details,\n",
       "  #altair-viz-49677890f4484723a9be38e90ec49d4c.vega-embed details summary {\n",
       "    position: relative;\n",
       "  }\n",
       "</style>\n",
       "<div id=\"altair-viz-49677890f4484723a9be38e90ec49d4c\"></div>\n",
       "<script type=\"text/javascript\">\n",
       "  var VEGA_DEBUG = (typeof VEGA_DEBUG == \"undefined\") ? {} : VEGA_DEBUG;\n",
       "  (function(spec, embedOpt){\n",
       "    let outputDiv = document.currentScript.previousElementSibling;\n",
       "    if (outputDiv.id !== \"altair-viz-49677890f4484723a9be38e90ec49d4c\") {\n",
       "      outputDiv = document.getElementById(\"altair-viz-49677890f4484723a9be38e90ec49d4c\");\n",
       "    }\n",
       "    const paths = {\n",
       "      \"vega\": \"https://cdn.jsdelivr.net/npm/vega@5?noext\",\n",
       "      \"vega-lib\": \"https://cdn.jsdelivr.net/npm/vega-lib?noext\",\n",
       "      \"vega-lite\": \"https://cdn.jsdelivr.net/npm/vega-lite@5.8.0?noext\",\n",
       "      \"vega-embed\": \"https://cdn.jsdelivr.net/npm/vega-embed@6?noext\",\n",
       "    };\n",
       "\n",
       "    function maybeLoadScript(lib, version) {\n",
       "      var key = `${lib.replace(\"-\", \"\")}_version`;\n",
       "      return (VEGA_DEBUG[key] == version) ?\n",
       "        Promise.resolve(paths[lib]) :\n",
       "        new Promise(function(resolve, reject) {\n",
       "          var s = document.createElement('script');\n",
       "          document.getElementsByTagName(\"head\")[0].appendChild(s);\n",
       "          s.async = true;\n",
       "          s.onload = () => {\n",
       "            VEGA_DEBUG[key] = version;\n",
       "            return resolve(paths[lib]);\n",
       "          };\n",
       "          s.onerror = () => reject(`Error loading script: ${paths[lib]}`);\n",
       "          s.src = paths[lib];\n",
       "        });\n",
       "    }\n",
       "\n",
       "    function showError(err) {\n",
       "      outputDiv.innerHTML = `<div class=\"error\" style=\"color:red;\">${err}</div>`;\n",
       "      throw err;\n",
       "    }\n",
       "\n",
       "    function displayChart(vegaEmbed) {\n",
       "      vegaEmbed(outputDiv, spec, embedOpt)\n",
       "        .catch(err => showError(`Javascript Error: ${err.message}<br>This usually means there's a typo in your chart specification. See the javascript console for the full traceback.`));\n",
       "    }\n",
       "\n",
       "    if(typeof define === \"function\" && define.amd) {\n",
       "      requirejs.config({paths});\n",
       "      require([\"vega-embed\"], displayChart, err => showError(`Error loading script: ${err.message}`));\n",
       "    } else {\n",
       "      maybeLoadScript(\"vega\", \"5\")\n",
       "        .then(() => maybeLoadScript(\"vega-lite\", \"5.8.0\"))\n",
       "        .then(() => maybeLoadScript(\"vega-embed\", \"6\"))\n",
       "        .catch(showError)\n",
       "        .then(() => displayChart(vegaEmbed));\n",
       "    }\n",
       "  })({\"$schema\": \"https://vega.github.io/schema/vega/v5.json\", \"data\": [{\"name\": \"source_0\", \"values\": [{\"day_timestamp\": \"2012-01-01T00:00:00.000\", \"hours_timestamp\": \"2012-01-01T16:00:00.000\", \"sum_visitors\": 79}, {\"day_timestamp\": \"2012-01-01T00:00:00.000\", \"hours_timestamp\": \"2012-01-01T13:00:00.000\", \"sum_visitors\": 90}, {\"day_timestamp\": \"2012-01-01T00:00:00.000\", \"hours_timestamp\": \"2012-01-01T10:00:00.000\", \"sum_visitors\": 39}, {\"day_timestamp\": \"2012-01-01T00:00:00.000\", \"hours_timestamp\": \"2012-01-01T18:00:00.000\", \"sum_visitors\": 66}, {\"day_timestamp\": \"2012-01-01T00:00:00.000\", \"hours_timestamp\": \"2012-01-01T09:00:00.000\", \"sum_visitors\": 48}, {\"day_timestamp\": \"2012-01-01T00:00:00.000\", \"hours_timestamp\": \"2012-01-01T04:00:00.000\", \"sum_visitors\": 9}, {\"day_timestamp\": \"2012-01-01T00:00:00.000\", \"hours_timestamp\": \"2012-01-01T14:00:00.000\", \"sum_visitors\": 82}, {\"day_timestamp\": \"2012-01-01T00:00:00.000\", \"hours_timestamp\": \"2012-01-01T15:00:00.000\", \"sum_visitors\": 97}, {\"day_timestamp\": \"2012-01-02T00:00:00.000\", \"hours_timestamp\": \"2012-01-01T13:00:00.000\", \"sum_visitors\": 144}, {\"day_timestamp\": \"2012-01-02T00:00:00.000\", \"hours_timestamp\": \"2012-01-01T17:00:00.000\", \"sum_visitors\": 86}, {\"day_timestamp\": \"2012-01-02T00:00:00.000\", \"hours_timestamp\": \"2012-01-01T22:00:00.000\", \"sum_visitors\": 43}, {\"day_timestamp\": \"2012-01-02T00:00:00.000\", \"hours_timestamp\": \"2012-01-01T18:00:00.000\", \"sum_visitors\": 76}, {\"day_timestamp\": \"2012-01-02T00:00:00.000\", \"hours_timestamp\": \"2012-01-01T08:00:00.000\", \"sum_visitors\": 73}, {\"day_timestamp\": \"2012-01-02T00:00:00.000\", \"hours_timestamp\": \"2012-01-01T20:00:00.000\", \"sum_visitors\": 62}, {\"day_timestamp\": \"2012-01-02T00:00:00.000\", \"hours_timestamp\": \"2012-01-01T00:00:00.000\", \"sum_visitors\": 35}, {\"day_timestamp\": \"2012-01-02T00:00:00.000\", \"hours_timestamp\": \"2012-01-01T15:00:00.000\", \"sum_visitors\": 142}, {\"day_timestamp\": \"2012-01-02T00:00:00.000\", \"hours_timestamp\": \"2012-01-01T01:00:00.000\", \"sum_visitors\": 23}, {\"day_timestamp\": \"2012-01-03T00:00:00.000\", \"hours_timestamp\": \"2012-01-01T10:00:00.000\", \"sum_visitors\": 131}, {\"day_timestamp\": \"2012-01-03T00:00:00.000\", \"hours_timestamp\": \"2012-01-01T13:00:00.000\", \"sum_visitors\": 131}, {\"day_timestamp\": \"2012-01-03T00:00:00.000\", \"hours_timestamp\": \"2012-01-01T09:00:00.000\", \"sum_visitors\": 111}, {\"day_timestamp\": \"2012-01-03T00:00:00.000\", \"hours_timestamp\": \"2012-01-01T14:00:00.000\", \"sum_visitors\": 137}, {\"day_timestamp\": \"2012-01-03T00:00:00.000\", \"hours_timestamp\": \"2012-01-01T15:00:00.000\", \"sum_visitors\": 157}, {\"day_timestamp\": \"2012-01-03T00:00:00.000\", \"hours_timestamp\": \"2012-01-01T12:00:00.000\", \"sum_visitors\": 133}, {\"day_timestamp\": \"2012-01-03T00:00:00.000\", \"hours_timestamp\": \"2012-01-01T05:00:00.000\", \"sum_visitors\": 19}, {\"day_timestamp\": \"2012-01-03T00:00:00.000\", \"hours_timestamp\": \"2012-01-01T17:00:00.000\", \"sum_visitors\": 101}, {\"day_timestamp\": \"2012-01-03T00:00:00.000\", \"hours_timestamp\": \"2012-01-01T01:00:00.000\", \"sum_visitors\": 31}, {\"day_timestamp\": \"2012-01-03T00:00:00.000\", \"hours_timestamp\": \"2012-01-01T16:00:00.000\", \"sum_visitors\": 142}, {\"day_timestamp\": \"2012-01-03T00:00:00.000\", \"hours_timestamp\": \"2012-01-01T07:00:00.000\", \"sum_visitors\": 54}, {\"day_timestamp\": \"2012-01-04T00:00:00.000\", \"hours_timestamp\": \"2012-01-01T09:00:00.000\", \"sum_visitors\": 115}, {\"day_timestamp\": \"2012-01-04T00:00:00.000\", \"hours_timestamp\": \"2012-01-01T21:00:00.000\", \"sum_visitors\": 72}, {\"day_timestamp\": \"2012-01-04T00:00:00.000\", \"hours_timestamp\": \"2012-01-01T07:00:00.000\", \"sum_visitors\": 49}, {\"day_timestamp\": \"2012-01-04T00:00:00.000\", \"hours_timestamp\": \"2012-01-01T18:00:00.000\", \"sum_visitors\": 75}, {\"day_timestamp\": \"2012-01-04T00:00:00.000\", \"hours_timestamp\": \"2012-01-01T16:00:00.000\", \"sum_visitors\": 125}, {\"day_timestamp\": \"2012-01-04T00:00:00.000\", \"hours_timestamp\": \"2012-01-01T10:00:00.000\", \"sum_visitors\": 150}, {\"day_timestamp\": \"2012-01-04T00:00:00.000\", \"hours_timestamp\": \"2012-01-01T14:00:00.000\", \"sum_visitors\": 138}, {\"day_timestamp\": \"2012-01-04T00:00:00.000\", \"hours_timestamp\": \"2012-01-01T12:00:00.000\", \"sum_visitors\": 130}, {\"day_timestamp\": \"2012-01-04T00:00:00.000\", \"hours_timestamp\": \"2012-01-01T17:00:00.000\", \"sum_visitors\": 97}, {\"day_timestamp\": \"2012-01-04T00:00:00.000\", \"hours_timestamp\": \"2012-01-01T03:00:00.000\", \"sum_visitors\": 19}, {\"day_timestamp\": \"2012-01-04T00:00:00.000\", \"hours_timestamp\": \"2012-01-01T13:00:00.000\", \"sum_visitors\": 115}, {\"day_timestamp\": \"2012-01-04T00:00:00.000\", \"hours_timestamp\": \"2012-01-01T00:00:00.000\", \"sum_visitors\": 33}, {\"day_timestamp\": \"2012-01-04T00:00:00.000\", \"hours_timestamp\": \"2012-01-01T11:00:00.000\", \"sum_visitors\": 123}, {\"day_timestamp\": \"2012-01-04T00:00:00.000\", \"hours_timestamp\": \"2012-01-01T23:00:00.000\", \"sum_visitors\": 44}, {\"day_timestamp\": \"2012-01-04T00:00:00.000\", \"hours_timestamp\": \"2012-01-01T15:00:00.000\", \"sum_visitors\": 133}, {\"day_timestamp\": \"2012-01-05T00:00:00.000\", \"hours_timestamp\": \"2012-01-01T13:00:00.000\", \"sum_visitors\": 140}, {\"day_timestamp\": \"2012-01-05T00:00:00.000\", \"hours_timestamp\": \"2012-01-01T15:00:00.000\", \"sum_visitors\": 140}, {\"day_timestamp\": \"2012-01-05T00:00:00.000\", \"hours_timestamp\": \"2012-01-01T08:00:00.000\", \"sum_visitors\": 61}, {\"day_timestamp\": \"2012-01-05T00:00:00.000\", \"hours_timestamp\": \"2012-01-01T17:00:00.000\", \"sum_visitors\": 83}, {\"day_timestamp\": \"2012-01-05T00:00:00.000\", \"hours_timestamp\": \"2012-01-01T16:00:00.000\", \"sum_visitors\": 132}, {\"day_timestamp\": \"2012-01-05T00:00:00.000\", \"hours_timestamp\": \"2012-01-01T06:00:00.000\", \"sum_visitors\": 39}, {\"day_timestamp\": \"2012-01-05T00:00:00.000\", \"hours_timestamp\": \"2012-01-01T22:00:00.000\", \"sum_visitors\": 31}, {\"day_timestamp\": \"2012-01-05T00:00:00.000\", \"hours_timestamp\": \"2012-01-01T12:00:00.000\", \"sum_visitors\": 122}, {\"day_timestamp\": \"2012-01-05T00:00:00.000\", \"hours_timestamp\": \"2012-01-01T09:00:00.000\", \"sum_visitors\": 97}, {\"day_timestamp\": \"2012-01-05T00:00:00.000\", \"hours_timestamp\": \"2012-01-01T23:00:00.000\", \"sum_visitors\": 30}, {\"day_timestamp\": \"2012-01-05T00:00:00.000\", \"hours_timestamp\": \"2012-01-01T20:00:00.000\", \"sum_visitors\": 50}, {\"day_timestamp\": \"2012-01-05T00:00:00.000\", \"hours_timestamp\": \"2012-01-01T10:00:00.000\", \"sum_visitors\": 125}, {\"day_timestamp\": \"2012-01-06T00:00:00.000\", \"hours_timestamp\": \"2012-01-01T11:00:00.000\", \"sum_visitors\": 127}, {\"day_timestamp\": \"2012-01-06T00:00:00.000\", \"hours_timestamp\": \"2012-01-01T16:00:00.000\", \"sum_visitors\": 113}, {\"day_timestamp\": \"2012-01-06T00:00:00.000\", \"hours_timestamp\": \"2012-01-01T17:00:00.000\", \"sum_visitors\": 66}, {\"day_timestamp\": \"2012-01-06T00:00:00.000\", \"hours_timestamp\": \"2012-01-01T10:00:00.000\", \"sum_visitors\": 106}, {\"day_timestamp\": \"2012-01-06T00:00:00.000\", \"hours_timestamp\": \"2012-01-01T19:00:00.000\", \"sum_visitors\": 42}, {\"day_timestamp\": \"2012-01-06T00:00:00.000\", \"hours_timestamp\": \"2012-01-01T15:00:00.000\", \"sum_visitors\": 123}, {\"day_timestamp\": \"2012-01-06T00:00:00.000\", \"hours_timestamp\": \"2012-01-01T13:00:00.000\", \"sum_visitors\": 108}, {\"day_timestamp\": \"2012-01-06T00:00:00.000\", \"hours_timestamp\": \"2012-01-01T14:00:00.000\", \"sum_visitors\": 142}, {\"day_timestamp\": \"2012-01-06T00:00:00.000\", \"hours_timestamp\": \"2012-01-01T05:00:00.000\", \"sum_visitors\": 32}, {\"day_timestamp\": \"2012-01-06T00:00:00.000\", \"hours_timestamp\": \"2012-01-01T08:00:00.000\", \"sum_visitors\": 44}, {\"day_timestamp\": \"2012-01-06T00:00:00.000\", \"hours_timestamp\": \"2012-01-01T20:00:00.000\", \"sum_visitors\": 41}, {\"day_timestamp\": \"2012-01-06T00:00:00.000\", \"hours_timestamp\": \"2012-01-01T12:00:00.000\", \"sum_visitors\": 103}, {\"day_timestamp\": \"2012-01-07T00:00:00.000\", \"hours_timestamp\": \"2012-01-01T10:00:00.000\", \"sum_visitors\": 45}, {\"day_timestamp\": \"2012-01-07T00:00:00.000\", \"hours_timestamp\": \"2012-01-01T19:00:00.000\", \"sum_visitors\": 44}, {\"day_timestamp\": \"2012-01-07T00:00:00.000\", \"hours_timestamp\": \"2012-01-01T02:00:00.000\", \"sum_visitors\": 11}, {\"day_timestamp\": \"2012-01-07T00:00:00.000\", \"hours_timestamp\": \"2012-01-01T08:00:00.000\", \"sum_visitors\": 30}, {\"day_timestamp\": \"2012-01-07T00:00:00.000\", \"hours_timestamp\": \"2012-01-01T07:00:00.000\", \"sum_visitors\": 29}, {\"day_timestamp\": \"2012-01-07T00:00:00.000\", \"hours_timestamp\": \"2012-01-01T15:00:00.000\", \"sum_visitors\": 68}, {\"day_timestamp\": \"2012-01-07T00:00:00.000\", \"hours_timestamp\": \"2012-01-01T16:00:00.000\", \"sum_visitors\": 89}, {\"day_timestamp\": \"2012-01-07T00:00:00.000\", \"hours_timestamp\": \"2012-01-01T09:00:00.000\", \"sum_visitors\": 20}, {\"day_timestamp\": \"2012-01-07T00:00:00.000\", \"hours_timestamp\": \"2012-01-01T20:00:00.000\", \"sum_visitors\": 40}, {\"day_timestamp\": \"2012-01-07T00:00:00.000\", \"hours_timestamp\": \"2012-01-01T03:00:00.000\", \"sum_visitors\": 16}, {\"day_timestamp\": \"2012-01-01T00:00:00.000\", \"hours_timestamp\": \"2012-01-01T08:00:00.000\", \"sum_visitors\": 27}, {\"day_timestamp\": \"2012-01-01T00:00:00.000\", \"hours_timestamp\": \"2012-01-01T12:00:00.000\", \"sum_visitors\": 66}, {\"day_timestamp\": \"2012-01-01T00:00:00.000\", \"hours_timestamp\": \"2012-01-01T05:00:00.000\", \"sum_visitors\": 12}, {\"day_timestamp\": \"2012-01-01T00:00:00.000\", \"hours_timestamp\": \"2012-01-01T19:00:00.000\", \"sum_visitors\": 68}, {\"day_timestamp\": \"2012-01-01T00:00:00.000\", \"hours_timestamp\": \"2012-01-01T01:00:00.000\", \"sum_visitors\": 15}, {\"day_timestamp\": \"2012-01-01T00:00:00.000\", \"hours_timestamp\": \"2012-01-01T11:00:00.000\", \"sum_visitors\": 58}, {\"day_timestamp\": \"2012-01-01T00:00:00.000\", \"hours_timestamp\": \"2012-01-01T23:00:00.000\", \"sum_visitors\": 37}, {\"day_timestamp\": \"2012-01-01T00:00:00.000\", \"hours_timestamp\": \"2012-01-01T20:00:00.000\", \"sum_visitors\": 56}, {\"day_timestamp\": \"2012-01-02T00:00:00.000\", \"hours_timestamp\": \"2012-01-01T10:00:00.000\", \"sum_visitors\": 119}, {\"day_timestamp\": \"2012-01-02T00:00:00.000\", \"hours_timestamp\": \"2012-01-01T11:00:00.000\", \"sum_visitors\": 124}, {\"day_timestamp\": \"2012-01-02T00:00:00.000\", \"hours_timestamp\": \"2012-01-01T19:00:00.000\", \"sum_visitors\": 71}, {\"day_timestamp\": \"2012-01-02T00:00:00.000\", \"hours_timestamp\": \"2012-01-01T16:00:00.000\", \"sum_visitors\": 133}, {\"day_timestamp\": \"2012-01-02T00:00:00.000\", \"hours_timestamp\": \"2012-01-01T23:00:00.000\", \"sum_visitors\": 36}, {\"day_timestamp\": \"2012-01-02T00:00:00.000\", \"hours_timestamp\": \"2012-01-01T12:00:00.000\", \"sum_visitors\": 125}, {\"day_timestamp\": \"2012-01-02T00:00:00.000\", \"hours_timestamp\": \"2012-01-01T09:00:00.000\", \"sum_visitors\": 95}, {\"day_timestamp\": \"2012-01-02T00:00:00.000\", \"hours_timestamp\": \"2012-01-01T14:00:00.000\", \"sum_visitors\": 152}, {\"day_timestamp\": \"2012-01-03T00:00:00.000\", \"hours_timestamp\": \"2012-01-01T08:00:00.000\", \"sum_visitors\": 74}, {\"day_timestamp\": \"2012-01-03T00:00:00.000\", \"hours_timestamp\": \"2012-01-01T06:00:00.000\", \"sum_visitors\": 50}, {\"day_timestamp\": \"2012-01-03T00:00:00.000\", \"hours_timestamp\": \"2012-01-01T00:00:00.000\", \"sum_visitors\": 46}, {\"day_timestamp\": \"2012-01-03T00:00:00.000\", \"hours_timestamp\": \"2012-01-01T20:00:00.000\", \"sum_visitors\": 55}, {\"day_timestamp\": \"2012-01-03T00:00:00.000\", \"hours_timestamp\": \"2012-01-01T04:00:00.000\", \"sum_visitors\": 17}, {\"day_timestamp\": \"2012-01-03T00:00:00.000\", \"hours_timestamp\": \"2012-01-01T23:00:00.000\", \"sum_visitors\": 46}, {\"day_timestamp\": \"2012-01-03T00:00:00.000\", \"hours_timestamp\": \"2012-01-01T19:00:00.000\", \"sum_visitors\": 49}, {\"day_timestamp\": \"2012-01-03T00:00:00.000\", \"hours_timestamp\": \"2012-01-01T22:00:00.000\", \"sum_visitors\": 52}, {\"day_timestamp\": \"2012-01-04T00:00:00.000\", \"hours_timestamp\": \"2012-01-01T19:00:00.000\", \"sum_visitors\": 58}, {\"day_timestamp\": \"2012-01-04T00:00:00.000\", \"hours_timestamp\": \"2012-01-01T20:00:00.000\", \"sum_visitors\": 48}, {\"day_timestamp\": \"2012-01-04T00:00:00.000\", \"hours_timestamp\": \"2012-01-01T22:00:00.000\", \"sum_visitors\": 52}, {\"day_timestamp\": \"2012-01-05T00:00:00.000\", \"hours_timestamp\": \"2012-01-01T11:00:00.000\", \"sum_visitors\": 125}, {\"day_timestamp\": \"2012-01-05T00:00:00.000\", \"hours_timestamp\": \"2012-01-01T18:00:00.000\", \"sum_visitors\": 65}, {\"day_timestamp\": \"2012-01-05T00:00:00.000\", \"hours_timestamp\": \"2012-01-01T14:00:00.000\", \"sum_visitors\": 130}, {\"day_timestamp\": \"2012-01-05T00:00:00.000\", \"hours_timestamp\": \"2012-01-01T21:00:00.000\", \"sum_visitors\": 39}, {\"day_timestamp\": \"2012-01-06T00:00:00.000\", \"hours_timestamp\": \"2012-01-01T18:00:00.000\", \"sum_visitors\": 61}, {\"day_timestamp\": \"2012-01-06T00:00:00.000\", \"hours_timestamp\": \"2012-01-01T09:00:00.000\", \"sum_visitors\": 82}, {\"day_timestamp\": \"2012-01-06T00:00:00.000\", \"hours_timestamp\": \"2012-01-01T04:00:00.000\", \"sum_visitors\": 15}, {\"day_timestamp\": \"2012-01-06T00:00:00.000\", \"hours_timestamp\": \"2012-01-01T06:00:00.000\", \"sum_visitors\": 33}, {\"day_timestamp\": \"2012-01-06T00:00:00.000\", \"hours_timestamp\": \"2012-01-01T22:00:00.000\", \"sum_visitors\": 16}, {\"day_timestamp\": \"2012-01-07T00:00:00.000\", \"hours_timestamp\": \"2012-01-01T11:00:00.000\", \"sum_visitors\": 52}, {\"day_timestamp\": \"2012-01-07T00:00:00.000\", \"hours_timestamp\": \"2012-01-01T13:00:00.000\", \"sum_visitors\": 56}, {\"day_timestamp\": \"2012-01-07T00:00:00.000\", \"hours_timestamp\": \"2012-01-01T12:00:00.000\", \"sum_visitors\": 74}, {\"day_timestamp\": \"2012-01-07T00:00:00.000\", \"hours_timestamp\": \"2012-01-01T14:00:00.000\", \"sum_visitors\": 84}, {\"day_timestamp\": \"2012-01-07T00:00:00.000\", \"hours_timestamp\": \"2012-01-01T21:00:00.000\", \"sum_visitors\": 36}, {\"day_timestamp\": \"2012-01-01T00:00:00.000\", \"hours_timestamp\": \"2012-01-01T07:00:00.000\", \"sum_visitors\": 29}, {\"day_timestamp\": \"2012-01-01T00:00:00.000\", \"hours_timestamp\": \"2012-01-01T00:00:00.000\", \"sum_visitors\": 14}, {\"day_timestamp\": \"2012-01-01T00:00:00.000\", \"hours_timestamp\": \"2012-01-01T22:00:00.000\", \"sum_visitors\": 49}, {\"day_timestamp\": \"2012-01-01T00:00:00.000\", \"hours_timestamp\": \"2012-01-01T06:00:00.000\", \"sum_visitors\": 15}, {\"day_timestamp\": \"2012-01-01T00:00:00.000\", \"hours_timestamp\": \"2012-01-01T21:00:00.000\", \"sum_visitors\": 43}, {\"day_timestamp\": \"2012-01-02T00:00:00.000\", \"hours_timestamp\": \"2012-01-01T04:00:00.000\", \"sum_visitors\": 22}, {\"day_timestamp\": \"2012-01-02T00:00:00.000\", \"hours_timestamp\": \"2012-01-01T05:00:00.000\", \"sum_visitors\": 19}, {\"day_timestamp\": \"2012-01-02T00:00:00.000\", \"hours_timestamp\": \"2012-01-01T21:00:00.000\", \"sum_visitors\": 42}, {\"day_timestamp\": \"2012-01-03T00:00:00.000\", \"hours_timestamp\": \"2012-01-01T11:00:00.000\", \"sum_visitors\": 162}, {\"day_timestamp\": \"2012-01-03T00:00:00.000\", \"hours_timestamp\": \"2012-01-01T02:00:00.000\", \"sum_visitors\": 20}, {\"day_timestamp\": \"2012-01-03T00:00:00.000\", \"hours_timestamp\": \"2012-01-01T21:00:00.000\", \"sum_visitors\": 54}, {\"day_timestamp\": \"2012-01-03T00:00:00.000\", \"hours_timestamp\": \"2012-01-01T18:00:00.000\", \"sum_visitors\": 60}, {\"day_timestamp\": \"2012-01-04T00:00:00.000\", \"hours_timestamp\": \"2012-01-01T05:00:00.000\", \"sum_visitors\": 30}, {\"day_timestamp\": \"2012-01-05T00:00:00.000\", \"hours_timestamp\": \"2012-01-01T05:00:00.000\", \"sum_visitors\": 24}, {\"day_timestamp\": \"2012-01-05T00:00:00.000\", \"hours_timestamp\": \"2012-01-01T03:00:00.000\", \"sum_visitors\": 13}, {\"day_timestamp\": \"2012-01-06T00:00:00.000\", \"hours_timestamp\": \"2012-01-01T07:00:00.000\", \"sum_visitors\": 51}, {\"day_timestamp\": \"2012-01-06T00:00:00.000\", \"hours_timestamp\": \"2012-01-01T00:00:00.000\", \"sum_visitors\": 23}, {\"day_timestamp\": \"2012-01-07T00:00:00.000\", \"hours_timestamp\": \"2012-01-01T22:00:00.000\", \"sum_visitors\": 34}, {\"day_timestamp\": \"2012-01-07T00:00:00.000\", \"hours_timestamp\": \"2012-01-01T00:00:00.000\", \"sum_visitors\": 18}, {\"day_timestamp\": \"2012-01-07T00:00:00.000\", \"hours_timestamp\": \"2012-01-01T23:00:00.000\", \"sum_visitors\": 25}, {\"day_timestamp\": \"2012-01-01T00:00:00.000\", \"hours_timestamp\": \"2012-01-01T17:00:00.000\", \"sum_visitors\": 71}, {\"day_timestamp\": \"2012-01-01T00:00:00.000\", \"hours_timestamp\": \"2012-01-01T02:00:00.000\", \"sum_visitors\": 10}, {\"day_timestamp\": \"2012-01-02T00:00:00.000\", \"hours_timestamp\": \"2012-01-01T02:00:00.000\", \"sum_visitors\": 24}, {\"day_timestamp\": \"2012-01-02T00:00:00.000\", \"hours_timestamp\": \"2012-01-01T03:00:00.000\", \"sum_visitors\": 16}, {\"day_timestamp\": \"2012-01-02T00:00:00.000\", \"hours_timestamp\": \"2012-01-01T07:00:00.000\", \"sum_visitors\": 37}, {\"day_timestamp\": \"2012-01-03T00:00:00.000\", \"hours_timestamp\": \"2012-01-01T03:00:00.000\", \"sum_visitors\": 12}, {\"day_timestamp\": \"2012-01-04T00:00:00.000\", \"hours_timestamp\": \"2012-01-01T04:00:00.000\", \"sum_visitors\": 41}, {\"day_timestamp\": \"2012-01-04T00:00:00.000\", \"hours_timestamp\": \"2012-01-01T08:00:00.000\", \"sum_visitors\": 48}, {\"day_timestamp\": \"2012-01-05T00:00:00.000\", \"hours_timestamp\": \"2012-01-01T01:00:00.000\", \"sum_visitors\": 12}, {\"day_timestamp\": \"2012-01-05T00:00:00.000\", \"hours_timestamp\": \"2012-01-01T00:00:00.000\", \"sum_visitors\": 29}, {\"day_timestamp\": \"2012-01-05T00:00:00.000\", \"hours_timestamp\": \"2012-01-01T07:00:00.000\", \"sum_visitors\": 33}, {\"day_timestamp\": \"2012-01-05T00:00:00.000\", \"hours_timestamp\": \"2012-01-01T19:00:00.000\", \"sum_visitors\": 47}, {\"day_timestamp\": \"2012-01-06T00:00:00.000\", \"hours_timestamp\": \"2012-01-01T21:00:00.000\", \"sum_visitors\": 27}, {\"day_timestamp\": \"2012-01-07T00:00:00.000\", \"hours_timestamp\": \"2012-01-01T17:00:00.000\", \"sum_visitors\": 62}, {\"day_timestamp\": \"2012-01-07T00:00:00.000\", \"hours_timestamp\": \"2012-01-01T01:00:00.000\", \"sum_visitors\": 12}, {\"day_timestamp\": \"2012-01-07T00:00:00.000\", \"hours_timestamp\": \"2012-01-01T05:00:00.000\", \"sum_visitors\": 16}, {\"day_timestamp\": \"2012-01-07T00:00:00.000\", \"hours_timestamp\": \"2012-01-01T06:00:00.000\", \"sum_visitors\": 17}, {\"day_timestamp\": \"2012-01-04T00:00:00.000\", \"hours_timestamp\": \"2012-01-01T02:00:00.000\", \"sum_visitors\": 18}, {\"day_timestamp\": \"2012-01-05T00:00:00.000\", \"hours_timestamp\": \"2012-01-01T02:00:00.000\", \"sum_visitors\": 15}, {\"day_timestamp\": \"2012-01-07T00:00:00.000\", \"hours_timestamp\": \"2012-01-01T18:00:00.000\", \"sum_visitors\": 39}, {\"day_timestamp\": \"2012-01-04T00:00:00.000\", \"hours_timestamp\": \"2012-01-01T06:00:00.000\", \"sum_visitors\": 44}, {\"day_timestamp\": \"2012-01-04T00:00:00.000\", \"hours_timestamp\": \"2012-01-01T01:00:00.000\", \"sum_visitors\": 22}, {\"day_timestamp\": \"2012-01-05T00:00:00.000\", \"hours_timestamp\": \"2012-01-01T04:00:00.000\", \"sum_visitors\": 18}, {\"day_timestamp\": \"2012-01-06T00:00:00.000\", \"hours_timestamp\": \"2012-01-01T03:00:00.000\", \"sum_visitors\": 11}, {\"day_timestamp\": \"2012-01-02T00:00:00.000\", \"hours_timestamp\": \"2012-01-01T06:00:00.000\", \"sum_visitors\": 29}, {\"day_timestamp\": \"2012-01-06T00:00:00.000\", \"hours_timestamp\": \"2012-01-01T01:00:00.000\", \"sum_visitors\": 23}, {\"day_timestamp\": \"2012-01-06T00:00:00.000\", \"hours_timestamp\": \"2012-01-01T02:00:00.000\", \"sum_visitors\": 10}, {\"day_timestamp\": \"2012-01-06T00:00:00.000\", \"hours_timestamp\": \"2012-01-01T23:00:00.000\", \"sum_visitors\": 29}, {\"day_timestamp\": \"2012-01-07T00:00:00.000\", \"hours_timestamp\": \"2012-01-01T04:00:00.000\", \"sum_visitors\": 6}, {\"day_timestamp\": \"2012-01-01T00:00:00.000\", \"hours_timestamp\": \"2012-01-01T03:00:00.000\", \"sum_visitors\": 5}], \"transform\": [{\"type\": \"formula\", \"expr\": \"toDate(datum['hours_timestamp'])\", \"as\": \"hours_timestamp\"}, {\"type\": \"formula\", \"expr\": \"toDate(datum['day_timestamp'])\", \"as\": \"day_timestamp\"}]}, {\"name\": \"source_0_x_domain_hours_timestamp\", \"values\": [{\"hours_timestamp\": \"2012-01-01T16:00:00.000\"}, {\"hours_timestamp\": \"2012-01-01T13:00:00.000\"}, {\"hours_timestamp\": \"2012-01-01T10:00:00.000\"}, {\"hours_timestamp\": \"2012-01-01T18:00:00.000\"}, {\"hours_timestamp\": \"2012-01-01T09:00:00.000\"}, {\"hours_timestamp\": \"2012-01-01T04:00:00.000\"}, {\"hours_timestamp\": \"2012-01-01T14:00:00.000\"}, {\"hours_timestamp\": \"2012-01-01T15:00:00.000\"}, {\"hours_timestamp\": \"2012-01-01T17:00:00.000\"}, {\"hours_timestamp\": \"2012-01-01T22:00:00.000\"}, {\"hours_timestamp\": \"2012-01-01T08:00:00.000\"}, {\"hours_timestamp\": \"2012-01-01T20:00:00.000\"}, {\"hours_timestamp\": \"2012-01-01T00:00:00.000\"}, {\"hours_timestamp\": \"2012-01-01T01:00:00.000\"}, {\"hours_timestamp\": \"2012-01-01T12:00:00.000\"}, {\"hours_timestamp\": \"2012-01-01T05:00:00.000\"}, {\"hours_timestamp\": \"2012-01-01T07:00:00.000\"}, {\"hours_timestamp\": \"2012-01-01T21:00:00.000\"}, {\"hours_timestamp\": \"2012-01-01T03:00:00.000\"}, {\"hours_timestamp\": \"2012-01-01T11:00:00.000\"}, {\"hours_timestamp\": \"2012-01-01T23:00:00.000\"}, {\"hours_timestamp\": \"2012-01-01T06:00:00.000\"}, {\"hours_timestamp\": \"2012-01-01T19:00:00.000\"}, {\"hours_timestamp\": \"2012-01-01T02:00:00.000\"}], \"transform\": [{\"type\": \"formula\", \"expr\": \"toDate(datum['hours_timestamp'])\", \"as\": \"hours_timestamp\"}]}, {\"name\": \"source_0_y_domain_day_timestamp\", \"values\": [{\"day_timestamp\": \"2012-01-01T00:00:00.000\"}, {\"day_timestamp\": \"2012-01-02T00:00:00.000\"}, {\"day_timestamp\": \"2012-01-03T00:00:00.000\"}, {\"day_timestamp\": \"2012-01-04T00:00:00.000\"}, {\"day_timestamp\": \"2012-01-05T00:00:00.000\"}, {\"day_timestamp\": \"2012-01-06T00:00:00.000\"}, {\"day_timestamp\": \"2012-01-07T00:00:00.000\"}], \"transform\": [{\"type\": \"formula\", \"expr\": \"toDate(datum['day_timestamp'])\", \"as\": \"day_timestamp\"}]}, {\"name\": \"source_0_color_domain_sum_visitors\", \"values\": [{\"min\": 5, \"max\": 162}]}], \"signals\": [{\"name\": \"x_step\", \"value\": 20}, {\"name\": \"width\", \"update\": \"bandspace(domain('x').length, 0, 0) * x_step\"}, {\"name\": \"y_step\", \"value\": 20}, {\"name\": \"height\", \"update\": \"bandspace(domain('y').length, 0, 0) * y_step\"}], \"marks\": [{\"type\": \"rect\", \"name\": \"marks\", \"from\": {\"data\": \"source_0\"}, \"encode\": {\"update\": {\"description\": {\"signal\": \"\\\"timestamp (hours): \\\" + (timeFormat(datum[\\\"hours_timestamp\\\"], timeUnitSpecifier([\\\"hours\\\"], {\\\"year-month\\\":\\\"%b %Y \\\",\\\"year-month-date\\\":\\\"%b %d, %Y \\\"}))) + \\\"; timestamp (day): \\\" + (timeFormat(datum[\\\"day_timestamp\\\"], timeUnitSpecifier([\\\"day\\\"], {\\\"year-month\\\":\\\"%b %Y \\\",\\\"year-month-date\\\":\\\"%b %d, %Y \\\"}))) + \\\"; Sum of visitors: \\\" + (format(datum[\\\"sum_visitors\\\"], \\\"\\\"))\"}, \"x\": {\"field\": \"hours_timestamp\", \"scale\": \"x\"}, \"height\": {\"signal\": \"max(0.25, bandwidth('y'))\"}, \"fill\": {\"field\": \"sum_visitors\", \"scale\": \"color\"}, \"width\": {\"signal\": \"max(0.25, bandwidth('x'))\"}, \"y\": {\"field\": \"day_timestamp\", \"scale\": \"y\"}}}, \"style\": [\"rect\"]}], \"scales\": [{\"name\": \"x\", \"type\": \"band\", \"domain\": {\"data\": \"source_0_x_domain_hours_timestamp\", \"field\": \"hours_timestamp\", \"sort\": true}, \"range\": {\"step\": {\"signal\": \"x_step\"}}, \"paddingInner\": 0, \"paddingOuter\": 0}, {\"name\": \"y\", \"type\": \"band\", \"domain\": {\"data\": \"source_0_y_domain_day_timestamp\", \"field\": \"day_timestamp\", \"sort\": true}, \"range\": {\"step\": {\"signal\": \"y_step\"}}, \"paddingOuter\": 0, \"paddingInner\": 0}, {\"name\": \"color\", \"type\": \"linear\", \"domain\": [{\"signal\": \"(data(\\\"source_0_color_domain_sum_visitors\\\")[0] || {}).min\"}, {\"signal\": \"(data(\\\"source_0_color_domain_sum_visitors\\\")[0] || {}).max\"}], \"range\": \"heatmap\", \"zero\": false, \"interpolate\": \"hcl\"}], \"axes\": [{\"scale\": \"x\", \"formatType\": \"time\", \"grid\": false, \"format\": {\"signal\": \"timeUnitSpecifier([\\\"hours\\\"], {\\\"year-month\\\":\\\"%b %Y \\\",\\\"year-month-date\\\":\\\"%b %d, %Y \\\"})\"}, \"tickMinStep\": {\"signal\": \"datetime(2001, 0, 1, 1, 0, 0, 0) - datetime(2001, 0, 1, 0, 0, 0, 0)\"}, \"labelOverlap\": true, \"zindex\": 1, \"title\": \"timestamp (hours)\", \"orient\": \"bottom\"}, {\"scale\": \"y\", \"formatType\": \"time\", \"orient\": \"left\", \"zindex\": 1, \"format\": {\"signal\": \"timeUnitSpecifier([\\\"day\\\"], {\\\"year-month\\\":\\\"%b %Y \\\",\\\"year-month-date\\\":\\\"%b %d, %Y \\\"})\"}, \"title\": \"timestamp (day)\", \"labelOverlap\": true, \"grid\": false}], \"background\": \"white\", \"legends\": [{\"fill\": \"color\", \"gradientLength\": {\"signal\": \"clamp(height, 64, 200)\"}, \"title\": \"Sum of visitors\"}], \"style\": \"cell\", \"padding\": 5}, {\"mode\": \"vega\"});\n",
       "</script>"
      ],
      "text/plain": [
       "alt.Chart(...)"
      ]
     },
     "execution_count": 5,
     "metadata": {},
     "output_type": "execute_result"
    }
   ],
   "source": [
    "alt.Chart(pageviews).mark_rect().encode(\n",
    "    x = 'hours(timestamp):O',\n",
    "    y = 'day(timestamp):O',\n",
    "    color = 'sum(visitors)'\n",
    ")"
   ]
  },
  {
   "cell_type": "code",
   "execution_count": null,
   "metadata": {},
   "outputs": [],
   "source": []
  }
 ],
 "metadata": {
  "kernelspec": {
   "display_name": "Python 3 (ipykernel)",
   "language": "python",
   "name": "python3"
  },
  "language_info": {
   "codemirror_mode": {
    "name": "ipython",
    "version": 3
   },
   "file_extension": ".py",
   "mimetype": "text/x-python",
   "name": "python",
   "nbconvert_exporter": "python",
   "pygments_lexer": "ipython3",
   "version": "3.9.12"
  }
 },
 "nbformat": 4,
 "nbformat_minor": 4
}
