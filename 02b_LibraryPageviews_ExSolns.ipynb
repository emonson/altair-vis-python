{
 "cells": [
  {
   "cell_type": "markdown",
   "metadata": {},
   "source": [
    "# Library pageviews data\n",
    "\n",
    "This is data from Google Analytics on a subset of library item web page views from 2012.\n",
    "\n",
    "It has been severely reduced in size so that we can learn more about how to explore using Altair. You can see a version that deals with about a 20x larger subset in the `20_LibraryPageviews.ipynb` in this same repository."
   ]
  },
  {
   "cell_type": "code",
   "execution_count": 1,
   "metadata": {},
   "outputs": [],
   "source": [
    "import pandas as pd\n",
    "import altair as alt\n",
    "from altair import datum"
   ]
  },
  {
   "cell_type": "code",
   "execution_count": 2,
   "metadata": {},
   "outputs": [
    {
     "data": {
      "text/html": [
       "<div>\n",
       "<style scoped>\n",
       "    .dataframe tbody tr th:only-of-type {\n",
       "        vertical-align: middle;\n",
       "    }\n",
       "\n",
       "    .dataframe tbody tr th {\n",
       "        vertical-align: top;\n",
       "    }\n",
       "\n",
       "    .dataframe thead th {\n",
       "        text-align: right;\n",
       "    }\n",
       "</style>\n",
       "<table border=\"1\" class=\"dataframe\">\n",
       "  <thead>\n",
       "    <tr style=\"text-align: right;\">\n",
       "      <th></th>\n",
       "      <th>timestamp</th>\n",
       "      <th>visitors</th>\n",
       "      <th>city</th>\n",
       "      <th>region</th>\n",
       "      <th>country</th>\n",
       "      <th>longitude</th>\n",
       "      <th>latitude</th>\n",
       "      <th>lcc_description</th>\n",
       "    </tr>\n",
       "  </thead>\n",
       "  <tbody>\n",
       "    <tr>\n",
       "      <td>0</td>\n",
       "      <td>2012-01-01 16:00:00</td>\n",
       "      <td>1</td>\n",
       "      <td>Montreal</td>\n",
       "      <td>Quebec</td>\n",
       "      <td>Canada</td>\n",
       "      <td>-73.5542</td>\n",
       "      <td>45.5089</td>\n",
       "      <td>Military Science</td>\n",
       "    </tr>\n",
       "    <tr>\n",
       "      <td>1</td>\n",
       "      <td>2012-01-01 13:00:00</td>\n",
       "      <td>1</td>\n",
       "      <td>Durham</td>\n",
       "      <td>North Carolina</td>\n",
       "      <td>United States</td>\n",
       "      <td>-78.8986</td>\n",
       "      <td>35.9940</td>\n",
       "      <td>History Of The Americas</td>\n",
       "    </tr>\n",
       "    <tr>\n",
       "      <td>2</td>\n",
       "      <td>2012-01-01 10:00:00</td>\n",
       "      <td>1</td>\n",
       "      <td>Edinburgh</td>\n",
       "      <td>Scotland</td>\n",
       "      <td>United Kingdom</td>\n",
       "      <td>-3.1875</td>\n",
       "      <td>55.9502</td>\n",
       "      <td>Social Sciences</td>\n",
       "    </tr>\n",
       "    <tr>\n",
       "      <td>3</td>\n",
       "      <td>2012-01-01 18:00:00</td>\n",
       "      <td>1</td>\n",
       "      <td>Plymouth</td>\n",
       "      <td>England</td>\n",
       "      <td>United Kingdom</td>\n",
       "      <td>-4.1427</td>\n",
       "      <td>50.3704</td>\n",
       "      <td>NaN</td>\n",
       "    </tr>\n",
       "    <tr>\n",
       "      <td>4</td>\n",
       "      <td>2012-01-01 09:00:00</td>\n",
       "      <td>1</td>\n",
       "      <td>Edinburgh</td>\n",
       "      <td>Scotland</td>\n",
       "      <td>United Kingdom</td>\n",
       "      <td>-3.1875</td>\n",
       "      <td>55.9502</td>\n",
       "      <td>Social Sciences</td>\n",
       "    </tr>\n",
       "  </tbody>\n",
       "</table>\n",
       "</div>"
      ],
      "text/plain": [
       "            timestamp  visitors       city          region         country  \\\n",
       "0 2012-01-01 16:00:00         1   Montreal          Quebec          Canada   \n",
       "1 2012-01-01 13:00:00         1     Durham  North Carolina   United States   \n",
       "2 2012-01-01 10:00:00         1  Edinburgh        Scotland  United Kingdom   \n",
       "3 2012-01-01 18:00:00         1   Plymouth         England  United Kingdom   \n",
       "4 2012-01-01 09:00:00         1  Edinburgh        Scotland  United Kingdom   \n",
       "\n",
       "   longitude  latitude          lcc_description  \n",
       "0   -73.5542   45.5089         Military Science  \n",
       "1   -78.8986   35.9940  History Of The Americas  \n",
       "2    -3.1875   55.9502          Social Sciences  \n",
       "3    -4.1427   50.3704                      NaN  \n",
       "4    -3.1875   55.9502          Social Sciences  "
      ]
     },
     "execution_count": 2,
     "metadata": {},
     "output_type": "execute_result"
    }
   ],
   "source": [
    "pageviews = pd.read_csv('data/pageviews_2012_small.csv')\n",
    "pageviews['timestamp'] = pd.to_datetime(pageviews.timestamp)\n",
    "pageviews.head()"
   ]
  },
  {
   "cell_type": "code",
   "execution_count": 5,
   "metadata": {},
   "outputs": [
    {
     "data": {
      "text/plain": [
       "DataTransformerRegistry.enable('json')"
      ]
     },
     "execution_count": 5,
     "metadata": {},
     "output_type": "execute_result"
    }
   ],
   "source": [
    "alt.data_transformers.enable('json')"
   ]
  },
  {
   "cell_type": "markdown",
   "metadata": {},
   "source": [
    "---\n",
    "\n",
    "## EXERCISE 1: Horizontal bars of visitors per country\n",
    "\n",
    "Make a bar chart of \n",
    "- *sum of the number of visitors over all the data* – horizontal (bottom) axis\n",
    "- *per country* – vertical axis\n",
    "\n",
    "```\n",
    "alt.Chart(----).mark_----().encode(\n",
    "    x = ----,\n",
    "    y = ----\n",
    ")\n",
    "```\n",
    "\n",
    "- **Copy the code chunk above,** \n",
    "- **paste it into the cell below, then** \n",
    "- **replace the dashes with correct code.**"
   ]
  },
  {
   "cell_type": "code",
   "execution_count": 6,
   "metadata": {},
   "outputs": [
    {
     "data": {
      "application/vnd.vegalite.v3+json": {
       "$schema": "https://vega.github.io/schema/vega-lite/v3.4.0.json",
       "config": {
        "mark": {
         "tooltip": null
        },
        "view": {
         "height": 300,
         "width": 400
        }
       },
       "data": {
        "format": {
         "type": "json"
        },
        "url": "altair-data-de6ed7b840f8523b83a19a0516667781.json"
       },
       "encoding": {
        "x": {
         "aggregate": "sum",
         "field": "visitors",
         "type": "quantitative"
        },
        "y": {
         "field": "country",
         "type": "nominal"
        }
       },
       "mark": "bar"
      },
      "image/png": "[encoded data removed]",
      "text/plain": [
       "<VegaLite 3 object>\n",
       "\n",
       "If you see this message, it means the renderer has not been properly enabled\n",
       "for the frontend that you are using. For more information, see\n",
       "https://altair-viz.github.io/user_guide/troubleshooting.html\n"
      ]
     },
     "execution_count": 6,
     "metadata": {},
     "output_type": "execute_result"
    }
   ],
   "source": [
    "alt.Chart(pageviews).mark_bar().encode(\n",
    "    x = 'sum(visitors)',\n",
    "    y = 'country'\n",
    ")"
   ]
  },
  {
   "cell_type": "markdown",
   "metadata": {},
   "source": [
    "---\n",
    "\n",
    "## EXERCISE 2: Weekday vs hour of day heatmap\n",
    "\n",
    "A heatmap is a compact way to view typical patterns throughout the day, and how that varies by weekday.\n",
    "\n",
    "Now, put together the earlier examples to create the visualization below. Days of the week are on the vertical axis, hours of the day are on the horizontal, and color is the number of visitors. *(I've removed some of the axis labels to hide hints from you.)*\n",
    "\n",
    "*Hint: you need to change from a Time data type to Ordinal to get discreet marks*"
   ]
  },
  {
   "cell_type": "code",
   "execution_count": 7,
   "metadata": {},
   "outputs": [
    {
     "data": {
      "application/vnd.vegalite.v3+json": {
       "$schema": "https://vega.github.io/schema/vega-lite/v3.4.0.json",
       "config": {
        "mark": {
         "tooltip": null
        },
        "view": {
         "height": 300,
         "width": 400
        }
       },
       "data": {
        "format": {
         "type": "json"
        },
        "url": "altair-data-de6ed7b840f8523b83a19a0516667781.json"
       },
       "encoding": {
        "color": {
         "aggregate": "sum",
         "field": "visitors",
         "type": "quantitative"
        },
        "x": {
         "field": "timestamp",
         "timeUnit": "hours",
         "type": "ordinal"
        },
        "y": {
         "field": "timestamp",
         "timeUnit": "day",
         "type": "ordinal"
        }
       },
       "mark": "rect"
      },
      "image/png": "[encoded data removed]",
      "text/plain": [
       "<VegaLite 3 object>\n",
       "\n",
       "If you see this message, it means the renderer has not been properly enabled\n",
       "for the frontend that you are using. For more information, see\n",
       "https://altair-viz.github.io/user_guide/troubleshooting.html\n"
      ]
     },
     "execution_count": 7,
     "metadata": {},
     "output_type": "execute_result"
    }
   ],
   "source": [
    "alt.Chart(pageviews).mark_rect().encode(\n",
    "    x = 'hours(timestamp):O',\n",
    "    y = 'day(timestamp):O',\n",
    "    color = 'sum(visitors)'\n",
    ")"
   ]
  },
  {
   "cell_type": "code",
   "execution_count": null,
   "metadata": {},
   "outputs": [],
   "source": []
  }
 ],
 "metadata": {
  "kernelspec": {
   "display_name": "Python 3",
   "language": "python",
   "name": "python3"
  },
  "language_info": {
   "codemirror_mode": {
    "name": "ipython",
    "version": 3
   },
   "file_extension": ".py",
   "mimetype": "text/x-python",
   "name": "python",
   "nbconvert_exporter": "python",
   "pygments_lexer": "ipython3",
   "version": "3.7.3"
  }
 },
 "nbformat": 4,
 "nbformat_minor": 4
}
