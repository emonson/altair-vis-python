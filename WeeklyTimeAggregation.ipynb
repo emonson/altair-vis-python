{
 "cells": [
  {
   "cell_type": "markdown",
   "metadata": {},
   "source": [
    "# Time aggregation by week\n",
    "\n",
    "I wish Altair/Vega-Lite had a built-in time aggregation on the scale of a week, so there was something in between day and month. For some reason, Pandas has also been a bit unstable in its support of weekly time aggregation – changing recently.\n",
    "\n",
    "This is an example to show how to use Pandas and Altair to plot a smoothed version of our data at the weekly timescale."
   ]
  },
  {
   "cell_type": "code",
   "execution_count": 1,
   "metadata": {},
   "outputs": [],
   "source": [
    "import pandas as pd\n",
    "import altair as alt\n",
    "from altair import datum"
   ]
  },
  {
   "cell_type": "markdown",
   "metadata": {},
   "source": [
    "## Read in library web site page views data\n",
    "\n",
    "and change the timestamp data type to `datetime`"
   ]
  },
  {
   "cell_type": "code",
   "execution_count": 2,
   "metadata": {},
   "outputs": [],
   "source": [
    "pageviews = pd.read_csv('data/pageviews_2012_small.csv')\n",
    "pageviews['timestamp'] = pd.to_datetime(pageviews.timestamp)"
   ]
  },
  {
   "cell_type": "markdown",
   "metadata": {},
   "source": [
    "## Change ISO_time to a true date and time data type"
   ]
  },
  {
   "cell_type": "markdown",
   "metadata": {},
   "source": [
    "## MaxRowsError\n",
    "\n",
    "Can take off limit for number of rows, but that's not a great idea because the notebook will have a Vega-Lite JSON specification (text) embedded for every output pane, which also includes the data, so you end up with huge notebooks!\n",
    "\n",
    "Instead, we can specify that the outputs should just refer to a JSON file on your local drive and load in the data from there for each plot.\n",
    "\n",
    "See the [02_LibraryPageviews](02_LibraryPageviews.ipynb#MaxRowsError-&-options) notebook for more details."
   ]
  },
  {
   "cell_type": "code",
   "execution_count": 3,
   "metadata": {},
   "outputs": [
    {
     "data": {
      "text/plain": [
       "DataTransformerRegistry.enable('json')"
      ]
     },
     "execution_count": 3,
     "metadata": {},
     "output_type": "execute_result"
    }
   ],
   "source": [
    "alt.data_transformers.enable('json', urlpath='files')"
   ]
  },
  {
   "cell_type": "code",
   "execution_count": 4,
   "metadata": {},
   "outputs": [
    {
     "data": {
      "text/html": [
       "<div>\n",
       "<style scoped>\n",
       "    .dataframe tbody tr th:only-of-type {\n",
       "        vertical-align: middle;\n",
       "    }\n",
       "\n",
       "    .dataframe tbody tr th {\n",
       "        vertical-align: top;\n",
       "    }\n",
       "\n",
       "    .dataframe thead th {\n",
       "        text-align: right;\n",
       "    }\n",
       "</style>\n",
       "<table border=\"1\" class=\"dataframe\">\n",
       "  <thead>\n",
       "    <tr style=\"text-align: right;\">\n",
       "      <th></th>\n",
       "      <th>timestamp</th>\n",
       "      <th>visitors</th>\n",
       "      <th>city</th>\n",
       "      <th>region</th>\n",
       "      <th>country</th>\n",
       "      <th>longitude</th>\n",
       "      <th>latitude</th>\n",
       "      <th>lcc_description</th>\n",
       "    </tr>\n",
       "  </thead>\n",
       "  <tbody>\n",
       "    <tr>\n",
       "      <th>0</th>\n",
       "      <td>2012-01-01 16:00:00</td>\n",
       "      <td>1</td>\n",
       "      <td>Montreal</td>\n",
       "      <td>Quebec</td>\n",
       "      <td>Canada</td>\n",
       "      <td>-73.5542</td>\n",
       "      <td>45.5089</td>\n",
       "      <td>Military Science</td>\n",
       "    </tr>\n",
       "    <tr>\n",
       "      <th>1</th>\n",
       "      <td>2012-01-01 13:00:00</td>\n",
       "      <td>1</td>\n",
       "      <td>Durham</td>\n",
       "      <td>North Carolina</td>\n",
       "      <td>United States</td>\n",
       "      <td>-78.8986</td>\n",
       "      <td>35.9940</td>\n",
       "      <td>History Of The Americas</td>\n",
       "    </tr>\n",
       "    <tr>\n",
       "      <th>2</th>\n",
       "      <td>2012-01-01 10:00:00</td>\n",
       "      <td>1</td>\n",
       "      <td>Edinburgh</td>\n",
       "      <td>Scotland</td>\n",
       "      <td>United Kingdom</td>\n",
       "      <td>-3.1875</td>\n",
       "      <td>55.9502</td>\n",
       "      <td>Social Sciences</td>\n",
       "    </tr>\n",
       "  </tbody>\n",
       "</table>\n",
       "</div>"
      ],
      "text/plain": [
       "            timestamp  visitors       city          region         country  \\\n",
       "0 2012-01-01 16:00:00         1   Montreal          Quebec          Canada   \n",
       "1 2012-01-01 13:00:00         1     Durham  North Carolina   United States   \n",
       "2 2012-01-01 10:00:00         1  Edinburgh        Scotland  United Kingdom   \n",
       "\n",
       "   longitude  latitude          lcc_description  \n",
       "0   -73.5542   45.5089         Military Science  \n",
       "1   -78.8986   35.9940  History Of The Americas  \n",
       "2    -3.1875   55.9502          Social Sciences  "
      ]
     },
     "execution_count": 4,
     "metadata": {},
     "output_type": "execute_result"
    }
   ],
   "source": [
    "pageviews.head(3)"
   ]
  },
  {
   "cell_type": "markdown",
   "metadata": {},
   "source": [
    "## Weekly grouper\n",
    "\n",
    "- From [the Grouper documentation](https://pandas.pydata.org/docs/reference/api/pandas.Grouper.html), \"A Grouper allows the user to specify a groupby instruction for an object.\" \n",
    "- The `label` argument controls whether the start or end of the week gets a date label in the resulting DataFrame.\n",
    "- We calculate visitors/day from this weekly aggregation to make a smoothed version at the scale of a week"
   ]
  },
  {
   "cell_type": "code",
   "execution_count": 5,
   "metadata": {},
   "outputs": [
    {
     "data": {
      "text/html": [
       "<div>\n",
       "<style scoped>\n",
       "    .dataframe tbody tr th:only-of-type {\n",
       "        vertical-align: middle;\n",
       "    }\n",
       "\n",
       "    .dataframe tbody tr th {\n",
       "        vertical-align: top;\n",
       "    }\n",
       "\n",
       "    .dataframe thead th {\n",
       "        text-align: right;\n",
       "    }\n",
       "</style>\n",
       "<table border=\"1\" class=\"dataframe\">\n",
       "  <thead>\n",
       "    <tr style=\"text-align: right;\">\n",
       "      <th></th>\n",
       "      <th>timestamp</th>\n",
       "      <th>visitors</th>\n",
       "      <th>visitors_day</th>\n",
       "    </tr>\n",
       "  </thead>\n",
       "  <tbody>\n",
       "    <tr>\n",
       "      <th>0</th>\n",
       "      <td>2011-12-25</td>\n",
       "      <td>12</td>\n",
       "      <td>1.714286</td>\n",
       "    </tr>\n",
       "    <tr>\n",
       "      <th>1</th>\n",
       "      <td>2012-01-01</td>\n",
       "      <td>145</td>\n",
       "      <td>20.714286</td>\n",
       "    </tr>\n",
       "    <tr>\n",
       "      <th>2</th>\n",
       "      <td>2012-01-08</td>\n",
       "      <td>208</td>\n",
       "      <td>29.714286</td>\n",
       "    </tr>\n",
       "    <tr>\n",
       "      <th>3</th>\n",
       "      <td>2012-01-15</td>\n",
       "      <td>246</td>\n",
       "      <td>35.142857</td>\n",
       "    </tr>\n",
       "    <tr>\n",
       "      <th>4</th>\n",
       "      <td>2012-01-22</td>\n",
       "      <td>255</td>\n",
       "      <td>36.428571</td>\n",
       "    </tr>\n",
       "  </tbody>\n",
       "</table>\n",
       "</div>"
      ],
      "text/plain": [
       "   timestamp  visitors  visitors_day\n",
       "0 2011-12-25        12      1.714286\n",
       "1 2012-01-01       145     20.714286\n",
       "2 2012-01-08       208     29.714286\n",
       "3 2012-01-15       246     35.142857\n",
       "4 2012-01-22       255     36.428571"
      ]
     },
     "execution_count": 5,
     "metadata": {},
     "output_type": "execute_result"
    }
   ],
   "source": [
    "weekly_grouper = pd.Grouper(key='timestamp', freq='W', label='left')\n",
    "\n",
    "pt = pageviews.groupby(weekly_grouper).agg({'visitors':'sum'})\n",
    "pt = pt.reset_index().sort_values('timestamp')\n",
    "pt['visitors_day'] = pt['visitors']/7.0\n",
    "pt.head()"
   ]
  },
  {
   "cell_type": "code",
   "execution_count": 6,
   "metadata": {},
   "outputs": [
    {
     "data": {
      "text/html": [
       "\n",
       "<div id=\"altair-viz-78c115a0b57749dd8847d5af795c84d4\"></div>\n",
       "<script type=\"text/javascript\">\n",
       "  (function(spec, embedOpt){\n",
       "    let outputDiv = document.currentScript.previousElementSibling;\n",
       "    if (outputDiv.id !== \"altair-viz-78c115a0b57749dd8847d5af795c84d4\") {\n",
       "      outputDiv = document.getElementById(\"altair-viz-78c115a0b57749dd8847d5af795c84d4\");\n",
       "    }\n",
       "    const paths = {\n",
       "      \"vega\": \"https://cdn.jsdelivr.net/npm//vega@5?noext\",\n",
       "      \"vega-lib\": \"https://cdn.jsdelivr.net/npm//vega-lib?noext\",\n",
       "      \"vega-lite\": \"https://cdn.jsdelivr.net/npm//vega-lite@4.8.1?noext\",\n",
       "      \"vega-embed\": \"https://cdn.jsdelivr.net/npm//vega-embed@6?noext\",\n",
       "    };\n",
       "\n",
       "    function loadScript(lib) {\n",
       "      return new Promise(function(resolve, reject) {\n",
       "        var s = document.createElement('script');\n",
       "        s.src = paths[lib];\n",
       "        s.async = true;\n",
       "        s.onload = () => resolve(paths[lib]);\n",
       "        s.onerror = () => reject(`Error loading script: ${paths[lib]}`);\n",
       "        document.getElementsByTagName(\"head\")[0].appendChild(s);\n",
       "      });\n",
       "    }\n",
       "\n",
       "    function showError(err) {\n",
       "      outputDiv.innerHTML = `<div class=\"error\" style=\"color:red;\">${err}</div>`;\n",
       "      throw err;\n",
       "    }\n",
       "\n",
       "    function displayChart(vegaEmbed) {\n",
       "      vegaEmbed(outputDiv, spec, embedOpt)\n",
       "        .catch(err => showError(`Javascript Error: ${err.message}<br>This usually means there's a typo in your chart specification. See the javascript console for the full traceback.`));\n",
       "    }\n",
       "\n",
       "    if(typeof define === \"function\" && define.amd) {\n",
       "      requirejs.config({paths});\n",
       "      require([\"vega-embed\"], displayChart, err => showError(`Error loading script: ${err.message}`));\n",
       "    } else if (typeof vegaEmbed === \"function\") {\n",
       "      displayChart(vegaEmbed);\n",
       "    } else {\n",
       "      loadScript(\"vega\")\n",
       "        .then(() => loadScript(\"vega-lite\"))\n",
       "        .then(() => loadScript(\"vega-embed\"))\n",
       "        .catch(showError)\n",
       "        .then(() => displayChart(vegaEmbed));\n",
       "    }\n",
       "  })({\"config\": {\"view\": {\"continuousWidth\": 400, \"continuousHeight\": 300}}, \"layer\": [{\"data\": {\"url\": \"files/altair-data-de6ed7b840f8523b83a19a0516667781.json\", \"format\": {\"type\": \"json\"}}, \"mark\": {\"type\": \"line\", \"color\": \"lightgray\"}, \"encoding\": {\"tooltip\": {\"type\": \"temporal\", \"field\": \"timestamp\", \"timeUnit\": \"yearmonthdate\"}, \"x\": {\"type\": \"temporal\", \"field\": \"timestamp\", \"timeUnit\": \"yearmonthdate\"}, \"y\": {\"type\": \"quantitative\", \"aggregate\": \"sum\", \"field\": \"visitors\"}}, \"height\": 150, \"width\": 600}, {\"data\": {\"url\": \"files/altair-data-7df1e65ae628b518a1166db0746651c6.json\", \"format\": {\"type\": \"json\"}}, \"mark\": {\"type\": \"line\", \"strokeWidth\": 3}, \"encoding\": {\"x\": {\"type\": \"temporal\", \"field\": \"timestamp\"}, \"y\": {\"type\": \"quantitative\", \"field\": \"visitors_day\"}}, \"height\": 150, \"width\": 600}], \"$schema\": \"https://vega.github.io/schema/vega-lite/v4.8.1.json\"}, {\"mode\": \"vega-lite\"});\n",
       "</script>"
      ],
      "text/plain": [
       "alt.LayerChart(...)"
      ]
     },
     "execution_count": 6,
     "metadata": {},
     "output_type": "execute_result"
    }
   ],
   "source": [
    "weekly_chart = alt.Chart(pt).mark_line(\n",
    "    strokeWidth=3\n",
    ").encode(\n",
    "    x = 'timestamp:T',\n",
    "    y = 'visitors_day:Q'\n",
    ").properties(\n",
    "    width=600,\n",
    "    height=150\n",
    ")\n",
    "\n",
    "daily_chart = alt.Chart(pageviews).mark_line(\n",
    "    color='lightgray'\n",
    ").encode(\n",
    "    x = 'yearmonthdate(timestamp):T',\n",
    "    y = 'sum(visitors):Q',\n",
    "    tooltip = 'yearmonthdate(timestamp):T'\n",
    ").properties(\n",
    "    width=600,\n",
    "    height=150\n",
    ")\n",
    "\n",
    "daily_chart + weekly_chart"
   ]
  },
  {
   "cell_type": "code",
   "execution_count": null,
   "metadata": {},
   "outputs": [],
   "source": []
  }
 ],
 "metadata": {
  "kernelspec": {
   "display_name": "Python 3",
   "language": "python",
   "name": "python3"
  },
  "language_info": {
   "codemirror_mode": {
    "name": "ipython",
    "version": 3
   },
   "file_extension": ".py",
   "mimetype": "text/x-python",
   "name": "python",
   "nbconvert_exporter": "python",
   "pygments_lexer": "ipython3",
   "version": "3.8.5"
  }
 },
 "nbformat": 4,
 "nbformat_minor": 4
}
