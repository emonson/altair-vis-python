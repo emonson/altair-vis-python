{
 "cells": [
  {
   "cell_type": "markdown",
   "metadata": {},
   "source": [
    "# Fill in the blank exercises\n",
    "\n",
    "Read the instructions and try to create the visualizations by filling in the ---- blank sections."
   ]
  },
  {
   "cell_type": "code",
   "execution_count": null,
   "metadata": {},
   "outputs": [],
   "source": [
    "import pandas as pd\n",
    "import altair as alt\n",
    "from altair import datum\n",
    "\n",
    "# avoid MaxRowsError\n",
    "import vegafusion as vf\n",
    "vf.enable()"
   ]
  },
  {
   "cell_type": "markdown",
   "metadata": {},
   "source": [
    "# Historical Polio cases by state from 1928-1969\n",
    "\n",
    "[According to the US Centers for Disease Control (CDC)](https://www.cdc.gov/features/poliofacts/)\n",
    "\n",
    "    Polio, or poliomyelitis, is a crippling and potentially deadly infectious disease. It is caused by the poliovirus. The virus spreads from person to person and can invade an infected person’s brain and spinal cord, causing paralysis (can’t move parts of the body).\n",
    "\n",
    "    Thanks to the polio vaccine, dedicated health care professionals, and parents who vaccinate their children on schedule, polio has been eliminated in this country for more than 30 years.\n",
    "    \n",
    "\n",
    "### We will visualize some historical data about polio cases across the US.\n",
    "\n",
    "**Note: Data is normalized cases per 100,000 people for each state**\n",
    "\n",
    "- Data was [downloaded from visdatasets](https://visdatasets.github.io/)\n",
    "- Original Retrieved from [Project Tycho](https://www.tycho.pitt.edu/); aggregated into yearly values.\n",
    "- Some other time, refer to a [good article on visualizations of this data](http://www.randalolson.com/2016/03/04/revisiting-the-vaccine-visualizations/)\n",
    "\n",
    "For this example we'll load data from an Excel file. If you have more than one sheet, you need to specify the sheet name."
   ]
  },
  {
   "cell_type": "code",
   "execution_count": null,
   "metadata": {},
   "outputs": [],
   "source": [
    "polio = pd.read_excel('data/polio_incidence_rates_united_states.xlsx', \n",
    "                      sheet_name='polio_incidence_rates')\n",
    "polio.head()"
   ]
  },
  {
   "cell_type": "markdown",
   "metadata": {},
   "source": [
    "## Timeline of total incidence per year (summed over all states)\n",
    "\n",
    "Start exploring by making a **line chart** that plots the sum of all the polio cases per year.\n",
    "\n",
    "- Time on the horizontal axis\n",
    "- Sum of all the polio cases per year (across all states) on the vertical axis"
   ]
  },
  {
   "cell_type": "code",
   "execution_count": null,
   "metadata": {},
   "outputs": [],
   "source": [
    "alt.Chart(----).mark_----().encode(\n",
    "    x = '----:-',\n",
    "    y = '----:-'\n",
    ").properties(\n",
    "    width = 600\n",
    ")"
   ]
  },
  {
   "cell_type": "markdown",
   "metadata": {},
   "source": [
    "## Timeline showing (detail) all states\n",
    "\n",
    "We can add `detail=` encoding channel to split the data according to some categorical variable. This will make a mark for each unique entry in that category, adding a finer level of detail, without tying that variable to any other visual property like color or symbol type.\n",
    "\n",
    "Add a `detail=` section to the previous encoding to create more detail – one line for each state."
   ]
  },
  {
   "cell_type": "code",
   "execution_count": null,
   "metadata": {},
   "outputs": [],
   "source": [
    "alt.Chart(----).mark_----(opacity=0.3).encode(\n",
    "    x = '----:-',\n",
    "    y = '----:-',\n",
    "    detail = '----:-'\n",
    ").properties(\n",
    "    width = 600\n",
    ")"
   ]
  },
  {
   "cell_type": "markdown",
   "metadata": {},
   "source": [
    "## Making a simple DataFrame to hold the year of the polio vaccine introduction\n",
    "\n",
    "We'll use this DataFrame for a rule (solid reference line) to annotate some charts"
   ]
  },
  {
   "cell_type": "code",
   "execution_count": null,
   "metadata": {},
   "outputs": [],
   "source": [
    "vacc = pd.DataFrame([{\"Introduction\": 1955}])"
   ]
  },
  {
   "cell_type": "markdown",
   "metadata": {},
   "source": [
    "## Timeline of all states overlayed with mean cases across states\n",
    "\n",
    "### Now we'll practice layering up multiple charts using the `+` operator.\n",
    "\n",
    "- Make the bottom layer just like your previous plot, with one line per state.\n",
    "    - Try adding `strokeWidth=0.5, color='lightgray'` to make this part less prominent\n",
    "- Put over that a single bolder line showing the **mean** number of cases per year (across all states)\n",
    "- Also add vertical rule at 1955 introduction of vaccine\n",
    "\n",
    "**Note that we can layer charts using data from different DataFrames!**"
   ]
  },
  {
   "cell_type": "code",
   "execution_count": null,
   "metadata": {},
   "outputs": [],
   "source": [
    "state_lines = alt.Chart(----).----\n",
    "\n",
    "mean_line = alt.Chart(----).mark_line(strokeWidth=3).encode(----)\n",
    "\n",
    "rule = alt.Chart(vacc).mark_rule().encode(\n",
    "    x='Introduction:O'\n",
    ")\n",
    "\n",
    "state_lines + mean_line + rule"
   ]
  },
  {
   "cell_type": "markdown",
   "metadata": {},
   "source": [
    "## Median line with upper and lower quartile boundaries\n",
    "\n",
    "Often data patterns are more clear if you don't show as much detail. We can use an area plot to show upper and lower quartile bounds around a (layered) median line\n",
    "\n",
    "- Remember to use median as the aggregation function\n",
    "- The `mark_area()` has both y and y2 encoding channels\n",
    "- these will be the lower and upper bounds of the area plotted\n",
    "- `q1()` and `q3()` are aggregation functions which calculate the lower and upper quartile, respectively"
   ]
  },
  {
   "cell_type": "code",
   "execution_count": null,
   "metadata": {},
   "outputs": [],
   "source": [
    "base = alt.Chart(polio).properties(width=500)\n",
    "\n",
    "line = base.mark_line().encode(----)\n",
    "\n",
    "confidence_interval = base.mark_area(opacity=0.3).encode(\n",
    "    x ='----:-',\n",
    "    y = 'q1(----)',\n",
    "    y2 = 'q3(----)'\n",
    ")\n",
    "\n",
    "rule = alt.Chart(----).----\n",
    "\n",
    "confidence_interval + line + rule"
   ]
  },
  {
   "cell_type": "markdown",
   "metadata": {},
   "source": [
    "## Heatmap of cases by state and year\n",
    "\n",
    "A heatmap is a nice, compact data representation that can show a lot of data at once. Here we'll show all of the  details of all states' rates of disease over all the years by making a grid and representing the rate values by a colormap.\n",
    "\n",
    "- Use rectangle marks\n",
    "- show number of cases in color\n",
    "- states on the left (vertical axis)\n",
    "- years on the bottom (horizontal axis)\n",
    "\n",
    "We're changing from the default color scheme, and increasing the contrast by setting the domain (values over which the color varies) to less than the bounds of the data.\n",
    "\n",
    "[Vega-Lite color schemes](https://vega.github.io/vega/docs/schemes/)\n",
    "\n",
    "*(Note: To see the trend more clearly, limit the color scale domain from 0-50.)*"
   ]
  },
  {
   "cell_type": "code",
   "execution_count": null,
   "metadata": {},
   "outputs": [],
   "source": [
    "alt.Chart(----).mark_----().encode(\n",
    "    x = '----:-',\n",
    "    y = '----:-',\n",
    "    color = alt.Color('----:-').scale(scheme='reds', domain=[0,50])\n",
    ").properties(\n",
    "    width = 500,\n",
    "    height = 500\n",
    ")"
   ]
  },
  {
   "cell_type": "markdown",
   "metadata": {},
   "source": [
    "## Heatmap with states sorted by sum of cases & vaccine introduction rule\n",
    "\n",
    "As we've seen before, alphabetical ordering of categories is fine for lookup, but often hides the patterns in the data. It's better if we can order the categories (here the states) by some reasonable criteria.\n",
    "\n",
    "So, we'll do basically the same heatmap as above, but this time we'll improve it by:\n",
    "\n",
    "- sorting the states by the sum of the number of cases (over all years)\n",
    "- add a vertical rule at the year when the vaccine was introduced (layered over the heatmap)\n",
    "\n",
    "Remember we can sort a Y axis by following the alt.Y() with .sort()\n",
    "\n",
    "```\n",
    "alt.Y(__).sort(field=\"__\", op=\"__\", order=\"__\")\n",
    "```"
   ]
  },
  {
   "cell_type": "code",
   "execution_count": null,
   "metadata": {},
   "outputs": [],
   "source": [
    "heatmap = alt.Chart(----).----\n",
    "\n",
    "rule = alt.Chart(----).----\n",
    "\n",
    "---- - ----"
   ]
  },
  {
   "cell_type": "code",
   "execution_count": null,
   "metadata": {},
   "outputs": [],
   "source": []
  }
 ],
 "metadata": {
  "kernelspec": {
   "display_name": "Python 3 (ipykernel)",
   "language": "python",
   "name": "python3"
  },
  "language_info": {
   "codemirror_mode": {
    "name": "ipython",
    "version": 3
   },
   "file_extension": ".py",
   "mimetype": "text/x-python",
   "name": "python",
   "nbconvert_exporter": "python",
   "pygments_lexer": "ipython3",
   "version": "3.9.12"
  }
 },
 "nbformat": 4,
 "nbformat_minor": 4
}
