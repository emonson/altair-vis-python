{
 "cells": [
  {
   "cell_type": "markdown",
   "metadata": {},
   "source": [
    "# Larger library pageviews with Pandas alternatives\n",
    "\n",
    "This is the still subsampled from the original, but 20x number of rows, data on library item web page views from 2012 Google Analytics. Here you can see how slow and bogged down Altair gets when doing filtering and aggregation, even when only eventually viewing a small subset of the data rows.\n",
    "\n",
    "Because of this, I played around with alternative filtering, aggregation and data join (lookup) methods within Pandas before feeding the data to Altair."
   ]
  },
  {
   "cell_type": "code",
   "execution_count": 1,
   "metadata": {},
   "outputs": [],
   "source": [
    "import pandas as pd\n",
    "import altair as alt\n",
    "from altair import datum"
   ]
  },
  {
   "cell_type": "markdown",
   "metadata": {},
   "source": [
    "## Read in library web site page views data\n"
   ]
  },
  {
   "cell_type": "code",
   "execution_count": 2,
   "metadata": {},
   "outputs": [
    {
     "data": {
      "text/html": [
       "<div>\n",
       "<style scoped>\n",
       "    .dataframe tbody tr th:only-of-type {\n",
       "        vertical-align: middle;\n",
       "    }\n",
       "\n",
       "    .dataframe tbody tr th {\n",
       "        vertical-align: top;\n",
       "    }\n",
       "\n",
       "    .dataframe thead th {\n",
       "        text-align: right;\n",
       "    }\n",
       "</style>\n",
       "<table border=\"1\" class=\"dataframe\">\n",
       "  <thead>\n",
       "    <tr style=\"text-align: right;\">\n",
       "      <th></th>\n",
       "      <th>timestamp</th>\n",
       "      <th>lcc_first_letter</th>\n",
       "      <th>lcc_category</th>\n",
       "      <th>visitors</th>\n",
       "      <th>visitors_per_lcc_category</th>\n",
       "      <th>visitors_per_lcc_first</th>\n",
       "      <th>loc</th>\n",
       "      <th>city</th>\n",
       "      <th>region</th>\n",
       "      <th>country</th>\n",
       "    </tr>\n",
       "  </thead>\n",
       "  <tbody>\n",
       "    <tr>\n",
       "      <th>0</th>\n",
       "      <td>2012-01-01T20:00:00Z</td>\n",
       "      <td>D</td>\n",
       "      <td>DT</td>\n",
       "      <td>1</td>\n",
       "      <td>0.000140</td>\n",
       "      <td>0.000016</td>\n",
       "      <td>[ -79.792, 36.0726 ]</td>\n",
       "      <td>Greensboro</td>\n",
       "      <td>North Carolina</td>\n",
       "      <td>United States</td>\n",
       "    </tr>\n",
       "    <tr>\n",
       "      <th>1</th>\n",
       "      <td>2012-01-01T17:00:00Z</td>\n",
       "      <td>P</td>\n",
       "      <td>PN</td>\n",
       "      <td>1</td>\n",
       "      <td>0.000012</td>\n",
       "      <td>0.000005</td>\n",
       "      <td>[ -121.8747, 37.6624 ]</td>\n",
       "      <td>Pleasanton</td>\n",
       "      <td>California</td>\n",
       "      <td>United States</td>\n",
       "    </tr>\n",
       "    <tr>\n",
       "      <th>2</th>\n",
       "      <td>2012-01-01T00:00:00Z</td>\n",
       "      <td>D</td>\n",
       "      <td>DS</td>\n",
       "      <td>1</td>\n",
       "      <td>0.000041</td>\n",
       "      <td>0.000016</td>\n",
       "      <td>[ -80.84310000000001, 35.2271 ]</td>\n",
       "      <td>Charlotte</td>\n",
       "      <td>North Carolina</td>\n",
       "      <td>United States</td>\n",
       "    </tr>\n",
       "    <tr>\n",
       "      <th>3</th>\n",
       "      <td>2012-01-01T13:00:00Z</td>\n",
       "      <td>J</td>\n",
       "      <td>JK</td>\n",
       "      <td>2</td>\n",
       "      <td>0.000429</td>\n",
       "      <td>0.000069</td>\n",
       "      <td>[ -78.8986, 35.994 ]</td>\n",
       "      <td>Durham</td>\n",
       "      <td>North Carolina</td>\n",
       "      <td>United States</td>\n",
       "    </tr>\n",
       "    <tr>\n",
       "      <th>4</th>\n",
       "      <td>2012-01-01T10:00:00Z</td>\n",
       "      <td>P</td>\n",
       "      <td>PT</td>\n",
       "      <td>1</td>\n",
       "      <td>0.000211</td>\n",
       "      <td>0.000005</td>\n",
       "      <td>[ -78.8986, 35.994 ]</td>\n",
       "      <td>Durham</td>\n",
       "      <td>North Carolina</td>\n",
       "      <td>United States</td>\n",
       "    </tr>\n",
       "  </tbody>\n",
       "</table>\n",
       "</div>"
      ],
      "text/plain": [
       "              timestamp lcc_first_letter lcc_category  visitors  \\\n",
       "0  2012-01-01T20:00:00Z                D           DT         1   \n",
       "1  2012-01-01T17:00:00Z                P           PN         1   \n",
       "2  2012-01-01T00:00:00Z                D           DS         1   \n",
       "3  2012-01-01T13:00:00Z                J           JK         2   \n",
       "4  2012-01-01T10:00:00Z                P           PT         1   \n",
       "\n",
       "   visitors_per_lcc_category  visitors_per_lcc_first  \\\n",
       "0                   0.000140                0.000016   \n",
       "1                   0.000012                0.000005   \n",
       "2                   0.000041                0.000016   \n",
       "3                   0.000429                0.000069   \n",
       "4                   0.000211                0.000005   \n",
       "\n",
       "                               loc        city          region        country  \n",
       "0             [ -79.792, 36.0726 ]  Greensboro  North Carolina  United States  \n",
       "1           [ -121.8747, 37.6624 ]  Pleasanton      California  United States  \n",
       "2  [ -80.84310000000001, 35.2271 ]   Charlotte  North Carolina  United States  \n",
       "3             [ -78.8986, 35.994 ]      Durham  North Carolina  United States  \n",
       "4             [ -78.8986, 35.994 ]      Durham  North Carolina  United States  "
      ]
     },
     "execution_count": 2,
     "metadata": {},
     "output_type": "execute_result"
    }
   ],
   "source": [
    "pageviews = pd.read_csv('/Users/emonson/Dropbox/Projects/LibraryVis/pageviews_20130403.csv')\n",
    "pageviews.head()"
   ]
  },
  {
   "cell_type": "markdown",
   "metadata": {},
   "source": [
    "#### You can see this set is close to 200k rows!"
   ]
  },
  {
   "cell_type": "code",
   "execution_count": 3,
   "metadata": {},
   "outputs": [
    {
     "data": {
      "text/plain": [
       "1064922"
      ]
     },
     "execution_count": 3,
     "metadata": {},
     "output_type": "execute_result"
    }
   ],
   "source": [
    "len(pageviews)"
   ]
  },
  {
   "cell_type": "code",
   "execution_count": 4,
   "metadata": {},
   "outputs": [
    {
     "data": {
      "text/plain": [
       "timestamp                     object\n",
       "lcc_first_letter              object\n",
       "lcc_category                  object\n",
       "visitors                       int64\n",
       "visitors_per_lcc_category    float64\n",
       "visitors_per_lcc_first       float64\n",
       "loc                           object\n",
       "city                          object\n",
       "region                        object\n",
       "country                       object\n",
       "dtype: object"
      ]
     },
     "execution_count": 4,
     "metadata": {},
     "output_type": "execute_result"
    }
   ],
   "source": [
    "pageviews.dtypes"
   ]
  },
  {
   "cell_type": "markdown",
   "metadata": {},
   "source": [
    "## Change ISO_time to a true date and time data type"
   ]
  },
  {
   "cell_type": "code",
   "execution_count": 5,
   "metadata": {},
   "outputs": [
    {
     "data": {
      "text/plain": [
       "timestamp                    datetime64[ns, UTC]\n",
       "lcc_first_letter                          object\n",
       "lcc_category                              object\n",
       "visitors                                   int64\n",
       "visitors_per_lcc_category                float64\n",
       "visitors_per_lcc_first                   float64\n",
       "loc                                       object\n",
       "city                                      object\n",
       "region                                    object\n",
       "country                                   object\n",
       "dtype: object"
      ]
     },
     "execution_count": 5,
     "metadata": {},
     "output_type": "execute_result"
    }
   ],
   "source": [
    "pageviews['timestamp'] = pd.to_datetime(pageviews.timestamp)\n",
    "pageviews.dtypes"
   ]
  },
  {
   "cell_type": "code",
   "execution_count": 6,
   "metadata": {},
   "outputs": [
    {
     "data": {
      "text/html": [
       "<div>\n",
       "<style scoped>\n",
       "    .dataframe tbody tr th:only-of-type {\n",
       "        vertical-align: middle;\n",
       "    }\n",
       "\n",
       "    .dataframe tbody tr th {\n",
       "        vertical-align: top;\n",
       "    }\n",
       "\n",
       "    .dataframe thead th {\n",
       "        text-align: right;\n",
       "    }\n",
       "</style>\n",
       "<table border=\"1\" class=\"dataframe\">\n",
       "  <thead>\n",
       "    <tr style=\"text-align: right;\">\n",
       "      <th></th>\n",
       "      <th>timestamp</th>\n",
       "      <th>lcc_first_letter</th>\n",
       "      <th>lcc_category</th>\n",
       "      <th>visitors</th>\n",
       "      <th>visitors_per_lcc_category</th>\n",
       "      <th>visitors_per_lcc_first</th>\n",
       "      <th>loc</th>\n",
       "      <th>city</th>\n",
       "      <th>region</th>\n",
       "      <th>country</th>\n",
       "      <th>longitude</th>\n",
       "      <th>latitude</th>\n",
       "    </tr>\n",
       "  </thead>\n",
       "  <tbody>\n",
       "    <tr>\n",
       "      <th>0</th>\n",
       "      <td>2012-01-01 20:00:00+00:00</td>\n",
       "      <td>D</td>\n",
       "      <td>DT</td>\n",
       "      <td>1</td>\n",
       "      <td>0.000140</td>\n",
       "      <td>0.000016</td>\n",
       "      <td>[ -79.792, 36.0726 ]</td>\n",
       "      <td>Greensboro</td>\n",
       "      <td>North Carolina</td>\n",
       "      <td>United States</td>\n",
       "      <td>-79.7920</td>\n",
       "      <td>36.0726</td>\n",
       "    </tr>\n",
       "    <tr>\n",
       "      <th>1</th>\n",
       "      <td>2012-01-01 17:00:00+00:00</td>\n",
       "      <td>P</td>\n",
       "      <td>PN</td>\n",
       "      <td>1</td>\n",
       "      <td>0.000012</td>\n",
       "      <td>0.000005</td>\n",
       "      <td>[ -121.8747, 37.6624 ]</td>\n",
       "      <td>Pleasanton</td>\n",
       "      <td>California</td>\n",
       "      <td>United States</td>\n",
       "      <td>-121.8747</td>\n",
       "      <td>37.6624</td>\n",
       "    </tr>\n",
       "    <tr>\n",
       "      <th>2</th>\n",
       "      <td>2012-01-01 00:00:00+00:00</td>\n",
       "      <td>D</td>\n",
       "      <td>DS</td>\n",
       "      <td>1</td>\n",
       "      <td>0.000041</td>\n",
       "      <td>0.000016</td>\n",
       "      <td>[ -80.84310000000001, 35.2271 ]</td>\n",
       "      <td>Charlotte</td>\n",
       "      <td>North Carolina</td>\n",
       "      <td>United States</td>\n",
       "      <td>-80.8431</td>\n",
       "      <td>35.2271</td>\n",
       "    </tr>\n",
       "    <tr>\n",
       "      <th>3</th>\n",
       "      <td>2012-01-01 13:00:00+00:00</td>\n",
       "      <td>J</td>\n",
       "      <td>JK</td>\n",
       "      <td>2</td>\n",
       "      <td>0.000429</td>\n",
       "      <td>0.000069</td>\n",
       "      <td>[ -78.8986, 35.994 ]</td>\n",
       "      <td>Durham</td>\n",
       "      <td>North Carolina</td>\n",
       "      <td>United States</td>\n",
       "      <td>-78.8986</td>\n",
       "      <td>35.9940</td>\n",
       "    </tr>\n",
       "    <tr>\n",
       "      <th>4</th>\n",
       "      <td>2012-01-01 10:00:00+00:00</td>\n",
       "      <td>P</td>\n",
       "      <td>PT</td>\n",
       "      <td>1</td>\n",
       "      <td>0.000211</td>\n",
       "      <td>0.000005</td>\n",
       "      <td>[ -78.8986, 35.994 ]</td>\n",
       "      <td>Durham</td>\n",
       "      <td>North Carolina</td>\n",
       "      <td>United States</td>\n",
       "      <td>-78.8986</td>\n",
       "      <td>35.9940</td>\n",
       "    </tr>\n",
       "  </tbody>\n",
       "</table>\n",
       "</div>"
      ],
      "text/plain": [
       "                  timestamp lcc_first_letter lcc_category  visitors  \\\n",
       "0 2012-01-01 20:00:00+00:00                D           DT         1   \n",
       "1 2012-01-01 17:00:00+00:00                P           PN         1   \n",
       "2 2012-01-01 00:00:00+00:00                D           DS         1   \n",
       "3 2012-01-01 13:00:00+00:00                J           JK         2   \n",
       "4 2012-01-01 10:00:00+00:00                P           PT         1   \n",
       "\n",
       "   visitors_per_lcc_category  visitors_per_lcc_first  \\\n",
       "0                   0.000140                0.000016   \n",
       "1                   0.000012                0.000005   \n",
       "2                   0.000041                0.000016   \n",
       "3                   0.000429                0.000069   \n",
       "4                   0.000211                0.000005   \n",
       "\n",
       "                               loc        city          region        country  \\\n",
       "0             [ -79.792, 36.0726 ]  Greensboro  North Carolina  United States   \n",
       "1           [ -121.8747, 37.6624 ]  Pleasanton      California  United States   \n",
       "2  [ -80.84310000000001, 35.2271 ]   Charlotte  North Carolina  United States   \n",
       "3             [ -78.8986, 35.994 ]      Durham  North Carolina  United States   \n",
       "4             [ -78.8986, 35.994 ]      Durham  North Carolina  United States   \n",
       "\n",
       "   longitude  latitude  \n",
       "0   -79.7920   36.0726  \n",
       "1  -121.8747   37.6624  \n",
       "2   -80.8431   35.2271  \n",
       "3   -78.8986   35.9940  \n",
       "4   -78.8986   35.9940  "
      ]
     },
     "execution_count": 6,
     "metadata": {},
     "output_type": "execute_result"
    }
   ],
   "source": [
    "pageviews[['longitude','latitude']] = pageviews['loc'].str.extract(r'\\[ ([0-9.-]+), ([0-9.-]+) \\]').astype('float')\n",
    "# pageviews['longitude'] = pageviews['longitude'].astype('float')\n",
    "# pageviews['latitude'] = pageviews['latitude'].astype('float')\n",
    "pageviews.head()"
   ]
  },
  {
   "cell_type": "code",
   "execution_count": 7,
   "metadata": {},
   "outputs": [
    {
     "data": {
      "text/plain": [
       "timestamp                    datetime64[ns, UTC]\n",
       "lcc_first_letter                          object\n",
       "lcc_category                              object\n",
       "visitors                                   int64\n",
       "visitors_per_lcc_category                float64\n",
       "visitors_per_lcc_first                   float64\n",
       "loc                                       object\n",
       "city                                      object\n",
       "region                                    object\n",
       "country                                   object\n",
       "longitude                                float64\n",
       "latitude                                 float64\n",
       "dtype: object"
      ]
     },
     "execution_count": 7,
     "metadata": {},
     "output_type": "execute_result"
    }
   ],
   "source": [
    "pageviews.dtypes"
   ]
  },
  {
   "cell_type": "markdown",
   "metadata": {},
   "source": [
    "## MaxRowsError\n",
    "\n",
    "Can take off limit for number of rows, but that's not a great idea because the notebook will have a Vega-Lite JSON specification (text) embedded for every output pane, which also includes the data, so you end up with huge notebooks!\n",
    "\n",
    "Instead, we can specify that the outputs should just refer to a JSON file on your local drive and load in the data from there for each plot.\n",
    "\n",
    "See the Altair tutorial notebook `03-Binning-and-aggregation` for more details."
   ]
  },
  {
   "cell_type": "code",
   "execution_count": 8,
   "metadata": {},
   "outputs": [
    {
     "data": {
      "text/plain": [
       "vegafusion.enable_widget()"
      ]
     },
     "execution_count": 8,
     "metadata": {},
     "output_type": "execute_result"
    }
   ],
   "source": [
    "import vegafusion as vf\n",
    "vf.enable_widget()"
   ]
  },
  {
   "cell_type": "markdown",
   "metadata": {},
   "source": [
    "## Visitors continuous time line\n",
    "\n",
    "#### A sum of visitors per day shows some weekly and seasonal detail\n",
    "\n",
    "[timeunit valid entries](https://altair-viz.github.io/user_guide/transform.html#timeunit-transform) are listed within a type of data transform called a **TimeUnit Transform**"
   ]
  },
  {
   "cell_type": "code",
   "execution_count": 9,
   "metadata": {},
   "outputs": [
    {
     "data": {
      "application/vnd.jupyter.widget-view+json": {
       "model_id": "a34cb0267d704ac3ba939bb901470f51",
       "version_major": 2,
       "version_minor": 0
      },
      "text/plain": [
       "VegaFusionWidget(spec='{\\n  \"config\": {\\n    \"view\": {\\n      \"continuousWidth\": 300,\\n      \"continuousHeight…"
      ]
     },
     "metadata": {},
     "output_type": "display_data"
    },
    {
     "data": {
      "text/plain": []
     },
     "execution_count": 9,
     "metadata": {},
     "output_type": "execute_result"
    }
   ],
   "source": [
    "alt.Chart(pageviews).mark_line().encode(\n",
    "    x = 'yearmonthdate(timestamp):T',\n",
    "    y = 'sum(visitors):Q',\n",
    "    tooltip = 'yearmonthdate(timestamp):T'\n",
    ").properties(\n",
    "    width=600,\n",
    "    height=150\n",
    ")"
   ]
  },
  {
   "cell_type": "markdown",
   "metadata": {},
   "source": [
    "#### You can see view drops during the school holidays clearly in the Durham pageviews"
   ]
  },
  {
   "cell_type": "code",
   "execution_count": 10,
   "metadata": {},
   "outputs": [
    {
     "data": {
      "application/vnd.jupyter.widget-view+json": {
       "model_id": "9129d5c470c14204a513858e45385e88",
       "version_major": 2,
       "version_minor": 0
      },
      "text/plain": [
       "VegaFusionWidget(spec='{\\n  \"config\": {\\n    \"view\": {\\n      \"continuousWidth\": 300,\\n      \"continuousHeight…"
      ]
     },
     "metadata": {},
     "output_type": "display_data"
    },
    {
     "data": {
      "text/plain": []
     },
     "execution_count": 10,
     "metadata": {},
     "output_type": "execute_result"
    }
   ],
   "source": [
    "alt.Chart(pageviews).mark_line().encode(\n",
    "    x = 'yearmonthdate(timestamp):T',\n",
    "    y = 'sum(visitors):Q',\n",
    "    tooltip = 'yearmonthdate(timestamp):T'\n",
    ").transform_filter(\n",
    "    datum.city == 'Durham'\n",
    ").properties(\n",
    "    width=600,\n",
    "    height=150\n",
    ")"
   ]
  },
  {
   "cell_type": "markdown",
   "metadata": {},
   "source": [
    "#### Doing filtering with Pandas and only feeding Altair relevant columns\n",
    "\n",
    "On my development machine this takes only about 1/3 or 1/4 of the time"
   ]
  },
  {
   "cell_type": "code",
   "execution_count": 11,
   "metadata": {},
   "outputs": [
    {
     "data": {
      "application/vnd.jupyter.widget-view+json": {
       "model_id": "8fb2f50a911d4502bd24d47a16d277c5",
       "version_major": 2,
       "version_minor": 0
      },
      "text/plain": [
       "VegaFusionWidget(spec='{\\n  \"config\": {\\n    \"view\": {\\n      \"continuousWidth\": 300,\\n      \"continuousHeight…"
      ]
     },
     "metadata": {},
     "output_type": "display_data"
    },
    {
     "data": {
      "text/plain": []
     },
     "execution_count": 11,
     "metadata": {},
     "output_type": "execute_result"
    }
   ],
   "source": [
    "durham_views = pageviews.loc[pageviews.city == \"Durham\"]\n",
    "\n",
    "alt.Chart(durham_views[['timestamp','visitors']]).mark_line().encode(\n",
    "    x = 'yearmonthdate(timestamp):T',\n",
    "    y = 'sum(visitors):Q',\n",
    "    tooltip = 'yearmonthdate(timestamp):T'\n",
    ").properties(\n",
    "    width=600,\n",
    "    height=150\n",
    ")"
   ]
  },
  {
   "cell_type": "markdown",
   "metadata": {},
   "source": [
    "## Visitors by hour of day\n",
    "\n",
    "[timeunit valid entries](https://altair-viz.github.io/user_guide/transform.html#timeunit-transform)"
   ]
  },
  {
   "cell_type": "code",
   "execution_count": 12,
   "metadata": {},
   "outputs": [
    {
     "data": {
      "application/vnd.jupyter.widget-view+json": {
       "model_id": "a84d9e1ddd744571bb59d7ed5ef0dbd1",
       "version_major": 2,
       "version_minor": 0
      },
      "text/plain": [
       "VegaFusionWidget(spec='{\\n  \"config\": {\\n    \"view\": {\\n      \"continuousWidth\": 300,\\n      \"continuousHeight…"
      ]
     },
     "metadata": {},
     "output_type": "display_data"
    },
    {
     "data": {
      "text/plain": []
     },
     "execution_count": 12,
     "metadata": {},
     "output_type": "execute_result"
    }
   ],
   "source": [
    "alt.Chart(pageviews).mark_line().encode(\n",
    "    x= 'hours(timestamp):T',\n",
    "    y = 'sum(visitors):Q'\n",
    ")"
   ]
  },
  {
   "cell_type": "markdown",
   "metadata": {},
   "source": [
    "#### Doing aggregation using Pandas instead"
   ]
  },
  {
   "cell_type": "code",
   "execution_count": 13,
   "metadata": {},
   "outputs": [
    {
     "data": {
      "application/vnd.jupyter.widget-view+json": {
       "model_id": "7210dcb4fe894c66bb5be4df20a35a22",
       "version_major": 2,
       "version_minor": 0
      },
      "text/plain": [
       "VegaFusionWidget(spec='{\\n  \"config\": {\\n    \"view\": {\\n      \"continuousWidth\": 300,\\n      \"continuousHeight…"
      ]
     },
     "metadata": {},
     "output_type": "display_data"
    },
    {
     "data": {
      "text/plain": []
     },
     "execution_count": 13,
     "metadata": {},
     "output_type": "execute_result"
    }
   ],
   "source": [
    "per_hour_of_day = pageviews.groupby(pageviews.timestamp.dt.hour).sum().reset_index()\n",
    "\n",
    "alt.Chart(per_hour_of_day).mark_line().encode(\n",
    "    x= 'timestamp:Q',\n",
    "    y = 'visitors:Q'\n",
    ")"
   ]
  },
  {
   "cell_type": "markdown",
   "metadata": {},
   "source": [
    "## Weekday vs hour of day heatmap\n",
    "\n",
    "*Notice here that we change from a Time data type to Ordinal to get discreet marks*"
   ]
  },
  {
   "cell_type": "code",
   "execution_count": 14,
   "metadata": {},
   "outputs": [
    {
     "data": {
      "application/vnd.jupyter.widget-view+json": {
       "model_id": "fdb7c15001784f3aa884e68d4449c995",
       "version_major": 2,
       "version_minor": 0
      },
      "text/plain": [
       "VegaFusionWidget(spec='{\\n  \"config\": {\\n    \"view\": {\\n      \"continuousWidth\": 300,\\n      \"continuousHeight…"
      ]
     },
     "metadata": {},
     "output_type": "display_data"
    },
    {
     "data": {
      "text/plain": []
     },
     "execution_count": 14,
     "metadata": {},
     "output_type": "execute_result"
    }
   ],
   "source": [
    "alt.Chart(pageviews).mark_rect().encode(\n",
    "    x= 'hours(timestamp):O',\n",
    "    y= 'day(timestamp):O',\n",
    "    color='sum(visitors)'\n",
    ")"
   ]
  },
  {
   "cell_type": "markdown",
   "metadata": {},
   "source": [
    "## Canada, UK China time shift\n",
    "\n",
    "### with Altair doing the filtering"
   ]
  },
  {
   "cell_type": "code",
   "execution_count": 15,
   "metadata": {},
   "outputs": [
    {
     "data": {
      "application/vnd.jupyter.widget-view+json": {
       "model_id": "8f40fbec8ead4fe288d71f1cdd7a81d0",
       "version_major": 2,
       "version_minor": 0
      },
      "text/plain": [
       "VegaFusionWidget(spec='{\\n  \"config\": {\\n    \"view\": {\\n      \"continuousWidth\": 300,\\n      \"continuousHeight…"
      ]
     },
     "metadata": {},
     "output_type": "display_data"
    },
    {
     "data": {
      "text/plain": []
     },
     "execution_count": 15,
     "metadata": {},
     "output_type": "execute_result"
    }
   ],
   "source": [
    "alt.Chart(pageviews).mark_line().encode(\n",
    "    x = 'hours(timestamp):T',\n",
    "    y = 'sum(visitors):Q',\n",
    "    color = 'country'\n",
    ").transform_filter(\n",
    "    (datum.country == 'Canada') | \\\n",
    "    (datum.country == 'United Kingdom') | \\\n",
    "    (datum.country == 'China')\n",
    ")"
   ]
  },
  {
   "cell_type": "markdown",
   "metadata": {},
   "source": [
    "### with Pandas doing the filtering"
   ]
  },
  {
   "cell_type": "code",
   "execution_count": 16,
   "metadata": {},
   "outputs": [
    {
     "data": {
      "application/vnd.jupyter.widget-view+json": {
       "model_id": "c32c26f8608d4cf58330bab56f250622",
       "version_major": 2,
       "version_minor": 0
      },
      "text/plain": [
       "VegaFusionWidget(spec='{\\n  \"config\": {\\n    \"view\": {\\n      \"continuousWidth\": 300,\\n      \"continuousHeight…"
      ]
     },
     "metadata": {},
     "output_type": "display_data"
    },
    {
     "data": {
      "text/plain": []
     },
     "execution_count": 16,
     "metadata": {},
     "output_type": "execute_result"
    }
   ],
   "source": [
    "cauk = pageviews.loc[pageviews.country.isin(['Canada','United Kingdom','China'])]\n",
    "\n",
    "alt.Chart(cauk).mark_line().encode(\n",
    "    x = 'hours(timestamp):T',\n",
    "    y = 'sum(visitors):Q',\n",
    "    color = 'country'\n",
    ")"
   ]
  },
  {
   "cell_type": "markdown",
   "metadata": {},
   "source": [
    "## Map visitors per country without NC results"
   ]
  },
  {
   "cell_type": "code",
   "execution_count": 17,
   "metadata": {},
   "outputs": [
    {
     "data": {
      "text/html": [
       "<div>\n",
       "<style scoped>\n",
       "    .dataframe tbody tr th:only-of-type {\n",
       "        vertical-align: middle;\n",
       "    }\n",
       "\n",
       "    .dataframe tbody tr th {\n",
       "        vertical-align: top;\n",
       "    }\n",
       "\n",
       "    .dataframe thead th {\n",
       "        text-align: right;\n",
       "    }\n",
       "</style>\n",
       "<table border=\"1\" class=\"dataframe\">\n",
       "  <thead>\n",
       "    <tr style=\"text-align: right;\">\n",
       "      <th></th>\n",
       "      <th>ISO 3166 Country Code</th>\n",
       "      <th>Country</th>\n",
       "      <th>Latitude</th>\n",
       "      <th>Longitude</th>\n",
       "    </tr>\n",
       "  </thead>\n",
       "  <tbody>\n",
       "    <tr>\n",
       "      <th>0</th>\n",
       "      <td>AD</td>\n",
       "      <td>Andorra</td>\n",
       "      <td>42.50</td>\n",
       "      <td>1.50</td>\n",
       "    </tr>\n",
       "    <tr>\n",
       "      <th>1</th>\n",
       "      <td>AE</td>\n",
       "      <td>United Arab Emirates</td>\n",
       "      <td>24.00</td>\n",
       "      <td>54.00</td>\n",
       "    </tr>\n",
       "    <tr>\n",
       "      <th>2</th>\n",
       "      <td>AF</td>\n",
       "      <td>Afghanistan</td>\n",
       "      <td>33.00</td>\n",
       "      <td>65.00</td>\n",
       "    </tr>\n",
       "    <tr>\n",
       "      <th>3</th>\n",
       "      <td>AG</td>\n",
       "      <td>Antigua and Barbuda</td>\n",
       "      <td>17.05</td>\n",
       "      <td>-61.80</td>\n",
       "    </tr>\n",
       "    <tr>\n",
       "      <th>4</th>\n",
       "      <td>AI</td>\n",
       "      <td>Anguilla</td>\n",
       "      <td>18.25</td>\n",
       "      <td>-63.17</td>\n",
       "    </tr>\n",
       "  </tbody>\n",
       "</table>\n",
       "</div>"
      ],
      "text/plain": [
       "  ISO 3166 Country Code               Country  Latitude  Longitude\n",
       "0                    AD               Andorra     42.50       1.50\n",
       "1                    AE  United Arab Emirates     24.00      54.00\n",
       "2                    AF           Afghanistan     33.00      65.00\n",
       "3                    AG   Antigua and Barbuda     17.05     -61.80\n",
       "4                    AI              Anguilla     18.25     -63.17"
      ]
     },
     "execution_count": 17,
     "metadata": {},
     "output_type": "execute_result"
    }
   ],
   "source": [
    "# from vega_datasets import data\n",
    "# countries = alt.topo_feature(data.world_110m.url, feature='countries')\n",
    "\n",
    "countries = alt.topo_feature('https://vega.github.io/vega-datasets/data/world-110m.json', \n",
    "                             feature='countries')\n",
    "latlon = pd.read_csv('data/average-latitude-longitude-countries.csv')\n",
    "latlon.head()"
   ]
  },
  {
   "cell_type": "markdown",
   "metadata": {},
   "source": [
    "## Visitors per country (excluding US) symbol map\n",
    "\n",
    "### Doing aggregation, filtering and data join within Altair\n",
    "\n",
    "For some data sources (e.g. data available at a URL, or data that is streaming), it is desirable to have a means of joining data without having to download it for pre-processing in Pandas."
   ]
  },
  {
   "cell_type": "code",
   "execution_count": 18,
   "metadata": {},
   "outputs": [
    {
     "data": {
      "application/vnd.jupyter.widget-view+json": {
       "model_id": "2f5300066bc847d3a2947a12aedde1ba",
       "version_major": 2,
       "version_minor": 0
      },
      "text/plain": [
       "VegaFusionWidget(spec='{\\n  \"config\": {\\n    \"view\": {\\n      \"continuousWidth\": 300,\\n      \"continuousHeight…"
      ]
     },
     "metadata": {},
     "output_type": "display_data"
    },
    {
     "data": {
      "text/plain": []
     },
     "execution_count": 18,
     "metadata": {},
     "output_type": "execute_result"
    }
   ],
   "source": [
    "proj_type = 'mercator'\n",
    "width = 600\n",
    "height = 500\n",
    "clip_extent = [[0,0.075*height],[width,0.8*height]]\n",
    "\n",
    "background = alt.Chart(countries).mark_geoshape(\n",
    "    fill='lightgray',\n",
    "    stroke='white'\n",
    ").project(\n",
    "    type=proj_type,\n",
    "    clipExtent=clip_extent\n",
    ").properties(\n",
    "    width=width,\n",
    "    height=height\n",
    ")\n",
    "\n",
    "points = alt.Chart(pageviews).mark_circle().encode(\n",
    "    longitude = 'Longitude:Q',\n",
    "    latitude = 'Latitude:Q',\n",
    "    size = 'sum_visitors:Q',\n",
    "    tooltip = 'country'\n",
    ").transform_filter(\n",
    "    datum.country != 'United States'\n",
    ").transform_aggregate(\n",
    "    sum_visitors='sum(visitors)',\n",
    "    groupby=['country']\n",
    ").transform_lookup(\n",
    "    lookup = \"country\",\n",
    "    from_ = alt.LookupData(data=latlon, key='Country', fields=['Latitude','Longitude'])\n",
    ").project(\n",
    "    type=proj_type,\n",
    "    clipExtent=clip_extent\n",
    ").properties(\n",
    "    width=width,\n",
    "    height=height\n",
    ")\n",
    "\n",
    "background + points"
   ]
  },
  {
   "cell_type": "markdown",
   "metadata": {},
   "source": [
    "## Map after Pandas aggregation and merge with Lat/Lon"
   ]
  },
  {
   "cell_type": "code",
   "execution_count": 19,
   "metadata": {},
   "outputs": [],
   "source": [
    "no_us = pageviews.loc[pageviews.country != 'United States']\n"
   ]
  },
  {
   "cell_type": "markdown",
   "metadata": {},
   "source": [
    "### If you wanted to aggregate in Pandas\n",
    "\n",
    "- Sum of visitors\n",
    "- Mean of latitude and longitude of visitors"
   ]
  },
  {
   "cell_type": "code",
   "execution_count": 20,
   "metadata": {},
   "outputs": [
    {
     "data": {
      "text/html": [
       "<div>\n",
       "<style scoped>\n",
       "    .dataframe tbody tr th:only-of-type {\n",
       "        vertical-align: middle;\n",
       "    }\n",
       "\n",
       "    .dataframe tbody tr th {\n",
       "        vertical-align: top;\n",
       "    }\n",
       "\n",
       "    .dataframe thead th {\n",
       "        text-align: right;\n",
       "    }\n",
       "</style>\n",
       "<table border=\"1\" class=\"dataframe\">\n",
       "  <thead>\n",
       "    <tr style=\"text-align: right;\">\n",
       "      <th></th>\n",
       "      <th>country</th>\n",
       "      <th>visitors</th>\n",
       "      <th>longitude</th>\n",
       "      <th>latitude</th>\n",
       "    </tr>\n",
       "  </thead>\n",
       "  <tbody>\n",
       "    <tr>\n",
       "      <th>0</th>\n",
       "      <td>(not set)</td>\n",
       "      <td>1314</td>\n",
       "      <td>0.000000</td>\n",
       "      <td>0.000000</td>\n",
       "    </tr>\n",
       "    <tr>\n",
       "      <th>1</th>\n",
       "      <td>Afghanistan</td>\n",
       "      <td>17</td>\n",
       "      <td>69.171700</td>\n",
       "      <td>34.528500</td>\n",
       "    </tr>\n",
       "    <tr>\n",
       "      <th>2</th>\n",
       "      <td>Albania</td>\n",
       "      <td>31</td>\n",
       "      <td>19.831800</td>\n",
       "      <td>41.331600</td>\n",
       "    </tr>\n",
       "    <tr>\n",
       "      <th>3</th>\n",
       "      <td>Algeria</td>\n",
       "      <td>61</td>\n",
       "      <td>2.717126</td>\n",
       "      <td>36.057302</td>\n",
       "    </tr>\n",
       "    <tr>\n",
       "      <th>4</th>\n",
       "      <td>Angola</td>\n",
       "      <td>2</td>\n",
       "      <td>6.618750</td>\n",
       "      <td>-4.406750</td>\n",
       "    </tr>\n",
       "  </tbody>\n",
       "</table>\n",
       "</div>"
      ],
      "text/plain": [
       "       country  visitors  longitude   latitude\n",
       "0    (not set)      1314   0.000000   0.000000\n",
       "1  Afghanistan        17  69.171700  34.528500\n",
       "2      Albania        31  19.831800  41.331600\n",
       "3      Algeria        61   2.717126  36.057302\n",
       "4       Angola         2   6.618750  -4.406750"
      ]
     },
     "execution_count": 20,
     "metadata": {},
     "output_type": "execute_result"
    }
   ],
   "source": [
    "no_us_country = no_us.groupby('country').agg({'visitors':'sum', \n",
    "                         'longitude':'mean', \n",
    "                         'latitude':'mean'}).reset_index()\n",
    "no_us_country.head()"
   ]
  },
  {
   "cell_type": "markdown",
   "metadata": {},
   "source": [
    "### If you wanted to get the Latitude and Longitude through a JOIN (merge)\n",
    "\n",
    "We imported the `latlon` DataFrame earlier from a file, and now we'll do a LEFT JOIN using the country columns as the key field to get the Latitude and Longitude columns."
   ]
  },
  {
   "cell_type": "code",
   "execution_count": 21,
   "metadata": {},
   "outputs": [
    {
     "data": {
      "text/html": [
       "<div>\n",
       "<style scoped>\n",
       "    .dataframe tbody tr th:only-of-type {\n",
       "        vertical-align: middle;\n",
       "    }\n",
       "\n",
       "    .dataframe tbody tr th {\n",
       "        vertical-align: top;\n",
       "    }\n",
       "\n",
       "    .dataframe thead th {\n",
       "        text-align: right;\n",
       "    }\n",
       "</style>\n",
       "<table border=\"1\" class=\"dataframe\">\n",
       "  <thead>\n",
       "    <tr style=\"text-align: right;\">\n",
       "      <th></th>\n",
       "      <th>country</th>\n",
       "      <th>visitors</th>\n",
       "      <th>longitude</th>\n",
       "      <th>latitude</th>\n",
       "      <th>ISO 3166 Country Code</th>\n",
       "      <th>Country</th>\n",
       "      <th>Latitude</th>\n",
       "      <th>Longitude</th>\n",
       "    </tr>\n",
       "  </thead>\n",
       "  <tbody>\n",
       "    <tr>\n",
       "      <th>0</th>\n",
       "      <td>(not set)</td>\n",
       "      <td>1314</td>\n",
       "      <td>0.000000</td>\n",
       "      <td>0.000000</td>\n",
       "      <td>NaN</td>\n",
       "      <td>NaN</td>\n",
       "      <td>NaN</td>\n",
       "      <td>NaN</td>\n",
       "    </tr>\n",
       "    <tr>\n",
       "      <th>1</th>\n",
       "      <td>Afghanistan</td>\n",
       "      <td>17</td>\n",
       "      <td>69.171700</td>\n",
       "      <td>34.528500</td>\n",
       "      <td>AF</td>\n",
       "      <td>Afghanistan</td>\n",
       "      <td>33.0</td>\n",
       "      <td>65.0</td>\n",
       "    </tr>\n",
       "    <tr>\n",
       "      <th>2</th>\n",
       "      <td>Albania</td>\n",
       "      <td>31</td>\n",
       "      <td>19.831800</td>\n",
       "      <td>41.331600</td>\n",
       "      <td>AL</td>\n",
       "      <td>Albania</td>\n",
       "      <td>41.0</td>\n",
       "      <td>20.0</td>\n",
       "    </tr>\n",
       "    <tr>\n",
       "      <th>3</th>\n",
       "      <td>Algeria</td>\n",
       "      <td>61</td>\n",
       "      <td>2.717126</td>\n",
       "      <td>36.057302</td>\n",
       "      <td>DZ</td>\n",
       "      <td>Algeria</td>\n",
       "      <td>28.0</td>\n",
       "      <td>3.0</td>\n",
       "    </tr>\n",
       "    <tr>\n",
       "      <th>4</th>\n",
       "      <td>Angola</td>\n",
       "      <td>2</td>\n",
       "      <td>6.618750</td>\n",
       "      <td>-4.406750</td>\n",
       "      <td>AO</td>\n",
       "      <td>Angola</td>\n",
       "      <td>-12.5</td>\n",
       "      <td>18.5</td>\n",
       "    </tr>\n",
       "  </tbody>\n",
       "</table>\n",
       "</div>"
      ],
      "text/plain": [
       "       country  visitors  longitude   latitude ISO 3166 Country Code  \\\n",
       "0    (not set)      1314   0.000000   0.000000                   NaN   \n",
       "1  Afghanistan        17  69.171700  34.528500                    AF   \n",
       "2      Albania        31  19.831800  41.331600                    AL   \n",
       "3      Algeria        61   2.717126  36.057302                    DZ   \n",
       "4       Angola         2   6.618750  -4.406750                    AO   \n",
       "\n",
       "       Country  Latitude  Longitude  \n",
       "0          NaN       NaN        NaN  \n",
       "1  Afghanistan      33.0       65.0  \n",
       "2      Albania      41.0       20.0  \n",
       "3      Algeria      28.0        3.0  \n",
       "4       Angola     -12.5       18.5  "
      ]
     },
     "execution_count": 21,
     "metadata": {},
     "output_type": "execute_result"
    }
   ],
   "source": [
    "no_us_country_latlon = pd.merge(no_us_country, latlon, how='left',\n",
    "                               left_on='country', right_on='Country')\n",
    "no_us_country_latlon.head()"
   ]
  },
  {
   "cell_type": "markdown",
   "metadata": {},
   "source": [
    "### Version using Lat/Lon looked up through JOIN (merge) with file"
   ]
  },
  {
   "cell_type": "code",
   "execution_count": 22,
   "metadata": {},
   "outputs": [
    {
     "data": {
      "application/vnd.jupyter.widget-view+json": {
       "model_id": "690e605813c94af28723e12baa2f3d71",
       "version_major": 2,
       "version_minor": 0
      },
      "text/plain": [
       "VegaFusionWidget(spec='{\\n  \"config\": {\\n    \"view\": {\\n      \"continuousWidth\": 300,\\n      \"continuousHeight…"
      ]
     },
     "metadata": {},
     "output_type": "display_data"
    },
    {
     "data": {
      "text/plain": []
     },
     "execution_count": 22,
     "metadata": {},
     "output_type": "execute_result"
    }
   ],
   "source": [
    "proj_type = 'mercator'\n",
    "width = 600\n",
    "height = 500\n",
    "clip_extent = [[0,0.075*height],[width,0.8*height]]\n",
    "\n",
    "background = alt.Chart(countries).mark_geoshape(\n",
    "    fill='lightgray',\n",
    "    stroke='white'\n",
    ").project(type = proj_type, \n",
    "          clipExtent = clip_extent\n",
    ").properties(\n",
    "    width = width,\n",
    "    height = height\n",
    ")\n",
    "\n",
    "points = alt.Chart(no_us_country_latlon).mark_circle().encode(\n",
    "    longitude='Longitude:Q',\n",
    "    latitude='Latitude:Q',\n",
    "    size='visitors:Q',\n",
    "    tooltip=alt.Tooltip(['country:O', 'visitors:Q'])\n",
    ").project(\n",
    "    type = proj_type, \n",
    "    clipExtent= clip_extent\n",
    ").properties(\n",
    "    width = width,\n",
    "    height = height\n",
    ")\n",
    "\n",
    "background + points"
   ]
  },
  {
   "cell_type": "markdown",
   "metadata": {},
   "source": [
    "This version seems to use observation averages, whereas the above map uses country centroids looked up"
   ]
  },
  {
   "cell_type": "code",
   "execution_count": 23,
   "metadata": {},
   "outputs": [
    {
     "data": {
      "application/vnd.jupyter.widget-view+json": {
       "model_id": "f3ebfbb317974c3ca1d86bddb2248fd6",
       "version_major": 2,
       "version_minor": 0
      },
      "text/plain": [
       "VegaFusionWidget(spec='{\\n  \"config\": {\\n    \"view\": {\\n      \"continuousWidth\": 300,\\n      \"continuousHeight…"
      ]
     },
     "metadata": {},
     "output_type": "display_data"
    },
    {
     "data": {
      "text/plain": []
     },
     "execution_count": 23,
     "metadata": {},
     "output_type": "execute_result"
    }
   ],
   "source": [
    "proj_type = 'mercator'\n",
    "width = 600\n",
    "height = 500\n",
    "clip_extent = [[0,0.075*height],[width,0.8*height]]\n",
    "\n",
    "background = alt.Chart(countries).mark_geoshape(\n",
    "    fill='lightgray',\n",
    "    stroke='white'\n",
    ").project(type = proj_type, \n",
    "          clipExtent = clip_extent\n",
    ").properties(\n",
    "    width = width,\n",
    "    height = height\n",
    ")\n",
    "\n",
    "points = alt.Chart(no_us_country_latlon).mark_circle().encode(\n",
    "    longitude='longitude:Q',\n",
    "    latitude='latitude:Q',\n",
    "    size='visitors:Q',\n",
    "    tooltip=alt.Tooltip(['country:O', 'visitors:Q'])\n",
    ").project(\n",
    "    type = proj_type, \n",
    "    clipExtent= clip_extent\n",
    ").properties(\n",
    "    width = width,\n",
    "    height = height\n",
    ")\n",
    "\n",
    "background + points"
   ]
  },
  {
   "cell_type": "markdown",
   "metadata": {},
   "source": [
    "### Map of non-NC world cities\n",
    "\n",
    "Aggregation and filtering in Pandas"
   ]
  },
  {
   "cell_type": "code",
   "execution_count": 24,
   "metadata": {},
   "outputs": [
    {
     "data": {
      "application/vnd.jupyter.widget-view+json": {
       "model_id": "9f29481b7ea74e0b907fc37bc70f38de",
       "version_major": 2,
       "version_minor": 0
      },
      "text/plain": [
       "VegaFusionWidget(spec='{\\n  \"config\": {\\n    \"view\": {\\n      \"continuousWidth\": 300,\\n      \"continuousHeight…"
      ]
     },
     "metadata": {},
     "output_type": "display_data"
    },
    {
     "data": {
      "text/plain": []
     },
     "execution_count": 24,
     "metadata": {},
     "output_type": "execute_result"
    }
   ],
   "source": [
    "no_nc = pageviews.loc[pageviews.region != 'North Carolina']\n",
    "\n",
    "no_nc_city = no_nc.groupby(['country','region','city']).agg({'visitors':'sum', \n",
    "                         'longitude':'mean', \n",
    "                         'latitude':'mean'}).reset_index()\n",
    "\n",
    "proj_type = 'mercator'\n",
    "width = 600\n",
    "height = 500\n",
    "clip_extent = [[0,0.075*height],[width,0.8*height]]\n",
    "\n",
    "background = alt.Chart(countries).mark_geoshape(\n",
    "    fill='#e5d8bd',\n",
    "    stroke='white',\n",
    "    opacity=0.5\n",
    ").project(type = proj_type, \n",
    "          clipExtent = clip_extent\n",
    ").properties(\n",
    "    width = width,\n",
    "    height = height\n",
    ")\n",
    "\n",
    "points = alt.Chart(no_nc_city).mark_circle(\n",
    "    opacity = 0.5,\n",
    "    color = '#7570b3'\n",
    ").encode(\n",
    "    longitude='longitude:Q',\n",
    "    latitude='latitude:Q',\n",
    "    size='visitors:Q',\n",
    "    tooltip=alt.Tooltip(['country:N', 'region:N', 'city:N', 'visitors:Q']),\n",
    ").project(\n",
    "    type = proj_type, \n",
    "    clipExtent= clip_extent\n",
    ").properties(\n",
    "    width = width,\n",
    "    height = height\n",
    ")\n",
    "\n",
    "background + points"
   ]
  },
  {
   "cell_type": "code",
   "execution_count": 25,
   "metadata": {},
   "outputs": [
    {
     "data": {
      "text/html": [
       "<div>\n",
       "<style scoped>\n",
       "    .dataframe tbody tr th:only-of-type {\n",
       "        vertical-align: middle;\n",
       "    }\n",
       "\n",
       "    .dataframe tbody tr th {\n",
       "        vertical-align: top;\n",
       "    }\n",
       "\n",
       "    .dataframe thead th {\n",
       "        text-align: right;\n",
       "    }\n",
       "</style>\n",
       "<table border=\"1\" class=\"dataframe\">\n",
       "  <thead>\n",
       "    <tr style=\"text-align: right;\">\n",
       "      <th></th>\n",
       "      <th>country</th>\n",
       "      <th>region</th>\n",
       "      <th>city</th>\n",
       "      <th>visitors</th>\n",
       "      <th>longitude</th>\n",
       "      <th>latitude</th>\n",
       "    </tr>\n",
       "  </thead>\n",
       "  <tbody>\n",
       "    <tr>\n",
       "      <th>0</th>\n",
       "      <td>(not set)</td>\n",
       "      <td>(not set)</td>\n",
       "      <td>(not set)</td>\n",
       "      <td>1314</td>\n",
       "      <td>0.0000</td>\n",
       "      <td>0.0000</td>\n",
       "    </tr>\n",
       "    <tr>\n",
       "      <th>1</th>\n",
       "      <td>Afghanistan</td>\n",
       "      <td>(not set)</td>\n",
       "      <td>Kabul</td>\n",
       "      <td>17</td>\n",
       "      <td>69.1717</td>\n",
       "      <td>34.5285</td>\n",
       "    </tr>\n",
       "    <tr>\n",
       "      <th>2</th>\n",
       "      <td>Albania</td>\n",
       "      <td>(not set)</td>\n",
       "      <td>Tirana</td>\n",
       "      <td>31</td>\n",
       "      <td>19.8318</td>\n",
       "      <td>41.3316</td>\n",
       "    </tr>\n",
       "    <tr>\n",
       "      <th>3</th>\n",
       "      <td>Algeria</td>\n",
       "      <td>(not set)</td>\n",
       "      <td>Algiers</td>\n",
       "      <td>20</td>\n",
       "      <td>3.0420</td>\n",
       "      <td>36.7529</td>\n",
       "    </tr>\n",
       "    <tr>\n",
       "      <th>4</th>\n",
       "      <td>Algeria</td>\n",
       "      <td>(not set)</td>\n",
       "      <td>Annaba</td>\n",
       "      <td>1</td>\n",
       "      <td>7.7555</td>\n",
       "      <td>36.9029</td>\n",
       "    </tr>\n",
       "    <tr>\n",
       "      <th>...</th>\n",
       "      <td>...</td>\n",
       "      <td>...</td>\n",
       "      <td>...</td>\n",
       "      <td>...</td>\n",
       "      <td>...</td>\n",
       "      <td>...</td>\n",
       "    </tr>\n",
       "    <tr>\n",
       "      <th>9254</th>\n",
       "      <td>Zambia</td>\n",
       "      <td>(not set)</td>\n",
       "      <td>Lusaka</td>\n",
       "      <td>12</td>\n",
       "      <td>28.2872</td>\n",
       "      <td>-15.4082</td>\n",
       "    </tr>\n",
       "    <tr>\n",
       "      <th>9255</th>\n",
       "      <td>Zimbabwe</td>\n",
       "      <td>(not set)</td>\n",
       "      <td>(not set)</td>\n",
       "      <td>1</td>\n",
       "      <td>0.0000</td>\n",
       "      <td>0.0000</td>\n",
       "    </tr>\n",
       "    <tr>\n",
       "      <th>9256</th>\n",
       "      <td>Zimbabwe</td>\n",
       "      <td>(not set)</td>\n",
       "      <td>Bulawayo</td>\n",
       "      <td>1</td>\n",
       "      <td>28.6265</td>\n",
       "      <td>-20.1325</td>\n",
       "    </tr>\n",
       "    <tr>\n",
       "      <th>9257</th>\n",
       "      <td>Zimbabwe</td>\n",
       "      <td>(not set)</td>\n",
       "      <td>Gweru</td>\n",
       "      <td>5</td>\n",
       "      <td>29.8177</td>\n",
       "      <td>-19.4513</td>\n",
       "    </tr>\n",
       "    <tr>\n",
       "      <th>9258</th>\n",
       "      <td>Zimbabwe</td>\n",
       "      <td>(not set)</td>\n",
       "      <td>Harare</td>\n",
       "      <td>11</td>\n",
       "      <td>31.0540</td>\n",
       "      <td>-17.8292</td>\n",
       "    </tr>\n",
       "  </tbody>\n",
       "</table>\n",
       "<p>9259 rows × 6 columns</p>\n",
       "</div>"
      ],
      "text/plain": [
       "          country     region       city  visitors  longitude  latitude\n",
       "0       (not set)  (not set)  (not set)      1314     0.0000    0.0000\n",
       "1     Afghanistan  (not set)      Kabul        17    69.1717   34.5285\n",
       "2         Albania  (not set)     Tirana        31    19.8318   41.3316\n",
       "3         Algeria  (not set)    Algiers        20     3.0420   36.7529\n",
       "4         Algeria  (not set)     Annaba         1     7.7555   36.9029\n",
       "...           ...        ...        ...       ...        ...       ...\n",
       "9254       Zambia  (not set)     Lusaka        12    28.2872  -15.4082\n",
       "9255     Zimbabwe  (not set)  (not set)         1     0.0000    0.0000\n",
       "9256     Zimbabwe  (not set)   Bulawayo         1    28.6265  -20.1325\n",
       "9257     Zimbabwe  (not set)      Gweru         5    29.8177  -19.4513\n",
       "9258     Zimbabwe  (not set)     Harare        11    31.0540  -17.8292\n",
       "\n",
       "[9259 rows x 6 columns]"
      ]
     },
     "execution_count": 25,
     "metadata": {},
     "output_type": "execute_result"
    }
   ],
   "source": [
    "no_nc_city"
   ]
  },
  {
   "cell_type": "markdown",
   "metadata": {},
   "source": [
    "### Map of non-NC US cities\n",
    "\n",
    "Aggregation and filtering in Altair\n",
    "\n",
    "*Note that with groupby you need to do all of your aggregation in the transform_aggregate() section!*"
   ]
  },
  {
   "cell_type": "code",
   "execution_count": 26,
   "metadata": {},
   "outputs": [
    {
     "data": {
      "application/vnd.jupyter.widget-view+json": {
       "model_id": "54b7d67765584c8d95c1603497a21cff",
       "version_major": 2,
       "version_minor": 0
      },
      "text/plain": [
       "VegaFusionWidget(spec='{\\n  \"config\": {\\n    \"view\": {\\n      \"continuousWidth\": 300,\\n      \"continuousHeight…"
      ]
     },
     "metadata": {},
     "output_type": "display_data"
    },
    {
     "data": {
      "text/plain": []
     },
     "execution_count": 26,
     "metadata": {},
     "output_type": "execute_result"
    }
   ],
   "source": [
    "# If you had done before\n",
    "# from vega_datasets import data\n",
    "# states = alt.topo_feature(data.us_10m.url, 'states')\n",
    "\n",
    "states = alt.topo_feature('https://vega.github.io/vega-datasets/data/us-10m.json', 'states')\n",
    "proj_type = 'albersUsa'\n",
    "width = 600\n",
    "height = 400\n",
    "\n",
    "background = alt.Chart(states).mark_geoshape(\n",
    "    fill='#e5d8bd',\n",
    "    stroke='white',\n",
    "    opacity=0.5\n",
    ").project(\n",
    "    type = proj_type\n",
    ").properties(\n",
    "    width = width,\n",
    "    height = height\n",
    ")\n",
    "\n",
    "points = alt.Chart(pageviews).mark_circle(\n",
    "    opacity = 0.5,\n",
    "    color = '#7570b3'\n",
    ").encode(\n",
    "    longitude = 'mean_longitude:Q',\n",
    "    latitude = 'mean_latitude:Q',\n",
    "    size = 'sum_visitors:Q',\n",
    "    tooltip=alt.Tooltip(['region:N', 'city:N', 'sum_visitors:Q']),\n",
    ").transform_filter(\n",
    "    (datum.country == 'United States') & (datum.region != 'North Carolina')\n",
    ").transform_aggregate(\n",
    "    sum_visitors = 'sum(visitors)',\n",
    "    mean_longitude = 'mean(longitude)',\n",
    "    mean_latitude = 'mean(latitude)',\n",
    "    groupby=['country','region','city']\n",
    ").project(\n",
    "    type = proj_type\n",
    ").properties(\n",
    "    width = width,\n",
    "    height = height\n",
    ")\n",
    "\n",
    "background + points"
   ]
  },
  {
   "cell_type": "markdown",
   "metadata": {},
   "source": [
    "### Map of non-NC US cities\n",
    "\n",
    "Aggregation and filtering in Pandas"
   ]
  },
  {
   "cell_type": "code",
   "execution_count": 27,
   "metadata": {},
   "outputs": [
    {
     "data": {
      "application/vnd.jupyter.widget-view+json": {
       "model_id": "4a547e211abd494998956ca89d87abf8",
       "version_major": 2,
       "version_minor": 0
      },
      "text/plain": [
       "VegaFusionWidget(spec='{\\n  \"config\": {\\n    \"view\": {\\n      \"continuousWidth\": 300,\\n      \"continuousHeight…"
      ]
     },
     "metadata": {},
     "output_type": "display_data"
    },
    {
     "data": {
      "text/plain": []
     },
     "execution_count": 27,
     "metadata": {},
     "output_type": "execute_result"
    }
   ],
   "source": [
    "states = alt.topo_feature('https://vega.github.io/vega-datasets/data/us-10m.json', 'states')\n",
    "proj_type = 'albersUsa'\n",
    "width = 600\n",
    "height = 400\n",
    "\n",
    "background = alt.Chart(states).mark_geoshape(\n",
    "    fill='#e5d8bd',\n",
    "    stroke='white',\n",
    "    opacity=0.5\n",
    ").project(\n",
    "    type = proj_type\n",
    ").properties(\n",
    "    width = width,\n",
    "    height = height\n",
    ")\n",
    "\n",
    "no_nc_usa_city = no_nc_city.loc[no_nc_city.country == 'United States']\n",
    "\n",
    "points = alt.Chart(no_nc_usa_city).mark_circle(\n",
    "    opacity = 0.5,\n",
    "    color = '#7570b3'\n",
    ").encode(\n",
    "    longitude='longitude:Q',\n",
    "    latitude='latitude:Q',\n",
    "    size='visitors:Q',\n",
    "    tooltip=alt.Tooltip(['region:N', 'city:N', 'visitors:Q']),\n",
    ").project(\n",
    "    type = proj_type\n",
    ").properties(\n",
    "    width = width,\n",
    "    height = height\n",
    ")\n",
    "\n",
    "background + points"
   ]
  },
  {
   "cell_type": "code",
   "execution_count": null,
   "metadata": {},
   "outputs": [],
   "source": []
  },
  {
   "cell_type": "markdown",
   "metadata": {},
   "source": [
    "### Map of non-NC world cities, time of day interaction/filtering\n",
    "\n",
    "Prepped in Pandas to filter out region = NC, but the rest of the aggregation is done in Altair"
   ]
  },
  {
   "cell_type": "code",
   "execution_count": 28,
   "metadata": {},
   "outputs": [
    {
     "data": {
      "application/vnd.jupyter.widget-view+json": {
       "model_id": "99532289e1814167b30ee006f252260b",
       "version_major": 2,
       "version_minor": 0
      },
      "text/plain": [
       "VegaFusionWidget(spec='{\\n  \"config\": {\\n    \"view\": {\\n      \"continuousWidth\": 300,\\n      \"continuousHeight…"
      ]
     },
     "metadata": {},
     "output_type": "display_data"
    },
    {
     "data": {
      "text/plain": []
     },
     "execution_count": 28,
     "metadata": {},
     "output_type": "execute_result"
    }
   ],
   "source": [
    "no_nc = pageviews.loc[pageviews.region != 'North Carolina']\n",
    "\n",
    "no_nc_city = no_nc.groupby(['country','region','city']).agg({'visitors':'sum', \n",
    "                         'longitude':'mean', \n",
    "                         'latitude':'mean'}).reset_index()\n",
    "\n",
    "proj_type = 'mercator'\n",
    "width = 600\n",
    "height = 500\n",
    "clip_extent = [[0,0.075*height],[width,0.8*height]]\n",
    "\n",
    "interval_x = alt.selection_interval(encodings=['x'])\n",
    "\n",
    "line = alt.Chart(no_nc).mark_line().encode(\n",
    "    x = 'hours(timestamp):T',\n",
    "    y = 'sum(visitors):Q'\n",
    ").add_params(\n",
    "    interval_x\n",
    ").properties(\n",
    "    width=500,\n",
    "    height=100\n",
    ")\n",
    "\n",
    "background = alt.Chart(countries).mark_geoshape(\n",
    "    fill='#e5d8bd',\n",
    "    stroke='white',\n",
    "    opacity=0.5\n",
    ").project(type = proj_type, \n",
    "          clipExtent = clip_extent\n",
    ").properties(\n",
    "    width = width,\n",
    "    height = height\n",
    ")\n",
    "\n",
    "points = alt.Chart(no_nc).mark_circle(\n",
    "    opacity = 0.5,\n",
    "    color = '#7570b3'\n",
    ").encode(\n",
    "    longitude='mean_longitude:Q',\n",
    "    latitude='mean_latitude:Q',\n",
    "    size='sum_visitors:Q',\n",
    "    tooltip=alt.Tooltip(['country:N', 'region:N', 'city:N', 'sum_visitors:Q']),\n",
    ").transform_filter(\n",
    "    interval_x\n",
    ").transform_aggregate(\n",
    "    sum_visitors = 'sum(visitors)',\n",
    "    mean_longitude = 'mean(longitude)',\n",
    "    mean_latitude = 'mean(latitude)',\n",
    "    groupby=['country','region','city']\n",
    ").project(\n",
    "    type = proj_type, \n",
    "    clipExtent= clip_extent\n",
    ").properties(\n",
    "    width = width,\n",
    "    height = height\n",
    ")\n",
    "\n",
    "line & (background + points)"
   ]
  },
  {
   "cell_type": "code",
   "execution_count": 29,
   "metadata": {},
   "outputs": [
    {
     "data": {
      "application/vnd.jupyter.widget-view+json": {
       "model_id": "0e1d4b6806514552a4b7b6a2aa09ee58",
       "version_major": 2,
       "version_minor": 0
      },
      "text/plain": [
       "VegaFusionWidget(spec='{\\n  \"config\": {\\n    \"view\": {\\n      \"continuousWidth\": 300,\\n      \"continuousHeight…"
      ]
     },
     "metadata": {},
     "output_type": "display_data"
    },
    {
     "data": {
      "text/plain": []
     },
     "execution_count": 29,
     "metadata": {},
     "output_type": "execute_result"
    }
   ],
   "source": [
    "interval = alt.selection_interval(encodings=['x'])\n",
    "\n",
    "timeline_base = alt.Chart(pageviews).mark_line(\n",
    "    color = 'gray',\n",
    "    opacity = 0.3\n",
    ").encode(\n",
    "    x = alt.X('timestamp:T', timeUnit='yearmonthdate'),\n",
    "    y = 'sum(visitors):Q',\n",
    ").properties(\n",
    "    height = 80,\n",
    "    width = 400\n",
    ").add_params(\n",
    "    interval\n",
    ")\n",
    "\n",
    "timeline_selected = timeline_base.mark_line(color='goldenrod').transform_filter(interval)\n",
    "\n",
    "bar = alt.Chart(pageviews).mark_bar().encode(\n",
    "    x = 'sum(visitors)',\n",
    "    y = alt.Y('lcc_first_letter', sort='-x'),\n",
    ").properties(\n",
    "    height = 300,\n",
    "    width = 400\n",
    ").transform_filter(\n",
    "    interval\n",
    ")\n",
    "\n",
    "((timeline_base + timeline_selected) & bar).configure_axis(labelLimit=500)"
   ]
  },
  {
   "cell_type": "code",
   "execution_count": null,
   "metadata": {},
   "outputs": [],
   "source": []
  }
 ],
 "metadata": {
  "kernelspec": {
   "display_name": "Python 3 (ipykernel)",
   "language": "python",
   "name": "python3"
  },
  "language_info": {
   "codemirror_mode": {
    "name": "ipython",
    "version": 3
   },
   "file_extension": ".py",
   "mimetype": "text/x-python",
   "name": "python",
   "nbconvert_exporter": "python",
   "pygments_lexer": "ipython3",
   "version": "3.9.12"
  }
 },
 "nbformat": 4,
 "nbformat_minor": 4
}
