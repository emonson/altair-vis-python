{
 "cells": [
  {
   "cell_type": "markdown",
   "metadata": {},
   "source": [
    "# Larger library pageviews dataset with big map\n",
    "\n",
    "- Full 1M row dataset with interactive map\n",
    "- VegaFusion allows reasonable interaction even with Altair doing transforms\n",
    "\n",
    "**[Download this dataset](https://www.dropbox.com/scl/fi/wib4ufqxtfdckdch35z06/pageviews_20130403.csv.zip?rlkey=nmyo5efnfl1hq62gncz0vespt&dl=0)**\n",
    "(10 Mb zipped, 148 Mb CSV)"
   ]
  },
  {
   "cell_type": "code",
   "execution_count": 1,
   "metadata": {},
   "outputs": [
    {
     "data": {
      "text/plain": [
       "vegafusion.enable_widget()"
      ]
     },
     "execution_count": 1,
     "metadata": {},
     "output_type": "execute_result"
    }
   ],
   "source": [
    "import pandas as pd\n",
    "import altair as alt\n",
    "from altair import datum\n",
    "\n",
    "# Deal with MaxRowsError\n",
    "import vegafusion as vf\n",
    "vf.enable_widget()"
   ]
  },
  {
   "cell_type": "markdown",
   "metadata": {},
   "source": [
    "## Read in library web site page views data\n",
    "\n",
    "Also extracting longitude and latitude from location string\n",
    "\n",
    "***NOTE: You need to change the file path to where you downloaded the file!***"
   ]
  },
  {
   "cell_type": "code",
   "execution_count": 2,
   "metadata": {},
   "outputs": [
    {
     "data": {
      "text/html": [
       "<div>\n",
       "<style scoped>\n",
       "    .dataframe tbody tr th:only-of-type {\n",
       "        vertical-align: middle;\n",
       "    }\n",
       "\n",
       "    .dataframe tbody tr th {\n",
       "        vertical-align: top;\n",
       "    }\n",
       "\n",
       "    .dataframe thead th {\n",
       "        text-align: right;\n",
       "    }\n",
       "</style>\n",
       "<table border=\"1\" class=\"dataframe\">\n",
       "  <thead>\n",
       "    <tr style=\"text-align: right;\">\n",
       "      <th></th>\n",
       "      <th>timestamp</th>\n",
       "      <th>lcc_first_letter</th>\n",
       "      <th>lcc_category</th>\n",
       "      <th>visitors</th>\n",
       "      <th>visitors_per_lcc_category</th>\n",
       "      <th>visitors_per_lcc_first</th>\n",
       "      <th>loc</th>\n",
       "      <th>city</th>\n",
       "      <th>region</th>\n",
       "      <th>country</th>\n",
       "      <th>longitude</th>\n",
       "      <th>latitude</th>\n",
       "    </tr>\n",
       "  </thead>\n",
       "  <tbody>\n",
       "    <tr>\n",
       "      <th>0</th>\n",
       "      <td>2012-01-01 20:00:00+00:00</td>\n",
       "      <td>D</td>\n",
       "      <td>DT</td>\n",
       "      <td>1</td>\n",
       "      <td>0.000140</td>\n",
       "      <td>0.000016</td>\n",
       "      <td>[ -79.792, 36.0726 ]</td>\n",
       "      <td>Greensboro</td>\n",
       "      <td>North Carolina</td>\n",
       "      <td>United States</td>\n",
       "      <td>-79.7920</td>\n",
       "      <td>36.0726</td>\n",
       "    </tr>\n",
       "    <tr>\n",
       "      <th>1</th>\n",
       "      <td>2012-01-01 17:00:00+00:00</td>\n",
       "      <td>P</td>\n",
       "      <td>PN</td>\n",
       "      <td>1</td>\n",
       "      <td>0.000012</td>\n",
       "      <td>0.000005</td>\n",
       "      <td>[ -121.8747, 37.6624 ]</td>\n",
       "      <td>Pleasanton</td>\n",
       "      <td>California</td>\n",
       "      <td>United States</td>\n",
       "      <td>-121.8747</td>\n",
       "      <td>37.6624</td>\n",
       "    </tr>\n",
       "    <tr>\n",
       "      <th>2</th>\n",
       "      <td>2012-01-01 00:00:00+00:00</td>\n",
       "      <td>D</td>\n",
       "      <td>DS</td>\n",
       "      <td>1</td>\n",
       "      <td>0.000041</td>\n",
       "      <td>0.000016</td>\n",
       "      <td>[ -80.84310000000001, 35.2271 ]</td>\n",
       "      <td>Charlotte</td>\n",
       "      <td>North Carolina</td>\n",
       "      <td>United States</td>\n",
       "      <td>-80.8431</td>\n",
       "      <td>35.2271</td>\n",
       "    </tr>\n",
       "    <tr>\n",
       "      <th>3</th>\n",
       "      <td>2012-01-01 13:00:00+00:00</td>\n",
       "      <td>J</td>\n",
       "      <td>JK</td>\n",
       "      <td>2</td>\n",
       "      <td>0.000429</td>\n",
       "      <td>0.000069</td>\n",
       "      <td>[ -78.8986, 35.994 ]</td>\n",
       "      <td>Durham</td>\n",
       "      <td>North Carolina</td>\n",
       "      <td>United States</td>\n",
       "      <td>-78.8986</td>\n",
       "      <td>35.9940</td>\n",
       "    </tr>\n",
       "    <tr>\n",
       "      <th>4</th>\n",
       "      <td>2012-01-01 10:00:00+00:00</td>\n",
       "      <td>P</td>\n",
       "      <td>PT</td>\n",
       "      <td>1</td>\n",
       "      <td>0.000211</td>\n",
       "      <td>0.000005</td>\n",
       "      <td>[ -78.8986, 35.994 ]</td>\n",
       "      <td>Durham</td>\n",
       "      <td>North Carolina</td>\n",
       "      <td>United States</td>\n",
       "      <td>-78.8986</td>\n",
       "      <td>35.9940</td>\n",
       "    </tr>\n",
       "  </tbody>\n",
       "</table>\n",
       "</div>"
      ],
      "text/plain": [
       "                  timestamp lcc_first_letter lcc_category  visitors  \\\n",
       "0 2012-01-01 20:00:00+00:00                D           DT         1   \n",
       "1 2012-01-01 17:00:00+00:00                P           PN         1   \n",
       "2 2012-01-01 00:00:00+00:00                D           DS         1   \n",
       "3 2012-01-01 13:00:00+00:00                J           JK         2   \n",
       "4 2012-01-01 10:00:00+00:00                P           PT         1   \n",
       "\n",
       "   visitors_per_lcc_category  visitors_per_lcc_first  \\\n",
       "0                   0.000140                0.000016   \n",
       "1                   0.000012                0.000005   \n",
       "2                   0.000041                0.000016   \n",
       "3                   0.000429                0.000069   \n",
       "4                   0.000211                0.000005   \n",
       "\n",
       "                               loc        city          region        country  \\\n",
       "0             [ -79.792, 36.0726 ]  Greensboro  North Carolina  United States   \n",
       "1           [ -121.8747, 37.6624 ]  Pleasanton      California  United States   \n",
       "2  [ -80.84310000000001, 35.2271 ]   Charlotte  North Carolina  United States   \n",
       "3             [ -78.8986, 35.994 ]      Durham  North Carolina  United States   \n",
       "4             [ -78.8986, 35.994 ]      Durham  North Carolina  United States   \n",
       "\n",
       "   longitude  latitude  \n",
       "0   -79.7920   36.0726  \n",
       "1  -121.8747   37.6624  \n",
       "2   -80.8431   35.2271  \n",
       "3   -78.8986   35.9940  \n",
       "4   -78.8986   35.9940  "
      ]
     },
     "execution_count": 2,
     "metadata": {},
     "output_type": "execute_result"
    }
   ],
   "source": [
    "pageviews = pd.read_csv('/Users/emonson/Dropbox/Projects/LibraryVis/pageviews_20130403.csv',\n",
    "                       parse_dates=['timestamp'])\n",
    "pageviews[['longitude','latitude']] = pageviews['loc'].str.extract(r'\\[ ([0-9.-]+), ([0-9.-]+) \\]').astype('float')\n",
    "pageviews.head()"
   ]
  },
  {
   "cell_type": "markdown",
   "metadata": {},
   "source": [
    "### Dataset is over 1M rows"
   ]
  },
  {
   "cell_type": "code",
   "execution_count": 3,
   "metadata": {},
   "outputs": [
    {
     "data": {
      "text/plain": [
       "1064922"
      ]
     },
     "execution_count": 3,
     "metadata": {},
     "output_type": "execute_result"
    }
   ],
   "source": [
    "len(pageviews)"
   ]
  },
  {
   "cell_type": "markdown",
   "metadata": {},
   "source": [
    "## Map of non-NC world cities, time of day interaction/filtering\n",
    "\n",
    "*The interaction helps you see that different regions of the world visit at different times of day!*"
   ]
  },
  {
   "cell_type": "markdown",
   "metadata": {},
   "source": [
    "### Load in the countries map features from vega-datasets"
   ]
  },
  {
   "cell_type": "code",
   "execution_count": 4,
   "metadata": {},
   "outputs": [],
   "source": [
    "countries = alt.topo_feature('https://vega.github.io/vega-datasets/data/world-110m.json', \n",
    "                             feature='countries')"
   ]
  },
  {
   "cell_type": "markdown",
   "metadata": {},
   "source": [
    "### Explore visitors by time of day\n",
    "\n",
    "- Aggregation of mean latitude & longitude within a city done in Altair\n",
    "- Need to do the [map projection](https://altair-viz.github.io/gallery/world_projections.html) on both the points and geographic shapes\n",
    "- *Note that it's adapting the symbol sizes to the data getting through the filter*"
   ]
  },
  {
   "cell_type": "code",
   "execution_count": 7,
   "metadata": {},
   "outputs": [
    {
     "data": {
      "application/vnd.jupyter.widget-view+json": {
       "model_id": "d033a6bc9ce6464aa15dc48847e83800",
       "version_major": 2,
       "version_minor": 0
      },
      "text/plain": [
       "VegaFusionWidget(spec='{\\n  \"config\": {\\n    \"view\": {\\n      \"continuousWidth\": 300,\\n      \"continuousHeight…"
      ]
     },
     "metadata": {},
     "output_type": "display_data"
    },
    {
     "data": {
      "text/plain": []
     },
     "execution_count": 7,
     "metadata": {},
     "output_type": "execute_result"
    }
   ],
   "source": [
    "proj_type = 'mercator'\n",
    "width = 600\n",
    "height = 500\n",
    "clip_extent = [[0,0.075*height],[width,0.8*height]]\n",
    "\n",
    "interval_x = alt.selection_interval(encodings=['x'])\n",
    "\n",
    "line = alt.Chart(pageviews).mark_line().encode(\n",
    "    x = 'hours(timestamp):T',\n",
    "    y = 'sum(visitors):Q'\n",
    ").add_params(\n",
    "    interval_x\n",
    ").properties(\n",
    "    width=400,\n",
    "    height=100\n",
    ")\n",
    "\n",
    "background = alt.Chart(countries).mark_geoshape(\n",
    "    fill='#e5d8bd',\n",
    "    stroke='white',\n",
    "    opacity=0.5\n",
    ").project(\n",
    "    type = proj_type, \n",
    "    clipExtent = clip_extent\n",
    ").properties(\n",
    "    width = width,\n",
    "    height = height\n",
    ")\n",
    "\n",
    "points = alt.Chart(pageviews).mark_circle(\n",
    "    opacity = 0.5,\n",
    "    color = '#7570b3'\n",
    ").encode(\n",
    "    longitude='mean_longitude:Q',\n",
    "    latitude='mean_latitude:Q',\n",
    "    size='sum_visitors:Q',\n",
    "    tooltip=alt.Tooltip(['country:N', 'region:N', 'city:N', 'sum_visitors:Q']),\n",
    ").transform_filter(\n",
    "    (interval_x) & (datum.region != 'North Carolina')\n",
    ").transform_aggregate(\n",
    "    sum_visitors = 'sum(visitors)',\n",
    "    mean_longitude = 'mean(longitude)',\n",
    "    mean_latitude = 'mean(latitude)',\n",
    "    groupby=['country','region','city']\n",
    ").project(\n",
    "    type = proj_type, \n",
    "    clipExtent= clip_extent\n",
    ").properties(\n",
    "    width = width,\n",
    "    height = height\n",
    ")\n",
    "\n",
    "(background + points) & line"
   ]
  },
  {
   "cell_type": "code",
   "execution_count": null,
   "metadata": {},
   "outputs": [],
   "source": []
  }
 ],
 "metadata": {
  "kernelspec": {
   "display_name": "Python 3 (ipykernel)",
   "language": "python",
   "name": "python3"
  },
  "language_info": {
   "codemirror_mode": {
    "name": "ipython",
    "version": 3
   },
   "file_extension": ".py",
   "mimetype": "text/x-python",
   "name": "python",
   "nbconvert_exporter": "python",
   "pygments_lexer": "ipython3",
   "version": "3.9.12"
  }
 },
 "nbformat": 4,
 "nbformat_minor": 4
}
