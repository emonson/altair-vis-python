{
 "cells": [
  {
   "cell_type": "markdown",
   "metadata": {},
   "source": [
    "# 01_NatureVegetables Exercise Solutions\n",
    "\n",
    "Solutions for exercises scattered through\n",
    "[01_NatureVegetables](01_NatureVegetables.ipynb) notebook."
   ]
  },
  {
   "cell_type": "code",
   "execution_count": 1,
   "metadata": {},
   "outputs": [],
   "source": [
    "import pandas as pd\n",
    "import altair as alt"
   ]
  },
  {
   "cell_type": "code",
   "execution_count": 2,
   "metadata": {},
   "outputs": [
    {
     "data": {
      "text/html": [
       "<div>\n",
       "<style scoped>\n",
       "    .dataframe tbody tr th:only-of-type {\n",
       "        vertical-align: middle;\n",
       "    }\n",
       "\n",
       "    .dataframe tbody tr th {\n",
       "        vertical-align: top;\n",
       "    }\n",
       "\n",
       "    .dataframe thead th {\n",
       "        text-align: right;\n",
       "    }\n",
       "</style>\n",
       "<table border=\"1\" class=\"dataframe\">\n",
       "  <thead>\n",
       "    <tr style=\"text-align: right;\">\n",
       "      <th></th>\n",
       "      <th>veg</th>\n",
       "      <th>trait</th>\n",
       "      <th>votes</th>\n",
       "    </tr>\n",
       "  </thead>\n",
       "  <tbody>\n",
       "    <tr>\n",
       "      <th>0</th>\n",
       "      <td>1_Corn</td>\n",
       "      <td>1_Green</td>\n",
       "      <td>6</td>\n",
       "    </tr>\n",
       "    <tr>\n",
       "      <th>1</th>\n",
       "      <td>2_Squash</td>\n",
       "      <td>1_Green</td>\n",
       "      <td>8</td>\n",
       "    </tr>\n",
       "    <tr>\n",
       "      <th>2</th>\n",
       "      <td>3_Brussel sprouts</td>\n",
       "      <td>1_Green</td>\n",
       "      <td>10</td>\n",
       "    </tr>\n",
       "    <tr>\n",
       "      <th>3</th>\n",
       "      <td>4_Green beans</td>\n",
       "      <td>1_Green</td>\n",
       "      <td>20</td>\n",
       "    </tr>\n",
       "    <tr>\n",
       "      <th>4</th>\n",
       "      <td>5_Peas</td>\n",
       "      <td>1_Green</td>\n",
       "      <td>23</td>\n",
       "    </tr>\n",
       "    <tr>\n",
       "      <th>5</th>\n",
       "      <td>1_Corn</td>\n",
       "      <td>2_Yellow</td>\n",
       "      <td>29</td>\n",
       "    </tr>\n",
       "    <tr>\n",
       "      <th>6</th>\n",
       "      <td>2_Squash</td>\n",
       "      <td>2_Yellow</td>\n",
       "      <td>27</td>\n",
       "    </tr>\n",
       "  </tbody>\n",
       "</table>\n",
       "</div>"
      ],
      "text/plain": [
       "                 veg     trait  votes\n",
       "0             1_Corn   1_Green      6\n",
       "1           2_Squash   1_Green      8\n",
       "2  3_Brussel sprouts   1_Green     10\n",
       "3      4_Green beans   1_Green     20\n",
       "4             5_Peas   1_Green     23\n",
       "5             1_Corn  2_Yellow     29\n",
       "6           2_Squash  2_Yellow     27"
      ]
     },
     "execution_count": 2,
     "metadata": {},
     "output_type": "execute_result"
    }
   ],
   "source": [
    "df_orig = pd.read_csv('data/NatureVegValues.csv')\n",
    "df = df_orig.melt(id_vars=[\"veg\"], var_name=\"trait\", value_name=\"votes\")\n",
    "df.head(7)"
   ]
  },
  {
   "cell_type": "markdown",
   "metadata": {},
   "source": [
    "---\n",
    "\n",
    "## EXERCISE 1\n",
    "\n",
    "Before we proceed, try making a similar stacked bar chart, but this time with \n",
    "\n",
    "- a bar for each trait (along the bottom), \n",
    "- each bar representing the sum of the votes within the trait, and \n",
    "- a different color for each vegetable."
   ]
  },
  {
   "cell_type": "code",
   "execution_count": 3,
   "metadata": {},
   "outputs": [
    {
     "data": {
      "text/html": [
       "\n",
       "<div id=\"altair-viz-11e100b888344d4f85712f025424575d\"></div>\n",
       "<script type=\"text/javascript\">\n",
       "  (function(spec, embedOpt){\n",
       "    let outputDiv = document.currentScript.previousElementSibling;\n",
       "    if (outputDiv.id !== \"altair-viz-11e100b888344d4f85712f025424575d\") {\n",
       "      outputDiv = document.getElementById(\"altair-viz-11e100b888344d4f85712f025424575d\");\n",
       "    }\n",
       "    const paths = {\n",
       "      \"vega\": \"https://cdn.jsdelivr.net/npm//vega@5?noext\",\n",
       "      \"vega-lib\": \"https://cdn.jsdelivr.net/npm//vega-lib?noext\",\n",
       "      \"vega-lite\": \"https://cdn.jsdelivr.net/npm//vega-lite@4.8.1?noext\",\n",
       "      \"vega-embed\": \"https://cdn.jsdelivr.net/npm//vega-embed@6?noext\",\n",
       "    };\n",
       "\n",
       "    function loadScript(lib) {\n",
       "      return new Promise(function(resolve, reject) {\n",
       "        var s = document.createElement('script');\n",
       "        s.src = paths[lib];\n",
       "        s.async = true;\n",
       "        s.onload = () => resolve(paths[lib]);\n",
       "        s.onerror = () => reject(`Error loading script: ${paths[lib]}`);\n",
       "        document.getElementsByTagName(\"head\")[0].appendChild(s);\n",
       "      });\n",
       "    }\n",
       "\n",
       "    function showError(err) {\n",
       "      outputDiv.innerHTML = `<div class=\"error\" style=\"color:red;\">${err}</div>`;\n",
       "      throw err;\n",
       "    }\n",
       "\n",
       "    function displayChart(vegaEmbed) {\n",
       "      vegaEmbed(outputDiv, spec, embedOpt)\n",
       "        .catch(err => showError(`Javascript Error: ${err.message}<br>This usually means there's a typo in your chart specification. See the javascript console for the full traceback.`));\n",
       "    }\n",
       "\n",
       "    if(typeof define === \"function\" && define.amd) {\n",
       "      requirejs.config({paths});\n",
       "      require([\"vega-embed\"], displayChart, err => showError(`Error loading script: ${err.message}`));\n",
       "    } else if (typeof vegaEmbed === \"function\") {\n",
       "      displayChart(vegaEmbed);\n",
       "    } else {\n",
       "      loadScript(\"vega\")\n",
       "        .then(() => loadScript(\"vega-lite\"))\n",
       "        .then(() => loadScript(\"vega-embed\"))\n",
       "        .catch(showError)\n",
       "        .then(() => displayChart(vegaEmbed));\n",
       "    }\n",
       "  })({\"config\": {\"view\": {\"continuousWidth\": 400, \"continuousHeight\": 300}}, \"data\": {\"name\": \"data-39f9d319c3f1fa0701a2f2e8a04001de\"}, \"mark\": \"bar\", \"encoding\": {\"color\": {\"type\": \"nominal\", \"field\": \"veg\"}, \"x\": {\"type\": \"nominal\", \"field\": \"trait\"}, \"y\": {\"type\": \"quantitative\", \"aggregate\": \"sum\", \"field\": \"votes\"}}, \"$schema\": \"https://vega.github.io/schema/vega-lite/v4.8.1.json\", \"datasets\": {\"data-39f9d319c3f1fa0701a2f2e8a04001de\": [{\"veg\": \"1_Corn\", \"trait\": \"1_Green\", \"votes\": 6}, {\"veg\": \"2_Squash\", \"trait\": \"1_Green\", \"votes\": 8}, {\"veg\": \"3_Brussel sprouts\", \"trait\": \"1_Green\", \"votes\": 10}, {\"veg\": \"4_Green beans\", \"trait\": \"1_Green\", \"votes\": 20}, {\"veg\": \"5_Peas\", \"trait\": \"1_Green\", \"votes\": 23}, {\"veg\": \"1_Corn\", \"trait\": \"2_Yellow\", \"votes\": 29}, {\"veg\": \"2_Squash\", \"trait\": \"2_Yellow\", \"votes\": 27}, {\"veg\": \"3_Brussel sprouts\", \"trait\": \"2_Yellow\", \"votes\": 21}, {\"veg\": \"4_Green beans\", \"trait\": \"2_Yellow\", \"votes\": 17}, {\"veg\": \"5_Peas\", \"trait\": \"2_Yellow\", \"votes\": 5}, {\"veg\": \"1_Corn\", \"trait\": \"3_Cheap\", \"votes\": 18}, {\"veg\": \"2_Squash\", \"trait\": \"3_Cheap\", \"votes\": 17}, {\"veg\": \"3_Brussel sprouts\", \"trait\": \"3_Cheap\", \"votes\": 16}, {\"veg\": \"4_Green beans\", \"trait\": \"3_Cheap\", \"votes\": 16}, {\"veg\": \"5_Peas\", \"trait\": \"3_Cheap\", \"votes\": 15}, {\"veg\": \"1_Corn\", \"trait\": \"4_Tasty\", \"votes\": 30}, {\"veg\": \"2_Squash\", \"trait\": \"4_Tasty\", \"votes\": 13}, {\"veg\": \"3_Brussel sprouts\", \"trait\": \"4_Tasty\", \"votes\": 4}, {\"veg\": \"4_Green beans\", \"trait\": \"4_Tasty\", \"votes\": 9}, {\"veg\": \"5_Peas\", \"trait\": \"4_Tasty\", \"votes\": 19}, {\"veg\": \"1_Corn\", \"trait\": \"5_Gross\", \"votes\": 7}, {\"veg\": \"2_Squash\", \"trait\": \"5_Gross\", \"votes\": 11}, {\"veg\": \"3_Brussel sprouts\", \"trait\": \"5_Gross\", \"votes\": 19}, {\"veg\": \"4_Green beans\", \"trait\": \"5_Gross\", \"votes\": 7}, {\"veg\": \"5_Peas\", \"trait\": \"5_Gross\", \"votes\": 2}]}}, {\"mode\": \"vega-lite\"});\n",
       "</script>"
      ],
      "text/plain": [
       "alt.Chart(...)"
      ]
     },
     "execution_count": 3,
     "metadata": {},
     "output_type": "execute_result"
    }
   ],
   "source": [
    "alt.Chart(df).mark_bar().encode(\n",
    "    x = 'trait:N',\n",
    "    y = 'sum(votes):Q',\n",
    "    color = 'veg:N'\n",
    ")"
   ]
  },
  {
   "cell_type": "markdown",
   "metadata": {},
   "source": [
    "---\n",
    "\n",
    "## EXERCISE 2\n",
    "\n",
    "Layer (superimpose) two visualizations:\n",
    "\n",
    "1. Vertical bar chart showing\n",
    "    - traits across the horizontal (bottom) axis\n",
    "    - mean votes (across all the vegetables) going up the vertical axis (bar height)\n",
    "    - `color = alt.value('lightgray')`\n",
    "1. Point plot of all individual votes\n",
    "    - use `mark_point()`\n",
    "    - traits again along the horizontal axis\n",
    "    - votes up the vertical axis\n",
    "    - color by trait\n",
    "    \n",
    "*Point plot should be on top of the bar chart!*"
   ]
  },
  {
   "cell_type": "code",
   "execution_count": 5,
   "metadata": {},
   "outputs": [
    {
     "data": {
      "text/html": [
       "\n",
       "<div id=\"altair-viz-fa170c86c40a4c9b98734fd2954e27a3\"></div>\n",
       "<script type=\"text/javascript\">\n",
       "  (function(spec, embedOpt){\n",
       "    let outputDiv = document.currentScript.previousElementSibling;\n",
       "    if (outputDiv.id !== \"altair-viz-fa170c86c40a4c9b98734fd2954e27a3\") {\n",
       "      outputDiv = document.getElementById(\"altair-viz-fa170c86c40a4c9b98734fd2954e27a3\");\n",
       "    }\n",
       "    const paths = {\n",
       "      \"vega\": \"https://cdn.jsdelivr.net/npm//vega@5?noext\",\n",
       "      \"vega-lib\": \"https://cdn.jsdelivr.net/npm//vega-lib?noext\",\n",
       "      \"vega-lite\": \"https://cdn.jsdelivr.net/npm//vega-lite@4.8.1?noext\",\n",
       "      \"vega-embed\": \"https://cdn.jsdelivr.net/npm//vega-embed@6?noext\",\n",
       "    };\n",
       "\n",
       "    function loadScript(lib) {\n",
       "      return new Promise(function(resolve, reject) {\n",
       "        var s = document.createElement('script');\n",
       "        s.src = paths[lib];\n",
       "        s.async = true;\n",
       "        s.onload = () => resolve(paths[lib]);\n",
       "        s.onerror = () => reject(`Error loading script: ${paths[lib]}`);\n",
       "        document.getElementsByTagName(\"head\")[0].appendChild(s);\n",
       "      });\n",
       "    }\n",
       "\n",
       "    function showError(err) {\n",
       "      outputDiv.innerHTML = `<div class=\"error\" style=\"color:red;\">${err}</div>`;\n",
       "      throw err;\n",
       "    }\n",
       "\n",
       "    function displayChart(vegaEmbed) {\n",
       "      vegaEmbed(outputDiv, spec, embedOpt)\n",
       "        .catch(err => showError(`Javascript Error: ${err.message}<br>This usually means there's a typo in your chart specification. See the javascript console for the full traceback.`));\n",
       "    }\n",
       "\n",
       "    if(typeof define === \"function\" && define.amd) {\n",
       "      requirejs.config({paths});\n",
       "      require([\"vega-embed\"], displayChart, err => showError(`Error loading script: ${err.message}`));\n",
       "    } else if (typeof vegaEmbed === \"function\") {\n",
       "      displayChart(vegaEmbed);\n",
       "    } else {\n",
       "      loadScript(\"vega\")\n",
       "        .then(() => loadScript(\"vega-lite\"))\n",
       "        .then(() => loadScript(\"vega-embed\"))\n",
       "        .catch(showError)\n",
       "        .then(() => displayChart(vegaEmbed));\n",
       "    }\n",
       "  })({\"config\": {\"view\": {\"continuousWidth\": 400, \"continuousHeight\": 300}}, \"layer\": [{\"mark\": \"bar\", \"encoding\": {\"color\": {\"value\": \"lightgray\"}, \"x\": {\"type\": \"nominal\", \"field\": \"trait\"}, \"y\": {\"type\": \"quantitative\", \"aggregate\": \"mean\", \"field\": \"votes\"}}, \"height\": 200, \"width\": 200}, {\"mark\": \"point\", \"encoding\": {\"color\": {\"type\": \"nominal\", \"field\": \"trait\"}, \"x\": {\"type\": \"nominal\", \"field\": \"trait\"}, \"y\": {\"type\": \"quantitative\", \"field\": \"votes\"}}, \"height\": 200, \"width\": 200}], \"data\": {\"name\": \"data-39f9d319c3f1fa0701a2f2e8a04001de\"}, \"$schema\": \"https://vega.github.io/schema/vega-lite/v4.8.1.json\", \"datasets\": {\"data-39f9d319c3f1fa0701a2f2e8a04001de\": [{\"veg\": \"1_Corn\", \"trait\": \"1_Green\", \"votes\": 6}, {\"veg\": \"2_Squash\", \"trait\": \"1_Green\", \"votes\": 8}, {\"veg\": \"3_Brussel sprouts\", \"trait\": \"1_Green\", \"votes\": 10}, {\"veg\": \"4_Green beans\", \"trait\": \"1_Green\", \"votes\": 20}, {\"veg\": \"5_Peas\", \"trait\": \"1_Green\", \"votes\": 23}, {\"veg\": \"1_Corn\", \"trait\": \"2_Yellow\", \"votes\": 29}, {\"veg\": \"2_Squash\", \"trait\": \"2_Yellow\", \"votes\": 27}, {\"veg\": \"3_Brussel sprouts\", \"trait\": \"2_Yellow\", \"votes\": 21}, {\"veg\": \"4_Green beans\", \"trait\": \"2_Yellow\", \"votes\": 17}, {\"veg\": \"5_Peas\", \"trait\": \"2_Yellow\", \"votes\": 5}, {\"veg\": \"1_Corn\", \"trait\": \"3_Cheap\", \"votes\": 18}, {\"veg\": \"2_Squash\", \"trait\": \"3_Cheap\", \"votes\": 17}, {\"veg\": \"3_Brussel sprouts\", \"trait\": \"3_Cheap\", \"votes\": 16}, {\"veg\": \"4_Green beans\", \"trait\": \"3_Cheap\", \"votes\": 16}, {\"veg\": \"5_Peas\", \"trait\": \"3_Cheap\", \"votes\": 15}, {\"veg\": \"1_Corn\", \"trait\": \"4_Tasty\", \"votes\": 30}, {\"veg\": \"2_Squash\", \"trait\": \"4_Tasty\", \"votes\": 13}, {\"veg\": \"3_Brussel sprouts\", \"trait\": \"4_Tasty\", \"votes\": 4}, {\"veg\": \"4_Green beans\", \"trait\": \"4_Tasty\", \"votes\": 9}, {\"veg\": \"5_Peas\", \"trait\": \"4_Tasty\", \"votes\": 19}, {\"veg\": \"1_Corn\", \"trait\": \"5_Gross\", \"votes\": 7}, {\"veg\": \"2_Squash\", \"trait\": \"5_Gross\", \"votes\": 11}, {\"veg\": \"3_Brussel sprouts\", \"trait\": \"5_Gross\", \"votes\": 19}, {\"veg\": \"4_Green beans\", \"trait\": \"5_Gross\", \"votes\": 7}, {\"veg\": \"5_Peas\", \"trait\": \"5_Gross\", \"votes\": 2}]}}, {\"mode\": \"vega-lite\"});\n",
       "</script>"
      ],
      "text/plain": [
       "alt.LayerChart(...)"
      ]
     },
     "execution_count": 5,
     "metadata": {},
     "output_type": "execute_result"
    }
   ],
   "source": [
    "base = alt.Chart(df).encode(\n",
    "    x = 'trait:N'\n",
    ").properties(\n",
    "    width = 200,\n",
    "    height = 200\n",
    ")\n",
    "\n",
    "point = base.mark_point().encode(\n",
    "    y = 'votes:Q',\n",
    "    color = 'trait:N'\n",
    ")\n",
    "\n",
    "bar = base.mark_bar().encode(\n",
    "    y = 'mean(votes):Q',\n",
    "    color = alt.value('lightgray')\n",
    ")\n",
    "\n",
    "bar + point"
   ]
  },
  {
   "cell_type": "code",
   "execution_count": null,
   "metadata": {},
   "outputs": [],
   "source": []
  }
 ],
 "metadata": {
  "kernelspec": {
   "display_name": "Python 3",
   "language": "python",
   "name": "python3"
  },
  "language_info": {
   "codemirror_mode": {
    "name": "ipython",
    "version": 3
   },
   "file_extension": ".py",
   "mimetype": "text/x-python",
   "name": "python",
   "nbconvert_exporter": "python",
   "pygments_lexer": "ipython3",
   "version": "3.8.5"
  }
 },
 "nbformat": 4,
 "nbformat_minor": 4
}
