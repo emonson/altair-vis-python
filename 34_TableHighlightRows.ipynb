{
 "cells": [
  {
   "cell_type": "markdown",
   "metadata": {},
   "source": [
    "## Text tables with highlighted rows\n",
    "\n",
    "Altair (and Vega-Lite and Vega) doesn't really have good built-in support for creating mixed data tables like Tableau or Plotly do, but you can get part way there by creating something like a heatmap with text visualization over the top. These can be interactive in the same way any Altair visualization can be, but they won't have the features we're used to with HTML-based (Javascript) tables like scrolling and on-demand sorting."
   ]
  },
  {
   "cell_type": "code",
   "execution_count": 1,
   "metadata": {},
   "outputs": [],
   "source": [
    "import pandas as pd\n",
    "import altair as alt\n",
    "from vega_datasets import data"
   ]
  },
  {
   "cell_type": "code",
   "execution_count": 2,
   "metadata": {},
   "outputs": [
    {
     "data": {
      "text/html": [
       "<div>\n",
       "<style scoped>\n",
       "    .dataframe tbody tr th:only-of-type {\n",
       "        vertical-align: middle;\n",
       "    }\n",
       "\n",
       "    .dataframe tbody tr th {\n",
       "        vertical-align: top;\n",
       "    }\n",
       "\n",
       "    .dataframe thead th {\n",
       "        text-align: right;\n",
       "    }\n",
       "</style>\n",
       "<table border=\"1\" class=\"dataframe\">\n",
       "  <thead>\n",
       "    <tr style=\"text-align: right;\">\n",
       "      <th></th>\n",
       "      <th>date</th>\n",
       "      <th>precipitation</th>\n",
       "      <th>temp_max</th>\n",
       "      <th>temp_min</th>\n",
       "      <th>wind</th>\n",
       "      <th>weather</th>\n",
       "    </tr>\n",
       "  </thead>\n",
       "  <tbody>\n",
       "    <tr>\n",
       "      <th>0</th>\n",
       "      <td>2012-01-01</td>\n",
       "      <td>0.0</td>\n",
       "      <td>12.8</td>\n",
       "      <td>5.0</td>\n",
       "      <td>4.7</td>\n",
       "      <td>drizzle</td>\n",
       "    </tr>\n",
       "    <tr>\n",
       "      <th>1</th>\n",
       "      <td>2012-01-02</td>\n",
       "      <td>10.9</td>\n",
       "      <td>10.6</td>\n",
       "      <td>2.8</td>\n",
       "      <td>4.5</td>\n",
       "      <td>rain</td>\n",
       "    </tr>\n",
       "    <tr>\n",
       "      <th>2</th>\n",
       "      <td>2012-01-03</td>\n",
       "      <td>0.8</td>\n",
       "      <td>11.7</td>\n",
       "      <td>7.2</td>\n",
       "      <td>2.3</td>\n",
       "      <td>rain</td>\n",
       "    </tr>\n",
       "    <tr>\n",
       "      <th>3</th>\n",
       "      <td>2012-01-04</td>\n",
       "      <td>20.3</td>\n",
       "      <td>12.2</td>\n",
       "      <td>5.6</td>\n",
       "      <td>4.7</td>\n",
       "      <td>rain</td>\n",
       "    </tr>\n",
       "    <tr>\n",
       "      <th>4</th>\n",
       "      <td>2012-01-05</td>\n",
       "      <td>1.3</td>\n",
       "      <td>8.9</td>\n",
       "      <td>2.8</td>\n",
       "      <td>6.1</td>\n",
       "      <td>rain</td>\n",
       "    </tr>\n",
       "  </tbody>\n",
       "</table>\n",
       "</div>"
      ],
      "text/plain": [
       "        date  precipitation  temp_max  temp_min  wind  weather\n",
       "0 2012-01-01            0.0      12.8       5.0   4.7  drizzle\n",
       "1 2012-01-02           10.9      10.6       2.8   4.5     rain\n",
       "2 2012-01-03            0.8      11.7       7.2   2.3     rain\n",
       "3 2012-01-04           20.3      12.2       5.6   4.7     rain\n",
       "4 2012-01-05            1.3       8.9       2.8   6.1     rain"
      ]
     },
     "execution_count": 2,
     "metadata": {},
     "output_type": "execute_result"
    }
   ],
   "source": [
    "weather = data.seattle_weather()\n",
    "weather.head()"
   ]
  },
  {
   "cell_type": "markdown",
   "metadata": {},
   "source": [
    "### Pandas LOD calculations\n",
    "\n",
    "This is a bit tangential, but Pandas, with the `.transform()` functionality, lets you do calculations somewhat like Tableau's Level of Detail (LOD) calculations where you run some aggregation at a certain level of detail (here set in `.groupby()`), but copy the results of that calculation to each row of the original data."
   ]
  },
  {
   "cell_type": "code",
   "execution_count": 41,
   "metadata": {},
   "outputs": [
    {
     "data": {
      "text/html": [
       "<div>\n",
       "<style scoped>\n",
       "    .dataframe tbody tr th:only-of-type {\n",
       "        vertical-align: middle;\n",
       "    }\n",
       "\n",
       "    .dataframe tbody tr th {\n",
       "        vertical-align: top;\n",
       "    }\n",
       "\n",
       "    .dataframe thead th {\n",
       "        text-align: right;\n",
       "    }\n",
       "</style>\n",
       "<table border=\"1\" class=\"dataframe\">\n",
       "  <thead>\n",
       "    <tr style=\"text-align: right;\">\n",
       "      <th></th>\n",
       "      <th>date</th>\n",
       "      <th>precipitation</th>\n",
       "      <th>temp_max</th>\n",
       "      <th>temp_min</th>\n",
       "      <th>wind</th>\n",
       "      <th>weather</th>\n",
       "      <th>monthly_mean</th>\n",
       "    </tr>\n",
       "  </thead>\n",
       "  <tbody>\n",
       "    <tr>\n",
       "      <th>0</th>\n",
       "      <td>2012-01-01</td>\n",
       "      <td>0.0</td>\n",
       "      <td>12.8</td>\n",
       "      <td>5.0</td>\n",
       "      <td>4.7</td>\n",
       "      <td>drizzle</td>\n",
       "      <td>8.229032</td>\n",
       "    </tr>\n",
       "    <tr>\n",
       "      <th>1</th>\n",
       "      <td>2012-01-02</td>\n",
       "      <td>10.9</td>\n",
       "      <td>10.6</td>\n",
       "      <td>2.8</td>\n",
       "      <td>4.5</td>\n",
       "      <td>rain</td>\n",
       "      <td>8.229032</td>\n",
       "    </tr>\n",
       "    <tr>\n",
       "      <th>2</th>\n",
       "      <td>2012-01-03</td>\n",
       "      <td>0.8</td>\n",
       "      <td>11.7</td>\n",
       "      <td>7.2</td>\n",
       "      <td>2.3</td>\n",
       "      <td>rain</td>\n",
       "      <td>8.229032</td>\n",
       "    </tr>\n",
       "    <tr>\n",
       "      <th>3</th>\n",
       "      <td>2012-01-04</td>\n",
       "      <td>20.3</td>\n",
       "      <td>12.2</td>\n",
       "      <td>5.6</td>\n",
       "      <td>4.7</td>\n",
       "      <td>rain</td>\n",
       "      <td>8.229032</td>\n",
       "    </tr>\n",
       "    <tr>\n",
       "      <th>4</th>\n",
       "      <td>2012-01-05</td>\n",
       "      <td>1.3</td>\n",
       "      <td>8.9</td>\n",
       "      <td>2.8</td>\n",
       "      <td>6.1</td>\n",
       "      <td>rain</td>\n",
       "      <td>8.229032</td>\n",
       "    </tr>\n",
       "  </tbody>\n",
       "</table>\n",
       "</div>"
      ],
      "text/plain": [
       "        date  precipitation  temp_max  temp_min  wind  weather  monthly_mean\n",
       "0 2012-01-01            0.0      12.8       5.0   4.7  drizzle      8.229032\n",
       "1 2012-01-02           10.9      10.6       2.8   4.5     rain      8.229032\n",
       "2 2012-01-03            0.8      11.7       7.2   2.3     rain      8.229032\n",
       "3 2012-01-04           20.3      12.2       5.6   4.7     rain      8.229032\n",
       "4 2012-01-05            1.3       8.9       2.8   6.1     rain      8.229032"
      ]
     },
     "execution_count": 41,
     "metadata": {},
     "output_type": "execute_result"
    }
   ],
   "source": [
    "weather['monthly_mean'] = weather.groupby(weather.date.dt.month)['temp_max'].transform('mean')\n",
    "weather.head()"
   ]
  },
  {
   "cell_type": "markdown",
   "metadata": {},
   "source": [
    "### Highlight days above the monthly mean\n",
    "\n",
    "Here we use it to change the color of points that rise above the monthly mean max temperature in an Altair plot. Altair itself doesn't seem to allow you to plot at a different level of detail than that set by a `transform_aggregate()` `groupby`."
   ]
  },
  {
   "cell_type": "code",
   "execution_count": 63,
   "metadata": {},
   "outputs": [
    {
     "data": {
      "application/vnd.vegalite.v2+json": {
       "$schema": "https://vega.github.io/schema/vega-lite/v2.6.0.json",
       "config": {
        "view": {
         "height": 300,
         "width": 400
        }
       },
       "data": {
        "name": "data-23c8b615d0adf8cc68a0df5d5d8b97a8"
       },
       "datasets": {
        "data-23c8b615d0adf8cc68a0df5d5d8b97a8": [
         {
          "date": "2012-01-01T00:00:00",
          "monthly_mean": 8.22903225806452,
          "precipitation": 0,
          "temp_max": 12.8,
          "temp_min": 5,
          "weather": "drizzle",
          "wind": 4.7
         },
         {
          "date": "2012-01-02T00:00:00",
          "monthly_mean": 8.22903225806452,
          "precipitation": 10.9,
          "temp_max": 10.6,
          "temp_min": 2.8,
          "weather": "rain",
          "wind": 4.5
         },
         {
          "date": "2012-01-03T00:00:00",
          "monthly_mean": 8.22903225806452,
          "precipitation": 0.8,
          "temp_max": 11.7,
          "temp_min": 7.2,
          "weather": "rain",
          "wind": 2.3
         },
         {
          "date": "2012-01-04T00:00:00",
          "monthly_mean": 8.22903225806452,
          "precipitation": 20.3,
          "temp_max": 12.2,
          "temp_min": 5.6,
          "weather": "rain",
          "wind": 4.7
         },
         {
          "date": "2012-01-05T00:00:00",
          "monthly_mean": 8.22903225806452,
          "precipitation": 1.3,
          "temp_max": 8.9,
          "temp_min": 2.8,
          "weather": "rain",
          "wind": 6.1
         },
         {
          "date": "2012-01-06T00:00:00",
          "monthly_mean": 8.22903225806452,
          "precipitation": 2.5,
          "temp_max": 4.4,
          "temp_min": 2.2,
          "weather": "rain",
          "wind": 2.2
         },
         {
          "date": "2012-01-07T00:00:00",
          "monthly_mean": 8.22903225806452,
          "precipitation": 0,
          "temp_max": 7.2,
          "temp_min": 2.8,
          "weather": "rain",
          "wind": 2.3
         },
         {
          "date": "2012-01-08T00:00:00",
          "monthly_mean": 8.22903225806452,
          "precipitation": 0,
          "temp_max": 10,
          "temp_min": 2.8,
          "weather": "sun",
          "wind": 2
         },
         {
          "date": "2012-01-09T00:00:00",
          "monthly_mean": 8.22903225806452,
          "precipitation": 4.3,
          "temp_max": 9.4,
          "temp_min": 5,
          "weather": "rain",
          "wind": 3.4
         },
         {
          "date": "2012-01-10T00:00:00",
          "monthly_mean": 8.22903225806452,
          "precipitation": 1,
          "temp_max": 6.1,
          "temp_min": 0.6,
          "weather": "rain",
          "wind": 3.4
         },
         {
          "date": "2012-01-11T00:00:00",
          "monthly_mean": 8.22903225806452,
          "precipitation": 0,
          "temp_max": 6.1,
          "temp_min": -1.1,
          "weather": "sun",
          "wind": 5.1
         },
         {
          "date": "2012-01-12T00:00:00",
          "monthly_mean": 8.22903225806452,
          "precipitation": 0,
          "temp_max": 6.1,
          "temp_min": -1.7,
          "weather": "sun",
          "wind": 1.9
         },
         {
          "date": "2012-01-13T00:00:00",
          "monthly_mean": 8.22903225806452,
          "precipitation": 0,
          "temp_max": 5,
          "temp_min": -2.8,
          "weather": "sun",
          "wind": 1.3
         },
         {
          "date": "2012-01-14T00:00:00",
          "monthly_mean": 8.22903225806452,
          "precipitation": 4.1,
          "temp_max": 4.4,
          "temp_min": 0.6,
          "weather": "snow",
          "wind": 5.3
         },
         {
          "date": "2012-01-15T00:00:00",
          "monthly_mean": 8.22903225806452,
          "precipitation": 5.3,
          "temp_max": 1.1,
          "temp_min": -3.3,
          "weather": "snow",
          "wind": 3.2
         },
         {
          "date": "2012-01-16T00:00:00",
          "monthly_mean": 8.22903225806452,
          "precipitation": 2.5,
          "temp_max": 1.7,
          "temp_min": -2.8,
          "weather": "snow",
          "wind": 5
         },
         {
          "date": "2012-01-17T00:00:00",
          "monthly_mean": 8.22903225806452,
          "precipitation": 8.1,
          "temp_max": 3.3,
          "temp_min": 0,
          "weather": "snow",
          "wind": 5.6
         },
         {
          "date": "2012-01-18T00:00:00",
          "monthly_mean": 8.22903225806452,
          "precipitation": 19.8,
          "temp_max": 0,
          "temp_min": -2.8,
          "weather": "snow",
          "wind": 5
         },
         {
          "date": "2012-01-19T00:00:00",
          "monthly_mean": 8.22903225806452,
          "precipitation": 15.2,
          "temp_max": -1.1,
          "temp_min": -2.8,
          "weather": "snow",
          "wind": 1.6
         },
         {
          "date": "2012-01-20T00:00:00",
          "monthly_mean": 8.22903225806452,
          "precipitation": 13.5,
          "temp_max": 7.2,
          "temp_min": -1.1,
          "weather": "snow",
          "wind": 2.3
         },
         {
          "date": "2012-01-21T00:00:00",
          "monthly_mean": 8.22903225806452,
          "precipitation": 3,
          "temp_max": 8.3,
          "temp_min": 3.3,
          "weather": "rain",
          "wind": 8.2
         },
         {
          "date": "2012-01-22T00:00:00",
          "monthly_mean": 8.22903225806452,
          "precipitation": 6.1,
          "temp_max": 6.7,
          "temp_min": 2.2,
          "weather": "rain",
          "wind": 4.8
         },
         {
          "date": "2012-01-23T00:00:00",
          "monthly_mean": 8.22903225806452,
          "precipitation": 0,
          "temp_max": 8.3,
          "temp_min": 1.1,
          "weather": "rain",
          "wind": 3.6
         },
         {
          "date": "2012-01-24T00:00:00",
          "monthly_mean": 8.22903225806452,
          "precipitation": 8.6,
          "temp_max": 10,
          "temp_min": 2.2,
          "weather": "rain",
          "wind": 5.1
         },
         {
          "date": "2012-01-25T00:00:00",
          "monthly_mean": 8.22903225806452,
          "precipitation": 8.1,
          "temp_max": 8.9,
          "temp_min": 4.4,
          "weather": "rain",
          "wind": 5.4
         },
         {
          "date": "2012-01-26T00:00:00",
          "monthly_mean": 8.22903225806452,
          "precipitation": 4.8,
          "temp_max": 8.9,
          "temp_min": 1.1,
          "weather": "rain",
          "wind": 4.8
         },
         {
          "date": "2012-01-27T00:00:00",
          "monthly_mean": 8.22903225806452,
          "precipitation": 0,
          "temp_max": 6.7,
          "temp_min": -2.2,
          "weather": "drizzle",
          "wind": 1.4
         },
         {
          "date": "2012-01-28T00:00:00",
          "monthly_mean": 8.22903225806452,
          "precipitation": 0,
          "temp_max": 6.7,
          "temp_min": 0.6,
          "weather": "rain",
          "wind": 2.2
         },
         {
          "date": "2012-01-29T00:00:00",
          "monthly_mean": 8.22903225806452,
          "precipitation": 27.7,
          "temp_max": 9.4,
          "temp_min": 3.9,
          "weather": "rain",
          "wind": 4.5
         },
         {
          "date": "2012-01-30T00:00:00",
          "monthly_mean": 8.22903225806452,
          "precipitation": 3.6,
          "temp_max": 8.3,
          "temp_min": 6.1,
          "weather": "rain",
          "wind": 5.1
         },
         {
          "date": "2012-01-31T00:00:00",
          "monthly_mean": 8.22903225806452,
          "precipitation": 1.8,
          "temp_max": 9.4,
          "temp_min": 6.1,
          "weather": "rain",
          "wind": 3.9
         },
         {
          "date": "2012-02-01T00:00:00",
          "monthly_mean": 9.860176991150443,
          "precipitation": 13.5,
          "temp_max": 8.9,
          "temp_min": 3.3,
          "weather": "rain",
          "wind": 2.7
         },
         {
          "date": "2012-02-02T00:00:00",
          "monthly_mean": 9.860176991150443,
          "precipitation": 0,
          "temp_max": 8.3,
          "temp_min": 1.7,
          "weather": "sun",
          "wind": 2.6
         },
         {
          "date": "2012-02-03T00:00:00",
          "monthly_mean": 9.860176991150443,
          "precipitation": 0,
          "temp_max": 14.4,
          "temp_min": 2.2,
          "weather": "sun",
          "wind": 5.3
         },
         {
          "date": "2012-02-04T00:00:00",
          "monthly_mean": 9.860176991150443,
          "precipitation": 0,
          "temp_max": 15.6,
          "temp_min": 5,
          "weather": "sun",
          "wind": 4.3
         },
         {
          "date": "2012-02-05T00:00:00",
          "monthly_mean": 9.860176991150443,
          "precipitation": 0,
          "temp_max": 13.9,
          "temp_min": 1.7,
          "weather": "sun",
          "wind": 2.9
         },
         {
          "date": "2012-02-06T00:00:00",
          "monthly_mean": 9.860176991150443,
          "precipitation": 0,
          "temp_max": 16.1,
          "temp_min": 1.7,
          "weather": "sun",
          "wind": 5
         },
         {
          "date": "2012-02-07T00:00:00",
          "monthly_mean": 9.860176991150443,
          "precipitation": 0.3,
          "temp_max": 15.6,
          "temp_min": 7.8,
          "weather": "rain",
          "wind": 5.3
         },
         {
          "date": "2012-02-08T00:00:00",
          "monthly_mean": 9.860176991150443,
          "precipitation": 2.8,
          "temp_max": 10,
          "temp_min": 5,
          "weather": "rain",
          "wind": 2.7
         },
         {
          "date": "2012-02-09T00:00:00",
          "monthly_mean": 9.860176991150443,
          "precipitation": 2.5,
          "temp_max": 11.1,
          "temp_min": 7.8,
          "weather": "rain",
          "wind": 2.4
         },
         {
          "date": "2012-02-10T00:00:00",
          "monthly_mean": 9.860176991150443,
          "precipitation": 2.5,
          "temp_max": 12.8,
          "temp_min": 6.7,
          "weather": "rain",
          "wind": 3
         },
         {
          "date": "2012-02-11T00:00:00",
          "monthly_mean": 9.860176991150443,
          "precipitation": 0.8,
          "temp_max": 8.9,
          "temp_min": 5.6,
          "weather": "rain",
          "wind": 3.4
         },
         {
          "date": "2012-02-12T00:00:00",
          "monthly_mean": 9.860176991150443,
          "precipitation": 1,
          "temp_max": 8.3,
          "temp_min": 5,
          "weather": "rain",
          "wind": 1.3
         },
         {
          "date": "2012-02-13T00:00:00",
          "monthly_mean": 9.860176991150443,
          "precipitation": 11.4,
          "temp_max": 7.2,
          "temp_min": 4.4,
          "weather": "rain",
          "wind": 1.4
         },
         {
          "date": "2012-02-14T00:00:00",
          "monthly_mean": 9.860176991150443,
          "precipitation": 2.5,
          "temp_max": 6.7,
          "temp_min": 1.1,
          "weather": "rain",
          "wind": 3.1
         },
         {
          "date": "2012-02-15T00:00:00",
          "monthly_mean": 9.860176991150443,
          "precipitation": 0,
          "temp_max": 7.2,
          "temp_min": 0.6,
          "weather": "drizzle",
          "wind": 1.8
         },
         {
          "date": "2012-02-16T00:00:00",
          "monthly_mean": 9.860176991150443,
          "precipitation": 1.8,
          "temp_max": 7.2,
          "temp_min": 3.3,
          "weather": "rain",
          "wind": 2.1
         },
         {
          "date": "2012-02-17T00:00:00",
          "monthly_mean": 9.860176991150443,
          "precipitation": 17.3,
          "temp_max": 10,
          "temp_min": 4.4,
          "weather": "rain",
          "wind": 3.4
         },
         {
          "date": "2012-02-18T00:00:00",
          "monthly_mean": 9.860176991150443,
          "precipitation": 6.4,
          "temp_max": 6.7,
          "temp_min": 3.9,
          "weather": "rain",
          "wind": 8.1
         },
         {
          "date": "2012-02-19T00:00:00",
          "monthly_mean": 9.860176991150443,
          "precipitation": 0,
          "temp_max": 6.7,
          "temp_min": 2.2,
          "weather": "sun",
          "wind": 4.7
         },
         {
          "date": "2012-02-20T00:00:00",
          "monthly_mean": 9.860176991150443,
          "precipitation": 3,
          "temp_max": 7.8,
          "temp_min": 1.7,
          "weather": "rain",
          "wind": 2.9
         },
         {
          "date": "2012-02-21T00:00:00",
          "monthly_mean": 9.860176991150443,
          "precipitation": 0.8,
          "temp_max": 10,
          "temp_min": 7.8,
          "weather": "rain",
          "wind": 7.5
         },
         {
          "date": "2012-02-22T00:00:00",
          "monthly_mean": 9.860176991150443,
          "precipitation": 8.6,
          "temp_max": 10,
          "temp_min": 2.8,
          "weather": "rain",
          "wind": 5.9
         },
         {
          "date": "2012-02-23T00:00:00",
          "monthly_mean": 9.860176991150443,
          "precipitation": 0,
          "temp_max": 8.3,
          "temp_min": 2.8,
          "weather": "sun",
          "wind": 3.9
         },
         {
          "date": "2012-02-24T00:00:00",
          "monthly_mean": 9.860176991150443,
          "precipitation": 11.4,
          "temp_max": 6.7,
          "temp_min": 4.4,
          "weather": "rain",
          "wind": 3.5
         },
         {
          "date": "2012-02-25T00:00:00",
          "monthly_mean": 9.860176991150443,
          "precipitation": 0,
          "temp_max": 7.2,
          "temp_min": 2.8,
          "weather": "rain",
          "wind": 6.4
         },
         {
          "date": "2012-02-26T00:00:00",
          "monthly_mean": 9.860176991150443,
          "precipitation": 1.3,
          "temp_max": 5,
          "temp_min": -1.1,
          "weather": "snow",
          "wind": 3.4
         },
         {
          "date": "2012-02-27T00:00:00",
          "monthly_mean": 9.860176991150443,
          "precipitation": 0,
          "temp_max": 6.7,
          "temp_min": -2.2,
          "weather": "sun",
          "wind": 3
         },
         {
          "date": "2012-02-28T00:00:00",
          "monthly_mean": 9.860176991150443,
          "precipitation": 3.6,
          "temp_max": 6.7,
          "temp_min": -0.6,
          "weather": "snow",
          "wind": 4.2
         },
         {
          "date": "2012-02-29T00:00:00",
          "monthly_mean": 9.860176991150443,
          "precipitation": 0.8,
          "temp_max": 5,
          "temp_min": 1.1,
          "weather": "snow",
          "wind": 7
         },
         {
          "date": "2012-03-01T00:00:00",
          "monthly_mean": 12.387096774193543,
          "precipitation": 0,
          "temp_max": 6.1,
          "temp_min": 1.1,
          "weather": "sun",
          "wind": 3.1
         },
         {
          "date": "2012-03-02T00:00:00",
          "monthly_mean": 12.387096774193543,
          "precipitation": 2,
          "temp_max": 6.7,
          "temp_min": 3.9,
          "weather": "rain",
          "wind": 5.1
         },
         {
          "date": "2012-03-03T00:00:00",
          "monthly_mean": 12.387096774193543,
          "precipitation": 0,
          "temp_max": 12.2,
          "temp_min": 6.7,
          "weather": "sun",
          "wind": 7
         },
         {
          "date": "2012-03-04T00:00:00",
          "monthly_mean": 12.387096774193543,
          "precipitation": 0,
          "temp_max": 10.6,
          "temp_min": 6.7,
          "weather": "rain",
          "wind": 5.6
         },
         {
          "date": "2012-03-05T00:00:00",
          "monthly_mean": 12.387096774193543,
          "precipitation": 6.9,
          "temp_max": 7.8,
          "temp_min": 1.1,
          "weather": "rain",
          "wind": 6.2
         },
         {
          "date": "2012-03-06T00:00:00",
          "monthly_mean": 12.387096774193543,
          "precipitation": 0.5,
          "temp_max": 6.7,
          "temp_min": 0,
          "weather": "snow",
          "wind": 2.7
         },
         {
          "date": "2012-03-07T00:00:00",
          "monthly_mean": 12.387096774193543,
          "precipitation": 0,
          "temp_max": 8.9,
          "temp_min": -1.7,
          "weather": "sun",
          "wind": 2.7
         },
         {
          "date": "2012-03-08T00:00:00",
          "monthly_mean": 12.387096774193543,
          "precipitation": 0,
          "temp_max": 15.6,
          "temp_min": 0.6,
          "weather": "sun",
          "wind": 2.5
         },
         {
          "date": "2012-03-09T00:00:00",
          "monthly_mean": 12.387096774193543,
          "precipitation": 3.6,
          "temp_max": 9.4,
          "temp_min": 5,
          "weather": "rain",
          "wind": 2.8
         },
         {
          "date": "2012-03-10T00:00:00",
          "monthly_mean": 12.387096774193543,
          "precipitation": 10.4,
          "temp_max": 7.2,
          "temp_min": 6.1,
          "weather": "rain",
          "wind": 3.4
         },
         {
          "date": "2012-03-11T00:00:00",
          "monthly_mean": 12.387096774193543,
          "precipitation": 13.7,
          "temp_max": 6.7,
          "temp_min": 2.8,
          "weather": "rain",
          "wind": 5.8
         },
         {
          "date": "2012-03-12T00:00:00",
          "monthly_mean": 12.387096774193543,
          "precipitation": 19.3,
          "temp_max": 8.3,
          "temp_min": 0.6,
          "weather": "snow",
          "wind": 6.2
         },
         {
          "date": "2012-03-13T00:00:00",
          "monthly_mean": 12.387096774193543,
          "precipitation": 9.4,
          "temp_max": 5.6,
          "temp_min": 0.6,
          "weather": "snow",
          "wind": 5.3
         },
         {
          "date": "2012-03-14T00:00:00",
          "monthly_mean": 12.387096774193543,
          "precipitation": 8.6,
          "temp_max": 7.8,
          "temp_min": 1.1,
          "weather": "rain",
          "wind": 4.7
         },
         {
          "date": "2012-03-15T00:00:00",
          "monthly_mean": 12.387096774193543,
          "precipitation": 23.9,
          "temp_max": 11.1,
          "temp_min": 5.6,
          "weather": "snow",
          "wind": 5.8
         },
         {
          "date": "2012-03-16T00:00:00",
          "monthly_mean": 12.387096774193543,
          "precipitation": 8.4,
          "temp_max": 8.9,
          "temp_min": 3.9,
          "weather": "rain",
          "wind": 5.1
         },
         {
          "date": "2012-03-17T00:00:00",
          "monthly_mean": 12.387096774193543,
          "precipitation": 9.4,
          "temp_max": 10,
          "temp_min": 0.6,
          "weather": "snow",
          "wind": 3.8
         },
         {
          "date": "2012-03-18T00:00:00",
          "monthly_mean": 12.387096774193543,
          "precipitation": 3.6,
          "temp_max": 5,
          "temp_min": -0.6,
          "weather": "rain",
          "wind": 2.7
         },
         {
          "date": "2012-03-19T00:00:00",
          "monthly_mean": 12.387096774193543,
          "precipitation": 2,
          "temp_max": 7.2,
          "temp_min": -1.1,
          "weather": "rain",
          "wind": 3
         },
         {
          "date": "2012-03-20T00:00:00",
          "monthly_mean": 12.387096774193543,
          "precipitation": 3.6,
          "temp_max": 7.8,
          "temp_min": 2.2,
          "weather": "rain",
          "wind": 6.4
         },
         {
          "date": "2012-03-21T00:00:00",
          "monthly_mean": 12.387096774193543,
          "precipitation": 1.3,
          "temp_max": 8.9,
          "temp_min": 1.1,
          "weather": "rain",
          "wind": 2.5
         },
         {
          "date": "2012-03-22T00:00:00",
          "monthly_mean": 12.387096774193543,
          "precipitation": 4.1,
          "temp_max": 10,
          "temp_min": 1.7,
          "weather": "rain",
          "wind": 2.1
         },
         {
          "date": "2012-03-23T00:00:00",
          "monthly_mean": 12.387096774193543,
          "precipitation": 0,
          "temp_max": 12.2,
          "temp_min": 0.6,
          "weather": "sun",
          "wind": 2.8
         },
         {
          "date": "2012-03-24T00:00:00",
          "monthly_mean": 12.387096774193543,
          "precipitation": 0,
          "temp_max": 15,
          "temp_min": 3.3,
          "weather": "sun",
          "wind": 5.2
         },
         {
          "date": "2012-03-25T00:00:00",
          "monthly_mean": 12.387096774193543,
          "precipitation": 0,
          "temp_max": 13.3,
          "temp_min": 2.2,
          "weather": "rain",
          "wind": 2.7
         },
         {
          "date": "2012-03-26T00:00:00",
          "monthly_mean": 12.387096774193543,
          "precipitation": 0,
          "temp_max": 12.8,
          "temp_min": 6.1,
          "weather": "drizzle",
          "wind": 4.3
         },
         {
          "date": "2012-03-27T00:00:00",
          "monthly_mean": 12.387096774193543,
          "precipitation": 4.8,
          "temp_max": 14.4,
          "temp_min": 6.7,
          "weather": "rain",
          "wind": 3.8
         },
         {
          "date": "2012-03-28T00:00:00",
          "monthly_mean": 12.387096774193543,
          "precipitation": 1.3,
          "temp_max": 10.6,
          "temp_min": 7.2,
          "weather": "rain",
          "wind": 5.9
         },
         {
          "date": "2012-03-29T00:00:00",
          "monthly_mean": 12.387096774193543,
          "precipitation": 27.4,
          "temp_max": 10,
          "temp_min": 6.1,
          "weather": "rain",
          "wind": 4.4
         },
         {
          "date": "2012-03-30T00:00:00",
          "monthly_mean": 12.387096774193543,
          "precipitation": 5.6,
          "temp_max": 9.4,
          "temp_min": 5,
          "weather": "rain",
          "wind": 4.7
         },
         {
          "date": "2012-03-31T00:00:00",
          "monthly_mean": 12.387096774193543,
          "precipitation": 13.2,
          "temp_max": 10,
          "temp_min": 2.8,
          "weather": "rain",
          "wind": 3.4
         },
         {
          "date": "2012-04-01T00:00:00",
          "monthly_mean": 15.02,
          "precipitation": 1.5,
          "temp_max": 8.9,
          "temp_min": 4.4,
          "weather": "rain",
          "wind": 6.8
         },
         {
          "date": "2012-04-02T00:00:00",
          "monthly_mean": 15.02,
          "precipitation": 0,
          "temp_max": 16.7,
          "temp_min": 4.4,
          "weather": "sun",
          "wind": 3.1
         },
         {
          "date": "2012-04-03T00:00:00",
          "monthly_mean": 15.02,
          "precipitation": 1.5,
          "temp_max": 11.7,
          "temp_min": 3.3,
          "weather": "rain",
          "wind": 3.1
         },
         {
          "date": "2012-04-04T00:00:00",
          "monthly_mean": 15.02,
          "precipitation": 0,
          "temp_max": 10.6,
          "temp_min": 2.8,
          "weather": "sun",
          "wind": 2.1
         },
         {
          "date": "2012-04-05T00:00:00",
          "monthly_mean": 15.02,
          "precipitation": 4.6,
          "temp_max": 9.4,
          "temp_min": 2.8,
          "weather": "snow",
          "wind": 1.8
         },
         {
          "date": "2012-04-06T00:00:00",
          "monthly_mean": 15.02,
          "precipitation": 0.3,
          "temp_max": 11.1,
          "temp_min": 3.3,
          "weather": "rain",
          "wind": 2.6
         },
         {
          "date": "2012-04-07T00:00:00",
          "monthly_mean": 15.02,
          "precipitation": 0,
          "temp_max": 16.1,
          "temp_min": 1.7,
          "weather": "sun",
          "wind": 4.3
         },
         {
          "date": "2012-04-08T00:00:00",
          "monthly_mean": 15.02,
          "precipitation": 0,
          "temp_max": 21.1,
          "temp_min": 7.2,
          "weather": "sun",
          "wind": 4.1
         },
         {
          "date": "2012-04-09T00:00:00",
          "monthly_mean": 15.02,
          "precipitation": 0,
          "temp_max": 20,
          "temp_min": 6.1,
          "weather": "sun",
          "wind": 2.1
         },
         {
          "date": "2012-04-10T00:00:00",
          "monthly_mean": 15.02,
          "precipitation": 0,
          "temp_max": 17.8,
          "temp_min": 8.9,
          "weather": "rain",
          "wind": 3.2
         },
         {
          "date": "2012-04-11T00:00:00",
          "monthly_mean": 15.02,
          "precipitation": 2.3,
          "temp_max": 11.1,
          "temp_min": 7.2,
          "weather": "rain",
          "wind": 2.6
         },
         {
          "date": "2012-04-12T00:00:00",
          "monthly_mean": 15.02,
          "precipitation": 0.5,
          "temp_max": 13.9,
          "temp_min": 5.6,
          "weather": "rain",
          "wind": 2.6
         },
         {
          "date": "2012-04-13T00:00:00",
          "monthly_mean": 15.02,
          "precipitation": 0,
          "temp_max": 15,
          "temp_min": 3.9,
          "weather": "drizzle",
          "wind": 4
         },
         {
          "date": "2012-04-14T00:00:00",
          "monthly_mean": 15.02,
          "precipitation": 0,
          "temp_max": 15.6,
          "temp_min": 3.3,
          "weather": "sun",
          "wind": 3
         },
         {
          "date": "2012-04-15T00:00:00",
          "monthly_mean": 15.02,
          "precipitation": 0,
          "temp_max": 16.1,
          "temp_min": 7.2,
          "weather": "rain",
          "wind": 2.9
         },
         {
          "date": "2012-04-16T00:00:00",
          "monthly_mean": 15.02,
          "precipitation": 8.1,
          "temp_max": 13.3,
          "temp_min": 6.7,
          "weather": "rain",
          "wind": 5.8
         },
         {
          "date": "2012-04-17T00:00:00",
          "monthly_mean": 15.02,
          "precipitation": 1.8,
          "temp_max": 10,
          "temp_min": 4.4,
          "weather": "rain",
          "wind": 2
         },
         {
          "date": "2012-04-18T00:00:00",
          "monthly_mean": 15.02,
          "precipitation": 1.8,
          "temp_max": 13.3,
          "temp_min": 7.2,
          "weather": "rain",
          "wind": 3.9
         },
         {
          "date": "2012-04-19T00:00:00",
          "monthly_mean": 15.02,
          "precipitation": 10.9,
          "temp_max": 13.9,
          "temp_min": 5,
          "weather": "rain",
          "wind": 2.6
         },
         {
          "date": "2012-04-20T00:00:00",
          "monthly_mean": 15.02,
          "precipitation": 6.6,
          "temp_max": 13.3,
          "temp_min": 6.7,
          "weather": "rain",
          "wind": 2.7
         },
         {
          "date": "2012-04-21T00:00:00",
          "monthly_mean": 15.02,
          "precipitation": 0,
          "temp_max": 20,
          "temp_min": 4.4,
          "weather": "sun",
          "wind": 2.3
         },
         {
          "date": "2012-04-22T00:00:00",
          "monthly_mean": 15.02,
          "precipitation": 0,
          "temp_max": 23.3,
          "temp_min": 8.3,
          "weather": "rain",
          "wind": 2.6
         },
         {
          "date": "2012-04-23T00:00:00",
          "monthly_mean": 15.02,
          "precipitation": 0,
          "temp_max": 21.7,
          "temp_min": 8.9,
          "weather": "sun",
          "wind": 3.5
         },
         {
          "date": "2012-04-24T00:00:00",
          "monthly_mean": 15.02,
          "precipitation": 4.3,
          "temp_max": 13.9,
          "temp_min": 10,
          "weather": "rain",
          "wind": 2.8
         },
         {
          "date": "2012-04-25T00:00:00",
          "monthly_mean": 15.02,
          "precipitation": 10.7,
          "temp_max": 16.7,
          "temp_min": 8.9,
          "weather": "rain",
          "wind": 2.6
         },
         {
          "date": "2012-04-26T00:00:00",
          "monthly_mean": 15.02,
          "precipitation": 3.8,
          "temp_max": 13.9,
          "temp_min": 6.7,
          "weather": "rain",
          "wind": 5.2
         },
         {
          "date": "2012-04-27T00:00:00",
          "monthly_mean": 15.02,
          "precipitation": 0.8,
          "temp_max": 13.3,
          "temp_min": 6.1,
          "weather": "rain",
          "wind": 4.8
         },
         {
          "date": "2012-04-28T00:00:00",
          "monthly_mean": 15.02,
          "precipitation": 0,
          "temp_max": 16.1,
          "temp_min": 8.3,
          "weather": "drizzle",
          "wind": 2.5
         },
         {
          "date": "2012-04-29T00:00:00",
          "monthly_mean": 15.02,
          "precipitation": 4.3,
          "temp_max": 15.6,
          "temp_min": 8.9,
          "weather": "rain",
          "wind": 1.6
         },
         {
          "date": "2012-04-30T00:00:00",
          "monthly_mean": 15.02,
          "precipitation": 4.3,
          "temp_max": 12.8,
          "temp_min": 7.2,
          "weather": "rain",
          "wind": 8
         },
         {
          "date": "2012-05-01T00:00:00",
          "monthly_mean": 19.295967741935485,
          "precipitation": 0.5,
          "temp_max": 11.7,
          "temp_min": 6.1,
          "weather": "rain",
          "wind": 6.4
         },
         {
          "date": "2012-05-02T00:00:00",
          "monthly_mean": 19.295967741935485,
          "precipitation": 0.5,
          "temp_max": 13.3,
          "temp_min": 5.6,
          "weather": "rain",
          "wind": 2.5
         },
         {
          "date": "2012-05-03T00:00:00",
          "monthly_mean": 19.295967741935485,
          "precipitation": 18.5,
          "temp_max": 11.1,
          "temp_min": 7.2,
          "weather": "rain",
          "wind": 3.4
         },
         {
          "date": "2012-05-04T00:00:00",
          "monthly_mean": 19.295967741935485,
          "precipitation": 1.8,
          "temp_max": 12.2,
          "temp_min": 6.1,
          "weather": "rain",
          "wind": 4.6
         },
         {
          "date": "2012-05-05T00:00:00",
          "monthly_mean": 19.295967741935485,
          "precipitation": 0,
          "temp_max": 13.3,
          "temp_min": 5,
          "weather": "sun",
          "wind": 2.3
         },
         {
          "date": "2012-05-06T00:00:00",
          "monthly_mean": 19.295967741935485,
          "precipitation": 0,
          "temp_max": 17.8,
          "temp_min": 5,
          "weather": "sun",
          "wind": 2.4
         },
         {
          "date": "2012-05-07T00:00:00",
          "monthly_mean": 19.295967741935485,
          "precipitation": 0,
          "temp_max": 23.9,
          "temp_min": 6.1,
          "weather": "sun",
          "wind": 2.2
         },
         {
          "date": "2012-05-08T00:00:00",
          "monthly_mean": 19.295967741935485,
          "precipitation": 0,
          "temp_max": 18.3,
          "temp_min": 9.4,
          "weather": "sun",
          "wind": 3
         },
         {
          "date": "2012-05-09T00:00:00",
          "monthly_mean": 19.295967741935485,
          "precipitation": 0,
          "temp_max": 13.3,
          "temp_min": 6.7,
          "weather": "rain",
          "wind": 3.9
         },
         {
          "date": "2012-05-10T00:00:00",
          "monthly_mean": 19.295967741935485,
          "precipitation": 0,
          "temp_max": 14.4,
          "temp_min": 3.9,
          "weather": "sun",
          "wind": 3
         },
         {
          "date": "2012-05-11T00:00:00",
          "monthly_mean": 19.295967741935485,
          "precipitation": 0,
          "temp_max": 18.3,
          "temp_min": 4.4,
          "weather": "sun",
          "wind": 4.3
         },
         {
          "date": "2012-05-12T00:00:00",
          "monthly_mean": 19.295967741935485,
          "precipitation": 0,
          "temp_max": 24.4,
          "temp_min": 6.7,
          "weather": "sun",
          "wind": 3.4
         },
         {
          "date": "2012-05-13T00:00:00",
          "monthly_mean": 19.295967741935485,
          "precipitation": 0,
          "temp_max": 25.6,
          "temp_min": 9.4,
          "weather": "sun",
          "wind": 4.2
         },
         {
          "date": "2012-05-14T00:00:00",
          "monthly_mean": 19.295967741935485,
          "precipitation": 0,
          "temp_max": 26.7,
          "temp_min": 12.8,
          "weather": "sun",
          "wind": 3.8
         },
         {
          "date": "2012-05-15T00:00:00",
          "monthly_mean": 19.295967741935485,
          "precipitation": 0,
          "temp_max": 24.4,
          "temp_min": 9.4,
          "weather": "drizzle",
          "wind": 4.1
         },
         {
          "date": "2012-05-16T00:00:00",
          "monthly_mean": 19.295967741935485,
          "precipitation": 0,
          "temp_max": 19.4,
          "temp_min": 9.4,
          "weather": "sun",
          "wind": 3.5
         },
         {
          "date": "2012-05-17T00:00:00",
          "monthly_mean": 19.295967741935485,
          "precipitation": 0,
          "temp_max": 17.8,
          "temp_min": 6.7,
          "weather": "rain",
          "wind": 2.9
         },
         {
          "date": "2012-05-18T00:00:00",
          "monthly_mean": 19.295967741935485,
          "precipitation": 0,
          "temp_max": 15.6,
          "temp_min": 7.8,
          "weather": "rain",
          "wind": 3.1
         },
         {
          "date": "2012-05-19T00:00:00",
          "monthly_mean": 19.295967741935485,
          "precipitation": 0,
          "temp_max": 19.4,
          "temp_min": 7.2,
          "weather": "sun",
          "wind": 1.5
         },
         {
          "date": "2012-05-20T00:00:00",
          "monthly_mean": 19.295967741935485,
          "precipitation": 6.4,
          "temp_max": 14.4,
          "temp_min": 11.7,
          "weather": "rain",
          "wind": 1.3
         },
         {
          "date": "2012-05-21T00:00:00",
          "monthly_mean": 19.295967741935485,
          "precipitation": 14,
          "temp_max": 16.7,
          "temp_min": 10,
          "weather": "rain",
          "wind": 4
         },
         {
          "date": "2012-05-22T00:00:00",
          "monthly_mean": 19.295967741935485,
          "precipitation": 6.1,
          "temp_max": 12.8,
          "temp_min": 8.9,
          "weather": "rain",
          "wind": 4.8
         },
         {
          "date": "2012-05-23T00:00:00",
          "monthly_mean": 19.295967741935485,
          "precipitation": 0.3,
          "temp_max": 14.4,
          "temp_min": 8.9,
          "weather": "rain",
          "wind": 6.3
         },
         {
          "date": "2012-05-24T00:00:00",
          "monthly_mean": 19.295967741935485,
          "precipitation": 0,
          "temp_max": 17.2,
          "temp_min": 8.9,
          "weather": "rain",
          "wind": 3.3
         },
         {
          "date": "2012-05-25T00:00:00",
          "monthly_mean": 19.295967741935485,
          "precipitation": 0,
          "temp_max": 22.2,
          "temp_min": 8.9,
          "weather": "rain",
          "wind": 3.1
         },
         {
          "date": "2012-05-26T00:00:00",
          "monthly_mean": 19.295967741935485,
          "precipitation": 0,
          "temp_max": 22.2,
          "temp_min": 8.9,
          "weather": "sun",
          "wind": 3.6
         },
         {
          "date": "2012-05-27T00:00:00",
          "monthly_mean": 19.295967741935485,
          "precipitation": 0,
          "temp_max": 17.2,
          "temp_min": 11.7,
          "weather": "sun",
          "wind": 3.7
         },
         {
          "date": "2012-05-28T00:00:00",
          "monthly_mean": 19.295967741935485,
          "precipitation": 0,
          "temp_max": 16.7,
          "temp_min": 10,
          "weather": "rain",
          "wind": 3.4
         },
         {
          "date": "2012-05-29T00:00:00",
          "monthly_mean": 19.295967741935485,
          "precipitation": 0,
          "temp_max": 16.1,
          "temp_min": 7.8,
          "weather": "sun",
          "wind": 1.8
         },
         {
          "date": "2012-05-30T00:00:00",
          "monthly_mean": 19.295967741935485,
          "precipitation": 0.3,
          "temp_max": 18.9,
          "temp_min": 11.1,
          "weather": "rain",
          "wind": 1.5
         },
         {
          "date": "2012-05-31T00:00:00",
          "monthly_mean": 19.295967741935485,
          "precipitation": 3.8,
          "temp_max": 17.8,
          "temp_min": 12.2,
          "weather": "rain",
          "wind": 2.7
         },
         {
          "date": "2012-06-01T00:00:00",
          "monthly_mean": 22.4,
          "precipitation": 6.6,
          "temp_max": 20,
          "temp_min": 12.8,
          "weather": "rain",
          "wind": 3.7
         },
         {
          "date": "2012-06-02T00:00:00",
          "monthly_mean": 22.4,
          "precipitation": 0.3,
          "temp_max": 18.9,
          "temp_min": 10.6,
          "weather": "rain",
          "wind": 3.7
         },
         {
          "date": "2012-06-03T00:00:00",
          "monthly_mean": 22.4,
          "precipitation": 0,
          "temp_max": 17.2,
          "temp_min": 9.4,
          "weather": "sun",
          "wind": 2.9
         },
         {
          "date": "2012-06-04T00:00:00",
          "monthly_mean": 22.4,
          "precipitation": 1.3,
          "temp_max": 12.8,
          "temp_min": 8.9,
          "weather": "rain",
          "wind": 3.1
         },
         {
          "date": "2012-06-05T00:00:00",
          "monthly_mean": 22.4,
          "precipitation": 16,
          "temp_max": 13.3,
          "temp_min": 8.3,
          "weather": "rain",
          "wind": 3.3
         },
         {
          "date": "2012-06-06T00:00:00",
          "monthly_mean": 22.4,
          "precipitation": 0,
          "temp_max": 16.1,
          "temp_min": 6.1,
          "weather": "sun",
          "wind": 3.4
         },
         {
          "date": "2012-06-07T00:00:00",
          "monthly_mean": 22.4,
          "precipitation": 16.5,
          "temp_max": 16.1,
          "temp_min": 8.9,
          "weather": "rain",
          "wind": 3.5
         },
         {
          "date": "2012-06-08T00:00:00",
          "monthly_mean": 22.4,
          "precipitation": 1.5,
          "temp_max": 15,
          "temp_min": 8.3,
          "weather": "rain",
          "wind": 3
         },
         {
          "date": "2012-06-09T00:00:00",
          "monthly_mean": 22.4,
          "precipitation": 0,
          "temp_max": 17.2,
          "temp_min": 8.3,
          "weather": "rain",
          "wind": 4.7
         },
         {
          "date": "2012-06-10T00:00:00",
          "monthly_mean": 22.4,
          "precipitation": 0,
          "temp_max": 18.9,
          "temp_min": 10,
          "weather": "sun",
          "wind": 2.9
         },
         {
          "date": "2012-06-11T00:00:00",
          "monthly_mean": 22.4,
          "precipitation": 0,
          "temp_max": 23.3,
          "temp_min": 10,
          "weather": "rain",
          "wind": 1.8
         },
         {
          "date": "2012-06-12T00:00:00",
          "monthly_mean": 22.4,
          "precipitation": 0.8,
          "temp_max": 18.3,
          "temp_min": 12.8,
          "weather": "rain",
          "wind": 3.9
         },
         {
          "date": "2012-06-13T00:00:00",
          "monthly_mean": 22.4,
          "precipitation": 0,
          "temp_max": 16.1,
          "temp_min": 11.1,
          "weather": "sun",
          "wind": 4.3
         },
         {
          "date": "2012-06-14T00:00:00",
          "monthly_mean": 22.4,
          "precipitation": 0,
          "temp_max": 17.2,
          "temp_min": 10,
          "weather": "sun",
          "wind": 2.7
         },
         {
          "date": "2012-06-15T00:00:00",
          "monthly_mean": 22.4,
          "precipitation": 0,
          "temp_max": 22.2,
          "temp_min": 9.4,
          "weather": "sun",
          "wind": 1.7
         },
         {
          "date": "2012-06-16T00:00:00",
          "monthly_mean": 22.4,
          "precipitation": 0,
          "temp_max": 21.1,
          "temp_min": 15,
          "weather": "rain",
          "wind": 4.1
         },
         {
          "date": "2012-06-17T00:00:00",
          "monthly_mean": 22.4,
          "precipitation": 0,
          "temp_max": 18.9,
          "temp_min": 11.7,
          "weather": "sun",
          "wind": 6.4
         },
         {
          "date": "2012-06-18T00:00:00",
          "monthly_mean": 22.4,
          "precipitation": 3,
          "temp_max": 17.2,
          "temp_min": 10,
          "weather": "rain",
          "wind": 3.8
         },
         {
          "date": "2012-06-19T00:00:00",
          "monthly_mean": 22.4,
          "precipitation": 1,
          "temp_max": 19.4,
          "temp_min": 10,
          "weather": "rain",
          "wind": 3
         },
         {
          "date": "2012-06-20T00:00:00",
          "monthly_mean": 22.4,
          "precipitation": 0,
          "temp_max": 24.4,
          "temp_min": 10,
          "weather": "sun",
          "wind": 3
         },
         {
          "date": "2012-06-21T00:00:00",
          "monthly_mean": 22.4,
          "precipitation": 0,
          "temp_max": 23.9,
          "temp_min": 11.7,
          "weather": "sun",
          "wind": 2.1
         },
         {
          "date": "2012-06-22T00:00:00",
          "monthly_mean": 22.4,
          "precipitation": 15.7,
          "temp_max": 13.9,
          "temp_min": 11.7,
          "weather": "rain",
          "wind": 1.9
         },
         {
          "date": "2012-06-23T00:00:00",
          "monthly_mean": 22.4,
          "precipitation": 8.6,
          "temp_max": 15.6,
          "temp_min": 9.4,
          "weather": "rain",
          "wind": 2.5
         },
         {
          "date": "2012-06-24T00:00:00",
          "monthly_mean": 22.4,
          "precipitation": 0,
          "temp_max": 19.4,
          "temp_min": 9.4,
          "weather": "drizzle",
          "wind": 2
         },
         {
          "date": "2012-06-25T00:00:00",
          "monthly_mean": 22.4,
          "precipitation": 0.5,
          "temp_max": 19.4,
          "temp_min": 11.1,
          "weather": "rain",
          "wind": 3.1
         },
         {
          "date": "2012-06-26T00:00:00",
          "monthly_mean": 22.4,
          "precipitation": 0,
          "temp_max": 18.3,
          "temp_min": 10.6,
          "weather": "rain",
          "wind": 3.4
         },
         {
          "date": "2012-06-27T00:00:00",
          "monthly_mean": 22.4,
          "precipitation": 0,
          "temp_max": 22.8,
          "temp_min": 8.9,
          "weather": "sun",
          "wind": 1.8
         },
         {
          "date": "2012-06-28T00:00:00",
          "monthly_mean": 22.4,
          "precipitation": 0,
          "temp_max": 22.2,
          "temp_min": 11.7,
          "weather": "rain",
          "wind": 2.5
         },
         {
          "date": "2012-06-29T00:00:00",
          "monthly_mean": 22.4,
          "precipitation": 0.3,
          "temp_max": 21.7,
          "temp_min": 15,
          "weather": "rain",
          "wind": 1.9
         },
         {
          "date": "2012-06-30T00:00:00",
          "monthly_mean": 22.4,
          "precipitation": 3,
          "temp_max": 20,
          "temp_min": 13.3,
          "weather": "rain",
          "wind": 2.4
         },
         {
          "date": "2012-07-01T00:00:00",
          "monthly_mean": 25.9983870967742,
          "precipitation": 0,
          "temp_max": 20,
          "temp_min": 12.2,
          "weather": "rain",
          "wind": 2.3
         },
         {
          "date": "2012-07-02T00:00:00",
          "monthly_mean": 25.9983870967742,
          "precipitation": 2,
          "temp_max": 18.9,
          "temp_min": 11.7,
          "weather": "rain",
          "wind": 2.1
         },
         {
          "date": "2012-07-03T00:00:00",
          "monthly_mean": 25.9983870967742,
          "precipitation": 5.8,
          "temp_max": 18.3,
          "temp_min": 10.6,
          "weather": "rain",
          "wind": 6
         },
         {
          "date": "2012-07-04T00:00:00",
          "monthly_mean": 25.9983870967742,
          "precipitation": 0,
          "temp_max": 20.6,
          "temp_min": 9.4,
          "weather": "sun",
          "wind": 3.8
         },
         {
          "date": "2012-07-05T00:00:00",
          "monthly_mean": 25.9983870967742,
          "precipitation": 0,
          "temp_max": 24.4,
          "temp_min": 10.6,
          "weather": "drizzle",
          "wind": 3.1
         },
         {
          "date": "2012-07-06T00:00:00",
          "monthly_mean": 25.9983870967742,
          "precipitation": 0,
          "temp_max": 25,
          "temp_min": 11.1,
          "weather": "sun",
          "wind": 2.1
         },
         {
          "date": "2012-07-07T00:00:00",
          "monthly_mean": 25.9983870967742,
          "precipitation": 0,
          "temp_max": 26.7,
          "temp_min": 12.8,
          "weather": "sun",
          "wind": 3.8
         },
         {
          "date": "2012-07-08T00:00:00",
          "monthly_mean": 25.9983870967742,
          "precipitation": 0,
          "temp_max": 28.3,
          "temp_min": 14.4,
          "weather": "rain",
          "wind": 2.8
         },
         {
          "date": "2012-07-09T00:00:00",
          "monthly_mean": 25.9983870967742,
          "precipitation": 1.5,
          "temp_max": 25,
          "temp_min": 12.8,
          "weather": "rain",
          "wind": 2
         },
         {
          "date": "2012-07-10T00:00:00",
          "monthly_mean": 25.9983870967742,
          "precipitation": 0,
          "temp_max": 23.9,
          "temp_min": 11.1,
          "weather": "drizzle",
          "wind": 2.3
         },
         {
          "date": "2012-07-11T00:00:00",
          "monthly_mean": 25.9983870967742,
          "precipitation": 0,
          "temp_max": 27.8,
          "temp_min": 13.3,
          "weather": "fog",
          "wind": 2.9
         },
         {
          "date": "2012-07-12T00:00:00",
          "monthly_mean": 25.9983870967742,
          "precipitation": 0,
          "temp_max": 25.6,
          "temp_min": 13.3,
          "weather": "drizzle",
          "wind": 2.7
         },
         {
          "date": "2012-07-13T00:00:00",
          "monthly_mean": 25.9983870967742,
          "precipitation": 0.5,
          "temp_max": 23.3,
          "temp_min": 13.9,
          "weather": "rain",
          "wind": 2.2
         },
         {
          "date": "2012-07-14T00:00:00",
          "monthly_mean": 25.9983870967742,
          "precipitation": 0,
          "temp_max": 25,
          "temp_min": 15,
          "weather": "rain",
          "wind": 2.2
         },
         {
          "date": "2012-07-15T00:00:00",
          "monthly_mean": 25.9983870967742,
          "precipitation": 0,
          "temp_max": 18.9,
          "temp_min": 13.3,
          "weather": "rain",
          "wind": 3.8
         },
         {
          "date": "2012-07-16T00:00:00",
          "monthly_mean": 25.9983870967742,
          "precipitation": 0.3,
          "temp_max": 26.1,
          "temp_min": 13.3,
          "weather": "rain",
          "wind": 2.5
         },
         {
          "date": "2012-07-17T00:00:00",
          "monthly_mean": 25.9983870967742,
          "precipitation": 0,
          "temp_max": 21.7,
          "temp_min": 15,
          "weather": "sun",
          "wind": 2.6
         },
         {
          "date": "2012-07-18T00:00:00",
          "monthly_mean": 25.9983870967742,
          "precipitation": 0,
          "temp_max": 21.1,
          "temp_min": 14.4,
          "weather": "sun",
          "wind": 2.9
         },
         {
          "date": "2012-07-19T00:00:00",
          "monthly_mean": 25.9983870967742,
          "precipitation": 0,
          "temp_max": 25,
          "temp_min": 14.4,
          "weather": "sun",
          "wind": 2.2
         },
         {
          "date": "2012-07-20T00:00:00",
          "monthly_mean": 25.9983870967742,
          "precipitation": 15.2,
          "temp_max": 19.4,
          "temp_min": 13.9,
          "weather": "rain",
          "wind": 4
         },
         {
          "date": "2012-07-21T00:00:00",
          "monthly_mean": 25.9983870967742,
          "precipitation": 0,
          "temp_max": 23.9,
          "temp_min": 13.9,
          "weather": "sun",
          "wind": 2.3
         },
         {
          "date": "2012-07-22T00:00:00",
          "monthly_mean": 25.9983870967742,
          "precipitation": 1,
          "temp_max": 20.6,
          "temp_min": 12.2,
          "weather": "rain",
          "wind": 3.9
         },
         {
          "date": "2012-07-23T00:00:00",
          "monthly_mean": 25.9983870967742,
          "precipitation": 0,
          "temp_max": 18.9,
          "temp_min": 11.1,
          "weather": "rain",
          "wind": 3.3
         },
         {
          "date": "2012-07-24T00:00:00",
          "monthly_mean": 25.9983870967742,
          "precipitation": 0,
          "temp_max": 23.3,
          "temp_min": 12.2,
          "weather": "sun",
          "wind": 4.3
         },
         {
          "date": "2012-07-25T00:00:00",
          "monthly_mean": 25.9983870967742,
          "precipitation": 0,
          "temp_max": 26.7,
          "temp_min": 12.8,
          "weather": "sun",
          "wind": 2.6
         },
         {
          "date": "2012-07-26T00:00:00",
          "monthly_mean": 25.9983870967742,
          "precipitation": 0,
          "temp_max": 25.6,
          "temp_min": 12.8,
          "weather": "drizzle",
          "wind": 2.2
         },
         {
          "date": "2012-07-27T00:00:00",
          "monthly_mean": 25.9983870967742,
          "precipitation": 0,
          "temp_max": 18.9,
          "temp_min": 13.9,
          "weather": "drizzle",
          "wind": 2.8
         },
         {
          "date": "2012-07-28T00:00:00",
          "monthly_mean": 25.9983870967742,
          "precipitation": 0,
          "temp_max": 22.2,
          "temp_min": 13.3,
          "weather": "drizzle",
          "wind": 1.7
         },
         {
          "date": "2012-07-29T00:00:00",
          "monthly_mean": 25.9983870967742,
          "precipitation": 0,
          "temp_max": 22.8,
          "temp_min": 15,
          "weather": "sun",
          "wind": 2
         },
         {
          "date": "2012-07-30T00:00:00",
          "monthly_mean": 25.9983870967742,
          "precipitation": 0,
          "temp_max": 19.4,
          "temp_min": 13.3,
          "weather": "sun",
          "wind": 3
         },
         {
          "date": "2012-07-31T00:00:00",
          "monthly_mean": 25.9983870967742,
          "precipitation": 0,
          "temp_max": 22.8,
          "temp_min": 13.9,
          "weather": "sun",
          "wind": 2.8
         },
         {
          "date": "2012-08-01T00:00:00",
          "monthly_mean": 26.11209677419356,
          "precipitation": 0,
          "temp_max": 23.9,
          "temp_min": 13.3,
          "weather": "drizzle",
          "wind": 2.2
         },
         {
          "date": "2012-08-02T00:00:00",
          "monthly_mean": 26.11209677419356,
          "precipitation": 0,
          "temp_max": 23.3,
          "temp_min": 12.2,
          "weather": "sun",
          "wind": 2.5
         },
         {
          "date": "2012-08-03T00:00:00",
          "monthly_mean": 26.11209677419356,
          "precipitation": 0,
          "temp_max": 27.2,
          "temp_min": 12.8,
          "weather": "sun",
          "wind": 3.9
         },
         {
          "date": "2012-08-04T00:00:00",
          "monthly_mean": 26.11209677419356,
          "precipitation": 0,
          "temp_max": 33.9,
          "temp_min": 16.7,
          "weather": "sun",
          "wind": 3.7
         },
         {
          "date": "2012-08-05T00:00:00",
          "monthly_mean": 26.11209677419356,
          "precipitation": 0,
          "temp_max": 33.9,
          "temp_min": 17.8,
          "weather": "sun",
          "wind": 1.9
         },
         {
          "date": "2012-08-06T00:00:00",
          "monthly_mean": 26.11209677419356,
          "precipitation": 0,
          "temp_max": 28.3,
          "temp_min": 15.6,
          "weather": "rain",
          "wind": 2.5
         },
         {
          "date": "2012-08-07T00:00:00",
          "monthly_mean": 26.11209677419356,
          "precipitation": 0,
          "temp_max": 21.1,
          "temp_min": 15,
          "weather": "drizzle",
          "wind": 2.6
         },
         {
          "date": "2012-08-08T00:00:00",
          "monthly_mean": 26.11209677419356,
          "precipitation": 0,
          "temp_max": 22.2,
          "temp_min": 15,
          "weather": "sun",
          "wind": 3.1
         },
         {
          "date": "2012-08-09T00:00:00",
          "monthly_mean": 26.11209677419356,
          "precipitation": 0,
          "temp_max": 24.4,
          "temp_min": 14.4,
          "weather": "drizzle",
          "wind": 3.8
         },
         {
          "date": "2012-08-10T00:00:00",
          "monthly_mean": 26.11209677419356,
          "precipitation": 0,
          "temp_max": 25.6,
          "temp_min": 12.2,
          "weather": "sun",
          "wind": 2.3
         },
         {
          "date": "2012-08-11T00:00:00",
          "monthly_mean": 26.11209677419356,
          "precipitation": 0,
          "temp_max": 28.3,
          "temp_min": 13.3,
          "weather": "sun",
          "wind": 2.5
         },
         {
          "date": "2012-08-12T00:00:00",
          "monthly_mean": 26.11209677419356,
          "precipitation": 0,
          "temp_max": 30.6,
          "temp_min": 15,
          "weather": "sun",
          "wind": 3
         },
         {
          "date": "2012-08-13T00:00:00",
          "monthly_mean": 26.11209677419356,
          "precipitation": 0,
          "temp_max": 30.6,
          "temp_min": 15,
          "weather": "sun",
          "wind": 2.8
         },
         {
          "date": "2012-08-14T00:00:00",
          "monthly_mean": 26.11209677419356,
          "precipitation": 0,
          "temp_max": 28.9,
          "temp_min": 13.9,
          "weather": "sun",
          "wind": 2.8
         },
         {
          "date": "2012-08-15T00:00:00",
          "monthly_mean": 26.11209677419356,
          "precipitation": 0,
          "temp_max": 31.1,
          "temp_min": 16.7,
          "weather": "sun",
          "wind": 4.7
         },
         {
          "date": "2012-08-16T00:00:00",
          "monthly_mean": 26.11209677419356,
          "precipitation": 0,
          "temp_max": 34.4,
          "temp_min": 18.3,
          "weather": "sun",
          "wind": 2.8
         },
         {
          "date": "2012-08-17T00:00:00",
          "monthly_mean": 26.11209677419356,
          "precipitation": 0,
          "temp_max": 32.8,
          "temp_min": 16.1,
          "weather": "sun",
          "wind": 1.8
         },
         {
          "date": "2012-08-18T00:00:00",
          "monthly_mean": 26.11209677419356,
          "precipitation": 0,
          "temp_max": 21.7,
          "temp_min": 14.4,
          "weather": "drizzle",
          "wind": 3
         },
         {
          "date": "2012-08-19T00:00:00",
          "monthly_mean": 26.11209677419356,
          "precipitation": 0,
          "temp_max": 23.3,
          "temp_min": 15,
          "weather": "drizzle",
          "wind": 2.7
         },
         {
          "date": "2012-08-20T00:00:00",
          "monthly_mean": 26.11209677419356,
          "precipitation": 0,
          "temp_max": 25.6,
          "temp_min": 15,
          "weather": "sun",
          "wind": 1.9
         },
         {
          "date": "2012-08-21T00:00:00",
          "monthly_mean": 26.11209677419356,
          "precipitation": 0,
          "temp_max": 23.3,
          "temp_min": 13.3,
          "weather": "rain",
          "wind": 3
         },
         {
          "date": "2012-08-22T00:00:00",
          "monthly_mean": 26.11209677419356,
          "precipitation": 0,
          "temp_max": 22.2,
          "temp_min": 13.3,
          "weather": "sun",
          "wind": 2.3
         },
         {
          "date": "2012-08-23T00:00:00",
          "monthly_mean": 26.11209677419356,
          "precipitation": 0,
          "temp_max": 21.1,
          "temp_min": 13.9,
          "weather": "sun",
          "wind": 3.8
         },
         {
          "date": "2012-08-24T00:00:00",
          "monthly_mean": 26.11209677419356,
          "precipitation": 0,
          "temp_max": 22.2,
          "temp_min": 10,
          "weather": "sun",
          "wind": 3.3
         },
         {
          "date": "2012-08-25T00:00:00",
          "monthly_mean": 26.11209677419356,
          "precipitation": 0,
          "temp_max": 26.1,
          "temp_min": 11.7,
          "weather": "sun",
          "wind": 3.2
         },
         {
          "date": "2012-08-26T00:00:00",
          "monthly_mean": 26.11209677419356,
          "precipitation": 0,
          "temp_max": 21.1,
          "temp_min": 12.2,
          "weather": "sun",
          "wind": 3.4
         },
         {
          "date": "2012-08-27T00:00:00",
          "monthly_mean": 26.11209677419356,
          "precipitation": 0,
          "temp_max": 23.9,
          "temp_min": 13.3,
          "weather": "sun",
          "wind": 1.8
         },
         {
          "date": "2012-08-28T00:00:00",
          "monthly_mean": 26.11209677419356,
          "precipitation": 0,
          "temp_max": 22.8,
          "temp_min": 12.2,
          "weather": "sun",
          "wind": 3.2
         },
         {
          "date": "2012-08-29T00:00:00",
          "monthly_mean": 26.11209677419356,
          "precipitation": 0,
          "temp_max": 22.8,
          "temp_min": 13.3,
          "weather": "sun",
          "wind": 2.4
         },
         {
          "date": "2012-08-30T00:00:00",
          "monthly_mean": 26.11209677419356,
          "precipitation": 0,
          "temp_max": 22.8,
          "temp_min": 12.8,
          "weather": "sun",
          "wind": 1.9
         },
         {
          "date": "2012-08-31T00:00:00",
          "monthly_mean": 26.11209677419356,
          "precipitation": 0,
          "temp_max": 22.2,
          "temp_min": 10.6,
          "weather": "sun",
          "wind": 2.9
         },
         {
          "date": "2012-09-01T00:00:00",
          "monthly_mean": 21.924166666666675,
          "precipitation": 0,
          "temp_max": 21.7,
          "temp_min": 10.6,
          "weather": "sun",
          "wind": 2.1
         },
         {
          "date": "2012-09-02T00:00:00",
          "monthly_mean": 21.924166666666675,
          "precipitation": 0,
          "temp_max": 21.1,
          "temp_min": 10,
          "weather": "sun",
          "wind": 2
         },
         {
          "date": "2012-09-03T00:00:00",
          "monthly_mean": 21.924166666666675,
          "precipitation": 0,
          "temp_max": 22.8,
          "temp_min": 12.8,
          "weather": "sun",
          "wind": 3.3
         },
         {
          "date": "2012-09-04T00:00:00",
          "monthly_mean": 21.924166666666675,
          "precipitation": 0,
          "temp_max": 24.4,
          "temp_min": 11.1,
          "weather": "sun",
          "wind": 3.1
         },
         {
          "date": "2012-09-05T00:00:00",
          "monthly_mean": 21.924166666666675,
          "precipitation": 0,
          "temp_max": 26.1,
          "temp_min": 11.7,
          "weather": "sun",
          "wind": 2.6
         },
         {
          "date": "2012-09-06T00:00:00",
          "monthly_mean": 21.924166666666675,
          "precipitation": 0,
          "temp_max": 28.3,
          "temp_min": 14.4,
          "weather": "sun",
          "wind": 4.2
         },
         {
          "date": "2012-09-07T00:00:00",
          "monthly_mean": 21.924166666666675,
          "precipitation": 0,
          "temp_max": 32.2,
          "temp_min": 13.3,
          "weather": "sun",
          "wind": 3.1
         },
         {
          "date": "2012-09-08T00:00:00",
          "monthly_mean": 21.924166666666675,
          "precipitation": 0,
          "temp_max": 25,
          "temp_min": 13.3,
          "weather": "sun",
          "wind": 3
         },
         {
          "date": "2012-09-09T00:00:00",
          "monthly_mean": 21.924166666666675,
          "precipitation": 0.3,
          "temp_max": 18.9,
          "temp_min": 13.9,
          "weather": "rain",
          "wind": 5
         },
         {
          "date": "2012-09-10T00:00:00",
          "monthly_mean": 21.924166666666675,
          "precipitation": 0.3,
          "temp_max": 20,
          "temp_min": 11.7,
          "weather": "rain",
          "wind": 3.9
         },
         {
          "date": "2012-09-11T00:00:00",
          "monthly_mean": 21.924166666666675,
          "precipitation": 0,
          "temp_max": 20,
          "temp_min": 8.9,
          "weather": "sun",
          "wind": 4.2
         },
         {
          "date": "2012-09-12T00:00:00",
          "monthly_mean": 21.924166666666675,
          "precipitation": 0,
          "temp_max": 22.2,
          "temp_min": 10,
          "weather": "sun",
          "wind": 5.6
         },
         {
          "date": "2012-09-13T00:00:00",
          "monthly_mean": 21.924166666666675,
          "precipitation": 0,
          "temp_max": 27.8,
          "temp_min": 11.7,
          "weather": "sun",
          "wind": 3.6
         },
         {
          "date": "2012-09-14T00:00:00",
          "monthly_mean": 21.924166666666675,
          "precipitation": 0,
          "temp_max": 26.1,
          "temp_min": 11.1,
          "weather": "sun",
          "wind": 1.5
         },
         {
          "date": "2012-09-15T00:00:00",
          "monthly_mean": 21.924166666666675,
          "precipitation": 0,
          "temp_max": 22.2,
          "temp_min": 11.1,
          "weather": "sun",
          "wind": 1.9
         },
         {
          "date": "2012-09-16T00:00:00",
          "monthly_mean": 21.924166666666675,
          "precipitation": 0,
          "temp_max": 24.4,
          "temp_min": 9.4,
          "weather": "sun",
          "wind": 2.3
         },
         {
          "date": "2012-09-17T00:00:00",
          "monthly_mean": 21.924166666666675,
          "precipitation": 0,
          "temp_max": 27.8,
          "temp_min": 11.7,
          "weather": "fog",
          "wind": 2.2
         },
         {
          "date": "2012-09-18T00:00:00",
          "monthly_mean": 21.924166666666675,
          "precipitation": 0,
          "temp_max": 27.8,
          "temp_min": 11.7,
          "weather": "sun",
          "wind": 1.4
         },
         {
          "date": "2012-09-19T00:00:00",
          "monthly_mean": 21.924166666666675,
          "precipitation": 0,
          "temp_max": 23.9,
          "temp_min": 11.7,
          "weather": "drizzle",
          "wind": 1.9
         },
         {
          "date": "2012-09-20T00:00:00",
          "monthly_mean": 21.924166666666675,
          "precipitation": 0,
          "temp_max": 19.4,
          "temp_min": 10,
          "weather": "drizzle",
          "wind": 2.5
         },
         {
          "date": "2012-09-21T00:00:00",
          "monthly_mean": 21.924166666666675,
          "precipitation": 0,
          "temp_max": 16.1,
          "temp_min": 12.8,
          "weather": "drizzle",
          "wind": 2.1
         },
         {
          "date": "2012-09-22T00:00:00",
          "monthly_mean": 21.924166666666675,
          "precipitation": 0.3,
          "temp_max": 19.4,
          "temp_min": 11.7,
          "weather": "rain",
          "wind": 1.1
         },
         {
          "date": "2012-09-23T00:00:00",
          "monthly_mean": 21.924166666666675,
          "precipitation": 0,
          "temp_max": 19.4,
          "temp_min": 10,
          "weather": "fog",
          "wind": 1.4
         },
         {
          "date": "2012-09-24T00:00:00",
          "monthly_mean": 21.924166666666675,
          "precipitation": 0,
          "temp_max": 21.1,
          "temp_min": 10,
          "weather": "fog",
          "wind": 1.8
         },
         {
          "date": "2012-09-25T00:00:00",
          "monthly_mean": 21.924166666666675,
          "precipitation": 0,
          "temp_max": 19.4,
          "temp_min": 11.1,
          "weather": "sun",
          "wind": 1.7
         },
         {
          "date": "2012-09-26T00:00:00",
          "monthly_mean": 21.924166666666675,
          "precipitation": 0,
          "temp_max": 19.4,
          "temp_min": 9.4,
          "weather": "drizzle",
          "wind": 1.7
         },
         {
          "date": "2012-09-27T00:00:00",
          "monthly_mean": 21.924166666666675,
          "precipitation": 0,
          "temp_max": 22.8,
          "temp_min": 10,
          "weather": "drizzle",
          "wind": 1.7
         },
         {
          "date": "2012-09-28T00:00:00",
          "monthly_mean": 21.924166666666675,
          "precipitation": 0,
          "temp_max": 25,
          "temp_min": 12.2,
          "weather": "rain",
          "wind": 1.1
         },
         {
          "date": "2012-09-29T00:00:00",
          "monthly_mean": 21.924166666666675,
          "precipitation": 0,
          "temp_max": 20.6,
          "temp_min": 12.2,
          "weather": "sun",
          "wind": 4.3
         },
         {
          "date": "2012-09-30T00:00:00",
          "monthly_mean": 21.924166666666675,
          "precipitation": 0,
          "temp_max": 21.1,
          "temp_min": 7.8,
          "weather": "sun",
          "wind": 3.1
         },
         {
          "date": "2012-10-01T00:00:00",
          "monthly_mean": 16.38951612903225,
          "precipitation": 0,
          "temp_max": 23.3,
          "temp_min": 8.9,
          "weather": "sun",
          "wind": 3
         },
         {
          "date": "2012-10-02T00:00:00",
          "monthly_mean": 16.38951612903225,
          "precipitation": 0,
          "temp_max": 17.8,
          "temp_min": 10,
          "weather": "sun",
          "wind": 4.1
         },
         {
          "date": "2012-10-03T00:00:00",
          "monthly_mean": 16.38951612903225,
          "precipitation": 0,
          "temp_max": 18.9,
          "temp_min": 7.8,
          "weather": "sun",
          "wind": 7.3
         },
         {
          "date": "2012-10-04T00:00:00",
          "monthly_mean": 16.38951612903225,
          "precipitation": 0,
          "temp_max": 18.9,
          "temp_min": 8.3,
          "weather": "sun",
          "wind": 6.5
         },
         {
          "date": "2012-10-05T00:00:00",
          "monthly_mean": 16.38951612903225,
          "precipitation": 0,
          "temp_max": 21.7,
          "temp_min": 8.9,
          "weather": "sun",
          "wind": 5.7
         },
         {
          "date": "2012-10-06T00:00:00",
          "monthly_mean": 16.38951612903225,
          "precipitation": 0,
          "temp_max": 23.9,
          "temp_min": 7.8,
          "weather": "sun",
          "wind": 5.1
         },
         {
          "date": "2012-10-07T00:00:00",
          "monthly_mean": 16.38951612903225,
          "precipitation": 0,
          "temp_max": 23.9,
          "temp_min": 7.8,
          "weather": "sun",
          "wind": 1.3
         },
         {
          "date": "2012-10-08T00:00:00",
          "monthly_mean": 16.38951612903225,
          "precipitation": 0,
          "temp_max": 21.1,
          "temp_min": 7.8,
          "weather": "sun",
          "wind": 1.9
         },
         {
          "date": "2012-10-09T00:00:00",
          "monthly_mean": 16.38951612903225,
          "precipitation": 0,
          "temp_max": 16.1,
          "temp_min": 8.9,
          "weather": "drizzle",
          "wind": 1.6
         },
         {
          "date": "2012-10-10T00:00:00",
          "monthly_mean": 16.38951612903225,
          "precipitation": 0,
          "temp_max": 12.2,
          "temp_min": 8.3,
          "weather": "drizzle",
          "wind": 1.4
         },
         {
          "date": "2012-10-11T00:00:00",
          "monthly_mean": 16.38951612903225,
          "precipitation": 0,
          "temp_max": 13.9,
          "temp_min": 7.2,
          "weather": "drizzle",
          "wind": 1.3
         },
         {
          "date": "2012-10-12T00:00:00",
          "monthly_mean": 16.38951612903225,
          "precipitation": 2,
          "temp_max": 13.9,
          "temp_min": 8.9,
          "weather": "rain",
          "wind": 4.6
         },
         {
          "date": "2012-10-13T00:00:00",
          "monthly_mean": 16.38951612903225,
          "precipitation": 4.8,
          "temp_max": 15.6,
          "temp_min": 12.2,
          "weather": "rain",
          "wind": 3.9
         },
         {
          "date": "2012-10-14T00:00:00",
          "monthly_mean": 16.38951612903225,
          "precipitation": 16.5,
          "temp_max": 17.8,
          "temp_min": 13.3,
          "weather": "rain",
          "wind": 3.4
         },
         {
          "date": "2012-10-15T00:00:00",
          "monthly_mean": 16.38951612903225,
          "precipitation": 7.9,
          "temp_max": 17.2,
          "temp_min": 11.1,
          "weather": "rain",
          "wind": 4.6
         },
         {
          "date": "2012-10-16T00:00:00",
          "monthly_mean": 16.38951612903225,
          "precipitation": 0,
          "temp_max": 16.1,
          "temp_min": 8.3,
          "weather": "sun",
          "wind": 5.5
         },
         {
          "date": "2012-10-17T00:00:00",
          "monthly_mean": 16.38951612903225,
          "precipitation": 0,
          "temp_max": 14.4,
          "temp_min": 6.1,
          "weather": "sun",
          "wind": 1.6
         },
         {
          "date": "2012-10-18T00:00:00",
          "monthly_mean": 16.38951612903225,
          "precipitation": 20.8,
          "temp_max": 17.8,
          "temp_min": 6.7,
          "weather": "rain",
          "wind": 2
         },
         {
          "date": "2012-10-19T00:00:00",
          "monthly_mean": 16.38951612903225,
          "precipitation": 4.8,
          "temp_max": 15,
          "temp_min": 9.4,
          "weather": "rain",
          "wind": 5.3
         },
         {
          "date": "2012-10-20T00:00:00",
          "monthly_mean": 16.38951612903225,
          "precipitation": 0.5,
          "temp_max": 11.1,
          "temp_min": 6.1,
          "weather": "rain",
          "wind": 5.7
         },
         {
          "date": "2012-10-21T00:00:00",
          "monthly_mean": 16.38951612903225,
          "precipitation": 6.4,
          "temp_max": 11.7,
          "temp_min": 4.4,
          "weather": "rain",
          "wind": 2.7
         },
         {
          "date": "2012-10-22T00:00:00",
          "monthly_mean": 16.38951612903225,
          "precipitation": 8.9,
          "temp_max": 7.8,
          "temp_min": 3.3,
          "weather": "rain",
          "wind": 2.6
         },
         {
          "date": "2012-10-23T00:00:00",
          "monthly_mean": 16.38951612903225,
          "precipitation": 0,
          "temp_max": 11.1,
          "temp_min": 5.6,
          "weather": "rain",
          "wind": 3
         },
         {
          "date": "2012-10-24T00:00:00",
          "monthly_mean": 16.38951612903225,
          "precipitation": 7.1,
          "temp_max": 11.7,
          "temp_min": 6.1,
          "weather": "rain",
          "wind": 2.1
         },
         {
          "date": "2012-10-25T00:00:00",
          "monthly_mean": 16.38951612903225,
          "precipitation": 0,
          "temp_max": 11.7,
          "temp_min": 6.7,
          "weather": "sun",
          "wind": 1.5
         },
         {
          "date": "2012-10-26T00:00:00",
          "monthly_mean": 16.38951612903225,
          "precipitation": 1.5,
          "temp_max": 11.1,
          "temp_min": 7.2,
          "weather": "rain",
          "wind": 2.5
         },
         {
          "date": "2012-10-27T00:00:00",
          "monthly_mean": 16.38951612903225,
          "precipitation": 23.1,
          "temp_max": 14.4,
          "temp_min": 9.4,
          "weather": "rain",
          "wind": 5.1
         },
         {
          "date": "2012-10-28T00:00:00",
          "monthly_mean": 16.38951612903225,
          "precipitation": 6.1,
          "temp_max": 14.4,
          "temp_min": 10,
          "weather": "rain",
          "wind": 3.8
         },
         {
          "date": "2012-10-29T00:00:00",
          "monthly_mean": 16.38951612903225,
          "precipitation": 10.9,
          "temp_max": 15.6,
          "temp_min": 10,
          "weather": "rain",
          "wind": 4.9
         },
         {
          "date": "2012-10-30T00:00:00",
          "monthly_mean": 16.38951612903225,
          "precipitation": 34.5,
          "temp_max": 15,
          "temp_min": 12.2,
          "weather": "rain",
          "wind": 2.8
         },
         {
          "date": "2012-10-31T00:00:00",
          "monthly_mean": 16.38951612903225,
          "precipitation": 14.5,
          "temp_max": 15.6,
          "temp_min": 11.1,
          "weather": "rain",
          "wind": 2.7
         },
         {
          "date": "2012-11-01T00:00:00",
          "monthly_mean": 11.023333333333337,
          "precipitation": 9.7,
          "temp_max": 15,
          "temp_min": 10.6,
          "weather": "rain",
          "wind": 3
         },
         {
          "date": "2012-11-02T00:00:00",
          "monthly_mean": 11.023333333333337,
          "precipitation": 5.6,
          "temp_max": 15,
          "temp_min": 10.6,
          "weather": "rain",
          "wind": 1
         },
         {
          "date": "2012-11-03T00:00:00",
          "monthly_mean": 11.023333333333337,
          "precipitation": 0.5,
          "temp_max": 15.6,
          "temp_min": 11.1,
          "weather": "rain",
          "wind": 3.6
         },
         {
          "date": "2012-11-04T00:00:00",
          "monthly_mean": 11.023333333333337,
          "precipitation": 8.1,
          "temp_max": 17.8,
          "temp_min": 12.8,
          "weather": "rain",
          "wind": 3.8
         },
         {
          "date": "2012-11-05T00:00:00",
          "monthly_mean": 11.023333333333337,
          "precipitation": 0.8,
          "temp_max": 15,
          "temp_min": 7.8,
          "weather": "rain",
          "wind": 4
         },
         {
          "date": "2012-11-06T00:00:00",
          "monthly_mean": 11.023333333333337,
          "precipitation": 0.3,
          "temp_max": 12.8,
          "temp_min": 6.7,
          "weather": "rain",
          "wind": 3.5
         },
         {
          "date": "2012-11-07T00:00:00",
          "monthly_mean": 11.023333333333337,
          "precipitation": 0,
          "temp_max": 12.2,
          "temp_min": 3.9,
          "weather": "rain",
          "wind": 3.4
         },
         {
          "date": "2012-11-08T00:00:00",
          "monthly_mean": 11.023333333333337,
          "precipitation": 0,
          "temp_max": 10,
          "temp_min": 1.1,
          "weather": "rain",
          "wind": 3.4
         },
         {
          "date": "2012-11-09T00:00:00",
          "monthly_mean": 11.023333333333337,
          "precipitation": 0,
          "temp_max": 8.9,
          "temp_min": 1.1,
          "weather": "rain",
          "wind": 2
         },
         {
          "date": "2012-11-10T00:00:00",
          "monthly_mean": 11.023333333333337,
          "precipitation": 0,
          "temp_max": 7.8,
          "temp_min": -0.6,
          "weather": "sun",
          "wind": 2.2
         },
         {
          "date": "2012-11-11T00:00:00",
          "monthly_mean": 11.023333333333337,
          "precipitation": 15.2,
          "temp_max": 8.9,
          "temp_min": 1.1,
          "weather": "rain",
          "wind": 3
         },
         {
          "date": "2012-11-12T00:00:00",
          "monthly_mean": 11.023333333333337,
          "precipitation": 3.6,
          "temp_max": 12.8,
          "temp_min": 6.1,
          "weather": "rain",
          "wind": 3
         },
         {
          "date": "2012-11-13T00:00:00",
          "monthly_mean": 11.023333333333337,
          "precipitation": 5.3,
          "temp_max": 11.1,
          "temp_min": 7.8,
          "weather": "rain",
          "wind": 2.5
         },
         {
          "date": "2012-11-14T00:00:00",
          "monthly_mean": 11.023333333333337,
          "precipitation": 0.8,
          "temp_max": 11.1,
          "temp_min": 5,
          "weather": "rain",
          "wind": 2.6
         },
         {
          "date": "2012-11-15T00:00:00",
          "monthly_mean": 11.023333333333337,
          "precipitation": 0,
          "temp_max": 9.4,
          "temp_min": 2.8,
          "weather": "drizzle",
          "wind": 2.4
         },
         {
          "date": "2012-11-16T00:00:00",
          "monthly_mean": 11.023333333333337,
          "precipitation": 5.6,
          "temp_max": 9.4,
          "temp_min": 2.2,
          "weather": "rain",
          "wind": 1.6
         },
         {
          "date": "2012-11-17T00:00:00",
          "monthly_mean": 11.023333333333337,
          "precipitation": 6.1,
          "temp_max": 12.2,
          "temp_min": 6.1,
          "weather": "rain",
          "wind": 5.3
         },
         {
          "date": "2012-11-18T00:00:00",
          "monthly_mean": 11.023333333333337,
          "precipitation": 7.9,
          "temp_max": 10,
          "temp_min": 6.1,
          "weather": "rain",
          "wind": 4.9
         },
         {
          "date": "2012-11-19T00:00:00",
          "monthly_mean": 11.023333333333337,
          "precipitation": 54.1,
          "temp_max": 13.3,
          "temp_min": 8.3,
          "weather": "rain",
          "wind": 6
         },
         {
          "date": "2012-11-20T00:00:00",
          "monthly_mean": 11.023333333333337,
          "precipitation": 3.8,
          "temp_max": 11.1,
          "temp_min": 7.2,
          "weather": "rain",
          "wind": 4.2
         },
         {
          "date": "2012-11-21T00:00:00",
          "monthly_mean": 11.023333333333337,
          "precipitation": 11.2,
          "temp_max": 8.3,
          "temp_min": 3.9,
          "weather": "rain",
          "wind": 5.5
         },
         {
          "date": "2012-11-22T00:00:00",
          "monthly_mean": 11.023333333333337,
          "precipitation": 0,
          "temp_max": 8.9,
          "temp_min": 2.8,
          "weather": "rain",
          "wind": 1.5
         },
         {
          "date": "2012-11-23T00:00:00",
          "monthly_mean": 11.023333333333337,
          "precipitation": 32,
          "temp_max": 9.4,
          "temp_min": 6.1,
          "weather": "rain",
          "wind": 2.4
         },
         {
          "date": "2012-11-24T00:00:00",
          "monthly_mean": 11.023333333333337,
          "precipitation": 0,
          "temp_max": 8.9,
          "temp_min": 3.9,
          "weather": "rain",
          "wind": 1.2
         },
         {
          "date": "2012-11-25T00:00:00",
          "monthly_mean": 11.023333333333337,
          "precipitation": 0,
          "temp_max": 8.3,
          "temp_min": 1.1,
          "weather": "drizzle",
          "wind": 3.6
         },
         {
          "date": "2012-11-26T00:00:00",
          "monthly_mean": 11.023333333333337,
          "precipitation": 0,
          "temp_max": 9.4,
          "temp_min": 1.7,
          "weather": "fog",
          "wind": 3.8
         },
         {
          "date": "2012-11-27T00:00:00",
          "monthly_mean": 11.023333333333337,
          "precipitation": 0,
          "temp_max": 10,
          "temp_min": 1.7,
          "weather": "sun",
          "wind": 1.5
         },
         {
          "date": "2012-11-28T00:00:00",
          "monthly_mean": 11.023333333333337,
          "precipitation": 2.8,
          "temp_max": 9.4,
          "temp_min": 2.2,
          "weather": "rain",
          "wind": 2.9
         },
         {
          "date": "2012-11-29T00:00:00",
          "monthly_mean": 11.023333333333337,
          "precipitation": 1.5,
          "temp_max": 12.8,
          "temp_min": 7.8,
          "weather": "rain",
          "wind": 4.2
         },
         {
          "date": "2012-11-30T00:00:00",
          "monthly_mean": 11.023333333333337,
          "precipitation": 35.6,
          "temp_max": 15,
          "temp_min": 7.8,
          "weather": "rain",
          "wind": 4.6
         },
         {
          "date": "2012-12-01T00:00:00",
          "monthly_mean": 8.194354838709678,
          "precipitation": 4.1,
          "temp_max": 13.3,
          "temp_min": 8.3,
          "weather": "rain",
          "wind": 5.5
         },
         {
          "date": "2012-12-02T00:00:00",
          "monthly_mean": 8.194354838709678,
          "precipitation": 19.6,
          "temp_max": 8.3,
          "temp_min": 7.2,
          "weather": "rain",
          "wind": 6.2
         },
         {
          "date": "2012-12-03T00:00:00",
          "monthly_mean": 8.194354838709678,
          "precipitation": 13,
          "temp_max": 9.4,
          "temp_min": 7.2,
          "weather": "rain",
          "wind": 4.4
         },
         {
          "date": "2012-12-04T00:00:00",
          "monthly_mean": 8.194354838709678,
          "precipitation": 14.2,
          "temp_max": 11.7,
          "temp_min": 7.2,
          "weather": "rain",
          "wind": 6.2
         },
         {
          "date": "2012-12-05T00:00:00",
          "monthly_mean": 8.194354838709678,
          "precipitation": 1.5,
          "temp_max": 8.9,
          "temp_min": 4.4,
          "weather": "rain",
          "wind": 5
         },
         {
          "date": "2012-12-06T00:00:00",
          "monthly_mean": 8.194354838709678,
          "precipitation": 1.5,
          "temp_max": 7.2,
          "temp_min": 6.1,
          "weather": "rain",
          "wind": 5.1
         },
         {
          "date": "2012-12-07T00:00:00",
          "monthly_mean": 8.194354838709678,
          "precipitation": 1,
          "temp_max": 7.8,
          "temp_min": 3.3,
          "weather": "rain",
          "wind": 4.6
         },
         {
          "date": "2012-12-08T00:00:00",
          "monthly_mean": 8.194354838709678,
          "precipitation": 0,
          "temp_max": 6.7,
          "temp_min": 3.3,
          "weather": "sun",
          "wind": 2
         },
         {
          "date": "2012-12-09T00:00:00",
          "monthly_mean": 8.194354838709678,
          "precipitation": 1.5,
          "temp_max": 6.7,
          "temp_min": 2.8,
          "weather": "rain",
          "wind": 2.1
         },
         {
          "date": "2012-12-10T00:00:00",
          "monthly_mean": 8.194354838709678,
          "precipitation": 0.5,
          "temp_max": 7.2,
          "temp_min": 5.6,
          "weather": "rain",
          "wind": 1.8
         },
         {
          "date": "2012-12-11T00:00:00",
          "monthly_mean": 8.194354838709678,
          "precipitation": 3,
          "temp_max": 7.8,
          "temp_min": 5.6,
          "weather": "rain",
          "wind": 4.5
         },
         {
          "date": "2012-12-12T00:00:00",
          "monthly_mean": 8.194354838709678,
          "precipitation": 8.1,
          "temp_max": 6.7,
          "temp_min": 4.4,
          "weather": "rain",
          "wind": 2
         },
         {
          "date": "2012-12-13T00:00:00",
          "monthly_mean": 8.194354838709678,
          "precipitation": 2.3,
          "temp_max": 7.2,
          "temp_min": 3.3,
          "weather": "rain",
          "wind": 2.8
         },
         {
          "date": "2012-12-14T00:00:00",
          "monthly_mean": 8.194354838709678,
          "precipitation": 7.9,
          "temp_max": 6.1,
          "temp_min": 1.1,
          "weather": "rain",
          "wind": 1.7
         },
         {
          "date": "2012-12-15T00:00:00",
          "monthly_mean": 8.194354838709678,
          "precipitation": 5.3,
          "temp_max": 4.4,
          "temp_min": 0.6,
          "weather": "snow",
          "wind": 5.1
         },
         {
          "date": "2012-12-16T00:00:00",
          "monthly_mean": 8.194354838709678,
          "precipitation": 22.6,
          "temp_max": 6.7,
          "temp_min": 3.3,
          "weather": "snow",
          "wind": 5.5
         },
         {
          "date": "2012-12-17T00:00:00",
          "monthly_mean": 8.194354838709678,
          "precipitation": 2,
          "temp_max": 8.3,
          "temp_min": 1.7,
          "weather": "rain",
          "wind": 9.5
         },
         {
          "date": "2012-12-18T00:00:00",
          "monthly_mean": 8.194354838709678,
          "precipitation": 3.3,
          "temp_max": 3.9,
          "temp_min": 0.6,
          "weather": "snow",
          "wind": 5.3
         },
         {
          "date": "2012-12-19T00:00:00",
          "monthly_mean": 8.194354838709678,
          "precipitation": 13.7,
          "temp_max": 8.3,
          "temp_min": 1.7,
          "weather": "snow",
          "wind": 5.8
         },
         {
          "date": "2012-12-20T00:00:00",
          "monthly_mean": 8.194354838709678,
          "precipitation": 13.2,
          "temp_max": 7.2,
          "temp_min": 0.6,
          "weather": "rain",
          "wind": 3.7
         },
         {
          "date": "2012-12-21T00:00:00",
          "monthly_mean": 8.194354838709678,
          "precipitation": 1.8,
          "temp_max": 8.3,
          "temp_min": -1.7,
          "weather": "rain",
          "wind": 1.7
         },
         {
          "date": "2012-12-22T00:00:00",
          "monthly_mean": 8.194354838709678,
          "precipitation": 3.3,
          "temp_max": 8.3,
          "temp_min": 3.9,
          "weather": "rain",
          "wind": 3.5
         },
         {
          "date": "2012-12-23T00:00:00",
          "monthly_mean": 8.194354838709678,
          "precipitation": 6.6,
          "temp_max": 7.2,
          "temp_min": 3.3,
          "weather": "rain",
          "wind": 2.5
         },
         {
          "date": "2012-12-24T00:00:00",
          "monthly_mean": 8.194354838709678,
          "precipitation": 0.3,
          "temp_max": 5.6,
          "temp_min": 2.8,
          "weather": "rain",
          "wind": 2.8
         },
         {
          "date": "2012-12-25T00:00:00",
          "monthly_mean": 8.194354838709678,
          "precipitation": 13.5,
          "temp_max": 5.6,
          "temp_min": 2.8,
          "weather": "snow",
          "wind": 4.2
         },
         {
          "date": "2012-12-26T00:00:00",
          "monthly_mean": 8.194354838709678,
          "precipitation": 4.6,
          "temp_max": 6.7,
          "temp_min": 3.3,
          "weather": "rain",
          "wind": 4.9
         },
         {
          "date": "2012-12-27T00:00:00",
          "monthly_mean": 8.194354838709678,
          "precipitation": 4.1,
          "temp_max": 7.8,
          "temp_min": 3.3,
          "weather": "rain",
          "wind": 3.2
         },
         {
          "date": "2012-12-28T00:00:00",
          "monthly_mean": 8.194354838709678,
          "precipitation": 0,
          "temp_max": 8.3,
          "temp_min": 3.9,
          "weather": "rain",
          "wind": 1.7
         },
         {
          "date": "2012-12-29T00:00:00",
          "monthly_mean": 8.194354838709678,
          "precipitation": 1.5,
          "temp_max": 5,
          "temp_min": 3.3,
          "weather": "rain",
          "wind": 1.7
         },
         {
          "date": "2012-12-30T00:00:00",
          "monthly_mean": 8.194354838709678,
          "precipitation": 0,
          "temp_max": 4.4,
          "temp_min": 0,
          "weather": "drizzle",
          "wind": 1.8
         },
         {
          "date": "2012-12-31T00:00:00",
          "monthly_mean": 8.194354838709678,
          "precipitation": 0,
          "temp_max": 3.3,
          "temp_min": -1.1,
          "weather": "drizzle",
          "wind": 2
         },
         {
          "date": "2013-01-01T00:00:00",
          "monthly_mean": 8.22903225806452,
          "precipitation": 0,
          "temp_max": 5,
          "temp_min": -2.8,
          "weather": "sun",
          "wind": 2.7
         },
         {
          "date": "2013-01-02T00:00:00",
          "monthly_mean": 8.22903225806452,
          "precipitation": 0,
          "temp_max": 6.1,
          "temp_min": -1.1,
          "weather": "sun",
          "wind": 3.2
         },
         {
          "date": "2013-01-03T00:00:00",
          "monthly_mean": 8.22903225806452,
          "precipitation": 4.1,
          "temp_max": 6.7,
          "temp_min": -1.7,
          "weather": "rain",
          "wind": 3
         },
         {
          "date": "2013-01-04T00:00:00",
          "monthly_mean": 8.22903225806452,
          "precipitation": 2.5,
          "temp_max": 10,
          "temp_min": 2.2,
          "weather": "rain",
          "wind": 2.8
         },
         {
          "date": "2013-01-05T00:00:00",
          "monthly_mean": 8.22903225806452,
          "precipitation": 3,
          "temp_max": 6.7,
          "temp_min": 4.4,
          "weather": "rain",
          "wind": 3.1
         },
         {
          "date": "2013-01-06T00:00:00",
          "monthly_mean": 8.22903225806452,
          "precipitation": 2,
          "temp_max": 7.2,
          "temp_min": 2.8,
          "weather": "rain",
          "wind": 3
         },
         {
          "date": "2013-01-07T00:00:00",
          "monthly_mean": 8.22903225806452,
          "precipitation": 2.3,
          "temp_max": 10,
          "temp_min": 4.4,
          "weather": "rain",
          "wind": 7.3
         },
         {
          "date": "2013-01-08T00:00:00",
          "monthly_mean": 8.22903225806452,
          "precipitation": 16.3,
          "temp_max": 11.7,
          "temp_min": 5.6,
          "weather": "rain",
          "wind": 6.3
         },
         {
          "date": "2013-01-09T00:00:00",
          "monthly_mean": 8.22903225806452,
          "precipitation": 38.4,
          "temp_max": 10,
          "temp_min": 1.7,
          "weather": "rain",
          "wind": 5.1
         },
         {
          "date": "2013-01-10T00:00:00",
          "monthly_mean": 8.22903225806452,
          "precipitation": 0.3,
          "temp_max": 3.3,
          "temp_min": -0.6,
          "weather": "snow",
          "wind": 2.1
         },
         {
          "date": "2013-01-11T00:00:00",
          "monthly_mean": 8.22903225806452,
          "precipitation": 0,
          "temp_max": 2.8,
          "temp_min": -2.8,
          "weather": "drizzle",
          "wind": 1.9
         },
         {
          "date": "2013-01-12T00:00:00",
          "monthly_mean": 8.22903225806452,
          "precipitation": 0,
          "temp_max": 2.8,
          "temp_min": -3.9,
          "weather": "sun",
          "wind": 2
         },
         {
          "date": "2013-01-13T00:00:00",
          "monthly_mean": 8.22903225806452,
          "precipitation": 0,
          "temp_max": 2.2,
          "temp_min": -4.4,
          "weather": "sun",
          "wind": 1.5
         },
         {
          "date": "2013-01-14T00:00:00",
          "monthly_mean": 8.22903225806452,
          "precipitation": 0,
          "temp_max": 3.3,
          "temp_min": -2.2,
          "weather": "sun",
          "wind": 1.3
         },
         {
          "date": "2013-01-15T00:00:00",
          "monthly_mean": 8.22903225806452,
          "precipitation": 0,
          "temp_max": 6.7,
          "temp_min": -0.6,
          "weather": "sun",
          "wind": 2.3
         },
         {
          "date": "2013-01-16T00:00:00",
          "monthly_mean": 8.22903225806452,
          "precipitation": 0,
          "temp_max": 6.1,
          "temp_min": -3.9,
          "weather": "drizzle",
          "wind": 1.8
         },
         {
          "date": "2013-01-17T00:00:00",
          "monthly_mean": 8.22903225806452,
          "precipitation": 0,
          "temp_max": 3.9,
          "temp_min": -2.8,
          "weather": "drizzle",
          "wind": 1
         },
         {
          "date": "2013-01-18T00:00:00",
          "monthly_mean": 8.22903225806452,
          "precipitation": 0,
          "temp_max": 3.3,
          "temp_min": -1.1,
          "weather": "drizzle",
          "wind": 1.3
         },
         {
          "date": "2013-01-19T00:00:00",
          "monthly_mean": 8.22903225806452,
          "precipitation": 0,
          "temp_max": 1.1,
          "temp_min": -0.6,
          "weather": "drizzle",
          "wind": 1.9
         },
         {
          "date": "2013-01-20T00:00:00",
          "monthly_mean": 8.22903225806452,
          "precipitation": 0,
          "temp_max": 3.3,
          "temp_min": -0.6,
          "weather": "drizzle",
          "wind": 2.1
         },
         {
          "date": "2013-01-21T00:00:00",
          "monthly_mean": 8.22903225806452,
          "precipitation": 0,
          "temp_max": 2.2,
          "temp_min": -1.7,
          "weather": "drizzle",
          "wind": 1.1
         },
         {
          "date": "2013-01-22T00:00:00",
          "monthly_mean": 8.22903225806452,
          "precipitation": 0,
          "temp_max": 3.3,
          "temp_min": -1.7,
          "weather": "drizzle",
          "wind": 0.6
         },
         {
          "date": "2013-01-23T00:00:00",
          "monthly_mean": 8.22903225806452,
          "precipitation": 5.1,
          "temp_max": 7.2,
          "temp_min": 2.2,
          "weather": "rain",
          "wind": 3.1
         },
         {
          "date": "2013-01-24T00:00:00",
          "monthly_mean": 8.22903225806452,
          "precipitation": 5.8,
          "temp_max": 7.2,
          "temp_min": 1.1,
          "weather": "rain",
          "wind": 2.6
         },
         {
          "date": "2013-01-25T00:00:00",
          "monthly_mean": 8.22903225806452,
          "precipitation": 3,
          "temp_max": 10.6,
          "temp_min": 2.8,
          "weather": "rain",
          "wind": 2.1
         },
         {
          "date": "2013-01-26T00:00:00",
          "monthly_mean": 8.22903225806452,
          "precipitation": 2.3,
          "temp_max": 8.3,
          "temp_min": 3.9,
          "weather": "rain",
          "wind": 4.5
         },
         {
          "date": "2013-01-27T00:00:00",
          "monthly_mean": 8.22903225806452,
          "precipitation": 1.8,
          "temp_max": 5.6,
          "temp_min": 3.9,
          "weather": "rain",
          "wind": 4.5
         },
         {
          "date": "2013-01-28T00:00:00",
          "monthly_mean": 8.22903225806452,
          "precipitation": 7.9,
          "temp_max": 6.1,
          "temp_min": 3.3,
          "weather": "rain",
          "wind": 3.2
         },
         {
          "date": "2013-01-29T00:00:00",
          "monthly_mean": 8.22903225806452,
          "precipitation": 4.3,
          "temp_max": 8.3,
          "temp_min": 5,
          "weather": "rain",
          "wind": 3.9
         },
         {
          "date": "2013-01-30T00:00:00",
          "monthly_mean": 8.22903225806452,
          "precipitation": 3.6,
          "temp_max": 8.9,
          "temp_min": 6.7,
          "weather": "rain",
          "wind": 3.9
         },
         {
          "date": "2013-01-31T00:00:00",
          "monthly_mean": 8.22903225806452,
          "precipitation": 3,
          "temp_max": 9.4,
          "temp_min": 7.2,
          "weather": "rain",
          "wind": 4
         },
         {
          "date": "2013-02-01T00:00:00",
          "monthly_mean": 9.860176991150443,
          "precipitation": 0.3,
          "temp_max": 11.7,
          "temp_min": 5,
          "weather": "rain",
          "wind": 2.9
         },
         {
          "date": "2013-02-02T00:00:00",
          "monthly_mean": 9.860176991150443,
          "precipitation": 0,
          "temp_max": 6.1,
          "temp_min": 2.8,
          "weather": "drizzle",
          "wind": 2
         },
         {
          "date": "2013-02-03T00:00:00",
          "monthly_mean": 9.860176991150443,
          "precipitation": 2.3,
          "temp_max": 8.9,
          "temp_min": 2.8,
          "weather": "rain",
          "wind": 2.9
         },
         {
          "date": "2013-02-04T00:00:00",
          "monthly_mean": 9.860176991150443,
          "precipitation": 0,
          "temp_max": 10.6,
          "temp_min": 6.7,
          "weather": "rain",
          "wind": 2.6
         },
         {
          "date": "2013-02-05T00:00:00",
          "monthly_mean": 9.860176991150443,
          "precipitation": 3.3,
          "temp_max": 10,
          "temp_min": 6.7,
          "weather": "rain",
          "wind": 5.1
         },
         {
          "date": "2013-02-06T00:00:00",
          "monthly_mean": 9.860176991150443,
          "precipitation": 1,
          "temp_max": 10.6,
          "temp_min": 6.1,
          "weather": "rain",
          "wind": 4.5
         },
         {
          "date": "2013-02-07T00:00:00",
          "monthly_mean": 9.860176991150443,
          "precipitation": 1.3,
          "temp_max": 9.4,
          "temp_min": 3.3,
          "weather": "rain",
          "wind": 4.1
         },
         {
          "date": "2013-02-08T00:00:00",
          "monthly_mean": 9.860176991150443,
          "precipitation": 0,
          "temp_max": 7.8,
          "temp_min": 2.2,
          "weather": "sun",
          "wind": 1.3
         },
         {
          "date": "2013-02-09T00:00:00",
          "monthly_mean": 9.860176991150443,
          "precipitation": 0.3,
          "temp_max": 8.3,
          "temp_min": 4.4,
          "weather": "rain",
          "wind": 1.3
         },
         {
          "date": "2013-02-10T00:00:00",
          "monthly_mean": 9.860176991150443,
          "precipitation": 0,
          "temp_max": 8.9,
          "temp_min": 1.7,
          "weather": "drizzle",
          "wind": 2
         },
         {
          "date": "2013-02-11T00:00:00",
          "monthly_mean": 9.860176991150443,
          "precipitation": 0.3,
          "temp_max": 8.3,
          "temp_min": 4.4,
          "weather": "rain",
          "wind": 1.4
         },
         {
          "date": "2013-02-12T00:00:00",
          "monthly_mean": 9.860176991150443,
          "precipitation": 1,
          "temp_max": 11.1,
          "temp_min": 7.2,
          "weather": "rain",
          "wind": 5.6
         },
         {
          "date": "2013-02-13T00:00:00",
          "monthly_mean": 9.860176991150443,
          "precipitation": 2.3,
          "temp_max": 9.4,
          "temp_min": 7.2,
          "weather": "rain",
          "wind": 4.1
         },
         {
          "date": "2013-02-14T00:00:00",
          "monthly_mean": 9.860176991150443,
          "precipitation": 1,
          "temp_max": 9.4,
          "temp_min": 5.6,
          "weather": "rain",
          "wind": 2.2
         },
         {
          "date": "2013-02-15T00:00:00",
          "monthly_mean": 9.860176991150443,
          "precipitation": 0,
          "temp_max": 13.3,
          "temp_min": 5,
          "weather": "drizzle",
          "wind": 2.4
         },
         {
          "date": "2013-02-16T00:00:00",
          "monthly_mean": 9.860176991150443,
          "precipitation": 0,
          "temp_max": 11.1,
          "temp_min": 3.9,
          "weather": "rain",
          "wind": 5.6
         },
         {
          "date": "2013-02-17T00:00:00",
          "monthly_mean": 9.860176991150443,
          "precipitation": 0,
          "temp_max": 9.4,
          "temp_min": 4.4,
          "weather": "rain",
          "wind": 3.4
         },
         {
          "date": "2013-02-18T00:00:00",
          "monthly_mean": 9.860176991150443,
          "precipitation": 0,
          "temp_max": 7.8,
          "temp_min": 3.9,
          "weather": "rain",
          "wind": 1.9
         },
         {
          "date": "2013-02-19T00:00:00",
          "monthly_mean": 9.860176991150443,
          "precipitation": 0,
          "temp_max": 10.6,
          "temp_min": 1.7,
          "weather": "sun",
          "wind": 3.4
         },
         {
          "date": "2013-02-20T00:00:00",
          "monthly_mean": 9.860176991150443,
          "precipitation": 1.5,
          "temp_max": 7.8,
          "temp_min": 1.1,
          "weather": "rain",
          "wind": 2.1
         },
         {
          "date": "2013-02-21T00:00:00",
          "monthly_mean": 9.860176991150443,
          "precipitation": 0.5,
          "temp_max": 6.7,
          "temp_min": 3.9,
          "weather": "rain",
          "wind": 6.2
         },
         {
          "date": "2013-02-22T00:00:00",
          "monthly_mean": 9.860176991150443,
          "precipitation": 9.4,
          "temp_max": 7.8,
          "temp_min": 3.9,
          "weather": "rain",
          "wind": 8.1
         },
         {
          "date": "2013-02-23T00:00:00",
          "monthly_mean": 9.860176991150443,
          "precipitation": 0.3,
          "temp_max": 10,
          "temp_min": 3.9,
          "weather": "rain",
          "wind": 4.6
         },
         {
          "date": "2013-02-24T00:00:00",
          "monthly_mean": 9.860176991150443,
          "precipitation": 0,
          "temp_max": 8.9,
          "temp_min": 5,
          "weather": "rain",
          "wind": 5.5
         },
         {
          "date": "2013-02-25T00:00:00",
          "monthly_mean": 9.860176991150443,
          "precipitation": 2.3,
          "temp_max": 10.6,
          "temp_min": 3.3,
          "weather": "rain",
          "wind": 7.1
         },
         {
          "date": "2013-02-26T00:00:00",
          "monthly_mean": 9.860176991150443,
          "precipitation": 0.5,
          "temp_max": 8.9,
          "temp_min": 3.9,
          "weather": "rain",
          "wind": 3.8
         },
         {
          "date": "2013-02-27T00:00:00",
          "monthly_mean": 9.860176991150443,
          "precipitation": 4.6,
          "temp_max": 10,
          "temp_min": 4.4,
          "weather": "rain",
          "wind": 1.8
         },
         {
          "date": "2013-02-28T00:00:00",
          "monthly_mean": 9.860176991150443,
          "precipitation": 8.1,
          "temp_max": 11.7,
          "temp_min": 6.7,
          "weather": "rain",
          "wind": 3.8
         },
         {
          "date": "2013-03-01T00:00:00",
          "monthly_mean": 12.387096774193543,
          "precipitation": 4.1,
          "temp_max": 15,
          "temp_min": 11.1,
          "weather": "rain",
          "wind": 5.4
         },
         {
          "date": "2013-03-02T00:00:00",
          "monthly_mean": 12.387096774193543,
          "precipitation": 0.8,
          "temp_max": 13.9,
          "temp_min": 5,
          "weather": "rain",
          "wind": 4.5
         },
         {
          "date": "2013-03-03T00:00:00",
          "monthly_mean": 12.387096774193543,
          "precipitation": 0,
          "temp_max": 11.1,
          "temp_min": 2.2,
          "weather": "sun",
          "wind": 2.8
         },
         {
          "date": "2013-03-04T00:00:00",
          "monthly_mean": 12.387096774193543,
          "precipitation": 0,
          "temp_max": 13.3,
          "temp_min": 0,
          "weather": "sun",
          "wind": 3.9
         },
         {
          "date": "2013-03-05T00:00:00",
          "monthly_mean": 12.387096774193543,
          "precipitation": 0,
          "temp_max": 9.4,
          "temp_min": 6.1,
          "weather": "rain",
          "wind": 2.4
         },
         {
          "date": "2013-03-06T00:00:00",
          "monthly_mean": 12.387096774193543,
          "precipitation": 11.9,
          "temp_max": 7.2,
          "temp_min": 5,
          "weather": "rain",
          "wind": 4.1
         },
         {
          "date": "2013-03-07T00:00:00",
          "monthly_mean": 12.387096774193543,
          "precipitation": 7.4,
          "temp_max": 12.2,
          "temp_min": 5,
          "weather": "rain",
          "wind": 2.5
         },
         {
          "date": "2013-03-08T00:00:00",
          "monthly_mean": 12.387096774193543,
          "precipitation": 0,
          "temp_max": 11.7,
          "temp_min": 2.2,
          "weather": "drizzle",
          "wind": 2.6
         },
         {
          "date": "2013-03-09T00:00:00",
          "monthly_mean": 12.387096774193543,
          "precipitation": 0,
          "temp_max": 12.8,
          "temp_min": 1.1,
          "weather": "fog",
          "wind": 1.3
         },
         {
          "date": "2013-03-10T00:00:00",
          "monthly_mean": 12.387096774193543,
          "precipitation": 0.8,
          "temp_max": 7.8,
          "temp_min": 3.9,
          "weather": "rain",
          "wind": 1.6
         },
         {
          "date": "2013-03-11T00:00:00",
          "monthly_mean": 12.387096774193543,
          "precipitation": 1.3,
          "temp_max": 10.6,
          "temp_min": 6.1,
          "weather": "rain",
          "wind": 1.1
         },
         {
          "date": "2013-03-12T00:00:00",
          "monthly_mean": 12.387096774193543,
          "precipitation": 2,
          "temp_max": 12.8,
          "temp_min": 10,
          "weather": "rain",
          "wind": 5.7
         },
         {
          "date": "2013-03-13T00:00:00",
          "monthly_mean": 12.387096774193543,
          "precipitation": 2.3,
          "temp_max": 11.7,
          "temp_min": 9.4,
          "weather": "rain",
          "wind": 3.7
         },
         {
          "date": "2013-03-14T00:00:00",
          "monthly_mean": 12.387096774193543,
          "precipitation": 2.8,
          "temp_max": 11.7,
          "temp_min": 9.4,
          "weather": "rain",
          "wind": 3
         },
         {
          "date": "2013-03-15T00:00:00",
          "monthly_mean": 12.387096774193543,
          "precipitation": 0,
          "temp_max": 14.4,
          "temp_min": 8.9,
          "weather": "rain",
          "wind": 4.3
         },
         {
          "date": "2013-03-16T00:00:00",
          "monthly_mean": 12.387096774193543,
          "precipitation": 4.3,
          "temp_max": 10.6,
          "temp_min": 4.4,
          "weather": "rain",
          "wind": 6.4
         },
         {
          "date": "2013-03-17T00:00:00",
          "monthly_mean": 12.387096774193543,
          "precipitation": 0,
          "temp_max": 8.9,
          "temp_min": 3.9,
          "weather": "sun",
          "wind": 6.1
         },
         {
          "date": "2013-03-18T00:00:00",
          "monthly_mean": 12.387096774193543,
          "precipitation": 0,
          "temp_max": 11.7,
          "temp_min": 3.9,
          "weather": "rain",
          "wind": 5.9
         },
         {
          "date": "2013-03-19T00:00:00",
          "monthly_mean": 12.387096774193543,
          "precipitation": 11.7,
          "temp_max": 12.8,
          "temp_min": 1.7,
          "weather": "rain",
          "wind": 3.4
         },
         {
          "date": "2013-03-20T00:00:00",
          "monthly_mean": 12.387096774193543,
          "precipitation": 9.9,
          "temp_max": 11.1,
          "temp_min": 4.4,
          "weather": "rain",
          "wind": 7.6
         },
         {
          "date": "2013-03-21T00:00:00",
          "monthly_mean": 12.387096774193543,
          "precipitation": 8.1,
          "temp_max": 10,
          "temp_min": 2.2,
          "weather": "snow",
          "wind": 4.9
         },
         {
          "date": "2013-03-22T00:00:00",
          "monthly_mean": 12.387096774193543,
          "precipitation": 0,
          "temp_max": 9.4,
          "temp_min": 0.6,
          "weather": "sun",
          "wind": 2.2
         },
         {
          "date": "2013-03-23T00:00:00",
          "monthly_mean": 12.387096774193543,
          "precipitation": 0,
          "temp_max": 10,
          "temp_min": 1.1,
          "weather": "sun",
          "wind": 2.6
         },
         {
          "date": "2013-03-24T00:00:00",
          "monthly_mean": 12.387096774193543,
          "precipitation": 0,
          "temp_max": 12.2,
          "temp_min": 0.6,
          "weather": "sun",
          "wind": 2.1
         },
         {
          "date": "2013-03-25T00:00:00",
          "monthly_mean": 12.387096774193543,
          "precipitation": 0,
          "temp_max": 16.7,
          "temp_min": 4.4,
          "weather": "sun",
          "wind": 2.8
         },
         {
          "date": "2013-03-26T00:00:00",
          "monthly_mean": 12.387096774193543,
          "precipitation": 0,
          "temp_max": 16.7,
          "temp_min": 6.1,
          "weather": "sun",
          "wind": 1.7
         },
         {
          "date": "2013-03-27T00:00:00",
          "monthly_mean": 12.387096774193543,
          "precipitation": 0.3,
          "temp_max": 13.3,
          "temp_min": 7.2,
          "weather": "rain",
          "wind": 1.6
         },
         {
          "date": "2013-03-28T00:00:00",
          "monthly_mean": 12.387096774193543,
          "precipitation": 2,
          "temp_max": 16.1,
          "temp_min": 8.3,
          "weather": "rain",
          "wind": 1.3
         },
         {
          "date": "2013-03-29T00:00:00",
          "monthly_mean": 12.387096774193543,
          "precipitation": 0,
          "temp_max": 18.3,
          "temp_min": 7.8,
          "weather": "rain",
          "wind": 2.5
         },
         {
          "date": "2013-03-30T00:00:00",
          "monthly_mean": 12.387096774193543,
          "precipitation": 0,
          "temp_max": 20,
          "temp_min": 5.6,
          "weather": "drizzle",
          "wind": 4.4
         },
         {
          "date": "2013-03-31T00:00:00",
          "monthly_mean": 12.387096774193543,
          "precipitation": 0,
          "temp_max": 20.6,
          "temp_min": 6.7,
          "weather": "sun",
          "wind": 2.9
         },
         {
          "date": "2013-04-01T00:00:00",
          "monthly_mean": 15.02,
          "precipitation": 0,
          "temp_max": 17.2,
          "temp_min": 8.3,
          "weather": "sun",
          "wind": 3.6
         },
         {
          "date": "2013-04-02T00:00:00",
          "monthly_mean": 15.02,
          "precipitation": 0,
          "temp_max": 13.9,
          "temp_min": 8.9,
          "weather": "sun",
          "wind": 2.2
         },
         {
          "date": "2013-04-03T00:00:00",
          "monthly_mean": 15.02,
          "precipitation": 0,
          "temp_max": 16.7,
          "temp_min": 7.8,
          "weather": "sun",
          "wind": 1.6
         },
         {
          "date": "2013-04-04T00:00:00",
          "monthly_mean": 15.02,
          "precipitation": 8.4,
          "temp_max": 14.4,
          "temp_min": 10,
          "weather": "fog",
          "wind": 3
         },
         {
          "date": "2013-04-05T00:00:00",
          "monthly_mean": 15.02,
          "precipitation": 18.5,
          "temp_max": 13.9,
          "temp_min": 10,
          "weather": "fog",
          "wind": 5.6
         },
         {
          "date": "2013-04-06T00:00:00",
          "monthly_mean": 15.02,
          "precipitation": 12.7,
          "temp_max": 12.2,
          "temp_min": 7.2,
          "weather": "fog",
          "wind": 5
         },
         {
          "date": "2013-04-07T00:00:00",
          "monthly_mean": 15.02,
          "precipitation": 39.1,
          "temp_max": 8.3,
          "temp_min": 5,
          "weather": "fog",
          "wind": 3.9
         },
         {
          "date": "2013-04-08T00:00:00",
          "monthly_mean": 15.02,
          "precipitation": 0.8,
          "temp_max": 13.3,
          "temp_min": 6.1,
          "weather": "fog",
          "wind": 3.1
         },
         {
          "date": "2013-04-09T00:00:00",
          "monthly_mean": 15.02,
          "precipitation": 0,
          "temp_max": 12.2,
          "temp_min": 6.1,
          "weather": "sun",
          "wind": 2.4
         },
         {
          "date": "2013-04-10T00:00:00",
          "monthly_mean": 15.02,
          "precipitation": 9.4,
          "temp_max": 15,
          "temp_min": 8.9,
          "weather": "sun",
          "wind": 6.4
         },
         {
          "date": "2013-04-11T00:00:00",
          "monthly_mean": 15.02,
          "precipitation": 1.5,
          "temp_max": 12.2,
          "temp_min": 6.7,
          "weather": "fog",
          "wind": 3.8
         },
         {
          "date": "2013-04-12T00:00:00",
          "monthly_mean": 15.02,
          "precipitation": 9.7,
          "temp_max": 7.8,
          "temp_min": 4.4,
          "weather": "fog",
          "wind": 4.6
         },
         {
          "date": "2013-04-13T00:00:00",
          "monthly_mean": 15.02,
          "precipitation": 9.4,
          "temp_max": 10.6,
          "temp_min": 3.3,
          "weather": "fog",
          "wind": 5.7
         },
         {
          "date": "2013-04-14T00:00:00",
          "monthly_mean": 15.02,
          "precipitation": 5.8,
          "temp_max": 12.8,
          "temp_min": 4.4,
          "weather": "fog",
          "wind": 2.3
         },
         {
          "date": "2013-04-15T00:00:00",
          "monthly_mean": 15.02,
          "precipitation": 0,
          "temp_max": 13.9,
          "temp_min": 4.4,
          "weather": "fog",
          "wind": 2.4
         },
         {
          "date": "2013-04-16T00:00:00",
          "monthly_mean": 15.02,
          "precipitation": 0.3,
          "temp_max": 13.9,
          "temp_min": 3.3,
          "weather": "sun",
          "wind": 2.6
         },
         {
          "date": "2013-04-17T00:00:00",
          "monthly_mean": 15.02,
          "precipitation": 0,
          "temp_max": 15,
          "temp_min": 3.9,
          "weather": "drizzle",
          "wind": 3.3
         },
         {
          "date": "2013-04-18T00:00:00",
          "monthly_mean": 15.02,
          "precipitation": 5.3,
          "temp_max": 11.7,
          "temp_min": 6.7,
          "weather": "fog",
          "wind": 4
         },
         {
          "date": "2013-04-19T00:00:00",
          "monthly_mean": 15.02,
          "precipitation": 20.6,
          "temp_max": 13.3,
          "temp_min": 9.4,
          "weather": "fog",
          "wind": 4.9
         },
         {
          "date": "2013-04-20T00:00:00",
          "monthly_mean": 15.02,
          "precipitation": 0,
          "temp_max": 13.9,
          "temp_min": 8.3,
          "weather": "sun",
          "wind": 5.8
         },
         {
          "date": "2013-04-21T00:00:00",
          "monthly_mean": 15.02,
          "precipitation": 3.3,
          "temp_max": 12.2,
          "temp_min": 6.7,
          "weather": "sun",
          "wind": 4.1
         },
         {
          "date": "2013-04-22T00:00:00",
          "monthly_mean": 15.02,
          "precipitation": 0,
          "temp_max": 16.1,
          "temp_min": 5,
          "weather": "sun",
          "wind": 4.3
         },
         {
          "date": "2013-04-23T00:00:00",
          "monthly_mean": 15.02,
          "precipitation": 0,
          "temp_max": 17.8,
          "temp_min": 3.9,
          "weather": "sun",
          "wind": 2.8
         },
         {
          "date": "2013-04-24T00:00:00",
          "monthly_mean": 15.02,
          "precipitation": 0,
          "temp_max": 21.1,
          "temp_min": 6.1,
          "weather": "sun",
          "wind": 3
         },
         {
          "date": "2013-04-25T00:00:00",
          "monthly_mean": 15.02,
          "precipitation": 0,
          "temp_max": 21.7,
          "temp_min": 6.7,
          "weather": "sun",
          "wind": 1.1
         },
         {
          "date": "2013-04-26T00:00:00",
          "monthly_mean": 15.02,
          "precipitation": 0,
          "temp_max": 20.6,
          "temp_min": 8.3,
          "weather": "fog",
          "wind": 2.2
         },
         {
          "date": "2013-04-27T00:00:00",
          "monthly_mean": 15.02,
          "precipitation": 0,
          "temp_max": 13.9,
          "temp_min": 10.6,
          "weather": "sun",
          "wind": 5.9
         },
         {
          "date": "2013-04-28T00:00:00",
          "monthly_mean": 15.02,
          "precipitation": 1,
          "temp_max": 15,
          "temp_min": 9.4,
          "weather": "drizzle",
          "wind": 5.2
         },
         {
          "date": "2013-04-29T00:00:00",
          "monthly_mean": 15.02,
          "precipitation": 3.8,
          "temp_max": 13.9,
          "temp_min": 6.7,
          "weather": "fog",
          "wind": 4.2
         },
         {
          "date": "2013-04-30T00:00:00",
          "monthly_mean": 15.02,
          "precipitation": 0,
          "temp_max": 12.8,
          "temp_min": 4.4,
          "weather": "sun",
          "wind": 2.4
         },
         {
          "date": "2013-05-01T00:00:00",
          "monthly_mean": 19.295967741935485,
          "precipitation": 0,
          "temp_max": 18.3,
          "temp_min": 3.3,
          "weather": "sun",
          "wind": 3.1
         },
         {
          "date": "2013-05-02T00:00:00",
          "monthly_mean": 19.295967741935485,
          "precipitation": 0,
          "temp_max": 20.6,
          "temp_min": 6.7,
          "weather": "sun",
          "wind": 4
         },
         {
          "date": "2013-05-03T00:00:00",
          "monthly_mean": 19.295967741935485,
          "precipitation": 0,
          "temp_max": 21.7,
          "temp_min": 9.4,
          "weather": "sun",
          "wind": 4.9
         },
         {
          "date": "2013-05-04T00:00:00",
          "monthly_mean": 19.295967741935485,
          "precipitation": 0,
          "temp_max": 25,
          "temp_min": 11.1,
          "weather": "sun",
          "wind": 6.5
         },
         {
          "date": "2013-05-05T00:00:00",
          "monthly_mean": 19.295967741935485,
          "precipitation": 0,
          "temp_max": 28.9,
          "temp_min": 11.7,
          "weather": "sun",
          "wind": 5.3
         },
         {
          "date": "2013-05-06T00:00:00",
          "monthly_mean": 19.295967741935485,
          "precipitation": 0,
          "temp_max": 30.6,
          "temp_min": 12.2,
          "weather": "sun",
          "wind": 2
         },
         {
          "date": "2013-05-07T00:00:00",
          "monthly_mean": 19.295967741935485,
          "precipitation": 0,
          "temp_max": 20.6,
          "temp_min": 11.1,
          "weather": "sun",
          "wind": 3.3
         },
         {
          "date": "2013-05-08T00:00:00",
          "monthly_mean": 19.295967741935485,
          "precipitation": 0,
          "temp_max": 19.4,
          "temp_min": 11.1,
          "weather": "sun",
          "wind": 1.9
         },
         {
          "date": "2013-05-09T00:00:00",
          "monthly_mean": 19.295967741935485,
          "precipitation": 0,
          "temp_max": 22.8,
          "temp_min": 10,
          "weather": "sun",
          "wind": 1.3
         },
         {
          "date": "2013-05-10T00:00:00",
          "monthly_mean": 19.295967741935485,
          "precipitation": 0,
          "temp_max": 26.1,
          "temp_min": 9.4,
          "weather": "sun",
          "wind": 1
         },
         {
          "date": "2013-05-11T00:00:00",
          "monthly_mean": 19.295967741935485,
          "precipitation": 0,
          "temp_max": 27.2,
          "temp_min": 12.2,
          "weather": "sun",
          "wind": 2.6
         },
         {
          "date": "2013-05-12T00:00:00",
          "monthly_mean": 19.295967741935485,
          "precipitation": 6.6,
          "temp_max": 21.7,
          "temp_min": 13.9,
          "weather": "fog",
          "wind": 3.9
         },
         {
          "date": "2013-05-13T00:00:00",
          "monthly_mean": 19.295967741935485,
          "precipitation": 3.3,
          "temp_max": 18.9,
          "temp_min": 9.4,
          "weather": "sun",
          "wind": 5
         },
         {
          "date": "2013-05-14T00:00:00",
          "monthly_mean": 19.295967741935485,
          "precipitation": 0,
          "temp_max": 18.3,
          "temp_min": 7.8,
          "weather": "sun",
          "wind": 2.4
         },
         {
          "date": "2013-05-15T00:00:00",
          "monthly_mean": 19.295967741935485,
          "precipitation": 1,
          "temp_max": 17.2,
          "temp_min": 8.9,
          "weather": "fog",
          "wind": 2.3
         },
         {
          "date": "2013-05-16T00:00:00",
          "monthly_mean": 19.295967741935485,
          "precipitation": 0,
          "temp_max": 21.7,
          "temp_min": 12.2,
          "weather": "fog",
          "wind": 2.7
         },
         {
          "date": "2013-05-17T00:00:00",
          "monthly_mean": 19.295967741935485,
          "precipitation": 0.5,
          "temp_max": 17.2,
          "temp_min": 11.7,
          "weather": "sun",
          "wind": 3.7
         },
         {
          "date": "2013-05-18T00:00:00",
          "monthly_mean": 19.295967741935485,
          "precipitation": 0,
          "temp_max": 16.7,
          "temp_min": 11.1,
          "weather": "sun",
          "wind": 2.9
         },
         {
          "date": "2013-05-19T00:00:00",
          "monthly_mean": 19.295967741935485,
          "precipitation": 0,
          "temp_max": 18.3,
          "temp_min": 10.6,
          "weather": "sun",
          "wind": 2.3
         },
         {
          "date": "2013-05-20T00:00:00",
          "monthly_mean": 19.295967741935485,
          "precipitation": 0,
          "temp_max": 19.4,
          "temp_min": 9.4,
          "weather": "sun",
          "wind": 1.8
         },
         {
          "date": "2013-05-21T00:00:00",
          "monthly_mean": 19.295967741935485,
          "precipitation": 13.7,
          "temp_max": 15.6,
          "temp_min": 8.3,
          "weather": "fog",
          "wind": 4.8
         },
         {
          "date": "2013-05-22T00:00:00",
          "monthly_mean": 19.295967741935485,
          "precipitation": 13.7,
          "temp_max": 11.1,
          "temp_min": 7.2,
          "weather": "fog",
          "wind": 3
         },
         {
          "date": "2013-05-23T00:00:00",
          "monthly_mean": 19.295967741935485,
          "precipitation": 4.1,
          "temp_max": 12.2,
          "temp_min": 6.7,
          "weather": "fog",
          "wind": 1.9
         },
         {
          "date": "2013-05-24T00:00:00",
          "monthly_mean": 19.295967741935485,
          "precipitation": 0.3,
          "temp_max": 16.7,
          "temp_min": 8.9,
          "weather": "sun",
          "wind": 2.7
         },
         {
          "date": "2013-05-25T00:00:00",
          "monthly_mean": 19.295967741935485,
          "precipitation": 0,
          "temp_max": 17.8,
          "temp_min": 10,
          "weather": "sun",
          "wind": 2.7
         },
         {
          "date": "2013-05-26T00:00:00",
          "monthly_mean": 19.295967741935485,
          "precipitation": 1.5,
          "temp_max": 18.3,
          "temp_min": 10.6,
          "weather": "fog",
          "wind": 2.2
         },
         {
          "date": "2013-05-27T00:00:00",
          "monthly_mean": 19.295967741935485,
          "precipitation": 9.7,
          "temp_max": 16.7,
          "temp_min": 11.1,
          "weather": "fog",
          "wind": 3.1
         },
         {
          "date": "2013-05-28T00:00:00",
          "monthly_mean": 19.295967741935485,
          "precipitation": 0.5,
          "temp_max": 17.2,
          "temp_min": 11.7,
          "weather": "fog",
          "wind": 2.8
         },
         {
          "date": "2013-05-29T00:00:00",
          "monthly_mean": 19.295967741935485,
          "precipitation": 5.6,
          "temp_max": 16.1,
          "temp_min": 9.4,
          "weather": "fog",
          "wind": 4
         },
         {
          "date": "2013-05-30T00:00:00",
          "monthly_mean": 19.295967741935485,
          "precipitation": 0,
          "temp_max": 16.7,
          "temp_min": 9.4,
          "weather": "sun",
          "wind": 5.3
         },
         {
          "date": "2013-05-31T00:00:00",
          "monthly_mean": 19.295967741935485,
          "precipitation": 0,
          "temp_max": 19.4,
          "temp_min": 11.1,
          "weather": "sun",
          "wind": 2.5
         },
         {
          "date": "2013-06-01T00:00:00",
          "monthly_mean": 22.4,
          "precipitation": 0,
          "temp_max": 22.8,
          "temp_min": 12.2,
          "weather": "sun",
          "wind": 2.5
         },
         {
          "date": "2013-06-02T00:00:00",
          "monthly_mean": 22.4,
          "precipitation": 1,
          "temp_max": 20.6,
          "temp_min": 12.2,
          "weather": "sun",
          "wind": 3.1
         },
         {
          "date": "2013-06-03T00:00:00",
          "monthly_mean": 22.4,
          "precipitation": 0,
          "temp_max": 22.2,
          "temp_min": 11.1,
          "weather": "sun",
          "wind": 2.9
         },
         {
          "date": "2013-06-04T00:00:00",
          "monthly_mean": 22.4,
          "precipitation": 0,
          "temp_max": 26.1,
          "temp_min": 12.2,
          "weather": "sun",
          "wind": 3.4
         },
         {
          "date": "2013-06-05T00:00:00",
          "monthly_mean": 22.4,
          "precipitation": 0,
          "temp_max": 26.7,
          "temp_min": 14.4,
          "weather": "sun",
          "wind": 3.1
         },
         {
          "date": "2013-06-06T00:00:00",
          "monthly_mean": 22.4,
          "precipitation": 0,
          "temp_max": 26.7,
          "temp_min": 12.2,
          "weather": "sun",
          "wind": 2.5
         },
         {
          "date": "2013-06-07T00:00:00",
          "monthly_mean": 22.4,
          "precipitation": 0,
          "temp_max": 21.7,
          "temp_min": 13.3,
          "weather": "sun",
          "wind": 3.2
         },
         {
          "date": "2013-06-08T00:00:00",
          "monthly_mean": 22.4,
          "precipitation": 0,
          "temp_max": 20.6,
          "temp_min": 12.8,
          "weather": "sun",
          "wind": 3.1
         },
         {
          "date": "2013-06-09T00:00:00",
          "monthly_mean": 22.4,
          "precipitation": 0,
          "temp_max": 20.6,
          "temp_min": 11.1,
          "weather": "sun",
          "wind": 3.7
         },
         {
          "date": "2013-06-10T00:00:00",
          "monthly_mean": 22.4,
          "precipitation": 0,
          "temp_max": 21.7,
          "temp_min": 11.7,
          "weather": "sun",
          "wind": 3.2
         },
         {
          "date": "2013-06-11T00:00:00",
          "monthly_mean": 22.4,
          "precipitation": 0,
          "temp_max": 20,
          "temp_min": 10,
          "weather": "sun",
          "wind": 5.7
         },
         {
          "date": "2013-06-12T00:00:00",
          "monthly_mean": 22.4,
          "precipitation": 0.3,
          "temp_max": 20.6,
          "temp_min": 11.7,
          "weather": "sun",
          "wind": 4.2
         },
         {
          "date": "2013-06-13T00:00:00",
          "monthly_mean": 22.4,
          "precipitation": 0,
          "temp_max": 21.1,
          "temp_min": 11.7,
          "weather": "sun",
          "wind": 2.6
         },
         {
          "date": "2013-06-14T00:00:00",
          "monthly_mean": 22.4,
          "precipitation": 0,
          "temp_max": 20,
          "temp_min": 12.2,
          "weather": "sun",
          "wind": 3.7
         },
         {
          "date": "2013-06-15T00:00:00",
          "monthly_mean": 22.4,
          "precipitation": 0,
          "temp_max": 25.6,
          "temp_min": 10,
          "weather": "sun",
          "wind": 2.9
         },
         {
          "date": "2013-06-16T00:00:00",
          "monthly_mean": 22.4,
          "precipitation": 0,
          "temp_max": 23.9,
          "temp_min": 12.8,
          "weather": "sun",
          "wind": 3.4
         },
         {
          "date": "2013-06-17T00:00:00",
          "monthly_mean": 22.4,
          "precipitation": 0,
          "temp_max": 25.6,
          "temp_min": 13.9,
          "weather": "sun",
          "wind": 3
         },
         {
          "date": "2013-06-18T00:00:00",
          "monthly_mean": 22.4,
          "precipitation": 0.3,
          "temp_max": 23.3,
          "temp_min": 13.3,
          "weather": "fog",
          "wind": 3.4
         },
         {
          "date": "2013-06-19T00:00:00",
          "monthly_mean": 22.4,
          "precipitation": 0,
          "temp_max": 20,
          "temp_min": 12.8,
          "weather": "sun",
          "wind": 3.7
         },
         {
          "date": "2013-06-20T00:00:00",
          "monthly_mean": 22.4,
          "precipitation": 3,
          "temp_max": 17.2,
          "temp_min": 12.8,
          "weather": "sun",
          "wind": 5
         },
         {
          "date": "2013-06-21T00:00:00",
          "monthly_mean": 22.4,
          "precipitation": 0.3,
          "temp_max": 20.6,
          "temp_min": 12.2,
          "weather": "sun",
          "wind": 1.5
         },
         {
          "date": "2013-06-22T00:00:00",
          "monthly_mean": 22.4,
          "precipitation": 0,
          "temp_max": 25.6,
          "temp_min": 11.7,
          "weather": "sun",
          "wind": 1.7
         },
         {
          "date": "2013-06-23T00:00:00",
          "monthly_mean": 22.4,
          "precipitation": 7.9,
          "temp_max": 22.2,
          "temp_min": 15,
          "weather": "fog",
          "wind": 2.1
         },
         {
          "date": "2013-06-24T00:00:00",
          "monthly_mean": 22.4,
          "precipitation": 4.8,
          "temp_max": 21.1,
          "temp_min": 13.9,
          "weather": "fog",
          "wind": 3.7
         },
         {
          "date": "2013-06-25T00:00:00",
          "monthly_mean": 22.4,
          "precipitation": 9.9,
          "temp_max": 23.3,
          "temp_min": 14.4,
          "weather": "sun",
          "wind": 2.8
         },
         {
          "date": "2013-06-26T00:00:00",
          "monthly_mean": 22.4,
          "precipitation": 2,
          "temp_max": 22.2,
          "temp_min": 15,
          "weather": "fog",
          "wind": 2.3
         },
         {
          "date": "2013-06-27T00:00:00",
          "monthly_mean": 22.4,
          "precipitation": 3.6,
          "temp_max": 21.1,
          "temp_min": 16.7,
          "weather": "fog",
          "wind": 1.3
         },
         {
          "date": "2013-06-28T00:00:00",
          "monthly_mean": 22.4,
          "precipitation": 0,
          "temp_max": 30.6,
          "temp_min": 16.1,
          "weather": "sun",
          "wind": 2.2
         },
         {
          "date": "2013-06-29T00:00:00",
          "monthly_mean": 22.4,
          "precipitation": 0,
          "temp_max": 30,
          "temp_min": 18.3,
          "weather": "sun",
          "wind": 1.7
         },
         {
          "date": "2013-06-30T00:00:00",
          "monthly_mean": 22.4,
          "precipitation": 0,
          "temp_max": 33.9,
          "temp_min": 17.2,
          "weather": "sun",
          "wind": 2.5
         },
         {
          "date": "2013-07-01T00:00:00",
          "monthly_mean": 25.9983870967742,
          "precipitation": 0,
          "temp_max": 31.7,
          "temp_min": 18.3,
          "weather": "sun",
          "wind": 2.3
         },
         {
          "date": "2013-07-02T00:00:00",
          "monthly_mean": 25.9983870967742,
          "precipitation": 0,
          "temp_max": 28.3,
          "temp_min": 15.6,
          "weather": "sun",
          "wind": 3
         },
         {
          "date": "2013-07-03T00:00:00",
          "monthly_mean": 25.9983870967742,
          "precipitation": 0,
          "temp_max": 26.1,
          "temp_min": 16.7,
          "weather": "sun",
          "wind": 3.2
         },
         {
          "date": "2013-07-04T00:00:00",
          "monthly_mean": 25.9983870967742,
          "precipitation": 0,
          "temp_max": 21.7,
          "temp_min": 13.9,
          "weather": "fog",
          "wind": 2.2
         },
         {
          "date": "2013-07-05T00:00:00",
          "monthly_mean": 25.9983870967742,
          "precipitation": 0,
          "temp_max": 23.3,
          "temp_min": 13.9,
          "weather": "sun",
          "wind": 2.6
         },
         {
          "date": "2013-07-06T00:00:00",
          "monthly_mean": 25.9983870967742,
          "precipitation": 0,
          "temp_max": 26.1,
          "temp_min": 13.3,
          "weather": "sun",
          "wind": 2.2
         },
         {
          "date": "2013-07-07T00:00:00",
          "monthly_mean": 25.9983870967742,
          "precipitation": 0,
          "temp_max": 23.9,
          "temp_min": 13.9,
          "weather": "sun",
          "wind": 2.9
         },
         {
          "date": "2013-07-08T00:00:00",
          "monthly_mean": 25.9983870967742,
          "precipitation": 0,
          "temp_max": 26.7,
          "temp_min": 13.3,
          "weather": "sun",
          "wind": 2.8
         },
         {
          "date": "2013-07-09T00:00:00",
          "monthly_mean": 25.9983870967742,
          "precipitation": 0,
          "temp_max": 30,
          "temp_min": 15,
          "weather": "sun",
          "wind": 2.5
         },
         {
          "date": "2013-07-10T00:00:00",
          "monthly_mean": 25.9983870967742,
          "precipitation": 0,
          "temp_max": 22.2,
          "temp_min": 13.9,
          "weather": "sun",
          "wind": 2.6
         },
         {
          "date": "2013-07-11T00:00:00",
          "monthly_mean": 25.9983870967742,
          "precipitation": 0,
          "temp_max": 22.8,
          "temp_min": 12.2,
          "weather": "sun",
          "wind": 3
         },
         {
          "date": "2013-07-12T00:00:00",
          "monthly_mean": 25.9983870967742,
          "precipitation": 0,
          "temp_max": 19.4,
          "temp_min": 13.3,
          "weather": "sun",
          "wind": 2.2
         },
         {
          "date": "2013-07-13T00:00:00",
          "monthly_mean": 25.9983870967742,
          "precipitation": 0,
          "temp_max": 26.1,
          "temp_min": 11.1,
          "weather": "sun",
          "wind": 3.1
         },
         {
          "date": "2013-07-14T00:00:00",
          "monthly_mean": 25.9983870967742,
          "precipitation": 0,
          "temp_max": 27.8,
          "temp_min": 12.8,
          "weather": "sun",
          "wind": 3
         },
         {
          "date": "2013-07-15T00:00:00",
          "monthly_mean": 25.9983870967742,
          "precipitation": 0,
          "temp_max": 27.8,
          "temp_min": 14.4,
          "weather": "sun",
          "wind": 4.6
         },
         {
          "date": "2013-07-16T00:00:00",
          "monthly_mean": 25.9983870967742,
          "precipitation": 0,
          "temp_max": 31.1,
          "temp_min": 18.3,
          "weather": "sun",
          "wind": 4.1
         },
         {
          "date": "2013-07-17T00:00:00",
          "monthly_mean": 25.9983870967742,
          "precipitation": 0,
          "temp_max": 22.2,
          "temp_min": 15,
          "weather": "rain",
          "wind": 3.7
         },
         {
          "date": "2013-07-18T00:00:00",
          "monthly_mean": 25.9983870967742,
          "precipitation": 0,
          "temp_max": 26.1,
          "temp_min": 13.9,
          "weather": "sun",
          "wind": 2
         },
         {
          "date": "2013-07-19T00:00:00",
          "monthly_mean": 25.9983870967742,
          "precipitation": 0,
          "temp_max": 27.8,
          "temp_min": 13.3,
          "weather": "sun",
          "wind": 1.9
         },
         {
          "date": "2013-07-20T00:00:00",
          "monthly_mean": 25.9983870967742,
          "precipitation": 0,
          "temp_max": 25,
          "temp_min": 13.3,
          "weather": "sun",
          "wind": 2
         },
         {
          "date": "2013-07-21T00:00:00",
          "monthly_mean": 25.9983870967742,
          "precipitation": 0,
          "temp_max": 23.9,
          "temp_min": 12.8,
          "weather": "sun",
          "wind": 2.3
         },
         {
          "date": "2013-07-22T00:00:00",
          "monthly_mean": 25.9983870967742,
          "precipitation": 0,
          "temp_max": 26.1,
          "temp_min": 13.3,
          "weather": "fog",
          "wind": 2.4
         },
         {
          "date": "2013-07-23T00:00:00",
          "monthly_mean": 25.9983870967742,
          "precipitation": 0,
          "temp_max": 31.1,
          "temp_min": 13.9,
          "weather": "sun",
          "wind": 3
         },
         {
          "date": "2013-07-24T00:00:00",
          "monthly_mean": 25.9983870967742,
          "precipitation": 0,
          "temp_max": 31.1,
          "temp_min": 14.4,
          "weather": "sun",
          "wind": 2.5
         },
         {
          "date": "2013-07-25T00:00:00",
          "monthly_mean": 25.9983870967742,
          "precipitation": 0,
          "temp_max": 31.1,
          "temp_min": 12.8,
          "weather": "sun",
          "wind": 2.3
         },
         {
          "date": "2013-07-26T00:00:00",
          "monthly_mean": 25.9983870967742,
          "precipitation": 0,
          "temp_max": 31.1,
          "temp_min": 14.4,
          "weather": "sun",
          "wind": 2.9
         },
         {
          "date": "2013-07-27T00:00:00",
          "monthly_mean": 25.9983870967742,
          "precipitation": 0,
          "temp_max": 25.6,
          "temp_min": 12.8,
          "weather": "sun",
          "wind": 2.6
         },
         {
          "date": "2013-07-28T00:00:00",
          "monthly_mean": 25.9983870967742,
          "precipitation": 0,
          "temp_max": 21.1,
          "temp_min": 12.2,
          "weather": "fog",
          "wind": 3.4
         },
         {
          "date": "2013-07-29T00:00:00",
          "monthly_mean": 25.9983870967742,
          "precipitation": 0,
          "temp_max": 25,
          "temp_min": 13.3,
          "weather": "sun",
          "wind": 1.4
         },
         {
          "date": "2013-07-30T00:00:00",
          "monthly_mean": 25.9983870967742,
          "precipitation": 0,
          "temp_max": 25,
          "temp_min": 13.3,
          "weather": "sun",
          "wind": 2.8
         },
         {
          "date": "2013-07-31T00:00:00",
          "monthly_mean": 25.9983870967742,
          "precipitation": 0,
          "temp_max": 21.7,
          "temp_min": 13.3,
          "weather": "sun",
          "wind": 1.8
         },
         {
          "date": "2013-08-01T00:00:00",
          "monthly_mean": 26.11209677419356,
          "precipitation": 0,
          "temp_max": 20.6,
          "temp_min": 13.3,
          "weather": "sun",
          "wind": 3.9
         },
         {
          "date": "2013-08-02T00:00:00",
          "monthly_mean": 26.11209677419356,
          "precipitation": 2,
          "temp_max": 17.2,
          "temp_min": 15,
          "weather": "sun",
          "wind": 2
         },
         {
          "date": "2013-08-03T00:00:00",
          "monthly_mean": 26.11209677419356,
          "precipitation": 0,
          "temp_max": 25,
          "temp_min": 15.6,
          "weather": "fog",
          "wind": 2.4
         },
         {
          "date": "2013-08-04T00:00:00",
          "monthly_mean": 26.11209677419356,
          "precipitation": 0,
          "temp_max": 28.9,
          "temp_min": 15,
          "weather": "sun",
          "wind": 3.4
         },
         {
          "date": "2013-08-05T00:00:00",
          "monthly_mean": 26.11209677419356,
          "precipitation": 0,
          "temp_max": 30,
          "temp_min": 15,
          "weather": "sun",
          "wind": 2.1
         },
         {
          "date": "2013-08-06T00:00:00",
          "monthly_mean": 26.11209677419356,
          "precipitation": 0,
          "temp_max": 30.6,
          "temp_min": 13.9,
          "weather": "sun",
          "wind": 1.4
         },
         {
          "date": "2013-08-07T00:00:00",
          "monthly_mean": 26.11209677419356,
          "precipitation": 0,
          "temp_max": 31.1,
          "temp_min": 13.9,
          "weather": "sun",
          "wind": 1.9
         },
         {
          "date": "2013-08-08T00:00:00",
          "monthly_mean": 26.11209677419356,
          "precipitation": 0,
          "temp_max": 28.3,
          "temp_min": 14.4,
          "weather": "sun",
          "wind": 2.5
         },
         {
          "date": "2013-08-09T00:00:00",
          "monthly_mean": 26.11209677419356,
          "precipitation": 0,
          "temp_max": 28.3,
          "temp_min": 14.4,
          "weather": "rain",
          "wind": 2.1
         },
         {
          "date": "2013-08-10T00:00:00",
          "monthly_mean": 26.11209677419356,
          "precipitation": 2.3,
          "temp_max": 25.6,
          "temp_min": 15,
          "weather": "sun",
          "wind": 2.9
         },
         {
          "date": "2013-08-11T00:00:00",
          "monthly_mean": 26.11209677419356,
          "precipitation": 0,
          "temp_max": 25,
          "temp_min": 14.4,
          "weather": "sun",
          "wind": 2.9
         },
         {
          "date": "2013-08-12T00:00:00",
          "monthly_mean": 26.11209677419356,
          "precipitation": 0,
          "temp_max": 25.6,
          "temp_min": 16.1,
          "weather": "sun",
          "wind": 1.9
         },
         {
          "date": "2013-08-13T00:00:00",
          "monthly_mean": 26.11209677419356,
          "precipitation": 0,
          "temp_max": 27.8,
          "temp_min": 15,
          "weather": "sun",
          "wind": 1.8
         },
         {
          "date": "2013-08-14T00:00:00",
          "monthly_mean": 26.11209677419356,
          "precipitation": 0.8,
          "temp_max": 27.2,
          "temp_min": 15,
          "weather": "sun",
          "wind": 2
         },
         {
          "date": "2013-08-15T00:00:00",
          "monthly_mean": 26.11209677419356,
          "precipitation": 1.8,
          "temp_max": 21.1,
          "temp_min": 17.2,
          "weather": "sun",
          "wind": 1
         },
         {
          "date": "2013-08-16T00:00:00",
          "monthly_mean": 26.11209677419356,
          "precipitation": 0,
          "temp_max": 28.9,
          "temp_min": 16.1,
          "weather": "fog",
          "wind": 2.2
         },
         {
          "date": "2013-08-17T00:00:00",
          "monthly_mean": 26.11209677419356,
          "precipitation": 0,
          "temp_max": 25.6,
          "temp_min": 17.2,
          "weather": "sun",
          "wind": 3
         },
         {
          "date": "2013-08-18T00:00:00",
          "monthly_mean": 26.11209677419356,
          "precipitation": 0,
          "temp_max": 26.1,
          "temp_min": 15.6,
          "weather": "sun",
          "wind": 3.1
         },
         {
          "date": "2013-08-19T00:00:00",
          "monthly_mean": 26.11209677419356,
          "precipitation": 0,
          "temp_max": 26.7,
          "temp_min": 15.6,
          "weather": "sun",
          "wind": 3
         },
         {
          "date": "2013-08-20T00:00:00",
          "monthly_mean": 26.11209677419356,
          "precipitation": 0,
          "temp_max": 25.6,
          "temp_min": 16.1,
          "weather": "sun",
          "wind": 4.6
         },
         {
          "date": "2013-08-21T00:00:00",
          "monthly_mean": 26.11209677419356,
          "precipitation": 0,
          "temp_max": 27.8,
          "temp_min": 15,
          "weather": "sun",
          "wind": 4.3
         },
         {
          "date": "2013-08-22T00:00:00",
          "monthly_mean": 26.11209677419356,
          "precipitation": 0,
          "temp_max": 28.9,
          "temp_min": 15,
          "weather": "sun",
          "wind": 1.9
         },
         {
          "date": "2013-08-23T00:00:00",
          "monthly_mean": 26.11209677419356,
          "precipitation": 0,
          "temp_max": 25,
          "temp_min": 16.1,
          "weather": "sun",
          "wind": 4.1
         },
         {
          "date": "2013-08-24T00:00:00",
          "monthly_mean": 26.11209677419356,
          "precipitation": 0,
          "temp_max": 25,
          "temp_min": 16.7,
          "weather": "sun",
          "wind": 2.7
         },
         {
          "date": "2013-08-25T00:00:00",
          "monthly_mean": 26.11209677419356,
          "precipitation": 0.3,
          "temp_max": 22.2,
          "temp_min": 16.1,
          "weather": "sun",
          "wind": 2.6
         },
         {
          "date": "2013-08-26T00:00:00",
          "monthly_mean": 26.11209677419356,
          "precipitation": 1,
          "temp_max": 24.4,
          "temp_min": 16.1,
          "weather": "sun",
          "wind": 1.9
         },
         {
          "date": "2013-08-27T00:00:00",
          "monthly_mean": 26.11209677419356,
          "precipitation": 1.3,
          "temp_max": 26.7,
          "temp_min": 17.2,
          "weather": "sun",
          "wind": 1.4
         },
         {
          "date": "2013-08-28T00:00:00",
          "monthly_mean": 26.11209677419356,
          "precipitation": 5.6,
          "temp_max": 26.7,
          "temp_min": 15.6,
          "weather": "fog",
          "wind": 1.3
         },
         {
          "date": "2013-08-29T00:00:00",
          "monthly_mean": 26.11209677419356,
          "precipitation": 19.3,
          "temp_max": 23.9,
          "temp_min": 18.3,
          "weather": "sun",
          "wind": 3
         },
         {
          "date": "2013-08-30T00:00:00",
          "monthly_mean": 26.11209677419356,
          "precipitation": 0,
          "temp_max": 26.1,
          "temp_min": 16.1,
          "weather": "sun",
          "wind": 2.9
         },
         {
          "date": "2013-08-31T00:00:00",
          "monthly_mean": 26.11209677419356,
          "precipitation": 0,
          "temp_max": 27.8,
          "temp_min": 13.9,
          "weather": "sun",
          "wind": 2.6
         },
         {
          "date": "2013-09-01T00:00:00",
          "monthly_mean": 21.924166666666675,
          "precipitation": 0,
          "temp_max": 27.8,
          "temp_min": 15.6,
          "weather": "sun",
          "wind": 2.5
         },
         {
          "date": "2013-09-02T00:00:00",
          "monthly_mean": 21.924166666666675,
          "precipitation": 0,
          "temp_max": 27.8,
          "temp_min": 17.2,
          "weather": "sun",
          "wind": 2.1
         },
         {
          "date": "2013-09-03T00:00:00",
          "monthly_mean": 21.924166666666675,
          "precipitation": 2.3,
          "temp_max": 25,
          "temp_min": 16.7,
          "weather": "fog",
          "wind": 1.7
         },
         {
          "date": "2013-09-04T00:00:00",
          "monthly_mean": 21.924166666666675,
          "precipitation": 0.3,
          "temp_max": 22.8,
          "temp_min": 16.1,
          "weather": "fog",
          "wind": 2.4
         },
         {
          "date": "2013-09-05T00:00:00",
          "monthly_mean": 21.924166666666675,
          "precipitation": 27.7,
          "temp_max": 20,
          "temp_min": 15.6,
          "weather": "sun",
          "wind": 2.5
         },
         {
          "date": "2013-09-06T00:00:00",
          "monthly_mean": 21.924166666666675,
          "precipitation": 21.3,
          "temp_max": 21.7,
          "temp_min": 16.1,
          "weather": "fog",
          "wind": 2.6
         },
         {
          "date": "2013-09-07T00:00:00",
          "monthly_mean": 21.924166666666675,
          "precipitation": 0,
          "temp_max": 23.3,
          "temp_min": 17.2,
          "weather": "sun",
          "wind": 2
         },
         {
          "date": "2013-09-08T00:00:00",
          "monthly_mean": 21.924166666666675,
          "precipitation": 0,
          "temp_max": 26.7,
          "temp_min": 14.4,
          "weather": "fog",
          "wind": 1.5
         },
         {
          "date": "2013-09-09T00:00:00",
          "monthly_mean": 21.924166666666675,
          "precipitation": 0,
          "temp_max": 26.1,
          "temp_min": 13.9,
          "weather": "sun",
          "wind": 2.1
         },
         {
          "date": "2013-09-10T00:00:00",
          "monthly_mean": 21.924166666666675,
          "precipitation": 0,
          "temp_max": 26.7,
          "temp_min": 15,
          "weather": "sun",
          "wind": 3.7
         },
         {
          "date": "2013-09-11T00:00:00",
          "monthly_mean": 21.924166666666675,
          "precipitation": 0,
          "temp_max": 33.9,
          "temp_min": 16.1,
          "weather": "sun",
          "wind": 2.4
         },
         {
          "date": "2013-09-12T00:00:00",
          "monthly_mean": 21.924166666666675,
          "precipitation": 0,
          "temp_max": 25.6,
          "temp_min": 15,
          "weather": "sun",
          "wind": 1.7
         },
         {
          "date": "2013-09-13T00:00:00",
          "monthly_mean": 21.924166666666675,
          "precipitation": 0,
          "temp_max": 18.9,
          "temp_min": 15.6,
          "weather": "sun",
          "wind": 2
         },
         {
          "date": "2013-09-14T00:00:00",
          "monthly_mean": 21.924166666666675,
          "precipitation": 0,
          "temp_max": 21.7,
          "temp_min": 15.6,
          "weather": "fog",
          "wind": 1.4
         },
         {
          "date": "2013-09-15T00:00:00",
          "monthly_mean": 21.924166666666675,
          "precipitation": 3.3,
          "temp_max": 18.9,
          "temp_min": 14.4,
          "weather": "sun",
          "wind": 2.2
         },
         {
          "date": "2013-09-16T00:00:00",
          "monthly_mean": 21.924166666666675,
          "precipitation": 0.3,
          "temp_max": 21.7,
          "temp_min": 15,
          "weather": "fog",
          "wind": 4.3
         },
         {
          "date": "2013-09-17T00:00:00",
          "monthly_mean": 21.924166666666675,
          "precipitation": 0,
          "temp_max": 17.8,
          "temp_min": 13.9,
          "weather": "sun",
          "wind": 2.3
         },
         {
          "date": "2013-09-18T00:00:00",
          "monthly_mean": 21.924166666666675,
          "precipitation": 0,
          "temp_max": 21.1,
          "temp_min": 13.3,
          "weather": "sun",
          "wind": 2.5
         },
         {
          "date": "2013-09-19T00:00:00",
          "monthly_mean": 21.924166666666675,
          "precipitation": 0,
          "temp_max": 25.6,
          "temp_min": 10,
          "weather": "sun",
          "wind": 1.5
         },
         {
          "date": "2013-09-20T00:00:00",
          "monthly_mean": 21.924166666666675,
          "precipitation": 3.6,
          "temp_max": 23.3,
          "temp_min": 13.3,
          "weather": "fog",
          "wind": 3
         },
         {
          "date": "2013-09-21T00:00:00",
          "monthly_mean": 21.924166666666675,
          "precipitation": 0,
          "temp_max": 21.1,
          "temp_min": 13.3,
          "weather": "sun",
          "wind": 2.5
         },
         {
          "date": "2013-09-22T00:00:00",
          "monthly_mean": 21.924166666666675,
          "precipitation": 13.5,
          "temp_max": 17.2,
          "temp_min": 13.3,
          "weather": "fog",
          "wind": 5.5
         },
         {
          "date": "2013-09-23T00:00:00",
          "monthly_mean": 21.924166666666675,
          "precipitation": 2.8,
          "temp_max": 16.1,
          "temp_min": 11.1,
          "weather": "fog",
          "wind": 4.5
         },
         {
          "date": "2013-09-24T00:00:00",
          "monthly_mean": 21.924166666666675,
          "precipitation": 0,
          "temp_max": 17.8,
          "temp_min": 10,
          "weather": "sun",
          "wind": 2.6
         },
         {
          "date": "2013-09-25T00:00:00",
          "monthly_mean": 21.924166666666675,
          "precipitation": 2,
          "temp_max": 16.1,
          "temp_min": 9.4,
          "weather": "fog",
          "wind": 3
         },
         {
          "date": "2013-09-26T00:00:00",
          "monthly_mean": 21.924166666666675,
          "precipitation": 0,
          "temp_max": 17.2,
          "temp_min": 7.2,
          "weather": "sun",
          "wind": 2.2
         },
         {
          "date": "2013-09-27T00:00:00",
          "monthly_mean": 21.924166666666675,
          "precipitation": 1,
          "temp_max": 13.9,
          "temp_min": 10.6,
          "weather": "fog",
          "wind": 4.3
         },
         {
          "date": "2013-09-28T00:00:00",
          "monthly_mean": 21.924166666666675,
          "precipitation": 43.4,
          "temp_max": 16.7,
          "temp_min": 11.7,
          "weather": "fog",
          "wind": 6
         },
         {
          "date": "2013-09-29T00:00:00",
          "monthly_mean": 21.924166666666675,
          "precipitation": 16.8,
          "temp_max": 14.4,
          "temp_min": 11.1,
          "weather": "sun",
          "wind": 7.1
         },
         {
          "date": "2013-09-30T00:00:00",
          "monthly_mean": 21.924166666666675,
          "precipitation": 18.5,
          "temp_max": 13.9,
          "temp_min": 10,
          "weather": "fog",
          "wind": 6.3
         },
         {
          "date": "2013-10-01T00:00:00",
          "monthly_mean": 16.38951612903225,
          "precipitation": 7.9,
          "temp_max": 14.4,
          "temp_min": 8.9,
          "weather": "fog",
          "wind": 4.7
         },
         {
          "date": "2013-10-02T00:00:00",
          "monthly_mean": 16.38951612903225,
          "precipitation": 5.3,
          "temp_max": 12.8,
          "temp_min": 9.4,
          "weather": "fog",
          "wind": 2.4
         },
         {
          "date": "2013-10-03T00:00:00",
          "monthly_mean": 16.38951612903225,
          "precipitation": 0.8,
          "temp_max": 14.4,
          "temp_min": 8.9,
          "weather": "fog",
          "wind": 0.9
         },
         {
          "date": "2013-10-04T00:00:00",
          "monthly_mean": 16.38951612903225,
          "precipitation": 0,
          "temp_max": 17.8,
          "temp_min": 5.6,
          "weather": "sun",
          "wind": 1.1
         },
         {
          "date": "2013-10-05T00:00:00",
          "monthly_mean": 16.38951612903225,
          "precipitation": 0,
          "temp_max": 20,
          "temp_min": 8.3,
          "weather": "sun",
          "wind": 1.6
         },
         {
          "date": "2013-10-06T00:00:00",
          "monthly_mean": 16.38951612903225,
          "precipitation": 4.1,
          "temp_max": 22.8,
          "temp_min": 7.8,
          "weather": "fog",
          "wind": 2.6
         },
         {
          "date": "2013-10-07T00:00:00",
          "monthly_mean": 16.38951612903225,
          "precipitation": 0.5,
          "temp_max": 16.1,
          "temp_min": 11.7,
          "weather": "fog",
          "wind": 6.3
         },
         {
          "date": "2013-10-08T00:00:00",
          "monthly_mean": 16.38951612903225,
          "precipitation": 6.9,
          "temp_max": 13.9,
          "temp_min": 7.8,
          "weather": "rain",
          "wind": 3
         },
         {
          "date": "2013-10-09T00:00:00",
          "monthly_mean": 16.38951612903225,
          "precipitation": 0,
          "temp_max": 15,
          "temp_min": 5.6,
          "weather": "sun",
          "wind": 1.6
         },
         {
          "date": "2013-10-10T00:00:00",
          "monthly_mean": 16.38951612903225,
          "precipitation": 1,
          "temp_max": 14.4,
          "temp_min": 8.3,
          "weather": "fog",
          "wind": 1.7
         },
         {
          "date": "2013-10-11T00:00:00",
          "monthly_mean": 16.38951612903225,
          "precipitation": 9.1,
          "temp_max": 13.9,
          "temp_min": 10.6,
          "weather": "sun",
          "wind": 1
         },
         {
          "date": "2013-10-12T00:00:00",
          "monthly_mean": 16.38951612903225,
          "precipitation": 1,
          "temp_max": 14.4,
          "temp_min": 8.9,
          "weather": "fog",
          "wind": 2.2
         },
         {
          "date": "2013-10-13T00:00:00",
          "monthly_mean": 16.38951612903225,
          "precipitation": 0,
          "temp_max": 15,
          "temp_min": 6.7,
          "weather": "fog",
          "wind": 1.8
         },
         {
          "date": "2013-10-14T00:00:00",
          "monthly_mean": 16.38951612903225,
          "precipitation": 0,
          "temp_max": 15.6,
          "temp_min": 3.9,
          "weather": "sun",
          "wind": 1.6
         },
         {
          "date": "2013-10-15T00:00:00",
          "monthly_mean": 16.38951612903225,
          "precipitation": 0,
          "temp_max": 15.6,
          "temp_min": 5,
          "weather": "sun",
          "wind": 0.9
         },
         {
          "date": "2013-10-16T00:00:00",
          "monthly_mean": 16.38951612903225,
          "precipitation": 0,
          "temp_max": 12.8,
          "temp_min": 8.9,
          "weather": "fog",
          "wind": 2.7
         },
         {
          "date": "2013-10-17T00:00:00",
          "monthly_mean": 16.38951612903225,
          "precipitation": 0,
          "temp_max": 14.4,
          "temp_min": 8.9,
          "weather": "fog",
          "wind": 1.7
         },
         {
          "date": "2013-10-18T00:00:00",
          "monthly_mean": 16.38951612903225,
          "precipitation": 0,
          "temp_max": 12.8,
          "temp_min": 7.2,
          "weather": "sun",
          "wind": 1.2
         },
         {
          "date": "2013-10-19T00:00:00",
          "monthly_mean": 16.38951612903225,
          "precipitation": 0,
          "temp_max": 10.6,
          "temp_min": 7.8,
          "weather": "sun",
          "wind": 1.4
         },
         {
          "date": "2013-10-20T00:00:00",
          "monthly_mean": 16.38951612903225,
          "precipitation": 0,
          "temp_max": 10.6,
          "temp_min": 7.8,
          "weather": "sun",
          "wind": 2.4
         },
         {
          "date": "2013-10-21T00:00:00",
          "monthly_mean": 16.38951612903225,
          "precipitation": 0,
          "temp_max": 11.7,
          "temp_min": 8.3,
          "weather": "sun",
          "wind": 2.5
         },
         {
          "date": "2013-10-22T00:00:00",
          "monthly_mean": 16.38951612903225,
          "precipitation": 0,
          "temp_max": 14.4,
          "temp_min": 7.2,
          "weather": "sun",
          "wind": 1.9
         },
         {
          "date": "2013-10-23T00:00:00",
          "monthly_mean": 16.38951612903225,
          "precipitation": 0,
          "temp_max": 12.8,
          "temp_min": 6.1,
          "weather": "sun",
          "wind": 0.4
         },
         {
          "date": "2013-10-24T00:00:00",
          "monthly_mean": 16.38951612903225,
          "precipitation": 0,
          "temp_max": 10,
          "temp_min": 6.1,
          "weather": "sun",
          "wind": 0.6
         },
         {
          "date": "2013-10-25T00:00:00",
          "monthly_mean": 16.38951612903225,
          "precipitation": 0,
          "temp_max": 12.2,
          "temp_min": 7.8,
          "weather": "sun",
          "wind": 1.8
         },
         {
          "date": "2013-10-26T00:00:00",
          "monthly_mean": 16.38951612903225,
          "precipitation": 0,
          "temp_max": 11.7,
          "temp_min": 8.3,
          "weather": "sun",
          "wind": 2.7
         },
         {
          "date": "2013-10-27T00:00:00",
          "monthly_mean": 16.38951612903225,
          "precipitation": 1.8,
          "temp_max": 13.9,
          "temp_min": 8.3,
          "weather": "fog",
          "wind": 4.4
         },
         {
          "date": "2013-10-28T00:00:00",
          "monthly_mean": 16.38951612903225,
          "precipitation": 0,
          "temp_max": 14.4,
          "temp_min": 7.2,
          "weather": "sun",
          "wind": 5.1
         },
         {
          "date": "2013-10-29T00:00:00",
          "monthly_mean": 16.38951612903225,
          "precipitation": 0,
          "temp_max": 13.3,
          "temp_min": 3.3,
          "weather": "sun",
          "wind": 2.2
         },
         {
          "date": "2013-10-30T00:00:00",
          "monthly_mean": 16.38951612903225,
          "precipitation": 0.5,
          "temp_max": 15,
          "temp_min": 5.6,
          "weather": "sun",
          "wind": 3.9
         },
         {
          "date": "2013-10-31T00:00:00",
          "monthly_mean": 16.38951612903225,
          "precipitation": 0.3,
          "temp_max": 14.4,
          "temp_min": 10.6,
          "weather": "fog",
          "wind": 2.2
         },
         {
          "date": "2013-11-01T00:00:00",
          "monthly_mean": 11.023333333333337,
          "precipitation": 1.3,
          "temp_max": 17.8,
          "temp_min": 11.7,
          "weather": "sun",
          "wind": 1.4
         },
         {
          "date": "2013-11-02T00:00:00",
          "monthly_mean": 11.023333333333337,
          "precipitation": 12.7,
          "temp_max": 14.4,
          "temp_min": 8.3,
          "weather": "fog",
          "wind": 7.9
         },
         {
          "date": "2013-11-03T00:00:00",
          "monthly_mean": 11.023333333333337,
          "precipitation": 0.5,
          "temp_max": 12.2,
          "temp_min": 4.4,
          "weather": "sun",
          "wind": 2.4
         },
         {
          "date": "2013-11-04T00:00:00",
          "monthly_mean": 11.023333333333337,
          "precipitation": 0,
          "temp_max": 10.6,
          "temp_min": 3.9,
          "weather": "drizzle",
          "wind": 1.6
         },
         {
          "date": "2013-11-05T00:00:00",
          "monthly_mean": 11.023333333333337,
          "precipitation": 2.5,
          "temp_max": 13.3,
          "temp_min": 7.2,
          "weather": "fog",
          "wind": 3.1
         },
         {
          "date": "2013-11-06T00:00:00",
          "monthly_mean": 11.023333333333337,
          "precipitation": 3.8,
          "temp_max": 12.8,
          "temp_min": 7.8,
          "weather": "sun",
          "wind": 1.7
         },
         {
          "date": "2013-11-07T00:00:00",
          "monthly_mean": 11.023333333333337,
          "precipitation": 30,
          "temp_max": 11.1,
          "temp_min": 10,
          "weather": "fog",
          "wind": 7.2
         },
         {
          "date": "2013-11-08T00:00:00",
          "monthly_mean": 11.023333333333337,
          "precipitation": 0,
          "temp_max": 13.3,
          "temp_min": 7.2,
          "weather": "sun",
          "wind": 4.1
         },
         {
          "date": "2013-11-09T00:00:00",
          "monthly_mean": 11.023333333333337,
          "precipitation": 1.8,
          "temp_max": 11.1,
          "temp_min": 5,
          "weather": "sun",
          "wind": 1.4
         },
         {
          "date": "2013-11-10T00:00:00",
          "monthly_mean": 11.023333333333337,
          "precipitation": 0,
          "temp_max": 11.1,
          "temp_min": 8.3,
          "weather": "sun",
          "wind": 4.4
         },
         {
          "date": "2013-11-11T00:00:00",
          "monthly_mean": 11.023333333333337,
          "precipitation": 0,
          "temp_max": 16.1,
          "temp_min": 6.1,
          "weather": "fog",
          "wind": 2.6
         },
         {
          "date": "2013-11-12T00:00:00",
          "monthly_mean": 11.023333333333337,
          "precipitation": 4.1,
          "temp_max": 15.6,
          "temp_min": 8.9,
          "weather": "fog",
          "wind": 2.2
         },
         {
          "date": "2013-11-13T00:00:00",
          "monthly_mean": 11.023333333333337,
          "precipitation": 0,
          "temp_max": 13.9,
          "temp_min": 10.6,
          "weather": "sun",
          "wind": 3.8
         },
         {
          "date": "2013-11-14T00:00:00",
          "monthly_mean": 11.023333333333337,
          "precipitation": 1.3,
          "temp_max": 11.1,
          "temp_min": 6.1,
          "weather": "fog",
          "wind": 1.1
         },
         {
          "date": "2013-11-15T00:00:00",
          "monthly_mean": 11.023333333333337,
          "precipitation": 3,
          "temp_max": 10.6,
          "temp_min": 7.2,
          "weather": "sun",
          "wind": 6
         },
         {
          "date": "2013-11-16T00:00:00",
          "monthly_mean": 11.023333333333337,
          "precipitation": 0,
          "temp_max": 10,
          "temp_min": 5,
          "weather": "sun",
          "wind": 4.6
         },
         {
          "date": "2013-11-17T00:00:00",
          "monthly_mean": 11.023333333333337,
          "precipitation": 5.3,
          "temp_max": 11.7,
          "temp_min": 7.2,
          "weather": "fog",
          "wind": 5.4
         },
         {
          "date": "2013-11-18T00:00:00",
          "monthly_mean": 11.023333333333337,
          "precipitation": 26.2,
          "temp_max": 12.8,
          "temp_min": 9.4,
          "weather": "fog",
          "wind": 3.9
         },
         {
          "date": "2013-11-19T00:00:00",
          "monthly_mean": 11.023333333333337,
          "precipitation": 1,
          "temp_max": 13.3,
          "temp_min": 4.4,
          "weather": "fog",
          "wind": 5.1
         },
         {
          "date": "2013-11-20T00:00:00",
          "monthly_mean": 11.023333333333337,
          "precipitation": 0,
          "temp_max": 7.8,
          "temp_min": 1.7,
          "weather": "sun",
          "wind": 4.3
         },
         {
          "date": "2013-11-21T00:00:00",
          "monthly_mean": 11.023333333333337,
          "precipitation": 0,
          "temp_max": 7.8,
          "temp_min": -0.5,
          "weather": "sun",
          "wind": 3.6
         },
         {
          "date": "2013-11-22T00:00:00",
          "monthly_mean": 11.023333333333337,
          "precipitation": 0,
          "temp_max": 9.4,
          "temp_min": 0,
          "weather": "sun",
          "wind": 4.6
         },
         {
          "date": "2013-11-23T00:00:00",
          "monthly_mean": 11.023333333333337,
          "precipitation": 0,
          "temp_max": 11.1,
          "temp_min": 1.1,
          "weather": "sun",
          "wind": 2.6
         },
         {
          "date": "2013-11-24T00:00:00",
          "monthly_mean": 11.023333333333337,
          "precipitation": 0,
          "temp_max": 11.7,
          "temp_min": 0.6,
          "weather": "fog",
          "wind": 0.9
         },
         {
          "date": "2013-11-25T00:00:00",
          "monthly_mean": 11.023333333333337,
          "precipitation": 0,
          "temp_max": 12.2,
          "temp_min": 2.2,
          "weather": "sun",
          "wind": 0.5
         },
         {
          "date": "2013-11-26T00:00:00",
          "monthly_mean": 11.023333333333337,
          "precipitation": 0,
          "temp_max": 12.2,
          "temp_min": 2.8,
          "weather": "sun",
          "wind": 1
         },
         {
          "date": "2013-11-27T00:00:00",
          "monthly_mean": 11.023333333333337,
          "precipitation": 0,
          "temp_max": 14.4,
          "temp_min": 5.6,
          "weather": "sun",
          "wind": 1.3
         },
         {
          "date": "2013-11-28T00:00:00",
          "monthly_mean": 11.023333333333337,
          "precipitation": 0,
          "temp_max": 11.7,
          "temp_min": 3.3,
          "weather": "sun",
          "wind": 0.7
         },
         {
          "date": "2013-11-29T00:00:00",
          "monthly_mean": 11.023333333333337,
          "precipitation": 0.5,
          "temp_max": 9.4,
          "temp_min": 5,
          "weather": "fog",
          "wind": 2.1
         },
         {
          "date": "2013-11-30T00:00:00",
          "monthly_mean": 11.023333333333337,
          "precipitation": 2.3,
          "temp_max": 11.1,
          "temp_min": 7.2,
          "weather": "fog",
          "wind": 3.9
         },
         {
          "date": "2013-12-01T00:00:00",
          "monthly_mean": 8.194354838709678,
          "precipitation": 3,
          "temp_max": 13.3,
          "temp_min": 7.8,
          "weather": "fog",
          "wind": 8.8
         },
         {
          "date": "2013-12-02T00:00:00",
          "monthly_mean": 8.194354838709678,
          "precipitation": 4.6,
          "temp_max": 7.8,
          "temp_min": 1.7,
          "weather": "sun",
          "wind": 3.5
         },
         {
          "date": "2013-12-03T00:00:00",
          "monthly_mean": 8.194354838709678,
          "precipitation": 0,
          "temp_max": 5,
          "temp_min": -0.5,
          "weather": "sun",
          "wind": 5.6
         },
         {
          "date": "2013-12-04T00:00:00",
          "monthly_mean": 8.194354838709678,
          "precipitation": 0,
          "temp_max": 4.4,
          "temp_min": -2.1,
          "weather": "sun",
          "wind": 1.6
         },
         {
          "date": "2013-12-05T00:00:00",
          "monthly_mean": 8.194354838709678,
          "precipitation": 0,
          "temp_max": 1.1,
          "temp_min": -4.9,
          "weather": "sun",
          "wind": 2.6
         },
         {
          "date": "2013-12-06T00:00:00",
          "monthly_mean": 8.194354838709678,
          "precipitation": 0,
          "temp_max": 1.1,
          "temp_min": -4.3,
          "weather": "sun",
          "wind": 4.7
         },
         {
          "date": "2013-12-07T00:00:00",
          "monthly_mean": 8.194354838709678,
          "precipitation": 0,
          "temp_max": 0,
          "temp_min": -7.1,
          "weather": "sun",
          "wind": 3.1
         },
         {
          "date": "2013-12-08T00:00:00",
          "monthly_mean": 8.194354838709678,
          "precipitation": 0,
          "temp_max": 2.2,
          "temp_min": -6.6,
          "weather": "sun",
          "wind": 2.2
         },
         {
          "date": "2013-12-09T00:00:00",
          "monthly_mean": 8.194354838709678,
          "precipitation": 0,
          "temp_max": 1.1,
          "temp_min": -4.9,
          "weather": "sun",
          "wind": 1.3
         },
         {
          "date": "2013-12-10T00:00:00",
          "monthly_mean": 8.194354838709678,
          "precipitation": 0,
          "temp_max": 5.6,
          "temp_min": 0.6,
          "weather": "sun",
          "wind": 1.5
         },
         {
          "date": "2013-12-11T00:00:00",
          "monthly_mean": 8.194354838709678,
          "precipitation": 0,
          "temp_max": 5,
          "temp_min": -1.6,
          "weather": "sun",
          "wind": 0.8
         },
         {
          "date": "2013-12-12T00:00:00",
          "monthly_mean": 8.194354838709678,
          "precipitation": 6.9,
          "temp_max": 5.6,
          "temp_min": -0.5,
          "weather": "sun",
          "wind": 2.3
         },
         {
          "date": "2013-12-13T00:00:00",
          "monthly_mean": 8.194354838709678,
          "precipitation": 0.5,
          "temp_max": 9.4,
          "temp_min": 5.6,
          "weather": "fog",
          "wind": 2.9
         },
         {
          "date": "2013-12-14T00:00:00",
          "monthly_mean": 8.194354838709678,
          "precipitation": 0,
          "temp_max": 9.4,
          "temp_min": 6.1,
          "weather": "sun",
          "wind": 3.7
         },
         {
          "date": "2013-12-15T00:00:00",
          "monthly_mean": 8.194354838709678,
          "precipitation": 1.3,
          "temp_max": 11.7,
          "temp_min": 8.3,
          "weather": "fog",
          "wind": 3.9
         },
         {
          "date": "2013-12-16T00:00:00",
          "monthly_mean": 8.194354838709678,
          "precipitation": 0.3,
          "temp_max": 10,
          "temp_min": 4.4,
          "weather": "sun",
          "wind": 1
         },
         {
          "date": "2013-12-17T00:00:00",
          "monthly_mean": 8.194354838709678,
          "precipitation": 0,
          "temp_max": 8.3,
          "temp_min": 4.4,
          "weather": "sun",
          "wind": 2.7
         },
         {
          "date": "2013-12-18T00:00:00",
          "monthly_mean": 8.194354838709678,
          "precipitation": 1.3,
          "temp_max": 7.8,
          "temp_min": 2.2,
          "weather": "fog",
          "wind": 2.8
         },
         {
          "date": "2013-12-19T00:00:00",
          "monthly_mean": 8.194354838709678,
          "precipitation": 0,
          "temp_max": 5,
          "temp_min": 0,
          "weather": "sun",
          "wind": 2.1
         },
         {
          "date": "2013-12-20T00:00:00",
          "monthly_mean": 8.194354838709678,
          "precipitation": 5.6,
          "temp_max": 8.3,
          "temp_min": 0.6,
          "weather": "fog",
          "wind": 3.7
         },
         {
          "date": "2013-12-21T00:00:00",
          "monthly_mean": 8.194354838709678,
          "precipitation": 5.6,
          "temp_max": 8.9,
          "temp_min": 5.6,
          "weather": "fog",
          "wind": 2.3
         },
         {
          "date": "2013-12-22T00:00:00",
          "monthly_mean": 8.194354838709678,
          "precipitation": 10.7,
          "temp_max": 10.6,
          "temp_min": 8.3,
          "weather": "fog",
          "wind": 4
         },
         {
          "date": "2013-12-23T00:00:00",
          "monthly_mean": 8.194354838709678,
          "precipitation": 1.5,
          "temp_max": 11.7,
          "temp_min": 6.1,
          "weather": "fog",
          "wind": 5.9
         },
         {
          "date": "2013-12-24T00:00:00",
          "monthly_mean": 8.194354838709678,
          "precipitation": 0,
          "temp_max": 8.3,
          "temp_min": 2.8,
          "weather": "sun",
          "wind": 1.7
         },
         {
          "date": "2013-12-25T00:00:00",
          "monthly_mean": 8.194354838709678,
          "precipitation": 0,
          "temp_max": 6.7,
          "temp_min": 1.7,
          "weather": "sun",
          "wind": 0.8
         },
         {
          "date": "2013-12-26T00:00:00",
          "monthly_mean": 8.194354838709678,
          "precipitation": 0,
          "temp_max": 6.7,
          "temp_min": 0.6,
          "weather": "sun",
          "wind": 0.5
         },
         {
          "date": "2013-12-27T00:00:00",
          "monthly_mean": 8.194354838709678,
          "precipitation": 0.3,
          "temp_max": 8.9,
          "temp_min": 0,
          "weather": "fog",
          "wind": 2.1
         },
         {
          "date": "2013-12-28T00:00:00",
          "monthly_mean": 8.194354838709678,
          "precipitation": 0,
          "temp_max": 9.4,
          "temp_min": 3.3,
          "weather": "sun",
          "wind": 1.3
         },
         {
          "date": "2013-12-29T00:00:00",
          "monthly_mean": 8.194354838709678,
          "precipitation": 0,
          "temp_max": 7.2,
          "temp_min": 1.7,
          "weather": "sun",
          "wind": 1.1
         },
         {
          "date": "2013-12-30T00:00:00",
          "monthly_mean": 8.194354838709678,
          "precipitation": 0.3,
          "temp_max": 8.9,
          "temp_min": 4.4,
          "weather": "sun",
          "wind": 2.6
         },
         {
          "date": "2013-12-31T00:00:00",
          "monthly_mean": 8.194354838709678,
          "precipitation": 0.5,
          "temp_max": 8.3,
          "temp_min": 5,
          "weather": "sun",
          "wind": 1.7
         },
         {
          "date": "2014-01-01T00:00:00",
          "monthly_mean": 8.22903225806452,
          "precipitation": 0,
          "temp_max": 7.2,
          "temp_min": 3.3,
          "weather": "sun",
          "wind": 1.2
         },
         {
          "date": "2014-01-02T00:00:00",
          "monthly_mean": 8.22903225806452,
          "precipitation": 4.1,
          "temp_max": 10.6,
          "temp_min": 6.1,
          "weather": "sun",
          "wind": 3.2
         },
         {
          "date": "2014-01-03T00:00:00",
          "monthly_mean": 8.22903225806452,
          "precipitation": 1.5,
          "temp_max": 8.9,
          "temp_min": 2.8,
          "weather": "fog",
          "wind": 2.6
         },
         {
          "date": "2014-01-04T00:00:00",
          "monthly_mean": 8.22903225806452,
          "precipitation": 0,
          "temp_max": 7.8,
          "temp_min": 0.6,
          "weather": "fog",
          "wind": 2.7
         },
         {
          "date": "2014-01-05T00:00:00",
          "monthly_mean": 8.22903225806452,
          "precipitation": 0,
          "temp_max": 8.3,
          "temp_min": -0.5,
          "weather": "sun",
          "wind": 3.7
         },
         {
          "date": "2014-01-06T00:00:00",
          "monthly_mean": 8.22903225806452,
          "precipitation": 0.3,
          "temp_max": 7.8,
          "temp_min": -0.5,
          "weather": "fog",
          "wind": 2.6
         },
         {
          "date": "2014-01-07T00:00:00",
          "monthly_mean": 8.22903225806452,
          "precipitation": 12.2,
          "temp_max": 8.3,
          "temp_min": 5,
          "weather": "sun",
          "wind": 1.6
         },
         {
          "date": "2014-01-08T00:00:00",
          "monthly_mean": 8.22903225806452,
          "precipitation": 9.7,
          "temp_max": 10,
          "temp_min": 7.2,
          "weather": "fog",
          "wind": 4.6
         },
         {
          "date": "2014-01-09T00:00:00",
          "monthly_mean": 8.22903225806452,
          "precipitation": 5.8,
          "temp_max": 9.4,
          "temp_min": 5.6,
          "weather": "fog",
          "wind": 6.3
         },
         {
          "date": "2014-01-10T00:00:00",
          "monthly_mean": 8.22903225806452,
          "precipitation": 4.3,
          "temp_max": 12.8,
          "temp_min": 8.3,
          "weather": "sun",
          "wind": 7
         },
         {
          "date": "2014-01-11T00:00:00",
          "monthly_mean": 8.22903225806452,
          "precipitation": 21.3,
          "temp_max": 14.4,
          "temp_min": 7.2,
          "weather": "fog",
          "wind": 8.8
         },
         {
          "date": "2014-01-12T00:00:00",
          "monthly_mean": 8.22903225806452,
          "precipitation": 1.5,
          "temp_max": 11.1,
          "temp_min": 5.6,
          "weather": "fog",
          "wind": 8.1
         },
         {
          "date": "2014-01-13T00:00:00",
          "monthly_mean": 8.22903225806452,
          "precipitation": 0,
          "temp_max": 10.6,
          "temp_min": 10,
          "weather": "sun",
          "wind": 7.1
         },
         {
          "date": "2014-01-14T00:00:00",
          "monthly_mean": 8.22903225806452,
          "precipitation": 0,
          "temp_max": 11.1,
          "temp_min": 7.2,
          "weather": "sun",
          "wind": 1.3
         },
         {
          "date": "2014-01-15T00:00:00",
          "monthly_mean": 8.22903225806452,
          "precipitation": 0,
          "temp_max": 11.1,
          "temp_min": 5.6,
          "weather": "sun",
          "wind": 2.5
         },
         {
          "date": "2014-01-16T00:00:00",
          "monthly_mean": 8.22903225806452,
          "precipitation": 0,
          "temp_max": 6.7,
          "temp_min": 4.4,
          "weather": "sun",
          "wind": 2.7
         },
         {
          "date": "2014-01-17T00:00:00",
          "monthly_mean": 8.22903225806452,
          "precipitation": 0,
          "temp_max": 5.6,
          "temp_min": 2.8,
          "weather": "sun",
          "wind": 2.3
         },
         {
          "date": "2014-01-18T00:00:00",
          "monthly_mean": 8.22903225806452,
          "precipitation": 0,
          "temp_max": 9.4,
          "temp_min": 0.6,
          "weather": "sun",
          "wind": 2.2
         },
         {
          "date": "2014-01-19T00:00:00",
          "monthly_mean": 8.22903225806452,
          "precipitation": 0,
          "temp_max": 6.1,
          "temp_min": 3.3,
          "weather": "sun",
          "wind": 2.5
         },
         {
          "date": "2014-01-20T00:00:00",
          "monthly_mean": 8.22903225806452,
          "precipitation": 0,
          "temp_max": 10,
          "temp_min": 2.8,
          "weather": "sun",
          "wind": 2.2
         },
         {
          "date": "2014-01-21T00:00:00",
          "monthly_mean": 8.22903225806452,
          "precipitation": 0,
          "temp_max": 10,
          "temp_min": 1.7,
          "weather": "sun",
          "wind": 1.5
         },
         {
          "date": "2014-01-22T00:00:00",
          "monthly_mean": 8.22903225806452,
          "precipitation": 0.5,
          "temp_max": 9.4,
          "temp_min": 5.6,
          "weather": "sun",
          "wind": 2.6
         },
         {
          "date": "2014-01-23T00:00:00",
          "monthly_mean": 8.22903225806452,
          "precipitation": 0,
          "temp_max": 10,
          "temp_min": 2.8,
          "weather": "fog",
          "wind": 5.2
         },
         {
          "date": "2014-01-24T00:00:00",
          "monthly_mean": 8.22903225806452,
          "precipitation": 0,
          "temp_max": 12.8,
          "temp_min": 1.1,
          "weather": "sun",
          "wind": 1.9
         },
         {
          "date": "2014-01-25T00:00:00",
          "monthly_mean": 8.22903225806452,
          "precipitation": 0,
          "temp_max": 12.2,
          "temp_min": 1.1,
          "weather": "sun",
          "wind": 0.8
         },
         {
          "date": "2014-01-26T00:00:00",
          "monthly_mean": 8.22903225806452,
          "precipitation": 0,
          "temp_max": 8.3,
          "temp_min": 0.6,
          "weather": "sun",
          "wind": 1.3
         },
         {
          "date": "2014-01-27T00:00:00",
          "monthly_mean": 8.22903225806452,
          "precipitation": 0,
          "temp_max": 9.4,
          "temp_min": 1.7,
          "weather": "sun",
          "wind": 1.3
         },
         {
          "date": "2014-01-28T00:00:00",
          "monthly_mean": 8.22903225806452,
          "precipitation": 8.9,
          "temp_max": 11.1,
          "temp_min": 6.1,
          "weather": "fog",
          "wind": 1.6
         },
         {
          "date": "2014-01-29T00:00:00",
          "monthly_mean": 8.22903225806452,
          "precipitation": 21.6,
          "temp_max": 11.1,
          "temp_min": 7.2,
          "weather": "fog",
          "wind": 3.4
         },
         {
          "date": "2014-01-30T00:00:00",
          "monthly_mean": 8.22903225806452,
          "precipitation": 0,
          "temp_max": 8.3,
          "temp_min": 6.1,
          "weather": "sun",
          "wind": 6.4
         },
         {
          "date": "2014-01-31T00:00:00",
          "monthly_mean": 8.22903225806452,
          "precipitation": 2.3,
          "temp_max": 7.8,
          "temp_min": 5.6,
          "weather": "fog",
          "wind": 2.6
         },
         {
          "date": "2014-02-01T00:00:00",
          "monthly_mean": 9.860176991150443,
          "precipitation": 2,
          "temp_max": 7.8,
          "temp_min": 2.8,
          "weather": "sun",
          "wind": 0.8
         },
         {
          "date": "2014-02-02T00:00:00",
          "monthly_mean": 9.860176991150443,
          "precipitation": 0,
          "temp_max": 8.9,
          "temp_min": 1.1,
          "weather": "sun",
          "wind": 2.5
         },
         {
          "date": "2014-02-03T00:00:00",
          "monthly_mean": 9.860176991150443,
          "precipitation": 0,
          "temp_max": 5,
          "temp_min": 0,
          "weather": "sun",
          "wind": 4.3
         },
         {
          "date": "2014-02-04T00:00:00",
          "monthly_mean": 9.860176991150443,
          "precipitation": 0,
          "temp_max": 2.8,
          "temp_min": -2.1,
          "weather": "sun",
          "wind": 4.7
         },
         {
          "date": "2014-02-05T00:00:00",
          "monthly_mean": 9.860176991150443,
          "precipitation": 0,
          "temp_max": -0.5,
          "temp_min": -5.5,
          "weather": "sun",
          "wind": 6.6
         },
         {
          "date": "2014-02-06T00:00:00",
          "monthly_mean": 9.860176991150443,
          "precipitation": 0,
          "temp_max": -1.6,
          "temp_min": -6,
          "weather": "sun",
          "wind": 4.5
         },
         {
          "date": "2014-02-07T00:00:00",
          "monthly_mean": 9.860176991150443,
          "precipitation": 0,
          "temp_max": 3.3,
          "temp_min": -4.9,
          "weather": "sun",
          "wind": 4.2
         },
         {
          "date": "2014-02-08T00:00:00",
          "monthly_mean": 9.860176991150443,
          "precipitation": 5.1,
          "temp_max": 5.6,
          "temp_min": -0.5,
          "weather": "fog",
          "wind": 4.6
         },
         {
          "date": "2014-02-09T00:00:00",
          "monthly_mean": 9.860176991150443,
          "precipitation": 0.5,
          "temp_max": 3.9,
          "temp_min": 0,
          "weather": "fog",
          "wind": 2.4
         },
         {
          "date": "2014-02-10T00:00:00",
          "monthly_mean": 9.860176991150443,
          "precipitation": 18.3,
          "temp_max": 10,
          "temp_min": 2.2,
          "weather": "fog",
          "wind": 4.7
         },
         {
          "date": "2014-02-11T00:00:00",
          "monthly_mean": 9.860176991150443,
          "precipitation": 17,
          "temp_max": 12.2,
          "temp_min": 5.6,
          "weather": "fog",
          "wind": 3.8
         },
         {
          "date": "2014-02-12T00:00:00",
          "monthly_mean": 9.860176991150443,
          "precipitation": 4.6,
          "temp_max": 12.2,
          "temp_min": 7.2,
          "weather": "fog",
          "wind": 6.4
         },
         {
          "date": "2014-02-13T00:00:00",
          "monthly_mean": 9.860176991150443,
          "precipitation": 1.8,
          "temp_max": 12.8,
          "temp_min": 7.8,
          "weather": "fog",
          "wind": 6.3
         },
         {
          "date": "2014-02-14T00:00:00",
          "monthly_mean": 9.860176991150443,
          "precipitation": 9.4,
          "temp_max": 11.7,
          "temp_min": 6.1,
          "weather": "fog",
          "wind": 6.4
         },
         {
          "date": "2014-02-15T00:00:00",
          "monthly_mean": 9.860176991150443,
          "precipitation": 11.7,
          "temp_max": 11.1,
          "temp_min": 5,
          "weather": "fog",
          "wind": 5.1
         },
         {
          "date": "2014-02-16T00:00:00",
          "monthly_mean": 9.860176991150443,
          "precipitation": 26.4,
          "temp_max": 9.4,
          "temp_min": 3.9,
          "weather": "fog",
          "wind": 7.9
         },
         {
          "date": "2014-02-17T00:00:00",
          "monthly_mean": 9.860176991150443,
          "precipitation": 14.5,
          "temp_max": 8.3,
          "temp_min": 4.4,
          "weather": "fog",
          "wind": 5.5
         },
         {
          "date": "2014-02-18T00:00:00",
          "monthly_mean": 9.860176991150443,
          "precipitation": 15.2,
          "temp_max": 8.9,
          "temp_min": 5,
          "weather": "fog",
          "wind": 6.2
         },
         {
          "date": "2014-02-19T00:00:00",
          "monthly_mean": 9.860176991150443,
          "precipitation": 1,
          "temp_max": 8.3,
          "temp_min": 3.9,
          "weather": "sun",
          "wind": 6
         },
         {
          "date": "2014-02-20T00:00:00",
          "monthly_mean": 9.860176991150443,
          "precipitation": 3,
          "temp_max": 10,
          "temp_min": 5.6,
          "weather": "fog",
          "wind": 6.9
         },
         {
          "date": "2014-02-21T00:00:00",
          "monthly_mean": 9.860176991150443,
          "precipitation": 2.8,
          "temp_max": 6.7,
          "temp_min": 3.9,
          "weather": "fog",
          "wind": 2.9
         },
         {
          "date": "2014-02-22T00:00:00",
          "monthly_mean": 9.860176991150443,
          "precipitation": 2.5,
          "temp_max": 5.6,
          "temp_min": 2.8,
          "weather": "fog",
          "wind": 3.1
         },
         {
          "date": "2014-02-23T00:00:00",
          "monthly_mean": 9.860176991150443,
          "precipitation": 6.1,
          "temp_max": 7.2,
          "temp_min": 3.9,
          "weather": "fog",
          "wind": 2.6
         },
         {
          "date": "2014-02-24T00:00:00",
          "monthly_mean": 9.860176991150443,
          "precipitation": 13,
          "temp_max": 6.7,
          "temp_min": 3.3,
          "weather": "fog",
          "wind": 3.2
         },
         {
          "date": "2014-02-25T00:00:00",
          "monthly_mean": 9.860176991150443,
          "precipitation": 0.3,
          "temp_max": 12.2,
          "temp_min": 3.9,
          "weather": "fog",
          "wind": 4.5
         },
         {
          "date": "2014-02-26T00:00:00",
          "monthly_mean": 9.860176991150443,
          "precipitation": 0,
          "temp_max": 13.9,
          "temp_min": 5.6,
          "weather": "sun",
          "wind": 2.5
         },
         {
          "date": "2014-02-27T00:00:00",
          "monthly_mean": 9.860176991150443,
          "precipitation": 0,
          "temp_max": 12.8,
          "temp_min": 4.4,
          "weather": "sun",
          "wind": 2.3
         },
         {
          "date": "2014-02-28T00:00:00",
          "monthly_mean": 9.860176991150443,
          "precipitation": 0,
          "temp_max": 14.4,
          "temp_min": 4.4,
          "weather": "sun",
          "wind": 5.9
         },
         {
          "date": "2014-03-01T00:00:00",
          "monthly_mean": 12.387096774193543,
          "precipitation": 0.5,
          "temp_max": 7.2,
          "temp_min": 4.4,
          "weather": "sun",
          "wind": 4.7
         },
         {
          "date": "2014-03-02T00:00:00",
          "monthly_mean": 12.387096774193543,
          "precipitation": 19.1,
          "temp_max": 11.1,
          "temp_min": 2.8,
          "weather": "fog",
          "wind": 5.7
         },
         {
          "date": "2014-03-03T00:00:00",
          "monthly_mean": 12.387096774193543,
          "precipitation": 10.7,
          "temp_max": 14.4,
          "temp_min": 8.9,
          "weather": "fog",
          "wind": 5.1
         },
         {
          "date": "2014-03-04T00:00:00",
          "monthly_mean": 12.387096774193543,
          "precipitation": 16.5,
          "temp_max": 13.9,
          "temp_min": 7.8,
          "weather": "fog",
          "wind": 3.9
         },
         {
          "date": "2014-03-05T00:00:00",
          "monthly_mean": 12.387096774193543,
          "precipitation": 46.7,
          "temp_max": 15.6,
          "temp_min": 10.6,
          "weather": "fog",
          "wind": 3.9
         },
         {
          "date": "2014-03-06T00:00:00",
          "monthly_mean": 12.387096774193543,
          "precipitation": 3,
          "temp_max": 13.3,
          "temp_min": 10,
          "weather": "fog",
          "wind": 6.2
         },
         {
          "date": "2014-03-07T00:00:00",
          "monthly_mean": 12.387096774193543,
          "precipitation": 0,
          "temp_max": 15.6,
          "temp_min": 8.9,
          "weather": "sun",
          "wind": 4.2
         },
         {
          "date": "2014-03-08T00:00:00",
          "monthly_mean": 12.387096774193543,
          "precipitation": 32.3,
          "temp_max": 12.8,
          "temp_min": 6.7,
          "weather": "fog",
          "wind": 2.7
         },
         {
          "date": "2014-03-09T00:00:00",
          "monthly_mean": 12.387096774193543,
          "precipitation": 4.3,
          "temp_max": 15,
          "temp_min": 9.4,
          "weather": "fog",
          "wind": 4.3
         },
         {
          "date": "2014-03-10T00:00:00",
          "monthly_mean": 12.387096774193543,
          "precipitation": 18.8,
          "temp_max": 12.2,
          "temp_min": 6.1,
          "weather": "fog",
          "wind": 2.2
         },
         {
          "date": "2014-03-11T00:00:00",
          "monthly_mean": 12.387096774193543,
          "precipitation": 0,
          "temp_max": 14.4,
          "temp_min": 4.4,
          "weather": "fog",
          "wind": 2.3
         },
         {
          "date": "2014-03-12T00:00:00",
          "monthly_mean": 12.387096774193543,
          "precipitation": 0,
          "temp_max": 16.1,
          "temp_min": 3.3,
          "weather": "fog",
          "wind": 1.9
         },
         {
          "date": "2014-03-13T00:00:00",
          "monthly_mean": 12.387096774193543,
          "precipitation": 0.5,
          "temp_max": 13.9,
          "temp_min": 5,
          "weather": "fog",
          "wind": 2.5
         },
         {
          "date": "2014-03-14T00:00:00",
          "monthly_mean": 12.387096774193543,
          "precipitation": 6.9,
          "temp_max": 14.4,
          "temp_min": 8.3,
          "weather": "fog",
          "wind": 6.1
         },
         {
          "date": "2014-03-15T00:00:00",
          "monthly_mean": 12.387096774193543,
          "precipitation": 8.1,
          "temp_max": 16.7,
          "temp_min": 4.4,
          "weather": "fog",
          "wind": 3
         },
         {
          "date": "2014-03-16T00:00:00",
          "monthly_mean": 12.387096774193543,
          "precipitation": 27.7,
          "temp_max": 10.6,
          "temp_min": 4.4,
          "weather": "fog",
          "wind": 3.8
         },
         {
          "date": "2014-03-17T00:00:00",
          "monthly_mean": 12.387096774193543,
          "precipitation": 0.3,
          "temp_max": 10,
          "temp_min": 2.8,
          "weather": "fog",
          "wind": 3.2
         },
         {
          "date": "2014-03-18T00:00:00",
          "monthly_mean": 12.387096774193543,
          "precipitation": 0,
          "temp_max": 10,
          "temp_min": 3.3,
          "weather": "sun",
          "wind": 1.6
         },
         {
          "date": "2014-03-19T00:00:00",
          "monthly_mean": 12.387096774193543,
          "precipitation": 0.5,
          "temp_max": 11.1,
          "temp_min": 3.3,
          "weather": "sun",
          "wind": 5.1
         },
         {
          "date": "2014-03-20T00:00:00",
          "monthly_mean": 12.387096774193543,
          "precipitation": 0,
          "temp_max": 11.1,
          "temp_min": 1.7,
          "weather": "sun",
          "wind": 3
         },
         {
          "date": "2014-03-21T00:00:00",
          "monthly_mean": 12.387096774193543,
          "precipitation": 0,
          "temp_max": 10.6,
          "temp_min": 2.8,
          "weather": "sun",
          "wind": 3.8
         },
         {
          "date": "2014-03-22T00:00:00",
          "monthly_mean": 12.387096774193543,
          "precipitation": 0,
          "temp_max": 11.1,
          "temp_min": 1.1,
          "weather": "sun",
          "wind": 1.8
         },
         {
          "date": "2014-03-23T00:00:00",
          "monthly_mean": 12.387096774193543,
          "precipitation": 0,
          "temp_max": 12.8,
          "temp_min": 4.4,
          "weather": "sun",
          "wind": 3.3
         },
         {
          "date": "2014-03-24T00:00:00",
          "monthly_mean": 12.387096774193543,
          "precipitation": 0,
          "temp_max": 18.9,
          "temp_min": 2.8,
          "weather": "sun",
          "wind": 2.2
         },
         {
          "date": "2014-03-25T00:00:00",
          "monthly_mean": 12.387096774193543,
          "precipitation": 4.1,
          "temp_max": 13.9,
          "temp_min": 6.7,
          "weather": "fog",
          "wind": 4.4
         },
         {
          "date": "2014-03-26T00:00:00",
          "monthly_mean": 12.387096774193543,
          "precipitation": 3.6,
          "temp_max": 11.1,
          "temp_min": 5.6,
          "weather": "fog",
          "wind": 2.4
         },
         {
          "date": "2014-03-27T00:00:00",
          "monthly_mean": 12.387096774193543,
          "precipitation": 0.3,
          "temp_max": 12.2,
          "temp_min": 6.7,
          "weather": "fog",
          "wind": 2.8
         },
         {
          "date": "2014-03-28T00:00:00",
          "monthly_mean": 12.387096774193543,
          "precipitation": 22.1,
          "temp_max": 11.7,
          "temp_min": 7.2,
          "weather": "fog",
          "wind": 3.9
         },
         {
          "date": "2014-03-29T00:00:00",
          "monthly_mean": 12.387096774193543,
          "precipitation": 14,
          "temp_max": 11.7,
          "temp_min": 7.2,
          "weather": "fog",
          "wind": 5.1
         },
         {
          "date": "2014-03-30T00:00:00",
          "monthly_mean": 12.387096774193543,
          "precipitation": 0,
          "temp_max": 11.1,
          "temp_min": 5,
          "weather": "sun",
          "wind": 5.1
         },
         {
          "date": "2014-03-31T00:00:00",
          "monthly_mean": 12.387096774193543,
          "precipitation": 0,
          "temp_max": 15.6,
          "temp_min": 2.2,
          "weather": "sun",
          "wind": 3.8
         },
         {
          "date": "2014-04-01T00:00:00",
          "monthly_mean": 15.02,
          "precipitation": 0,
          "temp_max": 14.4,
          "temp_min": 6.7,
          "weather": "sun",
          "wind": 2.8
         },
         {
          "date": "2014-04-02T00:00:00",
          "monthly_mean": 15.02,
          "precipitation": 0,
          "temp_max": 14.4,
          "temp_min": 5.6,
          "weather": "sun",
          "wind": 4.2
         },
         {
          "date": "2014-04-03T00:00:00",
          "monthly_mean": 15.02,
          "precipitation": 2.5,
          "temp_max": 13.3,
          "temp_min": 6.1,
          "weather": "sun",
          "wind": 3.9
         },
         {
          "date": "2014-04-04T00:00:00",
          "monthly_mean": 15.02,
          "precipitation": 0,
          "temp_max": 12.8,
          "temp_min": 6.1,
          "weather": "sun",
          "wind": 4.7
         },
         {
          "date": "2014-04-05T00:00:00",
          "monthly_mean": 15.02,
          "precipitation": 4.6,
          "temp_max": 11.7,
          "temp_min": 7.8,
          "weather": "fog",
          "wind": 4.3
         },
         {
          "date": "2014-04-06T00:00:00",
          "monthly_mean": 15.02,
          "precipitation": 0,
          "temp_max": 13.9,
          "temp_min": 8.3,
          "weather": "sun",
          "wind": 2.6
         },
         {
          "date": "2014-04-07T00:00:00",
          "monthly_mean": 15.02,
          "precipitation": 0,
          "temp_max": 21.1,
          "temp_min": 9.4,
          "weather": "sun",
          "wind": 2.5
         },
         {
          "date": "2014-04-08T00:00:00",
          "monthly_mean": 15.02,
          "precipitation": 4.6,
          "temp_max": 15.6,
          "temp_min": 8.3,
          "weather": "fog",
          "wind": 4.2
         },
         {
          "date": "2014-04-09T00:00:00",
          "monthly_mean": 15.02,
          "precipitation": 0,
          "temp_max": 14.4,
          "temp_min": 6.7,
          "weather": "sun",
          "wind": 2.9
         },
         {
          "date": "2014-04-10T00:00:00",
          "monthly_mean": 15.02,
          "precipitation": 0,
          "temp_max": 15,
          "temp_min": 6.7,
          "weather": "sun",
          "wind": 3.6
         },
         {
          "date": "2014-04-11T00:00:00",
          "monthly_mean": 15.02,
          "precipitation": 0,
          "temp_max": 17.2,
          "temp_min": 5,
          "weather": "sun",
          "wind": 2.8
         },
         {
          "date": "2014-04-12T00:00:00",
          "monthly_mean": 15.02,
          "precipitation": 0,
          "temp_max": 16.1,
          "temp_min": 7.8,
          "weather": "sun",
          "wind": 4.4
         },
         {
          "date": "2014-04-13T00:00:00",
          "monthly_mean": 15.02,
          "precipitation": 0,
          "temp_max": 20.6,
          "temp_min": 5.6,
          "weather": "sun",
          "wind": 3.1
         },
         {
          "date": "2014-04-14T00:00:00",
          "monthly_mean": 15.02,
          "precipitation": 0,
          "temp_max": 20,
          "temp_min": 5.6,
          "weather": "sun",
          "wind": 2.6
         },
         {
          "date": "2014-04-15T00:00:00",
          "monthly_mean": 15.02,
          "precipitation": 0.5,
          "temp_max": 14.4,
          "temp_min": 7.8,
          "weather": "sun",
          "wind": 4
         },
         {
          "date": "2014-04-16T00:00:00",
          "monthly_mean": 15.02,
          "precipitation": 10.9,
          "temp_max": 11.1,
          "temp_min": 8.9,
          "weather": "fog",
          "wind": 4.6
         },
         {
          "date": "2014-04-17T00:00:00",
          "monthly_mean": 15.02,
          "precipitation": 18.5,
          "temp_max": 11.7,
          "temp_min": 7.2,
          "weather": "fog",
          "wind": 4.7
         },
         {
          "date": "2014-04-18T00:00:00",
          "monthly_mean": 15.02,
          "precipitation": 0,
          "temp_max": 14.4,
          "temp_min": 5.6,
          "weather": "sun",
          "wind": 3.8
         },
         {
          "date": "2014-04-19T00:00:00",
          "monthly_mean": 15.02,
          "precipitation": 13.7,
          "temp_max": 11.7,
          "temp_min": 5.6,
          "weather": "fog",
          "wind": 4.7
         },
         {
          "date": "2014-04-20T00:00:00",
          "monthly_mean": 15.02,
          "precipitation": 0,
          "temp_max": 15.6,
          "temp_min": 5.6,
          "weather": "sun",
          "wind": 2.7
         },
         {
          "date": "2014-04-21T00:00:00",
          "monthly_mean": 15.02,
          "precipitation": 5.1,
          "temp_max": 17.2,
          "temp_min": 7.8,
          "weather": "fog",
          "wind": 2.5
         },
         {
          "date": "2014-04-22T00:00:00",
          "monthly_mean": 15.02,
          "precipitation": 14.2,
          "temp_max": 12.2,
          "temp_min": 5,
          "weather": "fog",
          "wind": 4.2
         },
         {
          "date": "2014-04-23T00:00:00",
          "monthly_mean": 15.02,
          "precipitation": 8.9,
          "temp_max": 11.7,
          "temp_min": 6.1,
          "weather": "fog",
          "wind": 5
         },
         {
          "date": "2014-04-24T00:00:00",
          "monthly_mean": 15.02,
          "precipitation": 12.4,
          "temp_max": 13.9,
          "temp_min": 6.1,
          "weather": "fog",
          "wind": 5.3
         },
         {
          "date": "2014-04-25T00:00:00",
          "monthly_mean": 15.02,
          "precipitation": 0,
          "temp_max": 14.4,
          "temp_min": 5.6,
          "weather": "sun",
          "wind": 2.3
         },
         {
          "date": "2014-04-26T00:00:00",
          "monthly_mean": 15.02,
          "precipitation": 3.3,
          "temp_max": 15,
          "temp_min": 5.6,
          "weather": "sun",
          "wind": 3.9
         },
         {
          "date": "2014-04-27T00:00:00",
          "monthly_mean": 15.02,
          "precipitation": 6.9,
          "temp_max": 11.1,
          "temp_min": 6.1,
          "weather": "fog",
          "wind": 5.8
         },
         {
          "date": "2014-04-28T00:00:00",
          "monthly_mean": 15.02,
          "precipitation": 0,
          "temp_max": 16.1,
          "temp_min": 4.4,
          "weather": "sun",
          "wind": 2.6
         },
         {
          "date": "2014-04-29T00:00:00",
          "monthly_mean": 15.02,
          "precipitation": 0,
          "temp_max": 25,
          "temp_min": 9.4,
          "weather": "sun",
          "wind": 2.3
         },
         {
          "date": "2014-04-30T00:00:00",
          "monthly_mean": 15.02,
          "precipitation": 0,
          "temp_max": 27.8,
          "temp_min": 9.4,
          "weather": "sun",
          "wind": 3.9
         },
         {
          "date": "2014-05-01T00:00:00",
          "monthly_mean": 19.295967741935485,
          "precipitation": 0,
          "temp_max": 29.4,
          "temp_min": 11.1,
          "weather": "sun",
          "wind": 3
         },
         {
          "date": "2014-05-02T00:00:00",
          "monthly_mean": 19.295967741935485,
          "precipitation": 0,
          "temp_max": 18.3,
          "temp_min": 10.6,
          "weather": "sun",
          "wind": 4.7
         },
         {
          "date": "2014-05-03T00:00:00",
          "monthly_mean": 19.295967741935485,
          "precipitation": 33.3,
          "temp_max": 15,
          "temp_min": 8.9,
          "weather": "fog",
          "wind": 3.4
         },
         {
          "date": "2014-05-04T00:00:00",
          "monthly_mean": 19.295967741935485,
          "precipitation": 16,
          "temp_max": 14.4,
          "temp_min": 8.9,
          "weather": "fog",
          "wind": 4.2
         },
         {
          "date": "2014-05-05T00:00:00",
          "monthly_mean": 19.295967741935485,
          "precipitation": 5.1,
          "temp_max": 15.6,
          "temp_min": 9.4,
          "weather": "fog",
          "wind": 3.8
         },
         {
          "date": "2014-05-06T00:00:00",
          "monthly_mean": 19.295967741935485,
          "precipitation": 0,
          "temp_max": 16.7,
          "temp_min": 8.3,
          "weather": "sun",
          "wind": 2.6
         },
         {
          "date": "2014-05-07T00:00:00",
          "monthly_mean": 19.295967741935485,
          "precipitation": 0,
          "temp_max": 18.3,
          "temp_min": 7.2,
          "weather": "sun",
          "wind": 1.7
         },
         {
          "date": "2014-05-08T00:00:00",
          "monthly_mean": 19.295967741935485,
          "precipitation": 13.7,
          "temp_max": 13.9,
          "temp_min": 9.4,
          "weather": "fog",
          "wind": 3.4
         },
         {
          "date": "2014-05-09T00:00:00",
          "monthly_mean": 19.295967741935485,
          "precipitation": 2,
          "temp_max": 13.3,
          "temp_min": 7.2,
          "weather": "sun",
          "wind": 5.6
         },
         {
          "date": "2014-05-10T00:00:00",
          "monthly_mean": 19.295967741935485,
          "precipitation": 0.5,
          "temp_max": 15.6,
          "temp_min": 7.2,
          "weather": "fog",
          "wind": 2.1
         },
         {
          "date": "2014-05-11T00:00:00",
          "monthly_mean": 19.295967741935485,
          "precipitation": 0,
          "temp_max": 18.9,
          "temp_min": 8.3,
          "weather": "sun",
          "wind": 1.7
         },
         {
          "date": "2014-05-12T00:00:00",
          "monthly_mean": 19.295967741935485,
          "precipitation": 0,
          "temp_max": 24.4,
          "temp_min": 9.4,
          "weather": "sun",
          "wind": 2.7
         },
         {
          "date": "2014-05-13T00:00:00",
          "monthly_mean": 19.295967741935485,
          "precipitation": 0,
          "temp_max": 26.7,
          "temp_min": 12.8,
          "weather": "sun",
          "wind": 3.8
         },
         {
          "date": "2014-05-14T00:00:00",
          "monthly_mean": 19.295967741935485,
          "precipitation": 0,
          "temp_max": 27.8,
          "temp_min": 13.3,
          "weather": "sun",
          "wind": 3.3
         },
         {
          "date": "2014-05-15T00:00:00",
          "monthly_mean": 19.295967741935485,
          "precipitation": 0,
          "temp_max": 26.7,
          "temp_min": 12.8,
          "weather": "sun",
          "wind": 3
         },
         {
          "date": "2014-05-16T00:00:00",
          "monthly_mean": 19.295967741935485,
          "precipitation": 0,
          "temp_max": 20,
          "temp_min": 11.7,
          "weather": "sun",
          "wind": 4.1
         },
         {
          "date": "2014-05-17T00:00:00",
          "monthly_mean": 19.295967741935485,
          "precipitation": 0,
          "temp_max": 20,
          "temp_min": 11.7,
          "weather": "sun",
          "wind": 3.2
         },
         {
          "date": "2014-05-18T00:00:00",
          "monthly_mean": 19.295967741935485,
          "precipitation": 0,
          "temp_max": 20,
          "temp_min": 10.6,
          "weather": "sun",
          "wind": 3.2
         },
         {
          "date": "2014-05-19T00:00:00",
          "monthly_mean": 19.295967741935485,
          "precipitation": 0,
          "temp_max": 21.1,
          "temp_min": 10,
          "weather": "sun",
          "wind": 2.2
         },
         {
          "date": "2014-05-20T00:00:00",
          "monthly_mean": 19.295967741935485,
          "precipitation": 0,
          "temp_max": 22.2,
          "temp_min": 10,
          "weather": "sun",
          "wind": 2.7
         },
         {
          "date": "2014-05-21T00:00:00",
          "monthly_mean": 19.295967741935485,
          "precipitation": 0,
          "temp_max": 20,
          "temp_min": 10.6,
          "weather": "sun",
          "wind": 1.7
         },
         {
          "date": "2014-05-22T00:00:00",
          "monthly_mean": 19.295967741935485,
          "precipitation": 0,
          "temp_max": 24.4,
          "temp_min": 11.7,
          "weather": "sun",
          "wind": 2.5
         },
         {
          "date": "2014-05-23T00:00:00",
          "monthly_mean": 19.295967741935485,
          "precipitation": 3.8,
          "temp_max": 20,
          "temp_min": 12.8,
          "weather": "fog",
          "wind": 4
         },
         {
          "date": "2014-05-24T00:00:00",
          "monthly_mean": 19.295967741935485,
          "precipitation": 0,
          "temp_max": 18.3,
          "temp_min": 11.1,
          "weather": "sun",
          "wind": 2.4
         },
         {
          "date": "2014-05-25T00:00:00",
          "monthly_mean": 19.295967741935485,
          "precipitation": 5.6,
          "temp_max": 15,
          "temp_min": 10.6,
          "weather": "fog",
          "wind": 1.4
         },
         {
          "date": "2014-05-26T00:00:00",
          "monthly_mean": 19.295967741935485,
          "precipitation": 0,
          "temp_max": 18.3,
          "temp_min": 11.1,
          "weather": "sun",
          "wind": 4.5
         },
         {
          "date": "2014-05-27T00:00:00",
          "monthly_mean": 19.295967741935485,
          "precipitation": 0,
          "temp_max": 20,
          "temp_min": 10,
          "weather": "sun",
          "wind": 2.5
         },
         {
          "date": "2014-05-28T00:00:00",
          "monthly_mean": 19.295967741935485,
          "precipitation": 0,
          "temp_max": 18.9,
          "temp_min": 10,
          "weather": "sun",
          "wind": 3.4
         },
         {
          "date": "2014-05-29T00:00:00",
          "monthly_mean": 19.295967741935485,
          "precipitation": 0,
          "temp_max": 18.9,
          "temp_min": 11.1,
          "weather": "sun",
          "wind": 4.3
         },
         {
          "date": "2014-05-30T00:00:00",
          "monthly_mean": 19.295967741935485,
          "precipitation": 0,
          "temp_max": 20.6,
          "temp_min": 8.9,
          "weather": "sun",
          "wind": 4.5
         },
         {
          "date": "2014-05-31T00:00:00",
          "monthly_mean": 19.295967741935485,
          "precipitation": 0,
          "temp_max": 23.3,
          "temp_min": 10,
          "weather": "sun",
          "wind": 2.2
         },
         {
          "date": "2014-06-01T00:00:00",
          "monthly_mean": 22.4,
          "precipitation": 0,
          "temp_max": 22.2,
          "temp_min": 10.6,
          "weather": "sun",
          "wind": 2.3
         },
         {
          "date": "2014-06-02T00:00:00",
          "monthly_mean": 22.4,
          "precipitation": 0,
          "temp_max": 23.3,
          "temp_min": 11.1,
          "weather": "sun",
          "wind": 2.4
         },
         {
          "date": "2014-06-03T00:00:00",
          "monthly_mean": 22.4,
          "precipitation": 0,
          "temp_max": 18.3,
          "temp_min": 11.1,
          "weather": "sun",
          "wind": 3.2
         },
         {
          "date": "2014-06-04T00:00:00",
          "monthly_mean": 22.4,
          "precipitation": 0,
          "temp_max": 19.4,
          "temp_min": 10,
          "weather": "sun",
          "wind": 2.6
         },
         {
          "date": "2014-06-05T00:00:00",
          "monthly_mean": 22.4,
          "precipitation": 0,
          "temp_max": 22.2,
          "temp_min": 10,
          "weather": "sun",
          "wind": 2.4
         },
         {
          "date": "2014-06-06T00:00:00",
          "monthly_mean": 22.4,
          "precipitation": 0,
          "temp_max": 25,
          "temp_min": 10.6,
          "weather": "sun",
          "wind": 3.2
         },
         {
          "date": "2014-06-07T00:00:00",
          "monthly_mean": 22.4,
          "precipitation": 0,
          "temp_max": 24.4,
          "temp_min": 13.3,
          "weather": "sun",
          "wind": 3.1
         },
         {
          "date": "2014-06-08T00:00:00",
          "monthly_mean": 22.4,
          "precipitation": 0,
          "temp_max": 23.3,
          "temp_min": 12.2,
          "weather": "sun",
          "wind": 2.1
         },
         {
          "date": "2014-06-09T00:00:00",
          "monthly_mean": 22.4,
          "precipitation": 0,
          "temp_max": 21.1,
          "temp_min": 13.3,
          "weather": "sun",
          "wind": 3.6
         },
         {
          "date": "2014-06-10T00:00:00",
          "monthly_mean": 22.4,
          "precipitation": 0,
          "temp_max": 20,
          "temp_min": 12.2,
          "weather": "sun",
          "wind": 2.9
         },
         {
          "date": "2014-06-11T00:00:00",
          "monthly_mean": 22.4,
          "precipitation": 0,
          "temp_max": 23.9,
          "temp_min": 11.1,
          "weather": "sun",
          "wind": 2.7
         },
         {
          "date": "2014-06-12T00:00:00",
          "monthly_mean": 22.4,
          "precipitation": 1.8,
          "temp_max": 21.7,
          "temp_min": 12.2,
          "weather": "sun",
          "wind": 4
         },
         {
          "date": "2014-06-13T00:00:00",
          "monthly_mean": 22.4,
          "precipitation": 6.4,
          "temp_max": 15.6,
          "temp_min": 11.1,
          "weather": "fog",
          "wind": 5
         },
         {
          "date": "2014-06-14T00:00:00",
          "monthly_mean": 22.4,
          "precipitation": 0,
          "temp_max": 17.8,
          "temp_min": 11.7,
          "weather": "sun",
          "wind": 3.2
         },
         {
          "date": "2014-06-15T00:00:00",
          "monthly_mean": 22.4,
          "precipitation": 0.5,
          "temp_max": 18.3,
          "temp_min": 10,
          "weather": "fog",
          "wind": 3.6
         },
         {
          "date": "2014-06-16T00:00:00",
          "monthly_mean": 22.4,
          "precipitation": 3.6,
          "temp_max": 17.8,
          "temp_min": 8.9,
          "weather": "fog",
          "wind": 2.4
         },
         {
          "date": "2014-06-17T00:00:00",
          "monthly_mean": 22.4,
          "precipitation": 1.3,
          "temp_max": 17.8,
          "temp_min": 10,
          "weather": "fog",
          "wind": 3
         },
         {
          "date": "2014-06-18T00:00:00",
          "monthly_mean": 22.4,
          "precipitation": 0,
          "temp_max": 18.9,
          "temp_min": 11.1,
          "weather": "sun",
          "wind": 2.7
         },
         {
          "date": "2014-06-19T00:00:00",
          "monthly_mean": 22.4,
          "precipitation": 0.8,
          "temp_max": 25.6,
          "temp_min": 11.7,
          "weather": "sun",
          "wind": 3.7
         },
         {
          "date": "2014-06-20T00:00:00",
          "monthly_mean": 22.4,
          "precipitation": 0.3,
          "temp_max": 20,
          "temp_min": 10,
          "weather": "sun",
          "wind": 3.4
         },
         {
          "date": "2014-06-21T00:00:00",
          "monthly_mean": 22.4,
          "precipitation": 0,
          "temp_max": 22.2,
          "temp_min": 10.6,
          "weather": "sun",
          "wind": 3.6
         },
         {
          "date": "2014-06-22T00:00:00",
          "monthly_mean": 22.4,
          "precipitation": 0,
          "temp_max": 25,
          "temp_min": 11.1,
          "weather": "sun",
          "wind": 2.7
         },
         {
          "date": "2014-06-23T00:00:00",
          "monthly_mean": 22.4,
          "precipitation": 0,
          "temp_max": 25,
          "temp_min": 13.3,
          "weather": "sun",
          "wind": 2.5
         },
         {
          "date": "2014-06-24T00:00:00",
          "monthly_mean": 22.4,
          "precipitation": 0,
          "temp_max": 24.4,
          "temp_min": 14.4,
          "weather": "sun",
          "wind": 2.5
         },
         {
          "date": "2014-06-25T00:00:00",
          "monthly_mean": 22.4,
          "precipitation": 0,
          "temp_max": 26.1,
          "temp_min": 13.9,
          "weather": "sun",
          "wind": 2.4
         },
         {
          "date": "2014-06-26T00:00:00",
          "monthly_mean": 22.4,
          "precipitation": 0,
          "temp_max": 21.1,
          "temp_min": 14.4,
          "weather": "sun",
          "wind": 4.1
         },
         {
          "date": "2014-06-27T00:00:00",
          "monthly_mean": 22.4,
          "precipitation": 1.8,
          "temp_max": 21.1,
          "temp_min": 13.9,
          "weather": "fog",
          "wind": 4.5
         },
         {
          "date": "2014-06-28T00:00:00",
          "monthly_mean": 22.4,
          "precipitation": 2.3,
          "temp_max": 20,
          "temp_min": 13.3,
          "weather": "fog",
          "wind": 4.3
         },
         {
          "date": "2014-06-29T00:00:00",
          "monthly_mean": 22.4,
          "precipitation": 0,
          "temp_max": 20.6,
          "temp_min": 12.8,
          "weather": "sun",
          "wind": 3.2
         },
         {
          "date": "2014-06-30T00:00:00",
          "monthly_mean": 22.4,
          "precipitation": 0,
          "temp_max": 25.6,
          "temp_min": 12.8,
          "weather": "sun",
          "wind": 4.4
         },
         {
          "date": "2014-07-01T00:00:00",
          "monthly_mean": 25.9983870967742,
          "precipitation": 0,
          "temp_max": 34.4,
          "temp_min": 15.6,
          "weather": "sun",
          "wind": 3.5
         },
         {
          "date": "2014-07-02T00:00:00",
          "monthly_mean": 25.9983870967742,
          "precipitation": 0,
          "temp_max": 27.2,
          "temp_min": 14.4,
          "weather": "sun",
          "wind": 3.6
         },
         {
          "date": "2014-07-03T00:00:00",
          "monthly_mean": 25.9983870967742,
          "precipitation": 0,
          "temp_max": 21.7,
          "temp_min": 13.9,
          "weather": "sun",
          "wind": 3.1
         },
         {
          "date": "2014-07-04T00:00:00",
          "monthly_mean": 25.9983870967742,
          "precipitation": 0,
          "temp_max": 23.9,
          "temp_min": 13.9,
          "weather": "sun",
          "wind": 3.6
         },
         {
          "date": "2014-07-05T00:00:00",
          "monthly_mean": 25.9983870967742,
          "precipitation": 0,
          "temp_max": 24.4,
          "temp_min": 13.3,
          "weather": "fog",
          "wind": 2.2
         },
         {
          "date": "2014-07-06T00:00:00",
          "monthly_mean": 25.9983870967742,
          "precipitation": 0,
          "temp_max": 28.9,
          "temp_min": 15,
          "weather": "sun",
          "wind": 3
         },
         {
          "date": "2014-07-07T00:00:00",
          "monthly_mean": 25.9983870967742,
          "precipitation": 0,
          "temp_max": 27.2,
          "temp_min": 17.8,
          "weather": "fog",
          "wind": 4.1
         },
         {
          "date": "2014-07-08T00:00:00",
          "monthly_mean": 25.9983870967742,
          "precipitation": 0,
          "temp_max": 30,
          "temp_min": 15.6,
          "weather": "sun",
          "wind": 3.5
         },
         {
          "date": "2014-07-09T00:00:00",
          "monthly_mean": 25.9983870967742,
          "precipitation": 0,
          "temp_max": 26.7,
          "temp_min": 13.9,
          "weather": "sun",
          "wind": 2.3
         },
         {
          "date": "2014-07-10T00:00:00",
          "monthly_mean": 25.9983870967742,
          "precipitation": 0,
          "temp_max": 28.9,
          "temp_min": 12.8,
          "weather": "fog",
          "wind": 2.2
         },
         {
          "date": "2014-07-11T00:00:00",
          "monthly_mean": 25.9983870967742,
          "precipitation": 0,
          "temp_max": 31.1,
          "temp_min": 15,
          "weather": "sun",
          "wind": 2.2
         },
         {
          "date": "2014-07-12T00:00:00",
          "monthly_mean": 25.9983870967742,
          "precipitation": 0,
          "temp_max": 32.2,
          "temp_min": 16.7,
          "weather": "sun",
          "wind": 2.2
         },
         {
          "date": "2014-07-13T00:00:00",
          "monthly_mean": 25.9983870967742,
          "precipitation": 0,
          "temp_max": 29.4,
          "temp_min": 15,
          "weather": "rain",
          "wind": 2.6
         },
         {
          "date": "2014-07-14T00:00:00",
          "monthly_mean": 25.9983870967742,
          "precipitation": 0,
          "temp_max": 27.8,
          "temp_min": 15,
          "weather": "sun",
          "wind": 2.8
         },
         {
          "date": "2014-07-15T00:00:00",
          "monthly_mean": 25.9983870967742,
          "precipitation": 0,
          "temp_max": 31.1,
          "temp_min": 13.9,
          "weather": "sun",
          "wind": 2.3
         },
         {
          "date": "2014-07-16T00:00:00",
          "monthly_mean": 25.9983870967742,
          "precipitation": 0,
          "temp_max": 31.1,
          "temp_min": 14.4,
          "weather": "sun",
          "wind": 2.4
         },
         {
          "date": "2014-07-17T00:00:00",
          "monthly_mean": 25.9983870967742,
          "precipitation": 0,
          "temp_max": 26.7,
          "temp_min": 13.9,
          "weather": "sun",
          "wind": 3.7
         },
         {
          "date": "2014-07-18T00:00:00",
          "monthly_mean": 25.9983870967742,
          "precipitation": 0,
          "temp_max": 23.9,
          "temp_min": 11.7,
          "weather": "sun",
          "wind": 2.8
         },
         {
          "date": "2014-07-19T00:00:00",
          "monthly_mean": 25.9983870967742,
          "precipitation": 0,
          "temp_max": 25.6,
          "temp_min": 15,
          "weather": "fog",
          "wind": 5.4
         },
         {
          "date": "2014-07-20T00:00:00",
          "monthly_mean": 25.9983870967742,
          "precipitation": 0,
          "temp_max": 19.4,
          "temp_min": 14.4,
          "weather": "sun",
          "wind": 2.8
         },
         {
          "date": "2014-07-21T00:00:00",
          "monthly_mean": 25.9983870967742,
          "precipitation": 0,
          "temp_max": 23.9,
          "temp_min": 13.3,
          "weather": "sun",
          "wind": 2.2
         },
         {
          "date": "2014-07-22T00:00:00",
          "monthly_mean": 25.9983870967742,
          "precipitation": 0.3,
          "temp_max": 21.1,
          "temp_min": 13.3,
          "weather": "fog",
          "wind": 1.1
         },
         {
          "date": "2014-07-23T00:00:00",
          "monthly_mean": 25.9983870967742,
          "precipitation": 19.3,
          "temp_max": 18.9,
          "temp_min": 13.3,
          "weather": "sun",
          "wind": 3.3
         },
         {
          "date": "2014-07-24T00:00:00",
          "monthly_mean": 25.9983870967742,
          "precipitation": 0,
          "temp_max": 20.6,
          "temp_min": 12.8,
          "weather": "sun",
          "wind": 4.7
         },
         {
          "date": "2014-07-25T00:00:00",
          "monthly_mean": 25.9983870967742,
          "precipitation": 0,
          "temp_max": 22.8,
          "temp_min": 12.2,
          "weather": "sun",
          "wind": 2.7
         },
         {
          "date": "2014-07-26T00:00:00",
          "monthly_mean": 25.9983870967742,
          "precipitation": 0,
          "temp_max": 26.1,
          "temp_min": 13.3,
          "weather": "sun",
          "wind": 3.6
         },
         {
          "date": "2014-07-27T00:00:00",
          "monthly_mean": 25.9983870967742,
          "precipitation": 0,
          "temp_max": 28.3,
          "temp_min": 15,
          "weather": "sun",
          "wind": 4.1
         },
         {
          "date": "2014-07-28T00:00:00",
          "monthly_mean": 25.9983870967742,
          "precipitation": 0,
          "temp_max": 30.6,
          "temp_min": 15,
          "weather": "sun",
          "wind": 3.7
         },
         {
          "date": "2014-07-29T00:00:00",
          "monthly_mean": 25.9983870967742,
          "precipitation": 0,
          "temp_max": 30,
          "temp_min": 15.6,
          "weather": "sun",
          "wind": 2.8
         },
         {
          "date": "2014-07-30T00:00:00",
          "monthly_mean": 25.9983870967742,
          "precipitation": 0,
          "temp_max": 29.4,
          "temp_min": 14.4,
          "weather": "sun",
          "wind": 3.4
         },
         {
          "date": "2014-07-31T00:00:00",
          "monthly_mean": 25.9983870967742,
          "precipitation": 0,
          "temp_max": 30.6,
          "temp_min": 17.8,
          "weather": "sun",
          "wind": 4.1
         },
         {
          "date": "2014-08-01T00:00:00",
          "monthly_mean": 26.11209677419356,
          "precipitation": 0,
          "temp_max": 28.9,
          "temp_min": 15,
          "weather": "sun",
          "wind": 3.3
         },
         {
          "date": "2014-08-02T00:00:00",
          "monthly_mean": 26.11209677419356,
          "precipitation": 0.5,
          "temp_max": 29.4,
          "temp_min": 15.6,
          "weather": "sun",
          "wind": 1.7
         },
         {
          "date": "2014-08-03T00:00:00",
          "monthly_mean": 26.11209677419356,
          "precipitation": 0,
          "temp_max": 31.7,
          "temp_min": 14.4,
          "weather": "sun",
          "wind": 2.6
         },
         {
          "date": "2014-08-04T00:00:00",
          "monthly_mean": 26.11209677419356,
          "precipitation": 0,
          "temp_max": 32.8,
          "temp_min": 16.1,
          "weather": "sun",
          "wind": 2.6
         },
         {
          "date": "2014-08-05T00:00:00",
          "monthly_mean": 26.11209677419356,
          "precipitation": 0,
          "temp_max": 25,
          "temp_min": 13.9,
          "weather": "sun",
          "wind": 2.7
         },
         {
          "date": "2014-08-06T00:00:00",
          "monthly_mean": 26.11209677419356,
          "precipitation": 0,
          "temp_max": 26.1,
          "temp_min": 15,
          "weather": "fog",
          "wind": 2.2
         },
         {
          "date": "2014-08-07T00:00:00",
          "monthly_mean": 26.11209677419356,
          "precipitation": 0,
          "temp_max": 25.6,
          "temp_min": 13.3,
          "weather": "fog",
          "wind": 2.4
         },
         {
          "date": "2014-08-08T00:00:00",
          "monthly_mean": 26.11209677419356,
          "precipitation": 0,
          "temp_max": 25.6,
          "temp_min": 13.3,
          "weather": "sun",
          "wind": 2.9
         },
         {
          "date": "2014-08-09T00:00:00",
          "monthly_mean": 26.11209677419356,
          "precipitation": 0,
          "temp_max": 27.2,
          "temp_min": 15.6,
          "weather": "sun",
          "wind": 4.1
         },
         {
          "date": "2014-08-10T00:00:00",
          "monthly_mean": 26.11209677419356,
          "precipitation": 0,
          "temp_max": 30.6,
          "temp_min": 13.9,
          "weather": "sun",
          "wind": 3.4
         },
         {
          "date": "2014-08-11T00:00:00",
          "monthly_mean": 26.11209677419356,
          "precipitation": 0.5,
          "temp_max": 35.6,
          "temp_min": 17.8,
          "weather": "rain",
          "wind": 2.6
         },
         {
          "date": "2014-08-12T00:00:00",
          "monthly_mean": 26.11209677419356,
          "precipitation": 12.7,
          "temp_max": 27.2,
          "temp_min": 17.2,
          "weather": "fog",
          "wind": 3.1
         },
         {
          "date": "2014-08-13T00:00:00",
          "monthly_mean": 26.11209677419356,
          "precipitation": 21.6,
          "temp_max": 23.3,
          "temp_min": 15,
          "weather": "fog",
          "wind": 2.7
         },
         {
          "date": "2014-08-14T00:00:00",
          "monthly_mean": 26.11209677419356,
          "precipitation": 0,
          "temp_max": 21.1,
          "temp_min": 17.2,
          "weather": "sun",
          "wind": 0.6
         },
         {
          "date": "2014-08-15T00:00:00",
          "monthly_mean": 26.11209677419356,
          "precipitation": 1,
          "temp_max": 24.4,
          "temp_min": 16.7,
          "weather": "fog",
          "wind": 1.5
         },
         {
          "date": "2014-08-16T00:00:00",
          "monthly_mean": 26.11209677419356,
          "precipitation": 0,
          "temp_max": 25.6,
          "temp_min": 15.6,
          "weather": "sun",
          "wind": 2.2
         },
         {
          "date": "2014-08-17T00:00:00",
          "monthly_mean": 26.11209677419356,
          "precipitation": 0,
          "temp_max": 27.8,
          "temp_min": 15,
          "weather": "sun",
          "wind": 2.8
         },
         {
          "date": "2014-08-18T00:00:00",
          "monthly_mean": 26.11209677419356,
          "precipitation": 0,
          "temp_max": 29.4,
          "temp_min": 15.6,
          "weather": "sun",
          "wind": 3.3
         },
         {
          "date": "2014-08-19T00:00:00",
          "monthly_mean": 26.11209677419356,
          "precipitation": 0,
          "temp_max": 27.2,
          "temp_min": 15.6,
          "weather": "sun",
          "wind": 2.4
         },
         {
          "date": "2014-08-20T00:00:00",
          "monthly_mean": 26.11209677419356,
          "precipitation": 0,
          "temp_max": 21.7,
          "temp_min": 13.9,
          "weather": "sun",
          "wind": 3.6
         },
         {
          "date": "2014-08-21T00:00:00",
          "monthly_mean": 26.11209677419356,
          "precipitation": 0,
          "temp_max": 21.1,
          "temp_min": 11.1,
          "weather": "sun",
          "wind": 1.7
         },
         {
          "date": "2014-08-22T00:00:00",
          "monthly_mean": 26.11209677419356,
          "precipitation": 0,
          "temp_max": 23.9,
          "temp_min": 13.3,
          "weather": "sun",
          "wind": 2.9
         },
         {
          "date": "2014-08-23T00:00:00",
          "monthly_mean": 26.11209677419356,
          "precipitation": 0,
          "temp_max": 27.8,
          "temp_min": 13.9,
          "weather": "sun",
          "wind": 2
         },
         {
          "date": "2014-08-24T00:00:00",
          "monthly_mean": 26.11209677419356,
          "precipitation": 0,
          "temp_max": 25,
          "temp_min": 13.3,
          "weather": "sun",
          "wind": 2.3
         },
         {
          "date": "2014-08-25T00:00:00",
          "monthly_mean": 26.11209677419356,
          "precipitation": 0,
          "temp_max": 28.9,
          "temp_min": 14.4,
          "weather": "sun",
          "wind": 2
         },
         {
          "date": "2014-08-26T00:00:00",
          "monthly_mean": 26.11209677419356,
          "precipitation": 0,
          "temp_max": 31.1,
          "temp_min": 15.6,
          "weather": "sun",
          "wind": 1.8
         },
         {
          "date": "2014-08-27T00:00:00",
          "monthly_mean": 26.11209677419356,
          "precipitation": 0,
          "temp_max": 28.9,
          "temp_min": 16.1,
          "weather": "sun",
          "wind": 1.6
         },
         {
          "date": "2014-08-28T00:00:00",
          "monthly_mean": 26.11209677419356,
          "precipitation": 0,
          "temp_max": 23.3,
          "temp_min": 14.4,
          "weather": "sun",
          "wind": 2.3
         },
         {
          "date": "2014-08-29T00:00:00",
          "monthly_mean": 26.11209677419356,
          "precipitation": 0,
          "temp_max": 22.8,
          "temp_min": 15,
          "weather": "sun",
          "wind": 3.4
         },
         {
          "date": "2014-08-30T00:00:00",
          "monthly_mean": 26.11209677419356,
          "precipitation": 8.4,
          "temp_max": 17.8,
          "temp_min": 15,
          "weather": "fog",
          "wind": 2.2
         },
         {
          "date": "2014-08-31T00:00:00",
          "monthly_mean": 26.11209677419356,
          "precipitation": 1.3,
          "temp_max": 21.1,
          "temp_min": 13.9,
          "weather": "fog",
          "wind": 1.9
         },
         {
          "date": "2014-09-01T00:00:00",
          "monthly_mean": 21.924166666666675,
          "precipitation": 0,
          "temp_max": 23.3,
          "temp_min": 12.8,
          "weather": "sun",
          "wind": 2.5
         },
         {
          "date": "2014-09-02T00:00:00",
          "monthly_mean": 21.924166666666675,
          "precipitation": 3,
          "temp_max": 20,
          "temp_min": 13.9,
          "weather": "fog",
          "wind": 4.3
         },
         {
          "date": "2014-09-03T00:00:00",
          "monthly_mean": 21.924166666666675,
          "precipitation": 0,
          "temp_max": 20.6,
          "temp_min": 12.8,
          "weather": "sun",
          "wind": 2.7
         },
         {
          "date": "2014-09-04T00:00:00",
          "monthly_mean": 21.924166666666675,
          "precipitation": 0,
          "temp_max": 23.9,
          "temp_min": 11.1,
          "weather": "fog",
          "wind": 3.1
         },
         {
          "date": "2014-09-05T00:00:00",
          "monthly_mean": 21.924166666666675,
          "precipitation": 0,
          "temp_max": 27.8,
          "temp_min": 13.9,
          "weather": "fog",
          "wind": 6.5
         },
         {
          "date": "2014-09-06T00:00:00",
          "monthly_mean": 21.924166666666675,
          "precipitation": 0,
          "temp_max": 32.2,
          "temp_min": 15,
          "weather": "sun",
          "wind": 2.9
         },
         {
          "date": "2014-09-07T00:00:00",
          "monthly_mean": 21.924166666666675,
          "precipitation": 0,
          "temp_max": 28.3,
          "temp_min": 13.3,
          "weather": "sun",
          "wind": 2.1
         },
         {
          "date": "2014-09-08T00:00:00",
          "monthly_mean": 21.924166666666675,
          "precipitation": 0,
          "temp_max": 21.1,
          "temp_min": 13.3,
          "weather": "sun",
          "wind": 2.8
         },
         {
          "date": "2014-09-09T00:00:00",
          "monthly_mean": 21.924166666666675,
          "precipitation": 0,
          "temp_max": 21.7,
          "temp_min": 13.3,
          "weather": "sun",
          "wind": 2.3
         },
         {
          "date": "2014-09-10T00:00:00",
          "monthly_mean": 21.924166666666675,
          "precipitation": 0,
          "temp_max": 22.2,
          "temp_min": 12.2,
          "weather": "sun",
          "wind": 3.9
         },
         {
          "date": "2014-09-11T00:00:00",
          "monthly_mean": 21.924166666666675,
          "precipitation": 0,
          "temp_max": 24.4,
          "temp_min": 12.8,
          "weather": "sun",
          "wind": 5.3
         },
         {
          "date": "2014-09-12T00:00:00",
          "monthly_mean": 21.924166666666675,
          "precipitation": 0,
          "temp_max": 24.4,
          "temp_min": 12.8,
          "weather": "sun",
          "wind": 5.9
         },
         {
          "date": "2014-09-13T00:00:00",
          "monthly_mean": 21.924166666666675,
          "precipitation": 0,
          "temp_max": 28.3,
          "temp_min": 10,
          "weather": "sun",
          "wind": 4.2
         },
         {
          "date": "2014-09-14T00:00:00",
          "monthly_mean": 21.924166666666675,
          "precipitation": 0,
          "temp_max": 30,
          "temp_min": 11.7,
          "weather": "sun",
          "wind": 1.8
         },
         {
          "date": "2014-09-15T00:00:00",
          "monthly_mean": 21.924166666666675,
          "precipitation": 0,
          "temp_max": 30.6,
          "temp_min": 12.2,
          "weather": "sun",
          "wind": 1.2
         },
         {
          "date": "2014-09-16T00:00:00",
          "monthly_mean": 21.924166666666675,
          "precipitation": 0,
          "temp_max": 22.2,
          "temp_min": 13.9,
          "weather": "sun",
          "wind": 2.8
         },
         {
          "date": "2014-09-17T00:00:00",
          "monthly_mean": 21.924166666666675,
          "precipitation": 0.5,
          "temp_max": 22.8,
          "temp_min": 14.4,
          "weather": "sun",
          "wind": 2.3
         },
         {
          "date": "2014-09-18T00:00:00",
          "monthly_mean": 21.924166666666675,
          "precipitation": 0.3,
          "temp_max": 19.4,
          "temp_min": 15,
          "weather": "fog",
          "wind": 3.1
         },
         {
          "date": "2014-09-19T00:00:00",
          "monthly_mean": 21.924166666666675,
          "precipitation": 0,
          "temp_max": 23.9,
          "temp_min": 16.1,
          "weather": "sun",
          "wind": 2.8
         },
         {
          "date": "2014-09-20T00:00:00",
          "monthly_mean": 21.924166666666675,
          "precipitation": 0,
          "temp_max": 24.4,
          "temp_min": 14.4,
          "weather": "fog",
          "wind": 4.4
         },
         {
          "date": "2014-09-21T00:00:00",
          "monthly_mean": 21.924166666666675,
          "precipitation": 0,
          "temp_max": 26.1,
          "temp_min": 12.8,
          "weather": "sun",
          "wind": 3
         },
         {
          "date": "2014-09-22T00:00:00",
          "monthly_mean": 21.924166666666675,
          "precipitation": 0.3,
          "temp_max": 22.2,
          "temp_min": 15,
          "weather": "fog",
          "wind": 2.1
         },
         {
          "date": "2014-09-23T00:00:00",
          "monthly_mean": 21.924166666666675,
          "precipitation": 18.3,
          "temp_max": 18.9,
          "temp_min": 14.4,
          "weather": "fog",
          "wind": 2.5
         },
         {
          "date": "2014-09-24T00:00:00",
          "monthly_mean": 21.924166666666675,
          "precipitation": 20.3,
          "temp_max": 18.9,
          "temp_min": 14.4,
          "weather": "fog",
          "wind": 2.7
         },
         {
          "date": "2014-09-25T00:00:00",
          "monthly_mean": 21.924166666666675,
          "precipitation": 4.3,
          "temp_max": 21.7,
          "temp_min": 14.4,
          "weather": "fog",
          "wind": 2.5
         },
         {
          "date": "2014-09-26T00:00:00",
          "monthly_mean": 21.924166666666675,
          "precipitation": 8.9,
          "temp_max": 20,
          "temp_min": 13.9,
          "weather": "fog",
          "wind": 3.3
         },
         {
          "date": "2014-09-27T00:00:00",
          "monthly_mean": 21.924166666666675,
          "precipitation": 0,
          "temp_max": 20.6,
          "temp_min": 11.7,
          "weather": "fog",
          "wind": 3.2
         },
         {
          "date": "2014-09-28T00:00:00",
          "monthly_mean": 21.924166666666675,
          "precipitation": 0,
          "temp_max": 18.9,
          "temp_min": 12.2,
          "weather": "fog",
          "wind": 2
         },
         {
          "date": "2014-09-29T00:00:00",
          "monthly_mean": 21.924166666666675,
          "precipitation": 0.8,
          "temp_max": 16.7,
          "temp_min": 11.1,
          "weather": "fog",
          "wind": 3.5
         },
         {
          "date": "2014-09-30T00:00:00",
          "monthly_mean": 21.924166666666675,
          "precipitation": 0,
          "temp_max": 19.4,
          "temp_min": 12.2,
          "weather": "sun",
          "wind": 2.6
         },
         {
          "date": "2014-10-01T00:00:00",
          "monthly_mean": 16.38951612903225,
          "precipitation": 0,
          "temp_max": 18.3,
          "temp_min": 11.1,
          "weather": "sun",
          "wind": 2.1
         },
         {
          "date": "2014-10-02T00:00:00",
          "monthly_mean": 16.38951612903225,
          "precipitation": 0,
          "temp_max": 19.4,
          "temp_min": 10,
          "weather": "sun",
          "wind": 2
         },
         {
          "date": "2014-10-03T00:00:00",
          "monthly_mean": 16.38951612903225,
          "precipitation": 0,
          "temp_max": 22.2,
          "temp_min": 8.9,
          "weather": "sun",
          "wind": 1
         },
         {
          "date": "2014-10-04T00:00:00",
          "monthly_mean": 16.38951612903225,
          "precipitation": 0,
          "temp_max": 21.7,
          "temp_min": 12.2,
          "weather": "sun",
          "wind": 1.2
         },
         {
          "date": "2014-10-05T00:00:00",
          "monthly_mean": 16.38951612903225,
          "precipitation": 0,
          "temp_max": 23.9,
          "temp_min": 11.7,
          "weather": "fog",
          "wind": 1.4
         },
         {
          "date": "2014-10-06T00:00:00",
          "monthly_mean": 16.38951612903225,
          "precipitation": 0,
          "temp_max": 25.6,
          "temp_min": 13.3,
          "weather": "fog",
          "wind": 2.5
         },
         {
          "date": "2014-10-07T00:00:00",
          "monthly_mean": 16.38951612903225,
          "precipitation": 0,
          "temp_max": 18.9,
          "temp_min": 13.9,
          "weather": "fog",
          "wind": 1
         },
         {
          "date": "2014-10-08T00:00:00",
          "monthly_mean": 16.38951612903225,
          "precipitation": 0,
          "temp_max": 20.6,
          "temp_min": 12.8,
          "weather": "fog",
          "wind": 1.8
         },
         {
          "date": "2014-10-09T00:00:00",
          "monthly_mean": 16.38951612903225,
          "precipitation": 0,
          "temp_max": 17.2,
          "temp_min": 11.1,
          "weather": "fog",
          "wind": 1
         },
         {
          "date": "2014-10-10T00:00:00",
          "monthly_mean": 16.38951612903225,
          "precipitation": 0.3,
          "temp_max": 18.3,
          "temp_min": 10,
          "weather": "fog",
          "wind": 3.8
         },
         {
          "date": "2014-10-11T00:00:00",
          "monthly_mean": 16.38951612903225,
          "precipitation": 7.4,
          "temp_max": 18.3,
          "temp_min": 11.7,
          "weather": "rain",
          "wind": 3.5
         },
         {
          "date": "2014-10-12T00:00:00",
          "monthly_mean": 16.38951612903225,
          "precipitation": 0,
          "temp_max": 17.8,
          "temp_min": 11.7,
          "weather": "sun",
          "wind": 2.1
         },
         {
          "date": "2014-10-13T00:00:00",
          "monthly_mean": 16.38951612903225,
          "precipitation": 7.6,
          "temp_max": 21.1,
          "temp_min": 10,
          "weather": "fog",
          "wind": 3.1
         },
         {
          "date": "2014-10-14T00:00:00",
          "monthly_mean": 16.38951612903225,
          "precipitation": 7.1,
          "temp_max": 16.7,
          "temp_min": 11.7,
          "weather": "fog",
          "wind": 2.2
         },
         {
          "date": "2014-10-15T00:00:00",
          "monthly_mean": 16.38951612903225,
          "precipitation": 8.6,
          "temp_max": 16.1,
          "temp_min": 11.7,
          "weather": "fog",
          "wind": 4.7
         },
         {
          "date": "2014-10-16T00:00:00",
          "monthly_mean": 16.38951612903225,
          "precipitation": 0,
          "temp_max": 20.6,
          "temp_min": 11.1,
          "weather": "sun",
          "wind": 3.3
         },
         {
          "date": "2014-10-17T00:00:00",
          "monthly_mean": 16.38951612903225,
          "precipitation": 3.3,
          "temp_max": 16.7,
          "temp_min": 11.7,
          "weather": "fog",
          "wind": 3
         },
         {
          "date": "2014-10-18T00:00:00",
          "monthly_mean": 16.38951612903225,
          "precipitation": 15,
          "temp_max": 19.4,
          "temp_min": 13.9,
          "weather": "fog",
          "wind": 1.9
         },
         {
          "date": "2014-10-19T00:00:00",
          "monthly_mean": 16.38951612903225,
          "precipitation": 0,
          "temp_max": 22.2,
          "temp_min": 12.8,
          "weather": "sun",
          "wind": 3.2
         },
         {
          "date": "2014-10-20T00:00:00",
          "monthly_mean": 16.38951612903225,
          "precipitation": 11.7,
          "temp_max": 16.1,
          "temp_min": 12.2,
          "weather": "fog",
          "wind": 3.1
         },
         {
          "date": "2014-10-21T00:00:00",
          "monthly_mean": 16.38951612903225,
          "precipitation": 1,
          "temp_max": 16.1,
          "temp_min": 11.7,
          "weather": "sun",
          "wind": 4.7
         },
         {
          "date": "2014-10-22T00:00:00",
          "monthly_mean": 16.38951612903225,
          "precipitation": 32,
          "temp_max": 15.6,
          "temp_min": 11.7,
          "weather": "fog",
          "wind": 5
         },
         {
          "date": "2014-10-23T00:00:00",
          "monthly_mean": 16.38951612903225,
          "precipitation": 9.4,
          "temp_max": 14.4,
          "temp_min": 8.3,
          "weather": "sun",
          "wind": 4.6
         },
         {
          "date": "2014-10-24T00:00:00",
          "monthly_mean": 16.38951612903225,
          "precipitation": 4.1,
          "temp_max": 14.4,
          "temp_min": 8.9,
          "weather": "sun",
          "wind": 3.2
         },
         {
          "date": "2014-10-25T00:00:00",
          "monthly_mean": 16.38951612903225,
          "precipitation": 6.1,
          "temp_max": 16.7,
          "temp_min": 8.3,
          "weather": "fog",
          "wind": 5.4
         },
         {
          "date": "2014-10-26T00:00:00",
          "monthly_mean": 16.38951612903225,
          "precipitation": 1.5,
          "temp_max": 12.8,
          "temp_min": 7.8,
          "weather": "fog",
          "wind": 5
         },
         {
          "date": "2014-10-27T00:00:00",
          "monthly_mean": 16.38951612903225,
          "precipitation": 0.8,
          "temp_max": 15.6,
          "temp_min": 6.7,
          "weather": "sun",
          "wind": 2.4
         },
         {
          "date": "2014-10-28T00:00:00",
          "monthly_mean": 16.38951612903225,
          "precipitation": 12.7,
          "temp_max": 15,
          "temp_min": 9.4,
          "weather": "fog",
          "wind": 3.9
         },
         {
          "date": "2014-10-29T00:00:00",
          "monthly_mean": 16.38951612903225,
          "precipitation": 0.5,
          "temp_max": 16.7,
          "temp_min": 11.7,
          "weather": "fog",
          "wind": 3.1
         },
         {
          "date": "2014-10-30T00:00:00",
          "monthly_mean": 16.38951612903225,
          "precipitation": 25.4,
          "temp_max": 15.6,
          "temp_min": 11.1,
          "weather": "fog",
          "wind": 3.2
         },
         {
          "date": "2014-10-31T00:00:00",
          "monthly_mean": 16.38951612903225,
          "precipitation": 17,
          "temp_max": 12.8,
          "temp_min": 8.3,
          "weather": "fog",
          "wind": 2
         },
         {
          "date": "2014-11-01T00:00:00",
          "monthly_mean": 11.023333333333337,
          "precipitation": 0,
          "temp_max": 11.1,
          "temp_min": 7.2,
          "weather": "fog",
          "wind": 1.2
         },
         {
          "date": "2014-11-02T00:00:00",
          "monthly_mean": 11.023333333333337,
          "precipitation": 1.8,
          "temp_max": 13.3,
          "temp_min": 7.2,
          "weather": "fog",
          "wind": 2.9
         },
         {
          "date": "2014-11-03T00:00:00",
          "monthly_mean": 11.023333333333337,
          "precipitation": 10.9,
          "temp_max": 13.9,
          "temp_min": 11.1,
          "weather": "fog",
          "wind": 4.8
         },
         {
          "date": "2014-11-04T00:00:00",
          "monthly_mean": 11.023333333333337,
          "precipitation": 4.1,
          "temp_max": 14.4,
          "temp_min": 10.6,
          "weather": "fog",
          "wind": 3.3
         },
         {
          "date": "2014-11-05T00:00:00",
          "monthly_mean": 11.023333333333337,
          "precipitation": 4.8,
          "temp_max": 15,
          "temp_min": 10.6,
          "weather": "fog",
          "wind": 2.1
         },
         {
          "date": "2014-11-06T00:00:00",
          "monthly_mean": 11.023333333333337,
          "precipitation": 4.1,
          "temp_max": 16.7,
          "temp_min": 10.6,
          "weather": "fog",
          "wind": 6.7
         },
         {
          "date": "2014-11-07T00:00:00",
          "monthly_mean": 11.023333333333337,
          "precipitation": 0,
          "temp_max": 14.4,
          "temp_min": 7.2,
          "weather": "sun",
          "wind": 2.3
         },
         {
          "date": "2014-11-08T00:00:00",
          "monthly_mean": 11.023333333333337,
          "precipitation": 0,
          "temp_max": 12.8,
          "temp_min": 3.9,
          "weather": "fog",
          "wind": 0.8
         },
         {
          "date": "2014-11-09T00:00:00",
          "monthly_mean": 11.023333333333337,
          "precipitation": 5.1,
          "temp_max": 13.3,
          "temp_min": 7.8,
          "weather": "fog",
          "wind": 3
         },
         {
          "date": "2014-11-10T00:00:00",
          "monthly_mean": 11.023333333333337,
          "precipitation": 0,
          "temp_max": 11.1,
          "temp_min": 5.6,
          "weather": "sun",
          "wind": 3.9
         },
         {
          "date": "2014-11-11T00:00:00",
          "monthly_mean": 11.023333333333337,
          "precipitation": 0,
          "temp_max": 7.8,
          "temp_min": 1.1,
          "weather": "sun",
          "wind": 7.7
         },
         {
          "date": "2014-11-12T00:00:00",
          "monthly_mean": 11.023333333333337,
          "precipitation": 0,
          "temp_max": 6.7,
          "temp_min": 0,
          "weather": "sun",
          "wind": 7.6
         },
         {
          "date": "2014-11-13T00:00:00",
          "monthly_mean": 11.023333333333337,
          "precipitation": 0,
          "temp_max": 7.2,
          "temp_min": 0.6,
          "weather": "sun",
          "wind": 4.7
         },
         {
          "date": "2014-11-14T00:00:00",
          "monthly_mean": 11.023333333333337,
          "precipitation": 0,
          "temp_max": 7.2,
          "temp_min": -2.1,
          "weather": "sun",
          "wind": 4.5
         },
         {
          "date": "2014-11-15T00:00:00",
          "monthly_mean": 11.023333333333337,
          "precipitation": 0,
          "temp_max": 8.3,
          "temp_min": -1.6,
          "weather": "sun",
          "wind": 4.2
         },
         {
          "date": "2014-11-16T00:00:00",
          "monthly_mean": 11.023333333333337,
          "precipitation": 0,
          "temp_max": 9.4,
          "temp_min": -2.1,
          "weather": "sun",
          "wind": 4.2
         },
         {
          "date": "2014-11-17T00:00:00",
          "monthly_mean": 11.023333333333337,
          "precipitation": 0,
          "temp_max": 10.6,
          "temp_min": -2.1,
          "weather": "sun",
          "wind": 1.9
         },
         {
          "date": "2014-11-18T00:00:00",
          "monthly_mean": 11.023333333333337,
          "precipitation": 0,
          "temp_max": 7.2,
          "temp_min": -0.5,
          "weather": "sun",
          "wind": 0.9
         },
         {
          "date": "2014-11-19T00:00:00",
          "monthly_mean": 11.023333333333337,
          "precipitation": 0,
          "temp_max": 11.1,
          "temp_min": 2.2,
          "weather": "sun",
          "wind": 1.9
         },
         {
          "date": "2014-11-20T00:00:00",
          "monthly_mean": 11.023333333333337,
          "precipitation": 3.6,
          "temp_max": 11.1,
          "temp_min": 5.6,
          "weather": "fog",
          "wind": 2.1
         },
         {
          "date": "2014-11-21T00:00:00",
          "monthly_mean": 11.023333333333337,
          "precipitation": 15.2,
          "temp_max": 11.1,
          "temp_min": 8.3,
          "weather": "fog",
          "wind": 4.7
         },
         {
          "date": "2014-11-22T00:00:00",
          "monthly_mean": 11.023333333333337,
          "precipitation": 0.5,
          "temp_max": 9.4,
          "temp_min": 6.7,
          "weather": "sun",
          "wind": 4.7
         },
         {
          "date": "2014-11-23T00:00:00",
          "monthly_mean": 11.023333333333337,
          "precipitation": 11.9,
          "temp_max": 12.8,
          "temp_min": 5.6,
          "weather": "fog",
          "wind": 5.1
         },
         {
          "date": "2014-11-24T00:00:00",
          "monthly_mean": 11.023333333333337,
          "precipitation": 1.3,
          "temp_max": 11.7,
          "temp_min": 4.4,
          "weather": "fog",
          "wind": 3.8
         },
         {
          "date": "2014-11-25T00:00:00",
          "monthly_mean": 11.023333333333337,
          "precipitation": 18.3,
          "temp_max": 13.9,
          "temp_min": 9.4,
          "weather": "fog",
          "wind": 4.5
         },
         {
          "date": "2014-11-26T00:00:00",
          "monthly_mean": 11.023333333333337,
          "precipitation": 0.3,
          "temp_max": 15,
          "temp_min": 12.2,
          "weather": "sun",
          "wind": 3.9
         },
         {
          "date": "2014-11-27T00:00:00",
          "monthly_mean": 11.023333333333337,
          "precipitation": 3.3,
          "temp_max": 14.4,
          "temp_min": 11.7,
          "weather": "fog",
          "wind": 6.6
         },
         {
          "date": "2014-11-28T00:00:00",
          "monthly_mean": 11.023333333333337,
          "precipitation": 34.3,
          "temp_max": 12.8,
          "temp_min": 3.3,
          "weather": "fog",
          "wind": 5.8
         },
         {
          "date": "2014-11-29T00:00:00",
          "monthly_mean": 11.023333333333337,
          "precipitation": 3.6,
          "temp_max": 4.4,
          "temp_min": -4.3,
          "weather": "fog",
          "wind": 5.3
         },
         {
          "date": "2014-11-30T00:00:00",
          "monthly_mean": 11.023333333333337,
          "precipitation": 0,
          "temp_max": 2.8,
          "temp_min": -4.9,
          "weather": "sun",
          "wind": 4.4
         },
         {
          "date": "2014-12-01T00:00:00",
          "monthly_mean": 8.194354838709678,
          "precipitation": 0,
          "temp_max": 4.4,
          "temp_min": -3.2,
          "weather": "sun",
          "wind": 2.2
         },
         {
          "date": "2014-12-02T00:00:00",
          "monthly_mean": 8.194354838709678,
          "precipitation": 0,
          "temp_max": 5.6,
          "temp_min": -3.2,
          "weather": "fog",
          "wind": 5.7
         },
         {
          "date": "2014-12-03T00:00:00",
          "monthly_mean": 8.194354838709678,
          "precipitation": 0,
          "temp_max": 10,
          "temp_min": 0,
          "weather": "sun",
          "wind": 3.6
         },
         {
          "date": "2014-12-04T00:00:00",
          "monthly_mean": 8.194354838709678,
          "precipitation": 0.8,
          "temp_max": 8.3,
          "temp_min": 3.9,
          "weather": "fog",
          "wind": 1.1
         },
         {
          "date": "2014-12-05T00:00:00",
          "monthly_mean": 8.194354838709678,
          "precipitation": 3,
          "temp_max": 12.8,
          "temp_min": 6.7,
          "weather": "fog",
          "wind": 3.1
         },
         {
          "date": "2014-12-06T00:00:00",
          "monthly_mean": 8.194354838709678,
          "precipitation": 7.4,
          "temp_max": 11.7,
          "temp_min": 7.8,
          "weather": "fog",
          "wind": 3.6
         },
         {
          "date": "2014-12-07T00:00:00",
          "monthly_mean": 8.194354838709678,
          "precipitation": 0,
          "temp_max": 14.4,
          "temp_min": 6.1,
          "weather": "sun",
          "wind": 2.8
         },
         {
          "date": "2014-12-08T00:00:00",
          "monthly_mean": 8.194354838709678,
          "precipitation": 9.1,
          "temp_max": 14.4,
          "temp_min": 8.9,
          "weather": "fog",
          "wind": 4.2
         },
         {
          "date": "2014-12-09T00:00:00",
          "monthly_mean": 8.194354838709678,
          "precipitation": 9.9,
          "temp_max": 16.1,
          "temp_min": 10.6,
          "weather": "fog",
          "wind": 5.1
         },
         {
          "date": "2014-12-10T00:00:00",
          "monthly_mean": 8.194354838709678,
          "precipitation": 13,
          "temp_max": 18.9,
          "temp_min": 10,
          "weather": "fog",
          "wind": 6.7
         },
         {
          "date": "2014-12-11T00:00:00",
          "monthly_mean": 8.194354838709678,
          "precipitation": 6.9,
          "temp_max": 14.4,
          "temp_min": 8.3,
          "weather": "fog",
          "wind": 6.4
         },
         {
          "date": "2014-12-12T00:00:00",
          "monthly_mean": 8.194354838709678,
          "precipitation": 0,
          "temp_max": 11.1,
          "temp_min": 7.2,
          "weather": "sun",
          "wind": 3.7
         },
         {
          "date": "2014-12-13T00:00:00",
          "monthly_mean": 8.194354838709678,
          "precipitation": 0,
          "temp_max": 10,
          "temp_min": 3.9,
          "weather": "fog",
          "wind": 1.1
         },
         {
          "date": "2014-12-14T00:00:00",
          "monthly_mean": 8.194354838709678,
          "precipitation": 0,
          "temp_max": 12.8,
          "temp_min": 1.7,
          "weather": "fog",
          "wind": 3.5
         },
         {
          "date": "2014-12-15T00:00:00",
          "monthly_mean": 8.194354838709678,
          "precipitation": 0,
          "temp_max": 12.2,
          "temp_min": 6.7,
          "weather": "sun",
          "wind": 5.9
         },
         {
          "date": "2014-12-16T00:00:00",
          "monthly_mean": 8.194354838709678,
          "precipitation": 0,
          "temp_max": 10,
          "temp_min": 8.3,
          "weather": "sun",
          "wind": 4
         },
         {
          "date": "2014-12-17T00:00:00",
          "monthly_mean": 8.194354838709678,
          "precipitation": 2.8,
          "temp_max": 8.9,
          "temp_min": 6.1,
          "weather": "fog",
          "wind": 1.6
         },
         {
          "date": "2014-12-18T00:00:00",
          "monthly_mean": 8.194354838709678,
          "precipitation": 13,
          "temp_max": 9.4,
          "temp_min": 6.7,
          "weather": "fog",
          "wind": 3.1
         },
         {
          "date": "2014-12-19T00:00:00",
          "monthly_mean": 8.194354838709678,
          "precipitation": 3,
          "temp_max": 11.1,
          "temp_min": 7.2,
          "weather": "sun",
          "wind": 4.3
         },
         {
          "date": "2014-12-20T00:00:00",
          "monthly_mean": 8.194354838709678,
          "precipitation": 19.6,
          "temp_max": 12.8,
          "temp_min": 6.7,
          "weather": "fog",
          "wind": 5.5
         },
         {
          "date": "2014-12-21T00:00:00",
          "monthly_mean": 8.194354838709678,
          "precipitation": 0,
          "temp_max": 12.8,
          "temp_min": 10,
          "weather": "sun",
          "wind": 5.2
         },
         {
          "date": "2014-12-22T00:00:00",
          "monthly_mean": 8.194354838709678,
          "precipitation": 0,
          "temp_max": 10.6,
          "temp_min": 6.1,
          "weather": "sun",
          "wind": 1.5
         },
         {
          "date": "2014-12-23T00:00:00",
          "monthly_mean": 8.194354838709678,
          "precipitation": 20.6,
          "temp_max": 12.2,
          "temp_min": 5,
          "weather": "fog",
          "wind": 3.8
         },
         {
          "date": "2014-12-24T00:00:00",
          "monthly_mean": 8.194354838709678,
          "precipitation": 5.3,
          "temp_max": 7.2,
          "temp_min": 3.9,
          "weather": "fog",
          "wind": 1.8
         },
         {
          "date": "2014-12-25T00:00:00",
          "monthly_mean": 8.194354838709678,
          "precipitation": 0,
          "temp_max": 7.8,
          "temp_min": 2.8,
          "weather": "fog",
          "wind": 2.2
         },
         {
          "date": "2014-12-26T00:00:00",
          "monthly_mean": 8.194354838709678,
          "precipitation": 0,
          "temp_max": 5.6,
          "temp_min": 1.7,
          "weather": "fog",
          "wind": 1.2
         },
         {
          "date": "2014-12-27T00:00:00",
          "monthly_mean": 8.194354838709678,
          "precipitation": 3.3,
          "temp_max": 9.4,
          "temp_min": 4.4,
          "weather": "fog",
          "wind": 4.9
         },
         {
          "date": "2014-12-28T00:00:00",
          "monthly_mean": 8.194354838709678,
          "precipitation": 4.1,
          "temp_max": 6.7,
          "temp_min": 2.8,
          "weather": "fog",
          "wind": 1.8
         },
         {
          "date": "2014-12-29T00:00:00",
          "monthly_mean": 8.194354838709678,
          "precipitation": 0,
          "temp_max": 6.1,
          "temp_min": 0.6,
          "weather": "fog",
          "wind": 4.3
         },
         {
          "date": "2014-12-30T00:00:00",
          "monthly_mean": 8.194354838709678,
          "precipitation": 0,
          "temp_max": 3.3,
          "temp_min": -2.1,
          "weather": "sun",
          "wind": 3.6
         },
         {
          "date": "2014-12-31T00:00:00",
          "monthly_mean": 8.194354838709678,
          "precipitation": 0,
          "temp_max": 3.3,
          "temp_min": -2.7,
          "weather": "sun",
          "wind": 3
         },
         {
          "date": "2015-01-01T00:00:00",
          "monthly_mean": 8.22903225806452,
          "precipitation": 0,
          "temp_max": 5.6,
          "temp_min": -3.2,
          "weather": "sun",
          "wind": 1.2
         },
         {
          "date": "2015-01-02T00:00:00",
          "monthly_mean": 8.22903225806452,
          "precipitation": 1.5,
          "temp_max": 5.6,
          "temp_min": 0,
          "weather": "fog",
          "wind": 2.3
         },
         {
          "date": "2015-01-03T00:00:00",
          "monthly_mean": 8.22903225806452,
          "precipitation": 0,
          "temp_max": 5,
          "temp_min": 1.7,
          "weather": "fog",
          "wind": 1.7
         },
         {
          "date": "2015-01-04T00:00:00",
          "monthly_mean": 8.22903225806452,
          "precipitation": 10.2,
          "temp_max": 10.6,
          "temp_min": 3.3,
          "weather": "fog",
          "wind": 4.5
         },
         {
          "date": "2015-01-05T00:00:00",
          "monthly_mean": 8.22903225806452,
          "precipitation": 8.1,
          "temp_max": 12.2,
          "temp_min": 9.4,
          "weather": "fog",
          "wind": 6.4
         },
         {
          "date": "2015-01-06T00:00:00",
          "monthly_mean": 8.22903225806452,
          "precipitation": 0,
          "temp_max": 12.2,
          "temp_min": 6.1,
          "weather": "fog",
          "wind": 1.3
         },
         {
          "date": "2015-01-07T00:00:00",
          "monthly_mean": 8.22903225806452,
          "precipitation": 0,
          "temp_max": 7.8,
          "temp_min": 5.6,
          "weather": "fog",
          "wind": 1.6
         },
         {
          "date": "2015-01-08T00:00:00",
          "monthly_mean": 8.22903225806452,
          "precipitation": 0,
          "temp_max": 7.8,
          "temp_min": 1.7,
          "weather": "fog",
          "wind": 2.6
         },
         {
          "date": "2015-01-09T00:00:00",
          "monthly_mean": 8.22903225806452,
          "precipitation": 0.3,
          "temp_max": 10,
          "temp_min": 3.3,
          "weather": "fog",
          "wind": 0.6
         },
         {
          "date": "2015-01-10T00:00:00",
          "monthly_mean": 8.22903225806452,
          "precipitation": 5.8,
          "temp_max": 7.8,
          "temp_min": 6.1,
          "weather": "fog",
          "wind": 0.5
         },
         {
          "date": "2015-01-11T00:00:00",
          "monthly_mean": 8.22903225806452,
          "precipitation": 1.5,
          "temp_max": 9.4,
          "temp_min": 7.2,
          "weather": "fog",
          "wind": 1.1
         },
         {
          "date": "2015-01-12T00:00:00",
          "monthly_mean": 8.22903225806452,
          "precipitation": 0,
          "temp_max": 11.1,
          "temp_min": 4.4,
          "weather": "fog",
          "wind": 1.6
         },
         {
          "date": "2015-01-13T00:00:00",
          "monthly_mean": 8.22903225806452,
          "precipitation": 0,
          "temp_max": 9.4,
          "temp_min": 2.8,
          "weather": "fog",
          "wind": 2.7
         },
         {
          "date": "2015-01-14T00:00:00",
          "monthly_mean": 8.22903225806452,
          "precipitation": 0,
          "temp_max": 6.1,
          "temp_min": 0.6,
          "weather": "fog",
          "wind": 2.8
         },
         {
          "date": "2015-01-15T00:00:00",
          "monthly_mean": 8.22903225806452,
          "precipitation": 9.7,
          "temp_max": 7.8,
          "temp_min": 1.1,
          "weather": "fog",
          "wind": 3.2
         },
         {
          "date": "2015-01-16T00:00:00",
          "monthly_mean": 8.22903225806452,
          "precipitation": 0,
          "temp_max": 11.7,
          "temp_min": 5.6,
          "weather": "fog",
          "wind": 4.5
         },
         {
          "date": "2015-01-17T00:00:00",
          "monthly_mean": 8.22903225806452,
          "precipitation": 26.2,
          "temp_max": 13.3,
          "temp_min": 3.3,
          "weather": "fog",
          "wind": 2.8
         },
         {
          "date": "2015-01-18T00:00:00",
          "monthly_mean": 8.22903225806452,
          "precipitation": 21.3,
          "temp_max": 13.9,
          "temp_min": 7.2,
          "weather": "rain",
          "wind": 6.6
         },
         {
          "date": "2015-01-19T00:00:00",
          "monthly_mean": 8.22903225806452,
          "precipitation": 0.5,
          "temp_max": 10,
          "temp_min": 6.1,
          "weather": "sun",
          "wind": 2.8
         },
         {
          "date": "2015-01-20T00:00:00",
          "monthly_mean": 8.22903225806452,
          "precipitation": 0,
          "temp_max": 10,
          "temp_min": 3.3,
          "weather": "fog",
          "wind": 3
         },
         {
          "date": "2015-01-21T00:00:00",
          "monthly_mean": 8.22903225806452,
          "precipitation": 0,
          "temp_max": 7.2,
          "temp_min": -0.5,
          "weather": "fog",
          "wind": 1.3
         },
         {
          "date": "2015-01-22T00:00:00",
          "monthly_mean": 8.22903225806452,
          "precipitation": 0.8,
          "temp_max": 9.4,
          "temp_min": 6.1,
          "weather": "fog",
          "wind": 1.3
         },
         {
          "date": "2015-01-23T00:00:00",
          "monthly_mean": 8.22903225806452,
          "precipitation": 5.8,
          "temp_max": 12.2,
          "temp_min": 8.3,
          "weather": "fog",
          "wind": 2.6
         },
         {
          "date": "2015-01-24T00:00:00",
          "monthly_mean": 8.22903225806452,
          "precipitation": 0.5,
          "temp_max": 14.4,
          "temp_min": 11.1,
          "weather": "fog",
          "wind": 3.3
         },
         {
          "date": "2015-01-25T00:00:00",
          "monthly_mean": 8.22903225806452,
          "precipitation": 0,
          "temp_max": 17.2,
          "temp_min": 7.2,
          "weather": "fog",
          "wind": 1.4
         },
         {
          "date": "2015-01-26T00:00:00",
          "monthly_mean": 8.22903225806452,
          "precipitation": 0,
          "temp_max": 16.1,
          "temp_min": 6.1,
          "weather": "fog",
          "wind": 2.2
         },
         {
          "date": "2015-01-27T00:00:00",
          "monthly_mean": 8.22903225806452,
          "precipitation": 0.8,
          "temp_max": 11.1,
          "temp_min": 8.3,
          "weather": "fog",
          "wind": 2
         },
         {
          "date": "2015-01-28T00:00:00",
          "monthly_mean": 8.22903225806452,
          "precipitation": 0,
          "temp_max": 12.2,
          "temp_min": 5,
          "weather": "fog",
          "wind": 1.8
         },
         {
          "date": "2015-01-29T00:00:00",
          "monthly_mean": 8.22903225806452,
          "precipitation": 0,
          "temp_max": 12.2,
          "temp_min": 3.3,
          "weather": "sun",
          "wind": 2.9
         },
         {
          "date": "2015-01-30T00:00:00",
          "monthly_mean": 8.22903225806452,
          "precipitation": 0,
          "temp_max": 8.3,
          "temp_min": 1.1,
          "weather": "fog",
          "wind": 0.8
         },
         {
          "date": "2015-01-31T00:00:00",
          "monthly_mean": 8.22903225806452,
          "precipitation": 0,
          "temp_max": 7.2,
          "temp_min": 3.3,
          "weather": "fog",
          "wind": 1.9
         },
         {
          "date": "2015-02-01T00:00:00",
          "monthly_mean": 9.860176991150443,
          "precipitation": 1.5,
          "temp_max": 9.4,
          "temp_min": 4.4,
          "weather": "fog",
          "wind": 2.6
         },
         {
          "date": "2015-02-02T00:00:00",
          "monthly_mean": 9.860176991150443,
          "precipitation": 7.4,
          "temp_max": 11.1,
          "temp_min": 5,
          "weather": "fog",
          "wind": 4
         },
         {
          "date": "2015-02-03T00:00:00",
          "monthly_mean": 9.860176991150443,
          "precipitation": 1.3,
          "temp_max": 10,
          "temp_min": 5.6,
          "weather": "fog",
          "wind": 1.9
         },
         {
          "date": "2015-02-04T00:00:00",
          "monthly_mean": 9.860176991150443,
          "precipitation": 8.4,
          "temp_max": 10.6,
          "temp_min": 4.4,
          "weather": "fog",
          "wind": 1.7
         },
         {
          "date": "2015-02-05T00:00:00",
          "monthly_mean": 9.860176991150443,
          "precipitation": 26.2,
          "temp_max": 13.3,
          "temp_min": 8.3,
          "weather": "fog",
          "wind": 4.6
         },
         {
          "date": "2015-02-06T00:00:00",
          "monthly_mean": 9.860176991150443,
          "precipitation": 17.3,
          "temp_max": 14.4,
          "temp_min": 10,
          "weather": "fog",
          "wind": 4.5
         },
         {
          "date": "2015-02-07T00:00:00",
          "monthly_mean": 9.860176991150443,
          "precipitation": 23.6,
          "temp_max": 12.2,
          "temp_min": 9.4,
          "weather": "fog",
          "wind": 4.6
         },
         {
          "date": "2015-02-08T00:00:00",
          "monthly_mean": 9.860176991150443,
          "precipitation": 3.6,
          "temp_max": 15,
          "temp_min": 8.3,
          "weather": "fog",
          "wind": 3.9
         },
         {
          "date": "2015-02-09T00:00:00",
          "monthly_mean": 9.860176991150443,
          "precipitation": 6.1,
          "temp_max": 13.3,
          "temp_min": 8.3,
          "weather": "fog",
          "wind": 2.5
         },
         {
          "date": "2015-02-10T00:00:00",
          "monthly_mean": 9.860176991150443,
          "precipitation": 0.3,
          "temp_max": 12.8,
          "temp_min": 8.3,
          "weather": "fog",
          "wind": 4
         },
         {
          "date": "2015-02-11T00:00:00",
          "monthly_mean": 9.860176991150443,
          "precipitation": 0,
          "temp_max": 12.8,
          "temp_min": 5.6,
          "weather": "fog",
          "wind": 1
         },
         {
          "date": "2015-02-12T00:00:00",
          "monthly_mean": 9.860176991150443,
          "precipitation": 1,
          "temp_max": 16.7,
          "temp_min": 9.4,
          "weather": "sun",
          "wind": 2.1
         },
         {
          "date": "2015-02-13T00:00:00",
          "monthly_mean": 9.860176991150443,
          "precipitation": 0,
          "temp_max": 15.6,
          "temp_min": 6.7,
          "weather": "fog",
          "wind": 1.7
         },
         {
          "date": "2015-02-14T00:00:00",
          "monthly_mean": 9.860176991150443,
          "precipitation": 0.3,
          "temp_max": 14.4,
          "temp_min": 6.7,
          "weather": "fog",
          "wind": 2.9
         },
         {
          "date": "2015-02-15T00:00:00",
          "monthly_mean": 9.860176991150443,
          "precipitation": 0,
          "temp_max": 12.2,
          "temp_min": 3.9,
          "weather": "sun",
          "wind": 4.8
         },
         {
          "date": "2015-02-16T00:00:00",
          "monthly_mean": 9.860176991150443,
          "precipitation": 0,
          "temp_max": 15,
          "temp_min": 5.6,
          "weather": "fog",
          "wind": 6.6
         },
         {
          "date": "2015-02-17T00:00:00",
          "monthly_mean": 9.860176991150443,
          "precipitation": 0,
          "temp_max": 16.1,
          "temp_min": 4.4,
          "weather": "sun",
          "wind": 4
         },
         {
          "date": "2015-02-18T00:00:00",
          "monthly_mean": 9.860176991150443,
          "precipitation": 0,
          "temp_max": 12.2,
          "temp_min": 4.4,
          "weather": "sun",
          "wind": 2.6
         },
         {
          "date": "2015-02-19T00:00:00",
          "monthly_mean": 9.860176991150443,
          "precipitation": 4.6,
          "temp_max": 10.6,
          "temp_min": 8.3,
          "weather": "fog",
          "wind": 2.2
         },
         {
          "date": "2015-02-20T00:00:00",
          "monthly_mean": 9.860176991150443,
          "precipitation": 0.8,
          "temp_max": 11.1,
          "temp_min": 7.2,
          "weather": "fog",
          "wind": 0.9
         },
         {
          "date": "2015-02-21T00:00:00",
          "monthly_mean": 9.860176991150443,
          "precipitation": 0,
          "temp_max": 12.2,
          "temp_min": 5.6,
          "weather": "sun",
          "wind": 4.5
         },
         {
          "date": "2015-02-22T00:00:00",
          "monthly_mean": 9.860176991150443,
          "precipitation": 0,
          "temp_max": 11.7,
          "temp_min": 3.3,
          "weather": "sun",
          "wind": 4.2
         },
         {
          "date": "2015-02-23T00:00:00",
          "monthly_mean": 9.860176991150443,
          "precipitation": 0,
          "temp_max": 12.8,
          "temp_min": 0.6,
          "weather": "sun",
          "wind": 1.4
         },
         {
          "date": "2015-02-24T00:00:00",
          "monthly_mean": 9.860176991150443,
          "precipitation": 0,
          "temp_max": 11.1,
          "temp_min": 2.2,
          "weather": "sun",
          "wind": 1.5
         },
         {
          "date": "2015-02-25T00:00:00",
          "monthly_mean": 9.860176991150443,
          "precipitation": 4.1,
          "temp_max": 10,
          "temp_min": 6.7,
          "weather": "fog",
          "wind": 1
         },
         {
          "date": "2015-02-26T00:00:00",
          "monthly_mean": 9.860176991150443,
          "precipitation": 9.4,
          "temp_max": 11.7,
          "temp_min": 7.8,
          "weather": "fog",
          "wind": 1.4
         },
         {
          "date": "2015-02-27T00:00:00",
          "monthly_mean": 9.860176991150443,
          "precipitation": 18.3,
          "temp_max": 10,
          "temp_min": 6.7,
          "weather": "fog",
          "wind": 4
         },
         {
          "date": "2015-02-28T00:00:00",
          "monthly_mean": 9.860176991150443,
          "precipitation": 0,
          "temp_max": 12.2,
          "temp_min": 3.3,
          "weather": "sun",
          "wind": 5.1
         },
         {
          "date": "2015-03-01T00:00:00",
          "monthly_mean": 12.387096774193543,
          "precipitation": 0,
          "temp_max": 11.1,
          "temp_min": 1.1,
          "weather": "sun",
          "wind": 2.2
         },
         {
          "date": "2015-03-02T00:00:00",
          "monthly_mean": 12.387096774193543,
          "precipitation": 0,
          "temp_max": 11.1,
          "temp_min": 4.4,
          "weather": "sun",
          "wind": 4.8
         },
         {
          "date": "2015-03-03T00:00:00",
          "monthly_mean": 12.387096774193543,
          "precipitation": 0,
          "temp_max": 10.6,
          "temp_min": 0,
          "weather": "sun",
          "wind": 2.1
         },
         {
          "date": "2015-03-04T00:00:00",
          "monthly_mean": 12.387096774193543,
          "precipitation": 0,
          "temp_max": 12.8,
          "temp_min": -0.5,
          "weather": "sun",
          "wind": 1.8
         },
         {
          "date": "2015-03-05T00:00:00",
          "monthly_mean": 12.387096774193543,
          "precipitation": 0,
          "temp_max": 13.3,
          "temp_min": 2.8,
          "weather": "sun",
          "wind": 1.3
         },
         {
          "date": "2015-03-06T00:00:00",
          "monthly_mean": 12.387096774193543,
          "precipitation": 0,
          "temp_max": 15,
          "temp_min": 3.3,
          "weather": "sun",
          "wind": 1.4
         },
         {
          "date": "2015-03-07T00:00:00",
          "monthly_mean": 12.387096774193543,
          "precipitation": 0,
          "temp_max": 16.7,
          "temp_min": 3.9,
          "weather": "fog",
          "wind": 2.7
         },
         {
          "date": "2015-03-08T00:00:00",
          "monthly_mean": 12.387096774193543,
          "precipitation": 0,
          "temp_max": 17.2,
          "temp_min": 3.9,
          "weather": "fog",
          "wind": 1.7
         },
         {
          "date": "2015-03-09T00:00:00",
          "monthly_mean": 12.387096774193543,
          "precipitation": 0,
          "temp_max": 14.4,
          "temp_min": 4.4,
          "weather": "fog",
          "wind": 1.8
         },
         {
          "date": "2015-03-10T00:00:00",
          "monthly_mean": 12.387096774193543,
          "precipitation": 0.8,
          "temp_max": 13.3,
          "temp_min": 5,
          "weather": "fog",
          "wind": 2.6
         },
         {
          "date": "2015-03-11T00:00:00",
          "monthly_mean": 12.387096774193543,
          "precipitation": 2.5,
          "temp_max": 14.4,
          "temp_min": 8.9,
          "weather": "fog",
          "wind": 3.1
         },
         {
          "date": "2015-03-12T00:00:00",
          "monthly_mean": 12.387096774193543,
          "precipitation": 0,
          "temp_max": 17.8,
          "temp_min": 9.4,
          "weather": "sun",
          "wind": 3.2
         },
         {
          "date": "2015-03-13T00:00:00",
          "monthly_mean": 12.387096774193543,
          "precipitation": 2,
          "temp_max": 17.2,
          "temp_min": 7.8,
          "weather": "sun",
          "wind": 2.2
         },
         {
          "date": "2015-03-14T00:00:00",
          "monthly_mean": 12.387096774193543,
          "precipitation": 17,
          "temp_max": 13.9,
          "temp_min": 9.4,
          "weather": "fog",
          "wind": 3.8
         },
         {
          "date": "2015-03-15T00:00:00",
          "monthly_mean": 12.387096774193543,
          "precipitation": 55.9,
          "temp_max": 10.6,
          "temp_min": 6.1,
          "weather": "fog",
          "wind": 4.2
         },
         {
          "date": "2015-03-16T00:00:00",
          "monthly_mean": 12.387096774193543,
          "precipitation": 1,
          "temp_max": 13.9,
          "temp_min": 6.1,
          "weather": "fog",
          "wind": 3
         },
         {
          "date": "2015-03-17T00:00:00",
          "monthly_mean": 12.387096774193543,
          "precipitation": 0.8,
          "temp_max": 13.3,
          "temp_min": 4.4,
          "weather": "sun",
          "wind": 2.6
         },
         {
          "date": "2015-03-18T00:00:00",
          "monthly_mean": 12.387096774193543,
          "precipitation": 0,
          "temp_max": 15.6,
          "temp_min": 7.2,
          "weather": "sun",
          "wind": 2.5
         },
         {
          "date": "2015-03-19T00:00:00",
          "monthly_mean": 12.387096774193543,
          "precipitation": 0,
          "temp_max": 15.6,
          "temp_min": 8.3,
          "weather": "sun",
          "wind": 1.9
         },
         {
          "date": "2015-03-20T00:00:00",
          "monthly_mean": 12.387096774193543,
          "precipitation": 4.1,
          "temp_max": 13.9,
          "temp_min": 8.9,
          "weather": "sun",
          "wind": 1.9
         },
         {
          "date": "2015-03-21T00:00:00",
          "monthly_mean": 12.387096774193543,
          "precipitation": 3.8,
          "temp_max": 13.3,
          "temp_min": 8.3,
          "weather": "fog",
          "wind": 4.7
         },
         {
          "date": "2015-03-22T00:00:00",
          "monthly_mean": 12.387096774193543,
          "precipitation": 1,
          "temp_max": 11.7,
          "temp_min": 6.1,
          "weather": "sun",
          "wind": 2.3
         },
         {
          "date": "2015-03-23T00:00:00",
          "monthly_mean": 12.387096774193543,
          "precipitation": 8.1,
          "temp_max": 11.1,
          "temp_min": 5.6,
          "weather": "fog",
          "wind": 2.8
         },
         {
          "date": "2015-03-24T00:00:00",
          "monthly_mean": 12.387096774193543,
          "precipitation": 7.6,
          "temp_max": 12.8,
          "temp_min": 6.1,
          "weather": "fog",
          "wind": 3.9
         },
         {
          "date": "2015-03-25T00:00:00",
          "monthly_mean": 12.387096774193543,
          "precipitation": 5.1,
          "temp_max": 14.4,
          "temp_min": 7.2,
          "weather": "fog",
          "wind": 4.4
         },
         {
          "date": "2015-03-26T00:00:00",
          "monthly_mean": 12.387096774193543,
          "precipitation": 0,
          "temp_max": 20.6,
          "temp_min": 10,
          "weather": "sun",
          "wind": 2.2
         },
         {
          "date": "2015-03-27T00:00:00",
          "monthly_mean": 12.387096774193543,
          "precipitation": 1,
          "temp_max": 18.3,
          "temp_min": 8.9,
          "weather": "fog",
          "wind": 4
         },
         {
          "date": "2015-03-28T00:00:00",
          "monthly_mean": 12.387096774193543,
          "precipitation": 0,
          "temp_max": 15.6,
          "temp_min": 9.4,
          "weather": "sun",
          "wind": 5.7
         },
         {
          "date": "2015-03-29T00:00:00",
          "monthly_mean": 12.387096774193543,
          "precipitation": 0,
          "temp_max": 15.6,
          "temp_min": 8.9,
          "weather": "sun",
          "wind": 3
         },
         {
          "date": "2015-03-30T00:00:00",
          "monthly_mean": 12.387096774193543,
          "precipitation": 1.8,
          "temp_max": 17.8,
          "temp_min": 10.6,
          "weather": "fog",
          "wind": 2.9
         },
         {
          "date": "2015-03-31T00:00:00",
          "monthly_mean": 12.387096774193543,
          "precipitation": 1,
          "temp_max": 12.8,
          "temp_min": 6.1,
          "weather": "fog",
          "wind": 4.2
         },
         {
          "date": "2015-04-01T00:00:00",
          "monthly_mean": 15.02,
          "precipitation": 5.1,
          "temp_max": 12.8,
          "temp_min": 5.6,
          "weather": "rain",
          "wind": 3.2
         },
         {
          "date": "2015-04-02T00:00:00",
          "monthly_mean": 15.02,
          "precipitation": 0,
          "temp_max": 13.3,
          "temp_min": 5.6,
          "weather": "sun",
          "wind": 2.4
         },
         {
          "date": "2015-04-03T00:00:00",
          "monthly_mean": 15.02,
          "precipitation": 1.5,
          "temp_max": 11.1,
          "temp_min": 5,
          "weather": "fog",
          "wind": 3.6
         },
         {
          "date": "2015-04-04T00:00:00",
          "monthly_mean": 15.02,
          "precipitation": 0,
          "temp_max": 12.8,
          "temp_min": 3.9,
          "weather": "sun",
          "wind": 1.7
         },
         {
          "date": "2015-04-05T00:00:00",
          "monthly_mean": 15.02,
          "precipitation": 0,
          "temp_max": 16.7,
          "temp_min": 2.8,
          "weather": "sun",
          "wind": 2.4
         },
         {
          "date": "2015-04-06T00:00:00",
          "monthly_mean": 15.02,
          "precipitation": 1,
          "temp_max": 13.9,
          "temp_min": 6.7,
          "weather": "sun",
          "wind": 3.5
         },
         {
          "date": "2015-04-07T00:00:00",
          "monthly_mean": 15.02,
          "precipitation": 0.5,
          "temp_max": 14.4,
          "temp_min": 6.7,
          "weather": "sun",
          "wind": 3.9
         },
         {
          "date": "2015-04-08T00:00:00",
          "monthly_mean": 15.02,
          "precipitation": 0,
          "temp_max": 17.2,
          "temp_min": 6.1,
          "weather": "sun",
          "wind": 1.7
         },
         {
          "date": "2015-04-09T00:00:00",
          "monthly_mean": 15.02,
          "precipitation": 0,
          "temp_max": 17.2,
          "temp_min": 6.1,
          "weather": "sun",
          "wind": 2.3
         },
         {
          "date": "2015-04-10T00:00:00",
          "monthly_mean": 15.02,
          "precipitation": 10.9,
          "temp_max": 13.9,
          "temp_min": 7.8,
          "weather": "fog",
          "wind": 4.6
         },
         {
          "date": "2015-04-11T00:00:00",
          "monthly_mean": 15.02,
          "precipitation": 0,
          "temp_max": 11.7,
          "temp_min": 5.6,
          "weather": "sun",
          "wind": 6.5
         },
         {
          "date": "2015-04-12T00:00:00",
          "monthly_mean": 15.02,
          "precipitation": 0,
          "temp_max": 13.3,
          "temp_min": 5.6,
          "weather": "sun",
          "wind": 3.6
         },
         {
          "date": "2015-04-13T00:00:00",
          "monthly_mean": 15.02,
          "precipitation": 14,
          "temp_max": 11.7,
          "temp_min": 3.9,
          "weather": "fog",
          "wind": 3.6
         },
         {
          "date": "2015-04-14T00:00:00",
          "monthly_mean": 15.02,
          "precipitation": 3.3,
          "temp_max": 11.7,
          "temp_min": 2.8,
          "weather": "sun",
          "wind": 3.3
         },
         {
          "date": "2015-04-15T00:00:00",
          "monthly_mean": 15.02,
          "precipitation": 0,
          "temp_max": 13.9,
          "temp_min": 3.3,
          "weather": "sun",
          "wind": 2.4
         },
         {
          "date": "2015-04-16T00:00:00",
          "monthly_mean": 15.02,
          "precipitation": 0,
          "temp_max": 17.8,
          "temp_min": 3.9,
          "weather": "sun",
          "wind": 3.1
         },
         {
          "date": "2015-04-17T00:00:00",
          "monthly_mean": 15.02,
          "precipitation": 0,
          "temp_max": 18.9,
          "temp_min": 6.1,
          "weather": "sun",
          "wind": 3.6
         },
         {
          "date": "2015-04-18T00:00:00",
          "monthly_mean": 15.02,
          "precipitation": 0,
          "temp_max": 18.9,
          "temp_min": 8.3,
          "weather": "sun",
          "wind": 3.9
         },
         {
          "date": "2015-04-19T00:00:00",
          "monthly_mean": 15.02,
          "precipitation": 0,
          "temp_max": 21.1,
          "temp_min": 8.3,
          "weather": "sun",
          "wind": 3.6
         },
         {
          "date": "2015-04-20T00:00:00",
          "monthly_mean": 15.02,
          "precipitation": 0,
          "temp_max": 22.8,
          "temp_min": 7.8,
          "weather": "sun",
          "wind": 2.6
         },
         {
          "date": "2015-04-21T00:00:00",
          "monthly_mean": 15.02,
          "precipitation": 5.6,
          "temp_max": 17.2,
          "temp_min": 6.7,
          "weather": "fog",
          "wind": 3.4
         },
         {
          "date": "2015-04-22T00:00:00",
          "monthly_mean": 15.02,
          "precipitation": 0,
          "temp_max": 15.6,
          "temp_min": 5,
          "weather": "sun",
          "wind": 2.3
         },
         {
          "date": "2015-04-23T00:00:00",
          "monthly_mean": 15.02,
          "precipitation": 3,
          "temp_max": 12.2,
          "temp_min": 6.7,
          "weather": "fog",
          "wind": 4.1
         },
         {
          "date": "2015-04-24T00:00:00",
          "monthly_mean": 15.02,
          "precipitation": 3.3,
          "temp_max": 12.2,
          "temp_min": 6.1,
          "weather": "fog",
          "wind": 5
         },
         {
          "date": "2015-04-25T00:00:00",
          "monthly_mean": 15.02,
          "precipitation": 1.3,
          "temp_max": 13.3,
          "temp_min": 5.6,
          "weather": "fog",
          "wind": 3
         },
         {
          "date": "2015-04-26T00:00:00",
          "monthly_mean": 15.02,
          "precipitation": 0,
          "temp_max": 15.6,
          "temp_min": 4.4,
          "weather": "fog",
          "wind": 2.7
         },
         {
          "date": "2015-04-27T00:00:00",
          "monthly_mean": 15.02,
          "precipitation": 0.3,
          "temp_max": 25,
          "temp_min": 10.6,
          "weather": "fog",
          "wind": 2.3
         },
         {
          "date": "2015-04-28T00:00:00",
          "monthly_mean": 15.02,
          "precipitation": 1.8,
          "temp_max": 15.6,
          "temp_min": 8.9,
          "weather": "fog",
          "wind": 4.3
         },
         {
          "date": "2015-04-29T00:00:00",
          "monthly_mean": 15.02,
          "precipitation": 0,
          "temp_max": 16.1,
          "temp_min": 7.2,
          "weather": "sun",
          "wind": 4.7
         },
         {
          "date": "2015-04-30T00:00:00",
          "monthly_mean": 15.02,
          "precipitation": 0,
          "temp_max": 17.2,
          "temp_min": 7.8,
          "weather": "sun",
          "wind": 2.1
         },
         {
          "date": "2015-05-01T00:00:00",
          "monthly_mean": 19.295967741935485,
          "precipitation": 0,
          "temp_max": 18.3,
          "temp_min": 8.9,
          "weather": "sun",
          "wind": 3.7
         },
         {
          "date": "2015-05-02T00:00:00",
          "monthly_mean": 19.295967741935485,
          "precipitation": 0,
          "temp_max": 18.3,
          "temp_min": 7.8,
          "weather": "sun",
          "wind": 3.7
         },
         {
          "date": "2015-05-03T00:00:00",
          "monthly_mean": 19.295967741935485,
          "precipitation": 0,
          "temp_max": 20.6,
          "temp_min": 7.8,
          "weather": "sun",
          "wind": 2.6
         },
         {
          "date": "2015-05-04T00:00:00",
          "monthly_mean": 19.295967741935485,
          "precipitation": 0,
          "temp_max": 17.2,
          "temp_min": 7.2,
          "weather": "sun",
          "wind": 5.2
         },
         {
          "date": "2015-05-05T00:00:00",
          "monthly_mean": 19.295967741935485,
          "precipitation": 6.1,
          "temp_max": 14.4,
          "temp_min": 7.2,
          "weather": "fog",
          "wind": 5.1
         },
         {
          "date": "2015-05-06T00:00:00",
          "monthly_mean": 19.295967741935485,
          "precipitation": 0,
          "temp_max": 16.7,
          "temp_min": 7.2,
          "weather": "fog",
          "wind": 2.6
         },
         {
          "date": "2015-05-07T00:00:00",
          "monthly_mean": 19.295967741935485,
          "precipitation": 0,
          "temp_max": 20.6,
          "temp_min": 6.1,
          "weather": "sun",
          "wind": 3
         },
         {
          "date": "2015-05-08T00:00:00",
          "monthly_mean": 19.295967741935485,
          "precipitation": 0,
          "temp_max": 23.9,
          "temp_min": 8.3,
          "weather": "sun",
          "wind": 3
         },
         {
          "date": "2015-05-09T00:00:00",
          "monthly_mean": 19.295967741935485,
          "precipitation": 0,
          "temp_max": 26.7,
          "temp_min": 9.4,
          "weather": "sun",
          "wind": 2.6
         },
         {
          "date": "2015-05-10T00:00:00",
          "monthly_mean": 19.295967741935485,
          "precipitation": 0,
          "temp_max": 19.4,
          "temp_min": 11.1,
          "weather": "sun",
          "wind": 2.8
         },
         {
          "date": "2015-05-11T00:00:00",
          "monthly_mean": 19.295967741935485,
          "precipitation": 0,
          "temp_max": 13.9,
          "temp_min": 10,
          "weather": "fog",
          "wind": 2.5
         },
         {
          "date": "2015-05-12T00:00:00",
          "monthly_mean": 19.295967741935485,
          "precipitation": 4.3,
          "temp_max": 15.6,
          "temp_min": 10.6,
          "weather": "fog",
          "wind": 3.3
         },
         {
          "date": "2015-05-13T00:00:00",
          "monthly_mean": 19.295967741935485,
          "precipitation": 4.1,
          "temp_max": 12.2,
          "temp_min": 10,
          "weather": "fog",
          "wind": 2.8
         },
         {
          "date": "2015-05-14T00:00:00",
          "monthly_mean": 19.295967741935485,
          "precipitation": 0.3,
          "temp_max": 17.8,
          "temp_min": 9.4,
          "weather": "fog",
          "wind": 2
         },
         {
          "date": "2015-05-15T00:00:00",
          "monthly_mean": 19.295967741935485,
          "precipitation": 0,
          "temp_max": 20,
          "temp_min": 9.4,
          "weather": "fog",
          "wind": 2.8
         },
         {
          "date": "2015-05-16T00:00:00",
          "monthly_mean": 19.295967741935485,
          "precipitation": 0,
          "temp_max": 15.6,
          "temp_min": 11.1,
          "weather": "sun",
          "wind": 3
         },
         {
          "date": "2015-05-17T00:00:00",
          "monthly_mean": 19.295967741935485,
          "precipitation": 0,
          "temp_max": 19.4,
          "temp_min": 10.6,
          "weather": "sun",
          "wind": 2.1
         },
         {
          "date": "2015-05-18T00:00:00",
          "monthly_mean": 19.295967741935485,
          "precipitation": 0,
          "temp_max": 25.6,
          "temp_min": 12.2,
          "weather": "sun",
          "wind": 3
         },
         {
          "date": "2015-05-19T00:00:00",
          "monthly_mean": 19.295967741935485,
          "precipitation": 0,
          "temp_max": 21.7,
          "temp_min": 11.7,
          "weather": "sun",
          "wind": 2.6
         },
         {
          "date": "2015-05-20T00:00:00",
          "monthly_mean": 19.295967741935485,
          "precipitation": 0,
          "temp_max": 23.3,
          "temp_min": 10.6,
          "weather": "fog",
          "wind": 1.8
         },
         {
          "date": "2015-05-21T00:00:00",
          "monthly_mean": 19.295967741935485,
          "precipitation": 0,
          "temp_max": 25.6,
          "temp_min": 11.7,
          "weather": "sun",
          "wind": 2.1
         },
         {
          "date": "2015-05-22T00:00:00",
          "monthly_mean": 19.295967741935485,
          "precipitation": 0,
          "temp_max": 16.7,
          "temp_min": 11.7,
          "weather": "sun",
          "wind": 3.7
         },
         {
          "date": "2015-05-23T00:00:00",
          "monthly_mean": 19.295967741935485,
          "precipitation": 0,
          "temp_max": 16.1,
          "temp_min": 11.7,
          "weather": "sun",
          "wind": 2.6
         },
         {
          "date": "2015-05-24T00:00:00",
          "monthly_mean": 19.295967741935485,
          "precipitation": 0,
          "temp_max": 17.8,
          "temp_min": 11.1,
          "weather": "sun",
          "wind": 2.7
         },
         {
          "date": "2015-05-25T00:00:00",
          "monthly_mean": 19.295967741935485,
          "precipitation": 0,
          "temp_max": 15.6,
          "temp_min": 11.1,
          "weather": "sun",
          "wind": 2.7
         },
         {
          "date": "2015-05-26T00:00:00",
          "monthly_mean": 19.295967741935485,
          "precipitation": 0,
          "temp_max": 21.7,
          "temp_min": 11.7,
          "weather": "sun",
          "wind": 2.1
         },
         {
          "date": "2015-05-27T00:00:00",
          "monthly_mean": 19.295967741935485,
          "precipitation": 0,
          "temp_max": 24.4,
          "temp_min": 11.7,
          "weather": "sun",
          "wind": 1.8
         },
         {
          "date": "2015-05-28T00:00:00",
          "monthly_mean": 19.295967741935485,
          "precipitation": 0,
          "temp_max": 27.8,
          "temp_min": 12.2,
          "weather": "sun",
          "wind": 2.1
         },
         {
          "date": "2015-05-29T00:00:00",
          "monthly_mean": 19.295967741935485,
          "precipitation": 0,
          "temp_max": 26.1,
          "temp_min": 12.8,
          "weather": "sun",
          "wind": 2.5
         },
         {
          "date": "2015-05-30T00:00:00",
          "monthly_mean": 19.295967741935485,
          "precipitation": 0,
          "temp_max": 22.8,
          "temp_min": 10,
          "weather": "sun",
          "wind": 2.5
         },
         {
          "date": "2015-05-31T00:00:00",
          "monthly_mean": 19.295967741935485,
          "precipitation": 0,
          "temp_max": 25,
          "temp_min": 11.7,
          "weather": "sun",
          "wind": 2.2
         },
         {
          "date": "2015-06-01T00:00:00",
          "monthly_mean": 22.4,
          "precipitation": 4.6,
          "temp_max": 16.1,
          "temp_min": 11.7,
          "weather": "fog",
          "wind": 3.4
         },
         {
          "date": "2015-06-02T00:00:00",
          "monthly_mean": 22.4,
          "precipitation": 0.5,
          "temp_max": 17.8,
          "temp_min": 12.8,
          "weather": "sun",
          "wind": 5
         },
         {
          "date": "2015-06-03T00:00:00",
          "monthly_mean": 22.4,
          "precipitation": 0,
          "temp_max": 20,
          "temp_min": 11.7,
          "weather": "sun",
          "wind": 3
         },
         {
          "date": "2015-06-04T00:00:00",
          "monthly_mean": 22.4,
          "precipitation": 0,
          "temp_max": 22.8,
          "temp_min": 11.7,
          "weather": "sun",
          "wind": 3.9
         },
         {
          "date": "2015-06-05T00:00:00",
          "monthly_mean": 22.4,
          "precipitation": 0,
          "temp_max": 26.7,
          "temp_min": 12.8,
          "weather": "sun",
          "wind": 4.3
         },
         {
          "date": "2015-06-06T00:00:00",
          "monthly_mean": 22.4,
          "precipitation": 0,
          "temp_max": 29.4,
          "temp_min": 13.3,
          "weather": "sun",
          "wind": 2.6
         },
         {
          "date": "2015-06-07T00:00:00",
          "monthly_mean": 22.4,
          "precipitation": 0,
          "temp_max": 31.1,
          "temp_min": 15.6,
          "weather": "sun",
          "wind": 3.2
         },
         {
          "date": "2015-06-08T00:00:00",
          "monthly_mean": 22.4,
          "precipitation": 0,
          "temp_max": 30.6,
          "temp_min": 14.4,
          "weather": "sun",
          "wind": 3.5
         },
         {
          "date": "2015-06-09T00:00:00",
          "monthly_mean": 22.4,
          "precipitation": 0,
          "temp_max": 28.9,
          "temp_min": 14.4,
          "weather": "sun",
          "wind": 2.7
         },
         {
          "date": "2015-06-10T00:00:00",
          "monthly_mean": 22.4,
          "precipitation": 0,
          "temp_max": 25.6,
          "temp_min": 11.1,
          "weather": "sun",
          "wind": 3
         },
         {
          "date": "2015-06-11T00:00:00",
          "monthly_mean": 22.4,
          "precipitation": 0,
          "temp_max": 24.4,
          "temp_min": 11.1,
          "weather": "sun",
          "wind": 3.5
         },
         {
          "date": "2015-06-12T00:00:00",
          "monthly_mean": 22.4,
          "precipitation": 0,
          "temp_max": 20,
          "temp_min": 11.7,
          "weather": "sun",
          "wind": 2.3
         },
         {
          "date": "2015-06-13T00:00:00",
          "monthly_mean": 22.4,
          "precipitation": 0,
          "temp_max": 23.9,
          "temp_min": 9.4,
          "weather": "sun",
          "wind": 2.6
         },
         {
          "date": "2015-06-14T00:00:00",
          "monthly_mean": 22.4,
          "precipitation": 0,
          "temp_max": 27.8,
          "temp_min": 11.7,
          "weather": "sun",
          "wind": 3.7
         },
         {
          "date": "2015-06-15T00:00:00",
          "monthly_mean": 22.4,
          "precipitation": 0,
          "temp_max": 30,
          "temp_min": 16.1,
          "weather": "drizzle",
          "wind": 3.5
         },
         {
          "date": "2015-06-16T00:00:00",
          "monthly_mean": 22.4,
          "precipitation": 0,
          "temp_max": 22.8,
          "temp_min": 11.1,
          "weather": "sun",
          "wind": 3
         },
         {
          "date": "2015-06-17T00:00:00",
          "monthly_mean": 22.4,
          "precipitation": 0,
          "temp_max": 25,
          "temp_min": 11.1,
          "weather": "sun",
          "wind": 3.1
         },
         {
          "date": "2015-06-18T00:00:00",
          "monthly_mean": 22.4,
          "precipitation": 0,
          "temp_max": 24.4,
          "temp_min": 13.9,
          "weather": "sun",
          "wind": 3
         },
         {
          "date": "2015-06-19T00:00:00",
          "monthly_mean": 22.4,
          "precipitation": 0.5,
          "temp_max": 23.9,
          "temp_min": 13.3,
          "weather": "fog",
          "wind": 3.2
         },
         {
          "date": "2015-06-20T00:00:00",
          "monthly_mean": 22.4,
          "precipitation": 0,
          "temp_max": 25,
          "temp_min": 12.8,
          "weather": "sun",
          "wind": 4.3
         },
         {
          "date": "2015-06-21T00:00:00",
          "monthly_mean": 22.4,
          "precipitation": 0,
          "temp_max": 25.6,
          "temp_min": 13.9,
          "weather": "sun",
          "wind": 3.4
         },
         {
          "date": "2015-06-22T00:00:00",
          "monthly_mean": 22.4,
          "precipitation": 0,
          "temp_max": 25,
          "temp_min": 12.8,
          "weather": "sun",
          "wind": 2.4
         },
         {
          "date": "2015-06-23T00:00:00",
          "monthly_mean": 22.4,
          "precipitation": 0,
          "temp_max": 26.1,
          "temp_min": 11.7,
          "weather": "sun",
          "wind": 2.4
         },
         {
          "date": "2015-06-24T00:00:00",
          "monthly_mean": 22.4,
          "precipitation": 0,
          "temp_max": 25.6,
          "temp_min": 16.1,
          "weather": "sun",
          "wind": 2.6
         },
         {
          "date": "2015-06-25T00:00:00",
          "monthly_mean": 22.4,
          "precipitation": 0,
          "temp_max": 30.6,
          "temp_min": 15.6,
          "weather": "sun",
          "wind": 3
         },
         {
          "date": "2015-06-26T00:00:00",
          "monthly_mean": 22.4,
          "precipitation": 0,
          "temp_max": 31.7,
          "temp_min": 17.8,
          "weather": "sun",
          "wind": 4.7
         },
         {
          "date": "2015-06-27T00:00:00",
          "monthly_mean": 22.4,
          "precipitation": 0,
          "temp_max": 33.3,
          "temp_min": 17.2,
          "weather": "sun",
          "wind": 3.9
         },
         {
          "date": "2015-06-28T00:00:00",
          "monthly_mean": 22.4,
          "precipitation": 0.3,
          "temp_max": 28.3,
          "temp_min": 18.3,
          "weather": "sun",
          "wind": 2.1
         },
         {
          "date": "2015-06-29T00:00:00",
          "monthly_mean": 22.4,
          "precipitation": 0,
          "temp_max": 28.9,
          "temp_min": 17.2,
          "weather": "sun",
          "wind": 2.7
         },
         {
          "date": "2015-06-30T00:00:00",
          "monthly_mean": 22.4,
          "precipitation": 0,
          "temp_max": 30.6,
          "temp_min": 15,
          "weather": "fog",
          "wind": 3.4
         },
         {
          "date": "2015-07-01T00:00:00",
          "monthly_mean": 25.9983870967742,
          "precipitation": 0,
          "temp_max": 32.2,
          "temp_min": 17.2,
          "weather": "sun",
          "wind": 4.3
         },
         {
          "date": "2015-07-02T00:00:00",
          "monthly_mean": 25.9983870967742,
          "precipitation": 0,
          "temp_max": 33.9,
          "temp_min": 17.8,
          "weather": "sun",
          "wind": 3.4
         },
         {
          "date": "2015-07-03T00:00:00",
          "monthly_mean": 25.9983870967742,
          "precipitation": 0,
          "temp_max": 33.3,
          "temp_min": 17.8,
          "weather": "sun",
          "wind": 2.6
         },
         {
          "date": "2015-07-04T00:00:00",
          "monthly_mean": 25.9983870967742,
          "precipitation": 0,
          "temp_max": 33.3,
          "temp_min": 15,
          "weather": "sun",
          "wind": 2.9
         },
         {
          "date": "2015-07-05T00:00:00",
          "monthly_mean": 25.9983870967742,
          "precipitation": 0,
          "temp_max": 32.8,
          "temp_min": 16.7,
          "weather": "sun",
          "wind": 2.1
         },
         {
          "date": "2015-07-06T00:00:00",
          "monthly_mean": 25.9983870967742,
          "precipitation": 0,
          "temp_max": 29.4,
          "temp_min": 15.6,
          "weather": "drizzle",
          "wind": 3.2
         },
         {
          "date": "2015-07-07T00:00:00",
          "monthly_mean": 25.9983870967742,
          "precipitation": 0,
          "temp_max": 27.2,
          "temp_min": 13.9,
          "weather": "sun",
          "wind": 2.4
         },
         {
          "date": "2015-07-08T00:00:00",
          "monthly_mean": 25.9983870967742,
          "precipitation": 0,
          "temp_max": 30,
          "temp_min": 14.4,
          "weather": "drizzle",
          "wind": 1.9
         },
         {
          "date": "2015-07-09T00:00:00",
          "monthly_mean": 25.9983870967742,
          "precipitation": 0,
          "temp_max": 28.9,
          "temp_min": 14.4,
          "weather": "sun",
          "wind": 3.4
         },
         {
          "date": "2015-07-10T00:00:00",
          "monthly_mean": 25.9983870967742,
          "precipitation": 0,
          "temp_max": 21.1,
          "temp_min": 16.7,
          "weather": "sun",
          "wind": 3.7
         },
         {
          "date": "2015-07-11T00:00:00",
          "monthly_mean": 25.9983870967742,
          "precipitation": 0,
          "temp_max": 22.2,
          "temp_min": 16.7,
          "weather": "sun",
          "wind": 3
         },
         {
          "date": "2015-07-12T00:00:00",
          "monthly_mean": 25.9983870967742,
          "precipitation": 0,
          "temp_max": 26.1,
          "temp_min": 16.7,
          "weather": "sun",
          "wind": 2.2
         },
         {
          "date": "2015-07-13T00:00:00",
          "monthly_mean": 25.9983870967742,
          "precipitation": 0,
          "temp_max": 25.6,
          "temp_min": 16.1,
          "weather": "sun",
          "wind": 3.1
         },
         {
          "date": "2015-07-14T00:00:00",
          "monthly_mean": 25.9983870967742,
          "precipitation": 0,
          "temp_max": 27.8,
          "temp_min": 16.1,
          "weather": "sun",
          "wind": 3.3
         },
         {
          "date": "2015-07-15T00:00:00",
          "monthly_mean": 25.9983870967742,
          "precipitation": 0,
          "temp_max": 26.1,
          "temp_min": 14.4,
          "weather": "sun",
          "wind": 3.2
         },
         {
          "date": "2015-07-16T00:00:00",
          "monthly_mean": 25.9983870967742,
          "precipitation": 0,
          "temp_max": 26.1,
          "temp_min": 15,
          "weather": "sun",
          "wind": 2.8
         },
         {
          "date": "2015-07-17T00:00:00",
          "monthly_mean": 25.9983870967742,
          "precipitation": 0,
          "temp_max": 27.8,
          "temp_min": 13.9,
          "weather": "sun",
          "wind": 3.3
         },
         {
          "date": "2015-07-18T00:00:00",
          "monthly_mean": 25.9983870967742,
          "precipitation": 0,
          "temp_max": 33.3,
          "temp_min": 17.8,
          "weather": "sun",
          "wind": 3.4
         },
         {
          "date": "2015-07-19T00:00:00",
          "monthly_mean": 25.9983870967742,
          "precipitation": 0,
          "temp_max": 35,
          "temp_min": 17.2,
          "weather": "sun",
          "wind": 3.3
         },
         {
          "date": "2015-07-20T00:00:00",
          "monthly_mean": 25.9983870967742,
          "precipitation": 0,
          "temp_max": 26.7,
          "temp_min": 16.7,
          "weather": "sun",
          "wind": 3.9
         },
         {
          "date": "2015-07-21T00:00:00",
          "monthly_mean": 25.9983870967742,
          "precipitation": 0,
          "temp_max": 23.9,
          "temp_min": 15,
          "weather": "sun",
          "wind": 2.4
         },
         {
          "date": "2015-07-22T00:00:00",
          "monthly_mean": 25.9983870967742,
          "precipitation": 0,
          "temp_max": 23.9,
          "temp_min": 13.9,
          "weather": "sun",
          "wind": 2.8
         },
         {
          "date": "2015-07-23T00:00:00",
          "monthly_mean": 25.9983870967742,
          "precipitation": 0,
          "temp_max": 26.1,
          "temp_min": 14.4,
          "weather": "sun",
          "wind": 1.9
         },
         {
          "date": "2015-07-24T00:00:00",
          "monthly_mean": 25.9983870967742,
          "precipitation": 0.3,
          "temp_max": 22.8,
          "temp_min": 13.3,
          "weather": "fog",
          "wind": 3.8
         },
         {
          "date": "2015-07-25T00:00:00",
          "monthly_mean": 25.9983870967742,
          "precipitation": 0,
          "temp_max": 21.1,
          "temp_min": 14.4,
          "weather": "fog",
          "wind": 2.4
         },
         {
          "date": "2015-07-26T00:00:00",
          "monthly_mean": 25.9983870967742,
          "precipitation": 2,
          "temp_max": 22.2,
          "temp_min": 13.9,
          "weather": "fog",
          "wind": 2.6
         },
         {
          "date": "2015-07-27T00:00:00",
          "monthly_mean": 25.9983870967742,
          "precipitation": 0,
          "temp_max": 23.3,
          "temp_min": 12.2,
          "weather": "fog",
          "wind": 1.9
         },
         {
          "date": "2015-07-28T00:00:00",
          "monthly_mean": 25.9983870967742,
          "precipitation": 0,
          "temp_max": 27.8,
          "temp_min": 13.9,
          "weather": "sun",
          "wind": 3.4
         },
         {
          "date": "2015-07-29T00:00:00",
          "monthly_mean": 25.9983870967742,
          "precipitation": 0,
          "temp_max": 32.2,
          "temp_min": 14.4,
          "weather": "sun",
          "wind": 3.8
         },
         {
          "date": "2015-07-30T00:00:00",
          "monthly_mean": 25.9983870967742,
          "precipitation": 0,
          "temp_max": 34.4,
          "temp_min": 17.2,
          "weather": "sun",
          "wind": 3.5
         },
         {
          "date": "2015-07-31T00:00:00",
          "monthly_mean": 25.9983870967742,
          "precipitation": 0,
          "temp_max": 34.4,
          "temp_min": 17.8,
          "weather": "sun",
          "wind": 2.6
         },
         {
          "date": "2015-08-01T00:00:00",
          "monthly_mean": 26.11209677419356,
          "precipitation": 0,
          "temp_max": 33.3,
          "temp_min": 15.6,
          "weather": "sun",
          "wind": 3.1
         },
         {
          "date": "2015-08-02T00:00:00",
          "monthly_mean": 26.11209677419356,
          "precipitation": 0,
          "temp_max": 30.6,
          "temp_min": 16.1,
          "weather": "sun",
          "wind": 2
         },
         {
          "date": "2015-08-03T00:00:00",
          "monthly_mean": 26.11209677419356,
          "precipitation": 0,
          "temp_max": 28.3,
          "temp_min": 17.2,
          "weather": "sun",
          "wind": 2.3
         },
         {
          "date": "2015-08-04T00:00:00",
          "monthly_mean": 26.11209677419356,
          "precipitation": 0,
          "temp_max": 26.1,
          "temp_min": 14.4,
          "weather": "fog",
          "wind": 2.6
         },
         {
          "date": "2015-08-05T00:00:00",
          "monthly_mean": 26.11209677419356,
          "precipitation": 0,
          "temp_max": 23.3,
          "temp_min": 12.2,
          "weather": "sun",
          "wind": 3.5
         },
         {
          "date": "2015-08-06T00:00:00",
          "monthly_mean": 26.11209677419356,
          "precipitation": 0,
          "temp_max": 25,
          "temp_min": 15,
          "weather": "sun",
          "wind": 2.9
         },
         {
          "date": "2015-08-07T00:00:00",
          "monthly_mean": 26.11209677419356,
          "precipitation": 0,
          "temp_max": 28.3,
          "temp_min": 15.6,
          "weather": "sun",
          "wind": 3.7
         },
         {
          "date": "2015-08-08T00:00:00",
          "monthly_mean": 26.11209677419356,
          "precipitation": 0,
          "temp_max": 25,
          "temp_min": 15.6,
          "weather": "fog",
          "wind": 3.6
         },
         {
          "date": "2015-08-09T00:00:00",
          "monthly_mean": 26.11209677419356,
          "precipitation": 0,
          "temp_max": 28.3,
          "temp_min": 15,
          "weather": "sun",
          "wind": 2.2
         },
         {
          "date": "2015-08-10T00:00:00",
          "monthly_mean": 26.11209677419356,
          "precipitation": 0,
          "temp_max": 28.9,
          "temp_min": 16.1,
          "weather": "sun",
          "wind": 2.4
         },
         {
          "date": "2015-08-11T00:00:00",
          "monthly_mean": 26.11209677419356,
          "precipitation": 0,
          "temp_max": 30,
          "temp_min": 16.7,
          "weather": "sun",
          "wind": 4.4
         },
         {
          "date": "2015-08-12T00:00:00",
          "monthly_mean": 26.11209677419356,
          "precipitation": 7.6,
          "temp_max": 28.3,
          "temp_min": 16.7,
          "weather": "rain",
          "wind": 2.7
         },
         {
          "date": "2015-08-13T00:00:00",
          "monthly_mean": 26.11209677419356,
          "precipitation": 0,
          "temp_max": 28.3,
          "temp_min": 15.6,
          "weather": "sun",
          "wind": 2.2
         },
         {
          "date": "2015-08-14T00:00:00",
          "monthly_mean": 26.11209677419356,
          "precipitation": 30.5,
          "temp_max": 18.3,
          "temp_min": 15,
          "weather": "rain",
          "wind": 5.2
         },
         {
          "date": "2015-08-15T00:00:00",
          "monthly_mean": 26.11209677419356,
          "precipitation": 0,
          "temp_max": 21.7,
          "temp_min": 13.9,
          "weather": "sun",
          "wind": 3.7
         },
         {
          "date": "2015-08-16T00:00:00",
          "monthly_mean": 26.11209677419356,
          "precipitation": 0,
          "temp_max": 25,
          "temp_min": 14.4,
          "weather": "sun",
          "wind": 3.7
         },
         {
          "date": "2015-08-17T00:00:00",
          "monthly_mean": 26.11209677419356,
          "precipitation": 0,
          "temp_max": 27.2,
          "temp_min": 13.9,
          "weather": "sun",
          "wind": 3
         },
         {
          "date": "2015-08-18T00:00:00",
          "monthly_mean": 26.11209677419356,
          "precipitation": 0,
          "temp_max": 30,
          "temp_min": 15,
          "weather": "sun",
          "wind": 3
         },
         {
          "date": "2015-08-19T00:00:00",
          "monthly_mean": 26.11209677419356,
          "precipitation": 0,
          "temp_max": 31.7,
          "temp_min": 16.1,
          "weather": "drizzle",
          "wind": 2.1
         },
         {
          "date": "2015-08-20T00:00:00",
          "monthly_mean": 26.11209677419356,
          "precipitation": 2,
          "temp_max": 22.8,
          "temp_min": 14.4,
          "weather": "fog",
          "wind": 4.2
         },
         {
          "date": "2015-08-21T00:00:00",
          "monthly_mean": 26.11209677419356,
          "precipitation": 0,
          "temp_max": 22.2,
          "temp_min": 14.4,
          "weather": "sun",
          "wind": 2.6
         },
         {
          "date": "2015-08-22T00:00:00",
          "monthly_mean": 26.11209677419356,
          "precipitation": 0,
          "temp_max": 26.7,
          "temp_min": 12.2,
          "weather": "drizzle",
          "wind": 2.5
         },
         {
          "date": "2015-08-23T00:00:00",
          "monthly_mean": 26.11209677419356,
          "precipitation": 0,
          "temp_max": 27.8,
          "temp_min": 13.9,
          "weather": "drizzle",
          "wind": 1.8
         },
         {
          "date": "2015-08-24T00:00:00",
          "monthly_mean": 26.11209677419356,
          "precipitation": 0,
          "temp_max": 23.9,
          "temp_min": 12.2,
          "weather": "sun",
          "wind": 2.3
         },
         {
          "date": "2015-08-25T00:00:00",
          "monthly_mean": 26.11209677419356,
          "precipitation": 0,
          "temp_max": 25.6,
          "temp_min": 12.2,
          "weather": "sun",
          "wind": 3.4
         },
         {
          "date": "2015-08-26T00:00:00",
          "monthly_mean": 26.11209677419356,
          "precipitation": 0,
          "temp_max": 28.3,
          "temp_min": 13.9,
          "weather": "sun",
          "wind": 1.7
         },
         {
          "date": "2015-08-27T00:00:00",
          "monthly_mean": 26.11209677419356,
          "precipitation": 0,
          "temp_max": 29.4,
          "temp_min": 14.4,
          "weather": "sun",
          "wind": 2.1
         },
         {
          "date": "2015-08-28T00:00:00",
          "monthly_mean": 26.11209677419356,
          "precipitation": 0.5,
          "temp_max": 23.3,
          "temp_min": 15.6,
          "weather": "fog",
          "wind": 2.6
         },
         {
          "date": "2015-08-29T00:00:00",
          "monthly_mean": 26.11209677419356,
          "precipitation": 32.5,
          "temp_max": 22.2,
          "temp_min": 13.3,
          "weather": "fog",
          "wind": 5.8
         },
         {
          "date": "2015-08-30T00:00:00",
          "monthly_mean": 26.11209677419356,
          "precipitation": 10.2,
          "temp_max": 20,
          "temp_min": 12.8,
          "weather": "fog",
          "wind": 4.7
         },
         {
          "date": "2015-08-31T00:00:00",
          "monthly_mean": 26.11209677419356,
          "precipitation": 0,
          "temp_max": 18.9,
          "temp_min": 16.1,
          "weather": "sun",
          "wind": 5.8
         },
         {
          "date": "2015-09-01T00:00:00",
          "monthly_mean": 21.924166666666675,
          "precipitation": 5.8,
          "temp_max": 19.4,
          "temp_min": 13.9,
          "weather": "fog",
          "wind": 5
         },
         {
          "date": "2015-09-02T00:00:00",
          "monthly_mean": 21.924166666666675,
          "precipitation": 0,
          "temp_max": 19.4,
          "temp_min": 11.1,
          "weather": "sun",
          "wind": 3.8
         },
         {
          "date": "2015-09-03T00:00:00",
          "monthly_mean": 21.924166666666675,
          "precipitation": 0,
          "temp_max": 18.3,
          "temp_min": 10.6,
          "weather": "sun",
          "wind": 2.9
         },
         {
          "date": "2015-09-04T00:00:00",
          "monthly_mean": 21.924166666666675,
          "precipitation": 0,
          "temp_max": 18.3,
          "temp_min": 10,
          "weather": "sun",
          "wind": 2.9
         },
         {
          "date": "2015-09-05T00:00:00",
          "monthly_mean": 21.924166666666675,
          "precipitation": 0.3,
          "temp_max": 20.6,
          "temp_min": 8.9,
          "weather": "sun",
          "wind": 3.5
         },
         {
          "date": "2015-09-06T00:00:00",
          "monthly_mean": 21.924166666666675,
          "precipitation": 5.3,
          "temp_max": 16.1,
          "temp_min": 11.7,
          "weather": "fog",
          "wind": 2.4
         },
         {
          "date": "2015-09-07T00:00:00",
          "monthly_mean": 21.924166666666675,
          "precipitation": 0.3,
          "temp_max": 21.1,
          "temp_min": 13.3,
          "weather": "fog",
          "wind": 1.5
         },
         {
          "date": "2015-09-08T00:00:00",
          "monthly_mean": 21.924166666666675,
          "precipitation": 0,
          "temp_max": 22.8,
          "temp_min": 13.3,
          "weather": "sun",
          "wind": 2.4
         },
         {
          "date": "2015-09-09T00:00:00",
          "monthly_mean": 21.924166666666675,
          "precipitation": 0,
          "temp_max": 24.4,
          "temp_min": 13.9,
          "weather": "sun",
          "wind": 3.3
         },
         {
          "date": "2015-09-10T00:00:00",
          "monthly_mean": 21.924166666666675,
          "precipitation": 0,
          "temp_max": 25,
          "temp_min": 14.4,
          "weather": "fog",
          "wind": 3.6
         },
         {
          "date": "2015-09-11T00:00:00",
          "monthly_mean": 21.924166666666675,
          "precipitation": 0,
          "temp_max": 27.2,
          "temp_min": 15,
          "weather": "sun",
          "wind": 3.1
         },
         {
          "date": "2015-09-12T00:00:00",
          "monthly_mean": 21.924166666666675,
          "precipitation": 0,
          "temp_max": 26.7,
          "temp_min": 14.4,
          "weather": "sun",
          "wind": 2.1
         },
         {
          "date": "2015-09-13T00:00:00",
          "monthly_mean": 21.924166666666675,
          "precipitation": 0.5,
          "temp_max": 20.6,
          "temp_min": 12.8,
          "weather": "fog",
          "wind": 3
         },
         {
          "date": "2015-09-14T00:00:00",
          "monthly_mean": 21.924166666666675,
          "precipitation": 0,
          "temp_max": 16.7,
          "temp_min": 10.6,
          "weather": "sun",
          "wind": 3.4
         },
         {
          "date": "2015-09-15T00:00:00",
          "monthly_mean": 21.924166666666675,
          "precipitation": 0,
          "temp_max": 17.8,
          "temp_min": 10,
          "weather": "sun",
          "wind": 2.8
         },
         {
          "date": "2015-09-16T00:00:00",
          "monthly_mean": 21.924166666666675,
          "precipitation": 1,
          "temp_max": 20,
          "temp_min": 10,
          "weather": "sun",
          "wind": 1.9
         },
         {
          "date": "2015-09-17T00:00:00",
          "monthly_mean": 21.924166666666675,
          "precipitation": 1.8,
          "temp_max": 18.3,
          "temp_min": 12.8,
          "weather": "fog",
          "wind": 3.8
         },
         {
          "date": "2015-09-18T00:00:00",
          "monthly_mean": 21.924166666666675,
          "precipitation": 0,
          "temp_max": 19.4,
          "temp_min": 12.8,
          "weather": "sun",
          "wind": 2.6
         },
         {
          "date": "2015-09-19T00:00:00",
          "monthly_mean": 21.924166666666675,
          "precipitation": 0,
          "temp_max": 21.1,
          "temp_min": 14.4,
          "weather": "sun",
          "wind": 4.3
         },
         {
          "date": "2015-09-20T00:00:00",
          "monthly_mean": 21.924166666666675,
          "precipitation": 4.1,
          "temp_max": 22.8,
          "temp_min": 12.2,
          "weather": "fog",
          "wind": 6.8
         },
         {
          "date": "2015-09-21T00:00:00",
          "monthly_mean": 21.924166666666675,
          "precipitation": 0,
          "temp_max": 18.3,
          "temp_min": 9.4,
          "weather": "fog",
          "wind": 2.7
         },
         {
          "date": "2015-09-22T00:00:00",
          "monthly_mean": 21.924166666666675,
          "precipitation": 0,
          "temp_max": 18.9,
          "temp_min": 7.8,
          "weather": "sun",
          "wind": 2
         },
         {
          "date": "2015-09-23T00:00:00",
          "monthly_mean": 21.924166666666675,
          "precipitation": 0,
          "temp_max": 20.6,
          "temp_min": 8.3,
          "weather": "sun",
          "wind": 1.8
         },
         {
          "date": "2015-09-24T00:00:00",
          "monthly_mean": 21.924166666666675,
          "precipitation": 0,
          "temp_max": 22.2,
          "temp_min": 11.1,
          "weather": "fog",
          "wind": 2.5
         },
         {
          "date": "2015-09-25T00:00:00",
          "monthly_mean": 21.924166666666675,
          "precipitation": 2,
          "temp_max": 15.6,
          "temp_min": 12.8,
          "weather": "fog",
          "wind": 2.6
         },
         {
          "date": "2015-09-26T00:00:00",
          "monthly_mean": 21.924166666666675,
          "precipitation": 0,
          "temp_max": 18.3,
          "temp_min": 10,
          "weather": "sun",
          "wind": 2.7
         },
         {
          "date": "2015-09-27T00:00:00",
          "monthly_mean": 21.924166666666675,
          "precipitation": 0,
          "temp_max": 17.8,
          "temp_min": 7.2,
          "weather": "sun",
          "wind": 3.8
         },
         {
          "date": "2015-09-28T00:00:00",
          "monthly_mean": 21.924166666666675,
          "precipitation": 0,
          "temp_max": 21.1,
          "temp_min": 9.4,
          "weather": "sun",
          "wind": 5.1
         },
         {
          "date": "2015-09-29T00:00:00",
          "monthly_mean": 21.924166666666675,
          "precipitation": 0,
          "temp_max": 21.7,
          "temp_min": 8.9,
          "weather": "sun",
          "wind": 1.9
         },
         {
          "date": "2015-09-30T00:00:00",
          "monthly_mean": 21.924166666666675,
          "precipitation": 0,
          "temp_max": 18.3,
          "temp_min": 10,
          "weather": "fog",
          "wind": 1.3
         },
         {
          "date": "2015-10-01T00:00:00",
          "monthly_mean": 16.38951612903225,
          "precipitation": 0,
          "temp_max": 21.1,
          "temp_min": 9.4,
          "weather": "fog",
          "wind": 1.3
         },
         {
          "date": "2015-10-02T00:00:00",
          "monthly_mean": 16.38951612903225,
          "precipitation": 0,
          "temp_max": 15.6,
          "temp_min": 10,
          "weather": "fog",
          "wind": 2.9
         },
         {
          "date": "2015-10-03T00:00:00",
          "monthly_mean": 16.38951612903225,
          "precipitation": 0,
          "temp_max": 19.4,
          "temp_min": 11.1,
          "weather": "sun",
          "wind": 4.8
         },
         {
          "date": "2015-10-04T00:00:00",
          "monthly_mean": 16.38951612903225,
          "precipitation": 0,
          "temp_max": 22.8,
          "temp_min": 10,
          "weather": "sun",
          "wind": 3.7
         },
         {
          "date": "2015-10-05T00:00:00",
          "monthly_mean": 16.38951612903225,
          "precipitation": 0,
          "temp_max": 23.3,
          "temp_min": 9.4,
          "weather": "sun",
          "wind": 1.6
         },
         {
          "date": "2015-10-06T00:00:00",
          "monthly_mean": 16.38951612903225,
          "precipitation": 0,
          "temp_max": 18.3,
          "temp_min": 10,
          "weather": "drizzle",
          "wind": 2.6
         },
         {
          "date": "2015-10-07T00:00:00",
          "monthly_mean": 16.38951612903225,
          "precipitation": 9.9,
          "temp_max": 16.1,
          "temp_min": 13.9,
          "weather": "fog",
          "wind": 2.2
         },
         {
          "date": "2015-10-08T00:00:00",
          "monthly_mean": 16.38951612903225,
          "precipitation": 0,
          "temp_max": 18.9,
          "temp_min": 13.3,
          "weather": "fog",
          "wind": 1.1
         },
         {
          "date": "2015-10-09T00:00:00",
          "monthly_mean": 16.38951612903225,
          "precipitation": 0.3,
          "temp_max": 19.4,
          "temp_min": 12.2,
          "weather": "fog",
          "wind": 2.6
         },
         {
          "date": "2015-10-10T00:00:00",
          "monthly_mean": 16.38951612903225,
          "precipitation": 28.7,
          "temp_max": 21.1,
          "temp_min": 13.3,
          "weather": "fog",
          "wind": 4.7
         },
         {
          "date": "2015-10-11T00:00:00",
          "monthly_mean": 16.38951612903225,
          "precipitation": 0,
          "temp_max": 17.8,
          "temp_min": 10.6,
          "weather": "sun",
          "wind": 2.6
         },
         {
          "date": "2015-10-12T00:00:00",
          "monthly_mean": 16.38951612903225,
          "precipitation": 4.6,
          "temp_max": 18.3,
          "temp_min": 10.6,
          "weather": "fog",
          "wind": 2.8
         },
         {
          "date": "2015-10-13T00:00:00",
          "monthly_mean": 16.38951612903225,
          "precipitation": 1.3,
          "temp_max": 16.7,
          "temp_min": 9.4,
          "weather": "fog",
          "wind": 3.2
         },
         {
          "date": "2015-10-14T00:00:00",
          "monthly_mean": 16.38951612903225,
          "precipitation": 0,
          "temp_max": 15,
          "temp_min": 10,
          "weather": "fog",
          "wind": 5
         },
         {
          "date": "2015-10-15T00:00:00",
          "monthly_mean": 16.38951612903225,
          "precipitation": 0,
          "temp_max": 21.1,
          "temp_min": 9.4,
          "weather": "fog",
          "wind": 3.4
         },
         {
          "date": "2015-10-16T00:00:00",
          "monthly_mean": 16.38951612903225,
          "precipitation": 0,
          "temp_max": 20,
          "temp_min": 8.9,
          "weather": "sun",
          "wind": 1.3
         },
         {
          "date": "2015-10-17T00:00:00",
          "monthly_mean": 16.38951612903225,
          "precipitation": 0.3,
          "temp_max": 19.4,
          "temp_min": 11.7,
          "weather": "fog",
          "wind": 1.3
         },
         {
          "date": "2015-10-18T00:00:00",
          "monthly_mean": 16.38951612903225,
          "precipitation": 3.8,
          "temp_max": 15,
          "temp_min": 12.8,
          "weather": "fog",
          "wind": 2
         },
         {
          "date": "2015-10-19T00:00:00",
          "monthly_mean": 16.38951612903225,
          "precipitation": 0.3,
          "temp_max": 17.2,
          "temp_min": 12.2,
          "weather": "fog",
          "wind": 2.6
         },
         {
          "date": "2015-10-20T00:00:00",
          "monthly_mean": 16.38951612903225,
          "precipitation": 0,
          "temp_max": 17.8,
          "temp_min": 10.6,
          "weather": "fog",
          "wind": 1.8
         },
         {
          "date": "2015-10-21T00:00:00",
          "monthly_mean": 16.38951612903225,
          "precipitation": 0,
          "temp_max": 16.1,
          "temp_min": 8.3,
          "weather": "fog",
          "wind": 1.3
         },
         {
          "date": "2015-10-22T00:00:00",
          "monthly_mean": 16.38951612903225,
          "precipitation": 0,
          "temp_max": 16.1,
          "temp_min": 8.9,
          "weather": "fog",
          "wind": 2.7
         },
         {
          "date": "2015-10-23T00:00:00",
          "monthly_mean": 16.38951612903225,
          "precipitation": 0,
          "temp_max": 12.8,
          "temp_min": 7.2,
          "weather": "fog",
          "wind": 2.6
         },
         {
          "date": "2015-10-24T00:00:00",
          "monthly_mean": 16.38951612903225,
          "precipitation": 0,
          "temp_max": 15,
          "temp_min": 8.9,
          "weather": "fog",
          "wind": 2.9
         },
         {
          "date": "2015-10-25T00:00:00",
          "monthly_mean": 16.38951612903225,
          "precipitation": 8.9,
          "temp_max": 19.4,
          "temp_min": 8.9,
          "weather": "rain",
          "wind": 3.4
         },
         {
          "date": "2015-10-26T00:00:00",
          "monthly_mean": 16.38951612903225,
          "precipitation": 6.9,
          "temp_max": 12.2,
          "temp_min": 10,
          "weather": "fog",
          "wind": 4.6
         },
         {
          "date": "2015-10-27T00:00:00",
          "monthly_mean": 16.38951612903225,
          "precipitation": 0,
          "temp_max": 16.1,
          "temp_min": 7.8,
          "weather": "fog",
          "wind": 1.7
         },
         {
          "date": "2015-10-28T00:00:00",
          "monthly_mean": 16.38951612903225,
          "precipitation": 3.3,
          "temp_max": 13.9,
          "temp_min": 11.1,
          "weather": "fog",
          "wind": 2.8
         },
         {
          "date": "2015-10-29T00:00:00",
          "monthly_mean": 16.38951612903225,
          "precipitation": 1.8,
          "temp_max": 15,
          "temp_min": 12.2,
          "weather": "fog",
          "wind": 4.7
         },
         {
          "date": "2015-10-30T00:00:00",
          "monthly_mean": 16.38951612903225,
          "precipitation": 19.3,
          "temp_max": 17.2,
          "temp_min": 11.7,
          "weather": "fog",
          "wind": 6.7
         },
         {
          "date": "2015-10-31T00:00:00",
          "monthly_mean": 16.38951612903225,
          "precipitation": 33,
          "temp_max": 15.6,
          "temp_min": 11.7,
          "weather": "fog",
          "wind": 7.2
         },
         {
          "date": "2015-11-01T00:00:00",
          "monthly_mean": 11.023333333333337,
          "precipitation": 26.2,
          "temp_max": 12.2,
          "temp_min": 8.9,
          "weather": "fog",
          "wind": 6
         },
         {
          "date": "2015-11-02T00:00:00",
          "monthly_mean": 11.023333333333337,
          "precipitation": 0.3,
          "temp_max": 11.1,
          "temp_min": 7.2,
          "weather": "fog",
          "wind": 2.8
         },
         {
          "date": "2015-11-03T00:00:00",
          "monthly_mean": 11.023333333333337,
          "precipitation": 0.8,
          "temp_max": 10.6,
          "temp_min": 5,
          "weather": "fog",
          "wind": 1.4
         },
         {
          "date": "2015-11-04T00:00:00",
          "monthly_mean": 11.023333333333337,
          "precipitation": 0,
          "temp_max": 10,
          "temp_min": 3.3,
          "weather": "sun",
          "wind": 2.2
         },
         {
          "date": "2015-11-05T00:00:00",
          "monthly_mean": 11.023333333333337,
          "precipitation": 1.3,
          "temp_max": 11.7,
          "temp_min": 7.8,
          "weather": "fog",
          "wind": 2.3
         },
         {
          "date": "2015-11-06T00:00:00",
          "monthly_mean": 11.023333333333337,
          "precipitation": 0,
          "temp_max": 15.6,
          "temp_min": 8.3,
          "weather": "fog",
          "wind": 2.7
         },
         {
          "date": "2015-11-07T00:00:00",
          "monthly_mean": 11.023333333333337,
          "precipitation": 12.7,
          "temp_max": 12.2,
          "temp_min": 9.4,
          "weather": "fog",
          "wind": 3
         },
         {
          "date": "2015-11-08T00:00:00",
          "monthly_mean": 11.023333333333337,
          "precipitation": 6.6,
          "temp_max": 11.1,
          "temp_min": 7.8,
          "weather": "fog",
          "wind": 1.8
         },
         {
          "date": "2015-11-09T00:00:00",
          "monthly_mean": 11.023333333333337,
          "precipitation": 3.3,
          "temp_max": 10,
          "temp_min": 5,
          "weather": "fog",
          "wind": 1.3
         },
         {
          "date": "2015-11-10T00:00:00",
          "monthly_mean": 11.023333333333337,
          "precipitation": 1.3,
          "temp_max": 11.1,
          "temp_min": 3.9,
          "weather": "fog",
          "wind": 3.9
         },
         {
          "date": "2015-11-11T00:00:00",
          "monthly_mean": 11.023333333333337,
          "precipitation": 1.5,
          "temp_max": 11.1,
          "temp_min": 6.1,
          "weather": "sun",
          "wind": 4.6
         },
         {
          "date": "2015-11-12T00:00:00",
          "monthly_mean": 11.023333333333337,
          "precipitation": 9.9,
          "temp_max": 11.1,
          "temp_min": 5,
          "weather": "fog",
          "wind": 5.1
         },
         {
          "date": "2015-11-13T00:00:00",
          "monthly_mean": 11.023333333333337,
          "precipitation": 33.5,
          "temp_max": 13.3,
          "temp_min": 9.4,
          "weather": "fog",
          "wind": 6.5
         },
         {
          "date": "2015-11-14T00:00:00",
          "monthly_mean": 11.023333333333337,
          "precipitation": 47.2,
          "temp_max": 9.4,
          "temp_min": 6.1,
          "weather": "fog",
          "wind": 4.5
         },
         {
          "date": "2015-11-15T00:00:00",
          "monthly_mean": 11.023333333333337,
          "precipitation": 22.4,
          "temp_max": 8.9,
          "temp_min": 2.2,
          "weather": "fog",
          "wind": 4.1
         },
         {
          "date": "2015-11-16T00:00:00",
          "monthly_mean": 11.023333333333337,
          "precipitation": 2,
          "temp_max": 8.9,
          "temp_min": 1.7,
          "weather": "fog",
          "wind": 4
         },
         {
          "date": "2015-11-17T00:00:00",
          "monthly_mean": 11.023333333333337,
          "precipitation": 29.5,
          "temp_max": 13.3,
          "temp_min": 6.7,
          "weather": "fog",
          "wind": 8
         },
         {
          "date": "2015-11-18T00:00:00",
          "monthly_mean": 11.023333333333337,
          "precipitation": 1.5,
          "temp_max": 8.9,
          "temp_min": 3.3,
          "weather": "sun",
          "wind": 3.8
         },
         {
          "date": "2015-11-19T00:00:00",
          "monthly_mean": 11.023333333333337,
          "precipitation": 2,
          "temp_max": 8.9,
          "temp_min": 2.8,
          "weather": "sun",
          "wind": 4.2
         },
         {
          "date": "2015-11-20T00:00:00",
          "monthly_mean": 11.023333333333337,
          "precipitation": 0,
          "temp_max": 8.3,
          "temp_min": 0.6,
          "weather": "fog",
          "wind": 4
         },
         {
          "date": "2015-11-21T00:00:00",
          "monthly_mean": 11.023333333333337,
          "precipitation": 0,
          "temp_max": 8.9,
          "temp_min": 0.6,
          "weather": "sun",
          "wind": 4.7
         },
         {
          "date": "2015-11-22T00:00:00",
          "monthly_mean": 11.023333333333337,
          "precipitation": 0,
          "temp_max": 10,
          "temp_min": 1.7,
          "weather": "fog",
          "wind": 3.1
         },
         {
          "date": "2015-11-23T00:00:00",
          "monthly_mean": 11.023333333333337,
          "precipitation": 3,
          "temp_max": 6.7,
          "temp_min": 0,
          "weather": "fog",
          "wind": 1.3
         },
         {
          "date": "2015-11-24T00:00:00",
          "monthly_mean": 11.023333333333337,
          "precipitation": 7.1,
          "temp_max": 6.7,
          "temp_min": 2.8,
          "weather": "fog",
          "wind": 4.5
         },
         {
          "date": "2015-11-25T00:00:00",
          "monthly_mean": 11.023333333333337,
          "precipitation": 0,
          "temp_max": 7.2,
          "temp_min": 0,
          "weather": "sun",
          "wind": 5.7
         },
         {
          "date": "2015-11-26T00:00:00",
          "monthly_mean": 11.023333333333337,
          "precipitation": 0,
          "temp_max": 9.4,
          "temp_min": -1,
          "weather": "sun",
          "wind": 4.3
         },
         {
          "date": "2015-11-27T00:00:00",
          "monthly_mean": 11.023333333333337,
          "precipitation": 0,
          "temp_max": 9.4,
          "temp_min": -1.6,
          "weather": "sun",
          "wind": 3
         },
         {
          "date": "2015-11-28T00:00:00",
          "monthly_mean": 11.023333333333337,
          "precipitation": 0,
          "temp_max": 7.2,
          "temp_min": -2.7,
          "weather": "sun",
          "wind": 1
         },
         {
          "date": "2015-11-29T00:00:00",
          "monthly_mean": 11.023333333333337,
          "precipitation": 0,
          "temp_max": 1.7,
          "temp_min": -2.1,
          "weather": "fog",
          "wind": 0.9
         },
         {
          "date": "2015-11-30T00:00:00",
          "monthly_mean": 11.023333333333337,
          "precipitation": 0.5,
          "temp_max": 5.6,
          "temp_min": -3.8,
          "weather": "fog",
          "wind": 1.7
         },
         {
          "date": "2015-12-01T00:00:00",
          "monthly_mean": 8.194354838709678,
          "precipitation": 12.2,
          "temp_max": 10,
          "temp_min": 3.9,
          "weather": "fog",
          "wind": 3.5
         },
         {
          "date": "2015-12-02T00:00:00",
          "monthly_mean": 8.194354838709678,
          "precipitation": 2.5,
          "temp_max": 10.6,
          "temp_min": 4.4,
          "weather": "fog",
          "wind": 5
         },
         {
          "date": "2015-12-03T00:00:00",
          "monthly_mean": 8.194354838709678,
          "precipitation": 12.7,
          "temp_max": 15.6,
          "temp_min": 7.8,
          "weather": "fog",
          "wind": 5.9
         },
         {
          "date": "2015-12-04T00:00:00",
          "monthly_mean": 8.194354838709678,
          "precipitation": 2,
          "temp_max": 10.6,
          "temp_min": 6.1,
          "weather": "fog",
          "wind": 4.7
         },
         {
          "date": "2015-12-05T00:00:00",
          "monthly_mean": 8.194354838709678,
          "precipitation": 15.7,
          "temp_max": 10,
          "temp_min": 6.1,
          "weather": "fog",
          "wind": 4
         },
         {
          "date": "2015-12-06T00:00:00",
          "monthly_mean": 8.194354838709678,
          "precipitation": 11.2,
          "temp_max": 12.8,
          "temp_min": 7.2,
          "weather": "fog",
          "wind": 5.9
         },
         {
          "date": "2015-12-07T00:00:00",
          "monthly_mean": 8.194354838709678,
          "precipitation": 27.4,
          "temp_max": 11.1,
          "temp_min": 8.3,
          "weather": "fog",
          "wind": 3.4
         },
         {
          "date": "2015-12-08T00:00:00",
          "monthly_mean": 8.194354838709678,
          "precipitation": 54.1,
          "temp_max": 15.6,
          "temp_min": 10,
          "weather": "fog",
          "wind": 6.2
         },
         {
          "date": "2015-12-09T00:00:00",
          "monthly_mean": 8.194354838709678,
          "precipitation": 13.5,
          "temp_max": 12.2,
          "temp_min": 7.8,
          "weather": "fog",
          "wind": 6.3
         },
         {
          "date": "2015-12-10T00:00:00",
          "monthly_mean": 8.194354838709678,
          "precipitation": 9.4,
          "temp_max": 11.7,
          "temp_min": 6.1,
          "weather": "fog",
          "wind": 7.5
         },
         {
          "date": "2015-12-11T00:00:00",
          "monthly_mean": 8.194354838709678,
          "precipitation": 0.3,
          "temp_max": 9.4,
          "temp_min": 4.4,
          "weather": "sun",
          "wind": 2.8
         },
         {
          "date": "2015-12-12T00:00:00",
          "monthly_mean": 8.194354838709678,
          "precipitation": 16,
          "temp_max": 8.9,
          "temp_min": 5.6,
          "weather": "fog",
          "wind": 5.6
         },
         {
          "date": "2015-12-13T00:00:00",
          "monthly_mean": 8.194354838709678,
          "precipitation": 1.3,
          "temp_max": 7.8,
          "temp_min": 6.1,
          "weather": "sun",
          "wind": 6.1
         },
         {
          "date": "2015-12-14T00:00:00",
          "monthly_mean": 8.194354838709678,
          "precipitation": 0,
          "temp_max": 7.8,
          "temp_min": 1.7,
          "weather": "sun",
          "wind": 1.7
         },
         {
          "date": "2015-12-15T00:00:00",
          "monthly_mean": 8.194354838709678,
          "precipitation": 1.5,
          "temp_max": 6.7,
          "temp_min": 1.1,
          "weather": "fog",
          "wind": 2.9
         },
         {
          "date": "2015-12-16T00:00:00",
          "monthly_mean": 8.194354838709678,
          "precipitation": 3.6,
          "temp_max": 6.1,
          "temp_min": 2.8,
          "weather": "fog",
          "wind": 2.3
         },
         {
          "date": "2015-12-17T00:00:00",
          "monthly_mean": 8.194354838709678,
          "precipitation": 21.8,
          "temp_max": 6.7,
          "temp_min": 3.9,
          "weather": "fog",
          "wind": 6
         },
         {
          "date": "2015-12-18T00:00:00",
          "monthly_mean": 8.194354838709678,
          "precipitation": 18.5,
          "temp_max": 8.9,
          "temp_min": 4.4,
          "weather": "fog",
          "wind": 5.1
         },
         {
          "date": "2015-12-19T00:00:00",
          "monthly_mean": 8.194354838709678,
          "precipitation": 0,
          "temp_max": 8.3,
          "temp_min": 2.8,
          "weather": "fog",
          "wind": 4.1
         },
         {
          "date": "2015-12-20T00:00:00",
          "monthly_mean": 8.194354838709678,
          "precipitation": 4.3,
          "temp_max": 7.8,
          "temp_min": 4.4,
          "weather": "fog",
          "wind": 6.7
         },
         {
          "date": "2015-12-21T00:00:00",
          "monthly_mean": 8.194354838709678,
          "precipitation": 27.4,
          "temp_max": 5.6,
          "temp_min": 2.8,
          "weather": "fog",
          "wind": 4.3
         },
         {
          "date": "2015-12-22T00:00:00",
          "monthly_mean": 8.194354838709678,
          "precipitation": 4.6,
          "temp_max": 7.8,
          "temp_min": 2.8,
          "weather": "fog",
          "wind": 5
         },
         {
          "date": "2015-12-23T00:00:00",
          "monthly_mean": 8.194354838709678,
          "precipitation": 6.1,
          "temp_max": 5,
          "temp_min": 2.8,
          "weather": "fog",
          "wind": 7.6
         },
         {
          "date": "2015-12-24T00:00:00",
          "monthly_mean": 8.194354838709678,
          "precipitation": 2.5,
          "temp_max": 5.6,
          "temp_min": 2.2,
          "weather": "fog",
          "wind": 4.3
         },
         {
          "date": "2015-12-25T00:00:00",
          "monthly_mean": 8.194354838709678,
          "precipitation": 5.8,
          "temp_max": 5,
          "temp_min": 2.2,
          "weather": "fog",
          "wind": 1.5
         },
         {
          "date": "2015-12-26T00:00:00",
          "monthly_mean": 8.194354838709678,
          "precipitation": 0,
          "temp_max": 4.4,
          "temp_min": 0,
          "weather": "sun",
          "wind": 2.5
         },
         {
          "date": "2015-12-27T00:00:00",
          "monthly_mean": 8.194354838709678,
          "precipitation": 8.6,
          "temp_max": 4.4,
          "temp_min": 1.7,
          "weather": "fog",
          "wind": 2.9
         },
         {
          "date": "2015-12-28T00:00:00",
          "monthly_mean": 8.194354838709678,
          "precipitation": 1.5,
          "temp_max": 5,
          "temp_min": 1.7,
          "weather": "fog",
          "wind": 1.3
         },
         {
          "date": "2015-12-29T00:00:00",
          "monthly_mean": 8.194354838709678,
          "precipitation": 0,
          "temp_max": 7.2,
          "temp_min": 0.6,
          "weather": "fog",
          "wind": 2.6
         },
         {
          "date": "2015-12-30T00:00:00",
          "monthly_mean": 8.194354838709678,
          "precipitation": 0,
          "temp_max": 5.6,
          "temp_min": -1,
          "weather": "sun",
          "wind": 3.4
         },
         {
          "date": "2015-12-31T00:00:00",
          "monthly_mean": 8.194354838709678,
          "precipitation": 0,
          "temp_max": 5.6,
          "temp_min": -2.1,
          "weather": "sun",
          "wind": 3.5
         }
        ]
       },
       "encoding": {
        "color": {
         "field": "highlight",
         "scale": {
          "domain": [
           "false",
           "true"
          ],
          "range": [
           "lightgray",
           "darkred"
          ]
         },
         "type": "ordinal"
        },
        "x": {
         "field": "date",
         "timeUnit": "yearmonthdate",
         "type": "temporal"
        },
        "y": {
         "aggregate": "mean",
         "field": "temp_max",
         "type": "quantitative"
        }
       },
       "mark": "circle",
       "transform": [
        {
         "as": "highlight",
         "calculate": "datum.temp_max > datum.monthly_mean"
        }
       ]
      },
      "image/png": "[encoded data removed]",
      "text/plain": [
       "<VegaLite 2 object>\n",
       "\n",
       "If you see this message, it means the renderer has not been properly enabled\n",
       "for the frontend that you are using. For more information, see\n",
       "https://altair-viz.github.io/user_guide/troubleshooting.html\n"
      ]
     },
     "execution_count": 63,
     "metadata": {},
     "output_type": "execute_result"
    }
   ],
   "source": [
    "alt.Chart(weather).mark_circle().encode(\n",
    "    x = 'yearmonthdate(date):T',\n",
    "    y = 'mean(temp_max):Q',\n",
    "    color = alt.Color('highlight:O', scale=alt.Scale(domain=['false', 'true'],\n",
    "                      range=['lightgray', 'darkred']))\n",
    ").transform_calculate(\n",
    "    highlight = 'datum.temp_max > datum.monthly_mean'\n",
    ")"
   ]
  },
  {
   "cell_type": "markdown",
   "metadata": {},
   "source": [
    "## Weather table highlighting rain\n",
    "\n",
    "The first key to creating a table in Altair is actually to destroy your table structure. Altair can't really display Pandas columns as separate columns in a visualization. What it can do is to place the unique entries in a single column across the X-axis of a text visualization. So, you need to `melt` your DataFrame such that your Y-axis data is still in it's own column (think of these as \"row IDs\"), and the rest of the data is pivoted (in Tableau terms) such that the column headers are in one column, and the data entries are in the third column.\n",
    "\n",
    "The trick to highlighting certain whole rows is that the highlights are really a heatmap with only a single column. To create that, you need to filter out all of the other data \"columns\" (even though what you're really doing is filtering down to a certain rows in a categorical column), and then run a test for which of those remaining rows have the feature you want to highlight, and then coloring by the \"true\" values."
   ]
  },
  {
   "cell_type": "code",
   "execution_count": 57,
   "metadata": {},
   "outputs": [
    {
     "data": {
      "application/vnd.vegalite.v2+json": {
       "$schema": "https://vega.github.io/schema/vega-lite/v2.6.0.json",
       "config": {
        "view": {
         "height": 300,
         "width": 400
        }
       },
       "datasets": {
        "data-1576fc48d112b2223cdf39ef7a222914": [
         {
          "date": "2012-01-01T00:00:00",
          "value": 0,
          "variable": "precipitation"
         },
         {
          "date": "2012-01-02T00:00:00",
          "value": 10.9,
          "variable": "precipitation"
         },
         {
          "date": "2012-01-03T00:00:00",
          "value": 0.8,
          "variable": "precipitation"
         },
         {
          "date": "2012-01-04T00:00:00",
          "value": 20.3,
          "variable": "precipitation"
         },
         {
          "date": "2012-01-05T00:00:00",
          "value": 1.3,
          "variable": "precipitation"
         },
         {
          "date": "2012-01-06T00:00:00",
          "value": 2.5,
          "variable": "precipitation"
         },
         {
          "date": "2012-01-07T00:00:00",
          "value": 0,
          "variable": "precipitation"
         },
         {
          "date": "2012-01-08T00:00:00",
          "value": 0,
          "variable": "precipitation"
         },
         {
          "date": "2012-01-09T00:00:00",
          "value": 4.3,
          "variable": "precipitation"
         },
         {
          "date": "2012-01-10T00:00:00",
          "value": 1,
          "variable": "precipitation"
         },
         {
          "date": "2012-01-11T00:00:00",
          "value": 0,
          "variable": "precipitation"
         },
         {
          "date": "2012-01-12T00:00:00",
          "value": 0,
          "variable": "precipitation"
         },
         {
          "date": "2012-01-13T00:00:00",
          "value": 0,
          "variable": "precipitation"
         },
         {
          "date": "2012-01-14T00:00:00",
          "value": 4.1,
          "variable": "precipitation"
         },
         {
          "date": "2012-01-15T00:00:00",
          "value": 5.3,
          "variable": "precipitation"
         },
         {
          "date": "2012-01-16T00:00:00",
          "value": 2.5,
          "variable": "precipitation"
         },
         {
          "date": "2012-01-17T00:00:00",
          "value": 8.1,
          "variable": "precipitation"
         },
         {
          "date": "2012-01-18T00:00:00",
          "value": 19.8,
          "variable": "precipitation"
         },
         {
          "date": "2012-01-19T00:00:00",
          "value": 15.2,
          "variable": "precipitation"
         },
         {
          "date": "2012-01-20T00:00:00",
          "value": 13.5,
          "variable": "precipitation"
         },
         {
          "date": "2012-01-21T00:00:00",
          "value": 3,
          "variable": "precipitation"
         },
         {
          "date": "2012-01-01T00:00:00",
          "value": 12.8,
          "variable": "temp_max"
         },
         {
          "date": "2012-01-02T00:00:00",
          "value": 10.6,
          "variable": "temp_max"
         },
         {
          "date": "2012-01-03T00:00:00",
          "value": 11.7,
          "variable": "temp_max"
         },
         {
          "date": "2012-01-04T00:00:00",
          "value": 12.2,
          "variable": "temp_max"
         },
         {
          "date": "2012-01-05T00:00:00",
          "value": 8.9,
          "variable": "temp_max"
         },
         {
          "date": "2012-01-06T00:00:00",
          "value": 4.4,
          "variable": "temp_max"
         },
         {
          "date": "2012-01-07T00:00:00",
          "value": 7.2,
          "variable": "temp_max"
         },
         {
          "date": "2012-01-08T00:00:00",
          "value": 10,
          "variable": "temp_max"
         },
         {
          "date": "2012-01-09T00:00:00",
          "value": 9.4,
          "variable": "temp_max"
         },
         {
          "date": "2012-01-10T00:00:00",
          "value": 6.1,
          "variable": "temp_max"
         },
         {
          "date": "2012-01-11T00:00:00",
          "value": 6.1,
          "variable": "temp_max"
         },
         {
          "date": "2012-01-12T00:00:00",
          "value": 6.1,
          "variable": "temp_max"
         },
         {
          "date": "2012-01-13T00:00:00",
          "value": 5,
          "variable": "temp_max"
         },
         {
          "date": "2012-01-14T00:00:00",
          "value": 4.4,
          "variable": "temp_max"
         },
         {
          "date": "2012-01-15T00:00:00",
          "value": 1.1,
          "variable": "temp_max"
         },
         {
          "date": "2012-01-16T00:00:00",
          "value": 1.7,
          "variable": "temp_max"
         },
         {
          "date": "2012-01-17T00:00:00",
          "value": 3.3,
          "variable": "temp_max"
         },
         {
          "date": "2012-01-18T00:00:00",
          "value": 0,
          "variable": "temp_max"
         },
         {
          "date": "2012-01-19T00:00:00",
          "value": -1.1,
          "variable": "temp_max"
         },
         {
          "date": "2012-01-20T00:00:00",
          "value": 7.2,
          "variable": "temp_max"
         },
         {
          "date": "2012-01-21T00:00:00",
          "value": 8.3,
          "variable": "temp_max"
         },
         {
          "date": "2012-01-01T00:00:00",
          "value": 5,
          "variable": "temp_min"
         },
         {
          "date": "2012-01-02T00:00:00",
          "value": 2.8,
          "variable": "temp_min"
         },
         {
          "date": "2012-01-03T00:00:00",
          "value": 7.2,
          "variable": "temp_min"
         },
         {
          "date": "2012-01-04T00:00:00",
          "value": 5.6,
          "variable": "temp_min"
         },
         {
          "date": "2012-01-05T00:00:00",
          "value": 2.8,
          "variable": "temp_min"
         },
         {
          "date": "2012-01-06T00:00:00",
          "value": 2.2,
          "variable": "temp_min"
         },
         {
          "date": "2012-01-07T00:00:00",
          "value": 2.8,
          "variable": "temp_min"
         },
         {
          "date": "2012-01-08T00:00:00",
          "value": 2.8,
          "variable": "temp_min"
         },
         {
          "date": "2012-01-09T00:00:00",
          "value": 5,
          "variable": "temp_min"
         },
         {
          "date": "2012-01-10T00:00:00",
          "value": 0.6,
          "variable": "temp_min"
         },
         {
          "date": "2012-01-11T00:00:00",
          "value": -1.1,
          "variable": "temp_min"
         },
         {
          "date": "2012-01-12T00:00:00",
          "value": -1.7,
          "variable": "temp_min"
         },
         {
          "date": "2012-01-13T00:00:00",
          "value": -2.8,
          "variable": "temp_min"
         },
         {
          "date": "2012-01-14T00:00:00",
          "value": 0.6,
          "variable": "temp_min"
         },
         {
          "date": "2012-01-15T00:00:00",
          "value": -3.3,
          "variable": "temp_min"
         },
         {
          "date": "2012-01-16T00:00:00",
          "value": -2.8,
          "variable": "temp_min"
         },
         {
          "date": "2012-01-17T00:00:00",
          "value": 0,
          "variable": "temp_min"
         },
         {
          "date": "2012-01-18T00:00:00",
          "value": -2.8,
          "variable": "temp_min"
         },
         {
          "date": "2012-01-19T00:00:00",
          "value": -2.8,
          "variable": "temp_min"
         },
         {
          "date": "2012-01-20T00:00:00",
          "value": -1.1,
          "variable": "temp_min"
         },
         {
          "date": "2012-01-21T00:00:00",
          "value": 3.3,
          "variable": "temp_min"
         },
         {
          "date": "2012-01-01T00:00:00",
          "value": 4.7,
          "variable": "wind"
         },
         {
          "date": "2012-01-02T00:00:00",
          "value": 4.5,
          "variable": "wind"
         },
         {
          "date": "2012-01-03T00:00:00",
          "value": 2.3,
          "variable": "wind"
         },
         {
          "date": "2012-01-04T00:00:00",
          "value": 4.7,
          "variable": "wind"
         },
         {
          "date": "2012-01-05T00:00:00",
          "value": 6.1,
          "variable": "wind"
         },
         {
          "date": "2012-01-06T00:00:00",
          "value": 2.2,
          "variable": "wind"
         },
         {
          "date": "2012-01-07T00:00:00",
          "value": 2.3,
          "variable": "wind"
         },
         {
          "date": "2012-01-08T00:00:00",
          "value": 2,
          "variable": "wind"
         },
         {
          "date": "2012-01-09T00:00:00",
          "value": 3.4,
          "variable": "wind"
         },
         {
          "date": "2012-01-10T00:00:00",
          "value": 3.4,
          "variable": "wind"
         },
         {
          "date": "2012-01-11T00:00:00",
          "value": 5.1,
          "variable": "wind"
         },
         {
          "date": "2012-01-12T00:00:00",
          "value": 1.9,
          "variable": "wind"
         },
         {
          "date": "2012-01-13T00:00:00",
          "value": 1.3,
          "variable": "wind"
         },
         {
          "date": "2012-01-14T00:00:00",
          "value": 5.3,
          "variable": "wind"
         },
         {
          "date": "2012-01-15T00:00:00",
          "value": 3.2,
          "variable": "wind"
         },
         {
          "date": "2012-01-16T00:00:00",
          "value": 5,
          "variable": "wind"
         },
         {
          "date": "2012-01-17T00:00:00",
          "value": 5.6,
          "variable": "wind"
         },
         {
          "date": "2012-01-18T00:00:00",
          "value": 5,
          "variable": "wind"
         },
         {
          "date": "2012-01-19T00:00:00",
          "value": 1.6,
          "variable": "wind"
         },
         {
          "date": "2012-01-20T00:00:00",
          "value": 2.3,
          "variable": "wind"
         },
         {
          "date": "2012-01-21T00:00:00",
          "value": 8.2,
          "variable": "wind"
         },
         {
          "date": "2012-01-01T00:00:00",
          "value": "drizzle",
          "variable": "weather"
         },
         {
          "date": "2012-01-02T00:00:00",
          "value": "rain",
          "variable": "weather"
         },
         {
          "date": "2012-01-03T00:00:00",
          "value": "rain",
          "variable": "weather"
         },
         {
          "date": "2012-01-04T00:00:00",
          "value": "rain",
          "variable": "weather"
         },
         {
          "date": "2012-01-05T00:00:00",
          "value": "rain",
          "variable": "weather"
         },
         {
          "date": "2012-01-06T00:00:00",
          "value": "rain",
          "variable": "weather"
         },
         {
          "date": "2012-01-07T00:00:00",
          "value": "rain",
          "variable": "weather"
         },
         {
          "date": "2012-01-08T00:00:00",
          "value": "sun",
          "variable": "weather"
         },
         {
          "date": "2012-01-09T00:00:00",
          "value": "rain",
          "variable": "weather"
         },
         {
          "date": "2012-01-10T00:00:00",
          "value": "rain",
          "variable": "weather"
         },
         {
          "date": "2012-01-11T00:00:00",
          "value": "sun",
          "variable": "weather"
         },
         {
          "date": "2012-01-12T00:00:00",
          "value": "sun",
          "variable": "weather"
         },
         {
          "date": "2012-01-13T00:00:00",
          "value": "sun",
          "variable": "weather"
         },
         {
          "date": "2012-01-14T00:00:00",
          "value": "snow",
          "variable": "weather"
         },
         {
          "date": "2012-01-15T00:00:00",
          "value": "snow",
          "variable": "weather"
         },
         {
          "date": "2012-01-16T00:00:00",
          "value": "snow",
          "variable": "weather"
         },
         {
          "date": "2012-01-17T00:00:00",
          "value": "snow",
          "variable": "weather"
         },
         {
          "date": "2012-01-18T00:00:00",
          "value": "snow",
          "variable": "weather"
         },
         {
          "date": "2012-01-19T00:00:00",
          "value": "snow",
          "variable": "weather"
         },
         {
          "date": "2012-01-20T00:00:00",
          "value": "snow",
          "variable": "weather"
         },
         {
          "date": "2012-01-21T00:00:00",
          "value": "rain",
          "variable": "weather"
         },
         {
          "date": "2012-01-01T00:00:00",
          "value": 8.22903225806452,
          "variable": "monthly_mean"
         },
         {
          "date": "2012-01-02T00:00:00",
          "value": 8.22903225806452,
          "variable": "monthly_mean"
         },
         {
          "date": "2012-01-03T00:00:00",
          "value": 8.22903225806452,
          "variable": "monthly_mean"
         },
         {
          "date": "2012-01-04T00:00:00",
          "value": 8.22903225806452,
          "variable": "monthly_mean"
         },
         {
          "date": "2012-01-05T00:00:00",
          "value": 8.22903225806452,
          "variable": "monthly_mean"
         },
         {
          "date": "2012-01-06T00:00:00",
          "value": 8.22903225806452,
          "variable": "monthly_mean"
         },
         {
          "date": "2012-01-07T00:00:00",
          "value": 8.22903225806452,
          "variable": "monthly_mean"
         },
         {
          "date": "2012-01-08T00:00:00",
          "value": 8.22903225806452,
          "variable": "monthly_mean"
         },
         {
          "date": "2012-01-09T00:00:00",
          "value": 8.22903225806452,
          "variable": "monthly_mean"
         },
         {
          "date": "2012-01-10T00:00:00",
          "value": 8.22903225806452,
          "variable": "monthly_mean"
         },
         {
          "date": "2012-01-11T00:00:00",
          "value": 8.22903225806452,
          "variable": "monthly_mean"
         },
         {
          "date": "2012-01-12T00:00:00",
          "value": 8.22903225806452,
          "variable": "monthly_mean"
         },
         {
          "date": "2012-01-13T00:00:00",
          "value": 8.22903225806452,
          "variable": "monthly_mean"
         },
         {
          "date": "2012-01-14T00:00:00",
          "value": 8.22903225806452,
          "variable": "monthly_mean"
         },
         {
          "date": "2012-01-15T00:00:00",
          "value": 8.22903225806452,
          "variable": "monthly_mean"
         },
         {
          "date": "2012-01-16T00:00:00",
          "value": 8.22903225806452,
          "variable": "monthly_mean"
         },
         {
          "date": "2012-01-17T00:00:00",
          "value": 8.22903225806452,
          "variable": "monthly_mean"
         },
         {
          "date": "2012-01-18T00:00:00",
          "value": 8.22903225806452,
          "variable": "monthly_mean"
         },
         {
          "date": "2012-01-19T00:00:00",
          "value": 8.22903225806452,
          "variable": "monthly_mean"
         },
         {
          "date": "2012-01-20T00:00:00",
          "value": 8.22903225806452,
          "variable": "monthly_mean"
         },
         {
          "date": "2012-01-21T00:00:00",
          "value": 8.22903225806452,
          "variable": "monthly_mean"
         }
        ]
       },
       "layer": [
        {
         "data": {
          "name": "data-1576fc48d112b2223cdf39ef7a222914"
         },
         "encoding": {
          "color": {
           "field": "highlight",
           "scale": {
            "domain": [
             "false",
             "true"
            ],
            "range": [
             "white",
             "pink"
            ]
           },
           "type": "ordinal"
          },
          "y": {
           "field": "date",
           "type": "ordinal"
          }
         },
         "mark": "rect",
         "transform": [
          {
           "filter": "(datum.variable === 'weather')"
          },
          {
           "as": "highlight",
           "calculate": "datum.value == \"rain\""
          }
         ]
        },
        {
         "data": {
          "name": "data-1576fc48d112b2223cdf39ef7a222914"
         },
         "encoding": {
          "text": {
           "field": "value",
           "type": "nominal"
          },
          "x": {
           "field": "variable",
           "type": "nominal"
          },
          "y": {
           "field": "date",
           "type": "ordinal"
          }
         },
         "mark": "text"
        }
       ]
      },
      "image/png": "[encoded data removed]",
      "text/plain": [
       "<VegaLite 2 object>\n",
       "\n",
       "If you see this message, it means the renderer has not been properly enabled\n",
       "for the frontend that you are using. For more information, see\n",
       "https://altair-viz.github.io/user_guide/troubleshooting.html\n"
      ]
     },
     "execution_count": 57,
     "metadata": {},
     "output_type": "execute_result"
    }
   ],
   "source": [
    "# Melt data to get it in a \"tidy\" form that Altair can handle\n",
    "# You want it to have three columns in the end, Row ID, Column headers, table values\n",
    "\n",
    "# Limit this to just a few rows or your table will be huge\n",
    "# Remember it won't scroll!\n",
    "\n",
    "w_tidy = weather.loc[:20].copy().melt(id_vars=['date'])\n",
    "\n",
    "# Create the highlight rows heatmap for behind the text\n",
    "\n",
    "rows_heatmap = alt.Chart(w_tidy).transform_filter(\n",
    "    alt.datum.variable == \"weather\"\n",
    ").transform_calculate(\n",
    "    highlight = 'datum.value == \"rain\"'\n",
    ").mark_rect().encode(\n",
    "    y = 'date:O',\n",
    "    color = alt.Color('highlight:O', scale=alt.Scale(domain=['false', 'true'],\n",
    "                      range=['white', 'pink']))\n",
    ")\n",
    "\n",
    "# Now the text visualization for on top\n",
    "\n",
    "text_table = alt.Chart(w_tidy).mark_text().encode(\n",
    "    x = 'variable:N',\n",
    "    y = 'date:O',\n",
    "    text = 'value:N'\n",
    ")\n",
    "\n",
    "rows_heatmap + text_table"
   ]
  },
  {
   "cell_type": "markdown",
   "metadata": {},
   "source": [
    "### Nature bar values data\n",
    "\n",
    "Second example showing the same procedure for melting data and then creating a grid visualization of text with heatmap rows behind for highlight"
   ]
  },
  {
   "cell_type": "code",
   "execution_count": 5,
   "metadata": {},
   "outputs": [
    {
     "data": {
      "text/html": [
       "<div>\n",
       "<style scoped>\n",
       "    .dataframe tbody tr th:only-of-type {\n",
       "        vertical-align: middle;\n",
       "    }\n",
       "\n",
       "    .dataframe tbody tr th {\n",
       "        vertical-align: top;\n",
       "    }\n",
       "\n",
       "    .dataframe thead th {\n",
       "        text-align: right;\n",
       "    }\n",
       "</style>\n",
       "<table border=\"1\" class=\"dataframe\">\n",
       "  <thead>\n",
       "    <tr style=\"text-align: right;\">\n",
       "      <th></th>\n",
       "      <th>Item</th>\n",
       "      <th>Category</th>\n",
       "      <th>value</th>\n",
       "    </tr>\n",
       "  </thead>\n",
       "  <tbody>\n",
       "    <tr>\n",
       "      <th>0</th>\n",
       "      <td>Item 1</td>\n",
       "      <td>Category 1</td>\n",
       "      <td>6</td>\n",
       "    </tr>\n",
       "    <tr>\n",
       "      <th>1</th>\n",
       "      <td>Item 2</td>\n",
       "      <td>Category 1</td>\n",
       "      <td>8</td>\n",
       "    </tr>\n",
       "    <tr>\n",
       "      <th>2</th>\n",
       "      <td>Item 3</td>\n",
       "      <td>Category 1</td>\n",
       "      <td>10</td>\n",
       "    </tr>\n",
       "    <tr>\n",
       "      <th>3</th>\n",
       "      <td>Item 4</td>\n",
       "      <td>Category 1</td>\n",
       "      <td>20</td>\n",
       "    </tr>\n",
       "    <tr>\n",
       "      <th>4</th>\n",
       "      <td>Item 5</td>\n",
       "      <td>Category 1</td>\n",
       "      <td>23</td>\n",
       "    </tr>\n",
       "    <tr>\n",
       "      <th>5</th>\n",
       "      <td>Item 1</td>\n",
       "      <td>Category 2</td>\n",
       "      <td>29</td>\n",
       "    </tr>\n",
       "    <tr>\n",
       "      <th>6</th>\n",
       "      <td>Item 2</td>\n",
       "      <td>Category 2</td>\n",
       "      <td>27</td>\n",
       "    </tr>\n",
       "    <tr>\n",
       "      <th>7</th>\n",
       "      <td>Item 3</td>\n",
       "      <td>Category 2</td>\n",
       "      <td>21</td>\n",
       "    </tr>\n",
       "    <tr>\n",
       "      <th>8</th>\n",
       "      <td>Item 4</td>\n",
       "      <td>Category 2</td>\n",
       "      <td>17</td>\n",
       "    </tr>\n",
       "    <tr>\n",
       "      <th>9</th>\n",
       "      <td>Item 5</td>\n",
       "      <td>Category 2</td>\n",
       "      <td>5</td>\n",
       "    </tr>\n",
       "  </tbody>\n",
       "</table>\n",
       "</div>"
      ],
      "text/plain": [
       "     Item    Category  value\n",
       "0  Item 1  Category 1      6\n",
       "1  Item 2  Category 1      8\n",
       "2  Item 3  Category 1     10\n",
       "3  Item 4  Category 1     20\n",
       "4  Item 5  Category 1     23\n",
       "5  Item 1  Category 2     29\n",
       "6  Item 2  Category 2     27\n",
       "7  Item 3  Category 2     21\n",
       "8  Item 4  Category 2     17\n",
       "9  Item 5  Category 2      5"
      ]
     },
     "execution_count": 5,
     "metadata": {},
     "output_type": "execute_result"
    }
   ],
   "source": [
    "df_orig = pd.read_csv('data/NatureBarValues.csv')\n",
    "df = df_orig.melt(id_vars=[\"Item\"],var_name=\"Category\")\n",
    "df.head(10)"
   ]
  },
  {
   "cell_type": "code",
   "execution_count": 6,
   "metadata": {},
   "outputs": [
    {
     "data": {
      "application/vnd.vegalite.v2+json": {
       "$schema": "https://vega.github.io/schema/vega-lite/v2.6.0.json",
       "config": {
        "view": {
         "height": 300,
         "width": 400
        }
       },
       "datasets": {
        "data-dcc63c1bd6179d79fcae39778c52b169": [
         {
          "Category": "Category 1",
          "Item": "Item 1",
          "value": 6
         },
         {
          "Category": "Category 1",
          "Item": "Item 2",
          "value": 8
         },
         {
          "Category": "Category 1",
          "Item": "Item 3",
          "value": 10
         },
         {
          "Category": "Category 1",
          "Item": "Item 4",
          "value": 20
         },
         {
          "Category": "Category 1",
          "Item": "Item 5",
          "value": 23
         },
         {
          "Category": "Category 2",
          "Item": "Item 1",
          "value": 29
         },
         {
          "Category": "Category 2",
          "Item": "Item 2",
          "value": 27
         },
         {
          "Category": "Category 2",
          "Item": "Item 3",
          "value": 21
         },
         {
          "Category": "Category 2",
          "Item": "Item 4",
          "value": 17
         },
         {
          "Category": "Category 2",
          "Item": "Item 5",
          "value": 5
         },
         {
          "Category": "Category 3",
          "Item": "Item 1",
          "value": 18
         },
         {
          "Category": "Category 3",
          "Item": "Item 2",
          "value": 17
         },
         {
          "Category": "Category 3",
          "Item": "Item 3",
          "value": 16
         },
         {
          "Category": "Category 3",
          "Item": "Item 4",
          "value": 16
         },
         {
          "Category": "Category 3",
          "Item": "Item 5",
          "value": 15
         },
         {
          "Category": "Category 4",
          "Item": "Item 1",
          "value": 30
         },
         {
          "Category": "Category 4",
          "Item": "Item 2",
          "value": 13
         },
         {
          "Category": "Category 4",
          "Item": "Item 3",
          "value": 4
         },
         {
          "Category": "Category 4",
          "Item": "Item 4",
          "value": 9
         },
         {
          "Category": "Category 4",
          "Item": "Item 5",
          "value": 19
         },
         {
          "Category": "Category 5",
          "Item": "Item 1",
          "value": 7
         },
         {
          "Category": "Category 5",
          "Item": "Item 2",
          "value": 11
         },
         {
          "Category": "Category 5",
          "Item": "Item 3",
          "value": 19
         },
         {
          "Category": "Category 5",
          "Item": "Item 4",
          "value": 7
         },
         {
          "Category": "Category 5",
          "Item": "Item 5",
          "value": 2
         }
        ]
       },
       "layer": [
        {
         "data": {
          "name": "data-dcc63c1bd6179d79fcae39778c52b169"
         },
         "encoding": {
          "color": {
           "field": "highlight",
           "scale": {
            "domain": [
             "false",
             "true"
            ],
            "range": [
             "white",
             "pink"
            ]
           },
           "type": "ordinal"
          },
          "y": {
           "field": "Item",
           "type": "nominal"
          }
         },
         "mark": "rect",
         "transform": [
          {
           "filter": "(datum.Category === 'Category 1')"
          },
          {
           "as": "highlight",
           "calculate": "datum.value == 10"
          }
         ]
        },
        {
         "data": {
          "name": "data-dcc63c1bd6179d79fcae39778c52b169"
         },
         "encoding": {
          "text": {
           "field": "value",
           "type": "quantitative"
          },
          "x": {
           "field": "Category",
           "type": "nominal"
          },
          "y": {
           "field": "Item",
           "type": "nominal"
          }
         },
         "mark": "text"
        }
       ]
      },
      "image/png": "[encoded data removed]",
      "text/plain": [
       "<VegaLite 2 object>\n",
       "\n",
       "If you see this message, it means the renderer has not been properly enabled\n",
       "for the frontend that you are using. For more information, see\n",
       "https://altair-viz.github.io/user_guide/troubleshooting.html\n"
      ]
     },
     "execution_count": 6,
     "metadata": {},
     "output_type": "execute_result"
    }
   ],
   "source": [
    "rows_heatmap = alt.Chart(df).transform_filter(\n",
    "    alt.datum.Category == \"Category 1\"\n",
    ").transform_calculate(\n",
    "    highlight = 'datum.value == 10'\n",
    ").mark_rect().encode(\n",
    "    y = 'Item',\n",
    "    color = alt.Color('highlight:O', scale=alt.Scale(domain=['false', 'true'],\n",
    "                      range=['white', 'pink']))\n",
    ")\n",
    "\n",
    "text_table = alt.Chart(df).mark_text().encode(\n",
    "    x = 'Category',\n",
    "    y = 'Item',\n",
    "    text = 'value'\n",
    ")\n",
    "\n",
    "rows_heatmap + text_table"
   ]
  },
  {
   "cell_type": "markdown",
   "metadata": {},
   "source": [
    "## Pandas table visualization – alternative methods"
   ]
  },
  {
   "cell_type": "markdown",
   "metadata": {},
   "source": [
    "### Provisional *style* functionality\n",
    "\n",
    "Pandas has a provisional feature that they're developing to do \"conditional formatting\" to the display of Pandas tables.\n",
    "\n",
    "[https://pandas.pydata.org/pandas-docs/stable/user_guide/style.html]()"
   ]
  },
  {
   "cell_type": "markdown",
   "metadata": {},
   "source": [
    "### DataFrame .to_html()\n",
    "\n",
    "Pandas DataFrames have a built-in functionality of `.to_html()` that you can run\n",
    "\n",
    "[https://pandas.pydata.org/pandas-docs/stable/reference/api/pandas.DataFrame.to_html.html]()\n",
    "\n",
    "I think it should be possible to then use selectors, perhaps through \n",
    "[BeautifulSoup](https://www.crummy.com/software/BeautifulSoup/)\n",
    "to alter the classes and display of the HTML."
   ]
  },
  {
   "cell_type": "markdown",
   "metadata": {},
   "source": [
    "### Plotly tables\n",
    "\n",
    "The visualization library \n",
    "[Plotly has table functionality](https://plot.ly/python/table/) with a lot of display options."
   ]
  },
  {
   "cell_type": "markdown",
   "metadata": {},
   "source": [
    "### HTML to PDF in Python\n",
    "\n",
    "There seem to be multiple modules that help you turn HTML and CSS into PDF from within Python\n",
    "\n",
    "- [This article]() covers Xhtml2pdf, WeasyPrint, and Unoconv.\n",
    "- At least one of the previous tools uses [Reportlab open source toolkit](https://www.reportlab.com/opensource/) behind the scenes, and I used it years ago to programmatically generate PDFs from Python.\n",
    "- [pdfkit](https://pypi.org/project/pdfkit/) seems to be a viable module"
   ]
  },
  {
   "cell_type": "code",
   "execution_count": null,
   "metadata": {},
   "outputs": [],
   "source": []
  }
 ],
 "metadata": {
  "kernelspec": {
   "display_name": "Python 3",
   "language": "python",
   "name": "python3"
  },
  "language_info": {
   "codemirror_mode": {
    "name": "ipython",
    "version": 3
   },
   "file_extension": ".py",
   "mimetype": "text/x-python",
   "name": "python",
   "nbconvert_exporter": "python",
   "pygments_lexer": "ipython3",
   "version": "3.7.1"
  }
 },
 "nbformat": 4,
 "nbformat_minor": 2
}
