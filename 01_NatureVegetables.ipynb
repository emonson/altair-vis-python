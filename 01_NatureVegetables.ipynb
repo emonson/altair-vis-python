{
 "cells": [
  {
   "cell_type": "markdown",
   "metadata": {},
   "source": [
    "# Altair with simple, sample data\n",
    "\n",
    "- **[Altair documentation](https://altair-viz.github.io/index.html)**\n",
    "\n",
    "\n",
    "- [Vega-Lite site](https://vega.github.io/vega-lite/)\n",
    "- [Vega-Lite documentation](https://vega.github.io/vega-lite/docs/)\n",
    "- [Vega-Lite 2.0 Medium article](https://medium.com/@uwdata/introducing-vega-lite-2-0-de6661c12d58)\n",
    "- [Vega-Lite 2.0 OpenVisConf 2017 talk](https://www.youtube.com/watch?v=9uaHRWj04D4)\n",
    "- [About the Vega project](https://vega.github.io/vega/about/)\n",
    "\n",
    "#### This is just a made-up data set inspired by a [Nature Methods article](https://www.nature.com/articles/nmeth.2807)"
   ]
  },
  {
   "cell_type": "code",
   "execution_count": 1,
   "metadata": {},
   "outputs": [],
   "source": [
    "import pandas as pd\n",
    "import altair as alt"
   ]
  },
  {
   "cell_type": "markdown",
   "metadata": {},
   "source": [
    "## Load in sample data\n",
    "\n",
    "We'll load all data into a Panda DataFrame. A DataFrame is just a special data structure that is meant for \"tablular data\", which is like a spreadsheet. DataFrames also have build-in functions that can modify and display the data.\n",
    "\n",
    "This pretend data set has values for five items in five categories. It gives us a chance to play around with various visual representations. **The best choice depends on which comparisons are most important to the story you're trying to tell!**"
   ]
  },
  {
   "cell_type": "code",
   "execution_count": 25,
   "metadata": {},
   "outputs": [],
   "source": [
    "df_orig = pd.read_csv('data/NatureVegValues.csv')"
   ]
  },
  {
   "cell_type": "markdown",
   "metadata": {},
   "source": [
    "### Preview the data\n",
    "\n",
    "You can just type the name of the dataframe to get a printout of the contents.\n",
    "\n",
    "The original data from the Nature Methods article had a very generic five items in five categories. Here's I've tried to make it more specific: **Let's say we have five different vegetables, and the values are the number of people that thought these vegetables were very Green, Yellow, Cheap, Tasty or Gross.**"
   ]
  },
  {
   "cell_type": "code",
   "execution_count": 26,
   "metadata": {},
   "outputs": [
    {
     "data": {
      "text/html": [
       "<div>\n",
       "<style scoped>\n",
       "    .dataframe tbody tr th:only-of-type {\n",
       "        vertical-align: middle;\n",
       "    }\n",
       "\n",
       "    .dataframe tbody tr th {\n",
       "        vertical-align: top;\n",
       "    }\n",
       "\n",
       "    .dataframe thead th {\n",
       "        text-align: right;\n",
       "    }\n",
       "</style>\n",
       "<table border=\"1\" class=\"dataframe\">\n",
       "  <thead>\n",
       "    <tr style=\"text-align: right;\">\n",
       "      <th></th>\n",
       "      <th>veg</th>\n",
       "      <th>1_Green</th>\n",
       "      <th>2_Yellow</th>\n",
       "      <th>3_Cheap</th>\n",
       "      <th>4_Tasty</th>\n",
       "      <th>5_Gross</th>\n",
       "    </tr>\n",
       "  </thead>\n",
       "  <tbody>\n",
       "    <tr>\n",
       "      <th>0</th>\n",
       "      <td>1_Corn</td>\n",
       "      <td>6</td>\n",
       "      <td>29</td>\n",
       "      <td>18</td>\n",
       "      <td>30</td>\n",
       "      <td>7</td>\n",
       "    </tr>\n",
       "    <tr>\n",
       "      <th>1</th>\n",
       "      <td>2_Squash</td>\n",
       "      <td>8</td>\n",
       "      <td>27</td>\n",
       "      <td>17</td>\n",
       "      <td>13</td>\n",
       "      <td>11</td>\n",
       "    </tr>\n",
       "    <tr>\n",
       "      <th>2</th>\n",
       "      <td>3_Brussel sprouts</td>\n",
       "      <td>10</td>\n",
       "      <td>21</td>\n",
       "      <td>16</td>\n",
       "      <td>4</td>\n",
       "      <td>19</td>\n",
       "    </tr>\n",
       "    <tr>\n",
       "      <th>3</th>\n",
       "      <td>4_Green beans</td>\n",
       "      <td>20</td>\n",
       "      <td>17</td>\n",
       "      <td>16</td>\n",
       "      <td>9</td>\n",
       "      <td>7</td>\n",
       "    </tr>\n",
       "    <tr>\n",
       "      <th>4</th>\n",
       "      <td>5_Peas</td>\n",
       "      <td>23</td>\n",
       "      <td>5</td>\n",
       "      <td>15</td>\n",
       "      <td>19</td>\n",
       "      <td>2</td>\n",
       "    </tr>\n",
       "  </tbody>\n",
       "</table>\n",
       "</div>"
      ],
      "text/plain": [
       "                 veg  1_Green  2_Yellow  3_Cheap  4_Tasty  5_Gross\n",
       "0             1_Corn        6        29       18       30        7\n",
       "1           2_Squash        8        27       17       13       11\n",
       "2  3_Brussel sprouts       10        21       16        4       19\n",
       "3      4_Green beans       20        17       16        9        7\n",
       "4             5_Peas       23         5       15       19        2"
      ]
     },
     "execution_count": 26,
     "metadata": {},
     "output_type": "execute_result"
    }
   ],
   "source": [
    "df_orig"
   ]
  },
  {
   "cell_type": "markdown",
   "metadata": {},
   "source": [
    "## Make data \"tidy\"\n",
    "\n",
    "The data isn't in the right form for visualization in Altair (or Tableau or ggplot2). Right now it's \"wide\" and it needs to be \"tall\". Once we \"tidy\" the data, each column will have only one type of information, and the same types of data won't be spread across multiple columns.\n",
    "\n",
    "See my previous *Tidy Data in Python with JupyterLab*\n",
    "[repository](https://github.com/emonson/tidy-data-python) and [video](https://library.capture.duke.edu/Panopto/Pages/Viewer.aspx?id=d8a3efe2-48d7-4505-acd3-a943013c2442)\n",
    "\n",
    "In Pandas we do this by using the `melt()` function. We specify a list of columns that won't be pivoted using the `id_vars=` argument (here the list only has one item in it), and all other columns will be pivoted. We also here specify a name for the column that used to be the column headers. The `head()` method lets you view the first set of rows."
   ]
  },
  {
   "cell_type": "code",
   "execution_count": 27,
   "metadata": {},
   "outputs": [
    {
     "data": {
      "text/html": [
       "<div>\n",
       "<style scoped>\n",
       "    .dataframe tbody tr th:only-of-type {\n",
       "        vertical-align: middle;\n",
       "    }\n",
       "\n",
       "    .dataframe tbody tr th {\n",
       "        vertical-align: top;\n",
       "    }\n",
       "\n",
       "    .dataframe thead th {\n",
       "        text-align: right;\n",
       "    }\n",
       "</style>\n",
       "<table border=\"1\" class=\"dataframe\">\n",
       "  <thead>\n",
       "    <tr style=\"text-align: right;\">\n",
       "      <th></th>\n",
       "      <th>veg</th>\n",
       "      <th>trait</th>\n",
       "      <th>votes</th>\n",
       "    </tr>\n",
       "  </thead>\n",
       "  <tbody>\n",
       "    <tr>\n",
       "      <th>0</th>\n",
       "      <td>1_Corn</td>\n",
       "      <td>1_Green</td>\n",
       "      <td>6</td>\n",
       "    </tr>\n",
       "    <tr>\n",
       "      <th>1</th>\n",
       "      <td>2_Squash</td>\n",
       "      <td>1_Green</td>\n",
       "      <td>8</td>\n",
       "    </tr>\n",
       "    <tr>\n",
       "      <th>2</th>\n",
       "      <td>3_Brussel sprouts</td>\n",
       "      <td>1_Green</td>\n",
       "      <td>10</td>\n",
       "    </tr>\n",
       "    <tr>\n",
       "      <th>3</th>\n",
       "      <td>4_Green beans</td>\n",
       "      <td>1_Green</td>\n",
       "      <td>20</td>\n",
       "    </tr>\n",
       "    <tr>\n",
       "      <th>4</th>\n",
       "      <td>5_Peas</td>\n",
       "      <td>1_Green</td>\n",
       "      <td>23</td>\n",
       "    </tr>\n",
       "    <tr>\n",
       "      <th>5</th>\n",
       "      <td>1_Corn</td>\n",
       "      <td>2_Yellow</td>\n",
       "      <td>29</td>\n",
       "    </tr>\n",
       "    <tr>\n",
       "      <th>6</th>\n",
       "      <td>2_Squash</td>\n",
       "      <td>2_Yellow</td>\n",
       "      <td>27</td>\n",
       "    </tr>\n",
       "    <tr>\n",
       "      <th>7</th>\n",
       "      <td>3_Brussel sprouts</td>\n",
       "      <td>2_Yellow</td>\n",
       "      <td>21</td>\n",
       "    </tr>\n",
       "    <tr>\n",
       "      <th>8</th>\n",
       "      <td>4_Green beans</td>\n",
       "      <td>2_Yellow</td>\n",
       "      <td>17</td>\n",
       "    </tr>\n",
       "    <tr>\n",
       "      <th>9</th>\n",
       "      <td>5_Peas</td>\n",
       "      <td>2_Yellow</td>\n",
       "      <td>5</td>\n",
       "    </tr>\n",
       "  </tbody>\n",
       "</table>\n",
       "</div>"
      ],
      "text/plain": [
       "                 veg     trait  votes\n",
       "0             1_Corn   1_Green      6\n",
       "1           2_Squash   1_Green      8\n",
       "2  3_Brussel sprouts   1_Green     10\n",
       "3      4_Green beans   1_Green     20\n",
       "4             5_Peas   1_Green     23\n",
       "5             1_Corn  2_Yellow     29\n",
       "6           2_Squash  2_Yellow     27\n",
       "7  3_Brussel sprouts  2_Yellow     21\n",
       "8      4_Green beans  2_Yellow     17\n",
       "9             5_Peas  2_Yellow      5"
      ]
     },
     "execution_count": 27,
     "metadata": {},
     "output_type": "execute_result"
    }
   ],
   "source": [
    "df = df_orig.melt(id_vars=[\"veg\"], var_name=\"trait\", value_name=\"votes\")\n",
    "df.head(10)"
   ]
  },
  {
   "cell_type": "markdown",
   "metadata": {},
   "source": [
    "## Method chaining\n",
    "\n",
    "In Altair it's easy to construct our visualization by **chaining together, with a dot between** a \"declaration\" of our visualization following the pattern:\n",
    "\n",
    "- `alt` – calls the Altair module through it's abbreviated name stated above\n",
    "- `Chart()` – feed in the Pandas DataFrame our data values come from\n",
    "- `mark_xxxx()` – sets the [mark type](https://altair-viz.github.io/user_guide/marks.html) to use – here a rectangle\n",
    "- `encode()` – specified the \"[encoding channels](https://altair-viz.github.io/user_guide/encoding.html#encoding-channels)\" for this visualization, things like x (horizontal axis), y (vertical axis), color, tooltip, shape, size, etc.\n",
    "- `transform_xxxx()` – [data transformations](https://altair-viz.github.io/user_guide/transform.html) like filter, calculate, aggregate, lookup, etc. "
   ]
  },
  {
   "cell_type": "markdown",
   "metadata": {},
   "source": [
    "## Heatmap\n",
    "\n",
    "A heatmap is a very compact visual representation of the data, very similar to the original table, where rectangles are colored by the values in each cell. *Note that `mark_rect()` makes a rectangle that will always fill the cell, which is perfect for making heatmaps. A `mark_square()` is a square which can have size variation.*\n",
    "\n",
    "We're not really good at quantitatively comparing color values, though, so this isn't a great representation if you want people to accurately detect the numerical patterns. Also, note that Cheap values aren't distinguishable."
   ]
  },
  {
   "cell_type": "code",
   "execution_count": 28,
   "metadata": {},
   "outputs": [
    {
     "data": {
      "text/html": [
       "\n",
       "<div id=\"altair-viz-8d7e270303a44782b7ca99332ed2223d\"></div>\n",
       "<script type=\"text/javascript\">\n",
       "  (function(spec, embedOpt){\n",
       "    let outputDiv = document.currentScript.previousElementSibling;\n",
       "    if (outputDiv.id !== \"altair-viz-8d7e270303a44782b7ca99332ed2223d\") {\n",
       "      outputDiv = document.getElementById(\"altair-viz-8d7e270303a44782b7ca99332ed2223d\");\n",
       "    }\n",
       "    const paths = {\n",
       "      \"vega\": \"https://cdn.jsdelivr.net/npm//vega@5?noext\",\n",
       "      \"vega-lib\": \"https://cdn.jsdelivr.net/npm//vega-lib?noext\",\n",
       "      \"vega-lite\": \"https://cdn.jsdelivr.net/npm//vega-lite@4.8.1?noext\",\n",
       "      \"vega-embed\": \"https://cdn.jsdelivr.net/npm//vega-embed@6?noext\",\n",
       "    };\n",
       "\n",
       "    function loadScript(lib) {\n",
       "      return new Promise(function(resolve, reject) {\n",
       "        var s = document.createElement('script');\n",
       "        s.src = paths[lib];\n",
       "        s.async = true;\n",
       "        s.onload = () => resolve(paths[lib]);\n",
       "        s.onerror = () => reject(`Error loading script: ${paths[lib]}`);\n",
       "        document.getElementsByTagName(\"head\")[0].appendChild(s);\n",
       "      });\n",
       "    }\n",
       "\n",
       "    function showError(err) {\n",
       "      outputDiv.innerHTML = `<div class=\"error\" style=\"color:red;\">${err}</div>`;\n",
       "      throw err;\n",
       "    }\n",
       "\n",
       "    function displayChart(vegaEmbed) {\n",
       "      vegaEmbed(outputDiv, spec, embedOpt)\n",
       "        .catch(err => showError(`Javascript Error: ${err.message}<br>This usually means there's a typo in your chart specification. See the javascript console for the full traceback.`));\n",
       "    }\n",
       "\n",
       "    if(typeof define === \"function\" && define.amd) {\n",
       "      requirejs.config({paths});\n",
       "      require([\"vega-embed\"], displayChart, err => showError(`Error loading script: ${err.message}`));\n",
       "    } else if (typeof vegaEmbed === \"function\") {\n",
       "      displayChart(vegaEmbed);\n",
       "    } else {\n",
       "      loadScript(\"vega\")\n",
       "        .then(() => loadScript(\"vega-lite\"))\n",
       "        .then(() => loadScript(\"vega-embed\"))\n",
       "        .catch(showError)\n",
       "        .then(() => displayChart(vegaEmbed));\n",
       "    }\n",
       "  })({\"config\": {\"view\": {\"continuousWidth\": 400, \"continuousHeight\": 300}}, \"data\": {\"name\": \"data-39f9d319c3f1fa0701a2f2e8a04001de\"}, \"mark\": \"rect\", \"encoding\": {\"color\": {\"type\": \"quantitative\", \"field\": \"votes\"}, \"x\": {\"type\": \"nominal\", \"field\": \"trait\"}, \"y\": {\"type\": \"nominal\", \"field\": \"veg\"}}, \"$schema\": \"https://vega.github.io/schema/vega-lite/v4.8.1.json\", \"datasets\": {\"data-39f9d319c3f1fa0701a2f2e8a04001de\": [{\"veg\": \"1_Corn\", \"trait\": \"1_Green\", \"votes\": 6}, {\"veg\": \"2_Squash\", \"trait\": \"1_Green\", \"votes\": 8}, {\"veg\": \"3_Brussel sprouts\", \"trait\": \"1_Green\", \"votes\": 10}, {\"veg\": \"4_Green beans\", \"trait\": \"1_Green\", \"votes\": 20}, {\"veg\": \"5_Peas\", \"trait\": \"1_Green\", \"votes\": 23}, {\"veg\": \"1_Corn\", \"trait\": \"2_Yellow\", \"votes\": 29}, {\"veg\": \"2_Squash\", \"trait\": \"2_Yellow\", \"votes\": 27}, {\"veg\": \"3_Brussel sprouts\", \"trait\": \"2_Yellow\", \"votes\": 21}, {\"veg\": \"4_Green beans\", \"trait\": \"2_Yellow\", \"votes\": 17}, {\"veg\": \"5_Peas\", \"trait\": \"2_Yellow\", \"votes\": 5}, {\"veg\": \"1_Corn\", \"trait\": \"3_Cheap\", \"votes\": 18}, {\"veg\": \"2_Squash\", \"trait\": \"3_Cheap\", \"votes\": 17}, {\"veg\": \"3_Brussel sprouts\", \"trait\": \"3_Cheap\", \"votes\": 16}, {\"veg\": \"4_Green beans\", \"trait\": \"3_Cheap\", \"votes\": 16}, {\"veg\": \"5_Peas\", \"trait\": \"3_Cheap\", \"votes\": 15}, {\"veg\": \"1_Corn\", \"trait\": \"4_Tasty\", \"votes\": 30}, {\"veg\": \"2_Squash\", \"trait\": \"4_Tasty\", \"votes\": 13}, {\"veg\": \"3_Brussel sprouts\", \"trait\": \"4_Tasty\", \"votes\": 4}, {\"veg\": \"4_Green beans\", \"trait\": \"4_Tasty\", \"votes\": 9}, {\"veg\": \"5_Peas\", \"trait\": \"4_Tasty\", \"votes\": 19}, {\"veg\": \"1_Corn\", \"trait\": \"5_Gross\", \"votes\": 7}, {\"veg\": \"2_Squash\", \"trait\": \"5_Gross\", \"votes\": 11}, {\"veg\": \"3_Brussel sprouts\", \"trait\": \"5_Gross\", \"votes\": 19}, {\"veg\": \"4_Green beans\", \"trait\": \"5_Gross\", \"votes\": 7}, {\"veg\": \"5_Peas\", \"trait\": \"5_Gross\", \"votes\": 2}]}}, {\"mode\": \"vega-lite\"});\n",
       "</script>"
      ],
      "text/plain": [
       "alt.Chart(...)"
      ]
     },
     "execution_count": 28,
     "metadata": {},
     "output_type": "execute_result"
    }
   ],
   "source": [
    "alt.Chart(df).mark_rect().encode(\n",
    "    x = 'trait',\n",
    "    y = 'veg',\n",
    "    color = 'votes'\n",
    ")"
   ]
  },
  {
   "cell_type": "markdown",
   "metadata": {},
   "source": [
    "## Vega-Lite specification\n",
    "\n",
    "What Altair really produces is a Vega-Lite JSON declarative specification for building the visualization, and JupyterLab has Vega and Vega-Lite built in for rendering. This is a nice separation of concerns, where Altair just needs to know how to make JSON, and the renderer knows how to actually create the visuals!\n",
    "\n",
    "We can see the specification behind each visualization by using `.to_json()` or `.to_dict()`. Here we'll use the latter, because the printout is more compact, but feel free to try the former.\n",
    "\n",
    "**Note that all of the data is included in the JSON!!**\n",
    "\n",
    "- [Medium article on Vega-Lite adoption](https://medium.com/@robin.linacre/why-im-backing-vega-lite-as-our-default-tool-for-data-visualisation-51c20970df39)"
   ]
  },
  {
   "cell_type": "code",
   "execution_count": 29,
   "metadata": {},
   "outputs": [
    {
     "data": {
      "text/plain": [
       "{'config': {'view': {'continuousWidth': 400, 'continuousHeight': 300}},\n",
       " 'data': {'name': 'data-39f9d319c3f1fa0701a2f2e8a04001de'},\n",
       " 'mark': 'rect',\n",
       " 'encoding': {'color': {'type': 'quantitative', 'field': 'votes'},\n",
       "  'x': {'type': 'nominal', 'field': 'trait'},\n",
       "  'y': {'type': 'nominal', 'field': 'veg'}},\n",
       " '$schema': 'https://vega.github.io/schema/vega-lite/v4.8.1.json',\n",
       " 'datasets': {'data-39f9d319c3f1fa0701a2f2e8a04001de': [{'veg': '1_Corn',\n",
       "    'trait': '1_Green',\n",
       "    'votes': 6},\n",
       "   {'veg': '2_Squash', 'trait': '1_Green', 'votes': 8},\n",
       "   {'veg': '3_Brussel sprouts', 'trait': '1_Green', 'votes': 10},\n",
       "   {'veg': '4_Green beans', 'trait': '1_Green', 'votes': 20},\n",
       "   {'veg': '5_Peas', 'trait': '1_Green', 'votes': 23},\n",
       "   {'veg': '1_Corn', 'trait': '2_Yellow', 'votes': 29},\n",
       "   {'veg': '2_Squash', 'trait': '2_Yellow', 'votes': 27},\n",
       "   {'veg': '3_Brussel sprouts', 'trait': '2_Yellow', 'votes': 21},\n",
       "   {'veg': '4_Green beans', 'trait': '2_Yellow', 'votes': 17},\n",
       "   {'veg': '5_Peas', 'trait': '2_Yellow', 'votes': 5},\n",
       "   {'veg': '1_Corn', 'trait': '3_Cheap', 'votes': 18},\n",
       "   {'veg': '2_Squash', 'trait': '3_Cheap', 'votes': 17},\n",
       "   {'veg': '3_Brussel sprouts', 'trait': '3_Cheap', 'votes': 16},\n",
       "   {'veg': '4_Green beans', 'trait': '3_Cheap', 'votes': 16},\n",
       "   {'veg': '5_Peas', 'trait': '3_Cheap', 'votes': 15},\n",
       "   {'veg': '1_Corn', 'trait': '4_Tasty', 'votes': 30},\n",
       "   {'veg': '2_Squash', 'trait': '4_Tasty', 'votes': 13},\n",
       "   {'veg': '3_Brussel sprouts', 'trait': '4_Tasty', 'votes': 4},\n",
       "   {'veg': '4_Green beans', 'trait': '4_Tasty', 'votes': 9},\n",
       "   {'veg': '5_Peas', 'trait': '4_Tasty', 'votes': 19},\n",
       "   {'veg': '1_Corn', 'trait': '5_Gross', 'votes': 7},\n",
       "   {'veg': '2_Squash', 'trait': '5_Gross', 'votes': 11},\n",
       "   {'veg': '3_Brussel sprouts', 'trait': '5_Gross', 'votes': 19},\n",
       "   {'veg': '4_Green beans', 'trait': '5_Gross', 'votes': 7},\n",
       "   {'veg': '5_Peas', 'trait': '5_Gross', 'votes': 2}]}}"
      ]
     },
     "execution_count": 29,
     "metadata": {},
     "output_type": "execute_result"
    }
   ],
   "source": [
    "heatmap = alt.Chart(df).mark_rect().encode(\n",
    "    x = 'trait',\n",
    "    y = 'veg',\n",
    "    color = 'votes'\n",
    ")\n",
    "heatmap.to_dict()"
   ]
  },
  {
   "cell_type": "markdown",
   "metadata": {},
   "source": [
    "## All data still included, even with a filter applied\n",
    "\n",
    "One limitation of Altair is that **by default, all of the data is included in the Vega-Lite JSON, even if you're using Altair to filter down to a subset, or not using part of it!**\n",
    "\n",
    "Here we'll filter down to just a single value of data. *Note that `datum` is just the name for a single piece of data.*"
   ]
  },
  {
   "cell_type": "code",
   "execution_count": 30,
   "metadata": {},
   "outputs": [],
   "source": [
    "from altair import datum"
   ]
  },
  {
   "cell_type": "code",
   "execution_count": 32,
   "metadata": {},
   "outputs": [
    {
     "data": {
      "text/html": [
       "\n",
       "<div id=\"altair-viz-6c6f3e3d53f54d8db39c0cf2c0dcc6a4\"></div>\n",
       "<script type=\"text/javascript\">\n",
       "  (function(spec, embedOpt){\n",
       "    let outputDiv = document.currentScript.previousElementSibling;\n",
       "    if (outputDiv.id !== \"altair-viz-6c6f3e3d53f54d8db39c0cf2c0dcc6a4\") {\n",
       "      outputDiv = document.getElementById(\"altair-viz-6c6f3e3d53f54d8db39c0cf2c0dcc6a4\");\n",
       "    }\n",
       "    const paths = {\n",
       "      \"vega\": \"https://cdn.jsdelivr.net/npm//vega@5?noext\",\n",
       "      \"vega-lib\": \"https://cdn.jsdelivr.net/npm//vega-lib?noext\",\n",
       "      \"vega-lite\": \"https://cdn.jsdelivr.net/npm//vega-lite@4.8.1?noext\",\n",
       "      \"vega-embed\": \"https://cdn.jsdelivr.net/npm//vega-embed@6?noext\",\n",
       "    };\n",
       "\n",
       "    function loadScript(lib) {\n",
       "      return new Promise(function(resolve, reject) {\n",
       "        var s = document.createElement('script');\n",
       "        s.src = paths[lib];\n",
       "        s.async = true;\n",
       "        s.onload = () => resolve(paths[lib]);\n",
       "        s.onerror = () => reject(`Error loading script: ${paths[lib]}`);\n",
       "        document.getElementsByTagName(\"head\")[0].appendChild(s);\n",
       "      });\n",
       "    }\n",
       "\n",
       "    function showError(err) {\n",
       "      outputDiv.innerHTML = `<div class=\"error\" style=\"color:red;\">${err}</div>`;\n",
       "      throw err;\n",
       "    }\n",
       "\n",
       "    function displayChart(vegaEmbed) {\n",
       "      vegaEmbed(outputDiv, spec, embedOpt)\n",
       "        .catch(err => showError(`Javascript Error: ${err.message}<br>This usually means there's a typo in your chart specification. See the javascript console for the full traceback.`));\n",
       "    }\n",
       "\n",
       "    if(typeof define === \"function\" && define.amd) {\n",
       "      requirejs.config({paths});\n",
       "      require([\"vega-embed\"], displayChart, err => showError(`Error loading script: ${err.message}`));\n",
       "    } else if (typeof vegaEmbed === \"function\") {\n",
       "      displayChart(vegaEmbed);\n",
       "    } else {\n",
       "      loadScript(\"vega\")\n",
       "        .then(() => loadScript(\"vega-lite\"))\n",
       "        .then(() => loadScript(\"vega-embed\"))\n",
       "        .catch(showError)\n",
       "        .then(() => displayChart(vegaEmbed));\n",
       "    }\n",
       "  })({\"config\": {\"view\": {\"continuousWidth\": 400, \"continuousHeight\": 300}}, \"data\": {\"name\": \"data-39f9d319c3f1fa0701a2f2e8a04001de\"}, \"mark\": \"rect\", \"encoding\": {\"x\": {\"type\": \"nominal\", \"field\": \"trait\"}, \"y\": {\"type\": \"nominal\", \"field\": \"veg\"}}, \"transform\": [{\"filter\": \"((datum.trait === '1_Green') && (datum.veg === '1_Corn'))\"}], \"$schema\": \"https://vega.github.io/schema/vega-lite/v4.8.1.json\", \"datasets\": {\"data-39f9d319c3f1fa0701a2f2e8a04001de\": [{\"veg\": \"1_Corn\", \"trait\": \"1_Green\", \"votes\": 6}, {\"veg\": \"2_Squash\", \"trait\": \"1_Green\", \"votes\": 8}, {\"veg\": \"3_Brussel sprouts\", \"trait\": \"1_Green\", \"votes\": 10}, {\"veg\": \"4_Green beans\", \"trait\": \"1_Green\", \"votes\": 20}, {\"veg\": \"5_Peas\", \"trait\": \"1_Green\", \"votes\": 23}, {\"veg\": \"1_Corn\", \"trait\": \"2_Yellow\", \"votes\": 29}, {\"veg\": \"2_Squash\", \"trait\": \"2_Yellow\", \"votes\": 27}, {\"veg\": \"3_Brussel sprouts\", \"trait\": \"2_Yellow\", \"votes\": 21}, {\"veg\": \"4_Green beans\", \"trait\": \"2_Yellow\", \"votes\": 17}, {\"veg\": \"5_Peas\", \"trait\": \"2_Yellow\", \"votes\": 5}, {\"veg\": \"1_Corn\", \"trait\": \"3_Cheap\", \"votes\": 18}, {\"veg\": \"2_Squash\", \"trait\": \"3_Cheap\", \"votes\": 17}, {\"veg\": \"3_Brussel sprouts\", \"trait\": \"3_Cheap\", \"votes\": 16}, {\"veg\": \"4_Green beans\", \"trait\": \"3_Cheap\", \"votes\": 16}, {\"veg\": \"5_Peas\", \"trait\": \"3_Cheap\", \"votes\": 15}, {\"veg\": \"1_Corn\", \"trait\": \"4_Tasty\", \"votes\": 30}, {\"veg\": \"2_Squash\", \"trait\": \"4_Tasty\", \"votes\": 13}, {\"veg\": \"3_Brussel sprouts\", \"trait\": \"4_Tasty\", \"votes\": 4}, {\"veg\": \"4_Green beans\", \"trait\": \"4_Tasty\", \"votes\": 9}, {\"veg\": \"5_Peas\", \"trait\": \"4_Tasty\", \"votes\": 19}, {\"veg\": \"1_Corn\", \"trait\": \"5_Gross\", \"votes\": 7}, {\"veg\": \"2_Squash\", \"trait\": \"5_Gross\", \"votes\": 11}, {\"veg\": \"3_Brussel sprouts\", \"trait\": \"5_Gross\", \"votes\": 19}, {\"veg\": \"4_Green beans\", \"trait\": \"5_Gross\", \"votes\": 7}, {\"veg\": \"5_Peas\", \"trait\": \"5_Gross\", \"votes\": 2}]}}, {\"mode\": \"vega-lite\"});\n",
       "</script>"
      ],
      "text/plain": [
       "alt.Chart(...)"
      ]
     },
     "execution_count": 32,
     "metadata": {},
     "output_type": "execute_result"
    }
   ],
   "source": [
    "one_square_heatmap = alt.Chart(df).mark_rect().encode(\n",
    "    x = 'trait',\n",
    "    y = 'veg'\n",
    ").transform_filter(\n",
    "    (datum.trait == '1_Green') & (datum.veg == '1_Corn')\n",
    ")\n",
    "\n",
    "one_square_heatmap"
   ]
  },
  {
   "cell_type": "markdown",
   "metadata": {},
   "source": [
    "...but all the data is still included in the JSON"
   ]
  },
  {
   "cell_type": "code",
   "execution_count": 12,
   "metadata": {},
   "outputs": [
    {
     "data": {
      "text/plain": [
       "{'config': {'view': {'continuousWidth': 400, 'continuousHeight': 300}},\n",
       " 'data': {'name': 'data-28c806aee26efe08e8dc700835b44a66'},\n",
       " 'mark': 'rect',\n",
       " 'encoding': {'x': {'type': 'nominal', 'field': 'trait'},\n",
       "  'y': {'type': 'nominal', 'field': 'veg'}},\n",
       " 'transform': [{'filter': \"((datum.trait === 'Green') && (datum.veg === 'Corn'))\"}],\n",
       " '$schema': 'https://vega.github.io/schema/vega-lite/v4.8.1.json',\n",
       " 'datasets': {'data-28c806aee26efe08e8dc700835b44a66': [{'veg': '1_Corn',\n",
       "    'trait': 'a_Green',\n",
       "    'votes': 6},\n",
       "   {'veg': '2_Squash', 'trait': 'a_Green', 'votes': 8},\n",
       "   {'veg': '3_Brussel sprouts', 'trait': 'a_Green', 'votes': 10},\n",
       "   {'veg': '4_Green beans', 'trait': 'a_Green', 'votes': 20},\n",
       "   {'veg': '5_Peas', 'trait': 'a_Green', 'votes': 23},\n",
       "   {'veg': '1_Corn', 'trait': 'b_Yellow', 'votes': 29},\n",
       "   {'veg': '2_Squash', 'trait': 'b_Yellow', 'votes': 27},\n",
       "   {'veg': '3_Brussel sprouts', 'trait': 'b_Yellow', 'votes': 21},\n",
       "   {'veg': '4_Green beans', 'trait': 'b_Yellow', 'votes': 17},\n",
       "   {'veg': '5_Peas', 'trait': 'b_Yellow', 'votes': 5},\n",
       "   {'veg': '1_Corn', 'trait': 'c_Cheap', 'votes': 18},\n",
       "   {'veg': '2_Squash', 'trait': 'c_Cheap', 'votes': 17},\n",
       "   {'veg': '3_Brussel sprouts', 'trait': 'c_Cheap', 'votes': 16},\n",
       "   {'veg': '4_Green beans', 'trait': 'c_Cheap', 'votes': 16},\n",
       "   {'veg': '5_Peas', 'trait': 'c_Cheap', 'votes': 15},\n",
       "   {'veg': '1_Corn', 'trait': 'd_Tasty', 'votes': 30},\n",
       "   {'veg': '2_Squash', 'trait': 'd_Tasty', 'votes': 13},\n",
       "   {'veg': '3_Brussel sprouts', 'trait': 'd_Tasty', 'votes': 4},\n",
       "   {'veg': '4_Green beans', 'trait': 'd_Tasty', 'votes': 9},\n",
       "   {'veg': '5_Peas', 'trait': 'd_Tasty', 'votes': 19},\n",
       "   {'veg': '1_Corn', 'trait': 'e_Gross', 'votes': 7},\n",
       "   {'veg': '2_Squash', 'trait': 'e_Gross', 'votes': 11},\n",
       "   {'veg': '3_Brussel sprouts', 'trait': 'e_Gross', 'votes': 19},\n",
       "   {'veg': '4_Green beans', 'trait': 'e_Gross', 'votes': 7},\n",
       "   {'veg': '5_Peas', 'trait': 'e_Gross', 'votes': 2}]}}"
      ]
     },
     "execution_count": 12,
     "metadata": {},
     "output_type": "execute_result"
    }
   ],
   "source": [
    "one_square_heatmap.to_dict()"
   ]
  },
  {
   "cell_type": "markdown",
   "metadata": {},
   "source": [
    "## Other visual encodings\n",
    "\n",
    "Let's start generating other alternative visual encodings for the data that will be better suited for particular comparisons we're trying to make easy for the audience.\n",
    "\n",
    "### Circle with size variation\n",
    "\n",
    "**Note that now we're specifying the variable types**, in this case so Altair will give us a categorical (nominal) color scheme instead of ordinal. **It's a good idea to always specify the data types!**\n",
    "\n",
    "[Encoding data types](https://altair-viz.github.io/user_guide/encoding.html#encoding-data-types)\n",
    "\n",
    "|Data Type|Shorthand Code|Description\n",
    "|---|---|---\n",
    "|quantitative|Q|a continuous real-valued quantity\n",
    "|ordinal|O|a discrete ordered quantity\n",
    "|nominal|N|a discrete unordered category\n",
    "|temporal|T|a time or date value\n",
    "|geojson|G|a geographic shape\n",
    "\n",
    "**Try switching the color variable (encoding data) type from \"nominal\" to \"ordinal\" and see what changes.**\n"
   ]
  },
  {
   "cell_type": "code",
   "execution_count": 57,
   "metadata": {},
   "outputs": [
    {
     "data": {
      "text/html": [
       "\n",
       "<div id=\"altair-viz-11b2c13040b041d1a1044d37cc371b06\"></div>\n",
       "<script type=\"text/javascript\">\n",
       "  (function(spec, embedOpt){\n",
       "    let outputDiv = document.currentScript.previousElementSibling;\n",
       "    if (outputDiv.id !== \"altair-viz-11b2c13040b041d1a1044d37cc371b06\") {\n",
       "      outputDiv = document.getElementById(\"altair-viz-11b2c13040b041d1a1044d37cc371b06\");\n",
       "    }\n",
       "    const paths = {\n",
       "      \"vega\": \"https://cdn.jsdelivr.net/npm//vega@5?noext\",\n",
       "      \"vega-lib\": \"https://cdn.jsdelivr.net/npm//vega-lib?noext\",\n",
       "      \"vega-lite\": \"https://cdn.jsdelivr.net/npm//vega-lite@4.8.1?noext\",\n",
       "      \"vega-embed\": \"https://cdn.jsdelivr.net/npm//vega-embed@6?noext\",\n",
       "    };\n",
       "\n",
       "    function loadScript(lib) {\n",
       "      return new Promise(function(resolve, reject) {\n",
       "        var s = document.createElement('script');\n",
       "        s.src = paths[lib];\n",
       "        s.async = true;\n",
       "        s.onload = () => resolve(paths[lib]);\n",
       "        s.onerror = () => reject(`Error loading script: ${paths[lib]}`);\n",
       "        document.getElementsByTagName(\"head\")[0].appendChild(s);\n",
       "      });\n",
       "    }\n",
       "\n",
       "    function showError(err) {\n",
       "      outputDiv.innerHTML = `<div class=\"error\" style=\"color:red;\">${err}</div>`;\n",
       "      throw err;\n",
       "    }\n",
       "\n",
       "    function displayChart(vegaEmbed) {\n",
       "      vegaEmbed(outputDiv, spec, embedOpt)\n",
       "        .catch(err => showError(`Javascript Error: ${err.message}<br>This usually means there's a typo in your chart specification. See the javascript console for the full traceback.`));\n",
       "    }\n",
       "\n",
       "    if(typeof define === \"function\" && define.amd) {\n",
       "      requirejs.config({paths});\n",
       "      require([\"vega-embed\"], displayChart, err => showError(`Error loading script: ${err.message}`));\n",
       "    } else if (typeof vegaEmbed === \"function\") {\n",
       "      displayChart(vegaEmbed);\n",
       "    } else {\n",
       "      loadScript(\"vega\")\n",
       "        .then(() => loadScript(\"vega-lite\"))\n",
       "        .then(() => loadScript(\"vega-embed\"))\n",
       "        .catch(showError)\n",
       "        .then(() => displayChart(vegaEmbed));\n",
       "    }\n",
       "  })({\"config\": {\"view\": {\"continuousWidth\": 400, \"continuousHeight\": 300}}, \"data\": {\"name\": \"data-39f9d319c3f1fa0701a2f2e8a04001de\"}, \"mark\": \"circle\", \"encoding\": {\"color\": {\"type\": \"nominal\", \"field\": \"trait\"}, \"size\": {\"type\": \"quantitative\", \"field\": \"votes\"}, \"x\": {\"type\": \"ordinal\", \"field\": \"trait\"}, \"y\": {\"type\": \"ordinal\", \"field\": \"veg\"}}, \"$schema\": \"https://vega.github.io/schema/vega-lite/v4.8.1.json\", \"datasets\": {\"data-39f9d319c3f1fa0701a2f2e8a04001de\": [{\"veg\": \"1_Corn\", \"trait\": \"1_Green\", \"votes\": 6}, {\"veg\": \"2_Squash\", \"trait\": \"1_Green\", \"votes\": 8}, {\"veg\": \"3_Brussel sprouts\", \"trait\": \"1_Green\", \"votes\": 10}, {\"veg\": \"4_Green beans\", \"trait\": \"1_Green\", \"votes\": 20}, {\"veg\": \"5_Peas\", \"trait\": \"1_Green\", \"votes\": 23}, {\"veg\": \"1_Corn\", \"trait\": \"2_Yellow\", \"votes\": 29}, {\"veg\": \"2_Squash\", \"trait\": \"2_Yellow\", \"votes\": 27}, {\"veg\": \"3_Brussel sprouts\", \"trait\": \"2_Yellow\", \"votes\": 21}, {\"veg\": \"4_Green beans\", \"trait\": \"2_Yellow\", \"votes\": 17}, {\"veg\": \"5_Peas\", \"trait\": \"2_Yellow\", \"votes\": 5}, {\"veg\": \"1_Corn\", \"trait\": \"3_Cheap\", \"votes\": 18}, {\"veg\": \"2_Squash\", \"trait\": \"3_Cheap\", \"votes\": 17}, {\"veg\": \"3_Brussel sprouts\", \"trait\": \"3_Cheap\", \"votes\": 16}, {\"veg\": \"4_Green beans\", \"trait\": \"3_Cheap\", \"votes\": 16}, {\"veg\": \"5_Peas\", \"trait\": \"3_Cheap\", \"votes\": 15}, {\"veg\": \"1_Corn\", \"trait\": \"4_Tasty\", \"votes\": 30}, {\"veg\": \"2_Squash\", \"trait\": \"4_Tasty\", \"votes\": 13}, {\"veg\": \"3_Brussel sprouts\", \"trait\": \"4_Tasty\", \"votes\": 4}, {\"veg\": \"4_Green beans\", \"trait\": \"4_Tasty\", \"votes\": 9}, {\"veg\": \"5_Peas\", \"trait\": \"4_Tasty\", \"votes\": 19}, {\"veg\": \"1_Corn\", \"trait\": \"5_Gross\", \"votes\": 7}, {\"veg\": \"2_Squash\", \"trait\": \"5_Gross\", \"votes\": 11}, {\"veg\": \"3_Brussel sprouts\", \"trait\": \"5_Gross\", \"votes\": 19}, {\"veg\": \"4_Green beans\", \"trait\": \"5_Gross\", \"votes\": 7}, {\"veg\": \"5_Peas\", \"trait\": \"5_Gross\", \"votes\": 2}]}}, {\"mode\": \"vega-lite\"});\n",
       "</script>"
      ],
      "text/plain": [
       "alt.Chart(...)"
      ]
     },
     "execution_count": 57,
     "metadata": {},
     "output_type": "execute_result"
    }
   ],
   "source": [
    "alt.Chart(df).mark_circle().encode(\n",
    "    x = 'trait:O',\n",
    "    y = 'veg:O',\n",
    "    color = 'trait:N',\n",
    "    size = 'votes:Q'\n",
    ")"
   ]
  },
  {
   "cell_type": "markdown",
   "metadata": {},
   "source": [
    "## Comparing summed levels with Stacked bars\n",
    "\n",
    "Stacked bars might be a reasonable visual representation if part of the main story is the overall sums within vegetables.\n",
    "\n",
    "*Note that it does, what to me seems like a strange ordering, putting the trait at the top of the legend at the end of the stacked bar...*"
   ]
  },
  {
   "cell_type": "code",
   "execution_count": 52,
   "metadata": {},
   "outputs": [
    {
     "data": {
      "text/html": [
       "\n",
       "<div id=\"altair-viz-b3be65f454cd4845afed16822818b332\"></div>\n",
       "<script type=\"text/javascript\">\n",
       "  (function(spec, embedOpt){\n",
       "    let outputDiv = document.currentScript.previousElementSibling;\n",
       "    if (outputDiv.id !== \"altair-viz-b3be65f454cd4845afed16822818b332\") {\n",
       "      outputDiv = document.getElementById(\"altair-viz-b3be65f454cd4845afed16822818b332\");\n",
       "    }\n",
       "    const paths = {\n",
       "      \"vega\": \"https://cdn.jsdelivr.net/npm//vega@5?noext\",\n",
       "      \"vega-lib\": \"https://cdn.jsdelivr.net/npm//vega-lib?noext\",\n",
       "      \"vega-lite\": \"https://cdn.jsdelivr.net/npm//vega-lite@4.8.1?noext\",\n",
       "      \"vega-embed\": \"https://cdn.jsdelivr.net/npm//vega-embed@6?noext\",\n",
       "    };\n",
       "\n",
       "    function loadScript(lib) {\n",
       "      return new Promise(function(resolve, reject) {\n",
       "        var s = document.createElement('script');\n",
       "        s.src = paths[lib];\n",
       "        s.async = true;\n",
       "        s.onload = () => resolve(paths[lib]);\n",
       "        s.onerror = () => reject(`Error loading script: ${paths[lib]}`);\n",
       "        document.getElementsByTagName(\"head\")[0].appendChild(s);\n",
       "      });\n",
       "    }\n",
       "\n",
       "    function showError(err) {\n",
       "      outputDiv.innerHTML = `<div class=\"error\" style=\"color:red;\">${err}</div>`;\n",
       "      throw err;\n",
       "    }\n",
       "\n",
       "    function displayChart(vegaEmbed) {\n",
       "      vegaEmbed(outputDiv, spec, embedOpt)\n",
       "        .catch(err => showError(`Javascript Error: ${err.message}<br>This usually means there's a typo in your chart specification. See the javascript console for the full traceback.`));\n",
       "    }\n",
       "\n",
       "    if(typeof define === \"function\" && define.amd) {\n",
       "      requirejs.config({paths});\n",
       "      require([\"vega-embed\"], displayChart, err => showError(`Error loading script: ${err.message}`));\n",
       "    } else if (typeof vegaEmbed === \"function\") {\n",
       "      displayChart(vegaEmbed);\n",
       "    } else {\n",
       "      loadScript(\"vega\")\n",
       "        .then(() => loadScript(\"vega-lite\"))\n",
       "        .then(() => loadScript(\"vega-embed\"))\n",
       "        .catch(showError)\n",
       "        .then(() => displayChart(vegaEmbed));\n",
       "    }\n",
       "  })({\"config\": {\"view\": {\"continuousWidth\": 400, \"continuousHeight\": 300}}, \"data\": {\"name\": \"data-39f9d319c3f1fa0701a2f2e8a04001de\"}, \"mark\": \"bar\", \"encoding\": {\"color\": {\"type\": \"nominal\", \"field\": \"trait\"}, \"x\": {\"type\": \"quantitative\", \"aggregate\": \"sum\", \"field\": \"votes\"}, \"y\": {\"type\": \"ordinal\", \"field\": \"veg\"}}, \"$schema\": \"https://vega.github.io/schema/vega-lite/v4.8.1.json\", \"datasets\": {\"data-39f9d319c3f1fa0701a2f2e8a04001de\": [{\"veg\": \"1_Corn\", \"trait\": \"1_Green\", \"votes\": 6}, {\"veg\": \"2_Squash\", \"trait\": \"1_Green\", \"votes\": 8}, {\"veg\": \"3_Brussel sprouts\", \"trait\": \"1_Green\", \"votes\": 10}, {\"veg\": \"4_Green beans\", \"trait\": \"1_Green\", \"votes\": 20}, {\"veg\": \"5_Peas\", \"trait\": \"1_Green\", \"votes\": 23}, {\"veg\": \"1_Corn\", \"trait\": \"2_Yellow\", \"votes\": 29}, {\"veg\": \"2_Squash\", \"trait\": \"2_Yellow\", \"votes\": 27}, {\"veg\": \"3_Brussel sprouts\", \"trait\": \"2_Yellow\", \"votes\": 21}, {\"veg\": \"4_Green beans\", \"trait\": \"2_Yellow\", \"votes\": 17}, {\"veg\": \"5_Peas\", \"trait\": \"2_Yellow\", \"votes\": 5}, {\"veg\": \"1_Corn\", \"trait\": \"3_Cheap\", \"votes\": 18}, {\"veg\": \"2_Squash\", \"trait\": \"3_Cheap\", \"votes\": 17}, {\"veg\": \"3_Brussel sprouts\", \"trait\": \"3_Cheap\", \"votes\": 16}, {\"veg\": \"4_Green beans\", \"trait\": \"3_Cheap\", \"votes\": 16}, {\"veg\": \"5_Peas\", \"trait\": \"3_Cheap\", \"votes\": 15}, {\"veg\": \"1_Corn\", \"trait\": \"4_Tasty\", \"votes\": 30}, {\"veg\": \"2_Squash\", \"trait\": \"4_Tasty\", \"votes\": 13}, {\"veg\": \"3_Brussel sprouts\", \"trait\": \"4_Tasty\", \"votes\": 4}, {\"veg\": \"4_Green beans\", \"trait\": \"4_Tasty\", \"votes\": 9}, {\"veg\": \"5_Peas\", \"trait\": \"4_Tasty\", \"votes\": 19}, {\"veg\": \"1_Corn\", \"trait\": \"5_Gross\", \"votes\": 7}, {\"veg\": \"2_Squash\", \"trait\": \"5_Gross\", \"votes\": 11}, {\"veg\": \"3_Brussel sprouts\", \"trait\": \"5_Gross\", \"votes\": 19}, {\"veg\": \"4_Green beans\", \"trait\": \"5_Gross\", \"votes\": 7}, {\"veg\": \"5_Peas\", \"trait\": \"5_Gross\", \"votes\": 2}]}}, {\"mode\": \"vega-lite\"});\n",
       "</script>"
      ],
      "text/plain": [
       "alt.Chart(...)"
      ]
     },
     "execution_count": 52,
     "metadata": {},
     "output_type": "execute_result"
    }
   ],
   "source": [
    "alt.Chart(df).mark_bar().encode(\n",
    "    x = 'sum(votes):Q',\n",
    "    y = 'veg:O',\n",
    "    color = 'trait:N'\n",
    ")"
   ]
  },
  {
   "cell_type": "markdown",
   "metadata": {},
   "source": [
    "---\n",
    "\n",
    "## EXERCISE 1\n",
    "\n",
    "Before we proceed, try making another stacked bar chart, but this time with \n",
    "\n",
    "- a vertical bar for each trait (with labels along the bottom), \n",
    "- each bar representing the sum of the votes within the trait, and \n",
    "- a different color for each vegetable.\n",
    "\n",
    "```\n",
    "alt.Chart(----).mark_----().encode(\n",
    "    x = ----,\n",
    "    y = ----,\n",
    "    color = ----\n",
    ")\n",
    "```\n",
    "\n",
    "- **Use the code above as a hint, but type instead of copy/paste** \n",
    "- **replace the dashes with correct code.**"
   ]
  },
  {
   "cell_type": "code",
   "execution_count": null,
   "metadata": {},
   "outputs": [],
   "source": []
  },
  {
   "cell_type": "markdown",
   "metadata": {},
   "source": [
    "---\n",
    "\n",
    "## Comparing within vegetable bars\n",
    "\n",
    "If we want people to be able to make comparisons across traits within each vegetable, say whether Yellow-ness or Tasty-ness is larger for Corn, we need to give them a common baseline.\n",
    "\n",
    "We can make what are sometimes called \"small multiples\" in Altair using `facet()` to specify that facets, or unique values, of a categorical variable should be split off and arranged along either rows or columns of the overall visualization. **Visuals shown within each facet are only the subset of the data corresponding to that category!**\n",
    "\n",
    "*Note that we could alternatively specified `row = 'veg:O'` right within the encoding instead of needing the `.facet()` section. The advantage of using `.facet()` is that you can make faceted views of more complicated charts.*"
   ]
  },
  {
   "cell_type": "code",
   "execution_count": 35,
   "metadata": {},
   "outputs": [
    {
     "data": {
      "text/html": [
       "\n",
       "<div id=\"altair-viz-d71e56423f3b438ea6a32ab71a712dc1\"></div>\n",
       "<script type=\"text/javascript\">\n",
       "  (function(spec, embedOpt){\n",
       "    let outputDiv = document.currentScript.previousElementSibling;\n",
       "    if (outputDiv.id !== \"altair-viz-d71e56423f3b438ea6a32ab71a712dc1\") {\n",
       "      outputDiv = document.getElementById(\"altair-viz-d71e56423f3b438ea6a32ab71a712dc1\");\n",
       "    }\n",
       "    const paths = {\n",
       "      \"vega\": \"https://cdn.jsdelivr.net/npm//vega@5?noext\",\n",
       "      \"vega-lib\": \"https://cdn.jsdelivr.net/npm//vega-lib?noext\",\n",
       "      \"vega-lite\": \"https://cdn.jsdelivr.net/npm//vega-lite@4.8.1?noext\",\n",
       "      \"vega-embed\": \"https://cdn.jsdelivr.net/npm//vega-embed@6?noext\",\n",
       "    };\n",
       "\n",
       "    function loadScript(lib) {\n",
       "      return new Promise(function(resolve, reject) {\n",
       "        var s = document.createElement('script');\n",
       "        s.src = paths[lib];\n",
       "        s.async = true;\n",
       "        s.onload = () => resolve(paths[lib]);\n",
       "        s.onerror = () => reject(`Error loading script: ${paths[lib]}`);\n",
       "        document.getElementsByTagName(\"head\")[0].appendChild(s);\n",
       "      });\n",
       "    }\n",
       "\n",
       "    function showError(err) {\n",
       "      outputDiv.innerHTML = `<div class=\"error\" style=\"color:red;\">${err}</div>`;\n",
       "      throw err;\n",
       "    }\n",
       "\n",
       "    function displayChart(vegaEmbed) {\n",
       "      vegaEmbed(outputDiv, spec, embedOpt)\n",
       "        .catch(err => showError(`Javascript Error: ${err.message}<br>This usually means there's a typo in your chart specification. See the javascript console for the full traceback.`));\n",
       "    }\n",
       "\n",
       "    if(typeof define === \"function\" && define.amd) {\n",
       "      requirejs.config({paths});\n",
       "      require([\"vega-embed\"], displayChart, err => showError(`Error loading script: ${err.message}`));\n",
       "    } else if (typeof vegaEmbed === \"function\") {\n",
       "      displayChart(vegaEmbed);\n",
       "    } else {\n",
       "      loadScript(\"vega\")\n",
       "        .then(() => loadScript(\"vega-lite\"))\n",
       "        .then(() => loadScript(\"vega-embed\"))\n",
       "        .catch(showError)\n",
       "        .then(() => displayChart(vegaEmbed));\n",
       "    }\n",
       "  })({\"config\": {\"view\": {\"continuousWidth\": 400, \"continuousHeight\": 300}}, \"data\": {\"name\": \"data-39f9d319c3f1fa0701a2f2e8a04001de\"}, \"facet\": {\"row\": {\"type\": \"ordinal\", \"field\": \"veg\"}}, \"spec\": {\"mark\": \"bar\", \"encoding\": {\"color\": {\"type\": \"nominal\", \"field\": \"trait\"}, \"x\": {\"type\": \"ordinal\", \"field\": \"trait\"}, \"y\": {\"type\": \"quantitative\", \"aggregate\": \"sum\", \"field\": \"votes\"}}, \"height\": 80, \"width\": 160}, \"$schema\": \"https://vega.github.io/schema/vega-lite/v4.8.1.json\", \"datasets\": {\"data-39f9d319c3f1fa0701a2f2e8a04001de\": [{\"veg\": \"1_Corn\", \"trait\": \"1_Green\", \"votes\": 6}, {\"veg\": \"2_Squash\", \"trait\": \"1_Green\", \"votes\": 8}, {\"veg\": \"3_Brussel sprouts\", \"trait\": \"1_Green\", \"votes\": 10}, {\"veg\": \"4_Green beans\", \"trait\": \"1_Green\", \"votes\": 20}, {\"veg\": \"5_Peas\", \"trait\": \"1_Green\", \"votes\": 23}, {\"veg\": \"1_Corn\", \"trait\": \"2_Yellow\", \"votes\": 29}, {\"veg\": \"2_Squash\", \"trait\": \"2_Yellow\", \"votes\": 27}, {\"veg\": \"3_Brussel sprouts\", \"trait\": \"2_Yellow\", \"votes\": 21}, {\"veg\": \"4_Green beans\", \"trait\": \"2_Yellow\", \"votes\": 17}, {\"veg\": \"5_Peas\", \"trait\": \"2_Yellow\", \"votes\": 5}, {\"veg\": \"1_Corn\", \"trait\": \"3_Cheap\", \"votes\": 18}, {\"veg\": \"2_Squash\", \"trait\": \"3_Cheap\", \"votes\": 17}, {\"veg\": \"3_Brussel sprouts\", \"trait\": \"3_Cheap\", \"votes\": 16}, {\"veg\": \"4_Green beans\", \"trait\": \"3_Cheap\", \"votes\": 16}, {\"veg\": \"5_Peas\", \"trait\": \"3_Cheap\", \"votes\": 15}, {\"veg\": \"1_Corn\", \"trait\": \"4_Tasty\", \"votes\": 30}, {\"veg\": \"2_Squash\", \"trait\": \"4_Tasty\", \"votes\": 13}, {\"veg\": \"3_Brussel sprouts\", \"trait\": \"4_Tasty\", \"votes\": 4}, {\"veg\": \"4_Green beans\", \"trait\": \"4_Tasty\", \"votes\": 9}, {\"veg\": \"5_Peas\", \"trait\": \"4_Tasty\", \"votes\": 19}, {\"veg\": \"1_Corn\", \"trait\": \"5_Gross\", \"votes\": 7}, {\"veg\": \"2_Squash\", \"trait\": \"5_Gross\", \"votes\": 11}, {\"veg\": \"3_Brussel sprouts\", \"trait\": \"5_Gross\", \"votes\": 19}, {\"veg\": \"4_Green beans\", \"trait\": \"5_Gross\", \"votes\": 7}, {\"veg\": \"5_Peas\", \"trait\": \"5_Gross\", \"votes\": 2}]}}, {\"mode\": \"vega-lite\"});\n",
       "</script>"
      ],
      "text/plain": [
       "alt.FacetChart(...)"
      ]
     },
     "execution_count": 35,
     "metadata": {},
     "output_type": "execute_result"
    }
   ],
   "source": [
    "alt.Chart(df).mark_bar().encode(\n",
    "    x = 'trait:O',\n",
    "    y = 'sum(votes):Q',\n",
    "    color = 'trait:N'\n",
    ").properties(\n",
    "    width = 160,\n",
    "    height = 80\n",
    ").facet(\n",
    "    row='veg:O'\n",
    ")"
   ]
  },
  {
   "cell_type": "markdown",
   "metadata": {},
   "source": [
    "## Comparing within trait bars across vegetables\n",
    "\n",
    "The common baseline again gives us easy comparisons within a trait"
   ]
  },
  {
   "cell_type": "code",
   "execution_count": 36,
   "metadata": {},
   "outputs": [
    {
     "data": {
      "text/html": [
       "\n",
       "<div id=\"altair-viz-811843bc246d4304943a6465edc09dd9\"></div>\n",
       "<script type=\"text/javascript\">\n",
       "  (function(spec, embedOpt){\n",
       "    let outputDiv = document.currentScript.previousElementSibling;\n",
       "    if (outputDiv.id !== \"altair-viz-811843bc246d4304943a6465edc09dd9\") {\n",
       "      outputDiv = document.getElementById(\"altair-viz-811843bc246d4304943a6465edc09dd9\");\n",
       "    }\n",
       "    const paths = {\n",
       "      \"vega\": \"https://cdn.jsdelivr.net/npm//vega@5?noext\",\n",
       "      \"vega-lib\": \"https://cdn.jsdelivr.net/npm//vega-lib?noext\",\n",
       "      \"vega-lite\": \"https://cdn.jsdelivr.net/npm//vega-lite@4.8.1?noext\",\n",
       "      \"vega-embed\": \"https://cdn.jsdelivr.net/npm//vega-embed@6?noext\",\n",
       "    };\n",
       "\n",
       "    function loadScript(lib) {\n",
       "      return new Promise(function(resolve, reject) {\n",
       "        var s = document.createElement('script');\n",
       "        s.src = paths[lib];\n",
       "        s.async = true;\n",
       "        s.onload = () => resolve(paths[lib]);\n",
       "        s.onerror = () => reject(`Error loading script: ${paths[lib]}`);\n",
       "        document.getElementsByTagName(\"head\")[0].appendChild(s);\n",
       "      });\n",
       "    }\n",
       "\n",
       "    function showError(err) {\n",
       "      outputDiv.innerHTML = `<div class=\"error\" style=\"color:red;\">${err}</div>`;\n",
       "      throw err;\n",
       "    }\n",
       "\n",
       "    function displayChart(vegaEmbed) {\n",
       "      vegaEmbed(outputDiv, spec, embedOpt)\n",
       "        .catch(err => showError(`Javascript Error: ${err.message}<br>This usually means there's a typo in your chart specification. See the javascript console for the full traceback.`));\n",
       "    }\n",
       "\n",
       "    if(typeof define === \"function\" && define.amd) {\n",
       "      requirejs.config({paths});\n",
       "      require([\"vega-embed\"], displayChart, err => showError(`Error loading script: ${err.message}`));\n",
       "    } else if (typeof vegaEmbed === \"function\") {\n",
       "      displayChart(vegaEmbed);\n",
       "    } else {\n",
       "      loadScript(\"vega\")\n",
       "        .then(() => loadScript(\"vega-lite\"))\n",
       "        .then(() => loadScript(\"vega-embed\"))\n",
       "        .catch(showError)\n",
       "        .then(() => displayChart(vegaEmbed));\n",
       "    }\n",
       "  })({\"config\": {\"view\": {\"continuousWidth\": 400, \"continuousHeight\": 300}}, \"data\": {\"name\": \"data-39f9d319c3f1fa0701a2f2e8a04001de\"}, \"facet\": {\"column\": {\"type\": \"ordinal\", \"field\": \"trait\"}}, \"spec\": {\"mark\": \"bar\", \"encoding\": {\"color\": {\"type\": \"nominal\", \"field\": \"trait\"}, \"x\": {\"type\": \"quantitative\", \"aggregate\": \"sum\", \"field\": \"votes\"}, \"y\": {\"type\": \"ordinal\", \"field\": \"veg\"}}, \"height\": 120, \"width\": 80}, \"$schema\": \"https://vega.github.io/schema/vega-lite/v4.8.1.json\", \"datasets\": {\"data-39f9d319c3f1fa0701a2f2e8a04001de\": [{\"veg\": \"1_Corn\", \"trait\": \"1_Green\", \"votes\": 6}, {\"veg\": \"2_Squash\", \"trait\": \"1_Green\", \"votes\": 8}, {\"veg\": \"3_Brussel sprouts\", \"trait\": \"1_Green\", \"votes\": 10}, {\"veg\": \"4_Green beans\", \"trait\": \"1_Green\", \"votes\": 20}, {\"veg\": \"5_Peas\", \"trait\": \"1_Green\", \"votes\": 23}, {\"veg\": \"1_Corn\", \"trait\": \"2_Yellow\", \"votes\": 29}, {\"veg\": \"2_Squash\", \"trait\": \"2_Yellow\", \"votes\": 27}, {\"veg\": \"3_Brussel sprouts\", \"trait\": \"2_Yellow\", \"votes\": 21}, {\"veg\": \"4_Green beans\", \"trait\": \"2_Yellow\", \"votes\": 17}, {\"veg\": \"5_Peas\", \"trait\": \"2_Yellow\", \"votes\": 5}, {\"veg\": \"1_Corn\", \"trait\": \"3_Cheap\", \"votes\": 18}, {\"veg\": \"2_Squash\", \"trait\": \"3_Cheap\", \"votes\": 17}, {\"veg\": \"3_Brussel sprouts\", \"trait\": \"3_Cheap\", \"votes\": 16}, {\"veg\": \"4_Green beans\", \"trait\": \"3_Cheap\", \"votes\": 16}, {\"veg\": \"5_Peas\", \"trait\": \"3_Cheap\", \"votes\": 15}, {\"veg\": \"1_Corn\", \"trait\": \"4_Tasty\", \"votes\": 30}, {\"veg\": \"2_Squash\", \"trait\": \"4_Tasty\", \"votes\": 13}, {\"veg\": \"3_Brussel sprouts\", \"trait\": \"4_Tasty\", \"votes\": 4}, {\"veg\": \"4_Green beans\", \"trait\": \"4_Tasty\", \"votes\": 9}, {\"veg\": \"5_Peas\", \"trait\": \"4_Tasty\", \"votes\": 19}, {\"veg\": \"1_Corn\", \"trait\": \"5_Gross\", \"votes\": 7}, {\"veg\": \"2_Squash\", \"trait\": \"5_Gross\", \"votes\": 11}, {\"veg\": \"3_Brussel sprouts\", \"trait\": \"5_Gross\", \"votes\": 19}, {\"veg\": \"4_Green beans\", \"trait\": \"5_Gross\", \"votes\": 7}, {\"veg\": \"5_Peas\", \"trait\": \"5_Gross\", \"votes\": 2}]}}, {\"mode\": \"vega-lite\"});\n",
       "</script>"
      ],
      "text/plain": [
       "alt.FacetChart(...)"
      ]
     },
     "execution_count": 36,
     "metadata": {},
     "output_type": "execute_result"
    }
   ],
   "source": [
    "alt.Chart(df).mark_bar().encode(\n",
    "    x = 'sum(votes):Q',\n",
    "    y = 'veg:O',\n",
    "    color = 'trait:N'\n",
    ").properties(\n",
    "    width = 80,\n",
    "    height = 120\n",
    ").facet(\n",
    "    column='trait:O'\n",
    ")"
   ]
  },
  {
   "cell_type": "markdown",
   "metadata": {},
   "source": [
    "## Dot plot for the same comparison\n",
    "\n",
    "Another way to give the trait votes within a vegetable a common baseline is to make a dot plot. This works well as long as there isn't too much value overlap.\n",
    "\n",
    "- Default is grid lines on continuous scale axes and not on nominal or ordinal, but I want lines along each item to help guide the eye. [Top-level configuration docs](https://altair-viz.github.io/user_guide/configuration.html). \n",
    "- We also could have specified the circle size in the `encode()` section with `size = alt.value(150)`."
   ]
  },
  {
   "cell_type": "code",
   "execution_count": 63,
   "metadata": {},
   "outputs": [
    {
     "data": {
      "text/html": [
       "\n",
       "<div id=\"altair-viz-05303dc67ab44dba83918d577c2dcf00\"></div>\n",
       "<script type=\"text/javascript\">\n",
       "  (function(spec, embedOpt){\n",
       "    let outputDiv = document.currentScript.previousElementSibling;\n",
       "    if (outputDiv.id !== \"altair-viz-05303dc67ab44dba83918d577c2dcf00\") {\n",
       "      outputDiv = document.getElementById(\"altair-viz-05303dc67ab44dba83918d577c2dcf00\");\n",
       "    }\n",
       "    const paths = {\n",
       "      \"vega\": \"https://cdn.jsdelivr.net/npm//vega@5?noext\",\n",
       "      \"vega-lib\": \"https://cdn.jsdelivr.net/npm//vega-lib?noext\",\n",
       "      \"vega-lite\": \"https://cdn.jsdelivr.net/npm//vega-lite@4.8.1?noext\",\n",
       "      \"vega-embed\": \"https://cdn.jsdelivr.net/npm//vega-embed@6?noext\",\n",
       "    };\n",
       "\n",
       "    function loadScript(lib) {\n",
       "      return new Promise(function(resolve, reject) {\n",
       "        var s = document.createElement('script');\n",
       "        s.src = paths[lib];\n",
       "        s.async = true;\n",
       "        s.onload = () => resolve(paths[lib]);\n",
       "        s.onerror = () => reject(`Error loading script: ${paths[lib]}`);\n",
       "        document.getElementsByTagName(\"head\")[0].appendChild(s);\n",
       "      });\n",
       "    }\n",
       "\n",
       "    function showError(err) {\n",
       "      outputDiv.innerHTML = `<div class=\"error\" style=\"color:red;\">${err}</div>`;\n",
       "      throw err;\n",
       "    }\n",
       "\n",
       "    function displayChart(vegaEmbed) {\n",
       "      vegaEmbed(outputDiv, spec, embedOpt)\n",
       "        .catch(err => showError(`Javascript Error: ${err.message}<br>This usually means there's a typo in your chart specification. See the javascript console for the full traceback.`));\n",
       "    }\n",
       "\n",
       "    if(typeof define === \"function\" && define.amd) {\n",
       "      requirejs.config({paths});\n",
       "      require([\"vega-embed\"], displayChart, err => showError(`Error loading script: ${err.message}`));\n",
       "    } else if (typeof vegaEmbed === \"function\") {\n",
       "      displayChart(vegaEmbed);\n",
       "    } else {\n",
       "      loadScript(\"vega\")\n",
       "        .then(() => loadScript(\"vega-lite\"))\n",
       "        .then(() => loadScript(\"vega-embed\"))\n",
       "        .catch(showError)\n",
       "        .then(() => displayChart(vegaEmbed));\n",
       "    }\n",
       "  })({\"config\": {\"view\": {\"continuousWidth\": 400, \"continuousHeight\": 300}, \"axisX\": {\"grid\": false}, \"axisY\": {\"grid\": true}}, \"data\": {\"name\": \"data-39f9d319c3f1fa0701a2f2e8a04001de\"}, \"mark\": {\"type\": \"circle\", \"opacity\": 1.0, \"size\": 150}, \"encoding\": {\"color\": {\"type\": \"nominal\", \"field\": \"trait\"}, \"x\": {\"type\": \"quantitative\", \"field\": \"votes\"}, \"y\": {\"type\": \"ordinal\", \"field\": \"veg\"}}, \"$schema\": \"https://vega.github.io/schema/vega-lite/v4.8.1.json\", \"datasets\": {\"data-39f9d319c3f1fa0701a2f2e8a04001de\": [{\"veg\": \"1_Corn\", \"trait\": \"1_Green\", \"votes\": 6}, {\"veg\": \"2_Squash\", \"trait\": \"1_Green\", \"votes\": 8}, {\"veg\": \"3_Brussel sprouts\", \"trait\": \"1_Green\", \"votes\": 10}, {\"veg\": \"4_Green beans\", \"trait\": \"1_Green\", \"votes\": 20}, {\"veg\": \"5_Peas\", \"trait\": \"1_Green\", \"votes\": 23}, {\"veg\": \"1_Corn\", \"trait\": \"2_Yellow\", \"votes\": 29}, {\"veg\": \"2_Squash\", \"trait\": \"2_Yellow\", \"votes\": 27}, {\"veg\": \"3_Brussel sprouts\", \"trait\": \"2_Yellow\", \"votes\": 21}, {\"veg\": \"4_Green beans\", \"trait\": \"2_Yellow\", \"votes\": 17}, {\"veg\": \"5_Peas\", \"trait\": \"2_Yellow\", \"votes\": 5}, {\"veg\": \"1_Corn\", \"trait\": \"3_Cheap\", \"votes\": 18}, {\"veg\": \"2_Squash\", \"trait\": \"3_Cheap\", \"votes\": 17}, {\"veg\": \"3_Brussel sprouts\", \"trait\": \"3_Cheap\", \"votes\": 16}, {\"veg\": \"4_Green beans\", \"trait\": \"3_Cheap\", \"votes\": 16}, {\"veg\": \"5_Peas\", \"trait\": \"3_Cheap\", \"votes\": 15}, {\"veg\": \"1_Corn\", \"trait\": \"4_Tasty\", \"votes\": 30}, {\"veg\": \"2_Squash\", \"trait\": \"4_Tasty\", \"votes\": 13}, {\"veg\": \"3_Brussel sprouts\", \"trait\": \"4_Tasty\", \"votes\": 4}, {\"veg\": \"4_Green beans\", \"trait\": \"4_Tasty\", \"votes\": 9}, {\"veg\": \"5_Peas\", \"trait\": \"4_Tasty\", \"votes\": 19}, {\"veg\": \"1_Corn\", \"trait\": \"5_Gross\", \"votes\": 7}, {\"veg\": \"2_Squash\", \"trait\": \"5_Gross\", \"votes\": 11}, {\"veg\": \"3_Brussel sprouts\", \"trait\": \"5_Gross\", \"votes\": 19}, {\"veg\": \"4_Green beans\", \"trait\": \"5_Gross\", \"votes\": 7}, {\"veg\": \"5_Peas\", \"trait\": \"5_Gross\", \"votes\": 2}]}}, {\"mode\": \"vega-lite\"});\n",
       "</script>"
      ],
      "text/plain": [
       "alt.Chart(...)"
      ]
     },
     "execution_count": 63,
     "metadata": {},
     "output_type": "execute_result"
    }
   ],
   "source": [
    "alt.Chart(df).mark_circle(size=150,opacity=1.0).encode(\n",
    "    x = 'votes:Q',\n",
    "    y = 'veg:O',\n",
    "    color = 'trait:N'\n",
    ").configure_axisY(\n",
    "    grid=True\n",
    ").configure_axisX(\n",
    "    grid=False\n",
    ")"
   ]
  },
  {
   "cell_type": "markdown",
   "metadata": {},
   "source": [
    "## Layering dots and lines – guides the eye\n",
    "\n",
    "**It's not usually a great idea to connect categorical variables with lines, since there is nothing between the vegetables**, but let's try it here to see if it helps guide the eye.\n",
    "\n",
    "**Altair let's us use a `+` to layer individual charts and match their axes.**"
   ]
  },
  {
   "cell_type": "code",
   "execution_count": 64,
   "metadata": {},
   "outputs": [
    {
     "data": {
      "text/html": [
       "\n",
       "<div id=\"altair-viz-5dd3bafd404740bca7f8c9c182e48714\"></div>\n",
       "<script type=\"text/javascript\">\n",
       "  (function(spec, embedOpt){\n",
       "    let outputDiv = document.currentScript.previousElementSibling;\n",
       "    if (outputDiv.id !== \"altair-viz-5dd3bafd404740bca7f8c9c182e48714\") {\n",
       "      outputDiv = document.getElementById(\"altair-viz-5dd3bafd404740bca7f8c9c182e48714\");\n",
       "    }\n",
       "    const paths = {\n",
       "      \"vega\": \"https://cdn.jsdelivr.net/npm//vega@5?noext\",\n",
       "      \"vega-lib\": \"https://cdn.jsdelivr.net/npm//vega-lib?noext\",\n",
       "      \"vega-lite\": \"https://cdn.jsdelivr.net/npm//vega-lite@4.8.1?noext\",\n",
       "      \"vega-embed\": \"https://cdn.jsdelivr.net/npm//vega-embed@6?noext\",\n",
       "    };\n",
       "\n",
       "    function loadScript(lib) {\n",
       "      return new Promise(function(resolve, reject) {\n",
       "        var s = document.createElement('script');\n",
       "        s.src = paths[lib];\n",
       "        s.async = true;\n",
       "        s.onload = () => resolve(paths[lib]);\n",
       "        s.onerror = () => reject(`Error loading script: ${paths[lib]}`);\n",
       "        document.getElementsByTagName(\"head\")[0].appendChild(s);\n",
       "      });\n",
       "    }\n",
       "\n",
       "    function showError(err) {\n",
       "      outputDiv.innerHTML = `<div class=\"error\" style=\"color:red;\">${err}</div>`;\n",
       "      throw err;\n",
       "    }\n",
       "\n",
       "    function displayChart(vegaEmbed) {\n",
       "      vegaEmbed(outputDiv, spec, embedOpt)\n",
       "        .catch(err => showError(`Javascript Error: ${err.message}<br>This usually means there's a typo in your chart specification. See the javascript console for the full traceback.`));\n",
       "    }\n",
       "\n",
       "    if(typeof define === \"function\" && define.amd) {\n",
       "      requirejs.config({paths});\n",
       "      require([\"vega-embed\"], displayChart, err => showError(`Error loading script: ${err.message}`));\n",
       "    } else if (typeof vegaEmbed === \"function\") {\n",
       "      displayChart(vegaEmbed);\n",
       "    } else {\n",
       "      loadScript(\"vega\")\n",
       "        .then(() => loadScript(\"vega-lite\"))\n",
       "        .then(() => loadScript(\"vega-embed\"))\n",
       "        .catch(showError)\n",
       "        .then(() => displayChart(vegaEmbed));\n",
       "    }\n",
       "  })({\"config\": {\"view\": {\"continuousWidth\": 400, \"continuousHeight\": 300}}, \"layer\": [{\"mark\": \"line\", \"encoding\": {\"color\": {\"type\": \"nominal\", \"field\": \"trait\"}, \"x\": {\"type\": \"quantitative\", \"field\": \"votes\"}, \"y\": {\"type\": \"ordinal\", \"field\": \"veg\"}}}, {\"mark\": {\"type\": \"circle\", \"opacity\": 1.0, \"size\": 150}, \"encoding\": {\"color\": {\"type\": \"nominal\", \"field\": \"trait\"}, \"x\": {\"type\": \"quantitative\", \"field\": \"votes\"}, \"y\": {\"type\": \"ordinal\", \"field\": \"veg\"}}}], \"data\": {\"name\": \"data-39f9d319c3f1fa0701a2f2e8a04001de\"}, \"$schema\": \"https://vega.github.io/schema/vega-lite/v4.8.1.json\", \"datasets\": {\"data-39f9d319c3f1fa0701a2f2e8a04001de\": [{\"veg\": \"1_Corn\", \"trait\": \"1_Green\", \"votes\": 6}, {\"veg\": \"2_Squash\", \"trait\": \"1_Green\", \"votes\": 8}, {\"veg\": \"3_Brussel sprouts\", \"trait\": \"1_Green\", \"votes\": 10}, {\"veg\": \"4_Green beans\", \"trait\": \"1_Green\", \"votes\": 20}, {\"veg\": \"5_Peas\", \"trait\": \"1_Green\", \"votes\": 23}, {\"veg\": \"1_Corn\", \"trait\": \"2_Yellow\", \"votes\": 29}, {\"veg\": \"2_Squash\", \"trait\": \"2_Yellow\", \"votes\": 27}, {\"veg\": \"3_Brussel sprouts\", \"trait\": \"2_Yellow\", \"votes\": 21}, {\"veg\": \"4_Green beans\", \"trait\": \"2_Yellow\", \"votes\": 17}, {\"veg\": \"5_Peas\", \"trait\": \"2_Yellow\", \"votes\": 5}, {\"veg\": \"1_Corn\", \"trait\": \"3_Cheap\", \"votes\": 18}, {\"veg\": \"2_Squash\", \"trait\": \"3_Cheap\", \"votes\": 17}, {\"veg\": \"3_Brussel sprouts\", \"trait\": \"3_Cheap\", \"votes\": 16}, {\"veg\": \"4_Green beans\", \"trait\": \"3_Cheap\", \"votes\": 16}, {\"veg\": \"5_Peas\", \"trait\": \"3_Cheap\", \"votes\": 15}, {\"veg\": \"1_Corn\", \"trait\": \"4_Tasty\", \"votes\": 30}, {\"veg\": \"2_Squash\", \"trait\": \"4_Tasty\", \"votes\": 13}, {\"veg\": \"3_Brussel sprouts\", \"trait\": \"4_Tasty\", \"votes\": 4}, {\"veg\": \"4_Green beans\", \"trait\": \"4_Tasty\", \"votes\": 9}, {\"veg\": \"5_Peas\", \"trait\": \"4_Tasty\", \"votes\": 19}, {\"veg\": \"1_Corn\", \"trait\": \"5_Gross\", \"votes\": 7}, {\"veg\": \"2_Squash\", \"trait\": \"5_Gross\", \"votes\": 11}, {\"veg\": \"3_Brussel sprouts\", \"trait\": \"5_Gross\", \"votes\": 19}, {\"veg\": \"4_Green beans\", \"trait\": \"5_Gross\", \"votes\": 7}, {\"veg\": \"5_Peas\", \"trait\": \"5_Gross\", \"votes\": 2}]}}, {\"mode\": \"vega-lite\"});\n",
       "</script>"
      ],
      "text/plain": [
       "alt.LayerChart(...)"
      ]
     },
     "execution_count": 64,
     "metadata": {},
     "output_type": "execute_result"
    }
   ],
   "source": [
    "dots = alt.Chart(df).mark_circle(size=150,opacity=1.0).encode(\n",
    "    x = 'votes:Q',\n",
    "    y = 'veg:O',\n",
    "    color = 'trait:N'\n",
    ")\n",
    "\n",
    "lines = alt.Chart(df).mark_line().encode(\n",
    "    x = 'votes:Q',\n",
    "    y = 'veg:O',\n",
    "    color = 'trait:N'\n",
    ")\n",
    "\n",
    "lines + dots"
   ]
  },
  {
   "cell_type": "markdown",
   "metadata": {},
   "source": [
    "## Changing the size of the layered plot\n",
    "\n",
    "First, the aspect ratio of this plot makes it hard to follow some of the steep lines, so let's change the size and re-configure the axis grids at the same time. *We can configure the layered plot by putting them in parentheses and chaining on the properties*\n"
   ]
  },
  {
   "cell_type": "code",
   "execution_count": 65,
   "metadata": {},
   "outputs": [
    {
     "data": {
      "text/html": [
       "\n",
       "<div id=\"altair-viz-0332b9af411940eb96bd72580d5aef1f\"></div>\n",
       "<script type=\"text/javascript\">\n",
       "  (function(spec, embedOpt){\n",
       "    let outputDiv = document.currentScript.previousElementSibling;\n",
       "    if (outputDiv.id !== \"altair-viz-0332b9af411940eb96bd72580d5aef1f\") {\n",
       "      outputDiv = document.getElementById(\"altair-viz-0332b9af411940eb96bd72580d5aef1f\");\n",
       "    }\n",
       "    const paths = {\n",
       "      \"vega\": \"https://cdn.jsdelivr.net/npm//vega@5?noext\",\n",
       "      \"vega-lib\": \"https://cdn.jsdelivr.net/npm//vega-lib?noext\",\n",
       "      \"vega-lite\": \"https://cdn.jsdelivr.net/npm//vega-lite@4.8.1?noext\",\n",
       "      \"vega-embed\": \"https://cdn.jsdelivr.net/npm//vega-embed@6?noext\",\n",
       "    };\n",
       "\n",
       "    function loadScript(lib) {\n",
       "      return new Promise(function(resolve, reject) {\n",
       "        var s = document.createElement('script');\n",
       "        s.src = paths[lib];\n",
       "        s.async = true;\n",
       "        s.onload = () => resolve(paths[lib]);\n",
       "        s.onerror = () => reject(`Error loading script: ${paths[lib]}`);\n",
       "        document.getElementsByTagName(\"head\")[0].appendChild(s);\n",
       "      });\n",
       "    }\n",
       "\n",
       "    function showError(err) {\n",
       "      outputDiv.innerHTML = `<div class=\"error\" style=\"color:red;\">${err}</div>`;\n",
       "      throw err;\n",
       "    }\n",
       "\n",
       "    function displayChart(vegaEmbed) {\n",
       "      vegaEmbed(outputDiv, spec, embedOpt)\n",
       "        .catch(err => showError(`Javascript Error: ${err.message}<br>This usually means there's a typo in your chart specification. See the javascript console for the full traceback.`));\n",
       "    }\n",
       "\n",
       "    if(typeof define === \"function\" && define.amd) {\n",
       "      requirejs.config({paths});\n",
       "      require([\"vega-embed\"], displayChart, err => showError(`Error loading script: ${err.message}`));\n",
       "    } else if (typeof vegaEmbed === \"function\") {\n",
       "      displayChart(vegaEmbed);\n",
       "    } else {\n",
       "      loadScript(\"vega\")\n",
       "        .then(() => loadScript(\"vega-lite\"))\n",
       "        .then(() => loadScript(\"vega-embed\"))\n",
       "        .catch(showError)\n",
       "        .then(() => displayChart(vegaEmbed));\n",
       "    }\n",
       "  })({\"config\": {\"view\": {\"continuousWidth\": 400, \"continuousHeight\": 300}}, \"layer\": [{\"mark\": \"line\", \"encoding\": {\"color\": {\"type\": \"nominal\", \"field\": \"trait\"}, \"x\": {\"type\": \"quantitative\", \"field\": \"votes\"}, \"y\": {\"type\": \"ordinal\", \"field\": \"veg\"}}}, {\"mark\": {\"type\": \"circle\", \"opacity\": 1.0, \"size\": 150}, \"encoding\": {\"color\": {\"type\": \"nominal\", \"field\": \"trait\"}, \"x\": {\"type\": \"quantitative\", \"field\": \"votes\"}, \"y\": {\"type\": \"ordinal\", \"field\": \"veg\"}}}], \"data\": {\"name\": \"data-39f9d319c3f1fa0701a2f2e8a04001de\"}, \"height\": 200, \"width\": 200, \"$schema\": \"https://vega.github.io/schema/vega-lite/v4.8.1.json\", \"datasets\": {\"data-39f9d319c3f1fa0701a2f2e8a04001de\": [{\"veg\": \"1_Corn\", \"trait\": \"1_Green\", \"votes\": 6}, {\"veg\": \"2_Squash\", \"trait\": \"1_Green\", \"votes\": 8}, {\"veg\": \"3_Brussel sprouts\", \"trait\": \"1_Green\", \"votes\": 10}, {\"veg\": \"4_Green beans\", \"trait\": \"1_Green\", \"votes\": 20}, {\"veg\": \"5_Peas\", \"trait\": \"1_Green\", \"votes\": 23}, {\"veg\": \"1_Corn\", \"trait\": \"2_Yellow\", \"votes\": 29}, {\"veg\": \"2_Squash\", \"trait\": \"2_Yellow\", \"votes\": 27}, {\"veg\": \"3_Brussel sprouts\", \"trait\": \"2_Yellow\", \"votes\": 21}, {\"veg\": \"4_Green beans\", \"trait\": \"2_Yellow\", \"votes\": 17}, {\"veg\": \"5_Peas\", \"trait\": \"2_Yellow\", \"votes\": 5}, {\"veg\": \"1_Corn\", \"trait\": \"3_Cheap\", \"votes\": 18}, {\"veg\": \"2_Squash\", \"trait\": \"3_Cheap\", \"votes\": 17}, {\"veg\": \"3_Brussel sprouts\", \"trait\": \"3_Cheap\", \"votes\": 16}, {\"veg\": \"4_Green beans\", \"trait\": \"3_Cheap\", \"votes\": 16}, {\"veg\": \"5_Peas\", \"trait\": \"3_Cheap\", \"votes\": 15}, {\"veg\": \"1_Corn\", \"trait\": \"4_Tasty\", \"votes\": 30}, {\"veg\": \"2_Squash\", \"trait\": \"4_Tasty\", \"votes\": 13}, {\"veg\": \"3_Brussel sprouts\", \"trait\": \"4_Tasty\", \"votes\": 4}, {\"veg\": \"4_Green beans\", \"trait\": \"4_Tasty\", \"votes\": 9}, {\"veg\": \"5_Peas\", \"trait\": \"4_Tasty\", \"votes\": 19}, {\"veg\": \"1_Corn\", \"trait\": \"5_Gross\", \"votes\": 7}, {\"veg\": \"2_Squash\", \"trait\": \"5_Gross\", \"votes\": 11}, {\"veg\": \"3_Brussel sprouts\", \"trait\": \"5_Gross\", \"votes\": 19}, {\"veg\": \"4_Green beans\", \"trait\": \"5_Gross\", \"votes\": 7}, {\"veg\": \"5_Peas\", \"trait\": \"5_Gross\", \"votes\": 2}]}}, {\"mode\": \"vega-lite\"});\n",
       "</script>"
      ],
      "text/plain": [
       "alt.LayerChart(...)"
      ]
     },
     "execution_count": 65,
     "metadata": {},
     "output_type": "execute_result"
    }
   ],
   "source": [
    "dots = alt.Chart(df).mark_circle(size=150,opacity=1.0).encode(\n",
    "    x = 'votes:Q',\n",
    "    y = 'veg:O',\n",
    "    color = 'trait:N'\n",
    ")\n",
    "\n",
    "lines = alt.Chart(df).mark_line().encode(\n",
    "    x = 'votes:Q',\n",
    "    y = 'veg:O',\n",
    "    color = 'trait:N'\n",
    ")\n",
    "\n",
    "(lines + dots).properties(\n",
    "    width = 200,\n",
    "    height = 200\n",
    ")"
   ]
  },
  {
   "cell_type": "markdown",
   "metadata": {},
   "source": [
    "## Reducing repeated elements with a base plot\n",
    "\n",
    "We can see in the example above that the lines and dots plots are almost exactly the same. Altair lets us use that and just add the differences.\n",
    "\n",
    "- We'll define a base plot with all of the common elements, and \n",
    "- then add the differences to each right before layering"
   ]
  },
  {
   "cell_type": "code",
   "execution_count": 68,
   "metadata": {},
   "outputs": [
    {
     "data": {
      "text/html": [
       "\n",
       "<div id=\"altair-viz-985bfb97078341e8a8f127ae0788d35d\"></div>\n",
       "<script type=\"text/javascript\">\n",
       "  (function(spec, embedOpt){\n",
       "    let outputDiv = document.currentScript.previousElementSibling;\n",
       "    if (outputDiv.id !== \"altair-viz-985bfb97078341e8a8f127ae0788d35d\") {\n",
       "      outputDiv = document.getElementById(\"altair-viz-985bfb97078341e8a8f127ae0788d35d\");\n",
       "    }\n",
       "    const paths = {\n",
       "      \"vega\": \"https://cdn.jsdelivr.net/npm//vega@5?noext\",\n",
       "      \"vega-lib\": \"https://cdn.jsdelivr.net/npm//vega-lib?noext\",\n",
       "      \"vega-lite\": \"https://cdn.jsdelivr.net/npm//vega-lite@4.8.1?noext\",\n",
       "      \"vega-embed\": \"https://cdn.jsdelivr.net/npm//vega-embed@6?noext\",\n",
       "    };\n",
       "\n",
       "    function loadScript(lib) {\n",
       "      return new Promise(function(resolve, reject) {\n",
       "        var s = document.createElement('script');\n",
       "        s.src = paths[lib];\n",
       "        s.async = true;\n",
       "        s.onload = () => resolve(paths[lib]);\n",
       "        s.onerror = () => reject(`Error loading script: ${paths[lib]}`);\n",
       "        document.getElementsByTagName(\"head\")[0].appendChild(s);\n",
       "      });\n",
       "    }\n",
       "\n",
       "    function showError(err) {\n",
       "      outputDiv.innerHTML = `<div class=\"error\" style=\"color:red;\">${err}</div>`;\n",
       "      throw err;\n",
       "    }\n",
       "\n",
       "    function displayChart(vegaEmbed) {\n",
       "      vegaEmbed(outputDiv, spec, embedOpt)\n",
       "        .catch(err => showError(`Javascript Error: ${err.message}<br>This usually means there's a typo in your chart specification. See the javascript console for the full traceback.`));\n",
       "    }\n",
       "\n",
       "    if(typeof define === \"function\" && define.amd) {\n",
       "      requirejs.config({paths});\n",
       "      require([\"vega-embed\"], displayChart, err => showError(`Error loading script: ${err.message}`));\n",
       "    } else if (typeof vegaEmbed === \"function\") {\n",
       "      displayChart(vegaEmbed);\n",
       "    } else {\n",
       "      loadScript(\"vega\")\n",
       "        .then(() => loadScript(\"vega-lite\"))\n",
       "        .then(() => loadScript(\"vega-embed\"))\n",
       "        .catch(showError)\n",
       "        .then(() => displayChart(vegaEmbed));\n",
       "    }\n",
       "  })({\"config\": {\"view\": {\"continuousWidth\": 400, \"continuousHeight\": 300}}, \"layer\": [{\"mark\": \"line\", \"encoding\": {\"color\": {\"type\": \"nominal\", \"field\": \"trait\"}, \"x\": {\"type\": \"quantitative\", \"field\": \"votes\"}, \"y\": {\"type\": \"ordinal\", \"field\": \"veg\"}}, \"height\": 200, \"width\": 200}, {\"mark\": {\"type\": \"circle\", \"opacity\": 1.0, \"size\": 150}, \"encoding\": {\"color\": {\"type\": \"nominal\", \"field\": \"trait\"}, \"x\": {\"type\": \"quantitative\", \"field\": \"votes\"}, \"y\": {\"type\": \"ordinal\", \"field\": \"veg\"}}, \"height\": 200, \"width\": 200}], \"data\": {\"name\": \"data-39f9d319c3f1fa0701a2f2e8a04001de\"}, \"$schema\": \"https://vega.github.io/schema/vega-lite/v4.8.1.json\", \"datasets\": {\"data-39f9d319c3f1fa0701a2f2e8a04001de\": [{\"veg\": \"1_Corn\", \"trait\": \"1_Green\", \"votes\": 6}, {\"veg\": \"2_Squash\", \"trait\": \"1_Green\", \"votes\": 8}, {\"veg\": \"3_Brussel sprouts\", \"trait\": \"1_Green\", \"votes\": 10}, {\"veg\": \"4_Green beans\", \"trait\": \"1_Green\", \"votes\": 20}, {\"veg\": \"5_Peas\", \"trait\": \"1_Green\", \"votes\": 23}, {\"veg\": \"1_Corn\", \"trait\": \"2_Yellow\", \"votes\": 29}, {\"veg\": \"2_Squash\", \"trait\": \"2_Yellow\", \"votes\": 27}, {\"veg\": \"3_Brussel sprouts\", \"trait\": \"2_Yellow\", \"votes\": 21}, {\"veg\": \"4_Green beans\", \"trait\": \"2_Yellow\", \"votes\": 17}, {\"veg\": \"5_Peas\", \"trait\": \"2_Yellow\", \"votes\": 5}, {\"veg\": \"1_Corn\", \"trait\": \"3_Cheap\", \"votes\": 18}, {\"veg\": \"2_Squash\", \"trait\": \"3_Cheap\", \"votes\": 17}, {\"veg\": \"3_Brussel sprouts\", \"trait\": \"3_Cheap\", \"votes\": 16}, {\"veg\": \"4_Green beans\", \"trait\": \"3_Cheap\", \"votes\": 16}, {\"veg\": \"5_Peas\", \"trait\": \"3_Cheap\", \"votes\": 15}, {\"veg\": \"1_Corn\", \"trait\": \"4_Tasty\", \"votes\": 30}, {\"veg\": \"2_Squash\", \"trait\": \"4_Tasty\", \"votes\": 13}, {\"veg\": \"3_Brussel sprouts\", \"trait\": \"4_Tasty\", \"votes\": 4}, {\"veg\": \"4_Green beans\", \"trait\": \"4_Tasty\", \"votes\": 9}, {\"veg\": \"5_Peas\", \"trait\": \"4_Tasty\", \"votes\": 19}, {\"veg\": \"1_Corn\", \"trait\": \"5_Gross\", \"votes\": 7}, {\"veg\": \"2_Squash\", \"trait\": \"5_Gross\", \"votes\": 11}, {\"veg\": \"3_Brussel sprouts\", \"trait\": \"5_Gross\", \"votes\": 19}, {\"veg\": \"4_Green beans\", \"trait\": \"5_Gross\", \"votes\": 7}, {\"veg\": \"5_Peas\", \"trait\": \"5_Gross\", \"votes\": 2}]}}, {\"mode\": \"vega-lite\"});\n",
       "</script>"
      ],
      "text/plain": [
       "alt.LayerChart(...)"
      ]
     },
     "execution_count": 68,
     "metadata": {},
     "output_type": "execute_result"
    }
   ],
   "source": [
    "base = alt.Chart(df).encode(\n",
    "    x = 'votes:Q',\n",
    "    y = 'veg:O',\n",
    "    color = 'trait:N'\n",
    ").properties(\n",
    "    width = 200,\n",
    "    height = 200\n",
    ")\n",
    "\n",
    "base.mark_line() + base.mark_circle(size=150,opacity=1.0)"
   ]
  },
  {
   "cell_type": "markdown",
   "metadata": {},
   "source": [
    "---\n",
    "\n",
    "## EXERCISE 2\n",
    "\n",
    "Layer (superimpose) two visualizations:\n",
    "\n",
    "1. Vertical bar chart showing\n",
    "    - traits across the horizontal (bottom) axis\n",
    "    - mean votes (across all the vegetables) going up the vertical axis (bar height)\n",
    "    - `color = alt.value('lightgray')`\n",
    "1. Point plot of all individual votes\n",
    "    - use `mark_point()`\n",
    "    - traits again along the horizontal axis\n",
    "    - votes up the vertical axis\n",
    "    - color by trait\n",
    "    \n",
    "*Point plot should be on top of the bar chart!*"
   ]
  },
  {
   "cell_type": "code",
   "execution_count": null,
   "metadata": {},
   "outputs": [],
   "source": []
  },
  {
   "cell_type": "markdown",
   "metadata": {},
   "source": [
    "---\n",
    "\n",
    "# Saving to HTML files\n",
    "\n",
    "Saving an Altair visualization to an HTML file is very easy! As we'll see below, you just have to chain a `.save('filename.html')` command on to the end of the specification.\n",
    "\n",
    "**Unfortunately, there is one complication – if you've set the `alt.data_transformers.enable('json')` to avoid the MaxRowsError, you might want to turn that off before you save, so you can easily double-click to view your HTML file.** Or, you must at least understand that you'll need to run/have a web server to view your HTML visualizations"
   ]
  },
  {
   "cell_type": "markdown",
   "metadata": {},
   "source": [
    "## JSON Data Transformer – effect on saved files\n",
    "\n",
    "If you have set `alt.data_transformers.enable('json')` to avoid the MaxRowsError, Altair will automatically, behind the scenes, saves your data to a JSON file on your local filesystem (hard drive), and just reference that file name instead of embedding teh data in the JSON specification of the Vega-Lite visualization.\n",
    "\n",
    "When you save an HTML file from Altair, the JSON specification it saves along with the file is exactly like it was in your Jupyter Notebook. If you have enabled the 'json' data transformer, the HTML file will reference the same JSON file URL for your data instead of embedding all the data in the JSON (and thus the HTML file).\n",
    "\n",
    "The problem comes when you try to double-click on the HTML file from your hard drive to view it. \n",
    "\n",
    "- If the data is embedded, there is no problem – you will be able to see your static *or interactive* Vega-Lite chart that Altair has generated.\n",
    "- **If the Vega-Lite chart refers to the data through a local file (URL), the page won't display properly when you double-click on it! Grabbing a local file is considered a [CORS request](https://en.wikipedia.org/wiki/Cross-origin_resource_sharing) in this scenario, and so *for security reasons* it isn't executed.**\n",
    "\n",
    "### HTML files referring to local JSON files need a server\n",
    "\n",
    "What you have to do to view any HTML-embedded Vega-Lite visualization that refers to a local JSON file is to put it (and the JSON data file) on a web server and view it through your browser. If you don't have easy access to a web server, you can run a temporary one locally by going into the directory with the files in a terminal on the Mac, or in the Anaconda prompt on Windows, and type:\n",
    "\n",
    "`python -m http.server`\n",
    "\n",
    "That should print out a message saying:\n",
    "\n",
    "`Serving HTTP on 0.0.0.0 port 8000 (http://0.0.0.0:8000/) …`\n",
    "\n",
    "which means you can go to http://0.0.0.0:8000/ in your browser and see the current directory. Click on the HTML file you want to view and the visualization should work fine.\n"
   ]
  },
  {
   "cell_type": "markdown",
   "metadata": {},
   "source": [
    "## Changing back to default data transformer before saving HTML\n",
    "\n",
    "**If you want to be able to just double-click your HTML file and view your static or interactive visualization, your data will need to be embedded directly in the HTML file.** To do this, you'll need to switch the data transformer back to 'default' before saving.\n",
    "\n",
    "*Note: if you want to see the available transformers, you can use the `.names()` method. You can also write your own transformers, say to [save the JSON files to a sub-directory](https://altair-viz.github.io/user_guide/data_transformers.html#storing-json-data-in-a-separate-directory).*"
   ]
  },
  {
   "cell_type": "code",
   "execution_count": 20,
   "metadata": {},
   "outputs": [
    {
     "data": {
      "text/plain": [
       "['csv', 'data_server', 'data_server_proxied', 'default', 'json']"
      ]
     },
     "execution_count": 20,
     "metadata": {},
     "output_type": "execute_result"
    }
   ],
   "source": [
    "alt.data_transformers.names()"
   ]
  },
  {
   "cell_type": "code",
   "execution_count": 21,
   "metadata": {},
   "outputs": [
    {
     "data": {
      "text/plain": [
       "DataTransformerRegistry.enable('default')"
      ]
     },
     "execution_count": 21,
     "metadata": {},
     "output_type": "execute_result"
    }
   ],
   "source": [
    "alt.data_transformers.enable('default')"
   ]
  },
  {
   "cell_type": "markdown",
   "metadata": {},
   "source": [
    "---\n",
    "\n",
    "## Saving to HTML and JSON files\n",
    "\n",
    "Now, it's easy to save out an HTML file for the visualization, or the JSON specification. **These will get saved in the same directory as JupyterLab is running.**"
   ]
  },
  {
   "cell_type": "code",
   "execution_count": 22,
   "metadata": {},
   "outputs": [],
   "source": [
    "bars = alt.Chart(df).mark_bar().encode(\n",
    "    x = 'sum(value):Q',\n",
    "    y = 'Item:O',\n",
    "    color = 'Category:N'\n",
    ")\n",
    "\n",
    "bars.save('stacked_bars.html')\n",
    "bars.save('stacked_bars.json')"
   ]
  },
  {
   "cell_type": "markdown",
   "metadata": {},
   "source": [
    "## SVG and PNG require Selenium\n",
    "\n",
    "**You can always render your visualization in the notebook and use the circular `...` button next to the visualization to render to SVG or PNG.** This method uses the web browswer you're using for your notebook to render to the file. You can also do the same from the HTML you generated in the previous step.\n",
    "\n",
    "If you want to render an SVG or PNG as an image from a command, without displaying it in a notebook or web page first, you need to have the Python module selenium installed. Selenium is a \"headless\" browser, which is like creating a web page in code with no visual display.\n",
    "\n",
    "*If you changed the cell below to a Code cell and executed these, they would probably give you an error on these machines.*"
   ]
  },
  {
   "cell_type": "raw",
   "metadata": {},
   "source": [
    "bars.save('stacked_bars.svg')\n",
    "bars.save('stacked_bars.png')"
   ]
  },
  {
   "cell_type": "code",
   "execution_count": null,
   "metadata": {},
   "outputs": [],
   "source": []
  },
  {
   "cell_type": "markdown",
   "metadata": {},
   "source": [
    "---\n",
    "\n",
    "## EXTRA: tooltip and stacking order\n",
    "\n",
    "In the original stacked bar, the color stacking puts the first legend item furthest right, so **here we've added an \"order\"**. Also, a **tooltip** is easy to add."
   ]
  },
  {
   "cell_type": "code",
   "execution_count": 78,
   "metadata": {},
   "outputs": [
    {
     "data": {
      "text/html": [
       "\n",
       "<div id=\"altair-viz-1b755624fe5242b48e550158ed67f01e\"></div>\n",
       "<script type=\"text/javascript\">\n",
       "  (function(spec, embedOpt){\n",
       "    let outputDiv = document.currentScript.previousElementSibling;\n",
       "    if (outputDiv.id !== \"altair-viz-1b755624fe5242b48e550158ed67f01e\") {\n",
       "      outputDiv = document.getElementById(\"altair-viz-1b755624fe5242b48e550158ed67f01e\");\n",
       "    }\n",
       "    const paths = {\n",
       "      \"vega\": \"https://cdn.jsdelivr.net/npm//vega@5?noext\",\n",
       "      \"vega-lib\": \"https://cdn.jsdelivr.net/npm//vega-lib?noext\",\n",
       "      \"vega-lite\": \"https://cdn.jsdelivr.net/npm//vega-lite@4.8.1?noext\",\n",
       "      \"vega-embed\": \"https://cdn.jsdelivr.net/npm//vega-embed@6?noext\",\n",
       "    };\n",
       "\n",
       "    function loadScript(lib) {\n",
       "      return new Promise(function(resolve, reject) {\n",
       "        var s = document.createElement('script');\n",
       "        s.src = paths[lib];\n",
       "        s.async = true;\n",
       "        s.onload = () => resolve(paths[lib]);\n",
       "        s.onerror = () => reject(`Error loading script: ${paths[lib]}`);\n",
       "        document.getElementsByTagName(\"head\")[0].appendChild(s);\n",
       "      });\n",
       "    }\n",
       "\n",
       "    function showError(err) {\n",
       "      outputDiv.innerHTML = `<div class=\"error\" style=\"color:red;\">${err}</div>`;\n",
       "      throw err;\n",
       "    }\n",
       "\n",
       "    function displayChart(vegaEmbed) {\n",
       "      vegaEmbed(outputDiv, spec, embedOpt)\n",
       "        .catch(err => showError(`Javascript Error: ${err.message}<br>This usually means there's a typo in your chart specification. See the javascript console for the full traceback.`));\n",
       "    }\n",
       "\n",
       "    if(typeof define === \"function\" && define.amd) {\n",
       "      requirejs.config({paths});\n",
       "      require([\"vega-embed\"], displayChart, err => showError(`Error loading script: ${err.message}`));\n",
       "    } else if (typeof vegaEmbed === \"function\") {\n",
       "      displayChart(vegaEmbed);\n",
       "    } else {\n",
       "      loadScript(\"vega\")\n",
       "        .then(() => loadScript(\"vega-lite\"))\n",
       "        .then(() => loadScript(\"vega-embed\"))\n",
       "        .catch(showError)\n",
       "        .then(() => displayChart(vegaEmbed));\n",
       "    }\n",
       "  })({\"config\": {\"view\": {\"continuousWidth\": 400, \"continuousHeight\": 300}}, \"data\": {\"name\": \"data-39f9d319c3f1fa0701a2f2e8a04001de\"}, \"mark\": \"bar\", \"encoding\": {\"color\": {\"type\": \"nominal\", \"field\": \"trait\"}, \"order\": {\"type\": \"ordinal\", \"field\": \"trait\", \"sort\": \"ascending\"}, \"tooltip\": [{\"type\": \"nominal\", \"field\": \"veg\"}, {\"type\": \"nominal\", \"field\": \"trait\"}, {\"type\": \"quantitative\", \"aggregate\": \"sum\", \"field\": \"votes\"}], \"x\": {\"type\": \"quantitative\", \"aggregate\": \"sum\", \"field\": \"votes\"}, \"y\": {\"type\": \"ordinal\", \"field\": \"veg\"}}, \"height\": 150, \"$schema\": \"https://vega.github.io/schema/vega-lite/v4.8.1.json\", \"datasets\": {\"data-39f9d319c3f1fa0701a2f2e8a04001de\": [{\"veg\": \"1_Corn\", \"trait\": \"1_Green\", \"votes\": 6}, {\"veg\": \"2_Squash\", \"trait\": \"1_Green\", \"votes\": 8}, {\"veg\": \"3_Brussel sprouts\", \"trait\": \"1_Green\", \"votes\": 10}, {\"veg\": \"4_Green beans\", \"trait\": \"1_Green\", \"votes\": 20}, {\"veg\": \"5_Peas\", \"trait\": \"1_Green\", \"votes\": 23}, {\"veg\": \"1_Corn\", \"trait\": \"2_Yellow\", \"votes\": 29}, {\"veg\": \"2_Squash\", \"trait\": \"2_Yellow\", \"votes\": 27}, {\"veg\": \"3_Brussel sprouts\", \"trait\": \"2_Yellow\", \"votes\": 21}, {\"veg\": \"4_Green beans\", \"trait\": \"2_Yellow\", \"votes\": 17}, {\"veg\": \"5_Peas\", \"trait\": \"2_Yellow\", \"votes\": 5}, {\"veg\": \"1_Corn\", \"trait\": \"3_Cheap\", \"votes\": 18}, {\"veg\": \"2_Squash\", \"trait\": \"3_Cheap\", \"votes\": 17}, {\"veg\": \"3_Brussel sprouts\", \"trait\": \"3_Cheap\", \"votes\": 16}, {\"veg\": \"4_Green beans\", \"trait\": \"3_Cheap\", \"votes\": 16}, {\"veg\": \"5_Peas\", \"trait\": \"3_Cheap\", \"votes\": 15}, {\"veg\": \"1_Corn\", \"trait\": \"4_Tasty\", \"votes\": 30}, {\"veg\": \"2_Squash\", \"trait\": \"4_Tasty\", \"votes\": 13}, {\"veg\": \"3_Brussel sprouts\", \"trait\": \"4_Tasty\", \"votes\": 4}, {\"veg\": \"4_Green beans\", \"trait\": \"4_Tasty\", \"votes\": 9}, {\"veg\": \"5_Peas\", \"trait\": \"4_Tasty\", \"votes\": 19}, {\"veg\": \"1_Corn\", \"trait\": \"5_Gross\", \"votes\": 7}, {\"veg\": \"2_Squash\", \"trait\": \"5_Gross\", \"votes\": 11}, {\"veg\": \"3_Brussel sprouts\", \"trait\": \"5_Gross\", \"votes\": 19}, {\"veg\": \"4_Green beans\", \"trait\": \"5_Gross\", \"votes\": 7}, {\"veg\": \"5_Peas\", \"trait\": \"5_Gross\", \"votes\": 2}]}}, {\"mode\": \"vega-lite\"});\n",
       "</script>"
      ],
      "text/plain": [
       "alt.Chart(...)"
      ]
     },
     "execution_count": 78,
     "metadata": {},
     "output_type": "execute_result"
    }
   ],
   "source": [
    "alt.Chart(df).mark_bar().encode(\n",
    "    x = 'sum(votes):Q',\n",
    "    y = 'veg:O',\n",
    "    color = 'trait:N',\n",
    "    order = alt.Order('trait:O', sort='ascending'),\n",
    "    tooltip=['veg','trait','sum(votes)']\n",
    ").properties(height=150)"
   ]
  },
  {
   "cell_type": "markdown",
   "metadata": {},
   "source": [
    "## EXTRA: Changing the color scheme\n",
    "\n",
    "The stacked bar chart you created in the first exercise re-used the same colors for the items that we've been using for the categoryies. \n",
    "\n",
    "**It's not a great idea to have the same color meaning two different things in nearby visualizations. We can switch the set of colors Altair uses by specifying a `Scale()` as an extra argument to `Color()`.**\n",
    "\n",
    "*See the [Vega documentation](https://vega.github.io/vega/docs/schemes/) for a list of available color schemes*"
   ]
  },
  {
   "cell_type": "code",
   "execution_count": 75,
   "metadata": {},
   "outputs": [
    {
     "data": {
      "text/html": [
       "\n",
       "<div id=\"altair-viz-c61964067faf43068572219ea66a72f4\"></div>\n",
       "<script type=\"text/javascript\">\n",
       "  (function(spec, embedOpt){\n",
       "    let outputDiv = document.currentScript.previousElementSibling;\n",
       "    if (outputDiv.id !== \"altair-viz-c61964067faf43068572219ea66a72f4\") {\n",
       "      outputDiv = document.getElementById(\"altair-viz-c61964067faf43068572219ea66a72f4\");\n",
       "    }\n",
       "    const paths = {\n",
       "      \"vega\": \"https://cdn.jsdelivr.net/npm//vega@5?noext\",\n",
       "      \"vega-lib\": \"https://cdn.jsdelivr.net/npm//vega-lib?noext\",\n",
       "      \"vega-lite\": \"https://cdn.jsdelivr.net/npm//vega-lite@4.8.1?noext\",\n",
       "      \"vega-embed\": \"https://cdn.jsdelivr.net/npm//vega-embed@6?noext\",\n",
       "    };\n",
       "\n",
       "    function loadScript(lib) {\n",
       "      return new Promise(function(resolve, reject) {\n",
       "        var s = document.createElement('script');\n",
       "        s.src = paths[lib];\n",
       "        s.async = true;\n",
       "        s.onload = () => resolve(paths[lib]);\n",
       "        s.onerror = () => reject(`Error loading script: ${paths[lib]}`);\n",
       "        document.getElementsByTagName(\"head\")[0].appendChild(s);\n",
       "      });\n",
       "    }\n",
       "\n",
       "    function showError(err) {\n",
       "      outputDiv.innerHTML = `<div class=\"error\" style=\"color:red;\">${err}</div>`;\n",
       "      throw err;\n",
       "    }\n",
       "\n",
       "    function displayChart(vegaEmbed) {\n",
       "      vegaEmbed(outputDiv, spec, embedOpt)\n",
       "        .catch(err => showError(`Javascript Error: ${err.message}<br>This usually means there's a typo in your chart specification. See the javascript console for the full traceback.`));\n",
       "    }\n",
       "\n",
       "    if(typeof define === \"function\" && define.amd) {\n",
       "      requirejs.config({paths});\n",
       "      require([\"vega-embed\"], displayChart, err => showError(`Error loading script: ${err.message}`));\n",
       "    } else if (typeof vegaEmbed === \"function\") {\n",
       "      displayChart(vegaEmbed);\n",
       "    } else {\n",
       "      loadScript(\"vega\")\n",
       "        .then(() => loadScript(\"vega-lite\"))\n",
       "        .then(() => loadScript(\"vega-embed\"))\n",
       "        .catch(showError)\n",
       "        .then(() => displayChart(vegaEmbed));\n",
       "    }\n",
       "  })({\"config\": {\"view\": {\"continuousWidth\": 400, \"continuousHeight\": 300}}, \"data\": {\"name\": \"data-39f9d319c3f1fa0701a2f2e8a04001de\"}, \"mark\": \"bar\", \"encoding\": {\"color\": {\"type\": \"nominal\", \"field\": \"veg\", \"scale\": {\"scheme\": \"set2\"}}, \"x\": {\"type\": \"nominal\", \"field\": \"trait\"}, \"y\": {\"type\": \"quantitative\", \"aggregate\": \"sum\", \"field\": \"votes\"}}, \"width\": 150, \"$schema\": \"https://vega.github.io/schema/vega-lite/v4.8.1.json\", \"datasets\": {\"data-39f9d319c3f1fa0701a2f2e8a04001de\": [{\"veg\": \"1_Corn\", \"trait\": \"1_Green\", \"votes\": 6}, {\"veg\": \"2_Squash\", \"trait\": \"1_Green\", \"votes\": 8}, {\"veg\": \"3_Brussel sprouts\", \"trait\": \"1_Green\", \"votes\": 10}, {\"veg\": \"4_Green beans\", \"trait\": \"1_Green\", \"votes\": 20}, {\"veg\": \"5_Peas\", \"trait\": \"1_Green\", \"votes\": 23}, {\"veg\": \"1_Corn\", \"trait\": \"2_Yellow\", \"votes\": 29}, {\"veg\": \"2_Squash\", \"trait\": \"2_Yellow\", \"votes\": 27}, {\"veg\": \"3_Brussel sprouts\", \"trait\": \"2_Yellow\", \"votes\": 21}, {\"veg\": \"4_Green beans\", \"trait\": \"2_Yellow\", \"votes\": 17}, {\"veg\": \"5_Peas\", \"trait\": \"2_Yellow\", \"votes\": 5}, {\"veg\": \"1_Corn\", \"trait\": \"3_Cheap\", \"votes\": 18}, {\"veg\": \"2_Squash\", \"trait\": \"3_Cheap\", \"votes\": 17}, {\"veg\": \"3_Brussel sprouts\", \"trait\": \"3_Cheap\", \"votes\": 16}, {\"veg\": \"4_Green beans\", \"trait\": \"3_Cheap\", \"votes\": 16}, {\"veg\": \"5_Peas\", \"trait\": \"3_Cheap\", \"votes\": 15}, {\"veg\": \"1_Corn\", \"trait\": \"4_Tasty\", \"votes\": 30}, {\"veg\": \"2_Squash\", \"trait\": \"4_Tasty\", \"votes\": 13}, {\"veg\": \"3_Brussel sprouts\", \"trait\": \"4_Tasty\", \"votes\": 4}, {\"veg\": \"4_Green beans\", \"trait\": \"4_Tasty\", \"votes\": 9}, {\"veg\": \"5_Peas\", \"trait\": \"4_Tasty\", \"votes\": 19}, {\"veg\": \"1_Corn\", \"trait\": \"5_Gross\", \"votes\": 7}, {\"veg\": \"2_Squash\", \"trait\": \"5_Gross\", \"votes\": 11}, {\"veg\": \"3_Brussel sprouts\", \"trait\": \"5_Gross\", \"votes\": 19}, {\"veg\": \"4_Green beans\", \"trait\": \"5_Gross\", \"votes\": 7}, {\"veg\": \"5_Peas\", \"trait\": \"5_Gross\", \"votes\": 2}]}}, {\"mode\": \"vega-lite\"});\n",
       "</script>"
      ],
      "text/plain": [
       "alt.Chart(...)"
      ]
     },
     "execution_count": 75,
     "metadata": {},
     "output_type": "execute_result"
    }
   ],
   "source": [
    "alt.Chart(df).mark_bar().encode(\n",
    "    x = 'trait:N',\n",
    "    y = 'sum(votes):Q',\n",
    "    color = alt.Color('veg:N', scale=alt.Scale(scheme='set2'))\n",
    ").properties(width=150)"
   ]
  },
  {
   "cell_type": "code",
   "execution_count": null,
   "metadata": {},
   "outputs": [],
   "source": []
  }
 ],
 "metadata": {
  "kernelspec": {
   "display_name": "Python 3",
   "language": "python",
   "name": "python3"
  },
  "language_info": {
   "codemirror_mode": {
    "name": "ipython",
    "version": 3
   },
   "file_extension": ".py",
   "mimetype": "text/x-python",
   "name": "python",
   "nbconvert_exporter": "python",
   "pygments_lexer": "ipython3",
   "version": "3.8.5"
  }
 },
 "nbformat": 4,
 "nbformat_minor": 4
}
